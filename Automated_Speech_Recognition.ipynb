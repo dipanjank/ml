{
 "cells": [
  {
   "cell_type": "markdown",
   "metadata": {},
   "source": [
    "<h1 align=\"center\">Introduction to Automated Speech Recognition (ASR)</h1>"
   ]
  },
  {
   "cell_type": "markdown",
   "metadata": {},
   "source": [
    "Automated Speech Recognition is the problem of translating the time-domain acoustic signal to a string of words. "
   ]
  },
  {
   "cell_type": "markdown",
   "metadata": {},
   "source": [
    "## Application\n",
    "\n",
    "* Human-computer Interaction\n",
    "* Automatic Transcription"
   ]
  },
  {
   "cell_type": "markdown",
   "metadata": {},
   "source": [
    "<img src=\"speech_example.PNG\" width=\"600\" height=\"600\" />"
   ]
  },
  {
   "cell_type": "markdown",
   "metadata": {},
   "source": [
    "## Phonetic Alphabets"
   ]
  },
  {
   "cell_type": "markdown",
   "metadata": {},
   "source": [
    "Speech Recognition systems generally work with phonetic alphabets (phones). A Phone is a unit of speech.\n",
    "\n",
    "There are two common Phonetic Alphabet Systems in use:\n",
    "\n",
    "**Internation Phonetic Alphabet (IPA)** is a global standard with the goal of transcribing every spoken language in the world. \n",
    "\n",
    "<table>\n",
    "    <tr>\n",
    "        <td><img src=\"http://www.anenglishaccent.com/Images/IPA%20Chart.jpg\" width=\"400\" height=\"400\" /></td>\n",
    "\n",
    "        <td><img src=\"http://www.azlifa.com/wp-content/uploads/abduct.jpg\" width=\"400\" height=\"400\" /></td>\n",
    "    </tr>\n",
    "    \n",
    "    <tr>\n",
    "        <td>The IPA system for English</td><td>Sample of words transcribed in IPA</td>\n",
    "    </tr>        \n",
    "</table>"
   ]
  },
  {
   "cell_type": "markdown",
   "metadata": {},
   "source": [
    "**ARPAbet** is an ASCII representation of the North-American English part of IPA.\n",
    "\n",
    "<img src=\"https://s-media-cache-ak0.pinimg.com/564x/29/c7/61/29c7616bcc236cf639659d0cb8cc549c.jpg\" />"
   ]
  },
  {
   "cell_type": "code",
   "execution_count": null,
   "metadata": {
    "collapsed": true
   },
   "outputs": [],
   "source": []
  }
 ],
 "metadata": {
  "kernelspec": {
   "display_name": "Python 3",
   "language": "python",
   "name": "python3"
  },
  "language_info": {
   "codemirror_mode": {
    "name": "ipython",
    "version": 3
   },
   "file_extension": ".py",
   "mimetype": "text/x-python",
   "name": "python",
   "nbconvert_exporter": "python",
   "pygments_lexer": "ipython3",
   "version": "3.5.2"
  }
 },
 "nbformat": 4,
 "nbformat_minor": 2
}
