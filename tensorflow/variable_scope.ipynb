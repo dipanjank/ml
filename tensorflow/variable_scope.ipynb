{
 "cells": [
  {
   "cell_type": "markdown",
   "metadata": {
    "deletable": true,
    "editable": true
   },
   "source": [
    "<h1 align=\"center\">TensorFlow - Variable Scope</h1>"
   ]
  },
  {
   "cell_type": "code",
   "execution_count": 1,
   "metadata": {
    "collapsed": false,
    "deletable": true,
    "editable": true
   },
   "outputs": [
    {
     "name": "stdout",
     "output_type": "stream",
     "text": [
      "Populating the interactive namespace from numpy and matplotlib\n"
     ]
    }
   ],
   "source": [
    "import numpy as np\n",
    "import pandas as pd\n",
    "%pylab inline\n",
    "pylab.style.use('ggplot')"
   ]
  },
  {
   "cell_type": "markdown",
   "metadata": {
    "deletable": true,
    "editable": true
   },
   "source": [
    "The idea of variable scoping in TensorFlow is to be able to organize the names and initializations of variables that play the same role in a multilayer network. For example, consider an ANN with multiple hidden layers. All of them have a weight matrix $w$. Using variable scoping allows us to structure and initialize them in a systematic way. \n",
    "\n",
    "Variable Scope mechanism in TensorFlow consists of two main functions:\n",
    "\n",
    "* `tf.get_variable(<name>, <shape>, <initializer>)` Creates or returns a variable with a given name.\n",
    "* `tf.variable_scope(<scope_name>)` Manages namespaces for names passed to `tf.get_variable()`.\n"
   ]
  },
  {
   "cell_type": "code",
   "execution_count": 2,
   "metadata": {
    "collapsed": true,
    "deletable": true,
    "editable": true
   },
   "outputs": [],
   "source": [
    "import tensorflow as tf"
   ]
  },
  {
   "cell_type": "markdown",
   "metadata": {},
   "source": [
    "## AND Gate with TensorFlow"
   ]
  },
  {
   "cell_type": "code",
   "execution_count": 35,
   "metadata": {
    "collapsed": true
   },
   "outputs": [],
   "source": [
    "X_val = numpy.array([[0, 0], [0, 1], [1, 0], [1, 1]])\n",
    "y_val = np.atleast_2d(np.array([0, 0, 0, 1])).T"
   ]
  },
  {
   "cell_type": "code",
   "execution_count": 36,
   "metadata": {
    "collapsed": false
   },
   "outputs": [
    {
     "data": {
      "text/plain": [
       "array([[0, 0],\n",
       "       [0, 1],\n",
       "       [1, 0],\n",
       "       [1, 1]])"
      ]
     },
     "execution_count": 36,
     "metadata": {},
     "output_type": "execute_result"
    }
   ],
   "source": [
    "X_val"
   ]
  },
  {
   "cell_type": "code",
   "execution_count": 37,
   "metadata": {
    "collapsed": false
   },
   "outputs": [
    {
     "data": {
      "text/plain": [
       "array([[0],\n",
       "       [0],\n",
       "       [0],\n",
       "       [1]])"
      ]
     },
     "execution_count": 37,
     "metadata": {},
     "output_type": "execute_result"
    }
   ],
   "source": [
    "y_val"
   ]
  },
  {
   "cell_type": "code",
   "execution_count": 48,
   "metadata": {
    "collapsed": false,
    "deletable": true,
    "editable": true
   },
   "outputs": [
    {
     "name": "stdout",
     "output_type": "stream",
     "text": [
      "loss_function: 0.06303688880218354\n",
      "iteration 50\n",
      "   x1  x2  x1 and x2  output\n",
      "0   0   0          0       0\n",
      "1   0   1          0       0\n",
      "2   1   0          0       0\n",
      "3   1   1          1       1\n",
      "loss_function: 0.06250080476444264\n",
      "iteration 100\n",
      "   x1  x2  x1 and x2  output\n",
      "0   0   0          0       0\n",
      "1   0   1          0       0\n",
      "2   1   0          0       0\n",
      "3   1   1          1       1\n",
      "loss_function: 0.06250000123040157\n",
      "iteration 150\n",
      "   x1  x2  x1 and x2  output\n",
      "0   0   0          0       0\n",
      "1   0   1          0       0\n",
      "2   1   0          0       0\n",
      "3   1   1          1       1\n",
      "loss_function: 0.06250000000188181\n",
      "iteration 200\n",
      "   x1  x2  x1 and x2  output\n",
      "0   0   0          0       0\n",
      "1   0   1          0       0\n",
      "2   1   0          0       0\n",
      "3   1   1          1       1\n",
      "loss_function: 0.06250000000000289\n",
      "iteration 250\n",
      "   x1  x2  x1 and x2  output\n",
      "0   0   0          0       0\n",
      "1   0   1          0       0\n",
      "2   1   0          0       0\n",
      "3   1   1          1       1\n",
      "loss_function: 0.062499999999999986\n",
      "iteration 300\n",
      "   x1  x2  x1 and x2  output\n",
      "0   0   0          0       0\n",
      "1   0   1          0       0\n",
      "2   1   0          0       0\n",
      "3   1   1          1       1\n",
      "loss_function: 0.06249999999999999\n",
      "iteration 350\n",
      "   x1  x2  x1 and x2  output\n",
      "0   0   0          0       0\n",
      "1   0   1          0       0\n",
      "2   1   0          0       0\n",
      "3   1   1          1       1\n",
      "loss_function: 0.0625\n",
      "iteration 400\n",
      "   x1  x2  x1 and x2  output\n",
      "0   0   0          0       0\n",
      "1   0   1          0       0\n",
      "2   1   0          0       0\n",
      "3   1   1          1       1\n",
      "loss_function: 0.06250000000000001\n",
      "iteration 450\n",
      "   x1  x2  x1 and x2  output\n",
      "0   0   0          0       0\n",
      "1   0   1          0       0\n",
      "2   1   0          0       0\n",
      "3   1   1          1       1\n",
      "loss_function: 0.0625\n",
      "iteration 500\n",
      "   x1  x2  x1 and x2  output\n",
      "0   0   0          0       0\n",
      "1   0   1          0       0\n",
      "2   1   0          0       0\n",
      "3   1   1          1       1\n"
     ]
    }
   ],
   "source": [
    "tf.reset_default_graph()\n",
    "\n",
    "n_iter = 500\n",
    "threshold = 0.5\n",
    "\n",
    "with tf.variable_scope('inputs'):\n",
    "    X = tf.placeholder(name='X', shape=(4, 2), dtype=np.float64)\n",
    "    y = tf.placeholder(name='y', shape=y_val.shape, dtype=np.float64)\n",
    "\n",
    "with tf.variable_scope('weights'):\n",
    "    w = tf.get_variable(name='w', shape=(2, 1), dtype=np.float64, initializer=tf.truncated_normal_initializer())\n",
    "    b = tf.get_variable(name='b', shape=(1, 1), dtype=np.float64, initializer=tf.constant_initializer(1.0))\n",
    "\n",
    "with tf.variable_scope('train'):\n",
    "    output = tf.matmul(X, w) + b\n",
    "    loss_func = tf.reduce_mean(tf.squared_difference(y, output))\n",
    "    optimizer = tf.train.GradientDescentOptimizer(learning_rate=0.2)\n",
    "    train_op = optimizer.minimize(loss_func)\n",
    "\n",
    "init_op = tf.global_variables_initializer()\n",
    "\n",
    "with tf.Session() as sess:\n",
    "    sess.run(init_op)\n",
    "    feed_dict = {X: X_val, y: y_val}\n",
    "    \n",
    "    for i in range(1, n_iter+1):        \n",
    "        _, out_val = sess.run([train_op, output], feed_dict=feed_dict)        \n",
    "        out_val = np.where(out_val > threshold, 1, 0)\n",
    "        \n",
    "        if i % 50 == 0:\n",
    "            result = np.column_stack([X_val, y_val, out_val])\n",
    "            result_df = pd.DataFrame(result, columns=['x1', 'x2', 'x1 and x2', 'output'])\n",
    "            print('loss_function: {}'.format(loss_func.eval(session=sess, feed_dict=feed_dict)))\n",
    "            print('iteration {}\\n{}'.format(i, result_df))\n",
    "        \n"
   ]
  },
  {
   "cell_type": "markdown",
   "metadata": {},
   "source": [
    "## XOR Gate with TensorFlow"
   ]
  },
  {
   "cell_type": "code",
   "execution_count": 49,
   "metadata": {
    "collapsed": true
   },
   "outputs": [],
   "source": [
    "X_val = numpy.array([[0, 0], [0, 1], [1, 0], [1, 1]])\n",
    "y_val = np.atleast_2d(np.array([0, 1, 1, 0])).T"
   ]
  },
  {
   "cell_type": "code",
   "execution_count": 50,
   "metadata": {
    "collapsed": false
   },
   "outputs": [
    {
     "data": {
      "text/plain": [
       "array([[0, 0],\n",
       "       [0, 1],\n",
       "       [1, 0],\n",
       "       [1, 1]])"
      ]
     },
     "execution_count": 50,
     "metadata": {},
     "output_type": "execute_result"
    }
   ],
   "source": [
    "X_val"
   ]
  },
  {
   "cell_type": "code",
   "execution_count": 51,
   "metadata": {
    "collapsed": false
   },
   "outputs": [
    {
     "data": {
      "text/plain": [
       "array([[0],\n",
       "       [1],\n",
       "       [1],\n",
       "       [0]])"
      ]
     },
     "execution_count": 51,
     "metadata": {},
     "output_type": "execute_result"
    }
   ],
   "source": [
    "y_val"
   ]
  },
  {
   "cell_type": "code",
   "execution_count": 54,
   "metadata": {
    "collapsed": false
   },
   "outputs": [
    {
     "name": "stdout",
     "output_type": "stream",
     "text": [
      "loss_function: 0.04504346879290956\n",
      "iteration 50\n",
      "   x1  x2  x1 XOR x2  output\n",
      "0   0   0          0       0\n",
      "1   0   1          1       1\n",
      "2   1   0          1       1\n",
      "3   1   1          0       0\n",
      "loss_function: 0.0015679307923828969\n",
      "iteration 100\n",
      "   x1  x2  x1 XOR x2  output\n",
      "0   0   0          0       0\n",
      "1   0   1          1       1\n",
      "2   1   0          1       1\n",
      "3   1   1          0       0\n",
      "loss_function: 3.0473930392723917e-05\n",
      "iteration 150\n",
      "   x1  x2  x1 XOR x2  output\n",
      "0   0   0          0       0\n",
      "1   0   1          1       1\n",
      "2   1   0          1       1\n",
      "3   1   1          0       0\n",
      "loss_function: 5.439286448553145e-07\n",
      "iteration 200\n",
      "   x1  x2  x1 XOR x2  output\n",
      "0   0   0          0       0\n",
      "1   0   1          1       1\n",
      "2   1   0          1       1\n",
      "3   1   1          0       0\n",
      "loss_function: 9.622766639625834e-09\n",
      "iteration 250\n",
      "   x1  x2  x1 XOR x2  output\n",
      "0   0   0          0       0\n",
      "1   0   1          1       1\n",
      "2   1   0          1       1\n",
      "3   1   1          0       0\n",
      "loss_function: 1.7017005736613185e-10\n",
      "iteration 300\n",
      "   x1  x2  x1 XOR x2  output\n",
      "0   0   0          0       0\n",
      "1   0   1          1       1\n",
      "2   1   0          1       1\n",
      "3   1   1          0       0\n",
      "loss_function: 3.0098396611669797e-12\n",
      "iteration 350\n",
      "   x1  x2  x1 XOR x2  output\n",
      "0   0   0          0       0\n",
      "1   0   1          1       1\n",
      "2   1   0          1       1\n",
      "3   1   1          0       0\n",
      "loss_function: 5.324074539957869e-14\n",
      "iteration 400\n",
      "   x1  x2  x1 XOR x2  output\n",
      "0   0   0          0       0\n",
      "1   0   1          1       1\n",
      "2   1   0          1       1\n",
      "3   1   1          0       0\n",
      "loss_function: 9.418018052433826e-16\n",
      "iteration 450\n",
      "   x1  x2  x1 XOR x2  output\n",
      "0   0   0          0       0\n",
      "1   0   1          1       1\n",
      "2   1   0          1       1\n",
      "3   1   1          0       0\n",
      "loss_function: 1.6660178139677143e-17\n",
      "iteration 500\n",
      "   x1  x2  x1 XOR x2  output\n",
      "0   0   0          0       0\n",
      "1   0   1          1       1\n",
      "2   1   0          1       1\n",
      "3   1   1          0       0\n"
     ]
    }
   ],
   "source": [
    "tf.reset_default_graph()\n",
    "\n",
    "n_iter = 500\n",
    "threshold = 0.5\n",
    "\n",
    "def make_layer(name, x):\n",
    "    with tf.variable_scope(name, reuse=None):\n",
    "        if name == 'hidden':\n",
    "            w_shape = (2, 3)\n",
    "            b_shape = (4, 3)\n",
    "        elif name == 'output':\n",
    "            w_shape = (3, 1)\n",
    "            b_shape = (1, 1)\n",
    "        else:\n",
    "            assert False\n",
    "            \n",
    "        w = tf.get_variable(name='w', shape=w_shape, dtype=np.float64, initializer=tf.truncated_normal_initializer())\n",
    "        b = tf.get_variable(name='b', shape=b_shape, dtype=np.float64, initializer=tf.constant_initializer(1.0))\n",
    "\n",
    "        mm = tf.matmul(x, w) + b\n",
    "        return tf.sigmoid(mm) if name == 'hidden' else mm\n",
    "\n",
    "with tf.variable_scope('inputs'):\n",
    "    X = tf.placeholder(name='X', shape=(4, 2), dtype=np.float64)\n",
    "    y = tf.placeholder(name='y', shape=(4, 1), dtype=np.float64)\n",
    "\n",
    "hidden = make_layer('hidden', X)\n",
    "output = make_layer('output', hidden)\n",
    "\n",
    "with tf.variable_scope('train'):    \n",
    "    loss_func = tf.reduce_mean(tf.squared_difference(y, output))\n",
    "    optimizer = tf.train.GradientDescentOptimizer(learning_rate=0.2)\n",
    "    train_op = optimizer.minimize(loss_func)\n",
    "    \n",
    "init_op = tf.global_variables_initializer()\n",
    "\n",
    "with tf.Session() as sess:\n",
    "    sess.run(init_op)\n",
    "    feed_dict = {X: X_val, y: y_val}\n",
    "    \n",
    "    for i in range(1, n_iter+1):        \n",
    "        _, out_val = sess.run([train_op, output], feed_dict=feed_dict)        \n",
    "        out_val = np.where(out_val > threshold, 1, 0)\n",
    "        \n",
    "        if i % 50 == 0:\n",
    "            result = np.column_stack([X_val, y_val, out_val])\n",
    "            result_df = pd.DataFrame(result, columns=['x1', 'x2', 'x1 XOR x2', 'output'])\n",
    "            print('loss_function: {}'.format(loss_func.eval(session=sess, feed_dict=feed_dict)))\n",
    "            print('iteration {}\\n{}'.format(i, result_df))\n",
    "        \n"
   ]
  },
  {
   "cell_type": "code",
   "execution_count": null,
   "metadata": {
    "collapsed": true
   },
   "outputs": [],
   "source": []
  }
 ],
 "metadata": {
  "kernelspec": {
   "display_name": "Python 3",
   "language": "python",
   "name": "python3"
  },
  "language_info": {
   "codemirror_mode": {
    "name": "ipython",
    "version": 3
   },
   "file_extension": ".py",
   "mimetype": "text/x-python",
   "name": "python",
   "nbconvert_exporter": "python",
   "pygments_lexer": "ipython3",
   "version": "3.5.3"
  }
 },
 "nbformat": 4,
 "nbformat_minor": 2
}
