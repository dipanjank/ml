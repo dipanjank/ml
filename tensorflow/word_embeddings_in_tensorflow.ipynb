{
 "cells": [
  {
   "cell_type": "markdown",
   "metadata": {
    "deletable": true,
    "editable": true
   },
   "source": [
    "In this notebook, we will explore word embeddings based on the news articles in the Brown Corpus. Note that the content is heavily borrowed from the official tensorflow tutorial: https://www.tensorflow.org/tutorials/word2vec"
   ]
  },
  {
   "cell_type": "code",
   "execution_count": 2,
   "metadata": {
    "collapsed": false,
    "deletable": true,
    "editable": true
   },
   "outputs": [
    {
     "name": "stdout",
     "output_type": "stream",
     "text": [
      "Populating the interactive namespace from numpy and matplotlib\n"
     ]
    }
   ],
   "source": [
    "import numpy as np\n",
    "import tensorflow as tf\n",
    "%pylab inline\n",
    "pylab.style.use('ggplot')\n",
    "import pandas as pd"
   ]
  },
  {
   "cell_type": "markdown",
   "metadata": {
    "deletable": true,
    "editable": true
   },
   "source": [
    "# What are Word Embeddings?\n",
    "\n",
    "Vector space models (VSMs) represent (embed) words in a continuous vector space where semantically similar words are mapped to nearby points ('are embedded nearby each other'). VSMs have a long, rich history in NLP, but all methods depend in some way or another on the Distributional Hypothesis, which states that words that appear in the same contexts share semantic meaning. \n",
    "\n",
    "Predictive models directly try to predict a word from its neighbors in terms of learned small, dense embedding vectors (considered parameters of the model).\n",
    "\n",
    "Word2vec is a particularly computationally-efficient predictive model for learning word embeddings from raw text. It comes in two flavors, the Continuous Bag-of-Words model (CBOW) and the Skip-Gram model. \n",
    "\n",
    "Algorithmically, these models are similar, except that CBOW predicts target words (e.g. 'mat') from source context words ('the cat sits on the'), while the skip-gram does the inverse and predicts source context-words from the target words. This inversion might seem like an arbitrary choice, but statistically it has the effect that CBOW smoothes over a lot of the distributional information (by treating an entire context as one observation). For the most part, this turns out to be a useful thing for smaller datasets. However, skip-gram treats each context-target pair as a new observation, and this tends to do better when we have larger datasets. "
   ]
  },
  {
   "cell_type": "markdown",
   "metadata": {
    "deletable": true,
    "editable": true
   },
   "source": [
    "# Noise-Contrastive Training\n",
    "\n",
    "Neural probabilistic language models are traditionally trained using the maximum likelihood (ML) principle to maximize the probability of the next word (for \"target\") given the previous words (for \"history\") in terms of a softmax function.\n",
    "\n",
    "$$\\begin{align}\n",
    "P(w_t | h) &= \\text{softmax} (\\text{score} (w_t, h)) \\\\\n",
    "           &= \\frac{\\exp \\{ \\text{score} (w_t, h) \\} }\n",
    "             {\\sum_\\text{Word w' in Vocab} \\exp \\{ \\text{score} (w', h) \\} }\n",
    "\\end{align}$$\n",
    "\n",
    "\n",
    "This yields a properly normalized probabilistic model for language modeling. However this is very expensive, because we need to compute and normalize each probability using the score for all other words in the current context , at every training step.\n",
    "\n",
    "<img src=\"https://www.tensorflow.org/images/softmax-nplm.png\" width=\"400\", height=\"400\" />\n",
    "\n",
    "On the other hand, for feature learning in word2vec we do not need a full probabilistic model. The CBOW and skip-gram models are instead trained using a binary classification objective (logistic regression) to discriminate the real target words from imaginary (noise) words , in the same context. We illustrate this below for a CBOW model. For skip-gram the direction is simply inverted.\n",
    "\n",
    "<img src=\"https://www.tensorflow.org/images/nce-nplm.png\" width=\"400\", height=\"400\" />\n",
    "\n",
    "Mathematically, the loss function is:\n",
    "\n",
    "$$J_\\text{NEG} = \\log Q_\\theta(D=1 |w_t, h) +  k \\mathop{\\mathbb{E}}_{\\tilde w \\sim P_\\text{noise}} \\left[ \\log Q_\\theta(D = 0 |\\tilde w, h) \\right]$$\n",
    "    \n",
    "     \n",
    "Where $Q_{\\theta}(D=1 | w, h)$ is the binary logistic regression probability under the model of seeing the word in the context in the dataset , calculated in terms of the learned embedding vectors . In practice we approximate the expectation by drawing contrastive words from the noise distribution (i.e. we compute a Monte Carlo average).\n",
    "\n",
    "This objective is maximized when the model assigns high probabilities to the real words, and low probabilities to noise words. Technically, this is called Negative Sampling, and there is good mathematical motivation for using this loss function: The updates it proposes approximate the updates of the softmax function in the limit. But computationally it is especially appealing because computing the loss function now scales only with the number of noise words that we select, and not all words in the vocabulary. This makes it much faster to train. We will actually make use of the very similar noise-contrastive estimation (NCE) loss, for which TensorFlow has a handy helper function `tf.nn.nce_loss()`."
   ]
  },
  {
   "cell_type": "markdown",
   "metadata": {
    "deletable": true,
    "editable": true
   },
   "source": [
    "# Getting the Data"
   ]
  },
  {
   "cell_type": "code",
   "execution_count": 3,
   "metadata": {
    "collapsed": false,
    "deletable": true,
    "editable": true
   },
   "outputs": [
    {
     "name": "stdout",
     "output_type": "stream",
     "text": [
      "[nltk_data] Downloading package brown to\n",
      "[nltk_data]     C:\\Users\\Admin\\AppData\\Roaming\\nltk_data...\n",
      "[nltk_data]   Package brown is already up-to-date!\n"
     ]
    }
   ],
   "source": [
    "import nltk\n",
    "nltk.download('brown')\n",
    "from nltk.corpus import brown"
   ]
  },
  {
   "cell_type": "code",
   "execution_count": 4,
   "metadata": {
    "collapsed": false,
    "deletable": true,
    "editable": true
   },
   "outputs": [
    {
     "data": {
      "text/plain": [
       "<matplotlib.axes._subplots.AxesSubplot at 0x22f7cb239e8>"
      ]
     },
     "execution_count": 4,
     "metadata": {},
     "output_type": "execute_result"
    },
    {
     "data": {
      "image/png": "[encoded data removed]",
      "text/plain": [
       "<matplotlib.figure.Figure at 0x22f7cb222b0>"
      ]
     },
     "metadata": {},
     "output_type": "display_data"
    }
   ],
   "source": [
    "brown_words =  brown.words(categories=['news'])\n",
    "lcase_words = [w.lower() for w in brown_words]\n",
    "\n",
    "word_counts = pd.Series(lcase_words).value_counts()\n",
    "word_counts.nlargest(20).sort_values().plot(kind='barh')"
   ]
  },
  {
   "cell_type": "code",
   "execution_count": 5,
   "metadata": {
    "collapsed": false,
    "deletable": true,
    "editable": true
   },
   "outputs": [
    {
     "data": {
      "text/plain": [
       "13112"
      ]
     },
     "execution_count": 5,
     "metadata": {},
     "output_type": "execute_result"
    }
   ],
   "source": [
    "word_counts.count()"
   ]
  },
  {
   "cell_type": "code",
   "execution_count": 6,
   "metadata": {
    "collapsed": false,
    "deletable": true,
    "editable": true
   },
   "outputs": [
    {
     "data": {
      "text/plain": [
       "<matplotlib.axes._subplots.AxesSubplot at 0x22f7cbd4be0>"
      ]
     },
     "execution_count": 6,
     "metadata": {},
     "output_type": "execute_result"
    },
    {
     "data": {
      "image/png": "[encoded data removed]",
      "text/plain": [
       "<matplotlib.figure.Figure at 0x22f7c4ff550>"
      ]
     },
     "metadata": {},
     "output_type": "display_data"
    }
   ],
   "source": [
    "word_counts.value_counts().sort_values(ascending=False).plot()"
   ]
  },
  {
   "cell_type": "markdown",
   "metadata": {
    "deletable": true,
    "editable": true
   },
   "source": [
    "so, the majority of the words are rare. There are only a small number of words that appear > 5 times."
   ]
  },
  {
   "cell_type": "code",
   "execution_count": 7,
   "metadata": {
    "collapsed": false,
    "deletable": true,
    "editable": true
   },
   "outputs": [
    {
     "data": {
      "text/plain": [
       "2099"
      ]
     },
     "execution_count": 7,
     "metadata": {},
     "output_type": "execute_result"
    }
   ],
   "source": [
    "word_counts[word_counts > 5].count()"
   ]
  },
  {
   "cell_type": "markdown",
   "metadata": {
    "deletable": true,
    "editable": true
   },
   "source": [
    "# Preprocessing\n",
    "\n",
    "In the preprocessing step, we will convert all the words to lowercase and pack the sentences into a `pandas.Series`."
   ]
  },
  {
   "cell_type": "code",
   "execution_count": 8,
   "metadata": {
    "collapsed": false,
    "deletable": true,
    "editable": true
   },
   "outputs": [],
   "source": [
    "lcase_sents = []\n",
    "\n",
    "for s in brown.sents(categories=['news']):\n",
    "    lcase_sents.append([w.lower() for w in s])\n",
    "    \n",
    "lcase_sents = pd.Series(data=lcase_sents, name='sentences')"
   ]
  },
  {
   "cell_type": "code",
   "execution_count": 9,
   "metadata": {
    "collapsed": false,
    "deletable": true,
    "editable": true
   },
   "outputs": [
    {
     "data": {
      "text/plain": [
       "0    [the, fulton, county, grand, jury, said, frida...\n",
       "1    [the, jury, further, said, in, term-end, prese...\n",
       "2    [the, september-october, term, jury, had, been...\n",
       "3    [``, only, a, relative, handful, of, such, rep...\n",
       "4    [the, jury, said, it, did, find, that, many, o...\n",
       "Name: sentences, dtype: object"
      ]
     },
     "execution_count": 9,
     "metadata": {},
     "output_type": "execute_result"
    }
   ],
   "source": [
    "lcase_sents.head()"
   ]
  },
  {
   "cell_type": "markdown",
   "metadata": {
    "collapsed": true,
    "deletable": true,
    "editable": true
   },
   "source": [
    "The next step is to generate the (context, target) pairs from a given sentence for a given window size and skip size. "
   ]
  },
  {
   "cell_type": "code",
   "execution_count": 10,
   "metadata": {
    "collapsed": false,
    "deletable": true,
    "editable": true
   },
   "outputs": [],
   "source": [
    "def gen_context_target_pairs(sent, w_size=1, n_skip=1):\n",
    "    \"\"\"\n",
    "    Convert each sentence (a list of words) to a DataFrame with two columns, 'context' and 'target' for the \n",
    "    skip-gram model. The DataFrame has one row for each possible target.\n",
    "    \n",
    "    Target is always a single word. For a given target, we build the context by taking the \n",
    "    `w_size` sized window centered on target and skipping `n_skip` words.\n",
    "        \n",
    "    Assumes each sentence has > w_size words.\n",
    "    \"\"\"\n",
    "    w_length = 2 * w_size + 1\n",
    "    # our context must have at least 1 word\n",
    "    assert n_skip < w_length - 1\n",
    "    \n",
    "    # sent must have enough words\n",
    "    assert len(sent) > w_length\n",
    "    \n",
    "    recs = []\n",
    "    for i, w in enumerate(sent):\n",
    "        if i < w_size or i + w_size + 1 > len(sent):\n",
    "        # in this case, we don't have a full window\n",
    "            continue\n",
    "        else:\n",
    "            full_context = sent[i-w_size:i] + sent[i+1:i+w_size+1]\n",
    "            skip_context = random.choice(full_context, len(full_context) - n_skip)\n",
    "            recs.append([skip_context, w])\n",
    "            \n",
    "    rec_df = pd.DataFrame.from_records(recs, columns=['context', 'target'])\n",
    "    \n",
    "    return rec_df"
   ]
  },
  {
   "cell_type": "code",
   "execution_count": 11,
   "metadata": {
    "collapsed": false,
    "deletable": true,
    "editable": true
   },
   "outputs": [
    {
     "data": {
      "text/html": [
       "<div>\n",
       "<table border=\"1\" class=\"dataframe\">\n",
       "  <thead>\n",
       "    <tr style=\"text-align: right;\">\n",
       "      <th></th>\n",
       "      <th>context</th>\n",
       "      <th>target</th>\n",
       "    </tr>\n",
       "  </thead>\n",
       "  <tbody>\n",
       "    <tr>\n",
       "      <th>0</th>\n",
       "      <td>[the]</td>\n",
       "      <td>fulton</td>\n",
       "    </tr>\n",
       "    <tr>\n",
       "      <th>1</th>\n",
       "      <td>[fulton]</td>\n",
       "      <td>county</td>\n",
       "    </tr>\n",
       "    <tr>\n",
       "      <th>2</th>\n",
       "      <td>[jury]</td>\n",
       "      <td>grand</td>\n",
       "    </tr>\n",
       "    <tr>\n",
       "      <th>3</th>\n",
       "      <td>[said]</td>\n",
       "      <td>jury</td>\n",
       "    </tr>\n",
       "    <tr>\n",
       "      <th>4</th>\n",
       "      <td>[jury]</td>\n",
       "      <td>said</td>\n",
       "    </tr>\n",
       "    <tr>\n",
       "      <th>5</th>\n",
       "      <td>[said]</td>\n",
       "      <td>friday</td>\n",
       "    </tr>\n",
       "    <tr>\n",
       "      <th>6</th>\n",
       "      <td>[investigation]</td>\n",
       "      <td>an</td>\n",
       "    </tr>\n",
       "    <tr>\n",
       "      <th>7</th>\n",
       "      <td>[an]</td>\n",
       "      <td>investigation</td>\n",
       "    </tr>\n",
       "    <tr>\n",
       "      <th>8</th>\n",
       "      <td>[investigation]</td>\n",
       "      <td>of</td>\n",
       "    </tr>\n",
       "    <tr>\n",
       "      <th>9</th>\n",
       "      <td>[of]</td>\n",
       "      <td>atlanta's</td>\n",
       "    </tr>\n",
       "    <tr>\n",
       "      <th>10</th>\n",
       "      <td>[atlanta's]</td>\n",
       "      <td>recent</td>\n",
       "    </tr>\n",
       "    <tr>\n",
       "      <th>11</th>\n",
       "      <td>[recent]</td>\n",
       "      <td>primary</td>\n",
       "    </tr>\n",
       "    <tr>\n",
       "      <th>12</th>\n",
       "      <td>[primary]</td>\n",
       "      <td>election</td>\n",
       "    </tr>\n",
       "    <tr>\n",
       "      <th>13</th>\n",
       "      <td>[election]</td>\n",
       "      <td>produced</td>\n",
       "    </tr>\n",
       "    <tr>\n",
       "      <th>14</th>\n",
       "      <td>[no]</td>\n",
       "      <td>``</td>\n",
       "    </tr>\n",
       "    <tr>\n",
       "      <th>15</th>\n",
       "      <td>[evidence]</td>\n",
       "      <td>no</td>\n",
       "    </tr>\n",
       "    <tr>\n",
       "      <th>16</th>\n",
       "      <td>[no]</td>\n",
       "      <td>evidence</td>\n",
       "    </tr>\n",
       "    <tr>\n",
       "      <th>17</th>\n",
       "      <td>[that]</td>\n",
       "      <td>''</td>\n",
       "    </tr>\n",
       "    <tr>\n",
       "      <th>18</th>\n",
       "      <td>[any]</td>\n",
       "      <td>that</td>\n",
       "    </tr>\n",
       "    <tr>\n",
       "      <th>19</th>\n",
       "      <td>[that]</td>\n",
       "      <td>any</td>\n",
       "    </tr>\n",
       "    <tr>\n",
       "      <th>20</th>\n",
       "      <td>[any]</td>\n",
       "      <td>irregularities</td>\n",
       "    </tr>\n",
       "    <tr>\n",
       "      <th>21</th>\n",
       "      <td>[place]</td>\n",
       "      <td>took</td>\n",
       "    </tr>\n",
       "    <tr>\n",
       "      <th>22</th>\n",
       "      <td>[took]</td>\n",
       "      <td>place</td>\n",
       "    </tr>\n",
       "  </tbody>\n",
       "</table>\n",
       "</div>"
      ],
      "text/plain": [
       "            context          target\n",
       "0             [the]          fulton\n",
       "1          [fulton]          county\n",
       "2            [jury]           grand\n",
       "3            [said]            jury\n",
       "4            [jury]            said\n",
       "5            [said]          friday\n",
       "6   [investigation]              an\n",
       "7              [an]   investigation\n",
       "8   [investigation]              of\n",
       "9              [of]       atlanta's\n",
       "10      [atlanta's]          recent\n",
       "11         [recent]         primary\n",
       "12        [primary]        election\n",
       "13       [election]        produced\n",
       "14             [no]              ``\n",
       "15       [evidence]              no\n",
       "16             [no]        evidence\n",
       "17           [that]              ''\n",
       "18            [any]            that\n",
       "19           [that]             any\n",
       "20            [any]  irregularities\n",
       "21          [place]            took\n",
       "22           [took]           place"
      ]
     },
     "execution_count": 11,
     "metadata": {},
     "output_type": "execute_result"
    }
   ],
   "source": [
    "gen_context_target_pairs(lcase_sents[0])"
   ]
  },
  {
   "cell_type": "markdown",
   "metadata": {
    "deletable": true,
    "editable": true
   },
   "source": [
    "Next, we replace every word in the corpus by a unique integer ID. We also choose a minimum frequency threshold for word frequencies to filter out rare words."
   ]
  },
  {
   "cell_type": "code",
   "execution_count": 12,
   "metadata": {
    "collapsed": true,
    "deletable": true,
    "editable": true
   },
   "outputs": [],
   "source": [
    "vocab_cache = word_counts.reset_index().reset_index()\n",
    "vocab_cache.columns = ['word_id', 'word', 'count']"
   ]
  },
  {
   "cell_type": "code",
   "execution_count": 13,
   "metadata": {
    "collapsed": false,
    "deletable": true,
    "editable": true
   },
   "outputs": [
    {
     "data": {
      "text/html": [
       "<div>\n",
       "<table border=\"1\" class=\"dataframe\">\n",
       "  <thead>\n",
       "    <tr style=\"text-align: right;\">\n",
       "      <th></th>\n",
       "      <th>word_id</th>\n",
       "      <th>word</th>\n",
       "      <th>count</th>\n",
       "    </tr>\n",
       "  </thead>\n",
       "  <tbody>\n",
       "    <tr>\n",
       "      <th>0</th>\n",
       "      <td>0</td>\n",
       "      <td>the</td>\n",
       "      <td>6386</td>\n",
       "    </tr>\n",
       "    <tr>\n",
       "      <th>1</th>\n",
       "      <td>1</td>\n",
       "      <td>,</td>\n",
       "      <td>5188</td>\n",
       "    </tr>\n",
       "    <tr>\n",
       "      <th>2</th>\n",
       "      <td>2</td>\n",
       "      <td>.</td>\n",
       "      <td>4030</td>\n",
       "    </tr>\n",
       "    <tr>\n",
       "      <th>3</th>\n",
       "      <td>3</td>\n",
       "      <td>of</td>\n",
       "      <td>2861</td>\n",
       "    </tr>\n",
       "    <tr>\n",
       "      <th>4</th>\n",
       "      <td>4</td>\n",
       "      <td>and</td>\n",
       "      <td>2186</td>\n",
       "    </tr>\n",
       "  </tbody>\n",
       "</table>\n",
       "</div>"
      ],
      "text/plain": [
       "   word_id word  count\n",
       "0        0  the   6386\n",
       "1        1    ,   5188\n",
       "2        2    .   4030\n",
       "3        3   of   2861\n",
       "4        4  and   2186"
      ]
     },
     "execution_count": 13,
     "metadata": {},
     "output_type": "execute_result"
    }
   ],
   "source": [
    "vocab_cache.head()"
   ]
  },
  {
   "cell_type": "code",
   "execution_count": 14,
   "metadata": {
    "collapsed": false
   },
   "outputs": [],
   "source": [
    "def remove_rare_words(v_cache, min_freq):\n",
    "    \"\"\"Returns the subset of words in v_cache where count >= min_freq.\"\"\"\n",
    "    new_cache = v_cache.loc[v_cache['count'] >= min_freq, :]\n",
    "    return new_cache"
   ]
  },
  {
   "cell_type": "code",
   "execution_count": 15,
   "metadata": {
    "collapsed": true
   },
   "outputs": [],
   "source": [
    "def filter_by_vocabulary(sents, v_cache, w_size):\n",
    "    \"\"\"Filter list of sentences, `sent`, by words in `v_cache`.\n",
    "    \n",
    "    First remove all the words in each sentence that are not in `v_cache`. \n",
    "    Then keep sentences with more than 2*w_size+1 words.\n",
    "    \"\"\"\n",
    "    processed_sents = []\n",
    "    words_in_vocabulary = set(v_cache.word.values)\n",
    "    min_sent_len = 2 * w_size + 1\n",
    "    for s in sents:\n",
    "        new_s = [w for w in s if w in words_in_vocabulary]\n",
    "        \n",
    "        if len(new_s) > min_sent_len:\n",
    "            processed_sents.append(new_s)\n",
    "            \n",
    "    print('Number of sentences: before [%s], after [%s]' % (len(sents), len(processed_sents)))            \n",
    "    return processed_sents"
   ]
  },
  {
   "cell_type": "code",
   "execution_count": 16,
   "metadata": {
    "collapsed": true,
    "deletable": true,
    "editable": true
   },
   "outputs": [],
   "source": [
    "def map_to_int(context_pair_df, v_cache):\n",
    "    \"\"\"Take a context pair DataFrame and map the words to their integer IDs. The cache must be indexed by the word.\"\"\"\n",
    "    \n",
    "    mapped_target = context_pair_df.target.apply(lambda w: v_cache.loc[w, 'word_id'])   \n",
    "    mapped_context = context_pair_df.context.apply(lambda c: v_cache.loc[c, 'word_id'].values)   \n",
    "    return pd.concat({'target': mapped_target, 'context': mapped_context}, axis=1)"
   ]
  },
  {
   "cell_type": "code",
   "execution_count": 18,
   "metadata": {
    "collapsed": false,
    "deletable": true,
    "editable": true
   },
   "outputs": [],
   "source": [
    "from ipywidgets import FloatProgress\n",
    "from IPython.display import display\n",
    "\n",
    "def make_dataset(sents, v_cache, min_freq=5, w_size=1, n_skip=1):\n",
    "    \"\"\"\n",
    "    Make a \"dataset\" suitable for data input into the TensorFlow skip-gram model.\n",
    "    \n",
    "    The \"dataset\" is a pandas DataFrame with the 'target' and 'context' columns as described above. Both are integers.\n",
    "    The index is a global integer sentence sequence number.    \n",
    "    \"\"\"\n",
    "    \n",
    "    vocab_cache = remove_rare_words(v_cache, min_freq)\n",
    "    sents = filter_by_vocabulary(sents, vocab_cache, w_size)\n",
    "    vocab_cache = vocab_cache.set_index('word')\n",
    "    \n",
    "    pg = FloatProgress(min=1, max=len(sents), description='Preparing dataset...')\n",
    "    display(pg)\n",
    "    \n",
    "    dfs = []\n",
    "    \n",
    "    for sent in sents:        \n",
    "        word_df = gen_context_target_pairs(sent, w_size=w_size, n_skip=n_skip)\n",
    "        mapped_df = map_to_int(word_df, vocab_cache)\n",
    "        dfs.append(mapped_df)\n",
    "        pg.value += 1\n",
    "        \n",
    "    pg.bar_style = 'success'\n",
    "    pg.description = 'Done.'\n",
    "    \n",
    "    dfs = pd.concat(dfs, axis=0)\n",
    "    dfs.index = np.arange(0, len(dfs))\n",
    "    \n",
    "    return vocab_cache, dfs"
   ]
  },
  {
   "cell_type": "code",
   "execution_count": 19,
   "metadata": {
    "collapsed": false,
    "deletable": true,
    "editable": true
   },
   "outputs": [
    {
     "name": "stdout",
     "output_type": "stream",
     "text": [
      "Number of sentences: before [4623], after [4324]\n"
     ]
    },
    {
     "data": {
      "application/vnd.jupyter.widget-view+json": {
       "model_id": "69855ea9b76449eca9253ef32d816aae"
      }
     },
     "metadata": {},
     "output_type": "display_data"
    }
   ],
   "source": [
    "t_cache, dataset = make_dataset(lcase_sents, vocab_cache)"
   ]
  },
  {
   "cell_type": "code",
   "execution_count": 20,
   "metadata": {
    "collapsed": false,
    "deletable": true,
    "editable": true
   },
   "outputs": [
    {
     "data": {
      "text/html": [
       "<div>\n",
       "<table border=\"1\" class=\"dataframe\">\n",
       "  <thead>\n",
       "    <tr style=\"text-align: right;\">\n",
       "      <th></th>\n",
       "      <th>context</th>\n",
       "      <th>target</th>\n",
       "    </tr>\n",
       "  </thead>\n",
       "  <tbody>\n",
       "    <tr>\n",
       "      <th>0</th>\n",
       "      <td>[136]</td>\n",
       "      <td>816</td>\n",
       "    </tr>\n",
       "    <tr>\n",
       "      <th>1</th>\n",
       "      <td>[583]</td>\n",
       "      <td>136</td>\n",
       "    </tr>\n",
       "    <tr>\n",
       "      <th>2</th>\n",
       "      <td>[136]</td>\n",
       "      <td>583</td>\n",
       "    </tr>\n",
       "    <tr>\n",
       "      <th>3</th>\n",
       "      <td>[583]</td>\n",
       "      <td>193</td>\n",
       "    </tr>\n",
       "    <tr>\n",
       "      <th>4</th>\n",
       "      <td>[226]</td>\n",
       "      <td>23</td>\n",
       "    </tr>\n",
       "  </tbody>\n",
       "</table>\n",
       "</div>"
      ],
      "text/plain": [
       "  context  target\n",
       "0   [136]     816\n",
       "1   [583]     136\n",
       "2   [136]     583\n",
       "3   [583]     193\n",
       "4   [226]      23"
      ]
     },
     "execution_count": 20,
     "metadata": {},
     "output_type": "execute_result"
    }
   ],
   "source": [
    "dataset.head()"
   ]
  },
  {
   "cell_type": "markdown",
   "metadata": {
    "deletable": true,
    "editable": true
   },
   "source": [
    "# Build the TensorFlow Graph"
   ]
  },
  {
   "cell_type": "code",
   "execution_count": 21,
   "metadata": {
    "collapsed": false,
    "deletable": true,
    "editable": true
   },
   "outputs": [],
   "source": [
    "vocabulary_size = len(t_cache)\n",
    "embedding_size = 20\n",
    "batch_size = len(dataset)\n",
    "num_sampled = 10\n",
    "\n",
    "targets = dataset.target.values.astype(np.int32)\n",
    "contexts = np.atleast_2d(np.concatenate(dataset.context.values)).T.astype(np.int32)"
   ]
  },
  {
   "cell_type": "code",
   "execution_count": 25,
   "metadata": {
    "collapsed": false,
    "deletable": true,
    "editable": true
   },
   "outputs": [],
   "source": [
    "tf.reset_default_graph()\n",
    "\n",
    "embeddings = tf.Variable(\n",
    "    tf.random_uniform([vocabulary_size, embedding_size], -1.0, 1.0, \n",
    "                      dtype=np.float32, name='embeddings')\n",
    ")\n",
    "\n",
    "nce_weights = tf.Variable(\n",
    "  tf.truncated_normal([vocabulary_size, embedding_size],\n",
    "                      stddev=1.0 / np.sqrt(embedding_size),\n",
    "                      dtype=np.float32), name='nce_weights',\n",
    ")\n",
    "\n",
    "nce_biases = tf.Variable(tf.zeros([vocabulary_size], dtype=np.float32), name='nce_biases')\n",
    "\n",
    "# For skip-gram, inputs are context\n",
    "train_inputs = tf.placeholder(np.int32, shape=batch_size, name='train_inputs')\n",
    "\n",
    "# For skip-gram, labels are source\n",
    "train_labels = tf.placeholder(np.int32, shape=[batch_size, 1], name='train_labels')\n",
    "\n",
    "embed = tf.nn.embedding_lookup(embeddings, train_inputs, name='embedding_lookup')\n",
    "\n",
    "loss = tf.reduce_mean(\n",
    "  tf.nn.nce_loss(weights=nce_weights,\n",
    "                 biases=nce_biases,\n",
    "                 labels=train_labels,\n",
    "                 inputs=embed,\n",
    "                 num_sampled=num_sampled,\n",
    "                 num_classes=vocabulary_size), name='loss_function')\n",
    "\n",
    "optimizer = tf.train.AdamOptimizer(learning_rate=0.015)\n",
    "train_op = optimizer.minimize(loss)"
   ]
  },
  {
   "cell_type": "code",
   "execution_count": 32,
   "metadata": {
    "collapsed": false,
    "deletable": true,
    "editable": true
   },
   "outputs": [
    {
     "data": {
      "application/vnd.jupyter.widget-view+json": {
       "model_id": "d0c760a5d8b54a6aa5de7a3e988e6c77"
      }
     },
     "metadata": {},
     "output_type": "display_data"
    },
    {
     "name": "stdout",
     "output_type": "stream",
     "text": [
      "50 33.554\n",
      "100 38.0597\n",
      "150 56.9548\n",
      "200 46.7068\n",
      "250 51.9693\n",
      "300 17.7704\n",
      "350 18.1955\n",
      "400 14.4351\n",
      "450 21.9909\n",
      "500 10.3271\n",
      "550 5.60234\n",
      "600 25.8646\n",
      "650 24.9049\n",
      "700 38.2996\n",
      "750 13.3007\n",
      "800 13.6004\n",
      "850 16.1978\n",
      "900 14.9288\n",
      "950 5.34754\n",
      "1000 31.0527\n"
     ]
    },
    {
     "data": {
      "text/plain": [
       "<matplotlib.axes._subplots.AxesSubplot at 0x22f7fce14a8>"
      ]
     },
     "execution_count": 32,
     "metadata": {},
     "output_type": "execute_result"
    },
    {
     "data": {
      "image/png": "[encoded data removed]",
      "text/plain": [
       "<matplotlib.figure.Figure at 0x22f7cdc5978>"
      ]
     },
     "metadata": {},
     "output_type": "display_data"
    }
   ],
   "source": [
    "n_iters = 1000\n",
    "feed_dict = {train_inputs: targets, train_labels: contexts}\n",
    "\n",
    "train_pg = FloatProgress(min=1, max=n_iters, description='Training...')\n",
    "display(train_pg)\n",
    "losses = []\n",
    "\n",
    "with tf.Session() as session:\n",
    "    \n",
    "    session.run(tf.global_variables_initializer())\n",
    "    for i in range(1, n_iters+1):\n",
    "        _, cur_loss = session.run([train_op, loss], feed_dict=feed_dict)\n",
    "        train_pg.value += 1\n",
    "        if i % 50 == 0:\n",
    "            print(i, cur_loss)\n",
    "        losses.append(cur_loss)\n",
    "    train_pg.bar_style = 'success'\n",
    "    train_pg.description = 'Done.'\n",
    "    \n",
    "    train_embeddings = embeddings.eval(session=session)\n",
    "    \n",
    "losses = pd.Series(losses)\n",
    "losses.rolling(50).mean().plot()"
   ]
  },
  {
   "cell_type": "code",
   "execution_count": 33,
   "metadata": {
    "collapsed": false,
    "deletable": true,
    "editable": true
   },
   "outputs": [],
   "source": [
    "# Make a dataframe with the embedding values\n",
    "train_embeddings_df = pd.DataFrame(data=train_embeddings, index=t_cache.index)"
   ]
  },
  {
   "cell_type": "code",
   "execution_count": 35,
   "metadata": {
    "collapsed": false,
    "scrolled": true
   },
   "outputs": [
    {
     "data": {
      "text/html": [
       "<div>\n",
       "<table border=\"1\" class=\"dataframe\">\n",
       "  <thead>\n",
       "    <tr style=\"text-align: right;\">\n",
       "      <th></th>\n",
       "      <th>0</th>\n",
       "      <th>1</th>\n",
       "      <th>2</th>\n",
       "      <th>3</th>\n",
       "      <th>4</th>\n",
       "      <th>5</th>\n",
       "      <th>6</th>\n",
       "      <th>7</th>\n",
       "      <th>8</th>\n",
       "      <th>9</th>\n",
       "      <th>10</th>\n",
       "      <th>11</th>\n",
       "      <th>12</th>\n",
       "      <th>13</th>\n",
       "      <th>14</th>\n",
       "      <th>15</th>\n",
       "      <th>16</th>\n",
       "      <th>17</th>\n",
       "      <th>18</th>\n",
       "      <th>19</th>\n",
       "    </tr>\n",
       "    <tr>\n",
       "      <th>word</th>\n",
       "      <th></th>\n",
       "      <th></th>\n",
       "      <th></th>\n",
       "      <th></th>\n",
       "      <th></th>\n",
       "      <th></th>\n",
       "      <th></th>\n",
       "      <th></th>\n",
       "      <th></th>\n",
       "      <th></th>\n",
       "      <th></th>\n",
       "      <th></th>\n",
       "      <th></th>\n",
       "      <th></th>\n",
       "      <th></th>\n",
       "      <th></th>\n",
       "      <th></th>\n",
       "      <th></th>\n",
       "      <th></th>\n",
       "      <th></th>\n",
       "    </tr>\n",
       "  </thead>\n",
       "  <tbody>\n",
       "    <tr>\n",
       "      <th>the</th>\n",
       "      <td>-1.650545</td>\n",
       "      <td>-1.162983</td>\n",
       "      <td>-0.017489</td>\n",
       "      <td>-0.324192</td>\n",
       "      <td>0.640277</td>\n",
       "      <td>-0.573753</td>\n",
       "      <td>2.053180</td>\n",
       "      <td>0.775146</td>\n",
       "      <td>-1.373932</td>\n",
       "      <td>-2.625574</td>\n",
       "      <td>0.976826</td>\n",
       "      <td>-0.112552</td>\n",
       "      <td>0.420243</td>\n",
       "      <td>1.768553</td>\n",
       "      <td>0.092510</td>\n",
       "      <td>-0.134016</td>\n",
       "      <td>0.288391</td>\n",
       "      <td>1.238374</td>\n",
       "      <td>-0.143766</td>\n",
       "      <td>0.654485</td>\n",
       "    </tr>\n",
       "    <tr>\n",
       "      <th>,</th>\n",
       "      <td>-1.453982</td>\n",
       "      <td>-1.299749</td>\n",
       "      <td>0.357280</td>\n",
       "      <td>-0.136199</td>\n",
       "      <td>0.613661</td>\n",
       "      <td>-1.046776</td>\n",
       "      <td>1.371831</td>\n",
       "      <td>0.697540</td>\n",
       "      <td>-2.140992</td>\n",
       "      <td>-2.376004</td>\n",
       "      <td>0.848997</td>\n",
       "      <td>-0.687376</td>\n",
       "      <td>-0.140591</td>\n",
       "      <td>1.104857</td>\n",
       "      <td>0.388117</td>\n",
       "      <td>0.305596</td>\n",
       "      <td>-0.772756</td>\n",
       "      <td>1.669843</td>\n",
       "      <td>-0.278860</td>\n",
       "      <td>0.516430</td>\n",
       "    </tr>\n",
       "    <tr>\n",
       "      <th>.</th>\n",
       "      <td>-0.211236</td>\n",
       "      <td>-0.409714</td>\n",
       "      <td>-0.558326</td>\n",
       "      <td>-0.978886</td>\n",
       "      <td>-0.865600</td>\n",
       "      <td>-0.626222</td>\n",
       "      <td>-0.477406</td>\n",
       "      <td>0.329279</td>\n",
       "      <td>0.624149</td>\n",
       "      <td>0.435673</td>\n",
       "      <td>-0.242236</td>\n",
       "      <td>0.891192</td>\n",
       "      <td>-0.707488</td>\n",
       "      <td>0.994743</td>\n",
       "      <td>-0.940982</td>\n",
       "      <td>-0.322129</td>\n",
       "      <td>0.840361</td>\n",
       "      <td>-0.470073</td>\n",
       "      <td>0.101854</td>\n",
       "      <td>0.459007</td>\n",
       "    </tr>\n",
       "    <tr>\n",
       "      <th>of</th>\n",
       "      <td>-1.791834</td>\n",
       "      <td>-1.896137</td>\n",
       "      <td>-0.143705</td>\n",
       "      <td>-0.278482</td>\n",
       "      <td>-0.089646</td>\n",
       "      <td>-0.633101</td>\n",
       "      <td>1.633205</td>\n",
       "      <td>0.812748</td>\n",
       "      <td>-1.619202</td>\n",
       "      <td>-2.113307</td>\n",
       "      <td>1.655857</td>\n",
       "      <td>-0.133965</td>\n",
       "      <td>-0.186623</td>\n",
       "      <td>0.865129</td>\n",
       "      <td>0.553499</td>\n",
       "      <td>0.680412</td>\n",
       "      <td>-0.113432</td>\n",
       "      <td>1.224333</td>\n",
       "      <td>-0.915471</td>\n",
       "      <td>-0.098397</td>\n",
       "    </tr>\n",
       "    <tr>\n",
       "      <th>and</th>\n",
       "      <td>-1.049515</td>\n",
       "      <td>-1.681798</td>\n",
       "      <td>0.285650</td>\n",
       "      <td>0.062283</td>\n",
       "      <td>1.076554</td>\n",
       "      <td>-0.958528</td>\n",
       "      <td>1.670573</td>\n",
       "      <td>0.821198</td>\n",
       "      <td>-1.518790</td>\n",
       "      <td>-2.253498</td>\n",
       "      <td>1.477831</td>\n",
       "      <td>-0.997753</td>\n",
       "      <td>-0.259488</td>\n",
       "      <td>1.122732</td>\n",
       "      <td>0.042026</td>\n",
       "      <td>0.286847</td>\n",
       "      <td>0.337078</td>\n",
       "      <td>1.340894</td>\n",
       "      <td>-0.456722</td>\n",
       "      <td>0.090314</td>\n",
       "    </tr>\n",
       "  </tbody>\n",
       "</table>\n",
       "</div>"
      ],
      "text/plain": [
       "            0         1         2         3         4         5         6   \\\n",
       "word                                                                         \n",
       "the  -1.650545 -1.162983 -0.017489 -0.324192  0.640277 -0.573753  2.053180   \n",
       ",    -1.453982 -1.299749  0.357280 -0.136199  0.613661 -1.046776  1.371831   \n",
       ".    -0.211236 -0.409714 -0.558326 -0.978886 -0.865600 -0.626222 -0.477406   \n",
       "of   -1.791834 -1.896137 -0.143705 -0.278482 -0.089646 -0.633101  1.633205   \n",
       "and  -1.049515 -1.681798  0.285650  0.062283  1.076554 -0.958528  1.670573   \n",
       "\n",
       "            7         8         9         10        11        12        13  \\\n",
       "word                                                                         \n",
       "the   0.775146 -1.373932 -2.625574  0.976826 -0.112552  0.420243  1.768553   \n",
       ",     0.697540 -2.140992 -2.376004  0.848997 -0.687376 -0.140591  1.104857   \n",
       ".     0.329279  0.624149  0.435673 -0.242236  0.891192 -0.707488  0.994743   \n",
       "of    0.812748 -1.619202 -2.113307  1.655857 -0.133965 -0.186623  0.865129   \n",
       "and   0.821198 -1.518790 -2.253498  1.477831 -0.997753 -0.259488  1.122732   \n",
       "\n",
       "            14        15        16        17        18        19  \n",
       "word                                                              \n",
       "the   0.092510 -0.134016  0.288391  1.238374 -0.143766  0.654485  \n",
       ",     0.388117  0.305596 -0.772756  1.669843 -0.278860  0.516430  \n",
       ".    -0.940982 -0.322129  0.840361 -0.470073  0.101854  0.459007  \n",
       "of    0.553499  0.680412 -0.113432  1.224333 -0.915471 -0.098397  \n",
       "and   0.042026  0.286847  0.337078  1.340894 -0.456722  0.090314  "
      ]
     },
     "execution_count": 35,
     "metadata": {},
     "output_type": "execute_result"
    }
   ],
   "source": [
    "train_embeddings_df.head()"
   ]
  },
  {
   "cell_type": "code",
   "execution_count": 60,
   "metadata": {
    "collapsed": false
   },
   "outputs": [
    {
     "data": {
      "text/plain": [
       "word\n",
       "university       0.000000\n",
       "opening          1.765002\n",
       "case             1.883279\n",
       "international    2.022388\n",
       "joined           2.059898\n",
       "ball             2.109493\n",
       "firm             2.159818\n",
       "conference       2.263194\n",
       "down             2.263408\n",
       "by               2.276706\n",
       "dtype: float32"
      ]
     },
     "execution_count": 60,
     "metadata": {},
     "output_type": "execute_result"
    }
   ],
   "source": [
    "house_em = train_embeddings_df.loc['university', :]\n",
    "distances = train_embeddings_df.subtract(house_em, axis=1).pow(2).sum(axis=1)\n",
    "distances.nsmallest(10)"
   ]
  },
  {
   "cell_type": "code",
   "execution_count": 61,
   "metadata": {
    "collapsed": false
   },
   "outputs": [
    {
     "data": {
      "text/plain": [
       "word\n",
       "job        0.000000\n",
       "game       3.088322\n",
       "hotel      3.301881\n",
       "centers    3.322553\n",
       "injured    3.379533\n",
       "study      3.405474\n",
       "once       3.466640\n",
       "flight     3.682519\n",
       "track      3.698893\n",
       "as         3.793039\n",
       "dtype: float32"
      ]
     },
     "execution_count": 61,
     "metadata": {},
     "output_type": "execute_result"
    }
   ],
   "source": [
    "house_em = train_embeddings_df.loc['job', :]\n",
    "distances = train_embeddings_df.subtract(house_em, axis=1).pow(2).sum(axis=1)\n",
    "distances.nsmallest(10)"
   ]
  },
  {
   "cell_type": "code",
   "execution_count": 62,
   "metadata": {
    "collapsed": false
   },
   "outputs": [
    {
     "data": {
      "text/plain": [
       "word\n",
       "church        0.000000\n",
       "army          1.472805\n",
       "bonds         1.485818\n",
       "department    1.608185\n",
       "hotel         1.850545\n",
       "track         1.879023\n",
       "hour          1.964738\n",
       "game          1.974343\n",
       "season        2.226302\n",
       "university    2.305809\n",
       "dtype: float32"
      ]
     },
     "execution_count": 62,
     "metadata": {},
     "output_type": "execute_result"
    }
   ],
   "source": [
    "house_em = train_embeddings_df.loc['church', :]\n",
    "distances = train_embeddings_df.subtract(house_em, axis=1).pow(2).sum(axis=1)\n",
    "distances.nsmallest(10)"
   ]
  }
 ],
 "metadata": {
  "kernelspec": {
   "display_name": "Python 3",
   "language": "python",
   "name": "python3"
  },
  "language_info": {
   "codemirror_mode": {
    "name": "ipython",
    "version": 3
   },
   "file_extension": ".py",
   "mimetype": "text/x-python",
   "name": "python",
   "nbconvert_exporter": "python",
   "pygments_lexer": "ipython3",
   "version": "3.5.3"
  }
 },
 "nbformat": 4,
 "nbformat_minor": 2
}
