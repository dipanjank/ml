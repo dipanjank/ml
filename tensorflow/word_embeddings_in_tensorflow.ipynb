{
 "cells": [
  {
   "cell_type": "markdown",
   "metadata": {
    "deletable": true,
    "editable": true
   },
   "source": [
    "In this notebook, we will explore word embeddings based on the news articles in the Brown Corpus. Note that the content is heavily borrowed from the official tensorflow tutorial: https://www.tensorflow.org/tutorials/word2vec"
   ]
  },
  {
   "cell_type": "code",
   "execution_count": 1,
   "metadata": {
    "collapsed": false,
    "deletable": true,
    "editable": true
   },
   "outputs": [
    {
     "name": "stdout",
     "output_type": "stream",
     "text": [
      "Populating the interactive namespace from numpy and matplotlib\n"
     ]
    }
   ],
   "source": [
    "import numpy as np\n",
    "import tensorflow as tf\n",
    "%pylab inline\n",
    "pylab.style.use('ggplot')\n",
    "import pandas as pd"
   ]
  },
  {
   "cell_type": "markdown",
   "metadata": {
    "deletable": true,
    "editable": true
   },
   "source": [
    "# What are Word Embeddings?\n",
    "\n",
    "Vector space models (VSMs) represent (embed) words in a continuous vector space where semantically similar words are mapped to nearby points ('are embedded nearby each other'). VSMs have a long, rich history in NLP, but all methods depend in some way or another on the Distributional Hypothesis, which states that words that appear in the same contexts share semantic meaning. \n",
    "\n",
    "Predictive models directly try to predict a word from its neighbors in terms of learned small, dense embedding vectors (considered parameters of the model).\n",
    "\n",
    "Word2vec is a particularly computationally-efficient predictive model for learning word embeddings from raw text. It comes in two flavors, the Continuous Bag-of-Words model (CBOW) and the Skip-Gram model. \n",
    "\n",
    "Algorithmically, these models are similar, except that CBOW predicts target words (e.g. 'mat') from source context words ('the cat sits on the'), while the skip-gram does the inverse and predicts source context-words from the target words. This inversion might seem like an arbitrary choice, but statistically it has the effect that CBOW smoothes over a lot of the distributional information (by treating an entire context as one observation). For the most part, this turns out to be a useful thing for smaller datasets. However, skip-gram treats each context-target pair as a new observation, and this tends to do better when we have larger datasets. "
   ]
  },
  {
   "cell_type": "markdown",
   "metadata": {
    "deletable": true,
    "editable": true
   },
   "source": [
    "# Noise-Contrastive Training\n",
    "\n",
    "Neural probabilistic language models are traditionally trained using the maximum likelihood (ML) principle to maximize the probability of the next word (for \"target\") given the previous words (for \"history\") in terms of a softmax function.\n",
    "\n",
    "$$\\begin{align}\n",
    "P(w_t | h) &= \\text{softmax} (\\text{score} (w_t, h)) \\\\\n",
    "           &= \\frac{\\exp \\{ \\text{score} (w_t, h) \\} }\n",
    "             {\\sum_\\text{Word w' in Vocab} \\exp \\{ \\text{score} (w', h) \\} }\n",
    "\\end{align}$$\n",
    "\n",
    "\n",
    "This yields a properly normalized probabilistic model for language modeling. However this is very expensive, because we need to compute and normalize each probability using the score for all other words in the current context , at every training step.\n",
    "\n",
    "<img src=\"https://www.tensorflow.org/images/softmax-nplm.png\" width=\"400\", height=\"400\" />\n",
    "\n",
    "On the other hand, for feature learning in word2vec we do not need a full probabilistic model. The CBOW and skip-gram models are instead trained using a binary classification objective (logistic regression) to discriminate the real target words from imaginary (noise) words , in the same context. We illustrate this below for a CBOW model. For skip-gram the direction is simply inverted.\n",
    "\n",
    "<img src=\"https://www.tensorflow.org/images/nce-nplm.png\" width=\"400\", height=\"400\" />\n",
    "\n",
    "Mathematically, the loss function is:\n",
    "\n",
    "$$J_\\text{NEG} = \\log Q_\\theta(D=1 |w_t, h) +  k \\mathop{\\mathbb{E}}_{\\tilde w \\sim P_\\text{noise}} \\left[ \\log Q_\\theta(D = 0 |\\tilde w, h) \\right]$$\n",
    "    \n",
    "     \n",
    "Where $Q_{\\theta}(D=1 | w, h)$ is the binary logistic regression probability under the model of seeing the word in the context in the dataset , calculated in terms of the learned embedding vectors . In practice we approximate the expectation by drawing contrastive words from the noise distribution (i.e. we compute a Monte Carlo average).\n",
    "\n",
    "This objective is maximized when the model assigns high probabilities to the real words, and low probabilities to noise words. Technically, this is called Negative Sampling, and there is good mathematical motivation for using this loss function: The updates it proposes approximate the updates of the softmax function in the limit. But computationally it is especially appealing because computing the loss function now scales only with the number of noise words that we select, and not all words in the vocabulary. This makes it much faster to train. We will actually make use of the very similar noise-contrastive estimation (NCE) loss, for which TensorFlow has a handy helper function `tf.nn.nce_loss()`."
   ]
  },
  {
   "cell_type": "markdown",
   "metadata": {
    "deletable": true,
    "editable": true
   },
   "source": [
    "# Getting the Data"
   ]
  },
  {
   "cell_type": "code",
   "execution_count": 2,
   "metadata": {
    "collapsed": false,
    "deletable": true,
    "editable": true
   },
   "outputs": [
    {
     "name": "stdout",
     "output_type": "stream",
     "text": [
      "[nltk_data] Downloading package brown to\n",
      "[nltk_data]     C:\\Users\\Admin\\AppData\\Roaming\\nltk_data...\n",
      "[nltk_data]   Package brown is already up-to-date!\n"
     ]
    }
   ],
   "source": [
    "import nltk\n",
    "nltk.download('brown')\n",
    "from nltk.corpus import brown"
   ]
  },
  {
   "cell_type": "code",
   "execution_count": 3,
   "metadata": {
    "collapsed": false,
    "deletable": true,
    "editable": true
   },
   "outputs": [
    {
     "data": {
      "text/plain": [
       "<matplotlib.axes._subplots.AxesSubplot at 0x25a286b1d68>"
      ]
     },
     "execution_count": 3,
     "metadata": {},
     "output_type": "execute_result"
    },
    {
     "data": {
      "image/png": "[encoded data removed]",
      "text/plain": [
       "<matplotlib.figure.Figure at 0x25a286af0b8>"
      ]
     },
     "metadata": {},
     "output_type": "display_data"
    }
   ],
   "source": [
    "brown_words =  brown.words(categories=['news'])\n",
    "lcase_words = [w.lower() for w in brown_words]\n",
    "\n",
    "word_counts = pd.Series(lcase_words).value_counts()\n",
    "word_counts.nlargest(20).sort_values().plot(kind='barh')"
   ]
  },
  {
   "cell_type": "code",
   "execution_count": 4,
   "metadata": {
    "collapsed": false,
    "deletable": true,
    "editable": true
   },
   "outputs": [
    {
     "data": {
      "text/plain": [
       "13112"
      ]
     },
     "execution_count": 4,
     "metadata": {},
     "output_type": "execute_result"
    }
   ],
   "source": [
    "word_counts.count()"
   ]
  },
  {
   "cell_type": "code",
   "execution_count": 5,
   "metadata": {
    "collapsed": false,
    "deletable": true,
    "editable": true
   },
   "outputs": [
    {
     "data": {
      "text/plain": [
       "<matplotlib.axes._subplots.AxesSubplot at 0x25a28753ba8>"
      ]
     },
     "execution_count": 5,
     "metadata": {},
     "output_type": "execute_result"
    },
    {
     "data": {
      "image/png": "[encoded data removed]",
      "text/plain": [
       "<matplotlib.figure.Figure at 0x25a28099be0>"
      ]
     },
     "metadata": {},
     "output_type": "display_data"
    }
   ],
   "source": [
    "word_counts.value_counts().sort_values(ascending=False).plot()"
   ]
  },
  {
   "cell_type": "markdown",
   "metadata": {
    "deletable": true,
    "editable": true
   },
   "source": [
    "so, the majority of the words are rare. There are only a small number of words that appear < 10 times."
   ]
  },
  {
   "cell_type": "code",
   "execution_count": 6,
   "metadata": {
    "collapsed": false,
    "deletable": true,
    "editable": true
   },
   "outputs": [
    {
     "data": {
      "text/plain": [
       "2099"
      ]
     },
     "execution_count": 6,
     "metadata": {},
     "output_type": "execute_result"
    }
   ],
   "source": [
    "word_counts[word_counts > 5].count()"
   ]
  },
  {
   "cell_type": "markdown",
   "metadata": {
    "deletable": true,
    "editable": true
   },
   "source": [
    "# Preprocessing\n",
    "\n",
    "In the preprocessing step, we will convert all the words to lowercase and pack the sentences into a `pandas.Series`."
   ]
  },
  {
   "cell_type": "code",
   "execution_count": 7,
   "metadata": {
    "collapsed": false,
    "deletable": true,
    "editable": true
   },
   "outputs": [],
   "source": [
    "lcase_sents = []\n",
    "\n",
    "for s in brown.sents(categories=['news']):\n",
    "    lcase_sents.append([w.lower() for w in s])\n",
    "    \n",
    "lcase_sents = pd.Series(data=lcase_sents, name='sentences')"
   ]
  },
  {
   "cell_type": "code",
   "execution_count": 8,
   "metadata": {
    "collapsed": false,
    "deletable": true,
    "editable": true
   },
   "outputs": [
    {
     "data": {
      "text/plain": [
       "0    [the, fulton, county, grand, jury, said, frida...\n",
       "1    [the, jury, further, said, in, term-end, prese...\n",
       "2    [the, september-october, term, jury, had, been...\n",
       "3    [``, only, a, relative, handful, of, such, rep...\n",
       "4    [the, jury, said, it, did, find, that, many, o...\n",
       "Name: sentences, dtype: object"
      ]
     },
     "execution_count": 8,
     "metadata": {},
     "output_type": "execute_result"
    }
   ],
   "source": [
    "lcase_sents.head()"
   ]
  },
  {
   "cell_type": "markdown",
   "metadata": {
    "collapsed": true,
    "deletable": true,
    "editable": true
   },
   "source": [
    "The next step is to generate the (context, target) pairs from a given sentence for a given window size and skip size. "
   ]
  },
  {
   "cell_type": "code",
   "execution_count": 9,
   "metadata": {
    "collapsed": false,
    "deletable": true,
    "editable": true
   },
   "outputs": [],
   "source": [
    "def gen_context_target_pairs(sent, w_size=1, n_skip=1):\n",
    "    \"\"\"\n",
    "    Convert each sentence (a list of words) to a DataFrame with two columns, 'context' and 'target' for the \n",
    "    skip-gram model. The DataFrame has one row for each possible target.\n",
    "    \n",
    "    Target is always a single word. For a given target, we build the context by taking the \n",
    "    `w_size` sized window centered on target and skipping `n_skip` words.\n",
    "        \n",
    "    Assumes each sentence has > w_size words.\n",
    "    \"\"\"\n",
    "    w_length = 2 * w_size + 1\n",
    "    # our context must have at least 1 word\n",
    "    assert n_skip < w_length - 1\n",
    "    \n",
    "    # sent must have enough words\n",
    "    assert len(sent) > w_length, sent\n",
    "    \n",
    "    recs = []\n",
    "    for i, w in enumerate(sent):\n",
    "        if i < w_size or i + w_size + 1 > len(sent):\n",
    "        # in this case, we don't have a full window\n",
    "            continue\n",
    "        else:\n",
    "            full_context = sent[i-w_size:i] + sent[i+1:i+w_size+1]\n",
    "            skip_context = random.choice(full_context, len(full_context) - n_skip)\n",
    "            recs.append([skip_context, w])\n",
    "            \n",
    "    rec_df = pd.DataFrame.from_records(recs, columns=['context', 'target'])\n",
    "    \n",
    "    return rec_df"
   ]
  },
  {
   "cell_type": "code",
   "execution_count": 10,
   "metadata": {
    "collapsed": false,
    "deletable": true,
    "editable": true
   },
   "outputs": [
    {
     "data": {
      "text/html": [
       "<div>\n",
       "<table border=\"1\" class=\"dataframe\">\n",
       "  <thead>\n",
       "    <tr style=\"text-align: right;\">\n",
       "      <th></th>\n",
       "      <th>context</th>\n",
       "      <th>target</th>\n",
       "    </tr>\n",
       "  </thead>\n",
       "  <tbody>\n",
       "    <tr>\n",
       "      <th>0</th>\n",
       "      <td>[the]</td>\n",
       "      <td>fulton</td>\n",
       "    </tr>\n",
       "    <tr>\n",
       "      <th>1</th>\n",
       "      <td>[fulton]</td>\n",
       "      <td>county</td>\n",
       "    </tr>\n",
       "    <tr>\n",
       "      <th>2</th>\n",
       "      <td>[county]</td>\n",
       "      <td>grand</td>\n",
       "    </tr>\n",
       "    <tr>\n",
       "      <th>3</th>\n",
       "      <td>[grand]</td>\n",
       "      <td>jury</td>\n",
       "    </tr>\n",
       "    <tr>\n",
       "      <th>4</th>\n",
       "      <td>[jury]</td>\n",
       "      <td>said</td>\n",
       "    </tr>\n",
       "    <tr>\n",
       "      <th>5</th>\n",
       "      <td>[said]</td>\n",
       "      <td>friday</td>\n",
       "    </tr>\n",
       "    <tr>\n",
       "      <th>6</th>\n",
       "      <td>[friday]</td>\n",
       "      <td>an</td>\n",
       "    </tr>\n",
       "    <tr>\n",
       "      <th>7</th>\n",
       "      <td>[an]</td>\n",
       "      <td>investigation</td>\n",
       "    </tr>\n",
       "    <tr>\n",
       "      <th>8</th>\n",
       "      <td>[atlanta's]</td>\n",
       "      <td>of</td>\n",
       "    </tr>\n",
       "    <tr>\n",
       "      <th>9</th>\n",
       "      <td>[of]</td>\n",
       "      <td>atlanta's</td>\n",
       "    </tr>\n",
       "    <tr>\n",
       "      <th>10</th>\n",
       "      <td>[atlanta's]</td>\n",
       "      <td>recent</td>\n",
       "    </tr>\n",
       "    <tr>\n",
       "      <th>11</th>\n",
       "      <td>[recent]</td>\n",
       "      <td>primary</td>\n",
       "    </tr>\n",
       "    <tr>\n",
       "      <th>12</th>\n",
       "      <td>[produced]</td>\n",
       "      <td>election</td>\n",
       "    </tr>\n",
       "    <tr>\n",
       "      <th>13</th>\n",
       "      <td>[``]</td>\n",
       "      <td>produced</td>\n",
       "    </tr>\n",
       "    <tr>\n",
       "      <th>14</th>\n",
       "      <td>[no]</td>\n",
       "      <td>``</td>\n",
       "    </tr>\n",
       "    <tr>\n",
       "      <th>15</th>\n",
       "      <td>[``]</td>\n",
       "      <td>no</td>\n",
       "    </tr>\n",
       "    <tr>\n",
       "      <th>16</th>\n",
       "      <td>[no]</td>\n",
       "      <td>evidence</td>\n",
       "    </tr>\n",
       "    <tr>\n",
       "      <th>17</th>\n",
       "      <td>[that]</td>\n",
       "      <td>''</td>\n",
       "    </tr>\n",
       "    <tr>\n",
       "      <th>18</th>\n",
       "      <td>['']</td>\n",
       "      <td>that</td>\n",
       "    </tr>\n",
       "    <tr>\n",
       "      <th>19</th>\n",
       "      <td>[irregularities]</td>\n",
       "      <td>any</td>\n",
       "    </tr>\n",
       "    <tr>\n",
       "      <th>20</th>\n",
       "      <td>[any]</td>\n",
       "      <td>irregularities</td>\n",
       "    </tr>\n",
       "    <tr>\n",
       "      <th>21</th>\n",
       "      <td>[irregularities]</td>\n",
       "      <td>took</td>\n",
       "    </tr>\n",
       "    <tr>\n",
       "      <th>22</th>\n",
       "      <td>[.]</td>\n",
       "      <td>place</td>\n",
       "    </tr>\n",
       "  </tbody>\n",
       "</table>\n",
       "</div>"
      ],
      "text/plain": [
       "             context          target\n",
       "0              [the]          fulton\n",
       "1           [fulton]          county\n",
       "2           [county]           grand\n",
       "3            [grand]            jury\n",
       "4             [jury]            said\n",
       "5             [said]          friday\n",
       "6           [friday]              an\n",
       "7               [an]   investigation\n",
       "8        [atlanta's]              of\n",
       "9               [of]       atlanta's\n",
       "10       [atlanta's]          recent\n",
       "11          [recent]         primary\n",
       "12        [produced]        election\n",
       "13              [``]        produced\n",
       "14              [no]              ``\n",
       "15              [``]              no\n",
       "16              [no]        evidence\n",
       "17            [that]              ''\n",
       "18              ['']            that\n",
       "19  [irregularities]             any\n",
       "20             [any]  irregularities\n",
       "21  [irregularities]            took\n",
       "22               [.]           place"
      ]
     },
     "execution_count": 10,
     "metadata": {},
     "output_type": "execute_result"
    }
   ],
   "source": [
    "gen_context_target_pairs(lcase_sents[0])"
   ]
  },
  {
   "cell_type": "markdown",
   "metadata": {
    "deletable": true,
    "editable": true
   },
   "source": [
    "Next, we replace every word in the corpus by a unique integer ID. We also choose a threshold for word frequencies and set the ID\n",
    "for words below these frequencies to be -1."
   ]
  },
  {
   "cell_type": "code",
   "execution_count": 11,
   "metadata": {
    "collapsed": true,
    "deletable": true,
    "editable": true
   },
   "outputs": [],
   "source": [
    "vocab_cache = word_counts.reset_index().reset_index()\n",
    "vocab_cache.columns = ['word_id', 'word', 'count']"
   ]
  },
  {
   "cell_type": "code",
   "execution_count": 12,
   "metadata": {
    "collapsed": false,
    "deletable": true,
    "editable": true
   },
   "outputs": [
    {
     "data": {
      "text/html": [
       "<div>\n",
       "<table border=\"1\" class=\"dataframe\">\n",
       "  <thead>\n",
       "    <tr style=\"text-align: right;\">\n",
       "      <th></th>\n",
       "      <th>word_id</th>\n",
       "      <th>word</th>\n",
       "      <th>count</th>\n",
       "    </tr>\n",
       "  </thead>\n",
       "  <tbody>\n",
       "    <tr>\n",
       "      <th>0</th>\n",
       "      <td>0</td>\n",
       "      <td>the</td>\n",
       "      <td>6386</td>\n",
       "    </tr>\n",
       "    <tr>\n",
       "      <th>1</th>\n",
       "      <td>1</td>\n",
       "      <td>,</td>\n",
       "      <td>5188</td>\n",
       "    </tr>\n",
       "    <tr>\n",
       "      <th>2</th>\n",
       "      <td>2</td>\n",
       "      <td>.</td>\n",
       "      <td>4030</td>\n",
       "    </tr>\n",
       "    <tr>\n",
       "      <th>3</th>\n",
       "      <td>3</td>\n",
       "      <td>of</td>\n",
       "      <td>2861</td>\n",
       "    </tr>\n",
       "    <tr>\n",
       "      <th>4</th>\n",
       "      <td>4</td>\n",
       "      <td>and</td>\n",
       "      <td>2186</td>\n",
       "    </tr>\n",
       "  </tbody>\n",
       "</table>\n",
       "</div>"
      ],
      "text/plain": [
       "   word_id word  count\n",
       "0        0  the   6386\n",
       "1        1    ,   5188\n",
       "2        2    .   4030\n",
       "3        3   of   2861\n",
       "4        4  and   2186"
      ]
     },
     "execution_count": 12,
     "metadata": {},
     "output_type": "execute_result"
    }
   ],
   "source": [
    "vocab_cache.head()"
   ]
  },
  {
   "cell_type": "code",
   "execution_count": 13,
   "metadata": {
    "collapsed": true,
    "deletable": true,
    "editable": true
   },
   "outputs": [],
   "source": [
    "def map_to_int(context_pair_df, v_cache):\n",
    "    \"\"\"Take a context pair DataFrame and map the words to their integer IDs. The cache must be indexed by the word.\"\"\"\n",
    "    \n",
    "    mapped_target = context_pair_df.target.apply(lambda w: v_cache.loc[w, 'word_id'])   \n",
    "    mapped_context = context_pair_df.context.apply(lambda c: v_cache.loc[c, 'word_id'].values)   \n",
    "    return pd.concat({'target': mapped_target, 'context': mapped_context}, axis=1)"
   ]
  },
  {
   "cell_type": "code",
   "execution_count": 49,
   "metadata": {
    "collapsed": false,
    "deletable": true,
    "editable": true
   },
   "outputs": [],
   "source": [
    "from ipywidgets import FloatProgress\n",
    "from IPython.display import display\n",
    "\n",
    "def make_dataset(sents, v_cache, threshold=5, w_size=1, n_skip=1):\n",
    "    \"\"\"\n",
    "    Make a \"dataset\" suitable for data input into the TensorFlow skip-gram model.\n",
    "    \n",
    "    The \"dataset\" is a pandas DataFrame with the 'target' and 'context' columns as described above. Both are integers.\n",
    "    The index is a global integer sentence sequence number.    \n",
    "    \"\"\"\n",
    "    \n",
    "    thresholded_cache = v_cache.copy()\n",
    "    # idx = thresholded_cache['count'] <= threshold\n",
    "    # thresholded_cache.loc[idx, 'word_id'] = 10000\n",
    "    thresholded_cache = thresholded_cache.set_index('word')\n",
    "    \n",
    "    pg = FloatProgress(min=1, max=len(sents), description='Preparing dataset...')\n",
    "    display(pg)\n",
    "    \n",
    "    dfs = []\n",
    "    \n",
    "    for sent in sents:\n",
    "        if len(sent) > 2 * w_size + 1:\n",
    "            word_df = gen_context_target_pairs(sent, w_size=w_size, n_skip=n_skip)\n",
    "            mapped_df = map_to_int(word_df, thresholded_cache)\n",
    "            dfs.append(mapped_df)\n",
    "        pg.value += 1\n",
    "        \n",
    "    pg.bar_style = 'success'\n",
    "    pg.description = 'Done.'\n",
    "    \n",
    "    dfs = pd.concat(dfs, axis=0)\n",
    "    dfs.index = np.arange(0, len(dfs))\n",
    "    \n",
    "    return thresholded_cache, dfs"
   ]
  },
  {
   "cell_type": "code",
   "execution_count": 50,
   "metadata": {
    "collapsed": false,
    "deletable": true,
    "editable": true
   },
   "outputs": [
    {
     "data": {
      "application/vnd.jupyter.widget-view+json": {
       "model_id": "8ecef94407104c488421bef64ae78fd6"
      }
     },
     "metadata": {},
     "output_type": "display_data"
    }
   ],
   "source": [
    "t_cache, dataset = make_dataset(lcase_sents, vocab_cache)"
   ]
  },
  {
   "cell_type": "code",
   "execution_count": 51,
   "metadata": {
    "collapsed": false,
    "deletable": true,
    "editable": true
   },
   "outputs": [
    {
     "data": {
      "text/html": [
       "<div>\n",
       "<table border=\"1\" class=\"dataframe\">\n",
       "  <thead>\n",
       "    <tr style=\"text-align: right;\">\n",
       "      <th></th>\n",
       "      <th>context</th>\n",
       "      <th>target</th>\n",
       "    </tr>\n",
       "  </thead>\n",
       "  <tbody>\n",
       "    <tr>\n",
       "      <th>0</th>\n",
       "      <td>[0]</td>\n",
       "      <td>794</td>\n",
       "    </tr>\n",
       "    <tr>\n",
       "      <th>1</th>\n",
       "      <td>[564]</td>\n",
       "      <td>139</td>\n",
       "    </tr>\n",
       "    <tr>\n",
       "      <th>2</th>\n",
       "      <td>[198]</td>\n",
       "      <td>564</td>\n",
       "    </tr>\n",
       "    <tr>\n",
       "      <th>3</th>\n",
       "      <td>[564]</td>\n",
       "      <td>198</td>\n",
       "    </tr>\n",
       "    <tr>\n",
       "      <th>4</th>\n",
       "      <td>[226]</td>\n",
       "      <td>23</td>\n",
       "    </tr>\n",
       "  </tbody>\n",
       "</table>\n",
       "</div>"
      ],
      "text/plain": [
       "  context  target\n",
       "0     [0]     794\n",
       "1   [564]     139\n",
       "2   [198]     564\n",
       "3   [564]     198\n",
       "4   [226]      23"
      ]
     },
     "execution_count": 51,
     "metadata": {},
     "output_type": "execute_result"
    }
   ],
   "source": [
    "dataset.head()"
   ]
  },
  {
   "cell_type": "markdown",
   "metadata": {},
   "source": [
    "# Build the TensorFlow Graph"
   ]
  },
  {
   "cell_type": "code",
   "execution_count": 52,
   "metadata": {
    "collapsed": false
   },
   "outputs": [],
   "source": [
    "vocabulary_size = len(t_cache)\n",
    "embedding_size = 20\n",
    "batch_size = len(dataset)\n",
    "num_sampled = 10\n",
    "\n",
    "targets = dataset.target.values.astype(np.int32)\n",
    "contexts = np.atleast_2d(np.concatenate(dataset.context.values)).T.astype(np.int32)"
   ]
  },
  {
   "cell_type": "code",
   "execution_count": 57,
   "metadata": {
    "collapsed": false
   },
   "outputs": [],
   "source": [
    "tf.reset_default_graph()\n",
    "\n",
    "embeddings = tf.Variable(\n",
    "    tf.random_uniform([vocabulary_size, embedding_size], -1.0, 1.0, \n",
    "                      dtype=np.float32, name='embeddings')\n",
    ")\n",
    "\n",
    "nce_weights = tf.Variable(\n",
    "  tf.truncated_normal([vocabulary_size, embedding_size],\n",
    "                      stddev=1.0 / np.sqrt(embedding_size),\n",
    "                      dtype=np.float32), name='nce_weights',\n",
    ")\n",
    "\n",
    "nce_biases = tf.Variable(tf.zeros([vocabulary_size], dtype=np.float32), name='nce_biases')\n",
    "\n",
    "# For skip-gram, inputs are context\n",
    "train_inputs = tf.placeholder(np.int32, shape=batch_size, name='train_inputs')\n",
    "\n",
    "# For skip-gram, labels are source\n",
    "train_labels = tf.placeholder(np.int32, shape=[batch_size, 1], name='train_labels')\n",
    "\n",
    "embed = tf.nn.embedding_lookup(embeddings, train_inputs, name='embedding_lookup')\n",
    "\n",
    "loss = tf.reduce_mean(\n",
    "  tf.nn.nce_loss(weights=nce_weights,\n",
    "                 biases=nce_biases,\n",
    "                 labels=train_labels,\n",
    "                 inputs=embed,\n",
    "                 num_sampled=num_sampled,\n",
    "                 num_classes=vocabulary_size), name='loss_function')\n",
    "\n",
    "optimizer = tf.train.GradientDescentOptimizer(learning_rate=0.8)\n",
    "train_op = optimizer.minimize(loss)"
   ]
  },
  {
   "cell_type": "code",
   "execution_count": 60,
   "metadata": {
    "collapsed": false
   },
   "outputs": [
    {
     "name": "stdout",
     "output_type": "stream",
     "text": [
      "100 40.0165\n",
      "200 30.2043\n",
      "300 48.4902\n",
      "400 30.7303\n",
      "500 49.4647\n",
      "600 55.6219\n",
      "700 40.9575\n",
      "800 56.8778\n",
      "900 33.6212\n",
      "1000 45.1084\n",
      "1100 45.7804\n",
      "1200 24.3298\n",
      "1300 41.2419\n",
      "1400 50.9351\n",
      "1500 28.641\n",
      "1600 38.171\n",
      "1700 37.2478\n",
      "1800 36.5846\n",
      "1900 41.0242\n",
      "2000 46.2349\n",
      "2100 56.028\n",
      "2200 46.0516\n",
      "2300 32.2403\n",
      "2400 18.2465\n",
      "2500 32.1227\n",
      "2600 53.4163\n",
      "2700 30.7309\n",
      "2800 34.077\n",
      "2900 45.9797\n",
      "3000 42.3133\n",
      "3100 37.1171\n",
      "3200 32.619\n",
      "3300 27.4705\n",
      "3400 42.0731\n",
      "3500 33.6757\n",
      "3600 35.395\n",
      "3700 27.9104\n",
      "3800 21.6295\n",
      "3900 33.3701\n",
      "4000 47.8481\n",
      "4100 37.993\n",
      "4200 40.1636\n",
      "4300 36.1712\n",
      "4400 36.4335\n",
      "4500 49.4683\n",
      "4600 56.0376\n",
      "4700 59.06\n",
      "4800 44.0146\n",
      "4900 39.0194\n",
      "5000 22.8905\n"
     ]
    }
   ],
   "source": [
    "feed_dict = {train_inputs: targets, train_labels: contexts}\n",
    "\n",
    "with tf.Session() as session:\n",
    "    session.run(tf.global_variables_initializer())\n",
    "    \n",
    "    losses = []\n",
    "    for i in range(1, 5001):\n",
    "        _, cur_loss = session.run([train_op, loss], feed_dict=feed_dict)\n",
    "        \n",
    "        if i % 100 == 0:\n",
    "            print(i, cur_loss)\n",
    "        losses.append(cur_loss)       \n",
    "        "
   ]
  },
  {
   "cell_type": "code",
   "execution_count": 63,
   "metadata": {
    "collapsed": false
   },
   "outputs": [
    {
     "data": {
      "text/plain": [
       "<matplotlib.axes._subplots.AxesSubplot at 0x25a39217e10>"
      ]
     },
     "execution_count": 63,
     "metadata": {},
     "output_type": "execute_result"
    },
    {
     "data": {
      "image/png": "[encoded data removed]",
      "text/plain": [
       "<matplotlib.figure.Figure at 0x25a39322668>"
      ]
     },
     "metadata": {},
     "output_type": "display_data"
    }
   ],
   "source": [
    "losses = pd.Series(losses)\n",
    "losses.rolling(200).mean().plot()"
   ]
  },
  {
   "cell_type": "code",
   "execution_count": null,
   "metadata": {
    "collapsed": true
   },
   "outputs": [],
   "source": []
  }
 ],
 "metadata": {
  "kernelspec": {
   "display_name": "Python 3",
   "language": "python",
   "name": "python3"
  },
  "language_info": {
   "codemirror_mode": {
    "name": "ipython",
    "version": 3
   },
   "file_extension": ".py",
   "mimetype": "text/x-python",
   "name": "python",
   "nbconvert_exporter": "python",
   "pygments_lexer": "ipython3",
   "version": "3.5.3"
  }
 },
 "nbformat": 4,
 "nbformat_minor": 2
}
