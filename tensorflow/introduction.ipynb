{
 "cells": [
  {
   "cell_type": "code",
   "execution_count": 1,
   "metadata": {
    "collapsed": false,
    "deletable": true,
    "editable": true
   },
   "outputs": [
    {
     "name": "stdout",
     "output_type": "stream",
     "text": [
      "Populating the interactive namespace from numpy and matplotlib\n"
     ]
    }
   ],
   "source": [
    "%pylab inline\n",
    "pylab.style.use('ggplot')\n",
    "\n",
    "import numpy as np\n",
    "import pandas as pd"
   ]
  },
  {
   "cell_type": "markdown",
   "metadata": {
    "deletable": true,
    "editable": true
   },
   "source": [
    "# The TensorFlow API\n",
    "\n",
    "TensorFlow provides multiple APIs. \n",
    "\n",
    "* The lowest level API, TensorFlow Core, provides you with complete programming control. \n",
    "\n",
    "* The higher level APIs are built on top of TensorFlow Core. The higher level APIs make repetitive tasks easier and more consistent between different users. A high-level API like tf.contrib.learn helps you manage data sets, estimators, training and inference. "
   ]
  },
  {
   "cell_type": "markdown",
   "metadata": {
    "deletable": true,
    "editable": true
   },
   "source": [
    "# TensorFlow Components\n",
    "\n",
    "## Tensors\n",
    "\n",
    "A Tensor is an array of arbitrary dimensions. The number of dimensions is the **rank** of the tensor.\n",
    "\n",
    "## The TensorFlow Compute Graph\n",
    "\n",
    "* A computational graph is a series of TensorFlow operations arranged into a graph of nodes. \n",
    "* Each operation takes tensors as input and produces tensors as output.\n",
    "* A Tensorflow program consists of two stages\n",
    "\n",
    "    - Define the compute graph\n",
    "    - Execute the compute graph (or a subgraph of it)\n"
   ]
  },
  {
   "cell_type": "markdown",
   "metadata": {
    "deletable": true,
    "editable": true
   },
   "source": [
    "# First TensorFlow Program"
   ]
  },
  {
   "cell_type": "code",
   "execution_count": 2,
   "metadata": {
    "collapsed": true,
    "deletable": true,
    "editable": true
   },
   "outputs": [],
   "source": [
    "import tensorflow as tf"
   ]
  },
  {
   "cell_type": "code",
   "execution_count": 3,
   "metadata": {
    "collapsed": true,
    "deletable": true,
    "editable": true
   },
   "outputs": [],
   "source": [
    "one = tf.constant(1, dtype=np.float64)\n",
    "two = tf.constant(2, dtype=np.float64)"
   ]
  },
  {
   "cell_type": "code",
   "execution_count": 4,
   "metadata": {
    "collapsed": false,
    "deletable": true,
    "editable": true
   },
   "outputs": [
    {
     "name": "stdout",
     "output_type": "stream",
     "text": [
      "Tensor(\"Const:0\", shape=(), dtype=float64)\n"
     ]
    }
   ],
   "source": [
    "print(one)"
   ]
  },
  {
   "cell_type": "code",
   "execution_count": 5,
   "metadata": {
    "collapsed": false,
    "deletable": true,
    "editable": true
   },
   "outputs": [
    {
     "name": "stdout",
     "output_type": "stream",
     "text": [
      "Tensor(\"Const_1:0\", shape=(), dtype=float64)\n"
     ]
    }
   ],
   "source": [
    "print(two)"
   ]
  },
  {
   "cell_type": "code",
   "execution_count": 6,
   "metadata": {
    "collapsed": true,
    "deletable": true,
    "editable": true
   },
   "outputs": [],
   "source": [
    "three = one + two"
   ]
  },
  {
   "cell_type": "code",
   "execution_count": 7,
   "metadata": {
    "collapsed": false,
    "deletable": true,
    "editable": true
   },
   "outputs": [
    {
     "name": "stdout",
     "output_type": "stream",
     "text": [
      "Tensor(\"add:0\", shape=(), dtype=float64)\n"
     ]
    }
   ],
   "source": [
    "print(three)"
   ]
  },
  {
   "cell_type": "code",
   "execution_count": 8,
   "metadata": {
    "collapsed": false,
    "deletable": true,
    "editable": true
   },
   "outputs": [
    {
     "data": {
      "text/plain": [
       "<tf.Operation 'add' type=Add>"
      ]
     },
     "execution_count": 8,
     "metadata": {},
     "output_type": "execute_result"
    }
   ],
   "source": [
    "three.op"
   ]
  },
  {
   "cell_type": "markdown",
   "metadata": {
    "deletable": true,
    "editable": true
   },
   "source": [
    "TensorFlow has its own type system. In this system, all standard Python  variables are symbols. The symbols are bound to the actual tensors when we execute a TensorFlow graph."
   ]
  },
  {
   "cell_type": "code",
   "execution_count": 9,
   "metadata": {
    "collapsed": false,
    "deletable": true,
    "editable": true
   },
   "outputs": [
    {
     "name": "stdout",
     "output_type": "stream",
     "text": [
      "3.0\n"
     ]
    }
   ],
   "source": [
    "with tf.Session() as sess:\n",
    "    three_val = sess.run(three)\n",
    "    print(three_val)"
   ]
  },
  {
   "cell_type": "code",
   "execution_count": 10,
   "metadata": {
    "collapsed": false,
    "deletable": true,
    "editable": true
   },
   "outputs": [
    {
     "name": "stdout",
     "output_type": "stream",
     "text": [
      "Tensor(\"Const:0\", shape=(), dtype=float64)\n",
      "Tensor(\"Const_1:0\", shape=(), dtype=float64)\n",
      "Tensor(\"add:0\", shape=(), dtype=float64)\n"
     ]
    }
   ],
   "source": [
    "print(one)\n",
    "print(two)\n",
    "print(three)"
   ]
  },
  {
   "cell_type": "markdown",
   "metadata": {
    "deletable": true,
    "editable": true
   },
   "source": [
    "## Variables"
   ]
  },
  {
   "cell_type": "markdown",
   "metadata": {
    "deletable": true,
    "editable": true
   },
   "source": [
    "Being able to add constants is great, but it would be so much better if we could use our compute graph to add any two numbers. \n",
    "\n",
    "A variable maintains state in the graph across calls to `run()`. We add a variable to the graph by constructing an instance of the class `Variable`."
   ]
  },
  {
   "cell_type": "code",
   "execution_count": 11,
   "metadata": {
    "collapsed": false,
    "deletable": true,
    "editable": true
   },
   "outputs": [],
   "source": [
    "x = tf.Variable(10, dtype=np.float64)\n",
    "y = tf.Variable(16, dtype=np.float64)\n",
    "add_op = x + y"
   ]
  },
  {
   "cell_type": "markdown",
   "metadata": {
    "deletable": true,
    "editable": true
   },
   "source": [
    "The `Variable` constructor requires an initial value. The shape of the initial value becomes the shape of the tensor this Variable points to. Variables generally have a fixed shape, but TensorFlow provides mechanisms to reshape variables.\n",
    "\n",
    "All the variables in a TensorFlow compute graph must be explictly initialized. Instead of doing this individually, this is usually done in a convenience operation in one go, like so:\n",
    "\n",
    "    init_op = tf.global_variables_initializer()"
   ]
  },
  {
   "cell_type": "code",
   "execution_count": 12,
   "metadata": {
    "collapsed": false,
    "deletable": true,
    "editable": true
   },
   "outputs": [
    {
     "name": "stdout",
     "output_type": "stream",
     "text": [
      "26.0\n"
     ]
    }
   ],
   "source": [
    "with tf.Session() as sess:\n",
    "    init_op = tf.global_variables_initializer()\n",
    "    # Running init_op must be done separately - cannot be bundled with add_op.\n",
    "    sess.run(init_op)\n",
    "    add_result = sess.run(add_op)\n",
    "    print(add_result)"
   ]
  },
  {
   "cell_type": "markdown",
   "metadata": {
    "deletable": true,
    "editable": true
   },
   "source": [
    "If we wanted to add two different numbers,   \n"
   ]
  },
  {
   "cell_type": "code",
   "execution_count": 13,
   "metadata": {
    "collapsed": false,
    "deletable": true,
    "editable": true
   },
   "outputs": [
    {
     "name": "stdout",
     "output_type": "stream",
     "text": [
      "50.0\n"
     ]
    }
   ],
   "source": [
    "with tf.Session() as sess:\n",
    "    init_op = tf.global_variables_initializer()\n",
    "    # Running init_op must be done separately - cannot be bundled with add_op.\n",
    "    sess.run(init_op)\n",
    "    add_result = sess.run(add_op, feed_dict={x: 20.0, y: 30.0})\n",
    "    print(add_result)"
   ]
  },
  {
   "cell_type": "markdown",
   "metadata": {
    "deletable": true,
    "editable": true
   },
   "source": [
    "# PlaceHolders"
   ]
  },
  {
   "cell_type": "markdown",
   "metadata": {
    "deletable": true,
    "editable": true
   },
   "source": [
    "TensorFlow has another symbolic type called `placeholder` that does the same job equally well."
   ]
  },
  {
   "cell_type": "code",
   "execution_count": 14,
   "metadata": {
    "collapsed": false,
    "deletable": true,
    "editable": true
   },
   "outputs": [
    {
     "name": "stdout",
     "output_type": "stream",
     "text": [
      "120.0\n"
     ]
    }
   ],
   "source": [
    "x = tf.placeholder(dtype=np.float64)\n",
    "y = tf.placeholder(dtype=np.float64)\n",
    "add_op = x + y\n",
    "\n",
    "with tf.Session() as sess:\n",
    "    add_result = sess.run(add_op, feed_dict={x: 50.0, y: 70.0})\n",
    "    print(add_result)\n",
    "    "
   ]
  },
  {
   "cell_type": "markdown",
   "metadata": {
    "deletable": true,
    "editable": true
   },
   "source": [
    "Note that placeholders \n",
    "\n",
    "* Do not require initial values\n",
    "* Do not require initialization ops\n",
    "* As a result, we must specify the input values via the `feed_dict` mechanism\n",
    "\n",
    "Why do we need both `placeholder` and `Variable`? In a Machine Learning context, variables are typically tensors that an ML program will 'learn', e.g. the regression coefficients in a regression model, or the weights of a neural network. They are often initialized with random samples from some probability distribution. Placeholders are typically used to represent components of training data. \n",
    "\n",
    "Another way to look at the difference between these two is from perspective of the TensorFlow graph. We want to be able to serialize/de-serialize the state of the compute graph of a trained model and be able to use it on new input data. All the internal state of the model (again. the weights of an ANN etc.) must be represented in terms of variables. Placeholders are not part of the serialization system."
   ]
  },
  {
   "cell_type": "markdown",
   "metadata": {
    "deletable": true,
    "editable": true
   },
   "source": [
    "# Using Numpy Matrices\n",
    "\n",
    "For most Machine Learning programs, we're more interested in 1D/2D array operations. "
   ]
  },
  {
   "cell_type": "code",
   "execution_count": 15,
   "metadata": {
    "collapsed": false,
    "deletable": true,
    "editable": true
   },
   "outputs": [],
   "source": [
    "x = tf.placeholder(shape=[10, 10], dtype=np.float64)\n",
    "y = tf.placeholder(shape=[10, 10], dtype=np.float64)\n",
    "\n",
    "matmul_op = tf.matmul(x, y)\n",
    "\n",
    "x_mat = np.random.rand(10, 10)\n",
    "y_mat = np.random.rand(10, 10)\n",
    "\n",
    "with tf.Session() as sess:\n",
    "    tf_matmul = sess.run(matmul_op, feed_dict={x: x_mat, y: y_mat})    "
   ]
  },
  {
   "cell_type": "code",
   "execution_count": 16,
   "metadata": {
    "collapsed": false,
    "deletable": true,
    "editable": true
   },
   "outputs": [
    {
     "name": "stdout",
     "output_type": "stream",
     "text": [
      "True\n"
     ]
    }
   ],
   "source": [
    "# Compare the result with what we'll get from standard numpy matrix multiplication\n",
    "\n",
    "np_matmul = np.dot(x_mat, y_mat)\n",
    "print(np.allclose(tf_matmul, np_matmul))"
   ]
  },
  {
   "cell_type": "markdown",
   "metadata": {
    "deletable": true,
    "editable": true
   },
   "source": [
    "# OLS Regression with TensorFlow"
   ]
  },
  {
   "cell_type": "markdown",
   "metadata": {
    "deletable": true,
    "editable": true
   },
   "source": [
    "Let's solve a more complicated problem with TensorFlow - Ordinary Least Square Regression. We can frame the OLS regression problem as an optimization problem:\n",
    "\n",
    "*Minimize $L = (\\hat{y} - y)^T(\\hat{y} - y)$, where $\\hat{y} = w^TX + b$ is the estimate of y.*\n",
    "\n",
    "In our example, we'll make up some data for the predictor $X$ and the target $y$. In our TensorFlow program, we'll represent  $X$ and $y$ with placeholders. We'll also need a variable for the vector of regression coefficient, $w$. We'll initialize w randomly and then use Gradient Descent to update w iteratively as:\n",
    "\n",
    "$w_{k+1} = w_k - \\eta \\nabla L_k$\n",
    "\n",
    "Where $\\eta$ is the learning rate and the $\\nabla L_k$ is the derivative of the loss function w.r.t $w$ evaluated at $w=w_k$."
   ]
  },
  {
   "cell_type": "code",
   "execution_count": 17,
   "metadata": {
    "collapsed": true,
    "deletable": true,
    "editable": true
   },
   "outputs": [],
   "source": [
    "x1 = np.random.rand(50)\n",
    "x2 = np.random.rand(50)\n",
    "\n",
    "y_ = 2*x1 + 3*x2 + 5"
   ]
  },
  {
   "cell_type": "code",
   "execution_count": 18,
   "metadata": {
    "collapsed": true,
    "deletable": true,
    "editable": true
   },
   "outputs": [],
   "source": [
    "X_data = np.column_stack([x1, x2, np.ones(50)])\n",
    "y_data = np.atleast_2d(y_).T"
   ]
  },
  {
   "cell_type": "code",
   "execution_count": 19,
   "metadata": {
    "collapsed": false,
    "deletable": true,
    "editable": true
   },
   "outputs": [
    {
     "name": "stdout",
     "output_type": "stream",
     "text": [
      "Result after 50 iterations: [ 2.01998758  3.00424542  4.98758518]\n",
      "Result after 100 iterations: [ 2.00089698  3.00055844  4.99926148]\n",
      "Result after 150 iterations: [ 2.00004779  3.00003861  4.99995629]\n",
      "Result after 200 iterations: [ 2.00000273  3.00000238  4.99999742]\n",
      "Result after 250 iterations: [ 2.00000016  3.00000014  4.99999985]\n",
      "Result after 300 iterations: [ 2.00000001  3.00000001  4.99999999]\n",
      "Result after 350 iterations: [ 2.  3.  5.]\n",
      "Result after 400 iterations: [ 2.  3.  5.]\n",
      "Result after 450 iterations: [ 2.  3.  5.]\n",
      "Result after 500 iterations: [ 2.  3.  5.]\n"
     ]
    }
   ],
   "source": [
    "X = tf.placeholder(shape=[50, 3], dtype=np.float64)\n",
    "y = tf.placeholder(shape=[50, 1], dtype=np.float64)\n",
    "\n",
    "w = tf.Variable(np.random.rand(3, 1), dtype=np.float64)\n",
    "y_hat = tf.matmul(X, w)\n",
    "loss_func = tf.reduce_mean(tf.squared_difference(y_hat, y))\n",
    "\n",
    "optimizer = tf.train.GradientDescentOptimizer(learning_rate=0.5)\n",
    "training_problem = optimizer.minimize(loss_func)\n",
    "\n",
    "with tf.Session() as session:\n",
    "    init_op = tf.global_variables_initializer()\n",
    "    session.run(init_op)\n",
    "    \n",
    "    for step in range(1, 501):\n",
    "        feed_dict = {X: X_data, y: y_data}\n",
    "        session.run(training_problem, feed_dict=feed_dict)\n",
    "        if step % 50 == 0:\n",
    "            current_w = np.squeeze(w.eval(session=session))\n",
    "            print('Result after {} iterations: {}'.format(step, current_w))"
   ]
  },
  {
   "cell_type": "markdown",
   "metadata": {
    "deletable": true,
    "editable": true
   },
   "source": [
    "## Saving the Trained Model"
   ]
  },
  {
   "cell_type": "code",
   "execution_count": 20,
   "metadata": {
    "collapsed": false,
    "deletable": true,
    "editable": true
   },
   "outputs": [
    {
     "name": "stdout",
     "output_type": "stream",
     "text": [
      "Result after 50 iterations: [ 2.03282598  3.01199644  4.97713402]\n",
      "Result after 100 iterations: [ 2.00157604  3.00110217  4.99864274]\n",
      "Result after 150 iterations: [ 2.00008645  3.0000723   4.99991972]\n",
      "Result after 200 iterations: [ 2.00000498  3.0000044   4.99999526]\n",
      "Result after 250 iterations: [ 2.00000029  3.00000026  4.99999972]\n",
      "Result after 300 iterations: [ 2.00000002  3.00000002  4.99999998]\n",
      "Result after 350 iterations: [ 2.  3.  5.]\n",
      "Result after 400 iterations: [ 2.  3.  5.]\n",
      "Result after 450 iterations: [ 2.  3.  5.]\n",
      "Result after 500 iterations: [ 2.  3.  5.]\n",
      "Model Saved in C:\\Temp\\tf_demo\\ols.ckpt\n"
     ]
    }
   ],
   "source": [
    "import os\n",
    "# Same as before, but with saving w\n",
    "\n",
    "X = tf.placeholder(shape=[50, 3], dtype=np.float64)\n",
    "y = tf.placeholder(shape=[50, 1], dtype=np.float64)\n",
    "\n",
    "w = tf.Variable(np.random.rand(3, 1), dtype=np.float64, name='w')\n",
    "y_hat = tf.matmul(X, w)\n",
    "loss_func = tf.reduce_mean(tf.squared_difference(y_hat, y))\n",
    "\n",
    "optimizer = tf.train.GradientDescentOptimizer(learning_rate=0.5)\n",
    "training_problem = optimizer.minimize(loss_func)\n",
    "\n",
    "with tf.Session() as session:\n",
    "    saver = tf.train.Saver()\n",
    "    init_op = tf.global_variables_initializer()\n",
    "    session.run(init_op)\n",
    "    \n",
    "    for step in range(1, 501):\n",
    "        feed_dict = {X: X_data, y: y_data}\n",
    "        session.run(training_problem, feed_dict=feed_dict)\n",
    "        if step % 50 == 0:\n",
    "            current_w = np.squeeze(w.eval(session=session))\n",
    "            print('Result after {} iterations: {}'.format(step, current_w))\n",
    "    \n",
    "    os.makedirs(r'C:\\Temp\\tf_demo', exist_ok=True)\n",
    "    save_loc = saver.save(session, r'C:\\Temp\\tf_demo\\ols.ckpt')\n",
    "    print('Model Saved in {}'.format(save_loc))    "
   ]
  },
  {
   "cell_type": "markdown",
   "metadata": {
    "deletable": true,
    "editable": true
   },
   "source": [
    "   \n",
    "   # Using the saved Model\n",
    "   \n",
    "   See \"loading_saved_variables.ipynb\"."
   ]
  },
  {
   "cell_type": "markdown",
   "metadata": {
    "deletable": true,
    "editable": true
   },
   "source": [
    "# Visualizing Learning: TensorBoard"
   ]
  },
  {
   "cell_type": "markdown",
   "metadata": {
    "deletable": true,
    "editable": true
   },
   "source": []
  },
  {
   "cell_type": "code",
   "execution_count": 22,
   "metadata": {
    "collapsed": true,
    "deletable": true,
    "editable": true
   },
   "outputs": [],
   "source": []
  },
  {
   "cell_type": "code",
   "execution_count": 24,
   "metadata": {
    "collapsed": false,
    "deletable": true,
    "editable": true
   },
   "outputs": [
    {
     "name": "stdout",
     "output_type": "stream",
     "text": [
      "Logging events to C:\\Temp\\ts_logs, use \n",
      "\ttensorboard --log-dir=C:\\Temp\\ts_logs\n",
      " to start a new tensorboard session.\n",
      "Result after 50 iterations: [ 2.00850849  2.99294237  4.99908551]\n",
      "Result after 100 iterations: [ 2.00020024  2.99991123  4.99994035]\n",
      "Result after 150 iterations: [ 2.0000063   3.00000076  4.99999637]\n",
      "Result after 200 iterations: [ 2.00000027  3.00000015  4.99999978]\n",
      "Result after 250 iterations: [ 2.00000001  3.00000001  4.99999999]\n",
      "Result after 300 iterations: [ 2.  3.  5.]\n",
      "Result after 350 iterations: [ 2.  3.  5.]\n",
      "Result after 400 iterations: [ 2.  3.  5.]\n",
      "Result after 450 iterations: [ 2.  3.  5.]\n",
      "Result after 500 iterations: [ 2.  3.  5.]\n"
     ]
    }
   ],
   "source": []
  },
  {
   "cell_type": "markdown",
   "metadata": {
    "deletable": true,
    "editable": true
   },
   "source": [
    "Once our program starts running (it need not finish) we can open a tensorborad session with the command:\n"
   ]
  },
  {
   "cell_type": "code",
   "execution_count": null,
   "metadata": {
    "collapsed": true,
    "deletable": true,
    "editable": true
   },
   "outputs": [],
   "source": []
  }
 ],
 "metadata": {
  "kernelspec": {
   "display_name": "Python 3",
   "language": "python",
   "name": "python3"
  },
  "language_info": {
   "codemirror_mode": {
    "name": "ipython",
    "version": 3
   },
   "file_extension": ".py",
   "mimetype": "text/x-python",
   "name": "python",
   "nbconvert_exporter": "python",
   "pygments_lexer": "ipython3",
   "version": "3.5.3"
  }
 },
 "nbformat": 4,
 "nbformat_minor": 2
}
