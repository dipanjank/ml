{
 "cells": [
  {
   "cell_type": "markdown",
   "metadata": {},
   "source": [
    "# Basic Tensorflow 2.x Estimator Example"
   ]
  },
  {
   "cell_type": "code",
   "execution_count": 11,
   "metadata": {},
   "outputs": [],
   "source": [
    "%matplotlib inline\n",
    "from matplotlib import pyplot as plt\n",
    "import tensorflow as tf\n",
    "import pandas as pd"
   ]
  },
  {
   "cell_type": "code",
   "execution_count": 12,
   "metadata": {},
   "outputs": [],
   "source": [
    "CSV_COLUMN_NAMES = ['SepalLength', 'SepalWidth', 'PetalLength', 'PetalWidth', 'Species']\n",
    "SPECIES = ['Setosa', 'Versicolor', 'Virginica']"
   ]
  },
  {
   "cell_type": "code",
   "execution_count": 13,
   "metadata": {},
   "outputs": [],
   "source": [
    "train_path = tf.keras.utils.get_file(\n",
    "    \"iris_training.csv\", \"https://storage.googleapis.com/download.tensorflow.org/data/iris_training.csv\")\n",
    "test_path = tf.keras.utils.get_file(\n",
    "    \"iris_test.csv\", \"https://storage.googleapis.com/download.tensorflow.org/data/iris_test.csv\")\n",
    "\n",
    "train = pd.read_csv(train_path, names=CSV_COLUMN_NAMES, header=0)\n",
    "test = pd.read_csv(test_path, names=CSV_COLUMN_NAMES, header=0)"
   ]
  },
  {
   "cell_type": "code",
   "execution_count": 14,
   "metadata": {},
   "outputs": [
    {
     "data": {
      "text/html": [
       "<div>\n",
       "<style scoped>\n",
       "    .dataframe tbody tr th:only-of-type {\n",
       "        vertical-align: middle;\n",
       "    }\n",
       "\n",
       "    .dataframe tbody tr th {\n",
       "        vertical-align: top;\n",
       "    }\n",
       "\n",
       "    .dataframe thead th {\n",
       "        text-align: right;\n",
       "    }\n",
       "</style>\n",
       "<table border=\"1\" class=\"dataframe\">\n",
       "  <thead>\n",
       "    <tr style=\"text-align: right;\">\n",
       "      <th></th>\n",
       "      <th>SepalLength</th>\n",
       "      <th>SepalWidth</th>\n",
       "      <th>PetalLength</th>\n",
       "      <th>PetalWidth</th>\n",
       "      <th>Species</th>\n",
       "    </tr>\n",
       "  </thead>\n",
       "  <tbody>\n",
       "    <tr>\n",
       "      <th>0</th>\n",
       "      <td>6.4</td>\n",
       "      <td>2.8</td>\n",
       "      <td>5.6</td>\n",
       "      <td>2.2</td>\n",
       "      <td>2</td>\n",
       "    </tr>\n",
       "    <tr>\n",
       "      <th>1</th>\n",
       "      <td>5.0</td>\n",
       "      <td>2.3</td>\n",
       "      <td>3.3</td>\n",
       "      <td>1.0</td>\n",
       "      <td>1</td>\n",
       "    </tr>\n",
       "    <tr>\n",
       "      <th>2</th>\n",
       "      <td>4.9</td>\n",
       "      <td>2.5</td>\n",
       "      <td>4.5</td>\n",
       "      <td>1.7</td>\n",
       "      <td>2</td>\n",
       "    </tr>\n",
       "    <tr>\n",
       "      <th>3</th>\n",
       "      <td>4.9</td>\n",
       "      <td>3.1</td>\n",
       "      <td>1.5</td>\n",
       "      <td>0.1</td>\n",
       "      <td>0</td>\n",
       "    </tr>\n",
       "    <tr>\n",
       "      <th>4</th>\n",
       "      <td>5.7</td>\n",
       "      <td>3.8</td>\n",
       "      <td>1.7</td>\n",
       "      <td>0.3</td>\n",
       "      <td>0</td>\n",
       "    </tr>\n",
       "  </tbody>\n",
       "</table>\n",
       "</div>"
      ],
      "text/plain": [
       "   SepalLength  SepalWidth  PetalLength  PetalWidth  Species\n",
       "0          6.4         2.8          5.6         2.2        2\n",
       "1          5.0         2.3          3.3         1.0        1\n",
       "2          4.9         2.5          4.5         1.7        2\n",
       "3          4.9         3.1          1.5         0.1        0\n",
       "4          5.7         3.8          1.7         0.3        0"
      ]
     },
     "execution_count": 14,
     "metadata": {},
     "output_type": "execute_result"
    }
   ],
   "source": [
    "train.head()"
   ]
  },
  {
   "cell_type": "code",
   "execution_count": 15,
   "metadata": {},
   "outputs": [
    {
     "data": {
      "text/html": [
       "<div>\n",
       "<style scoped>\n",
       "    .dataframe tbody tr th:only-of-type {\n",
       "        vertical-align: middle;\n",
       "    }\n",
       "\n",
       "    .dataframe tbody tr th {\n",
       "        vertical-align: top;\n",
       "    }\n",
       "\n",
       "    .dataframe thead th {\n",
       "        text-align: right;\n",
       "    }\n",
       "</style>\n",
       "<table border=\"1\" class=\"dataframe\">\n",
       "  <thead>\n",
       "    <tr style=\"text-align: right;\">\n",
       "      <th></th>\n",
       "      <th>SepalLength</th>\n",
       "      <th>SepalWidth</th>\n",
       "      <th>PetalLength</th>\n",
       "      <th>PetalWidth</th>\n",
       "      <th>Species</th>\n",
       "    </tr>\n",
       "  </thead>\n",
       "  <tbody>\n",
       "    <tr>\n",
       "      <th>0</th>\n",
       "      <td>5.9</td>\n",
       "      <td>3.0</td>\n",
       "      <td>4.2</td>\n",
       "      <td>1.5</td>\n",
       "      <td>1</td>\n",
       "    </tr>\n",
       "    <tr>\n",
       "      <th>1</th>\n",
       "      <td>6.9</td>\n",
       "      <td>3.1</td>\n",
       "      <td>5.4</td>\n",
       "      <td>2.1</td>\n",
       "      <td>2</td>\n",
       "    </tr>\n",
       "    <tr>\n",
       "      <th>2</th>\n",
       "      <td>5.1</td>\n",
       "      <td>3.3</td>\n",
       "      <td>1.7</td>\n",
       "      <td>0.5</td>\n",
       "      <td>0</td>\n",
       "    </tr>\n",
       "    <tr>\n",
       "      <th>3</th>\n",
       "      <td>6.0</td>\n",
       "      <td>3.4</td>\n",
       "      <td>4.5</td>\n",
       "      <td>1.6</td>\n",
       "      <td>1</td>\n",
       "    </tr>\n",
       "    <tr>\n",
       "      <th>4</th>\n",
       "      <td>5.5</td>\n",
       "      <td>2.5</td>\n",
       "      <td>4.0</td>\n",
       "      <td>1.3</td>\n",
       "      <td>1</td>\n",
       "    </tr>\n",
       "  </tbody>\n",
       "</table>\n",
       "</div>"
      ],
      "text/plain": [
       "   SepalLength  SepalWidth  PetalLength  PetalWidth  Species\n",
       "0          5.9         3.0          4.2         1.5        1\n",
       "1          6.9         3.1          5.4         2.1        2\n",
       "2          5.1         3.3          1.7         0.5        0\n",
       "3          6.0         3.4          4.5         1.6        1\n",
       "4          5.5         2.5          4.0         1.3        1"
      ]
     },
     "execution_count": 15,
     "metadata": {},
     "output_type": "execute_result"
    }
   ],
   "source": [
    "test.head()"
   ]
  },
  {
   "cell_type": "code",
   "execution_count": 16,
   "metadata": {},
   "outputs": [],
   "source": [
    "train_y = train.pop('Species')\n",
    "test_y = test.pop('Species')"
   ]
  },
  {
   "cell_type": "code",
   "execution_count": 17,
   "metadata": {},
   "outputs": [
    {
     "name": "stdout",
     "output_type": "stream",
     "text": [
      "INFO:tensorflow:Using default config.\n",
      "WARNING:tensorflow:Using temporary folder as model directory: /tmp/tmp8n44l1sp\n",
      "INFO:tensorflow:Using config: {'_model_dir': '/tmp/tmp8n44l1sp', '_tf_random_seed': None, '_save_summary_steps': 100, '_save_checkpoints_steps': None, '_save_checkpoints_secs': 600, '_session_config': allow_soft_placement: true\n",
      "graph_options {\n",
      "  rewrite_options {\n",
      "    meta_optimizer_iterations: ONE\n",
      "  }\n",
      "}\n",
      ", '_keep_checkpoint_max': 5, '_keep_checkpoint_every_n_hours': 10000, '_log_step_count_steps': 100, '_train_distribute': None, '_device_fn': None, '_protocol': None, '_eval_distribute': None, '_experimental_distribute': None, '_experimental_max_worker_delay_secs': None, '_session_creation_timeout_secs': 7200, '_service': None, '_cluster_spec': ClusterSpec({}), '_task_type': 'worker', '_task_id': 0, '_global_id_in_cluster': 0, '_master': '', '_evaluation_master': '', '_is_chief': True, '_num_ps_replicas': 0, '_num_worker_replicas': 1}\n"
     ]
    }
   ],
   "source": [
    "my_feature_columns = [tf.feature_column.numeric_column(n) for n in CSV_COLUMN_NAMES[:-1]]\n",
    "\n",
    "# Build a DNN with 2 hidden layers with 30 and 10 hidden nodes each.\n",
    "classifier = tf.estimator.DNNClassifier(\n",
    "    feature_columns=my_feature_columns,\n",
    "    # Two hidden layers of 30 and 10 nodes respectively.\n",
    "    hidden_units=[100, 70, 30],\n",
    "    dropout=0.4,\n",
    "    batch_norm=True,\n",
    "    # The model must choose between 3 classes.\n",
    "    n_classes=3)"
   ]
  },
  {
   "cell_type": "code",
   "execution_count": 18,
   "metadata": {},
   "outputs": [],
   "source": [
    "def input_fn(features, labels, training=True, batch_size=256):\n",
    "    \"\"\"An input function for training or evaluating\"\"\"\n",
    "    # Convert the inputs to a Dataset.\n",
    "    dataset = tf.data.Dataset.from_tensor_slices((dict(features), labels))\n",
    "\n",
    "    # Shuffle and repeat if you are in training mode.\n",
    "    if training:\n",
    "        dataset = dataset.shuffle(1000).repeat()\n",
    "    \n",
    "    return dataset.batch(batch_size)"
   ]
  },
  {
   "cell_type": "code",
   "execution_count": 19,
   "metadata": {},
   "outputs": [
    {
     "name": "stdout",
     "output_type": "stream",
     "text": [
      "INFO:tensorflow:Calling model_fn.\n",
      "WARNING:tensorflow:Layer dnn is casting an input tensor from dtype float64 to the layer's dtype of float32, which is new behavior in TensorFlow 2.  The layer has dtype float32 because it's dtype defaults to floatx.\n",
      "\n",
      "If you intended to run this layer in float32, you can safely ignore this warning. If in doubt, this warning is likely only an issue if you are porting a TensorFlow 1.X model to TensorFlow 2.\n",
      "\n",
      "To change all layers to have dtype float64 by default, call `tf.keras.backend.set_floatx('float64')`. To change just this layer, pass dtype='float64' to the layer constructor. If you are the author of this layer, you can disable autocasting by passing autocast=False to the base Layer constructor.\n",
      "\n",
      "INFO:tensorflow:Done calling model_fn.\n",
      "INFO:tensorflow:Create CheckpointSaverHook.\n",
      "INFO:tensorflow:Graph was finalized.\n",
      "INFO:tensorflow:Running local_init_op.\n",
      "INFO:tensorflow:Done running local_init_op.\n",
      "INFO:tensorflow:Calling checkpoint listeners before saving checkpoint 0...\n",
      "INFO:tensorflow:Saving checkpoints for 0 into /tmp/tmp8n44l1sp/model.ckpt.\n",
      "INFO:tensorflow:Calling checkpoint listeners after saving checkpoint 0...\n",
      "INFO:tensorflow:loss = 1.600374, step = 0\n",
      "INFO:tensorflow:global_step/sec: 53.0057\n",
      "INFO:tensorflow:loss = 1.0926721, step = 100 (1.888 sec)\n",
      "INFO:tensorflow:global_step/sec: 87.1654\n",
      "INFO:tensorflow:loss = 0.9113205, step = 200 (1.147 sec)\n",
      "INFO:tensorflow:global_step/sec: 93.9326\n",
      "INFO:tensorflow:loss = 0.87073004, step = 300 (1.065 sec)\n",
      "INFO:tensorflow:global_step/sec: 94.8911\n",
      "INFO:tensorflow:loss = 0.7772843, step = 400 (1.054 sec)\n",
      "INFO:tensorflow:global_step/sec: 86.6364\n",
      "INFO:tensorflow:loss = 0.7279996, step = 500 (1.158 sec)\n",
      "INFO:tensorflow:global_step/sec: 89.7222\n",
      "INFO:tensorflow:loss = 0.7231915, step = 600 (1.111 sec)\n",
      "INFO:tensorflow:global_step/sec: 89.3966\n",
      "INFO:tensorflow:loss = 0.63845384, step = 700 (1.119 sec)\n",
      "INFO:tensorflow:global_step/sec: 68.1108\n",
      "INFO:tensorflow:loss = 0.5568348, step = 800 (1.468 sec)\n",
      "INFO:tensorflow:global_step/sec: 88.3433\n",
      "INFO:tensorflow:loss = 0.6235163, step = 900 (1.132 sec)\n",
      "INFO:tensorflow:global_step/sec: 78.4812\n",
      "INFO:tensorflow:loss = 0.52214074, step = 1000 (1.274 sec)\n",
      "INFO:tensorflow:global_step/sec: 87.9986\n",
      "INFO:tensorflow:loss = 0.4478148, step = 1100 (1.137 sec)\n",
      "INFO:tensorflow:global_step/sec: 91.3676\n",
      "INFO:tensorflow:loss = 0.47777787, step = 1200 (1.094 sec)\n",
      "INFO:tensorflow:global_step/sec: 84.9459\n",
      "INFO:tensorflow:loss = 0.47331607, step = 1300 (1.195 sec)\n",
      "INFO:tensorflow:global_step/sec: 84.1643\n",
      "INFO:tensorflow:loss = 0.4505083, step = 1400 (1.174 sec)\n",
      "INFO:tensorflow:global_step/sec: 80.4309\n",
      "INFO:tensorflow:loss = 0.4207204, step = 1500 (1.243 sec)\n",
      "INFO:tensorflow:global_step/sec: 66.5536\n",
      "INFO:tensorflow:loss = 0.41956502, step = 1600 (1.499 sec)\n",
      "INFO:tensorflow:global_step/sec: 96.5096\n",
      "INFO:tensorflow:loss = 0.4462846, step = 1700 (1.036 sec)\n",
      "INFO:tensorflow:global_step/sec: 85.3599\n",
      "INFO:tensorflow:loss = 0.32475132, step = 1800 (1.172 sec)\n",
      "INFO:tensorflow:global_step/sec: 108.262\n",
      "INFO:tensorflow:loss = 0.37923172, step = 1900 (0.925 sec)\n",
      "INFO:tensorflow:global_step/sec: 83.7137\n",
      "INFO:tensorflow:loss = 0.36452478, step = 2000 (1.194 sec)\n",
      "INFO:tensorflow:global_step/sec: 88.465\n",
      "INFO:tensorflow:loss = 0.38535213, step = 2100 (1.130 sec)\n",
      "INFO:tensorflow:global_step/sec: 101.567\n",
      "INFO:tensorflow:loss = 0.33572862, step = 2200 (0.985 sec)\n",
      "INFO:tensorflow:global_step/sec: 87.5842\n",
      "INFO:tensorflow:loss = 0.3534934, step = 2300 (1.142 sec)\n",
      "INFO:tensorflow:global_step/sec: 94.3429\n",
      "INFO:tensorflow:loss = 0.3239227, step = 2400 (1.060 sec)\n",
      "INFO:tensorflow:global_step/sec: 80.7763\n",
      "INFO:tensorflow:loss = 0.327053, step = 2500 (1.237 sec)\n",
      "INFO:tensorflow:global_step/sec: 74.9821\n",
      "INFO:tensorflow:loss = 0.3208331, step = 2600 (1.334 sec)\n",
      "INFO:tensorflow:global_step/sec: 103.766\n",
      "INFO:tensorflow:loss = 0.36165467, step = 2700 (0.964 sec)\n",
      "INFO:tensorflow:global_step/sec: 94.8451\n",
      "INFO:tensorflow:loss = 0.29975787, step = 2800 (1.054 sec)\n",
      "INFO:tensorflow:global_step/sec: 76.5342\n",
      "INFO:tensorflow:loss = 0.32176068, step = 2900 (1.307 sec)\n",
      "INFO:tensorflow:global_step/sec: 89.174\n",
      "INFO:tensorflow:loss = 0.30785325, step = 3000 (1.121 sec)\n",
      "INFO:tensorflow:global_step/sec: 66.182\n",
      "INFO:tensorflow:loss = 0.26970717, step = 3100 (1.511 sec)\n",
      "INFO:tensorflow:global_step/sec: 87.1441\n",
      "INFO:tensorflow:loss = 0.31196308, step = 3200 (1.148 sec)\n",
      "INFO:tensorflow:global_step/sec: 94.7436\n",
      "INFO:tensorflow:loss = 0.30132756, step = 3300 (1.058 sec)\n",
      "INFO:tensorflow:global_step/sec: 71.4165\n",
      "INFO:tensorflow:loss = 0.26132414, step = 3400 (1.398 sec)\n",
      "INFO:tensorflow:global_step/sec: 113.753\n",
      "INFO:tensorflow:loss = 0.26862302, step = 3500 (0.879 sec)\n",
      "INFO:tensorflow:global_step/sec: 89.419\n",
      "INFO:tensorflow:loss = 0.2663845, step = 3600 (1.120 sec)\n",
      "INFO:tensorflow:global_step/sec: 101.655\n",
      "INFO:tensorflow:loss = 0.26221922, step = 3700 (0.983 sec)\n",
      "INFO:tensorflow:global_step/sec: 93.0449\n",
      "INFO:tensorflow:loss = 0.29295647, step = 3800 (1.075 sec)\n",
      "INFO:tensorflow:global_step/sec: 62.9541\n",
      "INFO:tensorflow:loss = 0.24381426, step = 3900 (1.589 sec)\n",
      "INFO:tensorflow:global_step/sec: 85.5509\n",
      "INFO:tensorflow:loss = 0.24033922, step = 4000 (1.169 sec)\n",
      "INFO:tensorflow:global_step/sec: 102.578\n",
      "INFO:tensorflow:loss = 0.27816463, step = 4100 (0.975 sec)\n",
      "INFO:tensorflow:global_step/sec: 90.1612\n",
      "INFO:tensorflow:loss = 0.24065542, step = 4200 (1.109 sec)\n",
      "INFO:tensorflow:global_step/sec: 65.6241\n",
      "INFO:tensorflow:loss = 0.26096588, step = 4300 (1.524 sec)\n",
      "INFO:tensorflow:global_step/sec: 77.6274\n",
      "INFO:tensorflow:loss = 0.2803558, step = 4400 (1.288 sec)\n",
      "INFO:tensorflow:global_step/sec: 67.728\n",
      "INFO:tensorflow:loss = 0.24616921, step = 4500 (1.485 sec)\n",
      "INFO:tensorflow:global_step/sec: 61.5194\n",
      "INFO:tensorflow:loss = 0.26034212, step = 4600 (1.618 sec)\n",
      "INFO:tensorflow:global_step/sec: 84.749\n",
      "INFO:tensorflow:loss = 0.24221416, step = 4700 (1.182 sec)\n",
      "INFO:tensorflow:global_step/sec: 70.3849\n",
      "INFO:tensorflow:loss = 0.23181188, step = 4800 (1.418 sec)\n",
      "INFO:tensorflow:global_step/sec: 92.6647\n",
      "INFO:tensorflow:loss = 0.25520942, step = 4900 (1.079 sec)\n",
      "INFO:tensorflow:Calling checkpoint listeners before saving checkpoint 5000...\n",
      "INFO:tensorflow:Saving checkpoints for 5000 into /tmp/tmp8n44l1sp/model.ckpt.\n",
      "INFO:tensorflow:Calling checkpoint listeners after saving checkpoint 5000...\n",
      "INFO:tensorflow:Loss for final step: 0.26404786.\n"
     ]
    },
    {
     "data": {
      "text/plain": [
       "<tensorflow_estimator.python.estimator.canned.dnn.DNNClassifierV2 at 0x7f2f500c4c50>"
      ]
     },
     "execution_count": 19,
     "metadata": {},
     "output_type": "execute_result"
    }
   ],
   "source": [
    "# Train the Model.\n",
    "classifier.train(\n",
    "    input_fn=lambda: input_fn(train, train_y, training=True),\n",
    "    steps=5000)"
   ]
  },
  {
   "cell_type": "code",
   "execution_count": 20,
   "metadata": {},
   "outputs": [
    {
     "name": "stdout",
     "output_type": "stream",
     "text": [
      "INFO:tensorflow:Calling model_fn.\n",
      "WARNING:tensorflow:Layer dnn is casting an input tensor from dtype float64 to the layer's dtype of float32, which is new behavior in TensorFlow 2.  The layer has dtype float32 because it's dtype defaults to floatx.\n",
      "\n",
      "If you intended to run this layer in float32, you can safely ignore this warning. If in doubt, this warning is likely only an issue if you are porting a TensorFlow 1.X model to TensorFlow 2.\n",
      "\n",
      "To change all layers to have dtype float64 by default, call `tf.keras.backend.set_floatx('float64')`. To change just this layer, pass dtype='float64' to the layer constructor. If you are the author of this layer, you can disable autocasting by passing autocast=False to the base Layer constructor.\n",
      "\n",
      "INFO:tensorflow:Done calling model_fn.\n",
      "INFO:tensorflow:Starting evaluation at 2020-09-10T13:57:46Z\n",
      "INFO:tensorflow:Graph was finalized.\n",
      "INFO:tensorflow:Restoring parameters from /tmp/tmp8n44l1sp/model.ckpt-5000\n",
      "INFO:tensorflow:Running local_init_op.\n",
      "INFO:tensorflow:Done running local_init_op.\n",
      "INFO:tensorflow:Inference Time : 0.36179s\n",
      "INFO:tensorflow:Finished evaluation at 2020-09-10-13:57:46\n",
      "INFO:tensorflow:Saving dict for global step 5000: accuracy = 0.96666664, average_loss = 0.13880864, global_step = 5000, loss = 0.13880864\n",
      "INFO:tensorflow:Saving 'checkpoint_path' summary for global step 5000: /tmp/tmp8n44l1sp/model.ckpt-5000\n"
     ]
    },
    {
     "data": {
      "text/plain": [
       "{'accuracy': 0.96666664,\n",
       " 'average_loss': 0.13880864,\n",
       " 'loss': 0.13880864,\n",
       " 'global_step': 5000}"
      ]
     },
     "execution_count": 20,
     "metadata": {},
     "output_type": "execute_result"
    }
   ],
   "source": [
    "classifier.evaluate(input_fn=lambda: input_fn(test, test_y, training=False))"
   ]
  }
 ],
 "metadata": {
  "kernelspec": {
   "display_name": "Python 3",
   "language": "python",
   "name": "python3"
  },
  "language_info": {
   "codemirror_mode": {
    "name": "ipython",
    "version": 3
   },
   "file_extension": ".py",
   "mimetype": "text/x-python",
   "name": "python",
   "nbconvert_exporter": "python",
   "pygments_lexer": "ipython3",
   "version": "3.7.9"
  }
 },
 "nbformat": 4,
 "nbformat_minor": 2
}
