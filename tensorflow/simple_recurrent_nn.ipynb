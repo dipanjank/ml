{
 "cells": [
  {
   "cell_type": "markdown",
   "metadata": {
    "deletable": true,
    "editable": true
   },
   "source": [
    "# RNN from scratch using TensorFlow\n",
    "\n",
    "<img src=\"http://d3kbpzbmcynnmx.cloudfront.net/wp-content/uploads/2015/09/rnn.jpg\">"
   ]
  },
  {
   "cell_type": "markdown",
   "metadata": {
    "deletable": true,
    "editable": true
   },
   "source": [
    "In this example, we'll build a simple RNN using TensorFlow and we'll train the RNN to add two binary numbers."
   ]
  },
  {
   "cell_type": "code",
   "execution_count": 1,
   "metadata": {
    "collapsed": false,
    "deletable": true,
    "editable": true
   },
   "outputs": [
    {
     "name": "stdout",
     "output_type": "stream",
     "text": [
      "Populating the interactive namespace from numpy and matplotlib\n"
     ]
    }
   ],
   "source": [
    "import numpy as np\n",
    "import pandas as pd\n",
    "import tensorflow as tf\n",
    "%pylab inline\n",
    "\n",
    "pylab.style.use('ggplot')"
   ]
  },
  {
   "cell_type": "markdown",
   "metadata": {
    "deletable": true,
    "editable": true
   },
   "source": [
    "First, we make some training data. To keep things simple, we'll only pick numbers between 0 and $2^6$, so that the sum of the two numbers are less than $2^7$."
   ]
  },
  {
   "cell_type": "code",
   "execution_count": 2,
   "metadata": {
    "collapsed": false,
    "deletable": true,
    "editable": true
   },
   "outputs": [],
   "source": [
    "max_digits = 6\n",
    "n_samples = 10000\n",
    "ints = np.random.randint(low=0, high=np.power(2, max_digits), size=[n_samples, 2])\n",
    "data_df = pd.DataFrame(ints, columns=['x1', 'x2'])"
   ]
  },
  {
   "cell_type": "code",
   "execution_count": 3,
   "metadata": {
    "collapsed": false,
    "deletable": true,
    "editable": true
   },
   "outputs": [
    {
     "data": {
      "text/html": [
       "<div>\n",
       "<table border=\"1\" class=\"dataframe\">\n",
       "  <thead>\n",
       "    <tr style=\"text-align: right;\">\n",
       "      <th></th>\n",
       "      <th>x1</th>\n",
       "      <th>x2</th>\n",
       "    </tr>\n",
       "  </thead>\n",
       "  <tbody>\n",
       "    <tr>\n",
       "      <th>0</th>\n",
       "      <td>13</td>\n",
       "      <td>37</td>\n",
       "    </tr>\n",
       "    <tr>\n",
       "      <th>1</th>\n",
       "      <td>9</td>\n",
       "      <td>5</td>\n",
       "    </tr>\n",
       "    <tr>\n",
       "      <th>2</th>\n",
       "      <td>63</td>\n",
       "      <td>31</td>\n",
       "    </tr>\n",
       "    <tr>\n",
       "      <th>3</th>\n",
       "      <td>58</td>\n",
       "      <td>11</td>\n",
       "    </tr>\n",
       "    <tr>\n",
       "      <th>4</th>\n",
       "      <td>30</td>\n",
       "      <td>29</td>\n",
       "    </tr>\n",
       "  </tbody>\n",
       "</table>\n",
       "</div>"
      ],
      "text/plain": [
       "   x1  x2\n",
       "0  13  37\n",
       "1   9   5\n",
       "2  63  31\n",
       "3  58  11\n",
       "4  30  29"
      ]
     },
     "execution_count": 3,
     "metadata": {},
     "output_type": "execute_result"
    }
   ],
   "source": [
    "data_df.head()"
   ]
  },
  {
   "cell_type": "code",
   "execution_count": 4,
   "metadata": {
    "collapsed": true,
    "deletable": true,
    "editable": true
   },
   "outputs": [],
   "source": [
    "data_df = data_df.assign(y=data_df.x1 + data_df.x2)"
   ]
  },
  {
   "cell_type": "code",
   "execution_count": 5,
   "metadata": {
    "collapsed": false,
    "deletable": true,
    "editable": true
   },
   "outputs": [
    {
     "data": {
      "text/html": [
       "<div>\n",
       "<table border=\"1\" class=\"dataframe\">\n",
       "  <thead>\n",
       "    <tr style=\"text-align: right;\">\n",
       "      <th></th>\n",
       "      <th>x1</th>\n",
       "      <th>x2</th>\n",
       "      <th>y</th>\n",
       "    </tr>\n",
       "  </thead>\n",
       "  <tbody>\n",
       "    <tr>\n",
       "      <th>0</th>\n",
       "      <td>13</td>\n",
       "      <td>37</td>\n",
       "      <td>50</td>\n",
       "    </tr>\n",
       "    <tr>\n",
       "      <th>1</th>\n",
       "      <td>9</td>\n",
       "      <td>5</td>\n",
       "      <td>14</td>\n",
       "    </tr>\n",
       "    <tr>\n",
       "      <th>2</th>\n",
       "      <td>63</td>\n",
       "      <td>31</td>\n",
       "      <td>94</td>\n",
       "    </tr>\n",
       "    <tr>\n",
       "      <th>3</th>\n",
       "      <td>58</td>\n",
       "      <td>11</td>\n",
       "      <td>69</td>\n",
       "    </tr>\n",
       "    <tr>\n",
       "      <th>4</th>\n",
       "      <td>30</td>\n",
       "      <td>29</td>\n",
       "      <td>59</td>\n",
       "    </tr>\n",
       "  </tbody>\n",
       "</table>\n",
       "</div>"
      ],
      "text/plain": [
       "   x1  x2   y\n",
       "0  13  37  50\n",
       "1   9   5  14\n",
       "2  63  31  94\n",
       "3  58  11  69\n",
       "4  30  29  59"
      ]
     },
     "execution_count": 5,
     "metadata": {},
     "output_type": "execute_result"
    }
   ],
   "source": [
    "data_df.head()"
   ]
  },
  {
   "cell_type": "markdown",
   "metadata": {
    "deletable": true,
    "editable": true
   },
   "source": [
    "The next step is to convert all the decimal numbers to their binary array representations. For this we'll use the `numpy.unpackbits` function. "
   ]
  },
  {
   "cell_type": "code",
   "execution_count": 6,
   "metadata": {
    "collapsed": false,
    "deletable": true,
    "editable": true
   },
   "outputs": [
    {
     "data": {
      "text/plain": [
       "array([0, 0, 0, 0, 1, 0, 1, 0], dtype=uint8)"
      ]
     },
     "execution_count": 6,
     "metadata": {},
     "output_type": "execute_result"
    }
   ],
   "source": [
    "np.unpackbits(np.array(10, dtype=np.uint8))"
   ]
  },
  {
   "cell_type": "markdown",
   "metadata": {
    "deletable": true,
    "editable": true
   },
   "source": [
    "First y. The 5000 y values become a $1 \\times 8 \\times 5000$ 2D array."
   ]
  },
  {
   "cell_type": "code",
   "execution_count": 7,
   "metadata": {
    "collapsed": false,
    "deletable": true,
    "editable": true
   },
   "outputs": [
    {
     "data": {
      "text/plain": [
       "array([50], dtype=uint8)"
      ]
     },
     "execution_count": 7,
     "metadata": {},
     "output_type": "execute_result"
    }
   ],
   "source": [
    "y_data = np.unpackbits(data_df.y.astype(np.uint8))\n",
    "y_data =y_data.astype(np.float64).reshape(n_samples, 8, 1)\n",
    "y_data = np.transpose(y_data, axes=[1, 0, 2])\n",
    "\n",
    "np.packbits(y_data[:, 0, :].astype(np.int64))"
   ]
  },
  {
   "cell_type": "code",
   "execution_count": 8,
   "metadata": {
    "collapsed": false
   },
   "outputs": [
    {
     "data": {
      "text/plain": [
       "(8, 10000, 1)"
      ]
     },
     "execution_count": 8,
     "metadata": {},
     "output_type": "execute_result"
    }
   ],
   "source": [
    "y_data.shape"
   ]
  },
  {
   "cell_type": "markdown",
   "metadata": {
    "deletable": true,
    "editable": true
   },
   "source": [
    "Similarly, the 5000 x1 and x2 values become an $8 \\times 5000 \\times$ 2 3D array."
   ]
  },
  {
   "cell_type": "code",
   "execution_count": 9,
   "metadata": {
    "collapsed": false,
    "deletable": true,
    "editable": true
   },
   "outputs": [
    {
     "data": {
      "text/plain": [
       "array([13, 37], dtype=uint8)"
      ]
     },
     "execution_count": 9,
     "metadata": {},
     "output_type": "execute_result"
    }
   ],
   "source": [
    "x_data = np.zeros([2, n_samples, 8], dtype=np.uint8)\n",
    "\n",
    "x_data[0, :, :] = np.unpackbits(data_df.x1.astype(np.uint8)).reshape(n_samples, 8)\n",
    "x_data[1, :, :] = np.unpackbits(data_df.x2.astype(np.uint8)).reshape(n_samples, 8)\n",
    "\n",
    "x_data = x_data.astype(np.float64)\n",
    "x_data = np.transpose(x_data, axes=[2, 1, 0])\n",
    "\n",
    "np.packbits(x_data[:, 0, :].T.astype(np.int64))"
   ]
  },
  {
   "cell_type": "code",
   "execution_count": 10,
   "metadata": {
    "collapsed": false,
    "deletable": true,
    "editable": true
   },
   "outputs": [
    {
     "data": {
      "text/plain": [
       "(8, 10000, 2)"
      ]
     },
     "execution_count": 10,
     "metadata": {},
     "output_type": "execute_result"
    }
   ],
   "source": [
    "x_data.shape"
   ]
  },
  {
   "cell_type": "code",
   "execution_count": 26,
   "metadata": {
    "collapsed": false,
    "deletable": true,
    "editable": true
   },
   "outputs": [
    {
     "name": "stdout",
     "output_type": "stream",
     "text": [
      "1 0.276770490903\n",
      "100 0.216759928338\n",
      "200 0.208132325993\n",
      "300 0.205026104057\n",
      "400 0.201898073655\n",
      "500 0.20100555917\n",
      "600 0.200700495417\n",
      "700 0.200278464797\n",
      "800 0.197584750055\n",
      "900 0.192247372264\n",
      "1000 0.185061663138\n",
      "1100 0.182831077603\n",
      "1200 0.181365569987\n",
      "1300 0.180268048363\n",
      "1400 0.179816693073\n",
      "1500 0.179464499267\n",
      "1600 0.180120917316\n",
      "1700 0.179113022599\n",
      "1800 0.178714259609\n",
      "1900 0.178427977678\n",
      "2000 0.178198863741\n"
     ]
    }
   ],
   "source": [
    "# Build the RNN graph\n",
    "hidden_dim = 3\n",
    "\n",
    "tf.reset_default_graph()\n",
    "\n",
    "with tf.variable_scope('input'):\n",
    "    x_in = tf.placeholder(shape=(8, n_samples, 2), dtype=np.float64, name='x')\n",
    "    y_in = tf.placeholder(shape=(8, n_samples, 1), dtype=np.float64, name='y')\n",
    "\n",
    "with tf.variable_scope('hidden'):\n",
    "    # Check dimensions\n",
    "    w_f = tf.get_variable(shape=[hidden_dim, 1], dtype=np.float64, \n",
    "                      initializer=tf.truncated_normal_initializer(), \n",
    "                      name='w_f')\n",
    "    w_h = tf.get_variable(shape=[2, hidden_dim], dtype=np.float64, \n",
    "                      initializer=tf.truncated_normal_initializer(), \n",
    "                     name='w_h')\n",
    "    u_h = tf.get_variable(shape=[1, hidden_dim], dtype=np.float64, \n",
    "                      initializer=tf.truncated_normal_initializer(),\n",
    "                     name='u_h')\n",
    "    \n",
    "    b_f = tf.get_variable(shape=[1, 1], dtype=np.float64, \n",
    "                      initializer=tf.zeros_initializer(), \n",
    "                      name='b_f')\n",
    "    b_h = tf.get_variable(shape=[1, hidden_dim], dtype=np.float64, \n",
    "                      initializer=tf.zeros_initializer(), \n",
    "                      name='b_h')\n",
    "\n",
    "with tf.variable_scope('output'):\n",
    "    y_t = tf.get_variable(shape=(n_samples, 1), dtype=np.float64, \n",
    "                          initializer=tf.zeros_initializer(), name='y_t')\n",
    "    y_out = []\n",
    "    \n",
    "    x_pos = tf.unstack(x_in, axis=0) \n",
    "    # x_pos is a tensor of length 8, each item 5000 * 2\n",
    "    \n",
    "    y_pos = tf.unstack(y_in, axis=0) \n",
    "    # y_pos is a tensor of length 8, each item 5000 * 1\n",
    "    \n",
    "    # reverse both x_pos and y_pos because \n",
    "    # we want to start at the LSB and work our way to the MSB\n",
    "    for x, y in zip(reversed(x_pos), reversed(y_pos)):\n",
    "        # dim check\n",
    "        # x: [5000, 2], w_h: [2, 3] -> tf.matmul(x, w_h): [5000, 3]\n",
    "        # y_t: [5000, 1], u_h: [1, 3] -> tf.matmul(y_t, u_h): [5000, 3]\n",
    "        # b_h: [1, 3] is broadcast into the sum\n",
    "        # finally, h_t: [5000, 3]\n",
    "        h_t = tf.nn.sigmoid(tf.matmul(x, w_h) + tf.matmul(y_t, u_h) + b_h, name='h_t')\n",
    "        \n",
    "        # dim check\n",
    "        # w_f: [3, 1] -> tf.matmul(h_t, w_f): [5000, 1]\n",
    "        # b_f is again broadcast\n",
    "        y_t = tf.nn.sigmoid(tf.matmul(h_t, w_f) + b_f, name='y_t')\n",
    "        y_out.append(y_t)\n",
    "        \n",
    "with tf.variable_scope('loss'):\n",
    "    losses = []\n",
    "    for y_calc, y_actual in zip(y_out, reversed(y_pos)):       \n",
    "        loss = tf.squared_difference(y_calc, y_actual)\n",
    "        losses.append(loss)\n",
    "        \n",
    "    optimizer = tf.train.AdamOptimizer(learning_rate=0.04)\n",
    "    mean_loss = tf.reduce_mean(losses, name='ms_loss')\n",
    "    train_op = optimizer.minimize(mean_loss, name='minimization')\n",
    "        \n",
    "init = tf.global_variables_initializer()\n",
    "\n",
    "n_training_iters = 2000\n",
    "\n",
    "with tf.Session() as sess:\n",
    "    sess.run(init) \n",
    "    \n",
    "    for i in range(1, n_training_iters+1):\n",
    "        _, loss_val = sess.run([train_op, mean_loss], feed_dict={x_in: x_data, y_in: y_data})\n",
    "\n",
    "        if i == 1 or i % 100 == 0:\n",
    "            print(i, loss_val)\n",
    "            \n",
    "    y_out_vals = sess.run(y_out, feed_dict={x_in: x_data, y_in: y_data})\n",
    "    "
   ]
  },
  {
   "cell_type": "code",
   "execution_count": 28,
   "metadata": {
    "collapsed": false
   },
   "outputs": [
    {
     "data": {
      "text/plain": [
       "8"
      ]
     },
     "execution_count": 28,
     "metadata": {},
     "output_type": "execute_result"
    }
   ],
   "source": [
    "len(y_out_vals)"
   ]
  },
  {
   "cell_type": "code",
   "execution_count": 29,
   "metadata": {
    "collapsed": false
   },
   "outputs": [],
   "source": [
    "y_out_t = np.array(y_out_vals)[:, :, 0]"
   ]
  },
  {
   "cell_type": "code",
   "execution_count": 30,
   "metadata": {
    "collapsed": false
   },
   "outputs": [],
   "source": [
    "y_out_f = np.fliplr(y_out_t.T)"
   ]
  },
  {
   "cell_type": "code",
   "execution_count": 31,
   "metadata": {
    "collapsed": true
   },
   "outputs": [],
   "source": [
    "y_out_int = np.where(y_out_f > 0.5, 1, 0).astype(np.uint8)"
   ]
  },
  {
   "cell_type": "code",
   "execution_count": 32,
   "metadata": {
    "collapsed": true
   },
   "outputs": [],
   "source": [
    "nums = np.packbits(y_out_int)"
   ]
  },
  {
   "cell_type": "code",
   "execution_count": 33,
   "metadata": {
    "collapsed": false
   },
   "outputs": [
    {
     "data": {
      "text/plain": [
       "array([ 60,  28, 126, ...,  63,  62, 126], dtype=uint8)"
      ]
     },
     "execution_count": 33,
     "metadata": {},
     "output_type": "execute_result"
    }
   ],
   "source": [
    "nums"
   ]
  },
  {
   "cell_type": "code",
   "execution_count": 34,
   "metadata": {
    "collapsed": false
   },
   "outputs": [],
   "source": [
    "results = pd.DataFrame({'sum_actual': data_df.y, 'sum_predicted': nums})"
   ]
  },
  {
   "cell_type": "code",
   "execution_count": 35,
   "metadata": {
    "collapsed": false
   },
   "outputs": [
    {
     "data": {
      "text/plain": [
       "<matplotlib.axes._subplots.AxesSubplot at 0x1db3f772400>"
      ]
     },
     "execution_count": 35,
     "metadata": {},
     "output_type": "execute_result"
    },
    {
     "data": {
      "image/png": "[encoded data removed]",
      "text/plain": [
       "<matplotlib.figure.Figure at 0x1db3f5ec748>"
      ]
     },
     "metadata": {},
     "output_type": "display_data"
    }
   ],
   "source": [
    "results.sample(20).plot(kind='bar')"
   ]
  },
  {
   "cell_type": "code",
   "execution_count": 36,
   "metadata": {
    "collapsed": false
   },
   "outputs": [
    {
     "data": {
      "text/html": [
       "<div>\n",
       "<table border=\"1\" class=\"dataframe\">\n",
       "  <thead>\n",
       "    <tr style=\"text-align: right;\">\n",
       "      <th></th>\n",
       "      <th>sum_actual</th>\n",
       "      <th>sum_predicted</th>\n",
       "    </tr>\n",
       "  </thead>\n",
       "  <tbody>\n",
       "    <tr>\n",
       "      <th>9980</th>\n",
       "      <td>55</td>\n",
       "      <td>127</td>\n",
       "    </tr>\n",
       "    <tr>\n",
       "      <th>9981</th>\n",
       "      <td>60</td>\n",
       "      <td>62</td>\n",
       "    </tr>\n",
       "    <tr>\n",
       "      <th>9982</th>\n",
       "      <td>47</td>\n",
       "      <td>111</td>\n",
       "    </tr>\n",
       "    <tr>\n",
       "      <th>9983</th>\n",
       "      <td>88</td>\n",
       "      <td>126</td>\n",
       "    </tr>\n",
       "    <tr>\n",
       "      <th>9984</th>\n",
       "      <td>99</td>\n",
       "      <td>127</td>\n",
       "    </tr>\n",
       "    <tr>\n",
       "      <th>9985</th>\n",
       "      <td>83</td>\n",
       "      <td>123</td>\n",
       "    </tr>\n",
       "    <tr>\n",
       "      <th>9986</th>\n",
       "      <td>26</td>\n",
       "      <td>22</td>\n",
       "    </tr>\n",
       "    <tr>\n",
       "      <th>9987</th>\n",
       "      <td>89</td>\n",
       "      <td>127</td>\n",
       "    </tr>\n",
       "    <tr>\n",
       "      <th>9988</th>\n",
       "      <td>41</td>\n",
       "      <td>103</td>\n",
       "    </tr>\n",
       "    <tr>\n",
       "      <th>9989</th>\n",
       "      <td>63</td>\n",
       "      <td>63</td>\n",
       "    </tr>\n",
       "    <tr>\n",
       "      <th>9990</th>\n",
       "      <td>72</td>\n",
       "      <td>126</td>\n",
       "    </tr>\n",
       "    <tr>\n",
       "      <th>9991</th>\n",
       "      <td>103</td>\n",
       "      <td>119</td>\n",
       "    </tr>\n",
       "    <tr>\n",
       "      <th>9992</th>\n",
       "      <td>57</td>\n",
       "      <td>121</td>\n",
       "    </tr>\n",
       "    <tr>\n",
       "      <th>9993</th>\n",
       "      <td>103</td>\n",
       "      <td>127</td>\n",
       "    </tr>\n",
       "    <tr>\n",
       "      <th>9994</th>\n",
       "      <td>92</td>\n",
       "      <td>126</td>\n",
       "    </tr>\n",
       "    <tr>\n",
       "      <th>9995</th>\n",
       "      <td>84</td>\n",
       "      <td>126</td>\n",
       "    </tr>\n",
       "    <tr>\n",
       "      <th>9996</th>\n",
       "      <td>86</td>\n",
       "      <td>110</td>\n",
       "    </tr>\n",
       "    <tr>\n",
       "      <th>9997</th>\n",
       "      <td>79</td>\n",
       "      <td>63</td>\n",
       "    </tr>\n",
       "    <tr>\n",
       "      <th>9998</th>\n",
       "      <td>62</td>\n",
       "      <td>62</td>\n",
       "    </tr>\n",
       "    <tr>\n",
       "      <th>9999</th>\n",
       "      <td>58</td>\n",
       "      <td>126</td>\n",
       "    </tr>\n",
       "  </tbody>\n",
       "</table>\n",
       "</div>"
      ],
      "text/plain": [
       "      sum_actual  sum_predicted\n",
       "9980          55            127\n",
       "9981          60             62\n",
       "9982          47            111\n",
       "9983          88            126\n",
       "9984          99            127\n",
       "9985          83            123\n",
       "9986          26             22\n",
       "9987          89            127\n",
       "9988          41            103\n",
       "9989          63             63\n",
       "9990          72            126\n",
       "9991         103            119\n",
       "9992          57            121\n",
       "9993         103            127\n",
       "9994          92            126\n",
       "9995          84            126\n",
       "9996          86            110\n",
       "9997          79             63\n",
       "9998          62             62\n",
       "9999          58            126"
      ]
     },
     "execution_count": 36,
     "metadata": {},
     "output_type": "execute_result"
    }
   ],
   "source": [
    "results.tail(20)"
   ]
  },
  {
   "cell_type": "code",
   "execution_count": 37,
   "metadata": {
    "collapsed": false
   },
   "outputs": [
    {
     "data": {
      "text/html": [
       "<div>\n",
       "<table border=\"1\" class=\"dataframe\">\n",
       "  <thead>\n",
       "    <tr style=\"text-align: right;\">\n",
       "      <th></th>\n",
       "      <th>sum_actual</th>\n",
       "      <th>sum_predicted</th>\n",
       "    </tr>\n",
       "  </thead>\n",
       "  <tbody>\n",
       "    <tr>\n",
       "      <th>sum_actual</th>\n",
       "      <td>1.000000</td>\n",
       "      <td>0.706588</td>\n",
       "    </tr>\n",
       "    <tr>\n",
       "      <th>sum_predicted</th>\n",
       "      <td>0.706588</td>\n",
       "      <td>1.000000</td>\n",
       "    </tr>\n",
       "  </tbody>\n",
       "</table>\n",
       "</div>"
      ],
      "text/plain": [
       "               sum_actual  sum_predicted\n",
       "sum_actual       1.000000       0.706588\n",
       "sum_predicted    0.706588       1.000000"
      ]
     },
     "execution_count": 37,
     "metadata": {},
     "output_type": "execute_result"
    }
   ],
   "source": [
    "results.corr()"
   ]
  }
 ],
 "metadata": {
  "kernelspec": {
   "display_name": "Python 3",
   "language": "python",
   "name": "python3"
  },
  "language_info": {
   "codemirror_mode": {
    "name": "ipython",
    "version": 3
   },
   "file_extension": ".py",
   "mimetype": "text/x-python",
   "name": "python",
   "nbconvert_exporter": "python",
   "pygments_lexer": "ipython3",
   "version": "3.5.3"
  }
 },
 "nbformat": 4,
 "nbformat_minor": 2
}
