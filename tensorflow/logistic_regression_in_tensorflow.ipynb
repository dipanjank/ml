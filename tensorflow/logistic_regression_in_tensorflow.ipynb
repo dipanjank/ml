{
 "cells": [
  {
   "cell_type": "markdown",
   "metadata": {
    "deletable": true,
    "editable": true
   },
   "source": [
    "<h1 align=\"center\">Logistic Regression in TensorFlow</h1>\n",
    "\n",
    "In this notebook, we illustrate the basics of Logistic Regression using TensorFlow, on the <a href=\"https://archive.ics.uci.edu/ml/datasets/pima+indians+diabetes\">Pima Indian Diabetes dataset</a> from UCI Machine Learning Archive."
   ]
  },
  {
   "cell_type": "code",
   "execution_count": 1,
   "metadata": {
    "collapsed": false,
    "deletable": true,
    "editable": true
   },
   "outputs": [
    {
     "name": "stdout",
     "output_type": "stream",
     "text": [
      "Populating the interactive namespace from numpy and matplotlib\n"
     ]
    }
   ],
   "source": [
    "import numpy as np\n",
    "import pandas as pd\n",
    "%pylab inline\n",
    "pylab.style.use('ggplot')"
   ]
  },
  {
   "cell_type": "code",
   "execution_count": 2,
   "metadata": {
    "collapsed": true,
    "deletable": true,
    "editable": true
   },
   "outputs": [],
   "source": [
    "url = 'https://archive.ics.uci.edu/ml/machine-learning-databases/pima-indians-diabetes/pima-indians-diabetes.data'\n",
    "pima_df = pd.read_csv(url, header=None)"
   ]
  },
  {
   "cell_type": "markdown",
   "metadata": {
    "deletable": true,
    "editable": true
   },
   "source": [
    "# Feature Information\n",
    "\n",
    "For Each Attribute: (all numeric-valued)\n",
    "    \n",
    "   1. Number of times pregnant\n",
    "   2. Plasma glucose concentration a 2 hours in an oral glucose tolerance test\n",
    "   3. Diastolic blood pressure (mm Hg)\n",
    "   4. Triceps skin fold thickness (mm)\n",
    "   5. 2-Hour serum insulin (mu U/ml)\n",
    "   6. Body mass index (weight in kg/(height in m)^2)\n",
    "   7. Diabetes pedigree function\n",
    "   8. Age (years)\n",
    "   9. Class variable (0 or 1)\n",
    "   \n",
    "First, we read from the UCI archive into a DataFrame."
   ]
  },
  {
   "cell_type": "code",
   "execution_count": 3,
   "metadata": {
    "collapsed": false,
    "deletable": true,
    "editable": true
   },
   "outputs": [],
   "source": [
    "pima_df.columns = ['n_pregnant', 'glucose_conc', 'bp', \n",
    "                   'skin_fold_thickness', 'serum_insulin', 'bmi', 'diabetes_ped_func', \n",
    "                   'age', 'has_diabetes']"
   ]
  },
  {
   "cell_type": "code",
   "execution_count": 4,
   "metadata": {
    "collapsed": false,
    "deletable": true,
    "editable": true
   },
   "outputs": [
    {
     "data": {
      "text/html": [
       "<div>\n",
       "<table border=\"1\" class=\"dataframe\">\n",
       "  <thead>\n",
       "    <tr style=\"text-align: right;\">\n",
       "      <th></th>\n",
       "      <th>n_pregnant</th>\n",
       "      <th>glucose_conc</th>\n",
       "      <th>bp</th>\n",
       "      <th>skin_fold_thickness</th>\n",
       "      <th>serum_insulin</th>\n",
       "      <th>bmi</th>\n",
       "      <th>diabetes_ped_func</th>\n",
       "      <th>age</th>\n",
       "      <th>has_diabetes</th>\n",
       "    </tr>\n",
       "  </thead>\n",
       "  <tbody>\n",
       "    <tr>\n",
       "      <th>0</th>\n",
       "      <td>6</td>\n",
       "      <td>148</td>\n",
       "      <td>72</td>\n",
       "      <td>35</td>\n",
       "      <td>0</td>\n",
       "      <td>33.6</td>\n",
       "      <td>0.627</td>\n",
       "      <td>50</td>\n",
       "      <td>1</td>\n",
       "    </tr>\n",
       "    <tr>\n",
       "      <th>1</th>\n",
       "      <td>1</td>\n",
       "      <td>85</td>\n",
       "      <td>66</td>\n",
       "      <td>29</td>\n",
       "      <td>0</td>\n",
       "      <td>26.6</td>\n",
       "      <td>0.351</td>\n",
       "      <td>31</td>\n",
       "      <td>0</td>\n",
       "    </tr>\n",
       "    <tr>\n",
       "      <th>2</th>\n",
       "      <td>8</td>\n",
       "      <td>183</td>\n",
       "      <td>64</td>\n",
       "      <td>0</td>\n",
       "      <td>0</td>\n",
       "      <td>23.3</td>\n",
       "      <td>0.672</td>\n",
       "      <td>32</td>\n",
       "      <td>1</td>\n",
       "    </tr>\n",
       "    <tr>\n",
       "      <th>3</th>\n",
       "      <td>1</td>\n",
       "      <td>89</td>\n",
       "      <td>66</td>\n",
       "      <td>23</td>\n",
       "      <td>94</td>\n",
       "      <td>28.1</td>\n",
       "      <td>0.167</td>\n",
       "      <td>21</td>\n",
       "      <td>0</td>\n",
       "    </tr>\n",
       "    <tr>\n",
       "      <th>4</th>\n",
       "      <td>0</td>\n",
       "      <td>137</td>\n",
       "      <td>40</td>\n",
       "      <td>35</td>\n",
       "      <td>168</td>\n",
       "      <td>43.1</td>\n",
       "      <td>2.288</td>\n",
       "      <td>33</td>\n",
       "      <td>1</td>\n",
       "    </tr>\n",
       "  </tbody>\n",
       "</table>\n",
       "</div>"
      ],
      "text/plain": [
       "   n_pregnant  glucose_conc  bp  skin_fold_thickness  serum_insulin   bmi  \\\n",
       "0           6           148  72                   35              0  33.6   \n",
       "1           1            85  66                   29              0  26.6   \n",
       "2           8           183  64                    0              0  23.3   \n",
       "3           1            89  66                   23             94  28.1   \n",
       "4           0           137  40                   35            168  43.1   \n",
       "\n",
       "   diabetes_ped_func  age  has_diabetes  \n",
       "0              0.627   50             1  \n",
       "1              0.351   31             0  \n",
       "2              0.672   32             1  \n",
       "3              0.167   21             0  \n",
       "4              2.288   33             1  "
      ]
     },
     "execution_count": 4,
     "metadata": {},
     "output_type": "execute_result"
    }
   ],
   "source": [
    "pima_df.head()"
   ]
  },
  {
   "cell_type": "code",
   "execution_count": 5,
   "metadata": {
    "collapsed": false,
    "deletable": true,
    "editable": true
   },
   "outputs": [],
   "source": [
    "# Map the values in the target column: 1 -> 'yes', 0 -> 'no'\n",
    "pima_df = pima_df.assign(has_diabetes=pima_df.has_diabetes.map(lambda v: 'yes' if v == 1 else 'no'))"
   ]
  },
  {
   "cell_type": "code",
   "execution_count": 6,
   "metadata": {
    "collapsed": false,
    "deletable": true,
    "editable": true
   },
   "outputs": [
    {
     "data": {
      "text/html": [
       "<div>\n",
       "<table border=\"1\" class=\"dataframe\">\n",
       "  <thead>\n",
       "    <tr style=\"text-align: right;\">\n",
       "      <th></th>\n",
       "      <th>n_pregnant</th>\n",
       "      <th>glucose_conc</th>\n",
       "      <th>bp</th>\n",
       "      <th>skin_fold_thickness</th>\n",
       "      <th>serum_insulin</th>\n",
       "      <th>bmi</th>\n",
       "      <th>diabetes_ped_func</th>\n",
       "      <th>age</th>\n",
       "      <th>has_diabetes</th>\n",
       "    </tr>\n",
       "  </thead>\n",
       "  <tbody>\n",
       "    <tr>\n",
       "      <th>0</th>\n",
       "      <td>6</td>\n",
       "      <td>148</td>\n",
       "      <td>72</td>\n",
       "      <td>35</td>\n",
       "      <td>0</td>\n",
       "      <td>33.6</td>\n",
       "      <td>0.627</td>\n",
       "      <td>50</td>\n",
       "      <td>yes</td>\n",
       "    </tr>\n",
       "    <tr>\n",
       "      <th>1</th>\n",
       "      <td>1</td>\n",
       "      <td>85</td>\n",
       "      <td>66</td>\n",
       "      <td>29</td>\n",
       "      <td>0</td>\n",
       "      <td>26.6</td>\n",
       "      <td>0.351</td>\n",
       "      <td>31</td>\n",
       "      <td>no</td>\n",
       "    </tr>\n",
       "    <tr>\n",
       "      <th>2</th>\n",
       "      <td>8</td>\n",
       "      <td>183</td>\n",
       "      <td>64</td>\n",
       "      <td>0</td>\n",
       "      <td>0</td>\n",
       "      <td>23.3</td>\n",
       "      <td>0.672</td>\n",
       "      <td>32</td>\n",
       "      <td>yes</td>\n",
       "    </tr>\n",
       "    <tr>\n",
       "      <th>3</th>\n",
       "      <td>1</td>\n",
       "      <td>89</td>\n",
       "      <td>66</td>\n",
       "      <td>23</td>\n",
       "      <td>94</td>\n",
       "      <td>28.1</td>\n",
       "      <td>0.167</td>\n",
       "      <td>21</td>\n",
       "      <td>no</td>\n",
       "    </tr>\n",
       "    <tr>\n",
       "      <th>4</th>\n",
       "      <td>0</td>\n",
       "      <td>137</td>\n",
       "      <td>40</td>\n",
       "      <td>35</td>\n",
       "      <td>168</td>\n",
       "      <td>43.1</td>\n",
       "      <td>2.288</td>\n",
       "      <td>33</td>\n",
       "      <td>yes</td>\n",
       "    </tr>\n",
       "  </tbody>\n",
       "</table>\n",
       "</div>"
      ],
      "text/plain": [
       "   n_pregnant  glucose_conc  bp  skin_fold_thickness  serum_insulin   bmi  \\\n",
       "0           6           148  72                   35              0  33.6   \n",
       "1           1            85  66                   29              0  26.6   \n",
       "2           8           183  64                    0              0  23.3   \n",
       "3           1            89  66                   23             94  28.1   \n",
       "4           0           137  40                   35            168  43.1   \n",
       "\n",
       "   diabetes_ped_func  age has_diabetes  \n",
       "0              0.627   50          yes  \n",
       "1              0.351   31           no  \n",
       "2              0.672   32          yes  \n",
       "3              0.167   21           no  \n",
       "4              2.288   33          yes  "
      ]
     },
     "execution_count": 6,
     "metadata": {},
     "output_type": "execute_result"
    }
   ],
   "source": [
    "pima_df.head()"
   ]
  },
  {
   "cell_type": "markdown",
   "metadata": {},
   "source": [
    "As always, check for class imbalance."
   ]
  },
  {
   "cell_type": "code",
   "execution_count": 7,
   "metadata": {
    "collapsed": false,
    "deletable": true,
    "editable": true
   },
   "outputs": [
    {
     "data": {
      "text/plain": [
       "<matplotlib.axes._subplots.AxesSubplot at 0x22359442320>"
      ]
     },
     "execution_count": 7,
     "metadata": {},
     "output_type": "execute_result"
    },
    {
     "data": {
      "image/png": "[encoded data removed]",
      "text/plain": [
       "<matplotlib.figure.Figure at 0x2235941fb70>"
      ]
     },
     "metadata": {},
     "output_type": "display_data"
    }
   ],
   "source": [
    "pima_df.has_diabetes.value_counts().plot(kind='bar')"
   ]
  },
  {
   "cell_type": "code",
   "execution_count": 8,
   "metadata": {
    "collapsed": false,
    "deletable": true,
    "editable": true
   },
   "outputs": [
    {
     "data": {
      "text/plain": [
       "768"
      ]
     },
     "execution_count": 8,
     "metadata": {},
     "output_type": "execute_result"
    }
   ],
   "source": [
    "len(pima_df)"
   ]
  },
  {
   "cell_type": "markdown",
   "metadata": {},
   "source": [
    "Next, we set aside 20 positive and 20 negative cases as our test set. We'll use the rest of the data as our training set."
   ]
  },
  {
   "cell_type": "code",
   "execution_count": 9,
   "metadata": {
    "collapsed": false
   },
   "outputs": [
    {
     "name": "stdout",
     "output_type": "stream",
     "text": [
      "40 728\n"
     ]
    }
   ],
   "source": [
    "test_set = pima_df.groupby(pima_df.has_diabetes).apply(lambda g: g.sample(20))\n",
    "\n",
    "# Groupby creates a multi-index with the label name as the first level\n",
    "test_set.index = test_set.index.droplevel(0)\n",
    "train_set = pima_df.loc[pima_df.index.difference(test_set.index)]\n",
    "\n",
    "print(len(test_set), len(train_set))"
   ]
  },
  {
   "cell_type": "markdown",
   "metadata": {},
   "source": [
    "Next, we scale the training set, so all features have zero mean and unit variance."
   ]
  },
  {
   "cell_type": "code",
   "execution_count": 10,
   "metadata": {
    "collapsed": false,
    "deletable": true,
    "editable": true
   },
   "outputs": [],
   "source": [
    "from sklearn.preprocessing import StandardScaler\n",
    "\n",
    "def build_input(f_key, l_key, df):\n",
    "    \"\"\"Return a `feed_dict` suitable for tensorflow consumption.\"\"\"\n",
    "    \n",
    "    features = df.drop('has_diabetes', axis=1).astype(np.float64).values\n",
    "    scaled_features = StandardScaler().fit_transform(features)\n",
    "    labels = df.has_diabetes.map(lambda v: 1 if v == 'yes' else 0).astype(np.int64).values    \n",
    "    return {f_key: scaled_features, l_key: labels}"
   ]
  },
  {
   "cell_type": "code",
   "execution_count": 11,
   "metadata": {
    "collapsed": true,
    "deletable": true,
    "editable": true
   },
   "outputs": [],
   "source": [
    "import tensorflow as tf\n",
    "from IPython.display import display\n",
    "import ipywidgets"
   ]
  },
  {
   "cell_type": "code",
   "execution_count": 13,
   "metadata": {
    "collapsed": false,
    "deletable": true,
    "editable": true
   },
   "outputs": [
    {
     "data": {
      "application/vnd.jupyter.widget-view+json": {
       "model_id": "5daff05dde37489aa04c221627338341"
      }
     },
     "metadata": {},
     "output_type": "display_data"
    }
   ],
   "source": [
    "n = 2000\n",
    "\n",
    "pg = ipywidgets.FloatProgress(min=1, max=n, description='training...')\n",
    "display(pg)\n",
    "\n",
    "tf.reset_default_graph()\n",
    "\n",
    "weights = tf.get_variable(dtype=np.float64, \n",
    "                      name='weights', \n",
    "                      shape=(8, 1),\n",
    "                      initializer=tf.truncated_normal_initializer(mean=0.0, stddev=1.0))\n",
    "\n",
    "features = tf.placeholder(shape=(None, 8), dtype=np.float64, name='features')\n",
    "labels = tf.placeholder(shape=None, dtype=np.int64, name='labels')\n",
    "\n",
    "# dot(w,  X)\n",
    "w_times_f = tf.matmul(features, weights, name='w_dot_x')\n",
    "\n",
    "# \\hat{P(X)} = 1 / 1 + exp(dot(w, X))\n",
    "probs = tf.squeeze(1.0 / (1.0 + tf.exp(w_times_f)), name='logistic_function')\n",
    "\n",
    "# 1-\\hat{P(X)}\n",
    "one = tf.constant(1.0, dtype=np.float64)\n",
    "one_minus_probs = tf.subtract(one, probs, name='one_minus_probs')\n",
    "one_minus_labels = tf.subtract(one, tf.cast(labels, np.float64), name='one_minus_y')\n",
    "\n",
    "# Cross-enropy loss = - [ P(X) * ln \\hat{P(X)}  + (1-P(X)) * ln \\hat{1-P(X)} ]\n",
    "cross_entropy_loss = -tf.add(tf.multiply(tf.cast(labels, np.float64), tf.log(probs)), \n",
    "                            tf.multiply(one_minus_labels, tf.log(one_minus_probs)), \n",
    "                                   name='cross_entropy_loss')\n",
    "loss_function = tf.reduce_mean(cross_entropy_loss, name='loss_function')\n",
    "\n",
    "optimizer = tf.train.GradientDescentOptimizer(learning_rate=0.02)\n",
    "train_op = optimizer.minimize(loss_function, name='loss_minimizer')\n",
    "\n",
    "losses = []\n",
    "\n",
    "with tf.Session() as s:\n",
    "    s.run(tf.global_variables_initializer())\n",
    "    \n",
    "    train_input = build_input(features, labels, train_set)\n",
    "    \n",
    "    for i in range(1, n+1):\n",
    "        _, current_loss = s.run([train_op, loss_function], feed_dict=train_input)\n",
    "        pg.value += 1\n",
    "        losses.append(current_loss)\n",
    "    \n",
    "    pg.bar_style = 'success'\n",
    "    pg.description = 'done.'\n",
    "    \n",
    "    # Evaluate our trained model on the test set\n",
    "    test_input = build_input(features, labels, test_set)\n",
    "    test_probs = probs.eval(session=s, feed_dict=test_input)   \n"
   ]
  },
  {
   "cell_type": "markdown",
   "metadata": {},
   "source": [
    "Once the training loop is complete, we plot our loss function as a function of number of training steps."
   ]
  },
  {
   "cell_type": "code",
   "execution_count": 14,
   "metadata": {
    "collapsed": false,
    "deletable": true,
    "editable": true
   },
   "outputs": [
    {
     "data": {
      "text/plain": [
       "<matplotlib.axes._subplots.AxesSubplot at 0x2235c1ce278>"
      ]
     },
     "execution_count": 14,
     "metadata": {},
     "output_type": "execute_result"
    },
    {
     "data": {
      "image/png": "[encoded data removed]",
      "text/plain": [
       "<matplotlib.figure.Figure at 0x2235c1e1710>"
      ]
     },
     "metadata": {},
     "output_type": "display_data"
    }
   ],
   "source": [
    "loss_vals = pd.Series(losses)\n",
    "loss_vals.rolling(10).mean().plot()"
   ]
  },
  {
   "cell_type": "markdown",
   "metadata": {},
   "source": [
    "Finally, calculate accuracy of the predictions on the test set."
   ]
  },
  {
   "cell_type": "code",
   "execution_count": 15,
   "metadata": {
    "collapsed": false,
    "deletable": true,
    "editable": true
   },
   "outputs": [
    {
     "data": {
      "text/plain": [
       "0.80000000000000004"
      ]
     },
     "execution_count": 15,
     "metadata": {},
     "output_type": "execute_result"
    }
   ],
   "source": [
    "from sklearn.metrics import accuracy_score\n",
    "\n",
    "test_preds = np.where(test_probs > 0.5, 1.0, 0.0).astype(np.int64)\n",
    "test_labels = test_input[labels]\n",
    "accuracy_score(test_labels, test_preds)"
   ]
  },
  {
   "cell_type": "code",
   "execution_count": null,
   "metadata": {
    "collapsed": true
   },
   "outputs": [],
   "source": []
  }
 ],
 "metadata": {
  "anaconda-cloud": {},
  "kernelspec": {
   "display_name": "Python 3",
   "language": "python",
   "name": "python3"
  },
  "language_info": {
   "codemirror_mode": {
    "name": "ipython",
    "version": 3
   },
   "file_extension": ".py",
   "mimetype": "text/x-python",
   "name": "python",
   "nbconvert_exporter": "python",
   "pygments_lexer": "ipython3",
   "version": "3.5.3"
  }
 },
 "nbformat": 4,
 "nbformat_minor": 1
}
