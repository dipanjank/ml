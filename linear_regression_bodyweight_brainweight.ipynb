{
 "cells": [
  {
   "cell_type": "markdown",
   "metadata": {},
   "source": [
    "# Applied Linear Regression\n",
    "\n",
    "The dataset below records the average weight of the brain and body for a number of mammal species.  \n",
    "\n",
    "There are 62 rows of data.  The 3 data columns include:\n",
    "\n",
    "      I,  the index,\n",
    "      A1, the brain weight;\n",
    "      B,  the body weight.\n",
    "\n",
    "    We seek a model of the form: B = A1 * X1.\n",
    "\n",
    "http://people.sc.fsu.edu/~jburkardt/datasets/regression/x01.txt"
   ]
  },
  {
   "cell_type": "code",
   "execution_count": 1,
   "metadata": {
    "collapsed": false
   },
   "outputs": [
    {
     "name": "stdout",
     "output_type": "stream",
     "text": [
      "Populating the interactive namespace from numpy and matplotlib\n"
     ]
    }
   ],
   "source": [
    "import pandas as pd\n",
    "import requests\n",
    "%pylab inline\n",
    "pylab.style.use('ggplot')\n",
    "\n",
    "URL = 'http://people.sc.fsu.edu/~jburkardt/datasets/regression/x01.txt'\n",
    "\n",
    "result = requests.get(URL)\n",
    "data = [line.strip() for line in result.text.split('\\n') if not line.startswith('#')]"
   ]
  },
  {
   "cell_type": "code",
   "execution_count": 2,
   "metadata": {
    "collapsed": false
   },
   "outputs": [
    {
     "data": {
      "text/plain": [
       "['3 columns',\n",
       " '62 rows',\n",
       " 'Index',\n",
       " 'Brain Weight',\n",
       " 'Body Weight',\n",
       " '1     3.385    44.500',\n",
       " '2     0.480    15.500',\n",
       " '3     1.350     8.100',\n",
       " '4   465.000   423.000',\n",
       " '5    36.330   119.500',\n",
       " '6    27.660   115.000',\n",
       " '7    14.830    98.200',\n",
       " '8     1.040     5.500',\n",
       " '9     4.190    58.000',\n",
       " '10     0.425     6.400',\n",
       " '11     0.101     4.000',\n",
       " '12     0.920     5.700',\n",
       " '13     1.000     6.600',\n",
       " '14     0.005     0.140',\n",
       " '15     0.060     1.000',\n",
       " '16     3.500    10.800',\n",
       " '17     2.000    12.300',\n",
       " '18     1.700     6.300',\n",
       " '19  2547.000  4603.000',\n",
       " '20     0.023     0.300',\n",
       " '21   187.100   419.000',\n",
       " '22   521.000   655.000',\n",
       " '23     0.785     3.500',\n",
       " '24    10.000   115.000',\n",
       " '25     3.300    25.600',\n",
       " '26     0.200     5.000',\n",
       " '27     1.410    17.500',\n",
       " '28   529.000   680.000',\n",
       " '29   207.000   406.000',\n",
       " '30    85.000   325.000',\n",
       " '31     0.750    12.300',\n",
       " '32    62.000  1320.000',\n",
       " '33  6654.000  5712.000',\n",
       " '34     3.500     3.900',\n",
       " '35     6.800   179.000',\n",
       " '36    35.000    56.000',\n",
       " '37     4.050    17.000',\n",
       " '38     0.120     1.000',\n",
       " '39     0.023     0.400',\n",
       " '40     0.010     0.250',\n",
       " '41     1.400    12.500',\n",
       " '42   250.000   490.000',\n",
       " '43     2.500    12.100',\n",
       " '44    55.500   175.000',\n",
       " '45   100.000   157.000',\n",
       " '46    52.160   440.000',\n",
       " '47    10.550   179.500',\n",
       " '48     0.550     2.400',\n",
       " '49    60.000    81.000',\n",
       " '50     3.600    21.000',\n",
       " '51     4.288    39.200',\n",
       " '52     0.280     1.900',\n",
       " '53     0.075     1.200',\n",
       " '54     0.122     3.000',\n",
       " '55     0.048     0.330',\n",
       " '56   192.000   180.000',\n",
       " '57     3.000    25.000',\n",
       " '58   160.000   169.000',\n",
       " '59     0.900     2.600',\n",
       " '60     1.620    11.400',\n",
       " '61     0.104     2.500',\n",
       " '62     4.235    50.400',\n",
       " '',\n",
       " '']"
      ]
     },
     "execution_count": 2,
     "metadata": {},
     "output_type": "execute_result"
    }
   ],
   "source": [
    "data"
   ]
  },
  {
   "cell_type": "code",
   "execution_count": 3,
   "metadata": {
    "collapsed": true
   },
   "outputs": [],
   "source": [
    "ncols = int(data[0].split(' ')[0])\n",
    "nrows = int(data[1].split(' ')[0])\n",
    "\n",
    "col_slice = slice(2, ncols + 2)\n",
    "columns = data[col_slice]"
   ]
  },
  {
   "cell_type": "code",
   "execution_count": 4,
   "metadata": {
    "collapsed": false
   },
   "outputs": [
    {
     "data": {
      "text/plain": [
       "['Index', 'Brain Weight', 'Body Weight']"
      ]
     },
     "execution_count": 4,
     "metadata": {},
     "output_type": "execute_result"
    }
   ],
   "source": [
    "columns"
   ]
  },
  {
   "cell_type": "code",
   "execution_count": 5,
   "metadata": {
    "collapsed": false
   },
   "outputs": [],
   "source": [
    "row_slice = slice(ncols + 2, ncols + nrows+2)\n",
    "rows = data[row_slice]"
   ]
  },
  {
   "cell_type": "code",
   "execution_count": 6,
   "metadata": {
    "collapsed": false
   },
   "outputs": [
    {
     "data": {
      "text/plain": [
       "['1     3.385    44.500',\n",
       " '2     0.480    15.500',\n",
       " '3     1.350     8.100',\n",
       " '4   465.000   423.000',\n",
       " '5    36.330   119.500',\n",
       " '6    27.660   115.000',\n",
       " '7    14.830    98.200',\n",
       " '8     1.040     5.500',\n",
       " '9     4.190    58.000',\n",
       " '10     0.425     6.400',\n",
       " '11     0.101     4.000',\n",
       " '12     0.920     5.700',\n",
       " '13     1.000     6.600',\n",
       " '14     0.005     0.140',\n",
       " '15     0.060     1.000',\n",
       " '16     3.500    10.800',\n",
       " '17     2.000    12.300',\n",
       " '18     1.700     6.300',\n",
       " '19  2547.000  4603.000',\n",
       " '20     0.023     0.300',\n",
       " '21   187.100   419.000',\n",
       " '22   521.000   655.000',\n",
       " '23     0.785     3.500',\n",
       " '24    10.000   115.000',\n",
       " '25     3.300    25.600',\n",
       " '26     0.200     5.000',\n",
       " '27     1.410    17.500',\n",
       " '28   529.000   680.000',\n",
       " '29   207.000   406.000',\n",
       " '30    85.000   325.000',\n",
       " '31     0.750    12.300',\n",
       " '32    62.000  1320.000',\n",
       " '33  6654.000  5712.000',\n",
       " '34     3.500     3.900',\n",
       " '35     6.800   179.000',\n",
       " '36    35.000    56.000',\n",
       " '37     4.050    17.000',\n",
       " '38     0.120     1.000',\n",
       " '39     0.023     0.400',\n",
       " '40     0.010     0.250',\n",
       " '41     1.400    12.500',\n",
       " '42   250.000   490.000',\n",
       " '43     2.500    12.100',\n",
       " '44    55.500   175.000',\n",
       " '45   100.000   157.000',\n",
       " '46    52.160   440.000',\n",
       " '47    10.550   179.500',\n",
       " '48     0.550     2.400',\n",
       " '49    60.000    81.000',\n",
       " '50     3.600    21.000',\n",
       " '51     4.288    39.200',\n",
       " '52     0.280     1.900',\n",
       " '53     0.075     1.200',\n",
       " '54     0.122     3.000',\n",
       " '55     0.048     0.330',\n",
       " '56   192.000   180.000',\n",
       " '57     3.000    25.000',\n",
       " '58   160.000   169.000',\n",
       " '59     0.900     2.600',\n",
       " '60     1.620    11.400',\n",
       " '61     0.104     2.500',\n",
       " '62     4.235    50.400']"
      ]
     },
     "execution_count": 6,
     "metadata": {},
     "output_type": "execute_result"
    }
   ],
   "source": [
    "rows"
   ]
  },
  {
   "cell_type": "code",
   "execution_count": 7,
   "metadata": {
    "collapsed": false
   },
   "outputs": [
    {
     "data": {
      "text/html": [
       "<div>\n",
       "<table border=\"1\" class=\"dataframe\">\n",
       "  <thead>\n",
       "    <tr style=\"text-align: right;\">\n",
       "      <th></th>\n",
       "      <th>Index</th>\n",
       "      <th>Brain Weight</th>\n",
       "      <th>Body Weight</th>\n",
       "    </tr>\n",
       "  </thead>\n",
       "  <tbody>\n",
       "    <tr>\n",
       "      <th>0</th>\n",
       "      <td>1</td>\n",
       "      <td>3.385</td>\n",
       "      <td>44.5</td>\n",
       "    </tr>\n",
       "    <tr>\n",
       "      <th>1</th>\n",
       "      <td>2</td>\n",
       "      <td>0.480</td>\n",
       "      <td>15.5</td>\n",
       "    </tr>\n",
       "    <tr>\n",
       "      <th>2</th>\n",
       "      <td>3</td>\n",
       "      <td>1.350</td>\n",
       "      <td>8.1</td>\n",
       "    </tr>\n",
       "    <tr>\n",
       "      <th>3</th>\n",
       "      <td>4</td>\n",
       "      <td>465.000</td>\n",
       "      <td>423.0</td>\n",
       "    </tr>\n",
       "    <tr>\n",
       "      <th>4</th>\n",
       "      <td>5</td>\n",
       "      <td>36.330</td>\n",
       "      <td>119.5</td>\n",
       "    </tr>\n",
       "  </tbody>\n",
       "</table>\n",
       "</div>"
      ],
      "text/plain": [
       "   Index  Brain Weight  Body Weight\n",
       "0      1         3.385         44.5\n",
       "1      2         0.480         15.5\n",
       "2      3         1.350          8.1\n",
       "3      4       465.000        423.0\n",
       "4      5        36.330        119.5"
      ]
     },
     "execution_count": 7,
     "metadata": {},
     "output_type": "execute_result"
    }
   ],
   "source": [
    "from io import StringIO\n",
    "import re\n",
    "csv_data = re.sub(r'[ ]+', ',', '\\n'.join(rows))\n",
    "data_df = pd.read_csv(StringIO(csv_data), header=None, names=columns)\n",
    "data_df.head(5)"
   ]
  },
  {
   "cell_type": "code",
   "execution_count": 9,
   "metadata": {
    "collapsed": false
   },
   "outputs": [
    {
     "data": {
      "text/plain": [
       "<matplotlib.axes._subplots.AxesSubplot at 0x27fa5d55e10>"
      ]
     },
     "execution_count": 9,
     "metadata": {},
     "output_type": "execute_result"
    },
    {
     "data": {
      "image/png": "[encoded data removed]",
      "text/plain": [
       "<matplotlib.figure.Figure at 0x27fa5d479b0>"
      ]
     },
     "metadata": {},
     "output_type": "display_data"
    }
   ],
   "source": [
    "data_df = data_df.rename(columns={'Body Weight': 'body_weight', 'Brain Weight': 'brain_weight'})\n",
    "data_df.plot(kind='scatter', x='body_weight', y='brain_weight')"
   ]
  },
  {
   "cell_type": "code",
   "execution_count": 11,
   "metadata": {
    "collapsed": false
   },
   "outputs": [
    {
     "data": {
      "text/html": [
       "<table class=\"simpletable\">\n",
       "<caption>OLS Regression Results</caption>\n",
       "<tr>\n",
       "  <th>Dep. Variable:</th>      <td>brain_weight</td>   <th>  R-squared:         </th> <td>   0.873</td>\n",
       "</tr>\n",
       "<tr>\n",
       "  <th>Model:</th>                   <td>OLS</td>       <th>  Adj. R-squared:    </th> <td>   0.871</td>\n",
       "</tr>\n",
       "<tr>\n",
       "  <th>Method:</th>             <td>Least Squares</td>  <th>  F-statistic:       </th> <td>   411.2</td>\n",
       "</tr>\n",
       "<tr>\n",
       "  <th>Date:</th>             <td>Mon, 27 Mar 2017</td> <th>  Prob (F-statistic):</th> <td>1.54e-28</td>\n",
       "</tr>\n",
       "<tr>\n",
       "  <th>Time:</th>                 <td>23:29:16</td>     <th>  Log-Likelihood:    </th> <td> -445.27</td>\n",
       "</tr>\n",
       "<tr>\n",
       "  <th>No. Observations:</th>      <td>    62</td>      <th>  AIC:               </th> <td>   894.5</td>\n",
       "</tr>\n",
       "<tr>\n",
       "  <th>Df Residuals:</th>          <td>    60</td>      <th>  BIC:               </th> <td>   898.8</td>\n",
       "</tr>\n",
       "<tr>\n",
       "  <th>Df Model:</th>              <td>     1</td>      <th>                     </th>     <td> </td>   \n",
       "</tr>\n",
       "<tr>\n",
       "  <th>Covariance Type:</th>      <td>nonrobust</td>    <th>                     </th>     <td> </td>   \n",
       "</tr>\n",
       "</table>\n",
       "<table class=\"simpletable\">\n",
       "<tr>\n",
       "       <td></td>          <th>coef</th>     <th>std err</th>      <th>t</th>      <th>P>|t|</th> <th>[95.0% Conf. Int.]</th> \n",
       "</tr>\n",
       "<tr>\n",
       "  <th>Intercept</th>   <td>  -56.8555</td> <td>   42.978</td> <td>   -1.323</td> <td> 0.191</td> <td> -142.824    29.113</td>\n",
       "</tr>\n",
       "<tr>\n",
       "  <th>body_weight</th> <td>    0.9029</td> <td>    0.045</td> <td>   20.278</td> <td> 0.000</td> <td>    0.814     0.992</td>\n",
       "</tr>\n",
       "</table>\n",
       "<table class=\"simpletable\">\n",
       "<tr>\n",
       "  <th>Omnibus:</th>       <td>35.627</td> <th>  Durbin-Watson:     </th> <td>   2.548</td> \n",
       "</tr>\n",
       "<tr>\n",
       "  <th>Prob(Omnibus):</th> <td> 0.000</td> <th>  Jarque-Bera (JB):  </th> <td> 784.333</td> \n",
       "</tr>\n",
       "<tr>\n",
       "  <th>Skew:</th>          <td>-0.627</td> <th>  Prob(JB):          </th> <td>4.83e-171</td>\n",
       "</tr>\n",
       "<tr>\n",
       "  <th>Kurtosis:</th>      <td>20.379</td> <th>  Cond. No.          </th> <td>1.01e+03</td> \n",
       "</tr>\n",
       "</table>"
      ],
      "text/plain": [
       "<class 'statsmodels.iolib.summary.Summary'>\n",
       "\"\"\"\n",
       "                            OLS Regression Results                            \n",
       "==============================================================================\n",
       "Dep. Variable:           brain_weight   R-squared:                       0.873\n",
       "Model:                            OLS   Adj. R-squared:                  0.871\n",
       "Method:                 Least Squares   F-statistic:                     411.2\n",
       "Date:                Mon, 27 Mar 2017   Prob (F-statistic):           1.54e-28\n",
       "Time:                        23:29:16   Log-Likelihood:                -445.27\n",
       "No. Observations:                  62   AIC:                             894.5\n",
       "Df Residuals:                      60   BIC:                             898.8\n",
       "Df Model:                           1                                         \n",
       "Covariance Type:            nonrobust                                         \n",
       "===============================================================================\n",
       "                  coef    std err          t      P>|t|      [95.0% Conf. Int.]\n",
       "-------------------------------------------------------------------------------\n",
       "Intercept     -56.8555     42.978     -1.323      0.191      -142.824    29.113\n",
       "body_weight     0.9029      0.045     20.278      0.000         0.814     0.992\n",
       "==============================================================================\n",
       "Omnibus:                       35.627   Durbin-Watson:                   2.548\n",
       "Prob(Omnibus):                  0.000   Jarque-Bera (JB):              784.333\n",
       "Skew:                          -0.627   Prob(JB):                    4.83e-171\n",
       "Kurtosis:                      20.379   Cond. No.                     1.01e+03\n",
       "==============================================================================\n",
       "\n",
       "Warnings:\n",
       "[1] Standard Errors assume that the covariance matrix of the errors is correctly specified.\n",
       "[2] The condition number is large, 1.01e+03. This might indicate that there are\n",
       "strong multicollinearity or other numerical problems.\n",
       "\"\"\""
      ]
     },
     "execution_count": 11,
     "metadata": {},
     "output_type": "execute_result"
    }
   ],
   "source": [
    "import statsmodels.formula.api as smf\n",
    "results = smf.ols('brain_weight ~ body_weight', data=data_df).fit()\n",
    "results.summary()"
   ]
  },
  {
   "cell_type": "code",
   "execution_count": 13,
   "metadata": {
    "collapsed": false
   },
   "outputs": [
    {
     "data": {
      "text/plain": [
       "Intercept     -56.855545\n",
       "body_weight     0.902913\n",
       "dtype: float64"
      ]
     },
     "execution_count": 13,
     "metadata": {},
     "output_type": "execute_result"
    }
   ],
   "source": [
    "results.params"
   ]
  },
  {
   "cell_type": "code",
   "execution_count": 17,
   "metadata": {
    "collapsed": false
   },
   "outputs": [],
   "source": [
    "fitted_model = data_df['body_weight'] * results.params['body_weight'] + results.params['Intercept']\n",
    "predicted_df = pd.concat(\n",
    "    {'predicted_brain_weight': fitted_model, \n",
    "     'actual_brain_weight': data_df['brain_weight'],\n",
    "     'body_weight': data_df['body_weight'],\n",
    "    }, axis=1)"
   ]
  },
  {
   "cell_type": "code",
   "execution_count": 22,
   "metadata": {
    "collapsed": false
   },
   "outputs": [
    {
     "data": {
      "text/plain": [
       "<matplotlib.axes._subplots.AxesSubplot at 0x27fa6e4e128>"
      ]
     },
     "execution_count": 22,
     "metadata": {},
     "output_type": "execute_result"
    },
    {
     "data": {
      "image/png": "[encoded data removed]",
      "text/plain": [
       "<matplotlib.figure.Figure at 0x27fa6e91e48>"
      ]
     },
     "metadata": {},
     "output_type": "display_data"
    }
   ],
   "source": [
    "ax = predicted_df.plot(kind='scatter', x='body_weight', y='actual_brain_weight')\n",
    "predicted_df.plot(ax=ax, kind='scatter', x='body_weight', y='predicted_brain_weight', color='red')"
   ]
  },
  {
   "cell_type": "code",
   "execution_count": null,
   "metadata": {
    "collapsed": true
   },
   "outputs": [],
   "source": []
  }
 ],
 "metadata": {
  "kernelspec": {
   "display_name": "Python 3",
   "language": "python",
   "name": "python3"
  },
  "language_info": {
   "codemirror_mode": {
    "name": "ipython",
    "version": 3
   },
   "file_extension": ".py",
   "mimetype": "text/x-python",
   "name": "python",
   "nbconvert_exporter": "python",
   "pygments_lexer": "ipython3",
   "version": "3.5.2"
  }
 },
 "nbformat": 4,
 "nbformat_minor": 2
}
