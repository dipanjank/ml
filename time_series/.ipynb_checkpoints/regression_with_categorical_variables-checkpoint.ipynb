{
 "cells": [
  {
   "cell_type": "markdown",
   "metadata": {},
   "source": [
    "<h1 align=\"center\">Regression with Categorical Variables</h1>"
   ]
  },
  {
   "cell_type": "code",
   "execution_count": 43,
   "metadata": {
    "collapsed": false,
    "deletable": true,
    "editable": true
   },
   "outputs": [
    {
     "name": "stdout",
     "output_type": "stream",
     "text": [
      "Populating the interactive namespace from numpy and matplotlib\n"
     ]
    }
   ],
   "source": [
    "%pylab inline\n",
    "pylab.style.use('ggplot')\n",
    "import numpy as np\n",
    "import pandas as pd"
   ]
  },
  {
   "cell_type": "markdown",
   "metadata": {
    "deletable": true,
    "editable": true
   },
   "source": [
    "## The BirthSmokers Data\n",
    "\n",
    "    Researchers interested in answering the above research question collected the following data (birthsmokers.txt) on a random sample of n = 32 births:\n",
    "\n",
    "    Response (y): birth weight (Weight) in grams of baby\n",
    "    Potential predictor (x1): Smoking status of mother (yes or no)\n",
    "    Potential predictor (x2): length of gestation (Gest) in weeks\n",
    "\n",
    "    The distinguishing feature of this data set is that one of the predictor variables — Smoking — is a qualitative predictor. To be more precise, smoking is a \"binary variable\" with only two possible values (yes or no). The other predictor variable (Gest) is, of course, quantitative."
   ]
  },
  {
   "cell_type": "code",
   "execution_count": 44,
   "metadata": {
    "collapsed": true,
    "deletable": true,
    "editable": true
   },
   "outputs": [],
   "source": [
    "smoking_txt = \"\"\"Wgt\tGest\tSmoke\n",
    "2940\t38\tyes\n",
    "3130\t38\tno\n",
    "2420\t36\tyes\n",
    "2450\t34\tno\n",
    "2760\t39\tyes\n",
    "2440\t35\tyes\n",
    "3226\t40\tno\n",
    "3301\t42\tyes\n",
    "2729\t37\tno\n",
    "3410\t40\tno\n",
    "2715\t36\tyes\n",
    "3095\t39\tno\n",
    "3130\t39\tyes\n",
    "3244\t39\tno\n",
    "2520\t35\tno\n",
    "2928\t39\tyes\n",
    "3523\t41\tno\n",
    "3446\t42\tyes\n",
    "2920\t38\tno\n",
    "2957\t39\tyes\n",
    "3530\t42\tno\n",
    "2580\t38\tyes\n",
    "3040\t37\tno\n",
    "3500\t42\tyes\n",
    "3200\t41\tyes\n",
    "3322\t39\tno\n",
    "3459\t40\tno\n",
    "3346\t42\tyes\n",
    "2619\t35\tno\n",
    "3175\t41\tyes\n",
    "2740\t38\tyes\n",
    "2841\t36\tno\"\"\""
   ]
  },
  {
   "cell_type": "code",
   "execution_count": 45,
   "metadata": {
    "collapsed": false,
    "deletable": true,
    "editable": true
   },
   "outputs": [
    {
     "data": {
      "text/html": [
       "<div>\n",
       "<table border=\"1\" class=\"dataframe\">\n",
       "  <thead>\n",
       "    <tr style=\"text-align: right;\">\n",
       "      <th></th>\n",
       "      <th>Wgt</th>\n",
       "      <th>Gest</th>\n",
       "      <th>Smoke</th>\n",
       "    </tr>\n",
       "  </thead>\n",
       "  <tbody>\n",
       "    <tr>\n",
       "      <th>0</th>\n",
       "      <td>2940</td>\n",
       "      <td>38</td>\n",
       "      <td>yes</td>\n",
       "    </tr>\n",
       "    <tr>\n",
       "      <th>1</th>\n",
       "      <td>3130</td>\n",
       "      <td>38</td>\n",
       "      <td>no</td>\n",
       "    </tr>\n",
       "    <tr>\n",
       "      <th>2</th>\n",
       "      <td>2420</td>\n",
       "      <td>36</td>\n",
       "      <td>yes</td>\n",
       "    </tr>\n",
       "    <tr>\n",
       "      <th>3</th>\n",
       "      <td>2450</td>\n",
       "      <td>34</td>\n",
       "      <td>no</td>\n",
       "    </tr>\n",
       "    <tr>\n",
       "      <th>4</th>\n",
       "      <td>2760</td>\n",
       "      <td>39</td>\n",
       "      <td>yes</td>\n",
       "    </tr>\n",
       "  </tbody>\n",
       "</table>\n",
       "</div>"
      ],
      "text/plain": [
       "    Wgt  Gest Smoke\n",
       "0  2940    38   yes\n",
       "1  3130    38    no\n",
       "2  2420    36   yes\n",
       "3  2450    34    no\n",
       "4  2760    39   yes"
      ]
     },
     "execution_count": 45,
     "metadata": {},
     "output_type": "execute_result"
    }
   ],
   "source": [
    "from io import StringIO\n",
    "smoking_df = pd.read_csv(StringIO(smoking_txt), sep='\\t')\n",
    "smoking_df.head()"
   ]
  },
  {
   "cell_type": "markdown",
   "metadata": {},
   "source": [
    "Let's plot how the birth weight is related to the gestation period for the two groups: smokers and non-smokers."
   ]
  },
  {
   "cell_type": "code",
   "execution_count": 46,
   "metadata": {
    "collapsed": false
   },
   "outputs": [
    {
     "data": {
      "text/plain": [
       "<matplotlib.legend.Legend at 0x1e8169314e0>"
      ]
     },
     "execution_count": 46,
     "metadata": {},
     "output_type": "execute_result"
    },
    {
     "data": {
      "image/png": "[encoded data removed]",
      "text/plain": [
       "<matplotlib.figure.Figure at 0x1e816931320>"
      ]
     },
     "metadata": {},
     "output_type": "display_data"
    }
   ],
   "source": [
    "ax = smoking_df[smoking_df.Smoke == 'yes'].plot(kind='scatter', x='Gest', y='Wgt')\n",
    "smoking_df[smoking_df.Smoke == 'no'].plot(kind='scatter', color='green', ax=ax, x='Gest', y='Wgt')\n",
    "ax.legend(['Smokers', 'Non-smokers'], loc='upper left')"
   ]
  },
  {
   "cell_type": "markdown",
   "metadata": {},
   "source": [
    "Let's also find out the min, max and average birth weights for smokers and non-smokers."
   ]
  },
  {
   "cell_type": "code",
   "execution_count": 47,
   "metadata": {
    "collapsed": false,
    "deletable": true,
    "editable": true
   },
   "outputs": [
    {
     "data": {
      "text/html": [
       "<div>\n",
       "<table border=\"1\" class=\"dataframe\">\n",
       "  <thead>\n",
       "    <tr style=\"text-align: right;\">\n",
       "      <th></th>\n",
       "      <th>min</th>\n",
       "      <th>max</th>\n",
       "      <th>mean</th>\n",
       "    </tr>\n",
       "    <tr>\n",
       "      <th>Smoke</th>\n",
       "      <th></th>\n",
       "      <th></th>\n",
       "      <th></th>\n",
       "    </tr>\n",
       "  </thead>\n",
       "  <tbody>\n",
       "    <tr>\n",
       "      <th>no</th>\n",
       "      <td>2450</td>\n",
       "      <td>3530</td>\n",
       "      <td>3066.125</td>\n",
       "    </tr>\n",
       "    <tr>\n",
       "      <th>yes</th>\n",
       "      <td>2420</td>\n",
       "      <td>3500</td>\n",
       "      <td>2973.625</td>\n",
       "    </tr>\n",
       "  </tbody>\n",
       "</table>\n",
       "</div>"
      ],
      "text/plain": [
       "        min   max      mean\n",
       "Smoke                      \n",
       "no     2450  3530  3066.125\n",
       "yes    2420  3500  2973.625"
      ]
     },
     "execution_count": 47,
     "metadata": {},
     "output_type": "execute_result"
    }
   ],
   "source": [
    "smoking_df.Wgt.groupby(smoking_df.Smoke).agg({'min': np.min, 'max': np.max, 'mean': np.mean})"
   ]
  },
  {
   "cell_type": "code",
   "execution_count": 48,
   "metadata": {
    "collapsed": false,
    "deletable": true,
    "editable": true
   },
   "outputs": [
    {
     "data": {
      "text/html": [
       "<table class=\"simpletable\">\n",
       "<caption>OLS Regression Results</caption>\n",
       "<tr>\n",
       "  <th>Dep. Variable:</th>           <td>Wgt</td>       <th>  R-squared:         </th> <td>   0.896</td>\n",
       "</tr>\n",
       "<tr>\n",
       "  <th>Model:</th>                   <td>OLS</td>       <th>  Adj. R-squared:    </th> <td>   0.889</td>\n",
       "</tr>\n",
       "<tr>\n",
       "  <th>Method:</th>             <td>Least Squares</td>  <th>  F-statistic:       </th> <td>   125.4</td>\n",
       "</tr>\n",
       "<tr>\n",
       "  <th>Date:</th>             <td>Sat, 01 Apr 2017</td> <th>  Prob (F-statistic):</th> <td>5.29e-15</td>\n",
       "</tr>\n",
       "<tr>\n",
       "  <th>Time:</th>                 <td>23:15:49</td>     <th>  Log-Likelihood:    </th> <td> -195.82</td>\n",
       "</tr>\n",
       "<tr>\n",
       "  <th>No. Observations:</th>      <td>    32</td>      <th>  AIC:               </th> <td>   397.6</td>\n",
       "</tr>\n",
       "<tr>\n",
       "  <th>Df Residuals:</th>          <td>    29</td>      <th>  BIC:               </th> <td>   402.0</td>\n",
       "</tr>\n",
       "<tr>\n",
       "  <th>Df Model:</th>              <td>     2</td>      <th>                     </th>     <td> </td>   \n",
       "</tr>\n",
       "<tr>\n",
       "  <th>Covariance Type:</th>      <td>nonrobust</td>    <th>                     </th>     <td> </td>   \n",
       "</tr>\n",
       "</table>\n",
       "<table class=\"simpletable\">\n",
       "<tr>\n",
       "         <td></td>            <th>coef</th>     <th>std err</th>      <th>t</th>      <th>P>|t|</th>  <th>[0.025</th>    <th>0.975]</th>  \n",
       "</tr>\n",
       "<tr>\n",
       "  <th>Intercept</th>       <td>-2389.5729</td> <td>  349.206</td> <td>   -6.843</td> <td> 0.000</td> <td>-3103.779</td> <td>-1675.366</td>\n",
       "</tr>\n",
       "<tr>\n",
       "  <th>C(Smoke)[T.yes]</th> <td> -244.5440</td> <td>   41.982</td> <td>   -5.825</td> <td> 0.000</td> <td> -330.406</td> <td> -158.682</td>\n",
       "</tr>\n",
       "<tr>\n",
       "  <th>Gest</th>            <td>  143.1003</td> <td>    9.128</td> <td>   15.677</td> <td> 0.000</td> <td>  124.431</td> <td>  161.769</td>\n",
       "</tr>\n",
       "</table>\n",
       "<table class=\"simpletable\">\n",
       "<tr>\n",
       "  <th>Omnibus:</th>       <td> 1.946</td> <th>  Durbin-Watson:     </th> <td>   2.016</td>\n",
       "</tr>\n",
       "<tr>\n",
       "  <th>Prob(Omnibus):</th> <td> 0.378</td> <th>  Jarque-Bera (JB):  </th> <td>   1.162</td>\n",
       "</tr>\n",
       "<tr>\n",
       "  <th>Skew:</th>          <td>-0.090</td> <th>  Prob(JB):          </th> <td>   0.559</td>\n",
       "</tr>\n",
       "<tr>\n",
       "  <th>Kurtosis:</th>      <td> 2.084</td> <th>  Cond. No.          </th> <td>    663.</td>\n",
       "</tr>\n",
       "</table>"
      ],
      "text/plain": [
       "<class 'statsmodels.iolib.summary.Summary'>\n",
       "\"\"\"\n",
       "                            OLS Regression Results                            \n",
       "==============================================================================\n",
       "Dep. Variable:                    Wgt   R-squared:                       0.896\n",
       "Model:                            OLS   Adj. R-squared:                  0.889\n",
       "Method:                 Least Squares   F-statistic:                     125.4\n",
       "Date:                Sat, 01 Apr 2017   Prob (F-statistic):           5.29e-15\n",
       "Time:                        23:15:49   Log-Likelihood:                -195.82\n",
       "No. Observations:                  32   AIC:                             397.6\n",
       "Df Residuals:                      29   BIC:                             402.0\n",
       "Df Model:                           2                                         \n",
       "Covariance Type:            nonrobust                                         \n",
       "===================================================================================\n",
       "                      coef    std err          t      P>|t|      [0.025      0.975]\n",
       "-----------------------------------------------------------------------------------\n",
       "Intercept       -2389.5729    349.206     -6.843      0.000   -3103.779   -1675.366\n",
       "C(Smoke)[T.yes]  -244.5440     41.982     -5.825      0.000    -330.406    -158.682\n",
       "Gest              143.1003      9.128     15.677      0.000     124.431     161.769\n",
       "==============================================================================\n",
       "Omnibus:                        1.946   Durbin-Watson:                   2.016\n",
       "Prob(Omnibus):                  0.378   Jarque-Bera (JB):                1.162\n",
       "Skew:                          -0.090   Prob(JB):                        0.559\n",
       "Kurtosis:                       2.084   Cond. No.                         663.\n",
       "==============================================================================\n",
       "\n",
       "Warnings:\n",
       "[1] Standard Errors assume that the covariance matrix of the errors is correctly specified.\n",
       "\"\"\""
      ]
     },
     "execution_count": 48,
     "metadata": {},
     "output_type": "execute_result"
    }
   ],
   "source": [
    "import statsmodels.formula.api as sm\n",
    "result = sm.ols(formula='Wgt ~ C(Smoke) + Gest', data=smoking_df).fit()\n",
    "result.summary()"
   ]
  },
  {
   "cell_type": "markdown",
   "metadata": {},
   "source": [
    "And the obligatory residual histogram:"
   ]
  },
  {
   "cell_type": "code",
   "execution_count": 49,
   "metadata": {
    "collapsed": false,
    "deletable": true,
    "editable": true
   },
   "outputs": [
    {
     "data": {
      "text/plain": [
       "<matplotlib.axes._subplots.AxesSubplot at 0x1e8169a8780>"
      ]
     },
     "execution_count": 49,
     "metadata": {},
     "output_type": "execute_result"
    },
    {
     "data": {
      "image/png": "[encoded data removed]",
      "text/plain": [
       "<matplotlib.figure.Figure at 0x1e8166724e0>"
      ]
     },
     "metadata": {},
     "output_type": "display_data"
    }
   ],
   "source": [
    "result.resid.plot(kind='hist', bins=20)"
   ]
  },
  {
   "cell_type": "code",
   "execution_count": 66,
   "metadata": {
    "collapsed": false
   },
   "outputs": [],
   "source": [
    "#smoking_df['Smoke'] = smoking_df['Smoke'].astype('category', values=['no', 'yes']).cat.codes\n",
    "predictions = result.predict(smoking_df)"
   ]
  },
  {
   "cell_type": "code",
   "execution_count": 67,
   "metadata": {
    "collapsed": false
   },
   "outputs": [],
   "source": [
    "smoking_df['fit_values'] = predictions.astype(np.int)"
   ]
  },
  {
   "cell_type": "code",
   "execution_count": 84,
   "metadata": {
    "code_folding": [],
    "collapsed": false
   },
   "outputs": [
    {
     "data": {
      "text/plain": [
       "<matplotlib.legend.Legend at 0x1e81809c320>"
      ]
     },
     "execution_count": 84,
     "metadata": {},
     "output_type": "execute_result"
    },
    {
     "data": {
      "image/png": "[encoded data removed]",
      "text/plain": [
       "<matplotlib.figure.Figure at 0x1e819491eb8>"
      ]
     },
     "metadata": {},
     "output_type": "display_data"
    }
   ],
   "source": [
    "ax = smoking_df[smoking_df.Smoke == 'yes'].plot(kind='scatter', color='blue', x='Gest', y='Wgt')\n",
    "ax = smoking_df[smoking_df.Smoke == 'no'].plot(kind='scatter', color='green', ax=ax, x='Gest', y='Wgt')\n",
    "\n",
    "# Also the regression line by group\n",
    "# smoking_df[smoking_df.Smoke == 'yes'].plot(kind='line', color='blue', x='Gest', y='fit_values')\n",
    "ax = smoking_df[smoking_df.Smoke == 'yes'].sort_values(by='Gest').plot(\n",
    "    kind='line', ax=ax, color='blue', x='Gest', y='fit_values')\n",
    "\n",
    "ax = smoking_df[smoking_df.Smoke == 'no'].sort_values(by='Gest').plot(\n",
    "    kind='line', ax=ax, color='green', x='Gest', y='fit_values')\n",
    "\n",
    "ax.legend(['Smokers', 'Non-smokers'], loc='upper left')"
   ]
  },
  {
   "cell_type": "markdown",
   "metadata": {},
   "source": [
    "* Does the effect of the gestation length on mean birth weight depend on whether or not the mother is a smoker? The answer is no! Regardless of whether or not the mother is a smoker, for each additional one-week of gestation, the mean birth weight is predicted to increase by 143 grams. This lack of interaction between the two predictors is exhibted by the parallelness of the two lines.\n",
    "\n",
    "\n",
    "* Does the effect of smoking on mean birth weight depend on the length of gestation? The answer is no! For a fixed length of gestation, the mean birth weight of babies born to smoking mothers is predicted to be 245 grams lower than the mean birth weight of babies born to non-smoking mothers. Again, this lack of interaction between the two predictors is exhibted by the parallelness of the two lines."
   ]
  },
  {
   "cell_type": "markdown",
   "metadata": {},
   "source": [
    "When two predictors do not interact, we say that each predictor has an \"additive effect\" on the response. More formally, a regression model contains additive effects if the response function can be written as a sum of functions of the predictor variables:\n",
    "\n",
    "$$y = f_1(x_1) + f_2(x_2) + ... + f_{p−1}(x_{p−1})$$"
   ]
  },
  {
   "cell_type": "markdown",
   "metadata": {},
   "source": [
    "## Treatment for Depressions Data"
   ]
  },
  {
   "cell_type": "markdown",
   "metadata": {},
   "source": [
    "Some researchers were interested in comparing the effectiveness of three treatments for severe depression. For the sake of simplicity, we denote the three treatments A, B, and C. The researchers collected the following data (depression.txt) on a random sample of n = 36 severely depressed individuals.\n",
    "\n",
    "    y = measure of the effectiveness of the treatment for individual i\n",
    "    x1 = age (in years) of individual i\n",
    "    x2 = 1 if individual i received treatment A and 0, if not\n",
    "    x3 = 1 if individual i received treatment B and 0, if not"
   ]
  },
  {
   "cell_type": "code",
   "execution_count": 86,
   "metadata": {
    "collapsed": true
   },
   "outputs": [],
   "source": [
    "depression_txt = \"\"\"y\tage\tx2\tx3\tTRT\n",
    "56\t21\t1\t0\tA\n",
    "41\t23\t0\t1\tB\n",
    "40\t30\t0\t1\tB\n",
    "28\t19\t0\t0\tC\n",
    "55\t28\t1\t0\tA\n",
    "25\t23\t0\t0\tC\n",
    "46\t33\t0\t1\tB\n",
    "71\t67\t0\t0\tC\n",
    "48\t42\t0\t1\tB\n",
    "63\t33\t1\t0\tA\n",
    "52\t33\t1\t0\tA\n",
    "62\t56\t0\t0\tC\n",
    "50\t45\t0\t0\tC\n",
    "45\t43\t0\t1\tB\n",
    "58\t38\t1\t0\tA\n",
    "46\t37\t0\t0\tC\n",
    "58\t43\t0\t1\tB\n",
    "34\t27\t0\t0\tC\n",
    "65\t43\t1\t0\tA\n",
    "55\t45\t0\t1\tB\n",
    "57\t48\t0\t1\tB\n",
    "59\t47\t0\t0\tC\n",
    "64\t48\t1\t0\tA\n",
    "61\t53\t1\t0\tA\n",
    "62\t58\t0\t1\tB\n",
    "36\t29\t0\t0\tC\n",
    "69\t53\t1\t0\tA\n",
    "47\t29\t0\t1\tB\n",
    "73\t58\t1\t0\tA\n",
    "64\t66\t0\t1\tB\n",
    "60\t67\t0\t1\tB\n",
    "62\t63\t1\t0\tA\n",
    "71\t59\t0\t0\tC\n",
    "62\t51\t0\t0\tC\n",
    "70\t67\t1\t0\tA\n",
    "71\t63\t0\t0\tC\"\"\""
   ]
  },
  {
   "cell_type": "code",
   "execution_count": 88,
   "metadata": {
    "collapsed": false
   },
   "outputs": [
    {
     "data": {
      "text/html": [
       "<div>\n",
       "<table border=\"1\" class=\"dataframe\">\n",
       "  <thead>\n",
       "    <tr style=\"text-align: right;\">\n",
       "      <th></th>\n",
       "      <th>y</th>\n",
       "      <th>age</th>\n",
       "      <th>x2</th>\n",
       "      <th>x3</th>\n",
       "      <th>TRT</th>\n",
       "    </tr>\n",
       "  </thead>\n",
       "  <tbody>\n",
       "    <tr>\n",
       "      <th>0</th>\n",
       "      <td>56</td>\n",
       "      <td>21</td>\n",
       "      <td>1</td>\n",
       "      <td>0</td>\n",
       "      <td>A</td>\n",
       "    </tr>\n",
       "    <tr>\n",
       "      <th>1</th>\n",
       "      <td>41</td>\n",
       "      <td>23</td>\n",
       "      <td>0</td>\n",
       "      <td>1</td>\n",
       "      <td>B</td>\n",
       "    </tr>\n",
       "    <tr>\n",
       "      <th>2</th>\n",
       "      <td>40</td>\n",
       "      <td>30</td>\n",
       "      <td>0</td>\n",
       "      <td>1</td>\n",
       "      <td>B</td>\n",
       "    </tr>\n",
       "    <tr>\n",
       "      <th>3</th>\n",
       "      <td>28</td>\n",
       "      <td>19</td>\n",
       "      <td>0</td>\n",
       "      <td>0</td>\n",
       "      <td>C</td>\n",
       "    </tr>\n",
       "    <tr>\n",
       "      <th>4</th>\n",
       "      <td>55</td>\n",
       "      <td>28</td>\n",
       "      <td>1</td>\n",
       "      <td>0</td>\n",
       "      <td>A</td>\n",
       "    </tr>\n",
       "  </tbody>\n",
       "</table>\n",
       "</div>"
      ],
      "text/plain": [
       "    y  age  x2  x3 TRT\n",
       "0  56   21   1   0   A\n",
       "1  41   23   0   1   B\n",
       "2  40   30   0   1   B\n",
       "3  28   19   0   0   C\n",
       "4  55   28   1   0   A"
      ]
     },
     "execution_count": 88,
     "metadata": {},
     "output_type": "execute_result"
    }
   ],
   "source": [
    "depression_df = pd.read_csv(StringIO(depression_txt), sep='\\t')\n",
    "depression_df.head()"
   ]
  },
  {
   "cell_type": "code",
   "execution_count": null,
   "metadata": {
    "collapsed": true
   },
   "outputs": [],
   "source": []
  },
  {
   "cell_type": "code",
   "execution_count": null,
   "metadata": {
    "collapsed": true
   },
   "outputs": [],
   "source": []
  }
 ],
 "metadata": {
  "kernelspec": {
   "display_name": "Python 3",
   "language": "python",
   "name": "python3"
  },
  "language_info": {
   "codemirror_mode": {
    "name": "ipython",
    "version": 3
   },
   "file_extension": ".py",
   "mimetype": "text/x-python",
   "name": "python",
   "nbconvert_exporter": "python",
   "pygments_lexer": "ipython3",
   "version": "3.5.3"
  }
 },
 "nbformat": 4,
 "nbformat_minor": 2
}
