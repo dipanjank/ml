{
 "cells": [
  {
   "cell_type": "markdown",
   "metadata": {},
   "source": [
    "# Stationary Series\n",
    "\n",
    "As a preliminary, we define an important concept, that of a stationary series.  For an ACF to make sense, the series must be a weakly stationary series.  This means that the autocorrelation for any particular lag is the same regardless of where we are in time.\n",
    "\n",
    "Definition: A series $y_t$ is said to be (weakly) stationary if it satisfies the following properties:\n",
    "\n",
    "* The mean $E(y_t)$ is the same for all $t$.\n",
    "* The variance of $y_t$ is the same for all $t$.\n",
    "* The covariance (and also correlation) between $y_t$ and $y_{t-h}$ is the same for all t."
   ]
  },
  {
   "cell_type": "markdown",
   "metadata": {},
   "source": [
    "# Properties of AR(1) Model\n",
    "\n",
    "Consider the AR(1) model:\n",
    "\n",
    "$$\\begin{equation}\n",
    "y_t = \\beta_1 y_{t-1} + \\beta_0 + \\epsilon\n",
    "\\end{equation}$$\n",
    "\n",
    "* The expection of $y_t$ is: $E(y_t) = \\frac {\\beta_0} {1 - \\beta_1}$\n",
    "\n",
    "* The variance of $y_t$ is: $Var(y_t) = \\frac {Var(\\epsilon)} {1 - \\beta_1^2}$\n",
    "\n",
    "* The correlation between observations h time periods apart is: $\\rho_h = \\beta_1^h$\n",
    "\n",
    "The ACF property defines a distinct pattern for the autocorrelations.  For a positive value of $\\beta_1$, the ACF exponentially decreases to 0 as the lag h increases.  For negative  $\\beta_1$, the ACF also exponentially decays to 0 as the lag increases, but the algebraic signs for the autocorrelations alternate between positive and negative."
   ]
  },
  {
   "cell_type": "markdown",
   "metadata": {},
   "source": [
    "# Regression with Autocorrelated Errors: The Durbin-Watson Test\n",
    "\n",
    "We usually assume that the error terms are independent unless there is a specific reason to think that this is not the case. Usually violation of this assumption occurs because there is a known temporal component for how the observations were drawn. The easiest way to assess if there is dependency is by producing a scatterplot of the residuals versus the time measurement for that observation (assuming you have the data arranged according to a time sequence order). If the data are independent, then the residuals should look randomly scattered about 0. However, if a noticeable pattern emerges (particularly one that is cyclical) then dependency is likely an issue.\n"
   ]
  },
  {
   "cell_type": "markdown",
   "metadata": {},
   "source": [
    "Recall that if we have a first-order autocorrelation with the errors, then the errors are modeled as:\n",
    "\n",
    "$$\\begin{equation}\n",
    "\\epsilon_t = \\rho \\epsilon_{t-1} + w_t\n",
    "\\end{equation}$$"
   ]
  },
  {
   "cell_type": "markdown",
   "metadata": {},
   "source": [
    "Where the $w_t$ are identically, independently distributed, each with a normal distribution having mean 0 and the same variance, and $\\lvert \\rho \\rvert < 1$ "
   ]
  },
  {
   "cell_type": "markdown",
   "metadata": {},
   "source": [
    "the Durbin-Watson test is a formal test for $\\rho$.\n",
    "\n",
    "Null Hypothesis $H_0:  \\rho = 0$\n",
    "\n",
    "Alt. Hypothesis $H_1:  \\rho \\neq 0$"
   ]
  },
  {
   "cell_type": "markdown",
   "metadata": {},
   "source": [
    "The test statistic for the Durbin-Watson test is obtained by:\n",
    "    \n",
    "$$\\begin{equation}\n",
    "D=\\frac {\\sum_{t=2}^{n} (e_{t}-e_{t-1})^{2}} {\\sum_{t=1}^{n}e_{t}^{2}}\n",
    "\\end{equation}$$"
   ]
  },
  {
   "cell_type": "markdown",
   "metadata": {},
   "source": [
    "where $e_t = y_t − \\hat{y_t}$ are the residuals from the ordinary least squares fit. "
   ]
  },
  {
   "cell_type": "markdown",
   "metadata": {},
   "source": [
    "# Ljung-Box Q Test\n",
    "\n",
    "The Ljung-Box Q test (sometimes called the Portmanteau test) is used to test whether or not observations over time are random and independent. In particular, for a given $k$, it tests the following:\n",
    "\n",
    "Null Hypothesis $H_0$: the autocorrelations up to lag $k$ are all 0.\n",
    "\n",
    "Alt. Hypothesis $H_1$: the autocorrelations of one or more lags differ from 0.\n",
    "\n",
    "The test statistic is calculated as:\n",
    "\n",
    "$$\\begin{equation}  \n",
    "Q_{k} = n(n+2) \\sum_{j=1}^{k} \\frac {{r}^{2}_{j}} {n-j}\n",
    "\\end{equation}$$"
   ]
  },
  {
   "cell_type": "markdown",
   "metadata": {},
   "source": [
    "# Illustration: Blaisdell Company Data"
   ]
  },
  {
   "cell_type": "code",
   "execution_count": 1,
   "metadata": {
    "collapsed": false
   },
   "outputs": [
    {
     "name": "stdout",
     "output_type": "stream",
     "text": [
      "Populating the interactive namespace from numpy and matplotlib\n"
     ]
    }
   ],
   "source": [
    "import numpy as np\n",
    "import pandas as pd\n",
    "%pylab inline\n",
    "pylab.style.use('ggplot')"
   ]
  },
  {
   "cell_type": "code",
   "execution_count": 5,
   "metadata": {
    "collapsed": true
   },
   "outputs": [],
   "source": [
    "blaisdell = pd.read_csv('blaisdell.csv').set_index('time')"
   ]
  },
  {
   "cell_type": "code",
   "execution_count": 6,
   "metadata": {
    "collapsed": false
   },
   "outputs": [
    {
     "data": {
      "text/html": [
       "<div>\n",
       "<table border=\"1\" class=\"dataframe\">\n",
       "  <thead>\n",
       "    <tr style=\"text-align: right;\">\n",
       "      <th></th>\n",
       "      <th>comsales</th>\n",
       "      <th>indsales</th>\n",
       "    </tr>\n",
       "    <tr>\n",
       "      <th>time</th>\n",
       "      <th></th>\n",
       "      <th></th>\n",
       "    </tr>\n",
       "  </thead>\n",
       "  <tbody>\n",
       "    <tr>\n",
       "      <th>1</th>\n",
       "      <td>20.96</td>\n",
       "      <td>127.3</td>\n",
       "    </tr>\n",
       "    <tr>\n",
       "      <th>2</th>\n",
       "      <td>21.40</td>\n",
       "      <td>130.0</td>\n",
       "    </tr>\n",
       "    <tr>\n",
       "      <th>3</th>\n",
       "      <td>21.96</td>\n",
       "      <td>132.7</td>\n",
       "    </tr>\n",
       "    <tr>\n",
       "      <th>4</th>\n",
       "      <td>21.52</td>\n",
       "      <td>129.4</td>\n",
       "    </tr>\n",
       "    <tr>\n",
       "      <th>5</th>\n",
       "      <td>22.39</td>\n",
       "      <td>135.0</td>\n",
       "    </tr>\n",
       "    <tr>\n",
       "      <th>6</th>\n",
       "      <td>22.76</td>\n",
       "      <td>137.1</td>\n",
       "    </tr>\n",
       "    <tr>\n",
       "      <th>7</th>\n",
       "      <td>23.48</td>\n",
       "      <td>141.2</td>\n",
       "    </tr>\n",
       "    <tr>\n",
       "      <th>8</th>\n",
       "      <td>23.66</td>\n",
       "      <td>142.8</td>\n",
       "    </tr>\n",
       "    <tr>\n",
       "      <th>9</th>\n",
       "      <td>24.10</td>\n",
       "      <td>145.5</td>\n",
       "    </tr>\n",
       "    <tr>\n",
       "      <th>10</th>\n",
       "      <td>24.01</td>\n",
       "      <td>145.3</td>\n",
       "    </tr>\n",
       "    <tr>\n",
       "      <th>11</th>\n",
       "      <td>24.54</td>\n",
       "      <td>148.3</td>\n",
       "    </tr>\n",
       "    <tr>\n",
       "      <th>12</th>\n",
       "      <td>24.30</td>\n",
       "      <td>146.4</td>\n",
       "    </tr>\n",
       "    <tr>\n",
       "      <th>13</th>\n",
       "      <td>25.00</td>\n",
       "      <td>150.2</td>\n",
       "    </tr>\n",
       "    <tr>\n",
       "      <th>14</th>\n",
       "      <td>25.64</td>\n",
       "      <td>153.1</td>\n",
       "    </tr>\n",
       "    <tr>\n",
       "      <th>15</th>\n",
       "      <td>26.36</td>\n",
       "      <td>157.3</td>\n",
       "    </tr>\n",
       "    <tr>\n",
       "      <th>16</th>\n",
       "      <td>26.98</td>\n",
       "      <td>160.7</td>\n",
       "    </tr>\n",
       "    <tr>\n",
       "      <th>17</th>\n",
       "      <td>27.52</td>\n",
       "      <td>164.2</td>\n",
       "    </tr>\n",
       "    <tr>\n",
       "      <th>18</th>\n",
       "      <td>27.78</td>\n",
       "      <td>165.6</td>\n",
       "    </tr>\n",
       "    <tr>\n",
       "      <th>19</th>\n",
       "      <td>28.24</td>\n",
       "      <td>168.7</td>\n",
       "    </tr>\n",
       "    <tr>\n",
       "      <th>20</th>\n",
       "      <td>28.78</td>\n",
       "      <td>171.7</td>\n",
       "    </tr>\n",
       "  </tbody>\n",
       "</table>\n",
       "</div>"
      ],
      "text/plain": [
       "      comsales  indsales\n",
       "time                    \n",
       "1        20.96     127.3\n",
       "2        21.40     130.0\n",
       "3        21.96     132.7\n",
       "4        21.52     129.4\n",
       "5        22.39     135.0\n",
       "6        22.76     137.1\n",
       "7        23.48     141.2\n",
       "8        23.66     142.8\n",
       "9        24.10     145.5\n",
       "10       24.01     145.3\n",
       "11       24.54     148.3\n",
       "12       24.30     146.4\n",
       "13       25.00     150.2\n",
       "14       25.64     153.1\n",
       "15       26.36     157.3\n",
       "16       26.98     160.7\n",
       "17       27.52     164.2\n",
       "18       27.78     165.6\n",
       "19       28.24     168.7\n",
       "20       28.78     171.7"
      ]
     },
     "execution_count": 6,
     "metadata": {},
     "output_type": "execute_result"
    }
   ],
   "source": [
    "blaisdell"
   ]
  },
  {
   "cell_type": "code",
   "execution_count": 7,
   "metadata": {
    "collapsed": false
   },
   "outputs": [
    {
     "data": {
      "text/plain": [
       "<matplotlib.axes._subplots.AxesSubplot at 0x1806e63c748>"
      ]
     },
     "execution_count": 7,
     "metadata": {},
     "output_type": "execute_result"
    },
    {
     "data": {
      "image/png": "[encoded data removed]",
      "text/plain": [
       "<matplotlib.figure.Figure at 0x1806e62da58>"
      ]
     },
     "metadata": {},
     "output_type": "display_data"
    }
   ],
   "source": [
    "blaisdell.plot(kind='line')"
   ]
  },
  {
   "cell_type": "code",
   "execution_count": 9,
   "metadata": {
    "collapsed": false
   },
   "outputs": [
    {
     "data": {
      "text/plain": [
       "<seaborn.axisgrid.FacetGrid at 0x180704ea240>"
      ]
     },
     "execution_count": 9,
     "metadata": {},
     "output_type": "execute_result"
    },
    {
     "data": {
      "image/png": "[encoded data removed]",
      "text/plain": [
       "<matplotlib.figure.Figure at 0x180704ea2b0>"
      ]
     },
     "metadata": {},
     "output_type": "display_data"
    }
   ],
   "source": [
    "import seaborn as sns\n",
    "sns.lmplot('comsales', 'indsales', data=blaisdell)"
   ]
  },
  {
   "cell_type": "code",
   "execution_count": 10,
   "metadata": {
    "collapsed": false
   },
   "outputs": [
    {
     "data": {
      "text/plain": [
       "<matplotlib.axes._subplots.AxesSubplot at 0x180705084e0>"
      ]
     },
     "execution_count": 10,
     "metadata": {},
     "output_type": "execute_result"
    },
    {
     "data": {
      "image/png": "[encoded data removed]",
      "text/plain": [
       "<matplotlib.figure.Figure at 0x1807050d0b8>"
      ]
     },
     "metadata": {},
     "output_type": "display_data"
    }
   ],
   "source": [
    "sns.residplot('comsales', 'indsales', data=blaisdell)"
   ]
  },
  {
   "cell_type": "code",
   "execution_count": 12,
   "metadata": {
    "collapsed": false
   },
   "outputs": [
    {
     "data": {
      "text/html": [
       "<table class=\"simpletable\">\n",
       "<caption>OLS Regression Results</caption>\n",
       "<tr>\n",
       "  <th>Dep. Variable:</th>        <td>indsales</td>     <th>  R-squared:         </th> <td>   0.999</td> \n",
       "</tr>\n",
       "<tr>\n",
       "  <th>Model:</th>                   <td>OLS</td>       <th>  Adj. R-squared:    </th> <td>   0.999</td> \n",
       "</tr>\n",
       "<tr>\n",
       "  <th>Method:</th>             <td>Least Squares</td>  <th>  F-statistic:       </th> <td>1.489e+04</td>\n",
       "</tr>\n",
       "<tr>\n",
       "  <th>Date:</th>             <td>Tue, 02 May 2017</td> <th>  Prob (F-statistic):</th> <td>1.01e-27</td> \n",
       "</tr>\n",
       "<tr>\n",
       "  <th>Time:</th>                 <td>22:04:25</td>     <th>  Log-Likelihood:    </th> <td> -12.971</td> \n",
       "</tr>\n",
       "<tr>\n",
       "  <th>No. Observations:</th>      <td>    20</td>      <th>  AIC:               </th> <td>   29.94</td> \n",
       "</tr>\n",
       "<tr>\n",
       "  <th>Df Residuals:</th>          <td>    18</td>      <th>  BIC:               </th> <td>   31.93</td> \n",
       "</tr>\n",
       "<tr>\n",
       "  <th>Df Model:</th>              <td>     1</td>      <th>                     </th>     <td> </td>    \n",
       "</tr>\n",
       "<tr>\n",
       "  <th>Covariance Type:</th>      <td>nonrobust</td>    <th>                     </th>     <td> </td>    \n",
       "</tr>\n",
       "</table>\n",
       "<table class=\"simpletable\">\n",
       "<tr>\n",
       "      <td></td>         <th>coef</th>     <th>std err</th>      <th>t</th>      <th>P>|t|</th>  <th>[0.025</th>    <th>0.975]</th>  \n",
       "</tr>\n",
       "<tr>\n",
       "  <th>Intercept</th> <td>    8.4207</td> <td>    1.146</td> <td>    7.347</td> <td> 0.000</td> <td>    6.013</td> <td>   10.828</td>\n",
       "</tr>\n",
       "<tr>\n",
       "  <th>comsales</th>  <td>    5.6659</td> <td>    0.046</td> <td>  122.017</td> <td> 0.000</td> <td>    5.568</td> <td>    5.763</td>\n",
       "</tr>\n",
       "</table>\n",
       "<table class=\"simpletable\">\n",
       "<tr>\n",
       "  <th>Omnibus:</th>       <td> 0.037</td> <th>  Durbin-Watson:     </th> <td>   0.739</td>\n",
       "</tr>\n",
       "<tr>\n",
       "  <th>Prob(Omnibus):</th> <td> 0.981</td> <th>  Jarque-Bera (JB):  </th> <td>   0.258</td>\n",
       "</tr>\n",
       "<tr>\n",
       "  <th>Skew:</th>          <td> 0.012</td> <th>  Prob(JB):          </th> <td>   0.879</td>\n",
       "</tr>\n",
       "<tr>\n",
       "  <th>Kurtosis:</th>      <td> 2.444</td> <th>  Cond. No.          </th> <td>    260.</td>\n",
       "</tr>\n",
       "</table>"
      ],
      "text/plain": [
       "<class 'statsmodels.iolib.summary.Summary'>\n",
       "\"\"\"\n",
       "                            OLS Regression Results                            \n",
       "==============================================================================\n",
       "Dep. Variable:               indsales   R-squared:                       0.999\n",
       "Model:                            OLS   Adj. R-squared:                  0.999\n",
       "Method:                 Least Squares   F-statistic:                 1.489e+04\n",
       "Date:                Tue, 02 May 2017   Prob (F-statistic):           1.01e-27\n",
       "Time:                        22:04:25   Log-Likelihood:                -12.971\n",
       "No. Observations:                  20   AIC:                             29.94\n",
       "Df Residuals:                      18   BIC:                             31.93\n",
       "Df Model:                           1                                         \n",
       "Covariance Type:            nonrobust                                         \n",
       "==============================================================================\n",
       "                 coef    std err          t      P>|t|      [0.025      0.975]\n",
       "------------------------------------------------------------------------------\n",
       "Intercept      8.4207      1.146      7.347      0.000       6.013      10.828\n",
       "comsales       5.6659      0.046    122.017      0.000       5.568       5.763\n",
       "==============================================================================\n",
       "Omnibus:                        0.037   Durbin-Watson:                   0.739\n",
       "Prob(Omnibus):                  0.981   Jarque-Bera (JB):                0.258\n",
       "Skew:                           0.012   Prob(JB):                        0.879\n",
       "Kurtosis:                       2.444   Cond. No.                         260.\n",
       "==============================================================================\n",
       "\n",
       "Warnings:\n",
       "[1] Standard Errors assume that the covariance matrix of the errors is correctly specified.\n",
       "\"\"\""
      ]
     },
     "execution_count": 12,
     "metadata": {},
     "output_type": "execute_result"
    }
   ],
   "source": [
    "import statsmodels.formula.api as sm\n",
    "\n",
    "model = sm.ols(formula='indsales ~ comsales', data=blaisdell)\n",
    "result = model.fit()\n",
    "result.summary()"
   ]
  },
  {
   "cell_type": "code",
   "execution_count": 14,
   "metadata": {
    "collapsed": true
   },
   "outputs": [],
   "source": [
    "# Calculate Durbin-Watson test statistic by hand\n",
    "residuals = result.resid.copy()"
   ]
  },
  {
   "cell_type": "code",
   "execution_count": 20,
   "metadata": {
    "collapsed": false
   },
   "outputs": [
    {
     "name": "stdout",
     "output_type": "stream",
     "text": [
      "The Durbin-Watson statistic is: 0.739\n"
     ]
    }
   ],
   "source": [
    "squared_errors = residuals ** 2\n",
    "error_diff_squared = residuals.diff(1) ** 2\n",
    "durbin_watson = error_diff_squared.sum() / squared_errors.sum()\n",
    "\n",
    "print('The Durbin-Watson statistic is: {0:.3f}'.format(durbin_watson))"
   ]
  },
  {
   "cell_type": "code",
   "execution_count": 108,
   "metadata": {
    "collapsed": false
   },
   "outputs": [],
   "source": [
    "# Calculate Ljung-Box Q test statistic by hand\n",
    "\n",
    "def lbq(resids, lags=1):\n",
    "    \"\"\"\n",
    "    Calculate and return LBQ test statistic for lag=1, 2, 3, ..., lags.\n",
    "    \"\"\"\n",
    "    assert lags >= 1\n",
    "    n = len(resids)\n",
    "    \n",
    "    autocorrs = np.asarray([resids.autocorr(j)**2 / (n-j) for j in range(1, lags+1)])\n",
    "    lbq_val = n * (n + 2) * autocorrs.cumsum()\n",
    "    \n",
    "    return lbq_val"
   ]
  },
  {
   "cell_type": "code",
   "execution_count": 113,
   "metadata": {
    "collapsed": false
   },
   "outputs": [
    {
     "data": {
      "text/plain": [
       "array([  9.13231308,  10.86379194,  11.34342905,  20.02430506,  39.01687874])"
      ]
     },
     "execution_count": 113,
     "metadata": {},
     "output_type": "execute_result"
    }
   ],
   "source": [
    "lbq(residuals, 5)"
   ]
  },
  {
   "cell_type": "code",
   "execution_count": 111,
   "metadata": {
    "collapsed": true
   },
   "outputs": [],
   "source": [
    "from statsmodels.stats.diagnostic import acorr_ljungbox"
   ]
  },
  {
   "cell_type": "code",
   "execution_count": 115,
   "metadata": {
    "collapsed": false
   },
   "outputs": [
    {
     "data": {
      "text/plain": [
       "array([  9.00338197,  10.66343636,  11.09952693,  17.34734929,  29.10285083])"
      ]
     },
     "execution_count": 115,
     "metadata": {},
     "output_type": "execute_result"
    }
   ],
   "source": [
    "acorr_ljungbox(residuals, lags=5)[0]"
   ]
  }
 ],
 "metadata": {
  "kernelspec": {
   "display_name": "Python 3",
   "language": "python",
   "name": "python3"
  },
  "language_info": {
   "codemirror_mode": {
    "name": "ipython",
    "version": 3
   },
   "file_extension": ".py",
   "mimetype": "text/x-python",
   "name": "python",
   "nbconvert_exporter": "python",
   "pygments_lexer": "ipython3",
   "version": "3.5.3"
  }
 },
 "nbformat": 4,
 "nbformat_minor": 2
}
