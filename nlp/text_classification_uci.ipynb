{
 "cells": [
  {
   "cell_type": "markdown",
   "metadata": {},
   "source": [
    "<h1 align=\"center\">Text Classification on CNAE-9 Data Set</h1>\n",
    "\n",
    "In this notebook, we build a Text Classification Model on <a href=\"https://archive.ics.uci.edu/ml/datasets/CNAE-9\">CNAE-9 Dataset on UCI.</a>\n",
    "\n",
    "From the description:\n",
    "\n",
    "    This is a data set containing 1080 documents of free text business descriptions of Brazilian companies categorized into a subset of 9 categories cataloged in a table called National Classification of Economic Activities (ClassificaÃ§Ã£o Nacional de Atividade EconÃ´micas - CNAE). The original texts were pre-processed to obtain the current data set: initially, it was kept only letters and then it was removed prepositions of the texts. Next, the words were transformed to their canonical form. Finally, each document was represented as a vector, where the weight of each word is its frequency in the document. This data set is highly sparse (99.22% of the matrix is filled with zeros).\n",
    "\n"
   ]
  },
  {
   "cell_type": "code",
   "execution_count": 1,
   "metadata": {},
   "outputs": [],
   "source": [
    "import pandas as pd\n",
    "import numpy as np\n",
    "%matplotlib inline\n",
    "import matplotlib.pyplot as plt\n",
    "plt.style.use('ggplot')\n",
    "import seaborn as sns"
   ]
  },
  {
   "cell_type": "code",
   "execution_count": 2,
   "metadata": {},
   "outputs": [
    {
     "data": {
      "application/json": {
       "Software versions": [
        {
         "module": "Python",
         "version": "3.6.5 64bit [MSC v.1900 64 bit (AMD64)]"
        },
        {
         "module": "IPython",
         "version": "6.2.1"
        },
        {
         "module": "OS",
         "version": "Windows 10 10.0.16299 SP0"
        },
        {
         "module": "scipy",
         "version": "1.0.1"
        },
        {
         "module": "numpy",
         "version": "1.12.1"
        },
        {
         "module": "pandas",
         "version": "0.22.0"
        },
        {
         "module": "matplotlib",
         "version": "2.2.2"
        },
        {
         "module": "seaborn",
         "version": "0.8.1"
        },
        {
         "module": "version_information",
         "version": "1.0.3"
        }
       ]
      },
      "text/html": [
       "<table><tr><th>Software</th><th>Version</th></tr><tr><td>Python</td><td>3.6.5 64bit [MSC v.1900 64 bit (AMD64)]</td></tr><tr><td>IPython</td><td>6.2.1</td></tr><tr><td>OS</td><td>Windows 10 10.0.16299 SP0</td></tr><tr><td>scipy</td><td>1.0.1</td></tr><tr><td>numpy</td><td>1.12.1</td></tr><tr><td>pandas</td><td>0.22.0</td></tr><tr><td>matplotlib</td><td>2.2.2</td></tr><tr><td>seaborn</td><td>0.8.1</td></tr><tr><td>version_information</td><td>1.0.3</td></tr><tr><td colspan='2'>Tue Apr 17 21:51:26 2018 GMT Daylight Time</td></tr></table>"
      ],
      "text/latex": [
       "\\begin{tabular}{|l|l|}\\hline\n",
       "{\\bf Software} & {\\bf Version} \\\\ \\hline\\hline\n",
       "Python & 3.6.5 64bit [MSC v.1900 64 bit (AMD64)] \\\\ \\hline\n",
       "IPython & 6.2.1 \\\\ \\hline\n",
       "OS & Windows 10 10.0.16299 SP0 \\\\ \\hline\n",
       "scipy & 1.0.1 \\\\ \\hline\n",
       "numpy & 1.12.1 \\\\ \\hline\n",
       "pandas & 0.22.0 \\\\ \\hline\n",
       "matplotlib & 2.2.2 \\\\ \\hline\n",
       "seaborn & 0.8.1 \\\\ \\hline\n",
       "version_information & 1.0.3 \\\\ \\hline\n",
       "\\hline \\multicolumn{2}{|l|}{Tue Apr 17 21:51:26 2018 GMT Daylight Time} \\\\ \\hline\n",
       "\\end{tabular}\n"
      ],
      "text/plain": [
       "Software versions\n",
       "Python 3.6.5 64bit [MSC v.1900 64 bit (AMD64)]\n",
       "IPython 6.2.1\n",
       "OS Windows 10 10.0.16299 SP0\n",
       "scipy 1.0.1\n",
       "numpy 1.12.1\n",
       "pandas 0.22.0\n",
       "matplotlib 2.2.2\n",
       "seaborn 0.8.1\n",
       "version_information 1.0.3\n",
       "Tue Apr 17 21:51:26 2018 GMT Daylight Time"
      ]
     },
     "execution_count": 2,
     "metadata": {},
     "output_type": "execute_result"
    }
   ],
   "source": [
    "%load_ext version_information\n",
    "%version_information scipy, numpy, pandas, matplotlib, seaborn, version_information"
   ]
  },
  {
   "cell_type": "markdown",
   "metadata": {},
   "source": [
    "# Getting the Data"
   ]
  },
  {
   "cell_type": "code",
   "execution_count": 3,
   "metadata": {},
   "outputs": [],
   "source": [
    "url = r'https://archive.ics.uci.edu/ml/machine-learning-databases/00233/CNAE-9.data'\n",
    "count_df = pd.read_csv(url, header=None)"
   ]
  },
  {
   "cell_type": "code",
   "execution_count": 4,
   "metadata": {},
   "outputs": [
    {
     "name": "stdout",
     "output_type": "stream",
     "text": [
      "<class 'pandas.core.frame.DataFrame'>\n",
      "RangeIndex: 1080 entries, 0 to 1079\n",
      "Columns: 857 entries, 0 to 856\n",
      "dtypes: int64(857)\n",
      "memory usage: 7.1 MB\n"
     ]
    }
   ],
   "source": [
    "count_df.info()"
   ]
  },
  {
   "cell_type": "markdown",
   "metadata": {},
   "source": [
    "The result is a 1080\\*857 dense matrix. The first column is the label. We extract the first column as the label and convert the rest to a sparse matrix."
   ]
  },
  {
   "cell_type": "code",
   "execution_count": 5,
   "metadata": {},
   "outputs": [],
   "source": [
    "from scipy.sparse import csr_matrix\n",
    "labels, count_features = count_df.loc[:, 0], count_df.loc[:, 1:] \n",
    "count_data = csr_matrix(count_features.values)"
   ]
  },
  {
   "cell_type": "code",
   "execution_count": 6,
   "metadata": {},
   "outputs": [
    {
     "data": {
      "text/plain": [
       "<1080x856 sparse matrix of type '<class 'numpy.int64'>'\n",
       "\twith 7233 stored elements in Compressed Sparse Row format>"
      ]
     },
     "execution_count": 6,
     "metadata": {},
     "output_type": "execute_result"
    }
   ],
   "source": [
    "count_data"
   ]
  },
  {
   "cell_type": "markdown",
   "metadata": {},
   "source": [
    "# Check for Class Imbalance"
   ]
  },
  {
   "cell_type": "code",
   "execution_count": 7,
   "metadata": {},
   "outputs": [
    {
     "data": {
      "text/plain": [
       "<matplotlib.axes._subplots.AxesSubplot at 0x1abec018630>"
      ]
     },
     "execution_count": 7,
     "metadata": {},
     "output_type": "execute_result"
    },
    {
     "data": {
      "image/png": "[encoded data removed]",
      "text/plain": [
       "<Figure size 432x288 with 1 Axes>"
      ]
     },
     "metadata": {},
     "output_type": "display_data"
    }
   ],
   "source": [
    "label_counts = pd.Series(labels).value_counts()\n",
    "label_counts.plot(kind='bar', rot=0)"
   ]
  },
  {
   "cell_type": "markdown",
   "metadata": {},
   "source": [
    "# Model Construction and Cross-Validation\n",
    "\n",
    "In this section, we construct a classification model by \n",
    "\n",
    "* Perform Singular Value Decomposition of the sparse matrix and keep the top 100 components.\n",
    "* Use a Maximum Entropy Classifier on the scaled SVD components."
   ]
  },
  {
   "cell_type": "code",
   "execution_count": 8,
   "metadata": {},
   "outputs": [],
   "source": [
    "from sklearn.metrics import classification_report\n",
    "from sklearn.pipeline import Pipeline\n",
    "from sklearn.model_selection import StratifiedKFold, cross_val_predict\n",
    "from sklearn.linear_model import LogisticRegression\n",
    "from sklearn.decomposition import TruncatedSVD\n",
    "from sklearn.preprocessing import StandardScaler"
   ]
  },
  {
   "cell_type": "code",
   "execution_count": 9,
   "metadata": {},
   "outputs": [
    {
     "name": "stdout",
     "output_type": "stream",
     "text": [
      "             precision    recall  f1-score   support\n",
      "\n",
      "          1       0.97      0.97      0.97       120\n",
      "          2       0.99      0.96      0.97       120\n",
      "          3       0.94      0.92      0.93       120\n",
      "          4       0.88      0.89      0.89       120\n",
      "          5       1.00      0.97      0.99       120\n",
      "          6       0.88      0.94      0.91       120\n",
      "          7       0.98      0.95      0.97       120\n",
      "          8       0.97      0.98      0.98       120\n",
      "          9       0.88      0.89      0.88       120\n",
      "\n",
      "avg / total       0.94      0.94      0.94      1080\n",
      "\n"
     ]
    }
   ],
   "source": [
    "pipeline = Pipeline(\n",
    "    [\n",
    "        ('reducer', TruncatedSVD(n_components=100, random_state=1000)),\n",
    "        ('scaler', StandardScaler(with_mean=False)),\n",
    "        ('model', LogisticRegression(max_iter=100, random_state=1234, \n",
    "                                     solver='lbfgs', multi_class='multinomial'))\n",
    "    ]\n",
    ")\n",
    "\n",
    "cv = StratifiedKFold(n_splits=10, random_state=1245, shuffle=True)\n",
    "predictions = cross_val_predict(pipeline, count_data, labels, cv=cv)\n",
    "\n",
    "cr = classification_report(labels, predictions)\n",
    "print(cr)"
   ]
  }
 ],
 "metadata": {
  "kernelspec": {
   "display_name": "Python 3",
   "language": "python",
   "name": "python3"
  },
  "language_info": {
   "codemirror_mode": {
    "name": "ipython",
    "version": 3
   },
   "file_extension": ".py",
   "mimetype": "text/x-python",
   "name": "python",
   "nbconvert_exporter": "python",
   "pygments_lexer": "ipython3",
   "version": "3.6.5"
  }
 },
 "nbformat": 4,
 "nbformat_minor": 2
}
