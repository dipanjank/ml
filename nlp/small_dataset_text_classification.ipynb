{
 "cells": [
  {
   "cell_type": "markdown",
   "metadata": {},
   "source": [
    "<h1 align=\"center\">Small Dataset Text Classification in Keras</h1>"
   ]
  },
  {
   "cell_type": "code",
   "execution_count": 1,
   "metadata": {},
   "outputs": [],
   "source": [
    "import pandas as pd\n",
    "import numpy as np\n",
    "%matplotlib inline\n",
    "import matplotlib.pyplot as plt\n",
    "plt.style.use('ggplot')"
   ]
  },
  {
   "cell_type": "markdown",
   "metadata": {},
   "source": [
    "# Getting the Data"
   ]
  },
  {
   "cell_type": "code",
   "execution_count": 2,
   "metadata": {},
   "outputs": [],
   "source": [
    "data = pd.read_csv('imdb_labelled.txt', sep='\\|', engine='python', header=None)\n",
    "data.columns = ['text', 'label']"
   ]
  },
  {
   "cell_type": "code",
   "execution_count": 3,
   "metadata": {},
   "outputs": [
    {
     "data": {
      "text/html": [
       "<div>\n",
       "<style scoped>\n",
       "    .dataframe tbody tr th:only-of-type {\n",
       "        vertical-align: middle;\n",
       "    }\n",
       "\n",
       "    .dataframe tbody tr th {\n",
       "        vertical-align: top;\n",
       "    }\n",
       "\n",
       "    .dataframe thead th {\n",
       "        text-align: right;\n",
       "    }\n",
       "</style>\n",
       "<table border=\"1\" class=\"dataframe\">\n",
       "  <thead>\n",
       "    <tr style=\"text-align: right;\">\n",
       "      <th></th>\n",
       "      <th>text</th>\n",
       "      <th>label</th>\n",
       "    </tr>\n",
       "  </thead>\n",
       "  <tbody>\n",
       "    <tr>\n",
       "      <th>0</th>\n",
       "      <td>A very, very, very slow-moving, aimless movie ...</td>\n",
       "      <td>0</td>\n",
       "    </tr>\n",
       "    <tr>\n",
       "      <th>1</th>\n",
       "      <td>Not sure who was more lost - the flat characte...</td>\n",
       "      <td>0</td>\n",
       "    </tr>\n",
       "    <tr>\n",
       "      <th>2</th>\n",
       "      <td>Attempting artiness with black &amp; white and cle...</td>\n",
       "      <td>0</td>\n",
       "    </tr>\n",
       "    <tr>\n",
       "      <th>3</th>\n",
       "      <td>Very little music or anything to speak of.</td>\n",
       "      <td>0</td>\n",
       "    </tr>\n",
       "    <tr>\n",
       "      <th>4</th>\n",
       "      <td>The best scene in the movie was when Gerardo i...</td>\n",
       "      <td>1</td>\n",
       "    </tr>\n",
       "  </tbody>\n",
       "</table>\n",
       "</div>"
      ],
      "text/plain": [
       "                                                text  label\n",
       "0  A very, very, very slow-moving, aimless movie ...      0\n",
       "1  Not sure who was more lost - the flat characte...      0\n",
       "2  Attempting artiness with black & white and cle...      0\n",
       "3         Very little music or anything to speak of.      0\n",
       "4  The best scene in the movie was when Gerardo i...      1"
      ]
     },
     "execution_count": 3,
     "metadata": {},
     "output_type": "execute_result"
    }
   ],
   "source": [
    "data.head()"
   ]
  },
  {
   "cell_type": "markdown",
   "metadata": {},
   "source": [
    "# Distribution of Labels"
   ]
  },
  {
   "cell_type": "code",
   "execution_count": 4,
   "metadata": {},
   "outputs": [
    {
     "data": {
      "image/png": "[encoded data removed]",
      "text/plain": [
       "<Figure size 432x288 with 1 Axes>"
      ]
     },
     "metadata": {},
     "output_type": "display_data"
    }
   ],
   "source": [
    "ax = data.label.value_counts().plot(kind='bar', rot=0, title='Counts per Label')"
   ]
  },
  {
   "cell_type": "markdown",
   "metadata": {},
   "source": [
    "# Preprocessing"
   ]
  },
  {
   "cell_type": "code",
   "execution_count": 5,
   "metadata": {},
   "outputs": [],
   "source": [
    "import nltk\n",
    "from nltk.corpus import stopwords\n",
    "from nltk.tokenize import word_tokenize\n",
    "stopwords = set(stopwords.words('english'))\n",
    "from nltk.tokenize import RegexpTokenizer\n",
    "\n",
    "def remove_stopwords(sent):\n",
    "    words = word_tokenize(sent)\n",
    "    return ' '.join([w for w in words if w not in stopwords])   \n",
    "    \n",
    "def remove_punctuations(sent):\n",
    "    regex_tok = RegexpTokenizer(r'\\w+')\n",
    "    words = regex_tok.tokenize(sent)\n",
    "    return ' '.join(words)\n",
    "\n",
    "def preprocess_sent(sent):\n",
    "    sent = sent.lower()\n",
    "    return remove_punctuations(remove_stopwords(sent))\n",
    "\n",
    "preprocessed_text = data.text.apply(preprocess_sent)\n",
    "data.loc[:, 'text'] = preprocessed_text"
   ]
  },
  {
   "cell_type": "code",
   "execution_count": 6,
   "metadata": {},
   "outputs": [
    {
     "data": {
      "text/html": [
       "<div>\n",
       "<style scoped>\n",
       "    .dataframe tbody tr th:only-of-type {\n",
       "        vertical-align: middle;\n",
       "    }\n",
       "\n",
       "    .dataframe tbody tr th {\n",
       "        vertical-align: top;\n",
       "    }\n",
       "\n",
       "    .dataframe thead th {\n",
       "        text-align: right;\n",
       "    }\n",
       "</style>\n",
       "<table border=\"1\" class=\"dataframe\">\n",
       "  <thead>\n",
       "    <tr style=\"text-align: right;\">\n",
       "      <th></th>\n",
       "      <th>text</th>\n",
       "      <th>label</th>\n",
       "    </tr>\n",
       "  </thead>\n",
       "  <tbody>\n",
       "    <tr>\n",
       "      <th>0</th>\n",
       "      <td>slow moving aimless movie distressed drifting ...</td>\n",
       "      <td>0</td>\n",
       "    </tr>\n",
       "    <tr>\n",
       "      <th>1</th>\n",
       "      <td>sure lost flat characters audience nearly half...</td>\n",
       "      <td>0</td>\n",
       "    </tr>\n",
       "    <tr>\n",
       "      <th>2</th>\n",
       "      <td>attempting artiness black white clever camera ...</td>\n",
       "      <td>0</td>\n",
       "    </tr>\n",
       "    <tr>\n",
       "      <th>3</th>\n",
       "      <td>little music anything speak</td>\n",
       "      <td>0</td>\n",
       "    </tr>\n",
       "    <tr>\n",
       "      <th>4</th>\n",
       "      <td>best scene movie gerardo trying find song keep...</td>\n",
       "      <td>1</td>\n",
       "    </tr>\n",
       "  </tbody>\n",
       "</table>\n",
       "</div>"
      ],
      "text/plain": [
       "                                                text  label\n",
       "0  slow moving aimless movie distressed drifting ...      0\n",
       "1  sure lost flat characters audience nearly half...      0\n",
       "2  attempting artiness black white clever camera ...      0\n",
       "3                        little music anything speak      0\n",
       "4  best scene movie gerardo trying find song keep...      1"
      ]
     },
     "execution_count": 6,
     "metadata": {},
     "output_type": "execute_result"
    }
   ],
   "source": [
    "data.head()"
   ]
  },
  {
   "cell_type": "markdown",
   "metadata": {},
   "source": [
    "## Train-test Split"
   ]
  },
  {
   "cell_type": "code",
   "execution_count": 7,
   "metadata": {},
   "outputs": [
    {
     "name": "stdout",
     "output_type": "stream",
     "text": [
      "Train and test lengths:  800 200\n"
     ]
    }
   ],
   "source": [
    "test_df = data.groupby('label').apply(lambda g: g.sample(frac=0.2, random_state=1000))\n",
    "test_df.index = test_df.index.droplevel(0)\n",
    "train_df = data.drop(test_df.index, axis=0)\n",
    "print(\"Train and test lengths: \", len(train_df), len(test_df))"
   ]
  },
  {
   "cell_type": "markdown",
   "metadata": {},
   "source": [
    "# Text Classification In Keras\n",
    "\n",
    "First we assign a unique id to each word and then replace each sentence as a list of word ids. Then we pad / clip each sentence to be of a max length (say 15)."
   ]
  },
  {
   "cell_type": "code",
   "execution_count": 8,
   "metadata": {},
   "outputs": [
    {
     "name": "stderr",
     "output_type": "stream",
     "text": [
      "Using TensorFlow backend.\n"
     ]
    }
   ],
   "source": [
    "from keras.preprocessing.text import Tokenizer\n",
    "from keras.preprocessing.sequence import pad_sequences\n",
    "\n",
    "vocab_size = 40000\n",
    "tokenizer = Tokenizer(lower=True, num_words=vocab_size)\n",
    "tokenizer.fit_on_texts(train_df.text.values)\n",
    "pad_len = 15\n",
    "\n",
    "train_sequences = pad_sequences(tokenizer.texts_to_sequences(train_df.text.values), pad_len)\n",
    "test_sequences = pad_sequences(tokenizer.texts_to_sequences(test_df.text.values), pad_len)"
   ]
  },
  {
   "cell_type": "code",
   "execution_count": 9,
   "metadata": {},
   "outputs": [
    {
     "name": "stdout",
     "output_type": "stream",
     "text": [
      "Shape of train sequences:  (800, 15)\n",
      "Shape of test sequences :  (200, 15)\n"
     ]
    }
   ],
   "source": [
    "print(\"Shape of train sequences: \", train_sequences.shape)\n",
    "print(\"Shape of test sequences : \", test_sequences.shape)"
   ]
  },
  {
   "cell_type": "code",
   "execution_count": 10,
   "metadata": {},
   "outputs": [
    {
     "data": {
      "text/plain": [
       "array([[  0,   0,   0,   0,   0,   0,   0, 193, 243, 887,   1, 888, 889,\n",
       "        244,  59],\n",
       "       [  0,   0,   0,   0,   0,   0,   0, 342, 245, 501,  16, 194, 890,\n",
       "        156, 891],\n",
       "       [343, 126, 502,   1, 503, 894,  15, 195,  10, 196,  22, 157, 111,\n",
       "        246, 895],\n",
       "       [  0,   0,   0,   0,   0,   0,   0,   0,   0,   0,   0,  38,  85,\n",
       "        127, 344],\n",
       "       [  0,   0,   0,   0,   0,  29, 112,   1, 896, 345,  86, 346, 504,\n",
       "        505, 347]])"
      ]
     },
     "execution_count": 10,
     "metadata": {},
     "output_type": "execute_result"
    }
   ],
   "source": [
    "train_sequences[:5]"
   ]
  },
  {
   "cell_type": "markdown",
   "metadata": {},
   "source": [
    "# Model Construction"
   ]
  },
  {
   "cell_type": "code",
   "execution_count": 66,
   "metadata": {},
   "outputs": [],
   "source": [
    "from keras.models import Sequential\n",
    "from keras.layers import Dense\n",
    "from keras.layers import SimpleRNN, LSTM \n",
    "from keras.layers.embeddings import Embedding\n",
    "\n",
    "embedding_size = 60\n",
    "\n",
    "model = Sequential()\n",
    "model.add(Embedding(input_dim=vocab_size+1, output_dim=embedding_size, mask_zero=True))\n",
    "model.add(SimpleRNN(units=10, activation='tanh'))\n",
    "model.add(Dense(1, activation='sigmoid'))"
   ]
  },
  {
   "cell_type": "code",
   "execution_count": 67,
   "metadata": {},
   "outputs": [
    {
     "name": "stdout",
     "output_type": "stream",
     "text": [
      "_________________________________________________________________\n",
      "Layer (type)                 Output Shape              Param #   \n",
      "=================================================================\n",
      "embedding_14 (Embedding)     (None, None, 60)          2400060   \n",
      "_________________________________________________________________\n",
      "simple_rnn_11 (SimpleRNN)    (None, 10)                710       \n",
      "_________________________________________________________________\n",
      "dense_16 (Dense)             (None, 1)                 11        \n",
      "=================================================================\n",
      "Total params: 2,400,781\n",
      "Trainable params: 2,400,781\n",
      "Non-trainable params: 0\n",
      "_________________________________________________________________\n"
     ]
    }
   ],
   "source": [
    "model.summary()"
   ]
  },
  {
   "cell_type": "markdown",
   "metadata": {},
   "source": [
    "# Training"
   ]
  },
  {
   "cell_type": "code",
   "execution_count": 68,
   "metadata": {},
   "outputs": [
    {
     "name": "stdout",
     "output_type": "stream",
     "text": [
      "Train on 720 samples, validate on 80 samples\n",
      "Epoch 1/10\n",
      "720/720 [==============================] - 3s 5ms/step - loss: 0.6982 - acc: 0.4472 - val_loss: 0.6817 - val_acc: 0.5625\n",
      "Epoch 2/10\n",
      "720/720 [==============================] - 1s 1ms/step - loss: 0.6967 - acc: 0.4694 - val_loss: 0.6817 - val_acc: 0.5625\n",
      "Epoch 3/10\n",
      "720/720 [==============================] - 1s 2ms/step - loss: 0.6952 - acc: 0.4764 - val_loss: 0.6804 - val_acc: 0.5875\n",
      "Epoch 4/10\n",
      "720/720 [==============================] - 1s 2ms/step - loss: 0.6939 - acc: 0.4806 - val_loss: 0.6800 - val_acc: 0.5875\n",
      "Epoch 5/10\n",
      "720/720 [==============================] - 1s 1ms/step - loss: 0.6925 - acc: 0.4931 - val_loss: 0.6802 - val_acc: 0.5750\n",
      "Epoch 6/10\n",
      "720/720 [==============================] - 1s 1ms/step - loss: 0.6911 - acc: 0.5139 - val_loss: 0.6799 - val_acc: 0.5750\n",
      "Epoch 7/10\n",
      "720/720 [==============================] - 1s 1ms/step - loss: 0.6898 - acc: 0.5236 - val_loss: 0.6810 - val_acc: 0.5500\n",
      "Epoch 8/10\n",
      "720/720 [==============================] - 1s 2ms/step - loss: 0.6885 - acc: 0.5389 - val_loss: 0.6808 - val_acc: 0.5500\n",
      "Epoch 9/10\n",
      "720/720 [==============================] - 1s 1ms/step - loss: 0.6872 - acc: 0.5444 - val_loss: 0.6798 - val_acc: 0.5625\n",
      "Epoch 10/10\n",
      "720/720 [==============================] - 1s 1ms/step - loss: 0.6861 - acc: 0.5514 - val_loss: 0.6807 - val_acc: 0.5750\n"
     ]
    }
   ],
   "source": [
    "from keras import optimizers\n",
    "sgd = optimizers.SGD(lr=0.008)\n",
    "model.compile(optimizer=sgd, loss='binary_crossentropy', metrics=['accuracy'])\n",
    "\n",
    "history = model.fit(train_sequences, train_df.label.values,\n",
    "  batch_size=32,\n",
    "  epochs=10,\n",
    "  verbose=1,\n",
    "  validation_split=0.1,\n",
    "  shuffle=True)"
   ]
  },
  {
   "cell_type": "code",
   "execution_count": 61,
   "metadata": {},
   "outputs": [
    {
     "data": {
      "image/png": "[encoded data removed]",
      "text/plain": [
       "<Figure size 432x288 with 1 Axes>"
      ]
     },
     "metadata": {},
     "output_type": "display_data"
    }
   ],
   "source": [
    "loss_per_epoch = history.history['loss']\n",
    "ax = pd.Series(loss_per_epoch).plot(kind='bar', title='Loss per epoch', rot=0)"
   ]
  },
  {
   "cell_type": "markdown",
   "metadata": {},
   "source": [
    "# Performance Analysis"
   ]
  },
  {
   "cell_type": "code",
   "execution_count": 73,
   "metadata": {},
   "outputs": [],
   "source": [
    "predictions = model.predict(test_sequences).squeeze()\n",
    "predictions = np.where(predictions > 0.5, 1, 0)"
   ]
  },
  {
   "cell_type": "code",
   "execution_count": 75,
   "metadata": {},
   "outputs": [
    {
     "name": "stdout",
     "output_type": "stream",
     "text": [
      "             precision    recall  f1-score   support\n",
      "\n",
      "          0       0.64      0.52      0.57       123\n",
      "          1       0.41      0.53      0.46        77\n",
      "\n",
      "avg / total       0.55      0.53      0.53       200\n",
      "\n"
     ]
    }
   ],
   "source": [
    "from sklearn.metrics import classification_report\n",
    "report = classification_report(predictions, test_df.label.values)\n",
    "print(report)"
   ]
  }
 ],
 "metadata": {
  "kernelspec": {
   "display_name": "Python 3",
   "language": "python",
   "name": "python3"
  },
  "language_info": {
   "codemirror_mode": {
    "name": "ipython",
    "version": 3
   },
   "file_extension": ".py",
   "mimetype": "text/x-python",
   "name": "python",
   "nbconvert_exporter": "python",
   "pygments_lexer": "ipython3",
   "version": "3.6.5"
  }
 },
 "nbformat": 4,
 "nbformat_minor": 2
}
