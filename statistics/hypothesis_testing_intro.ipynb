{
 "cells": [
  {
   "cell_type": "markdown",
   "metadata": {},
   "source": [
    "The general idea of hypothesis testing involves:\n",
    "\n",
    "* Making an initial assumption.\n",
    "* Collecting evidence (data).\n",
    "* Based on the available evidence (data), deciding whether to reject or not reject the initial assumption."
   ]
  },
  {
   "cell_type": "markdown",
   "metadata": {},
   "source": [
    "# Example\n",
    "\n",
    "Consider the population of many, many adults. A researcher hypothesizes that the average adult body temperature is lower than the often-advertised 98.6 degrees F. That is, the researcher wants an answer to the question: \"Is the average adult body temperature 98.6 degrees? Or is it lower?\" To answer his research question, the researcher starts by assuming that the average adult body temperature was 98.6 degrees F. This is called a 'null hypothesis'."
   ]
  },
  {
   "cell_type": "markdown",
   "metadata": {},
   "source": [
    "Null Hypthesis $H_0$: Average adult body temperature is 98.6 degrees F.\n",
    "\n",
    "Alt. Hypothesis $H_1$: Average adult body temperature is lower than 98.6 degrees F."
   ]
  },
  {
   "cell_type": "markdown",
   "metadata": {},
   "source": [
    "Then, the researcher goes out and tries to find evidence that refutes his initial assumption. In doing so, he selects a random sample of 130 adults. The average body temperature of the 130 sampled adults is 98.25 degrees.\n",
    "\n",
    "Then, the researcher uses the data he collected to make a decision about his initial assumption. It is either likely or unlikely that the researcher would collect the evidence he did given his initial assumption that the average adult body temperature is 98.6 degrees:\n",
    "\n",
    "* If it is likely, then the researcher does not reject his initial assumption that the average adult body temperature is 98.6 degrees. There is not enough evidence to do otherwise.\n",
    "\n",
    "* If it is unlikely, then:\n",
    "        \n",
    "        - either the researcher's initial assumption is correct and he experienced a very unusual event;\n",
    "        - or the researcher's initial assumption is incorrect.\n",
    "\n",
    "In statistics, we generally don't make claims that require us to believe that a very unusual event happened. That is, in the practice of statistics, if the evidence (data) we collected is unlikely in light of the initial assumption, then we reject our initial assumption."
   ]
  },
  {
   "cell_type": "markdown",
   "metadata": {},
   "source": [
    "# Making the Decision"
   ]
  },
  {
   "cell_type": "markdown",
   "metadata": {},
   "source": [
    "In statistics, there are two ways to determine whether the evidence is likely or unlikely given the initial assumption:\n",
    "\n",
    "* We could take the \"critical value approach\" (favored in many of the older textbooks).\n",
    "* Or, we could take the \"P-value approach\" (what is used most often in research, journal articles, and statistical software)."
   ]
  },
  {
   "cell_type": "markdown",
   "metadata": {},
   "source": [
    "# Errors in Hypothesis Testing"
   ]
  },
  {
   "cell_type": "markdown",
   "metadata": {},
   "source": [
    "**Type I error**: The null hypothesis is rejected when it is true.\n",
    "\n",
    "**Type II error**: The null hypothesis is not rejected when it is false."
   ]
  },
  {
   "cell_type": "markdown",
   "metadata": {},
   "source": [
    "# Critical Value Approach"
   ]
  },
  {
   "cell_type": "markdown",
   "metadata": {},
   "source": [
    "1. Specify the null and alternative hypotheses.\n",
    "\n",
    "2. Using the sample data and assuming the null hypothesis is true, calculate the value of the test statistic. To conduct the hypothesis test for the population mean $\\mu$, we use the t-statistic $t =\\dfrac {\\bar{x}− \\mu} {s / \\sqrt{n}}$ which follows a t-distribution with n - 1 degrees of freedom (s is the stddev of the sample).\n",
    "\n",
    "3. Determine the critical value by finding the value of the known distribution of the test statistic such that the probability of making a Type I error — which is denoted α (greek letter \"alpha\") and is called the \"significance level of the test\" — is small (typically 0.01, 0.05, or 0.10).\n",
    "\n",
    "4. Compare the test statistic to the critical value. If the test statistic is more extreme in the direction of the alternative than the critical value, reject the null hypothesis in favor of the alternative hypothesis. If the test statistic is less extreme than the critical value, do not reject the null hypothesis."
   ]
  },
  {
   "cell_type": "markdown",
   "metadata": {},
   "source": [
    "# P-value Approach"
   ]
  },
  {
   "cell_type": "markdown",
   "metadata": {},
   "source": [
    "1. Specify the null and alternative hypotheses.\n",
    "\n",
    "2. Using the sample data and assuming the null hypothesis is true, calculate the value of the test statistic. Again, to conduct the hypothesis test for the population mean $\\mu$, we use the t-statistic $t = \\dfrac {\\bar{x} - \\mu} {s / \\sqrt{n}}$\n",
    "which follows a t-distribution with n - 1 degrees of freedom.\n",
    "\n",
    "3. Using the known distribution of the test statistic, calculate the P-value: \"If the null hypothesis is true, what is the probability that we'd observe a more extreme test statistic in the direction of the alternative hypothesis than we did?\" \n",
    "\n",
    "4. Set the significance level, α, the probability of making a Type I error to be small — 0.01, 0.05, or 0.10. Compare the P-value to α. If the P-value is less than (or equal to) α, reject the null hypothesis in favor of the alternative hypothesis. If the P-value is greater than α, do not reject the null hypothesis."
   ]
  },
  {
   "cell_type": "markdown",
   "metadata": {},
   "source": [
    "# Example: 2-tailed Test\n",
    "\n",
    "A manufacturer claims that the thickness of the spearmint gum it produces is 7.5 one-hundredths of an inch. A quality control specialist regularly checks this claim. On one production run, he took a random sample of n = 10 pieces of gum and measured their thickness."
   ]
  },
  {
   "cell_type": "code",
   "execution_count": 1,
   "metadata": {},
   "outputs": [
    {
     "name": "stdout",
     "output_type": "stream",
     "text": [
      "Populating the interactive namespace from numpy and matplotlib\n"
     ]
    }
   ],
   "source": [
    "import numpy as np\n",
    "import pandas as pd\n",
    "%pylab inline\n",
    "pylab.style.use('ggplot')"
   ]
  },
  {
   "cell_type": "code",
   "execution_count": 2,
   "metadata": {
    "collapsed": true
   },
   "outputs": [],
   "source": [
    "data = np.array([7.65, 7.60, 7.65, 7.70, 7.55, 7.55, 7.40, 7.40, 7.50, 7.50])"
   ]
  },
  {
   "cell_type": "markdown",
   "metadata": {},
   "source": [
    "$H_0$: $\\mu = 7.5$\n",
    "\n",
    "$H_1$: $\\mu \\neq 7.5$"
   ]
  },
  {
   "cell_type": "code",
   "execution_count": 3,
   "metadata": {},
   "outputs": [
    {
     "name": "stdout",
     "output_type": "stream",
     "text": [
      "t-statistic = 1.54\n"
     ]
    }
   ],
   "source": [
    "sample_mean = np.mean(data)\n",
    "sample_stddev = np.std(data, ddof=1)\n",
    "\n",
    "# Assuming null hypothesis is true:\n",
    "population_mean = 7.5\n",
    "n = len(data)\n",
    "t_stat = (sample_mean - population_mean) / (sample_stddev / np.sqrt(n))\n",
    "print('t-statistic = {:.2f}'.format(t_stat))"
   ]
  },
  {
   "cell_type": "markdown",
   "metadata": {},
   "source": [
    "The assumptions here are:\n",
    "\n",
    "* The sample mean follows normal distribution assuming the null hypothesis is true.\n",
    "* The t-statistic follows Student's t-distribution assuming the null hypothesis is true.\n",
    "* Population variance = sample variance."
   ]
  },
  {
   "cell_type": "markdown",
   "metadata": {},
   "source": [
    "Let us set the significance level of the test as"
   ]
  },
  {
   "cell_type": "code",
   "execution_count": 4,
   "metadata": {
    "collapsed": true
   },
   "outputs": [],
   "source": [
    "sig_level = 0.05"
   ]
  },
  {
   "cell_type": "markdown",
   "metadata": {},
   "source": [
    "If we're using the p-value approach, we'll need to find the probability of having a more extreme value than the test statistic."
   ]
  },
  {
   "cell_type": "code",
   "execution_count": 5,
   "metadata": {},
   "outputs": [
    {
     "data": {
      "image/png": "[encoded data removed]",
      "text/plain": [
       "<matplotlib.figure.Figure at 0x11de614a518>"
      ]
     },
     "metadata": {},
     "output_type": "display_data"
    }
   ],
   "source": [
    "from scipy.stats import t\n",
    "\n",
    "x = np.linspace(-3, 3, num=50)\n",
    "y = t.pdf(x, df=n-1)\n",
    "\n",
    "figure, ax = pylab.subplots(1, 1)\n",
    "pylab.plot(x, y)\n",
    "ax.fill_between(x, 0, y, where=x > abs(t_stat))\n",
    "ax.fill_between(x, 0, y, where=x < -abs(t_stat))\n",
    "pylab.title(\"Area under PDF curve, df=n-1\")\n",
    "pylab.xlabel('x')\n",
    "pylab.ylabel('p(x)');"
   ]
  },
  {
   "cell_type": "code",
   "execution_count": 6,
   "metadata": {
    "collapsed": true
   },
   "outputs": [],
   "source": [
    "p_val = 2 * t.sf(t_stat, df=n-1)"
   ]
  },
  {
   "cell_type": "code",
   "execution_count": 7,
   "metadata": {},
   "outputs": [
    {
     "name": "stdout",
     "output_type": "stream",
     "text": [
      "P-value=0.16 at significance level=0.05\n"
     ]
    }
   ],
   "source": [
    "print('P-value={:.2f} at significance level={:.2f}'.format(p_val, sig_level))"
   ]
  },
  {
   "cell_type": "markdown",
   "metadata": {},
   "source": [
    "Since P-value of observing a test statistic more extreme than the test statistic is > the significance level, we fail to reject the null hypothesis."
   ]
  },
  {
   "cell_type": "markdown",
   "metadata": {},
   "source": [
    "# Example: Right-tailed Test"
   ]
  },
  {
   "cell_type": "markdown",
   "metadata": {},
   "source": [
    "Example: Right-tailed test\n",
    "\n",
    "An engineer measured the Brinell hardness of 25 pieces of ductile iron that were subcritically annealed. The resulting data were:\n",
    "\n",
    "170 \t167 \t174 \t179 \t179\n",
    "156 \t163 \t156 \t187 \t156\n",
    "183 \t179 \t174 \t179 \t170\n",
    "156 \t187 \t179 \t183 \t174\n",
    "187 \t167 \t159 \t170 \t179\n",
    "\n",
    "Conduct a hypothesis test with $H_0$: the mean Brinell hardness of all such ductile iron pieces is greater than 170."
   ]
  },
  {
   "cell_type": "markdown",
   "metadata": {},
   "source": [
    "$H_0$: Mean Brinell hardness of all such ductile iron pieces > 170.\n",
    "\n",
    "$H_{alt}$: Mean Brinell hardness of all such ductile iron pieces is less than 170."
   ]
  },
  {
   "cell_type": "code",
   "execution_count": 8,
   "metadata": {
    "collapsed": true
   },
   "outputs": [],
   "source": [
    "data = np.array([170, 167, 174, 179, 179, 156, 163, 156, 187, 156, 183,\n",
    "                 179, 174, 179, 170, 156, 187, 179, 183, 174, 187, 167, 159, \n",
    "                 170, 179])\n",
    "\n",
    "sample_mean = np.mean(data)\n",
    "sample_std = np.std(data, ddof=1)"
   ]
  },
  {
   "cell_type": "code",
   "execution_count": 9,
   "metadata": {},
   "outputs": [
    {
     "name": "stdout",
     "output_type": "stream",
     "text": [
      "t_stat = 1.22\n"
     ]
    }
   ],
   "source": [
    "population_mean = 170\n",
    "n = len(data)\n",
    "t_stat = (sample_mean - population_mean) / (sample_std / np.sqrt(n))\n",
    "\n",
    "print('t_stat = {:.2f}'.format(t_stat))"
   ]
  },
  {
   "cell_type": "code",
   "execution_count": 10,
   "metadata": {},
   "outputs": [
    {
     "data": {
      "image/png": "[encoded data removed]",
      "text/plain": [
       "<matplotlib.figure.Figure at 0x11de614a3c8>"
      ]
     },
     "metadata": {},
     "output_type": "display_data"
    }
   ],
   "source": [
    "from scipy.stats import t\n",
    "\n",
    "x = np.linspace(-3, 3, num=50)\n",
    "y = t.pdf(x, df=n-1)\n",
    "\n",
    "figure, ax = pylab.subplots(1, 1)\n",
    "pylab.plot(x, y)\n",
    "ax.fill_between(x, 0, y, where=x > abs(t_stat))\n",
    "pylab.title(\"Area under PDF curve, df=n-1\")\n",
    "pylab.xlabel('x')\n",
    "pylab.ylabel('p(x)');"
   ]
  },
  {
   "cell_type": "code",
   "execution_count": 11,
   "metadata": {},
   "outputs": [
    {
     "name": "stdout",
     "output_type": "stream",
     "text": [
      "P-value=0.12 at significance level=0.05\n"
     ]
    }
   ],
   "source": [
    "p_val = t.sf(t_stat, df=n-1)\n",
    "sig_level = 0.05\n",
    "print('P-value={:.2f} at significance level={:.2f}'.format(p_val, sig_level))"
   ]
  },
  {
   "cell_type": "markdown",
   "metadata": {},
   "source": [
    "Since the p_value is greater than the significance level, we fail to reject the null hypothesis."
   ]
  },
  {
   "cell_type": "markdown",
   "metadata": {},
   "source": [
    "# Example: Left-tailed Test"
   ]
  },
  {
   "cell_type": "markdown",
   "metadata": {},
   "source": [
    "A biologist was interested in determining whether sunflower seedlings treated with an extract from Vinca minor roots resulted in a lower average height of sunflower seedlings than the standard height of 15.7 cm. The biologist treated a random sample of n = 33 seedlings with the extract and subsequently obtained the following heights:\n",
    "\n",
    "\n",
    "    11.5 \t11.8 \t15.7 \t16.1 \t14.1 \t10.5\n",
    "    15.2 \t19.0 \t12.8 \t12.4 \t19.2 \t13.5\n",
    "    16.5 \t13.5 \t14.4 \t16.7 \t10.9 \t13.0\n",
    "    15.1 \t17.1 \t13.3 \t12.4 \t8.5 \t14.3\n",
    "    12.9 \t11.1 \t15.0 \t13.3 \t15.8 \t13.5\n",
    "    9.3 \t12.2 \t10.3\n"
   ]
  },
  {
   "cell_type": "markdown",
   "metadata": {},
   "source": [
    "Here, \n",
    "\n",
    "$H_0$: Average height of sunflower seedlings < 15.7 cm.\n",
    "\n",
    "$H_{alt}$: Average height of sunflower seedlings $\\geq$ 15.7 cm."
   ]
  },
  {
   "cell_type": "code",
   "execution_count": 12,
   "metadata": {},
   "outputs": [
    {
     "name": "stdout",
     "output_type": "stream",
     "text": [
      "t_stat = -4.60\n"
     ]
    }
   ],
   "source": [
    "data = np.array([\n",
    "    11.5,     11.8,     15.7,     16.1,    14.1,     10.5,\n",
    "15.2,    19.0,     12.8,     12.4,     19.2,     13.5,\n",
    "16.5,     13.5,     14.4,    16.7,     10.9,     13.0,\n",
    "15.1,     17.1,     13.3,     12.4,     8.5,     14.3,\n",
    "12.9,     11.1,     15.0,     13.3,     15.8,     13.5,\n",
    "9.3,     12.2,     10.3])\n",
    "\n",
    "sample_mean = np.mean(data)\n",
    "sample_std = np.std(data, ddof=1)\n",
    "\n",
    "population_mean = 15.7\n",
    "n = len(data)\n",
    "t_stat = (sample_mean - population_mean) / (sample_std / np.sqrt(n))\n",
    "print('t_stat = {:.2f}'.format(t_stat))"
   ]
  },
  {
   "cell_type": "code",
   "execution_count": 13,
   "metadata": {},
   "outputs": [
    {
     "data": {
      "image/png": "[encoded data removed]",
      "text/plain": [
       "<matplotlib.figure.Figure at 0x11de7b45e80>"
      ]
     },
     "metadata": {},
     "output_type": "display_data"
    }
   ],
   "source": [
    "from scipy.stats import t\n",
    "\n",
    "x = np.linspace(-6, 2, num=50)\n",
    "y = t.pdf(x, df=n-1)\n",
    "\n",
    "figure, ax = pylab.subplots(1, 1)\n",
    "pylab.plot(x, y)\n",
    "ax.fill_between(x, 0, y, where=x < t_stat)\n",
    "pylab.title(\"Area under PDF curve, df=n-1\")\n",
    "pylab.xlabel('x')\n",
    "pylab.ylabel('p(x)');"
   ]
  },
  {
   "cell_type": "code",
   "execution_count": 14,
   "metadata": {},
   "outputs": [
    {
     "name": "stdout",
     "output_type": "stream",
     "text": [
      "P-value=1.00 at significance level=0.05\n"
     ]
    }
   ],
   "source": [
    "p_val = t.sf(t_stat, df=n-1)\n",
    "sig_level = 0.05\n",
    "print('P-value={:.2f} at significance level={:.2f}'.format(p_val, sig_level))"
   ]
  },
  {
   "cell_type": "markdown",
   "metadata": {},
   "source": [
    "Since p-value is > the significance level, we fail to reject the null hypothesis. Thus, the biologist concludes that the mean height of all such sunflower seedlings is less than 15.7 cm."
   ]
  },
  {
   "cell_type": "markdown",
   "metadata": {},
   "source": [
    "# Power of a Test\n",
    "\n",
    "The probability of not committing a type-II error is called the power of a test.\n",
    "\n",
    "# Factors Affecting the Power of a Test\n",
    "\n",
    "* Sample Size: As sample size increases, the probability of not committing a type-II error increases, so the power also increases.\n",
    "\n",
    "* Significance level: The higher the significance level, the higher the power of the test.\n",
    "\n",
    "* The \"true\" value of the parameter being tested: The greater the difference between the \"true\" value of a parameter and the value specified in the null hypothesis, the greater the power of the test. That is, the greater the effect size, the greater the power of the test."
   ]
  },
  {
   "cell_type": "markdown",
   "metadata": {},
   "source": [
    "# Why is Power Analysis Important?\n",
    "\n",
    "Consider a research experiment where the p-value computed from the data was 0.12. As a result, one would fail to reject the null hypothesis because this p-value is larger than α = 0.05. However, there still exist two possible cases for which we failed to reject the null hypothesis:\n",
    "\n",
    "* The null hypothesis is a reasonable conclusion,\n",
    "* The sample size is not large enough to either accept or reject the null hypothesis, i.e., additional samples might provide additional evidence.\n",
    "\n",
    "Power analysis is the procedure that researchers can use to determine if the test contains enough power to make a reasonable conclusion. From another perspective power analysis can also be used to calculate the number of samples required to achieve a specified level of power."
   ]
  }
 ],
 "metadata": {
  "kernelspec": {
   "display_name": "Python 3",
   "language": "python",
   "name": "python3"
  },
  "language_info": {
   "codemirror_mode": {
    "name": "ipython",
    "version": 3
   },
   "file_extension": ".py",
   "mimetype": "text/x-python",
   "name": "python",
   "nbconvert_exporter": "python",
   "pygments_lexer": "ipython3",
   "version": "3.5.4"
  }
 },
 "nbformat": 4,
 "nbformat_minor": 2
}
