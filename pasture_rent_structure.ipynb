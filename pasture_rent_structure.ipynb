{
 "cells": [
  {
   "cell_type": "code",
   "execution_count": 1,
   "metadata": {
    "collapsed": false
   },
   "outputs": [
    {
     "name": "stdout",
     "output_type": "stream",
     "text": [
      "Populating the interactive namespace from numpy and matplotlib\n"
     ]
    }
   ],
   "source": [
    "%pylab inline\n",
    "pylab.style.use('ggplot')\n",
    "import numpy as np\n",
    "import pandas as pd"
   ]
  },
  {
   "cell_type": "code",
   "execution_count": 2,
   "metadata": {
    "collapsed": true
   },
   "outputs": [],
   "source": [
    "import requests\n",
    "URL = 'http://people.sc.fsu.edu/~jburkardt/datasets/regression/x11.txt'\n",
    "response = requests.get(URL)\n",
    "text = response.text"
   ]
  },
  {
   "cell_type": "code",
   "execution_count": 3,
   "metadata": {
    "collapsed": true
   },
   "outputs": [],
   "source": [
    "columns = ['Index',\n",
    "'Rent per arable acre',\n",
    "'Milk cows per square mile',\n",
    "'Difference between pasture and arable land',\n",
    "'Rental price per grassy acre']\n",
    "columns = [c.lower().replace(' ', '_') for c in columns]"
   ]
  },
  {
   "cell_type": "code",
   "execution_count": 7,
   "metadata": {
    "collapsed": false
   },
   "outputs": [],
   "source": [
    "lines = [line.strip() for line in text.split('\\n') if not line.strip().startswith('#')]"
   ]
  },
  {
   "cell_type": "code",
   "execution_count": 14,
   "metadata": {
    "collapsed": false
   },
   "outputs": [],
   "source": [
    "data = lines[7:-2]\n",
    "data = [row.split() for row in data]\n",
    "data_df = pd.DataFrame(data=data, columns=columns).drop('index', axis=1).astype(np.float)"
   ]
  },
  {
   "cell_type": "code",
   "execution_count": 15,
   "metadata": {
    "collapsed": false
   },
   "outputs": [
    {
     "data": {
      "text/html": [
       "<div>\n",
       "<table border=\"1\" class=\"dataframe\">\n",
       "  <thead>\n",
       "    <tr style=\"text-align: right;\">\n",
       "      <th></th>\n",
       "      <th>rent_per_arable_acre</th>\n",
       "      <th>milk_cows_per_square_mile</th>\n",
       "      <th>difference_between_pasture_and_arable_land</th>\n",
       "      <th>rental_price_per_grassy_acre</th>\n",
       "    </tr>\n",
       "  </thead>\n",
       "  <tbody>\n",
       "    <tr>\n",
       "      <th>0</th>\n",
       "      <td>15.50</td>\n",
       "      <td>17.25</td>\n",
       "      <td>0.24</td>\n",
       "      <td>18.38</td>\n",
       "    </tr>\n",
       "    <tr>\n",
       "      <th>1</th>\n",
       "      <td>22.29</td>\n",
       "      <td>18.51</td>\n",
       "      <td>0.20</td>\n",
       "      <td>20.00</td>\n",
       "    </tr>\n",
       "    <tr>\n",
       "      <th>2</th>\n",
       "      <td>12.36</td>\n",
       "      <td>11.13</td>\n",
       "      <td>0.12</td>\n",
       "      <td>11.50</td>\n",
       "    </tr>\n",
       "    <tr>\n",
       "      <th>3</th>\n",
       "      <td>31.84</td>\n",
       "      <td>5.54</td>\n",
       "      <td>0.12</td>\n",
       "      <td>25.00</td>\n",
       "    </tr>\n",
       "    <tr>\n",
       "      <th>4</th>\n",
       "      <td>83.90</td>\n",
       "      <td>5.44</td>\n",
       "      <td>0.04</td>\n",
       "      <td>62.50</td>\n",
       "    </tr>\n",
       "  </tbody>\n",
       "</table>\n",
       "</div>"
      ],
      "text/plain": [
       "   rent_per_arable_acre  milk_cows_per_square_mile  \\\n",
       "0                 15.50                      17.25   \n",
       "1                 22.29                      18.51   \n",
       "2                 12.36                      11.13   \n",
       "3                 31.84                       5.54   \n",
       "4                 83.90                       5.44   \n",
       "\n",
       "   difference_between_pasture_and_arable_land  rental_price_per_grassy_acre  \n",
       "0                                        0.24                         18.38  \n",
       "1                                        0.20                         20.00  \n",
       "2                                        0.12                         11.50  \n",
       "3                                        0.12                         25.00  \n",
       "4                                        0.04                         62.50  "
      ]
     },
     "execution_count": 15,
     "metadata": {},
     "output_type": "execute_result"
    }
   ],
   "source": [
    "data_df.head()"
   ]
  },
  {
   "cell_type": "code",
   "execution_count": 16,
   "metadata": {
    "collapsed": false
   },
   "outputs": [
    {
     "data": {
      "text/html": [
       "<div>\n",
       "<table border=\"1\" class=\"dataframe\">\n",
       "  <thead>\n",
       "    <tr style=\"text-align: right;\">\n",
       "      <th></th>\n",
       "      <th>rent_per_arable_acre</th>\n",
       "      <th>milk_cows_per_square_mile</th>\n",
       "      <th>difference_between_pasture_and_arable_land</th>\n",
       "      <th>rental_price_per_grassy_acre</th>\n",
       "    </tr>\n",
       "  </thead>\n",
       "  <tbody>\n",
       "    <tr>\n",
       "      <th>rent_per_arable_acre</th>\n",
       "      <td>1.000000</td>\n",
       "      <td>0.045504</td>\n",
       "      <td>-0.497893</td>\n",
       "      <td>0.885082</td>\n",
       "    </tr>\n",
       "    <tr>\n",
       "      <th>milk_cows_per_square_mile</th>\n",
       "      <td>0.045504</td>\n",
       "      <td>1.000000</td>\n",
       "      <td>0.522598</td>\n",
       "      <td>0.303392</td>\n",
       "    </tr>\n",
       "    <tr>\n",
       "      <th>difference_between_pasture_and_arable_land</th>\n",
       "      <td>-0.497893</td>\n",
       "      <td>0.522598</td>\n",
       "      <td>1.000000</td>\n",
       "      <td>-0.330177</td>\n",
       "    </tr>\n",
       "    <tr>\n",
       "      <th>rental_price_per_grassy_acre</th>\n",
       "      <td>0.885082</td>\n",
       "      <td>0.303392</td>\n",
       "      <td>-0.330177</td>\n",
       "      <td>1.000000</td>\n",
       "    </tr>\n",
       "  </tbody>\n",
       "</table>\n",
       "</div>"
      ],
      "text/plain": [
       "                                            rent_per_arable_acre  \\\n",
       "rent_per_arable_acre                                    1.000000   \n",
       "milk_cows_per_square_mile                               0.045504   \n",
       "difference_between_pasture_and_arable_land             -0.497893   \n",
       "rental_price_per_grassy_acre                            0.885082   \n",
       "\n",
       "                                            milk_cows_per_square_mile  \\\n",
       "rent_per_arable_acre                                         0.045504   \n",
       "milk_cows_per_square_mile                                    1.000000   \n",
       "difference_between_pasture_and_arable_land                   0.522598   \n",
       "rental_price_per_grassy_acre                                 0.303392   \n",
       "\n",
       "                                            difference_between_pasture_and_arable_land  \\\n",
       "rent_per_arable_acre                                                         -0.497893   \n",
       "milk_cows_per_square_mile                                                     0.522598   \n",
       "difference_between_pasture_and_arable_land                                    1.000000   \n",
       "rental_price_per_grassy_acre                                                 -0.330177   \n",
       "\n",
       "                                            rental_price_per_grassy_acre  \n",
       "rent_per_arable_acre                                            0.885082  \n",
       "milk_cows_per_square_mile                                       0.303392  \n",
       "difference_between_pasture_and_arable_land                     -0.330177  \n",
       "rental_price_per_grassy_acre                                    1.000000  "
      ]
     },
     "execution_count": 16,
     "metadata": {},
     "output_type": "execute_result"
    }
   ],
   "source": [
    "data_df.corr()"
   ]
  },
  {
   "cell_type": "code",
   "execution_count": 18,
   "metadata": {
    "collapsed": false
   },
   "outputs": [
    {
     "data": {
      "text/plain": [
       "<matplotlib.axes._subplots.AxesSubplot at 0x21495796780>"
      ]
     },
     "execution_count": 18,
     "metadata": {},
     "output_type": "execute_result"
    },
    {
     "data": {
      "image/png": "[encoded data removed]",
      "text/plain": [
       "<matplotlib.figure.Figure at 0x21496a241d0>"
      ]
     },
     "metadata": {},
     "output_type": "display_data"
    }
   ],
   "source": [
    "data_df.plot(kind='scatter', x='rent_per_arable_acre', y='rental_price_per_grassy_acre')"
   ]
  },
  {
   "cell_type": "code",
   "execution_count": 19,
   "metadata": {
    "collapsed": false
   },
   "outputs": [
    {
     "data": {
      "text/html": [
       "<table class=\"simpletable\">\n",
       "<caption>OLS Regression Results</caption>\n",
       "<tr>\n",
       "  <th>Dep. Variable:</th>    <td>rental_price_per_grassy_acre</td> <th>  R-squared:         </th> <td>   0.783</td>\n",
       "</tr>\n",
       "<tr>\n",
       "  <th>Model:</th>                         <td>OLS</td>             <th>  Adj. R-squared:    </th> <td>   0.780</td>\n",
       "</tr>\n",
       "<tr>\n",
       "  <th>Method:</th>                   <td>Least Squares</td>        <th>  F-statistic:       </th> <td>   235.1</td>\n",
       "</tr>\n",
       "<tr>\n",
       "  <th>Date:</th>                   <td>Thu, 30 Mar 2017</td>       <th>  Prob (F-statistic):</th> <td>2.86e-23</td>\n",
       "</tr>\n",
       "<tr>\n",
       "  <th>Time:</th>                       <td>22:35:51</td>           <th>  Log-Likelihood:    </th> <td> -252.88</td>\n",
       "</tr>\n",
       "<tr>\n",
       "  <th>No. Observations:</th>            <td>    67</td>            <th>  AIC:               </th> <td>   509.8</td>\n",
       "</tr>\n",
       "<tr>\n",
       "  <th>Df Residuals:</th>                <td>    65</td>            <th>  BIC:               </th> <td>   514.2</td>\n",
       "</tr>\n",
       "<tr>\n",
       "  <th>Df Model:</th>                    <td>     1</td>            <th>                     </th>     <td> </td>   \n",
       "</tr>\n",
       "<tr>\n",
       "  <th>Covariance Type:</th>            <td>nonrobust</td>          <th>                     </th>     <td> </td>   \n",
       "</tr>\n",
       "</table>\n",
       "<table class=\"simpletable\">\n",
       "<tr>\n",
       "            <td></td>              <th>coef</th>     <th>std err</th>      <th>t</th>      <th>P>|t|</th>  <th>[0.025</th>    <th>0.975]</th>  \n",
       "</tr>\n",
       "<tr>\n",
       "  <th>Intercept</th>            <td>    0.8915</td> <td>    3.011</td> <td>    0.296</td> <td> 0.768</td> <td>   -5.121</td> <td>    6.904</td>\n",
       "</tr>\n",
       "<tr>\n",
       "  <th>rent_per_arable_acre</th> <td>    0.9494</td> <td>    0.062</td> <td>   15.331</td> <td> 0.000</td> <td>    0.826</td> <td>    1.073</td>\n",
       "</tr>\n",
       "</table>\n",
       "<table class=\"simpletable\">\n",
       "<tr>\n",
       "  <th>Omnibus:</th>       <td> 3.592</td> <th>  Durbin-Watson:     </th> <td>   2.363</td>\n",
       "</tr>\n",
       "<tr>\n",
       "  <th>Prob(Omnibus):</th> <td> 0.166</td> <th>  Jarque-Bera (JB):  </th> <td>   2.722</td>\n",
       "</tr>\n",
       "<tr>\n",
       "  <th>Skew:</th>          <td> 0.440</td> <th>  Prob(JB):          </th> <td>   0.256</td>\n",
       "</tr>\n",
       "<tr>\n",
       "  <th>Kurtosis:</th>      <td> 3.447</td> <th>  Cond. No.          </th> <td>    112.</td>\n",
       "</tr>\n",
       "</table>"
      ],
      "text/plain": [
       "<class 'statsmodels.iolib.summary.Summary'>\n",
       "\"\"\"\n",
       "                                 OLS Regression Results                                 \n",
       "========================================================================================\n",
       "Dep. Variable:     rental_price_per_grassy_acre   R-squared:                       0.783\n",
       "Model:                                      OLS   Adj. R-squared:                  0.780\n",
       "Method:                           Least Squares   F-statistic:                     235.1\n",
       "Date:                          Thu, 30 Mar 2017   Prob (F-statistic):           2.86e-23\n",
       "Time:                                  22:35:51   Log-Likelihood:                -252.88\n",
       "No. Observations:                            67   AIC:                             509.8\n",
       "Df Residuals:                                65   BIC:                             514.2\n",
       "Df Model:                                     1                                         \n",
       "Covariance Type:                      nonrobust                                         \n",
       "========================================================================================\n",
       "                           coef    std err          t      P>|t|      [0.025      0.975]\n",
       "----------------------------------------------------------------------------------------\n",
       "Intercept                0.8915      3.011      0.296      0.768      -5.121       6.904\n",
       "rent_per_arable_acre     0.9494      0.062     15.331      0.000       0.826       1.073\n",
       "==============================================================================\n",
       "Omnibus:                        3.592   Durbin-Watson:                   2.363\n",
       "Prob(Omnibus):                  0.166   Jarque-Bera (JB):                2.722\n",
       "Skew:                           0.440   Prob(JB):                        0.256\n",
       "Kurtosis:                       3.447   Cond. No.                         112.\n",
       "==============================================================================\n",
       "\n",
       "Warnings:\n",
       "[1] Standard Errors assume that the covariance matrix of the errors is correctly specified.\n",
       "\"\"\""
      ]
     },
     "execution_count": 19,
     "metadata": {},
     "output_type": "execute_result"
    }
   ],
   "source": [
    "import statsmodels.formula.api as sm\n",
    "result = sm.ols(formula='rental_price_per_grassy_acre ~ rent_per_arable_acre', data=data_df).fit()\n",
    "result.summary()"
   ]
  },
  {
   "cell_type": "code",
   "execution_count": 20,
   "metadata": {
    "collapsed": false
   },
   "outputs": [
    {
     "data": {
      "text/html": [
       "<table class=\"simpletable\">\n",
       "<caption>OLS Regression Results</caption>\n",
       "<tr>\n",
       "  <th>Dep. Variable:</th>    <td>rental_price_per_grassy_acre</td> <th>  R-squared:         </th> <td>   0.800</td>\n",
       "</tr>\n",
       "<tr>\n",
       "  <th>Model:</th>                         <td>OLS</td>             <th>  Adj. R-squared:    </th> <td>   0.793</td>\n",
       "</tr>\n",
       "<tr>\n",
       "  <th>Method:</th>                   <td>Least Squares</td>        <th>  F-statistic:       </th> <td>   127.7</td>\n",
       "</tr>\n",
       "<tr>\n",
       "  <th>Date:</th>                   <td>Thu, 30 Mar 2017</td>       <th>  Prob (F-statistic):</th> <td>4.57e-23</td>\n",
       "</tr>\n",
       "<tr>\n",
       "  <th>Time:</th>                       <td>22:36:50</td>           <th>  Log-Likelihood:    </th> <td> -250.27</td>\n",
       "</tr>\n",
       "<tr>\n",
       "  <th>No. Observations:</th>            <td>    67</td>            <th>  AIC:               </th> <td>   506.5</td>\n",
       "</tr>\n",
       "<tr>\n",
       "  <th>Df Residuals:</th>                <td>    64</td>            <th>  BIC:               </th> <td>   513.2</td>\n",
       "</tr>\n",
       "<tr>\n",
       "  <th>Df Model:</th>                    <td>     2</td>            <th>                     </th>     <td> </td>   \n",
       "</tr>\n",
       "<tr>\n",
       "  <th>Covariance Type:</th>            <td>nonrobust</td>          <th>                     </th>     <td> </td>   \n",
       "</tr>\n",
       "</table>\n",
       "<table class=\"simpletable\">\n",
       "<tr>\n",
       "                       <td></td>                         <th>coef</th>     <th>std err</th>      <th>t</th>      <th>P>|t|</th>  <th>[0.025</th>    <th>0.975]</th>  \n",
       "</tr>\n",
       "<tr>\n",
       "  <th>Intercept</th>                                  <td>   -6.4823</td> <td>    4.359</td> <td>   -1.487</td> <td> 0.142</td> <td>  -15.191</td> <td>    2.226</td>\n",
       "</tr>\n",
       "<tr>\n",
       "  <th>rent_per_arable_acre</th>                       <td>    1.0279</td> <td>    0.069</td> <td>   14.851</td> <td> 0.000</td> <td>    0.890</td> <td>    1.166</td>\n",
       "</tr>\n",
       "<tr>\n",
       "  <th>difference_between_pasture_and_arable_land</th> <td>   23.2037</td> <td>   10.190</td> <td>    2.277</td> <td> 0.026</td> <td>    2.846</td> <td>   43.561</td>\n",
       "</tr>\n",
       "</table>\n",
       "<table class=\"simpletable\">\n",
       "<tr>\n",
       "  <th>Omnibus:</th>       <td> 3.721</td> <th>  Durbin-Watson:     </th> <td>   2.307</td>\n",
       "</tr>\n",
       "<tr>\n",
       "  <th>Prob(Omnibus):</th> <td> 0.156</td> <th>  Jarque-Bera (JB):  </th> <td>   2.834</td>\n",
       "</tr>\n",
       "<tr>\n",
       "  <th>Skew:</th>          <td> 0.413</td> <th>  Prob(JB):          </th> <td>   0.242</td>\n",
       "</tr>\n",
       "<tr>\n",
       "  <th>Kurtosis:</th>      <td> 3.577</td> <th>  Cond. No.          </th> <td>    412.</td>\n",
       "</tr>\n",
       "</table>"
      ],
      "text/plain": [
       "<class 'statsmodels.iolib.summary.Summary'>\n",
       "\"\"\"\n",
       "                                 OLS Regression Results                                 \n",
       "========================================================================================\n",
       "Dep. Variable:     rental_price_per_grassy_acre   R-squared:                       0.800\n",
       "Model:                                      OLS   Adj. R-squared:                  0.793\n",
       "Method:                           Least Squares   F-statistic:                     127.7\n",
       "Date:                          Thu, 30 Mar 2017   Prob (F-statistic):           4.57e-23\n",
       "Time:                                  22:36:50   Log-Likelihood:                -250.27\n",
       "No. Observations:                            67   AIC:                             506.5\n",
       "Df Residuals:                                64   BIC:                             513.2\n",
       "Df Model:                                     2                                         \n",
       "Covariance Type:                      nonrobust                                         \n",
       "==============================================================================================================\n",
       "                                                 coef    std err          t      P>|t|      [0.025      0.975]\n",
       "--------------------------------------------------------------------------------------------------------------\n",
       "Intercept                                     -6.4823      4.359     -1.487      0.142     -15.191       2.226\n",
       "rent_per_arable_acre                           1.0279      0.069     14.851      0.000       0.890       1.166\n",
       "difference_between_pasture_and_arable_land    23.2037     10.190      2.277      0.026       2.846      43.561\n",
       "==============================================================================\n",
       "Omnibus:                        3.721   Durbin-Watson:                   2.307\n",
       "Prob(Omnibus):                  0.156   Jarque-Bera (JB):                2.834\n",
       "Skew:                           0.413   Prob(JB):                        0.242\n",
       "Kurtosis:                       3.577   Cond. No.                         412.\n",
       "==============================================================================\n",
       "\n",
       "Warnings:\n",
       "[1] Standard Errors assume that the covariance matrix of the errors is correctly specified.\n",
       "\"\"\""
      ]
     },
     "execution_count": 20,
     "metadata": {},
     "output_type": "execute_result"
    }
   ],
   "source": [
    "import statsmodels.formula.api as sm\n",
    "result = sm.ols(formula='rental_price_per_grassy_acre ~ rent_per_arable_acre + difference_between_pasture_and_arable_land', data=data_df).fit()\n",
    "result.summary()"
   ]
  },
  {
   "cell_type": "code",
   "execution_count": null,
   "metadata": {
    "collapsed": true
   },
   "outputs": [],
   "source": []
  }
 ],
 "metadata": {
  "kernelspec": {
   "display_name": "Python 3",
   "language": "python",
   "name": "python3"
  },
  "language_info": {
   "codemirror_mode": {
    "name": "ipython",
    "version": 3
   },
   "file_extension": ".py",
   "mimetype": "text/x-python",
   "name": "python",
   "nbconvert_exporter": "python",
   "pygments_lexer": "ipython3",
   "version": "3.5.3"
  }
 },
 "nbformat": 4,
 "nbformat_minor": 2
}
