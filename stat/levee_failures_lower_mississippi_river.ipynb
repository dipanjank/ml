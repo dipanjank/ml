{
 "cells": [
  {
   "cell_type": "markdown",
   "metadata": {},
   "source": [
    "<h1 align=\"center\">Factors Relating to Levee Failures on the Lower Mississippi River</h1>"
   ]
  },
  {
   "cell_type": "code",
   "execution_count": 1,
   "metadata": {
    "collapsed": false
   },
   "outputs": [
    {
     "name": "stdout",
     "output_type": "stream",
     "text": [
      "Populating the interactive namespace from numpy and matplotlib\n"
     ]
    }
   ],
   "source": [
    "import numpy as np\n",
    "import pandas as pd\n",
    "%pylab inline\n",
    "pylab.style.use('ggplot')"
   ]
  },
  {
   "cell_type": "markdown",
   "metadata": {},
   "source": [
    "Description: Factors relating to presence/absence of a levee failure at a site on lower Mississippi River, with predictors:\n",
    "\n",
    "    Site underlain by coarse-grain channel fill (sediment)\n",
    "    Borrow pit indicator\n",
    "    Meander location (1=Inside bend, 2=outside bend, 3=chute, 4=straight)\n",
    "    channel width\n",
    "    floodway width\n",
    "    constriction factor\n",
    "    land cover type (1=open water, 2=grassy, 3=agricultural, 4=forest)\n",
    "    vegetative buffer width\n",
    "    channel sinuosity \n",
    "    dredging intensity\n",
    "    bank revetement\n",
    "\n",
    "\n",
    "Variables/Columns:\n",
    "\n",
    "    Failure   8  /* 1=Yes, 0=No  */\n",
    "    year  12-16\n",
    "    river mile   18-24\n",
    "    sediments   32\n",
    "    borrow pit    40\n",
    "    meander     48\n",
    "    channel width 50-56\n",
    "    floodway width  58-64\n",
    "    constriction factor  66-72\n",
    "    land cover     80\n",
    "    veg width    82-88\n",
    "    sinuosity   90-96\n",
    "    dredging    98-104\n",
    "    revetement   112\n"
   ]
  },
  {
   "cell_type": "code",
   "execution_count": 30,
   "metadata": {
    "collapsed": false
   },
   "outputs": [],
   "source": [
    "url = 'http://www.stat.ufl.edu/~winner/data/lmr_levee.dat'\n",
    "\n",
    "data_df = pd.read_csv(url, sep='[\\s]+', engine='python', header=None)"
   ]
  },
  {
   "cell_type": "code",
   "execution_count": 31,
   "metadata": {
    "collapsed": false
   },
   "outputs": [
    {
     "name": "stdout",
     "output_type": "stream",
     "text": [
      "<class 'pandas.core.frame.DataFrame'>\n",
      "RangeIndex: 82 entries, 0 to 81\n",
      "Data columns (total 14 columns):\n",
      "0     82 non-null int64\n",
      "1     82 non-null int64\n",
      "2     82 non-null float64\n",
      "3     82 non-null int64\n",
      "4     82 non-null int64\n",
      "5     82 non-null int64\n",
      "6     82 non-null float64\n",
      "7     82 non-null float64\n",
      "8     82 non-null float64\n",
      "9     82 non-null int64\n",
      "10    82 non-null float64\n",
      "11    82 non-null float64\n",
      "12    82 non-null int64\n",
      "13    82 non-null int64\n",
      "dtypes: float64(6), int64(8)\n",
      "memory usage: 9.0 KB\n"
     ]
    }
   ],
   "source": [
    "data_df.info()"
   ]
  },
  {
   "cell_type": "code",
   "execution_count": 32,
   "metadata": {
    "collapsed": false
   },
   "outputs": [
    {
     "data": {
      "text/html": [
       "<div>\n",
       "<table border=\"1\" class=\"dataframe\">\n",
       "  <thead>\n",
       "    <tr style=\"text-align: right;\">\n",
       "      <th></th>\n",
       "      <th>0</th>\n",
       "      <th>1</th>\n",
       "      <th>2</th>\n",
       "      <th>3</th>\n",
       "      <th>4</th>\n",
       "      <th>5</th>\n",
       "      <th>6</th>\n",
       "      <th>7</th>\n",
       "      <th>8</th>\n",
       "      <th>9</th>\n",
       "      <th>10</th>\n",
       "      <th>11</th>\n",
       "      <th>12</th>\n",
       "      <th>13</th>\n",
       "    </tr>\n",
       "  </thead>\n",
       "  <tbody>\n",
       "    <tr>\n",
       "      <th>0</th>\n",
       "      <td>1</td>\n",
       "      <td>1890</td>\n",
       "      <td>847.0</td>\n",
       "      <td>0</td>\n",
       "      <td>0</td>\n",
       "      <td>4</td>\n",
       "      <td>1347.00</td>\n",
       "      <td>2025.54</td>\n",
       "      <td>1.0</td>\n",
       "      <td>4</td>\n",
       "      <td>391.31</td>\n",
       "      <td>1.9484</td>\n",
       "      <td>0</td>\n",
       "      <td>0</td>\n",
       "    </tr>\n",
       "    <tr>\n",
       "      <th>1</th>\n",
       "      <td>1</td>\n",
       "      <td>1890</td>\n",
       "      <td>787.0</td>\n",
       "      <td>1</td>\n",
       "      <td>0</td>\n",
       "      <td>3</td>\n",
       "      <td>2580.99</td>\n",
       "      <td>4122.89</td>\n",
       "      <td>1.0</td>\n",
       "      <td>2</td>\n",
       "      <td>150.63</td>\n",
       "      <td>2.3318</td>\n",
       "      <td>0</td>\n",
       "      <td>0</td>\n",
       "    </tr>\n",
       "    <tr>\n",
       "      <th>2</th>\n",
       "      <td>1</td>\n",
       "      <td>1890</td>\n",
       "      <td>776.0</td>\n",
       "      <td>1</td>\n",
       "      <td>0</td>\n",
       "      <td>3</td>\n",
       "      <td>3378.96</td>\n",
       "      <td>7998.81</td>\n",
       "      <td>1.0</td>\n",
       "      <td>4</td>\n",
       "      <td>145.15</td>\n",
       "      <td>1.9238</td>\n",
       "      <td>0</td>\n",
       "      <td>0</td>\n",
       "    </tr>\n",
       "    <tr>\n",
       "      <th>3</th>\n",
       "      <td>1</td>\n",
       "      <td>1890</td>\n",
       "      <td>776.0</td>\n",
       "      <td>1</td>\n",
       "      <td>0</td>\n",
       "      <td>3</td>\n",
       "      <td>3507.43</td>\n",
       "      <td>8537.52</td>\n",
       "      <td>1.0</td>\n",
       "      <td>2</td>\n",
       "      <td>301.95</td>\n",
       "      <td>2.0305</td>\n",
       "      <td>0</td>\n",
       "      <td>0</td>\n",
       "    </tr>\n",
       "    <tr>\n",
       "      <th>4</th>\n",
       "      <td>1</td>\n",
       "      <td>1890</td>\n",
       "      <td>773.0</td>\n",
       "      <td>1</td>\n",
       "      <td>0</td>\n",
       "      <td>2</td>\n",
       "      <td>1704.10</td>\n",
       "      <td>4173.75</td>\n",
       "      <td>1.0</td>\n",
       "      <td>2</td>\n",
       "      <td>1027.68</td>\n",
       "      <td>1.5503</td>\n",
       "      <td>0</td>\n",
       "      <td>0</td>\n",
       "    </tr>\n",
       "  </tbody>\n",
       "</table>\n",
       "</div>"
      ],
      "text/plain": [
       "   0     1      2   3   4   5        6        7    8   9        10      11  \\\n",
       "0   1  1890  847.0   0   0   4  1347.00  2025.54  1.0   4   391.31  1.9484   \n",
       "1   1  1890  787.0   1   0   3  2580.99  4122.89  1.0   2   150.63  2.3318   \n",
       "2   1  1890  776.0   1   0   3  3378.96  7998.81  1.0   4   145.15  1.9238   \n",
       "3   1  1890  776.0   1   0   3  3507.43  8537.52  1.0   2   301.95  2.0305   \n",
       "4   1  1890  773.0   1   0   2  1704.10  4173.75  1.0   2  1027.68  1.5503   \n",
       "\n",
       "   12  13  \n",
       "0   0   0  \n",
       "1   0   0  \n",
       "2   0   0  \n",
       "3   0   0  \n",
       "4   0   0  "
      ]
     },
     "execution_count": 32,
     "metadata": {},
     "output_type": "execute_result"
    }
   ],
   "source": [
    "data_df.head()"
   ]
  },
  {
   "cell_type": "code",
   "execution_count": 23,
   "metadata": {
    "collapsed": false
   },
   "outputs": [],
   "source": [
    "col_str = \"\"\"Failure\n",
    "year\n",
    "river mile\n",
    "sediments\n",
    "borrow pit\n",
    "meander\n",
    "channel width\n",
    "floodway width\n",
    "constriction factor\n",
    "land cover\n",
    "veg width\n",
    "sinuosity\n",
    "dredging\n",
    "revetement\"\"\"\n",
    "\n",
    "col_names = [c.replace(' ', '_').lower() for c in col_str.split('\\n')]"
   ]
  },
  {
   "cell_type": "code",
   "execution_count": 34,
   "metadata": {
    "collapsed": false
   },
   "outputs": [],
   "source": [
    "data_df.columns = col_names"
   ]
  },
  {
   "cell_type": "code",
   "execution_count": 35,
   "metadata": {
    "collapsed": false
   },
   "outputs": [
    {
     "data": {
      "text/html": [
       "<div>\n",
       "<table border=\"1\" class=\"dataframe\">\n",
       "  <thead>\n",
       "    <tr style=\"text-align: right;\">\n",
       "      <th></th>\n",
       "      <th>failure</th>\n",
       "      <th>year</th>\n",
       "      <th>river_mile</th>\n",
       "      <th>sediments</th>\n",
       "      <th>borrow_pit</th>\n",
       "      <th>meander</th>\n",
       "      <th>channel_width</th>\n",
       "      <th>floodway_width</th>\n",
       "      <th>constriction_factor</th>\n",
       "      <th>land_cover</th>\n",
       "      <th>veg_width</th>\n",
       "      <th>sinuosity</th>\n",
       "      <th>dredging</th>\n",
       "      <th>revetement</th>\n",
       "    </tr>\n",
       "  </thead>\n",
       "  <tbody>\n",
       "    <tr>\n",
       "      <th>0</th>\n",
       "      <td>1</td>\n",
       "      <td>1890</td>\n",
       "      <td>847.0</td>\n",
       "      <td>0</td>\n",
       "      <td>0</td>\n",
       "      <td>4</td>\n",
       "      <td>1347.00</td>\n",
       "      <td>2025.54</td>\n",
       "      <td>1.0</td>\n",
       "      <td>4</td>\n",
       "      <td>391.31</td>\n",
       "      <td>1.9484</td>\n",
       "      <td>0</td>\n",
       "      <td>0</td>\n",
       "    </tr>\n",
       "    <tr>\n",
       "      <th>1</th>\n",
       "      <td>1</td>\n",
       "      <td>1890</td>\n",
       "      <td>787.0</td>\n",
       "      <td>1</td>\n",
       "      <td>0</td>\n",
       "      <td>3</td>\n",
       "      <td>2580.99</td>\n",
       "      <td>4122.89</td>\n",
       "      <td>1.0</td>\n",
       "      <td>2</td>\n",
       "      <td>150.63</td>\n",
       "      <td>2.3318</td>\n",
       "      <td>0</td>\n",
       "      <td>0</td>\n",
       "    </tr>\n",
       "    <tr>\n",
       "      <th>2</th>\n",
       "      <td>1</td>\n",
       "      <td>1890</td>\n",
       "      <td>776.0</td>\n",
       "      <td>1</td>\n",
       "      <td>0</td>\n",
       "      <td>3</td>\n",
       "      <td>3378.96</td>\n",
       "      <td>7998.81</td>\n",
       "      <td>1.0</td>\n",
       "      <td>4</td>\n",
       "      <td>145.15</td>\n",
       "      <td>1.9238</td>\n",
       "      <td>0</td>\n",
       "      <td>0</td>\n",
       "    </tr>\n",
       "    <tr>\n",
       "      <th>3</th>\n",
       "      <td>1</td>\n",
       "      <td>1890</td>\n",
       "      <td>776.0</td>\n",
       "      <td>1</td>\n",
       "      <td>0</td>\n",
       "      <td>3</td>\n",
       "      <td>3507.43</td>\n",
       "      <td>8537.52</td>\n",
       "      <td>1.0</td>\n",
       "      <td>2</td>\n",
       "      <td>301.95</td>\n",
       "      <td>2.0305</td>\n",
       "      <td>0</td>\n",
       "      <td>0</td>\n",
       "    </tr>\n",
       "    <tr>\n",
       "      <th>4</th>\n",
       "      <td>1</td>\n",
       "      <td>1890</td>\n",
       "      <td>773.0</td>\n",
       "      <td>1</td>\n",
       "      <td>0</td>\n",
       "      <td>2</td>\n",
       "      <td>1704.10</td>\n",
       "      <td>4173.75</td>\n",
       "      <td>1.0</td>\n",
       "      <td>2</td>\n",
       "      <td>1027.68</td>\n",
       "      <td>1.5503</td>\n",
       "      <td>0</td>\n",
       "      <td>0</td>\n",
       "    </tr>\n",
       "  </tbody>\n",
       "</table>\n",
       "</div>"
      ],
      "text/plain": [
       "   failure  year  river_mile  sediments  borrow_pit  meander  channel_width  \\\n",
       "0        1  1890       847.0          0           0        4        1347.00   \n",
       "1        1  1890       787.0          1           0        3        2580.99   \n",
       "2        1  1890       776.0          1           0        3        3378.96   \n",
       "3        1  1890       776.0          1           0        3        3507.43   \n",
       "4        1  1890       773.0          1           0        2        1704.10   \n",
       "\n",
       "   floodway_width  constriction_factor  land_cover  veg_width  sinuosity  \\\n",
       "0         2025.54                  1.0           4     391.31     1.9484   \n",
       "1         4122.89                  1.0           2     150.63     2.3318   \n",
       "2         7998.81                  1.0           4     145.15     1.9238   \n",
       "3         8537.52                  1.0           2     301.95     2.0305   \n",
       "4         4173.75                  1.0           2    1027.68     1.5503   \n",
       "\n",
       "   dredging  revetement  \n",
       "0         0           0  \n",
       "1         0           0  \n",
       "2         0           0  \n",
       "3         0           0  \n",
       "4         0           0  "
      ]
     },
     "execution_count": 35,
     "metadata": {},
     "output_type": "execute_result"
    }
   ],
   "source": [
    "data_df.head()"
   ]
  },
  {
   "cell_type": "code",
   "execution_count": 36,
   "metadata": {
    "collapsed": false
   },
   "outputs": [
    {
     "data": {
      "text/plain": [
       "1937    42\n",
       "1910    30\n",
       "1890    10\n",
       "Name: year, dtype: int64"
      ]
     },
     "execution_count": 36,
     "metadata": {},
     "output_type": "execute_result"
    }
   ],
   "source": [
    "data_df['year'].value_counts()"
   ]
  },
  {
   "cell_type": "code",
   "execution_count": 38,
   "metadata": {
    "collapsed": false
   },
   "outputs": [
    {
     "data": {
      "text/plain": [
       "0    80\n",
       "1     2\n",
       "Name: revetement, dtype: int64"
      ]
     },
     "execution_count": 38,
     "metadata": {},
     "output_type": "execute_result"
    }
   ],
   "source": [
    "data_df['revetement'].value_counts()"
   ]
  },
  {
   "cell_type": "code",
   "execution_count": 39,
   "metadata": {
    "collapsed": false
   },
   "outputs": [
    {
     "data": {
      "text/plain": [
       "1    41\n",
       "0    41\n",
       "Name: failure, dtype: int64"
      ]
     },
     "execution_count": 39,
     "metadata": {},
     "output_type": "execute_result"
    }
   ],
   "source": [
    "data_df['failure'].value_counts()"
   ]
  },
  {
   "cell_type": "code",
   "execution_count": 40,
   "metadata": {
    "collapsed": false
   },
   "outputs": [
    {
     "data": {
      "text/plain": [
       "<matplotlib.axes._subplots.AxesSubplot at 0x1d04c396e80>"
      ]
     },
     "execution_count": 40,
     "metadata": {},
     "output_type": "execute_result"
    },
    {
     "data": {
      "image/png": "[encoded data removed]",
      "text/plain": [
       "<matplotlib.figure.Figure at 0x1d04c3a2d68>"
      ]
     },
     "metadata": {},
     "output_type": "display_data"
    }
   ],
   "source": [
    "data_df.plot(kind='scatter', x='year', y='failure')"
   ]
  },
  {
   "cell_type": "code",
   "execution_count": 41,
   "metadata": {
    "collapsed": false
   },
   "outputs": [
    {
     "data": {
      "text/plain": [
       "<matplotlib.axes._subplots.AxesSubplot at 0x1d04c54c2e8>"
      ]
     },
     "execution_count": 41,
     "metadata": {},
     "output_type": "execute_result"
    },
    {
     "data": {
      "image/png": "[encoded data removed]",
      "text/plain": [
       "<matplotlib.figure.Figure at 0x1d04c5534a8>"
      ]
     },
     "metadata": {},
     "output_type": "display_data"
    }
   ],
   "source": [
    "data_df.plot(kind='scatter', x='river_mile', y='failure')"
   ]
  },
  {
   "cell_type": "code",
   "execution_count": 42,
   "metadata": {
    "collapsed": false
   },
   "outputs": [
    {
     "data": {
      "text/plain": [
       "<matplotlib.axes._subplots.AxesSubplot at 0x1d04d6bd4e0>"
      ]
     },
     "execution_count": 42,
     "metadata": {},
     "output_type": "execute_result"
    },
    {
     "data": {
      "image/png": "[encoded data removed]",
      "text/plain": [
       "<matplotlib.figure.Figure at 0x1d04d6caa20>"
      ]
     },
     "metadata": {},
     "output_type": "display_data"
    }
   ],
   "source": [
    "data_df.plot(kind='scatter', x='channel_width', y='failure')"
   ]
  },
  {
   "cell_type": "code",
   "execution_count": 43,
   "metadata": {
    "collapsed": false
   },
   "outputs": [
    {
     "data": {
      "text/plain": [
       "<matplotlib.axes._subplots.AxesSubplot at 0x1d04d736240>"
      ]
     },
     "execution_count": 43,
     "metadata": {},
     "output_type": "execute_result"
    },
    {
     "data": {
      "image/png": "[encoded data removed]",
      "text/plain": [
       "<matplotlib.figure.Figure at 0x1d04d746ba8>"
      ]
     },
     "metadata": {},
     "output_type": "display_data"
    }
   ],
   "source": [
    "data_df.plot(kind='scatter', x='floodway_width', y='failure')"
   ]
  },
  {
   "cell_type": "code",
   "execution_count": 44,
   "metadata": {
    "collapsed": false
   },
   "outputs": [
    {
     "data": {
      "text/plain": [
       "<matplotlib.axes._subplots.AxesSubplot at 0x1d04d7762b0>"
      ]
     },
     "execution_count": 44,
     "metadata": {},
     "output_type": "execute_result"
    },
    {
     "data": {
      "image/png": "[encoded data removed]",
      "text/plain": [
       "<matplotlib.figure.Figure at 0x1d04d7b52e8>"
      ]
     },
     "metadata": {},
     "output_type": "display_data"
    }
   ],
   "source": [
    "data_df.plot(kind='scatter', x='veg_width', y='failure')"
   ]
  },
  {
   "cell_type": "code",
   "execution_count": 45,
   "metadata": {
    "collapsed": false
   },
   "outputs": [
    {
     "data": {
      "text/plain": [
       "<matplotlib.axes._subplots.AxesSubplot at 0x1d04d80eac8>"
      ]
     },
     "execution_count": 45,
     "metadata": {},
     "output_type": "execute_result"
    },
    {
     "data": {
      "image/png": "[encoded data removed]",
      "text/plain": [
       "<matplotlib.figure.Figure at 0x1d04d81ccc0>"
      ]
     },
     "metadata": {},
     "output_type": "display_data"
    }
   ],
   "source": [
    "data_df.plot(kind='scatter', x='sinuosity', y='failure')"
   ]
  },
  {
   "cell_type": "code",
   "execution_count": 48,
   "metadata": {
    "collapsed": false
   },
   "outputs": [
    {
     "data": {
      "text/plain": [
       "<matplotlib.axes._subplots.AxesSubplot at 0x1d04e3fa3c8>"
      ]
     },
     "execution_count": 48,
     "metadata": {},
     "output_type": "execute_result"
    },
    {
     "data": {
      "image/png": "[encoded data removed]",
      "text/plain": [
       "<matplotlib.figure.Figure at 0x1d04d892198>"
      ]
     },
     "metadata": {},
     "output_type": "display_data"
    }
   ],
   "source": [
    "data_df.plot(kind='scatter', x='constriction_factor', y='failure')"
   ]
  },
  {
   "cell_type": "code",
   "execution_count": 70,
   "metadata": {
    "collapsed": false
   },
   "outputs": [
    {
     "data": {
      "text/plain": [
       "borrow_pit    1.684211\n",
       "land_cover    1.246154\n",
       "sediments     0.380952\n",
       "meander       0.000000\n",
       "year          0.000000\n",
       "dtype: float64"
      ]
     },
     "execution_count": 70,
     "metadata": {},
     "output_type": "execute_result"
    }
   ],
   "source": [
    "from sklearn.feature_selection import chi2, SelectKBest\n",
    "\n",
    "cat_cols = data_df.dtypes[data_df.dtypes == np.int64].index\n",
    "cat_cols = [c for c in cat_cols if  c not in ('failure', 'dredging', 'revetement')]\n",
    "target = data_df['failure']\n",
    "\n",
    "cat_features = data_df[cat_cols]\n",
    "\n",
    "selector = SelectKBest(chi2, k=5)\n",
    "selector.fit(X=cat_features, y=target)\n",
    "\n",
    "feature_imp = pd.Series(data=selector.scores_, index=cat_cols)\n",
    "feature_imp.sort_values(ascending=False)"
   ]
  },
  {
   "cell_type": "code",
   "execution_count": 73,
   "metadata": {
    "collapsed": false
   },
   "outputs": [
    {
     "data": {
      "text/plain": [
       "river_mile             0.009705\n",
       "channel_width          0.190817\n",
       "floodway_width        -0.135839\n",
       "constriction_factor   -0.240798\n",
       "veg_width             -0.207859\n",
       "sinuosity              0.252649\n",
       "dtype: float64"
      ]
     },
     "execution_count": 73,
     "metadata": {},
     "output_type": "execute_result"
    }
   ],
   "source": [
    "t = data_df[['river_mile', 'channel_width', 'floodway_width', 'constriction_factor', 'veg_width', 'sinuosity']]\n",
    "t.corrwith(data_df['failure'])"
   ]
  },
  {
   "cell_type": "code",
   "execution_count": 78,
   "metadata": {
    "collapsed": false
   },
   "outputs": [
    {
     "data": {
      "text/html": [
       "<table class=\"simpletable\">\n",
       "<caption>Logit Regression Results</caption>\n",
       "<tr>\n",
       "  <th>Dep. Variable:</th>      <td>failure</td>     <th>  No. Observations:  </th>  <td>    82</td> \n",
       "</tr>\n",
       "<tr>\n",
       "  <th>Model:</th>               <td>Logit</td>      <th>  Df Residuals:      </th>  <td>    75</td> \n",
       "</tr>\n",
       "<tr>\n",
       "  <th>Method:</th>               <td>MLE</td>       <th>  Df Model:          </th>  <td>     6</td> \n",
       "</tr>\n",
       "<tr>\n",
       "  <th>Date:</th>          <td>Tue, 18 Apr 2017</td> <th>  Pseudo R-squ.:     </th>  <td>0.1752</td> \n",
       "</tr>\n",
       "<tr>\n",
       "  <th>Time:</th>              <td>21:41:05</td>     <th>  Log-Likelihood:    </th> <td> -46.882</td>\n",
       "</tr>\n",
       "<tr>\n",
       "  <th>converged:</th>           <td>True</td>       <th>  LL-Null:           </th> <td> -56.838</td>\n",
       "</tr>\n",
       "<tr>\n",
       "  <th> </th>                      <td> </td>        <th>  LLR p-value:       </th> <td>0.002872</td>\n",
       "</tr>\n",
       "</table>\n",
       "<table class=\"simpletable\">\n",
       "<tr>\n",
       "           <td></td>              <th>coef</th>     <th>std err</th>      <th>z</th>      <th>P>|z|</th>  <th>[0.025</th>    <th>0.975]</th>  \n",
       "</tr>\n",
       "<tr>\n",
       "  <th>Intercept</th>           <td>   15.7446</td> <td> 1232.898</td> <td>    0.013</td> <td> 0.990</td> <td>-2400.691</td> <td> 2432.180</td>\n",
       "</tr>\n",
       "<tr>\n",
       "  <th>C(borrow_pit)[T.1]</th>  <td>   -0.8954</td> <td>    0.541</td> <td>   -1.654</td> <td> 0.098</td> <td>   -1.957</td> <td>    0.166</td>\n",
       "</tr>\n",
       "<tr>\n",
       "  <th>C(land_cover)[T.2]</th>  <td>  -16.0115</td> <td> 1232.897</td> <td>   -0.013</td> <td> 0.990</td> <td>-2432.446</td> <td> 2400.423</td>\n",
       "</tr>\n",
       "<tr>\n",
       "  <th>C(land_cover)[T.3]</th>  <td>  -16.4094</td> <td> 1232.897</td> <td>   -0.013</td> <td> 0.989</td> <td>-2432.844</td> <td> 2400.025</td>\n",
       "</tr>\n",
       "<tr>\n",
       "  <th>C(land_cover)[T.4]</th>  <td>  -16.4040</td> <td> 1232.897</td> <td>   -0.013</td> <td> 0.989</td> <td>-2432.838</td> <td> 2400.030</td>\n",
       "</tr>\n",
       "<tr>\n",
       "  <th>sinuosity</th>           <td>    0.8438</td> <td>    0.607</td> <td>    1.390</td> <td> 0.164</td> <td>   -0.346</td> <td>    2.033</td>\n",
       "</tr>\n",
       "<tr>\n",
       "  <th>constriction_factor</th> <td>   -0.7200</td> <td>    0.445</td> <td>   -1.619</td> <td> 0.105</td> <td>   -1.592</td> <td>    0.152</td>\n",
       "</tr>\n",
       "</table>"
      ],
      "text/plain": [
       "<class 'statsmodels.iolib.summary.Summary'>\n",
       "\"\"\"\n",
       "                           Logit Regression Results                           \n",
       "==============================================================================\n",
       "Dep. Variable:                failure   No. Observations:                   82\n",
       "Model:                          Logit   Df Residuals:                       75\n",
       "Method:                           MLE   Df Model:                            6\n",
       "Date:                Tue, 18 Apr 2017   Pseudo R-squ.:                  0.1752\n",
       "Time:                        21:41:05   Log-Likelihood:                -46.882\n",
       "converged:                       True   LL-Null:                       -56.838\n",
       "                                        LLR p-value:                  0.002872\n",
       "=======================================================================================\n",
       "                          coef    std err          z      P>|z|      [0.025      0.975]\n",
       "---------------------------------------------------------------------------------------\n",
       "Intercept              15.7446   1232.898      0.013      0.990   -2400.691    2432.180\n",
       "C(borrow_pit)[T.1]     -0.8954      0.541     -1.654      0.098      -1.957       0.166\n",
       "C(land_cover)[T.2]    -16.0115   1232.897     -0.013      0.990   -2432.446    2400.423\n",
       "C(land_cover)[T.3]    -16.4094   1232.897     -0.013      0.989   -2432.844    2400.025\n",
       "C(land_cover)[T.4]    -16.4040   1232.897     -0.013      0.989   -2432.838    2400.030\n",
       "sinuosity               0.8438      0.607      1.390      0.164      -0.346       2.033\n",
       "constriction_factor    -0.7200      0.445     -1.619      0.105      -1.592       0.152\n",
       "=======================================================================================\n",
       "\"\"\""
      ]
     },
     "execution_count": 78,
     "metadata": {},
     "output_type": "execute_result"
    }
   ],
   "source": [
    "import statsmodels.formula.api as sm\n",
    "\n",
    "model = sm.logit(formula='failure ~ sinuosity + constriction_factor + C(borrow_pit) + C(land_cover)', data=data_df)\n",
    "result = model.fit(method='lbfgs', maxiter=100)\n",
    "\n",
    "\n",
    "result.summary()"
   ]
  },
  {
   "cell_type": "code",
   "execution_count": 89,
   "metadata": {
    "collapsed": false
   },
   "outputs": [],
   "source": [
    "from sklearn.model_selection import KFold\n",
    "\n",
    "fold = KFold(n_splits=5, shuffle=True)\n",
    "\n",
    "formula='failure ~ sinuosity + constriction_factor + C(borrow_pit) + C(land_cover)'\n",
    "\n",
    "def cross_validate(train_index, test_index):\n",
    "    train_data, test_data = data_df.iloc[train_index], data_df.iloc[test_index]\n",
    "    \n",
    "    t_model = sm.logit(formula=formula, data=train_data)\n",
    "    t_result = t_model.fit(method='lbfgs', maxiter=100)\n",
    "    t_predict = t_result.predict(test_data)\n",
    "    t_predict = t_predict.apply(lambda v: 1.0 if v >= 0.5 else 0.0)\n",
    "    \n",
    "    return pd.concat({'predicted': t_predict, 'actual': test_data['failure']}, axis=1)\n",
    "\n",
    "cv_results = [cross_validate(train_index, test_index) \n",
    "              for train_index, test_index in fold.split(data_df.index)]"
   ]
  },
  {
   "cell_type": "code",
   "execution_count": 91,
   "metadata": {
    "collapsed": false
   },
   "outputs": [
    {
     "data": {
      "text/plain": [
       "<matplotlib.axes._subplots.AxesSubplot at 0x1d04fcd0518>"
      ]
     },
     "execution_count": 91,
     "metadata": {},
     "output_type": "execute_result"
    },
    {
     "data": {
      "image/png": "[encoded data removed]",
      "text/plain": [
       "<matplotlib.figure.Figure at 0x1d04fd58240>"
      ]
     },
     "metadata": {},
     "output_type": "display_data"
    }
   ],
   "source": [
    "from sklearn.metrics import f1_score\n",
    "\n",
    "scores = [f1_score(r['predicted'], r['actual']) for r in cv_results]\n",
    "sc = pd.Series(data=scores, name='F1_scores')\n",
    "sc.plot(kind='bar', title='5-fold cross validation results')"
   ]
  }
 ],
 "metadata": {
  "kernelspec": {
   "display_name": "Python 3",
   "language": "python",
   "name": "python3"
  },
  "language_info": {
   "codemirror_mode": {
    "name": "ipython",
    "version": 3
   },
   "file_extension": ".py",
   "mimetype": "text/x-python",
   "name": "python",
   "nbconvert_exporter": "python",
   "pygments_lexer": "ipython3",
   "version": "3.5.3"
  }
 },
 "nbformat": 4,
 "nbformat_minor": 2
}
