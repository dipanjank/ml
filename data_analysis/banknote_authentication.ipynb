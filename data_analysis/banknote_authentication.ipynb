{
 "cells": [
  {
   "cell_type": "code",
   "execution_count": 1,
   "metadata": {
    "collapsed": false
   },
   "outputs": [
    {
     "name": "stdout",
     "output_type": "stream",
     "text": [
      "Populating the interactive namespace from numpy and matplotlib\n"
     ]
    }
   ],
   "source": [
    "%pylab inline\n",
    "pylab.style.use('ggplot')\n",
    "import numpy as np\n",
    "import pandas as pd"
   ]
  },
  {
   "cell_type": "code",
   "execution_count": 2,
   "metadata": {
    "collapsed": true
   },
   "outputs": [],
   "source": [
    "url = 'http://archive.ics.uci.edu/ml/machine-learning-databases/00267/data_banknote_authentication.txt'\n",
    "data_df = pd.read_csv(url, header=None)"
   ]
  },
  {
   "cell_type": "code",
   "execution_count": 3,
   "metadata": {
    "collapsed": false
   },
   "outputs": [
    {
     "data": {
      "text/html": [
       "<div>\n",
       "<table border=\"1\" class=\"dataframe\">\n",
       "  <thead>\n",
       "    <tr style=\"text-align: right;\">\n",
       "      <th></th>\n",
       "      <th>0</th>\n",
       "      <th>1</th>\n",
       "      <th>2</th>\n",
       "      <th>3</th>\n",
       "      <th>4</th>\n",
       "    </tr>\n",
       "  </thead>\n",
       "  <tbody>\n",
       "    <tr>\n",
       "      <th>0</th>\n",
       "      <td>3.62160</td>\n",
       "      <td>8.6661</td>\n",
       "      <td>-2.8073</td>\n",
       "      <td>-0.44699</td>\n",
       "      <td>0</td>\n",
       "    </tr>\n",
       "    <tr>\n",
       "      <th>1</th>\n",
       "      <td>4.54590</td>\n",
       "      <td>8.1674</td>\n",
       "      <td>-2.4586</td>\n",
       "      <td>-1.46210</td>\n",
       "      <td>0</td>\n",
       "    </tr>\n",
       "    <tr>\n",
       "      <th>2</th>\n",
       "      <td>3.86600</td>\n",
       "      <td>-2.6383</td>\n",
       "      <td>1.9242</td>\n",
       "      <td>0.10645</td>\n",
       "      <td>0</td>\n",
       "    </tr>\n",
       "    <tr>\n",
       "      <th>3</th>\n",
       "      <td>3.45660</td>\n",
       "      <td>9.5228</td>\n",
       "      <td>-4.0112</td>\n",
       "      <td>-3.59440</td>\n",
       "      <td>0</td>\n",
       "    </tr>\n",
       "    <tr>\n",
       "      <th>4</th>\n",
       "      <td>0.32924</td>\n",
       "      <td>-4.4552</td>\n",
       "      <td>4.5718</td>\n",
       "      <td>-0.98880</td>\n",
       "      <td>0</td>\n",
       "    </tr>\n",
       "  </tbody>\n",
       "</table>\n",
       "</div>"
      ],
      "text/plain": [
       "         0       1       2        3  4\n",
       "0  3.62160  8.6661 -2.8073 -0.44699  0\n",
       "1  4.54590  8.1674 -2.4586 -1.46210  0\n",
       "2  3.86600 -2.6383  1.9242  0.10645  0\n",
       "3  3.45660  9.5228 -4.0112 -3.59440  0\n",
       "4  0.32924 -4.4552  4.5718 -0.98880  0"
      ]
     },
     "execution_count": 3,
     "metadata": {},
     "output_type": "execute_result"
    }
   ],
   "source": [
    "data_df.head()"
   ]
  },
  {
   "cell_type": "code",
   "execution_count": 4,
   "metadata": {
    "collapsed": true
   },
   "outputs": [],
   "source": [
    "data_df.columns = ['variance', 'skewness', 'kurtosis', 'entropy', 'type']"
   ]
  },
  {
   "cell_type": "code",
   "execution_count": 5,
   "metadata": {
    "collapsed": false
   },
   "outputs": [
    {
     "data": {
      "text/html": [
       "<div>\n",
       "<table border=\"1\" class=\"dataframe\">\n",
       "  <thead>\n",
       "    <tr style=\"text-align: right;\">\n",
       "      <th></th>\n",
       "      <th>variance</th>\n",
       "      <th>skewness</th>\n",
       "      <th>kurtosis</th>\n",
       "      <th>entropy</th>\n",
       "      <th>type</th>\n",
       "    </tr>\n",
       "  </thead>\n",
       "  <tbody>\n",
       "    <tr>\n",
       "      <th>0</th>\n",
       "      <td>3.62160</td>\n",
       "      <td>8.6661</td>\n",
       "      <td>-2.8073</td>\n",
       "      <td>-0.44699</td>\n",
       "      <td>0</td>\n",
       "    </tr>\n",
       "    <tr>\n",
       "      <th>1</th>\n",
       "      <td>4.54590</td>\n",
       "      <td>8.1674</td>\n",
       "      <td>-2.4586</td>\n",
       "      <td>-1.46210</td>\n",
       "      <td>0</td>\n",
       "    </tr>\n",
       "    <tr>\n",
       "      <th>2</th>\n",
       "      <td>3.86600</td>\n",
       "      <td>-2.6383</td>\n",
       "      <td>1.9242</td>\n",
       "      <td>0.10645</td>\n",
       "      <td>0</td>\n",
       "    </tr>\n",
       "    <tr>\n",
       "      <th>3</th>\n",
       "      <td>3.45660</td>\n",
       "      <td>9.5228</td>\n",
       "      <td>-4.0112</td>\n",
       "      <td>-3.59440</td>\n",
       "      <td>0</td>\n",
       "    </tr>\n",
       "    <tr>\n",
       "      <th>4</th>\n",
       "      <td>0.32924</td>\n",
       "      <td>-4.4552</td>\n",
       "      <td>4.5718</td>\n",
       "      <td>-0.98880</td>\n",
       "      <td>0</td>\n",
       "    </tr>\n",
       "  </tbody>\n",
       "</table>\n",
       "</div>"
      ],
      "text/plain": [
       "   variance  skewness  kurtosis  entropy  type\n",
       "0   3.62160    8.6661   -2.8073 -0.44699     0\n",
       "1   4.54590    8.1674   -2.4586 -1.46210     0\n",
       "2   3.86600   -2.6383    1.9242  0.10645     0\n",
       "3   3.45660    9.5228   -4.0112 -3.59440     0\n",
       "4   0.32924   -4.4552    4.5718 -0.98880     0"
      ]
     },
     "execution_count": 5,
     "metadata": {},
     "output_type": "execute_result"
    }
   ],
   "source": [
    "data_df.head()"
   ]
  },
  {
   "cell_type": "code",
   "execution_count": 6,
   "metadata": {
    "collapsed": true
   },
   "outputs": [],
   "source": [
    "data_df['type'] = data_df['type'].map(lambda x: 'fake' if x == 0 else 'real')"
   ]
  },
  {
   "cell_type": "code",
   "execution_count": 7,
   "metadata": {
    "collapsed": false
   },
   "outputs": [
    {
     "data": {
      "text/html": [
       "<div>\n",
       "<table border=\"1\" class=\"dataframe\">\n",
       "  <thead>\n",
       "    <tr style=\"text-align: right;\">\n",
       "      <th></th>\n",
       "      <th>variance</th>\n",
       "      <th>skewness</th>\n",
       "      <th>kurtosis</th>\n",
       "      <th>entropy</th>\n",
       "      <th>type</th>\n",
       "    </tr>\n",
       "  </thead>\n",
       "  <tbody>\n",
       "    <tr>\n",
       "      <th>0</th>\n",
       "      <td>3.62160</td>\n",
       "      <td>8.6661</td>\n",
       "      <td>-2.8073</td>\n",
       "      <td>-0.44699</td>\n",
       "      <td>fake</td>\n",
       "    </tr>\n",
       "    <tr>\n",
       "      <th>1</th>\n",
       "      <td>4.54590</td>\n",
       "      <td>8.1674</td>\n",
       "      <td>-2.4586</td>\n",
       "      <td>-1.46210</td>\n",
       "      <td>fake</td>\n",
       "    </tr>\n",
       "    <tr>\n",
       "      <th>2</th>\n",
       "      <td>3.86600</td>\n",
       "      <td>-2.6383</td>\n",
       "      <td>1.9242</td>\n",
       "      <td>0.10645</td>\n",
       "      <td>fake</td>\n",
       "    </tr>\n",
       "    <tr>\n",
       "      <th>3</th>\n",
       "      <td>3.45660</td>\n",
       "      <td>9.5228</td>\n",
       "      <td>-4.0112</td>\n",
       "      <td>-3.59440</td>\n",
       "      <td>fake</td>\n",
       "    </tr>\n",
       "    <tr>\n",
       "      <th>4</th>\n",
       "      <td>0.32924</td>\n",
       "      <td>-4.4552</td>\n",
       "      <td>4.5718</td>\n",
       "      <td>-0.98880</td>\n",
       "      <td>fake</td>\n",
       "    </tr>\n",
       "  </tbody>\n",
       "</table>\n",
       "</div>"
      ],
      "text/plain": [
       "   variance  skewness  kurtosis  entropy  type\n",
       "0   3.62160    8.6661   -2.8073 -0.44699  fake\n",
       "1   4.54590    8.1674   -2.4586 -1.46210  fake\n",
       "2   3.86600   -2.6383    1.9242  0.10645  fake\n",
       "3   3.45660    9.5228   -4.0112 -3.59440  fake\n",
       "4   0.32924   -4.4552    4.5718 -0.98880  fake"
      ]
     },
     "execution_count": 7,
     "metadata": {},
     "output_type": "execute_result"
    }
   ],
   "source": [
    "data_df.head()"
   ]
  },
  {
   "cell_type": "code",
   "execution_count": 11,
   "metadata": {
    "collapsed": false
   },
   "outputs": [
    {
     "data": {
      "text/plain": [
       "<matplotlib.axes._subplots.AxesSubplot at 0x245eaf5f4a8>"
      ]
     },
     "execution_count": 11,
     "metadata": {},
     "output_type": "execute_result"
    },
    {
     "data": {
      "image/png": "[encoded data removed]",
      "text/plain": [
       "<matplotlib.figure.Figure at 0x245eaf66208>"
      ]
     },
     "metadata": {},
     "output_type": "display_data"
    }
   ],
   "source": [
    "data_df.type.value_counts().plot(kind='bar')"
   ]
  },
  {
   "cell_type": "code",
   "execution_count": 12,
   "metadata": {
    "collapsed": false
   },
   "outputs": [
    {
     "data": {
      "text/plain": [
       "<matplotlib.axes._subplots.AxesSubplot at 0x245ecc61390>"
      ]
     },
     "execution_count": 12,
     "metadata": {},
     "output_type": "execute_result"
    },
    {
     "data": {
      "image/png": "[encoded data removed]",
      "text/plain": [
       "<matplotlib.figure.Figure at 0x245ecc48940>"
      ]
     },
     "metadata": {},
     "output_type": "display_data"
    }
   ],
   "source": [
    "f_corrs = data_df.drop('type', axis=1).corr()\n",
    "\n",
    "import seaborn as sns\n",
    "sns.heatmap(f_corrs, annot=True)"
   ]
  },
  {
   "cell_type": "code",
   "execution_count": 14,
   "metadata": {
    "collapsed": false
   },
   "outputs": [
    {
     "data": {
      "text/html": [
       "<div>\n",
       "<table border=\"1\" class=\"dataframe\">\n",
       "  <thead>\n",
       "    <tr>\n",
       "      <th>type</th>\n",
       "      <th colspan=\"8\" halign=\"left\">fake</th>\n",
       "      <th colspan=\"8\" halign=\"left\">real</th>\n",
       "    </tr>\n",
       "    <tr>\n",
       "      <th></th>\n",
       "      <th>count</th>\n",
       "      <th>mean</th>\n",
       "      <th>std</th>\n",
       "      <th>min</th>\n",
       "      <th>25%</th>\n",
       "      <th>50%</th>\n",
       "      <th>75%</th>\n",
       "      <th>max</th>\n",
       "      <th>count</th>\n",
       "      <th>mean</th>\n",
       "      <th>std</th>\n",
       "      <th>min</th>\n",
       "      <th>25%</th>\n",
       "      <th>50%</th>\n",
       "      <th>75%</th>\n",
       "      <th>max</th>\n",
       "    </tr>\n",
       "  </thead>\n",
       "  <tbody>\n",
       "    <tr>\n",
       "      <th>entropy</th>\n",
       "      <td>762.0</td>\n",
       "      <td>-1.147640</td>\n",
       "      <td>2.125077</td>\n",
       "      <td>-8.5482</td>\n",
       "      <td>-2.228250</td>\n",
       "      <td>-0.552380</td>\n",
       "      <td>0.423258</td>\n",
       "      <td>2.4495</td>\n",
       "      <td>610.0</td>\n",
       "      <td>-1.246641</td>\n",
       "      <td>2.070984</td>\n",
       "      <td>-7.5887</td>\n",
       "      <td>-2.458375</td>\n",
       "      <td>-0.661650</td>\n",
       "      <td>0.341790</td>\n",
       "      <td>2.1353</td>\n",
       "    </tr>\n",
       "    <tr>\n",
       "      <th>kurtosis</th>\n",
       "      <td>762.0</td>\n",
       "      <td>0.796718</td>\n",
       "      <td>3.239894</td>\n",
       "      <td>-4.9417</td>\n",
       "      <td>-1.709700</td>\n",
       "      <td>0.700605</td>\n",
       "      <td>2.652925</td>\n",
       "      <td>8.8294</td>\n",
       "      <td>610.0</td>\n",
       "      <td>2.148271</td>\n",
       "      <td>5.261811</td>\n",
       "      <td>-5.2861</td>\n",
       "      <td>-1.357500</td>\n",
       "      <td>0.373720</td>\n",
       "      <td>5.626350</td>\n",
       "      <td>17.9274</td>\n",
       "    </tr>\n",
       "    <tr>\n",
       "      <th>skewness</th>\n",
       "      <td>762.0</td>\n",
       "      <td>4.256627</td>\n",
       "      <td>5.138792</td>\n",
       "      <td>-6.9321</td>\n",
       "      <td>0.450063</td>\n",
       "      <td>5.668800</td>\n",
       "      <td>8.691975</td>\n",
       "      <td>12.9516</td>\n",
       "      <td>610.0</td>\n",
       "      <td>-0.993576</td>\n",
       "      <td>5.404884</td>\n",
       "      <td>-13.7731</td>\n",
       "      <td>-5.810025</td>\n",
       "      <td>0.172775</td>\n",
       "      <td>3.189275</td>\n",
       "      <td>9.6014</td>\n",
       "    </tr>\n",
       "    <tr>\n",
       "      <th>variance</th>\n",
       "      <td>762.0</td>\n",
       "      <td>2.276686</td>\n",
       "      <td>2.019348</td>\n",
       "      <td>-4.2859</td>\n",
       "      <td>0.883345</td>\n",
       "      <td>2.553100</td>\n",
       "      <td>3.884450</td>\n",
       "      <td>6.8248</td>\n",
       "      <td>610.0</td>\n",
       "      <td>-1.868443</td>\n",
       "      <td>1.881183</td>\n",
       "      <td>-7.0421</td>\n",
       "      <td>-3.061450</td>\n",
       "      <td>-1.806100</td>\n",
       "      <td>-0.541770</td>\n",
       "      <td>2.3917</td>\n",
       "    </tr>\n",
       "  </tbody>\n",
       "</table>\n",
       "</div>"
      ],
      "text/plain": [
       "type       fake                                                            \\\n",
       "          count      mean       std     min       25%       50%       75%   \n",
       "entropy   762.0 -1.147640  2.125077 -8.5482 -2.228250 -0.552380  0.423258   \n",
       "kurtosis  762.0  0.796718  3.239894 -4.9417 -1.709700  0.700605  2.652925   \n",
       "skewness  762.0  4.256627  5.138792 -6.9321  0.450063  5.668800  8.691975   \n",
       "variance  762.0  2.276686  2.019348 -4.2859  0.883345  2.553100  3.884450   \n",
       "\n",
       "type                real                                                   \\\n",
       "              max  count      mean       std      min       25%       50%   \n",
       "entropy    2.4495  610.0 -1.246641  2.070984  -7.5887 -2.458375 -0.661650   \n",
       "kurtosis   8.8294  610.0  2.148271  5.261811  -5.2861 -1.357500  0.373720   \n",
       "skewness  12.9516  610.0 -0.993576  5.404884 -13.7731 -5.810025  0.172775   \n",
       "variance   6.8248  610.0 -1.868443  1.881183  -7.0421 -3.061450 -1.806100   \n",
       "\n",
       "type                         \n",
       "               75%      max  \n",
       "entropy   0.341790   2.1353  \n",
       "kurtosis  5.626350  17.9274  \n",
       "skewness  3.189275   9.6014  \n",
       "variance -0.541770   2.3917  "
      ]
     },
     "execution_count": 14,
     "metadata": {},
     "output_type": "execute_result"
    }
   ],
   "source": [
    "data_df.groupby(by='type').describe().T"
   ]
  },
  {
   "cell_type": "code",
   "execution_count": 17,
   "metadata": {
    "collapsed": false
   },
   "outputs": [
    {
     "name": "stdout",
     "output_type": "stream",
     "text": [
      "Optimization terminated successfully.    (Exit mode 0)\n",
      "            Current function value: 0.674789366537252\n",
      "            Iterations: 7\n",
      "            Function evaluations: 8\n",
      "            Gradient evaluations: 7\n"
     ]
    },
    {
     "data": {
      "text/html": [
       "<table class=\"simpletable\">\n",
       "<caption>MNLogit Regression Results</caption>\n",
       "<tr>\n",
       "  <th>Dep. Variable:</th>         <td>y</td>        <th>  No. Observations:  </th>  <td>  1372</td>  \n",
       "</tr>\n",
       "<tr>\n",
       "  <th>Model:</th>              <td>MNLogit</td>     <th>  Df Residuals:      </th>  <td>  1370</td>  \n",
       "</tr>\n",
       "<tr>\n",
       "  <th>Method:</th>               <td>MLE</td>       <th>  Df Model:          </th>  <td>     1</td>  \n",
       "</tr>\n",
       "<tr>\n",
       "  <th>Date:</th>          <td>Fri, 28 Apr 2017</td> <th>  Pseudo R-squ.:     </th>  <td>0.01777</td> \n",
       "</tr>\n",
       "<tr>\n",
       "  <th>Time:</th>              <td>00:23:32</td>     <th>  Log-Likelihood:    </th> <td> -925.81</td> \n",
       "</tr>\n",
       "<tr>\n",
       "  <th>converged:</th>           <td>True</td>       <th>  LL-Null:           </th> <td> -942.56</td> \n",
       "</tr>\n",
       "<tr>\n",
       "  <th> </th>                      <td> </td>        <th>  LLR p-value:       </th> <td>7.128e-09</td>\n",
       "</tr>\n",
       "</table>\n",
       "<table class=\"simpletable\">\n",
       "<tr>\n",
       "  <th>y=type[real]</th>    <th>coef</th>     <th>std err</th>      <th>z</th>      <th>P>|z|</th>  <th>[0.025</th>    <th>0.975]</th>  \n",
       "</tr>\n",
       "<tr>\n",
       "  <th>Intercept</th>    <td>   -0.3286</td> <td>    0.058</td> <td>   -5.657</td> <td> 0.000</td> <td>   -0.443</td> <td>   -0.215</td>\n",
       "</tr>\n",
       "<tr>\n",
       "  <th>kurtosis</th>     <td>    0.0740</td> <td>    0.013</td> <td>    5.677</td> <td> 0.000</td> <td>    0.048</td> <td>    0.100</td>\n",
       "</tr>\n",
       "</table>"
      ],
      "text/plain": [
       "<class 'statsmodels.iolib.summary.Summary'>\n",
       "\"\"\"\n",
       "                          MNLogit Regression Results                          \n",
       "==============================================================================\n",
       "Dep. Variable:                      y   No. Observations:                 1372\n",
       "Model:                        MNLogit   Df Residuals:                     1370\n",
       "Method:                           MLE   Df Model:                            1\n",
       "Date:                Fri, 28 Apr 2017   Pseudo R-squ.:                 0.01777\n",
       "Time:                        00:23:32   Log-Likelihood:                -925.81\n",
       "converged:                       True   LL-Null:                       -942.56\n",
       "                                        LLR p-value:                 7.128e-09\n",
       "================================================================================\n",
       "y=type[real]       coef    std err          z      P>|z|      [0.025      0.975]\n",
       "--------------------------------------------------------------------------------\n",
       "Intercept       -0.3286      0.058     -5.657      0.000      -0.443      -0.215\n",
       "kurtosis         0.0740      0.013      5.677      0.000       0.048       0.100\n",
       "================================================================================\n",
       "\"\"\""
      ]
     },
     "execution_count": 17,
     "metadata": {},
     "output_type": "execute_result"
    }
   ],
   "source": [
    "import statsmodels.formula.api as sm\n",
    "\n",
    "model = sm.mnlogit(formula='type ~ kurtosis', data=data_df)\n",
    "result = model.fit_regularized()\n",
    "result.summary()"
   ]
  },
  {
   "cell_type": "code",
   "execution_count": 19,
   "metadata": {
    "collapsed": false
   },
   "outputs": [
    {
     "name": "stdout",
     "output_type": "stream",
     "text": [
      "Optimization terminated successfully.    (Exit mode 0)\n",
      "            Current function value: 0.510127652880333\n",
      "            Iterations: 12\n",
      "            Function evaluations: 13\n",
      "            Gradient evaluations: 12\n"
     ]
    },
    {
     "data": {
      "text/html": [
       "<table class=\"simpletable\">\n",
       "<caption>MNLogit Regression Results</caption>\n",
       "<tr>\n",
       "  <th>Dep. Variable:</th>         <td>y</td>        <th>  No. Observations:  </th>   <td>  1372</td>  \n",
       "</tr>\n",
       "<tr>\n",
       "  <th>Model:</th>              <td>MNLogit</td>     <th>  Df Residuals:      </th>   <td>  1369</td>  \n",
       "</tr>\n",
       "<tr>\n",
       "  <th>Method:</th>               <td>MLE</td>       <th>  Df Model:          </th>   <td>     2</td>  \n",
       "</tr>\n",
       "<tr>\n",
       "  <th>Date:</th>          <td>Fri, 28 Apr 2017</td> <th>  Pseudo R-squ.:     </th>   <td>0.2575</td>  \n",
       "</tr>\n",
       "<tr>\n",
       "  <th>Time:</th>              <td>00:24:21</td>     <th>  Log-Likelihood:    </th>  <td> -699.90</td> \n",
       "</tr>\n",
       "<tr>\n",
       "  <th>converged:</th>           <td>True</td>       <th>  LL-Null:           </th>  <td> -942.56</td> \n",
       "</tr>\n",
       "<tr>\n",
       "  <th> </th>                      <td> </td>        <th>  LLR p-value:       </th> <td>4.089e-106</td>\n",
       "</tr>\n",
       "</table>\n",
       "<table class=\"simpletable\">\n",
       "<tr>\n",
       "  <th>y=type[real]</th>    <th>coef</th>     <th>std err</th>      <th>z</th>      <th>P>|z|</th>  <th>[0.025</th>    <th>0.975]</th>  \n",
       "</tr>\n",
       "<tr>\n",
       "  <th>Intercept</th>    <td>    0.8777</td> <td>    0.091</td> <td>    9.677</td> <td> 0.000</td> <td>    0.700</td> <td>    1.055</td>\n",
       "</tr>\n",
       "<tr>\n",
       "  <th>kurtosis</th>     <td>   -0.3554</td> <td>    0.028</td> <td>  -12.734</td> <td> 0.000</td> <td>   -0.410</td> <td>   -0.301</td>\n",
       "</tr>\n",
       "<tr>\n",
       "  <th>skewness</th>     <td>   -0.4167</td> <td>    0.024</td> <td>  -17.329</td> <td> 0.000</td> <td>   -0.464</td> <td>   -0.370</td>\n",
       "</tr>\n",
       "</table>"
      ],
      "text/plain": [
       "<class 'statsmodels.iolib.summary.Summary'>\n",
       "\"\"\"\n",
       "                          MNLogit Regression Results                          \n",
       "==============================================================================\n",
       "Dep. Variable:                      y   No. Observations:                 1372\n",
       "Model:                        MNLogit   Df Residuals:                     1369\n",
       "Method:                           MLE   Df Model:                            2\n",
       "Date:                Fri, 28 Apr 2017   Pseudo R-squ.:                  0.2575\n",
       "Time:                        00:24:21   Log-Likelihood:                -699.90\n",
       "converged:                       True   LL-Null:                       -942.56\n",
       "                                        LLR p-value:                4.089e-106\n",
       "================================================================================\n",
       "y=type[real]       coef    std err          z      P>|z|      [0.025      0.975]\n",
       "--------------------------------------------------------------------------------\n",
       "Intercept        0.8777      0.091      9.677      0.000       0.700       1.055\n",
       "kurtosis        -0.3554      0.028    -12.734      0.000      -0.410      -0.301\n",
       "skewness        -0.4167      0.024    -17.329      0.000      -0.464      -0.370\n",
       "================================================================================\n",
       "\"\"\""
      ]
     },
     "execution_count": 19,
     "metadata": {},
     "output_type": "execute_result"
    }
   ],
   "source": [
    "model = sm.mnlogit(formula='type ~ kurtosis + skewness', data=data_df)\n",
    "result = model.fit_regularized()\n",
    "result.summary()"
   ]
  },
  {
   "cell_type": "code",
   "execution_count": 20,
   "metadata": {
    "collapsed": false
   },
   "outputs": [
    {
     "name": "stdout",
     "output_type": "stream",
     "text": [
      "Optimization terminated successfully.    (Exit mode 0)\n",
      "            Current function value: 0.019423702309360164\n",
      "            Iterations: 37\n",
      "            Function evaluations: 38\n",
      "            Gradient evaluations: 37\n"
     ]
    },
    {
     "data": {
      "text/html": [
       "<table class=\"simpletable\">\n",
       "<caption>MNLogit Regression Results</caption>\n",
       "<tr>\n",
       "  <th>Dep. Variable:</th>         <td>y</td>        <th>  No. Observations:  </th>  <td>  1372</td> \n",
       "</tr>\n",
       "<tr>\n",
       "  <th>Model:</th>              <td>MNLogit</td>     <th>  Df Residuals:      </th>  <td>  1368</td> \n",
       "</tr>\n",
       "<tr>\n",
       "  <th>Method:</th>               <td>MLE</td>       <th>  Df Model:          </th>  <td>     3</td> \n",
       "</tr>\n",
       "<tr>\n",
       "  <th>Date:</th>          <td>Fri, 28 Apr 2017</td> <th>  Pseudo R-squ.:     </th>  <td>0.9717</td> \n",
       "</tr>\n",
       "<tr>\n",
       "  <th>Time:</th>              <td>00:24:30</td>     <th>  Log-Likelihood:    </th> <td> -26.649</td>\n",
       "</tr>\n",
       "<tr>\n",
       "  <th>converged:</th>           <td>True</td>       <th>  LL-Null:           </th> <td> -942.56</td>\n",
       "</tr>\n",
       "<tr>\n",
       "  <th> </th>                      <td> </td>        <th>  LLR p-value:       </th>  <td> 0.000</td> \n",
       "</tr>\n",
       "</table>\n",
       "<table class=\"simpletable\">\n",
       "<tr>\n",
       "  <th>y=type[real]</th>    <th>coef</th>     <th>std err</th>      <th>z</th>      <th>P>|z|</th>  <th>[0.025</th>    <th>0.975]</th>  \n",
       "</tr>\n",
       "<tr>\n",
       "  <th>Intercept</th>    <td>    6.8850</td> <td>    1.384</td> <td>    4.975</td> <td> 0.000</td> <td>    4.173</td> <td>    9.597</td>\n",
       "</tr>\n",
       "<tr>\n",
       "  <th>kurtosis</th>     <td>   -4.4642</td> <td>    0.901</td> <td>   -4.957</td> <td> 0.000</td> <td>   -6.229</td> <td>   -2.699</td>\n",
       "</tr>\n",
       "<tr>\n",
       "  <th>skewness</th>     <td>   -3.5067</td> <td>    0.693</td> <td>   -5.059</td> <td> 0.000</td> <td>   -4.865</td> <td>   -2.148</td>\n",
       "</tr>\n",
       "<tr>\n",
       "  <th>variance</th>     <td>   -6.7836</td> <td>    1.395</td> <td>   -4.863</td> <td> 0.000</td> <td>   -9.518</td> <td>   -4.049</td>\n",
       "</tr>\n",
       "</table>"
      ],
      "text/plain": [
       "<class 'statsmodels.iolib.summary.Summary'>\n",
       "\"\"\"\n",
       "                          MNLogit Regression Results                          \n",
       "==============================================================================\n",
       "Dep. Variable:                      y   No. Observations:                 1372\n",
       "Model:                        MNLogit   Df Residuals:                     1368\n",
       "Method:                           MLE   Df Model:                            3\n",
       "Date:                Fri, 28 Apr 2017   Pseudo R-squ.:                  0.9717\n",
       "Time:                        00:24:30   Log-Likelihood:                -26.649\n",
       "converged:                       True   LL-Null:                       -942.56\n",
       "                                        LLR p-value:                     0.000\n",
       "================================================================================\n",
       "y=type[real]       coef    std err          z      P>|z|      [0.025      0.975]\n",
       "--------------------------------------------------------------------------------\n",
       "Intercept        6.8850      1.384      4.975      0.000       4.173       9.597\n",
       "kurtosis        -4.4642      0.901     -4.957      0.000      -6.229      -2.699\n",
       "skewness        -3.5067      0.693     -5.059      0.000      -4.865      -2.148\n",
       "variance        -6.7836      1.395     -4.863      0.000      -9.518      -4.049\n",
       "================================================================================\n",
       "\"\"\""
      ]
     },
     "execution_count": 20,
     "metadata": {},
     "output_type": "execute_result"
    }
   ],
   "source": [
    "model = sm.mnlogit(formula='type ~ kurtosis + skewness + variance', data=data_df)\n",
    "result = model.fit_regularized()\n",
    "result.summary()"
   ]
  },
  {
   "cell_type": "code",
   "execution_count": 22,
   "metadata": {
    "collapsed": false
   },
   "outputs": [
    {
     "name": "stdout",
     "output_type": "stream",
     "text": [
      "Optimization terminated successfully.    (Exit mode 0)\n",
      "            Current function value: 0.019423702309360164\n",
      "            Iterations: 37\n",
      "            Function evaluations: 38\n",
      "            Gradient evaluations: 37\n"
     ]
    },
    {
     "data": {
      "text/html": [
       "<table class=\"simpletable\">\n",
       "<caption>MNLogit Regression Results</caption>\n",
       "<tr>\n",
       "  <th>Dep. Variable:</th>         <td>y</td>        <th>  No. Observations:  </th>  <td>  1372</td> \n",
       "</tr>\n",
       "<tr>\n",
       "  <th>Model:</th>              <td>MNLogit</td>     <th>  Df Residuals:      </th>  <td>  1368</td> \n",
       "</tr>\n",
       "<tr>\n",
       "  <th>Method:</th>               <td>MLE</td>       <th>  Df Model:          </th>  <td>     3</td> \n",
       "</tr>\n",
       "<tr>\n",
       "  <th>Date:</th>          <td>Fri, 28 Apr 2017</td> <th>  Pseudo R-squ.:     </th>  <td>0.9717</td> \n",
       "</tr>\n",
       "<tr>\n",
       "  <th>Time:</th>              <td>00:25:13</td>     <th>  Log-Likelihood:    </th> <td> -26.649</td>\n",
       "</tr>\n",
       "<tr>\n",
       "  <th>converged:</th>           <td>True</td>       <th>  LL-Null:           </th> <td> -942.56</td>\n",
       "</tr>\n",
       "<tr>\n",
       "  <th> </th>                      <td> </td>        <th>  LLR p-value:       </th>  <td> 0.000</td> \n",
       "</tr>\n",
       "</table>\n",
       "<table class=\"simpletable\">\n",
       "<tr>\n",
       "  <th>y=type[real]</th>    <th>coef</th>     <th>std err</th>      <th>z</th>      <th>P>|z|</th>  <th>[0.025</th>    <th>0.975]</th>  \n",
       "</tr>\n",
       "<tr>\n",
       "  <th>Intercept</th>    <td>    6.8850</td> <td>    1.384</td> <td>    4.975</td> <td> 0.000</td> <td>    4.173</td> <td>    9.597</td>\n",
       "</tr>\n",
       "<tr>\n",
       "  <th>kurtosis</th>     <td>   -4.4642</td> <td>    0.901</td> <td>   -4.957</td> <td> 0.000</td> <td>   -6.229</td> <td>   -2.699</td>\n",
       "</tr>\n",
       "<tr>\n",
       "  <th>skewness</th>     <td>   -3.5067</td> <td>    0.693</td> <td>   -5.059</td> <td> 0.000</td> <td>   -4.865</td> <td>   -2.148</td>\n",
       "</tr>\n",
       "<tr>\n",
       "  <th>variance</th>     <td>   -6.7836</td> <td>    1.395</td> <td>   -4.863</td> <td> 0.000</td> <td>   -9.518</td> <td>   -4.049</td>\n",
       "</tr>\n",
       "</table>"
      ],
      "text/plain": [
       "<class 'statsmodels.iolib.summary.Summary'>\n",
       "\"\"\"\n",
       "                          MNLogit Regression Results                          \n",
       "==============================================================================\n",
       "Dep. Variable:                      y   No. Observations:                 1372\n",
       "Model:                        MNLogit   Df Residuals:                     1368\n",
       "Method:                           MLE   Df Model:                            3\n",
       "Date:                Fri, 28 Apr 2017   Pseudo R-squ.:                  0.9717\n",
       "Time:                        00:25:13   Log-Likelihood:                -26.649\n",
       "converged:                       True   LL-Null:                       -942.56\n",
       "                                        LLR p-value:                     0.000\n",
       "================================================================================\n",
       "y=type[real]       coef    std err          z      P>|z|      [0.025      0.975]\n",
       "--------------------------------------------------------------------------------\n",
       "Intercept        6.8850      1.384      4.975      0.000       4.173       9.597\n",
       "kurtosis        -4.4642      0.901     -4.957      0.000      -6.229      -2.699\n",
       "skewness        -3.5067      0.693     -5.059      0.000      -4.865      -2.148\n",
       "variance        -6.7836      1.395     -4.863      0.000      -9.518      -4.049\n",
       "================================================================================\n",
       "\"\"\""
      ]
     },
     "execution_count": 22,
     "metadata": {},
     "output_type": "execute_result"
    }
   ],
   "source": [
    "model = sm.mnlogit(formula='type ~ kurtosis + skewness + variance', data=data_df)\n",
    "result = model.fit_regularized()\n",
    "result.summary()"
   ]
  },
  {
   "cell_type": "code",
   "execution_count": 27,
   "metadata": {
    "collapsed": false
   },
   "outputs": [],
   "source": [
    "from sklearn.model_selection import StratifiedKFold\n",
    "from sklearn.metrics import f1_score\n",
    "\n",
    "fold = StratifiedKFold(n_splits=5, shuffle=True)"
   ]
  },
  {
   "cell_type": "code",
   "execution_count": 51,
   "metadata": {
    "collapsed": false
   },
   "outputs": [
    {
     "name": "stdout",
     "output_type": "stream",
     "text": [
      "Optimization terminated successfully.    (Exit mode 0)\n",
      "            Current function value: 0.018791758284944213\n",
      "            Iterations: 38\n",
      "            Function evaluations: 39\n",
      "            Gradient evaluations: 38\n",
      "Optimization terminated successfully.    (Exit mode 0)\n",
      "            Current function value: 0.02144646670917154\n",
      "            Iterations: 36\n",
      "            Function evaluations: 38\n",
      "            Gradient evaluations: 36\n",
      "Optimization terminated successfully.    (Exit mode 0)\n",
      "            Current function value: 0.020630208801113218\n",
      "            Iterations: 38\n",
      "            Function evaluations: 39\n",
      "            Gradient evaluations: 38\n",
      "Optimization terminated successfully.    (Exit mode 0)\n",
      "            Current function value: 0.016672272743164355\n",
      "            Iterations: 37\n",
      "            Function evaluations: 38\n",
      "            Gradient evaluations: 37\n",
      "Optimization terminated successfully.    (Exit mode 0)\n",
      "            Current function value: 0.01844163066723348\n",
      "            Iterations: 37\n",
      "            Function evaluations: 39\n",
      "            Gradient evaluations: 37\n"
     ]
    }
   ],
   "source": [
    "cv_results = []\n",
    "labels = ['real', 'fake']\n",
    "\n",
    "for train_idx, test_idx in fold.split(data_df['type'], data_df['type']):\n",
    "    \n",
    "    model = sm.mnlogit(formula='type ~ kurtosis + skewness + variance', data=data_df.iloc[train_idx])\n",
    "    result = model.fit_regularized()\n",
    "    test_df = data_df.iloc[test_idx].drop('type', axis=1)\n",
    "\n",
    "    predicted = model.predict(params=result.params, exog=test_df)\n",
    "    predicted_df = pd.DataFrame(predicted, index=test_df.index)\n",
    "    predicted_result = predicted_df.apply(lambda v: labels[np.argmax(v)], axis=1)\n",
    "    \n",
    "    cv_result = pd.concat([predicted_result, data_df['type'].iloc[test_idx]], axis=1, keys=['predicted', 'actual'])\n",
    "    \n",
    "    cv_results.append(cv_result)    \n",
    "   "
   ]
  },
  {
   "cell_type": "code",
   "execution_count": 52,
   "metadata": {
    "collapsed": false
   },
   "outputs": [
    {
     "data": {
      "image/png": "[encoded data removed]",
      "text/plain": [
       "<matplotlib.figure.Figure at 0x245ed8f44e0>"
      ]
     },
     "metadata": {},
     "output_type": "display_data"
    },
    {
     "data": {
      "image/png": "[encoded data removed]",
      "text/plain": [
       "<matplotlib.figure.Figure at 0x245ed89aba8>"
      ]
     },
     "metadata": {},
     "output_type": "display_data"
    },
    {
     "data": {
      "image/png": "[encoded data removed]",
      "text/plain": [
       "<matplotlib.figure.Figure at 0x245eed396a0>"
      ]
     },
     "metadata": {},
     "output_type": "display_data"
    },
    {
     "data": {
      "image/png": "[encoded data removed]",
      "text/plain": [
       "<matplotlib.figure.Figure at 0x245eedf1be0>"
      ]
     },
     "metadata": {},
     "output_type": "display_data"
    },
    {
     "data": {
      "image/png": "[encoded data removed]",
      "text/plain": [
       "<matplotlib.figure.Figure at 0x245eeea48d0>"
      ]
     },
     "metadata": {},
     "output_type": "display_data"
    }
   ],
   "source": [
    "from sklearn.metrics import confusion_matrix\n",
    "\n",
    "for r in cv_results:\n",
    "    pylab.figure()\n",
    "    c = confusion_matrix(r['actual'], r['predicted'])\n",
    "    sns.heatmap(c, annot=True)\n"
   ]
  },
  {
   "cell_type": "code",
   "execution_count": 53,
   "metadata": {
    "collapsed": false
   },
   "outputs": [],
   "source": [
    "f1_scores = [f1_score(r['actual'], r['predicted'], average='macro') for r in cv_results]\n",
    "    "
   ]
  },
  {
   "cell_type": "code",
   "execution_count": 54,
   "metadata": {
    "collapsed": false
   },
   "outputs": [
    {
     "data": {
      "text/plain": [
       "<matplotlib.axes._subplots.AxesSubplot at 0x245eebec978>"
      ]
     },
     "execution_count": 54,
     "metadata": {},
     "output_type": "execute_result"
    },
    {
     "data": {
      "image/png": "[encoded data removed]",
      "text/plain": [
       "<matplotlib.figure.Figure at 0x245eef65d68>"
      ]
     },
     "metadata": {},
     "output_type": "display_data"
    }
   ],
   "source": [
    "pd.Series(f1_scores).plot(kind='bar')"
   ]
  },
  {
   "cell_type": "code",
   "execution_count": 57,
   "metadata": {
    "collapsed": false
   },
   "outputs": [],
   "source": [
    "from sklearn.model_selection import cross_val_score\n",
    "from sklearn.naive_bayes import GaussianNB\n"
   ]
  },
  {
   "cell_type": "code",
   "execution_count": 60,
   "metadata": {
    "collapsed": true
   },
   "outputs": [],
   "source": [
    "estimator = GaussianNB()\n",
    "\n",
    "features_df = data_df.drop('type', axis=1)\n",
    "labels = data_df['type']\n",
    "scores = cross_val_score(estimator, features_df, labels, cv=5, scoring='f1_macro')"
   ]
  },
  {
   "cell_type": "code",
   "execution_count": 61,
   "metadata": {
    "collapsed": false
   },
   "outputs": [
    {
     "data": {
      "text/plain": [
       "<matplotlib.axes._subplots.AxesSubplot at 0x245eeeaf9b0>"
      ]
     },
     "execution_count": 61,
     "metadata": {},
     "output_type": "execute_result"
    },
    {
     "data": {
      "image/png": "[encoded data removed]",
      "text/plain": [
       "<matplotlib.figure.Figure at 0x245ee926e10>"
      ]
     },
     "metadata": {},
     "output_type": "display_data"
    }
   ],
   "source": [
    "pd.Series(scores).plot(kind='bar')"
   ]
  },
  {
   "cell_type": "code",
   "execution_count": 64,
   "metadata": {
    "collapsed": true
   },
   "outputs": [],
   "source": [
    "estimator = GaussianNB()\n",
    "\n",
    "features_df = data_df.drop(['type', 'entropy'], axis=1)\n",
    "labels = data_df['type']\n",
    "scores = cross_val_score(estimator, features_df, labels, cv=5, scoring='f1_macro')"
   ]
  },
  {
   "cell_type": "code",
   "execution_count": 65,
   "metadata": {
    "collapsed": false
   },
   "outputs": [
    {
     "data": {
      "text/plain": [
       "<matplotlib.axes._subplots.AxesSubplot at 0x245eeb880f0>"
      ]
     },
     "execution_count": 65,
     "metadata": {},
     "output_type": "execute_result"
    },
    {
     "data": {
      "image/png": "[encoded data removed]",
      "text/plain": [
       "<matplotlib.figure.Figure at 0x245eeba90f0>"
      ]
     },
     "metadata": {},
     "output_type": "display_data"
    }
   ],
   "source": [
    "pd.Series(scores).plot(kind='bar')"
   ]
  }
 ],
 "metadata": {
  "kernelspec": {
   "display_name": "Python 3",
   "language": "python",
   "name": "python3"
  },
  "language_info": {
   "codemirror_mode": {
    "name": "ipython",
    "version": 3
   },
   "file_extension": ".py",
   "mimetype": "text/x-python",
   "name": "python",
   "nbconvert_exporter": "python",
   "pygments_lexer": "ipython3",
   "version": "3.5.3"
  }
 },
 "nbformat": 4,
 "nbformat_minor": 2
}
