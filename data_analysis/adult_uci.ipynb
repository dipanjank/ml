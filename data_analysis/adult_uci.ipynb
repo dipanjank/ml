{
 "cells": [
  {
   "cell_type": "markdown",
   "metadata": {},
   "source": [
    "# Adult Incomes - UCI\n",
    "\n",
    "Analysis of the UCI Adult Incomes classification dataset."
   ]
  },
  {
   "cell_type": "code",
   "execution_count": 1,
   "metadata": {},
   "outputs": [
    {
     "name": "stdout",
     "output_type": "stream",
     "text": [
      "Populating the interactive namespace from numpy and matplotlib\n"
     ]
    }
   ],
   "source": [
    "%pylab inline\n",
    "pylab.style.use('ggplot')\n",
    "import pandas as pd\n",
    "import numpy as np\n",
    "import seaborn as sns"
   ]
  },
  {
   "cell_type": "markdown",
   "metadata": {},
   "source": [
    "# Getting the Data"
   ]
  },
  {
   "cell_type": "code",
   "execution_count": 3,
   "metadata": {},
   "outputs": [],
   "source": [
    "train_url = 'http://archive.ics.uci.edu/ml/machine-learning-databases/adult/adult.data'\n",
    "train_df = pd.read_csv(train_url, header=None)"
   ]
  },
  {
   "cell_type": "code",
   "execution_count": 4,
   "metadata": {},
   "outputs": [
    {
     "data": {
      "text/html": [
       "<div>\n",
       "<style>\n",
       "    .dataframe thead tr:only-child th {\n",
       "        text-align: right;\n",
       "    }\n",
       "\n",
       "    .dataframe thead th {\n",
       "        text-align: left;\n",
       "    }\n",
       "\n",
       "    .dataframe tbody tr th {\n",
       "        vertical-align: top;\n",
       "    }\n",
       "</style>\n",
       "<table border=\"1\" class=\"dataframe\">\n",
       "  <thead>\n",
       "    <tr style=\"text-align: right;\">\n",
       "      <th></th>\n",
       "      <th>0</th>\n",
       "      <th>1</th>\n",
       "      <th>2</th>\n",
       "      <th>3</th>\n",
       "      <th>4</th>\n",
       "      <th>5</th>\n",
       "      <th>6</th>\n",
       "      <th>7</th>\n",
       "      <th>8</th>\n",
       "      <th>9</th>\n",
       "      <th>10</th>\n",
       "      <th>11</th>\n",
       "      <th>12</th>\n",
       "      <th>13</th>\n",
       "      <th>14</th>\n",
       "    </tr>\n",
       "  </thead>\n",
       "  <tbody>\n",
       "    <tr>\n",
       "      <th>0</th>\n",
       "      <td>39</td>\n",
       "      <td>State-gov</td>\n",
       "      <td>77516</td>\n",
       "      <td>Bachelors</td>\n",
       "      <td>13</td>\n",
       "      <td>Never-married</td>\n",
       "      <td>Adm-clerical</td>\n",
       "      <td>Not-in-family</td>\n",
       "      <td>White</td>\n",
       "      <td>Male</td>\n",
       "      <td>2174</td>\n",
       "      <td>0</td>\n",
       "      <td>40</td>\n",
       "      <td>United-States</td>\n",
       "      <td>&lt;=50K</td>\n",
       "    </tr>\n",
       "    <tr>\n",
       "      <th>1</th>\n",
       "      <td>50</td>\n",
       "      <td>Self-emp-not-inc</td>\n",
       "      <td>83311</td>\n",
       "      <td>Bachelors</td>\n",
       "      <td>13</td>\n",
       "      <td>Married-civ-spouse</td>\n",
       "      <td>Exec-managerial</td>\n",
       "      <td>Husband</td>\n",
       "      <td>White</td>\n",
       "      <td>Male</td>\n",
       "      <td>0</td>\n",
       "      <td>0</td>\n",
       "      <td>13</td>\n",
       "      <td>United-States</td>\n",
       "      <td>&lt;=50K</td>\n",
       "    </tr>\n",
       "    <tr>\n",
       "      <th>2</th>\n",
       "      <td>38</td>\n",
       "      <td>Private</td>\n",
       "      <td>215646</td>\n",
       "      <td>HS-grad</td>\n",
       "      <td>9</td>\n",
       "      <td>Divorced</td>\n",
       "      <td>Handlers-cleaners</td>\n",
       "      <td>Not-in-family</td>\n",
       "      <td>White</td>\n",
       "      <td>Male</td>\n",
       "      <td>0</td>\n",
       "      <td>0</td>\n",
       "      <td>40</td>\n",
       "      <td>United-States</td>\n",
       "      <td>&lt;=50K</td>\n",
       "    </tr>\n",
       "    <tr>\n",
       "      <th>3</th>\n",
       "      <td>53</td>\n",
       "      <td>Private</td>\n",
       "      <td>234721</td>\n",
       "      <td>11th</td>\n",
       "      <td>7</td>\n",
       "      <td>Married-civ-spouse</td>\n",
       "      <td>Handlers-cleaners</td>\n",
       "      <td>Husband</td>\n",
       "      <td>Black</td>\n",
       "      <td>Male</td>\n",
       "      <td>0</td>\n",
       "      <td>0</td>\n",
       "      <td>40</td>\n",
       "      <td>United-States</td>\n",
       "      <td>&lt;=50K</td>\n",
       "    </tr>\n",
       "    <tr>\n",
       "      <th>4</th>\n",
       "      <td>28</td>\n",
       "      <td>Private</td>\n",
       "      <td>338409</td>\n",
       "      <td>Bachelors</td>\n",
       "      <td>13</td>\n",
       "      <td>Married-civ-spouse</td>\n",
       "      <td>Prof-specialty</td>\n",
       "      <td>Wife</td>\n",
       "      <td>Black</td>\n",
       "      <td>Female</td>\n",
       "      <td>0</td>\n",
       "      <td>0</td>\n",
       "      <td>40</td>\n",
       "      <td>Cuba</td>\n",
       "      <td>&lt;=50K</td>\n",
       "    </tr>\n",
       "  </tbody>\n",
       "</table>\n",
       "</div>"
      ],
      "text/plain": [
       "   0                  1       2           3   4                    5   \\\n",
       "0  39          State-gov   77516   Bachelors  13        Never-married   \n",
       "1  50   Self-emp-not-inc   83311   Bachelors  13   Married-civ-spouse   \n",
       "2  38            Private  215646     HS-grad   9             Divorced   \n",
       "3  53            Private  234721        11th   7   Married-civ-spouse   \n",
       "4  28            Private  338409   Bachelors  13   Married-civ-spouse   \n",
       "\n",
       "                   6               7       8        9     10  11  12  \\\n",
       "0        Adm-clerical   Not-in-family   White     Male  2174   0  40   \n",
       "1     Exec-managerial         Husband   White     Male     0   0  13   \n",
       "2   Handlers-cleaners   Not-in-family   White     Male     0   0  40   \n",
       "3   Handlers-cleaners         Husband   Black     Male     0   0  40   \n",
       "4      Prof-specialty            Wife   Black   Female     0   0  40   \n",
       "\n",
       "               13      14  \n",
       "0   United-States   <=50K  \n",
       "1   United-States   <=50K  \n",
       "2   United-States   <=50K  \n",
       "3   United-States   <=50K  \n",
       "4            Cuba   <=50K  "
      ]
     },
     "execution_count": 4,
     "metadata": {},
     "output_type": "execute_result"
    }
   ],
   "source": [
    "train_df.head()"
   ]
  },
  {
   "cell_type": "markdown",
   "metadata": {},
   "source": [
    "# Attribute Information"
   ]
  },
  {
   "cell_type": "markdown",
   "metadata": {},
   "source": [
    "    age: continuous.\n",
    "    workclass: Private, Self-emp-not-inc, Self-emp-inc, Federal-gov, Local-gov, State-gov, Without-pay, Never-worked.\n",
    "    fnlwgt: continuous.\n",
    "    education: Bachelors, Some-college, 11th, HS-grad, Prof-school, Assoc-acdm, Assoc-voc, 9th, 7th-8th, 12th, Masters, 1st-4th, 10th, Doctorate, 5th-6th, Preschool.\n",
    "    education-num: continuous.\n",
    "    marital-status: Married-civ-spouse, Divorced, Never-married, Separated, Widowed, Married-spouse-absent, Married-AF-spouse.\n",
    "    occupation: Tech-support, Craft-repair, Other-service, Sales, Exec-managerial, Prof-specialty, Handlers-cleaners, Machine-op-inspct, Adm-clerical, Farming-fishing, Transport-moving, Priv-house-serv, Protective-serv, Armed-Forces.\n",
    "    relationship: Wife, Own-child, Husband, Not-in-family, Other-relative, Unmarried.\n",
    "    race: White, Asian-Pac-Islander, Amer-Indian-Eskimo, Other, Black.\n",
    "    sex: Female, Male.\n",
    "    capital-gain: continuous.\n",
    "    capital-loss: continuous.\n",
    "    hours-per-week: continuous.\n",
    "    native-country: United-States, Cambodia, England, Puerto-Rico, Canada, Germany, Outlying-US(Guam-USVI-etc), India, Japan, Greece, South, China, Cuba, Iran, Honduras, Philippines, Italy, Poland, Jamaica, Vietnam, Mexico, Portugal, Ireland, France, Dominican-Republic, Laos, Ecuador, Taiwan, Haiti, Columbia, Hungary, Guatemala, Nicaragua, Scotland, Thailand, Yugoslavia, El-Salvador, Trinadad&Tobago, Peru, Hong, Holand-Netherlands."
   ]
  },
  {
   "cell_type": "code",
   "execution_count": 5,
   "metadata": {
    "collapsed": true
   },
   "outputs": [],
   "source": [
    "train_df.columns = ['age', 'workclass', 'fnlwgt', 'education', 'education_num',\n",
    "                   'marital_status', 'occupation', 'relationship', 'race', 'sex',\n",
    "                   'capital_gain', 'capital_loss', 'hours_per_week', 'native_country', 'income_band']"
   ]
  },
  {
   "cell_type": "code",
   "execution_count": 6,
   "metadata": {},
   "outputs": [
    {
     "data": {
      "text/html": [
       "<div>\n",
       "<style>\n",
       "    .dataframe thead tr:only-child th {\n",
       "        text-align: right;\n",
       "    }\n",
       "\n",
       "    .dataframe thead th {\n",
       "        text-align: left;\n",
       "    }\n",
       "\n",
       "    .dataframe tbody tr th {\n",
       "        vertical-align: top;\n",
       "    }\n",
       "</style>\n",
       "<table border=\"1\" class=\"dataframe\">\n",
       "  <thead>\n",
       "    <tr style=\"text-align: right;\">\n",
       "      <th></th>\n",
       "      <th>age</th>\n",
       "      <th>workclass</th>\n",
       "      <th>fnlwgt</th>\n",
       "      <th>education</th>\n",
       "      <th>education_num</th>\n",
       "      <th>marital_status</th>\n",
       "      <th>occupation</th>\n",
       "      <th>relationship</th>\n",
       "      <th>race</th>\n",
       "      <th>sex</th>\n",
       "      <th>capital_gain</th>\n",
       "      <th>capital_loss</th>\n",
       "      <th>hours_per_week</th>\n",
       "      <th>native_country</th>\n",
       "      <th>income_band</th>\n",
       "    </tr>\n",
       "  </thead>\n",
       "  <tbody>\n",
       "    <tr>\n",
       "      <th>0</th>\n",
       "      <td>39</td>\n",
       "      <td>State-gov</td>\n",
       "      <td>77516</td>\n",
       "      <td>Bachelors</td>\n",
       "      <td>13</td>\n",
       "      <td>Never-married</td>\n",
       "      <td>Adm-clerical</td>\n",
       "      <td>Not-in-family</td>\n",
       "      <td>White</td>\n",
       "      <td>Male</td>\n",
       "      <td>2174</td>\n",
       "      <td>0</td>\n",
       "      <td>40</td>\n",
       "      <td>United-States</td>\n",
       "      <td>&lt;=50K</td>\n",
       "    </tr>\n",
       "    <tr>\n",
       "      <th>1</th>\n",
       "      <td>50</td>\n",
       "      <td>Self-emp-not-inc</td>\n",
       "      <td>83311</td>\n",
       "      <td>Bachelors</td>\n",
       "      <td>13</td>\n",
       "      <td>Married-civ-spouse</td>\n",
       "      <td>Exec-managerial</td>\n",
       "      <td>Husband</td>\n",
       "      <td>White</td>\n",
       "      <td>Male</td>\n",
       "      <td>0</td>\n",
       "      <td>0</td>\n",
       "      <td>13</td>\n",
       "      <td>United-States</td>\n",
       "      <td>&lt;=50K</td>\n",
       "    </tr>\n",
       "    <tr>\n",
       "      <th>2</th>\n",
       "      <td>38</td>\n",
       "      <td>Private</td>\n",
       "      <td>215646</td>\n",
       "      <td>HS-grad</td>\n",
       "      <td>9</td>\n",
       "      <td>Divorced</td>\n",
       "      <td>Handlers-cleaners</td>\n",
       "      <td>Not-in-family</td>\n",
       "      <td>White</td>\n",
       "      <td>Male</td>\n",
       "      <td>0</td>\n",
       "      <td>0</td>\n",
       "      <td>40</td>\n",
       "      <td>United-States</td>\n",
       "      <td>&lt;=50K</td>\n",
       "    </tr>\n",
       "    <tr>\n",
       "      <th>3</th>\n",
       "      <td>53</td>\n",
       "      <td>Private</td>\n",
       "      <td>234721</td>\n",
       "      <td>11th</td>\n",
       "      <td>7</td>\n",
       "      <td>Married-civ-spouse</td>\n",
       "      <td>Handlers-cleaners</td>\n",
       "      <td>Husband</td>\n",
       "      <td>Black</td>\n",
       "      <td>Male</td>\n",
       "      <td>0</td>\n",
       "      <td>0</td>\n",
       "      <td>40</td>\n",
       "      <td>United-States</td>\n",
       "      <td>&lt;=50K</td>\n",
       "    </tr>\n",
       "    <tr>\n",
       "      <th>4</th>\n",
       "      <td>28</td>\n",
       "      <td>Private</td>\n",
       "      <td>338409</td>\n",
       "      <td>Bachelors</td>\n",
       "      <td>13</td>\n",
       "      <td>Married-civ-spouse</td>\n",
       "      <td>Prof-specialty</td>\n",
       "      <td>Wife</td>\n",
       "      <td>Black</td>\n",
       "      <td>Female</td>\n",
       "      <td>0</td>\n",
       "      <td>0</td>\n",
       "      <td>40</td>\n",
       "      <td>Cuba</td>\n",
       "      <td>&lt;=50K</td>\n",
       "    </tr>\n",
       "  </tbody>\n",
       "</table>\n",
       "</div>"
      ],
      "text/plain": [
       "   age          workclass  fnlwgt   education  education_num  \\\n",
       "0   39          State-gov   77516   Bachelors             13   \n",
       "1   50   Self-emp-not-inc   83311   Bachelors             13   \n",
       "2   38            Private  215646     HS-grad              9   \n",
       "3   53            Private  234721        11th              7   \n",
       "4   28            Private  338409   Bachelors             13   \n",
       "\n",
       "        marital_status          occupation    relationship    race      sex  \\\n",
       "0        Never-married        Adm-clerical   Not-in-family   White     Male   \n",
       "1   Married-civ-spouse     Exec-managerial         Husband   White     Male   \n",
       "2             Divorced   Handlers-cleaners   Not-in-family   White     Male   \n",
       "3   Married-civ-spouse   Handlers-cleaners         Husband   Black     Male   \n",
       "4   Married-civ-spouse      Prof-specialty            Wife   Black   Female   \n",
       "\n",
       "   capital_gain  capital_loss  hours_per_week  native_country income_band  \n",
       "0          2174             0              40   United-States       <=50K  \n",
       "1             0             0              13   United-States       <=50K  \n",
       "2             0             0              40   United-States       <=50K  \n",
       "3             0             0              40   United-States       <=50K  \n",
       "4             0             0              40            Cuba       <=50K  "
      ]
     },
     "execution_count": 6,
     "metadata": {},
     "output_type": "execute_result"
    }
   ],
   "source": [
    "train_df.head()"
   ]
  },
  {
   "cell_type": "markdown",
   "metadata": {},
   "source": [
    "# Check for Missing Data"
   ]
  },
  {
   "cell_type": "code",
   "execution_count": 7,
   "metadata": {},
   "outputs": [
    {
     "data": {
      "text/plain": [
       "age                int64\n",
       "workclass         object\n",
       "fnlwgt             int64\n",
       "education         object\n",
       "education_num      int64\n",
       "marital_status    object\n",
       "occupation        object\n",
       "relationship      object\n",
       "race              object\n",
       "sex               object\n",
       "capital_gain       int64\n",
       "capital_loss       int64\n",
       "hours_per_week     int64\n",
       "native_country    object\n",
       "income_band       object\n",
       "dtype: object"
      ]
     },
     "execution_count": 7,
     "metadata": {},
     "output_type": "execute_result"
    }
   ],
   "source": [
    "train_df.dtypes"
   ]
  },
  {
   "cell_type": "code",
   "execution_count": 8,
   "metadata": {},
   "outputs": [],
   "source": [
    "# Remove excess whitespace from strings\n",
    "nn_cols = train_df.dtypes[train_df.dtypes == np.object].index\n",
    "\n",
    "for c in nn_cols:\n",
    "    train_df.loc[:, c] = train_df.loc[:, c].str.strip()"
   ]
  },
  {
   "cell_type": "code",
   "execution_count": 9,
   "metadata": {},
   "outputs": [
    {
     "data": {
      "text/plain": [
       "<matplotlib.axes._subplots.AxesSubplot at 0x223f01b7b70>"
      ]
     },
     "execution_count": 9,
     "metadata": {},
     "output_type": "execute_result"
    },
    {
     "data": {
      "image/png": "[encoded data removed]",
      "text/plain": [
       "<matplotlib.figure.Figure at 0x223ec9fd1d0>"
      ]
     },
     "metadata": {},
     "output_type": "display_data"
    }
   ],
   "source": [
    "# Missing values per column\n",
    "train_df.loc[:, nn_cols].isin(['?']).sum(axis=0).plot(kind='barh')"
   ]
  },
  {
   "cell_type": "code",
   "execution_count": 10,
   "metadata": {},
   "outputs": [],
   "source": [
    "# Drop rows with missing data\n",
    "n_missing_per_row = train_df.loc[:, nn_cols].isin(['?']).sum(axis=1)\n",
    "train_df_full = train_df.loc[n_missing_per_row.isin([0]), :]"
   ]
  },
  {
   "cell_type": "code",
   "execution_count": 11,
   "metadata": {},
   "outputs": [
    {
     "data": {
      "text/plain": [
       "age               0\n",
       "workclass         0\n",
       "fnlwgt            0\n",
       "education         0\n",
       "education_num     0\n",
       "marital_status    0\n",
       "occupation        0\n",
       "relationship      0\n",
       "race              0\n",
       "sex               0\n",
       "capital_gain      0\n",
       "capital_loss      0\n",
       "hours_per_week    0\n",
       "native_country    0\n",
       "income_band       0\n",
       "dtype: int64"
      ]
     },
     "execution_count": 11,
     "metadata": {},
     "output_type": "execute_result"
    }
   ],
   "source": [
    "train_df_full.isin(['?']).sum(axis=0)"
   ]
  },
  {
   "cell_type": "markdown",
   "metadata": {},
   "source": [
    "# Check for Class Imbalance"
   ]
  },
  {
   "cell_type": "code",
   "execution_count": 12,
   "metadata": {},
   "outputs": [
    {
     "data": {
      "text/plain": [
       "<matplotlib.axes._subplots.AxesSubplot at 0x223f14556a0>"
      ]
     },
     "execution_count": 12,
     "metadata": {},
     "output_type": "execute_result"
    },
    {
     "data": {
      "image/png": "[encoded data removed]",
      "text/plain": [
       "<matplotlib.figure.Figure at 0x223f1258fd0>"
      ]
     },
     "metadata": {},
     "output_type": "display_data"
    }
   ],
   "source": [
    "train_df_full.income_band.value_counts().plot(kind='barh')"
   ]
  },
  {
   "cell_type": "markdown",
   "metadata": {},
   "source": [
    "# Bivariate Analysis\n",
    "\n",
    "## Numeric Features"
   ]
  },
  {
   "cell_type": "code",
   "execution_count": 13,
   "metadata": {},
   "outputs": [
    {
     "data": {
      "text/plain": [
       "age                int64\n",
       "workclass         object\n",
       "fnlwgt             int64\n",
       "education         object\n",
       "education_num      int64\n",
       "marital_status    object\n",
       "occupation        object\n",
       "relationship      object\n",
       "race              object\n",
       "sex               object\n",
       "capital_gain       int64\n",
       "capital_loss       int64\n",
       "hours_per_week     int64\n",
       "native_country    object\n",
       "income_band       object\n",
       "dtype: object"
      ]
     },
     "execution_count": 13,
     "metadata": {},
     "output_type": "execute_result"
    }
   ],
   "source": [
    "train_df_full.dtypes"
   ]
  },
  {
   "cell_type": "code",
   "execution_count": 14,
   "metadata": {},
   "outputs": [
    {
     "data": {
      "image/png": "[encoded data removed]",
      "text/plain": [
       "<matplotlib.figure.Figure at 0x223f16f5400>"
      ]
     },
     "metadata": {},
     "output_type": "display_data"
    },
    {
     "data": {
      "image/png": "[encoded data removed]",
      "text/plain": [
       "<matplotlib.figure.Figure at 0x223f1c00dd8>"
      ]
     },
     "metadata": {},
     "output_type": "display_data"
    },
    {
     "data": {
      "image/png": "[encoded data removed]",
      "text/plain": [
       "<matplotlib.figure.Figure at 0x223f1ccdb00>"
      ]
     },
     "metadata": {},
     "output_type": "display_data"
    },
    {
     "data": {
      "image/png": "[encoded data removed]",
      "text/plain": [
       "<matplotlib.figure.Figure at 0x223f1f050f0>"
      ]
     },
     "metadata": {},
     "output_type": "display_data"
    },
    {
     "data": {
      "image/png": "[encoded data removed]",
      "text/plain": [
       "<matplotlib.figure.Figure at 0x223f1ea6748>"
      ]
     },
     "metadata": {},
     "output_type": "display_data"
    },
    {
     "data": {
      "image/png": "[encoded data removed]",
      "text/plain": [
       "<matplotlib.figure.Figure at 0x223f3433780>"
      ]
     },
     "metadata": {},
     "output_type": "display_data"
    }
   ],
   "source": [
    "num_cols = train_df_full.dtypes[train_df_full.dtypes == np.int64].index\n",
    "\n",
    "for n_col in num_cols:\n",
    "    g_col = sns.FacetGrid(col='income_band', data=train_df_full)\n",
    "    g_col = g_col.map(pylab.hist, n_col)"
   ]
  },
  {
   "cell_type": "markdown",
   "metadata": {},
   "source": [
    "## Bivariate Features"
   ]
  },
  {
   "cell_type": "code",
   "execution_count": 15,
   "metadata": {},
   "outputs": [
    {
     "data": {
      "image/png": "[encoded data removed]",
      "text/plain": [
       "<matplotlib.figure.Figure at 0x223f3498f98>"
      ]
     },
     "metadata": {},
     "output_type": "display_data"
    }
   ],
   "source": [
    "obj_cols = train_df_full.dtypes[train_df_full.dtypes == np.object].index\n",
    "\n",
    "_, axes = pylab.subplots(len(obj_cols)-1, 1, figsize=(10, 20))\n",
    "\n",
    "for i, colname in enumerate(obj_cols.drop('income_band')):\n",
    "    sns.countplot(x=train_df_full[colname], \n",
    "                  hue=train_df_full.income_band, \n",
    "                  ax=axes[i]\n",
    "                 )\n",
    "    \n",
    "pylab.tight_layout()"
   ]
  },
  {
   "cell_type": "markdown",
   "metadata": {},
   "source": [
    "# Feature Correlations"
   ]
  },
  {
   "cell_type": "code",
   "execution_count": 16,
   "metadata": {},
   "outputs": [
    {
     "data": {
      "text/plain": [
       "<matplotlib.axes._subplots.AxesSubplot at 0x223f380f6a0>"
      ]
     },
     "execution_count": 16,
     "metadata": {},
     "output_type": "execute_result"
    },
    {
     "data": {
      "image/png": "[encoded data removed]",
      "text/plain": [
       "<matplotlib.figure.Figure at 0x223f37c03c8>"
      ]
     },
     "metadata": {},
     "output_type": "display_data"
    }
   ],
   "source": [
    "num_cols = train_df_full.dtypes[train_df_full.dtypes == np.int64].index\n",
    "\n",
    "num_features = train_df_full.loc[:, num_cols]\n",
    "f_corrs = num_features.corr()\n",
    "\n",
    "sns.heatmap(f_corrs, annot=True)"
   ]
  },
  {
   "cell_type": "markdown",
   "metadata": {},
   "source": [
    "# Modeling\n",
    "\n",
    "## Baseline\n",
    "\n",
    "We want our machine learning model to do better than classifying everything as the major class. "
   ]
  },
  {
   "cell_type": "code",
   "execution_count": 26,
   "metadata": {},
   "outputs": [
    {
     "data": {
      "text/plain": [
       "<=50K    22654\n",
       ">50K      7508\n",
       "Name: income_band, dtype: int64"
      ]
     },
     "execution_count": 26,
     "metadata": {},
     "output_type": "execute_result"
    }
   ],
   "source": [
    "n_samples = train_df_full.shape[0]\n",
    "label_counts = train_df_full.income_band.value_counts()\n",
    "label_counts"
   ]
  },
  {
   "cell_type": "markdown",
   "metadata": {},
   "source": [
    "So assuming our naive baseline model predicts the income band for all samples as '<=50K':"
   ]
  },
  {
   "cell_type": "code",
   "execution_count": 31,
   "metadata": {},
   "outputs": [
    {
     "data": {
      "text/plain": [
       "0.75107751475366358"
      ]
     },
     "execution_count": 31,
     "metadata": {},
     "output_type": "execute_result"
    }
   ],
   "source": [
    "accuracy = label_counts['<=50K'] / label_counts.sum()\n",
    "accuracy"
   ]
  },
  {
   "cell_type": "code",
   "execution_count": 36,
   "metadata": {},
   "outputs": [
    {
     "data": {
      "text/plain": [
       "0.85784610724023025"
      ]
     },
     "execution_count": 36,
     "metadata": {},
     "output_type": "execute_result"
    }
   ],
   "source": [
    "precision = label_counts['<=50K'] / label_counts.sum() # precision = TP / (TP + FP)\n",
    "recall = 1.0 # recall = TP/(TP + FN), here FN=0\n",
    "f1_score = (2.0 * precision * recall) / (precision + recall)\n",
    "f1_score"
   ]
  },
  {
   "cell_type": "code",
   "execution_count": 35,
   "metadata": {},
   "outputs": [
    {
     "name": "stdout",
     "output_type": "stream",
     "text": [
      "             precision    recall  f1-score   support\n",
      "\n",
      "      <=50K       0.75      1.00      0.86     22654\n",
      "       >50K       0.00      0.00      0.00      7508\n",
      "\n",
      "avg / total       0.56      0.75      0.64     30162\n",
      "\n"
     ]
    },
    {
     "name": "stderr",
     "output_type": "stream",
     "text": [
      "d:\\Anaconda3\\envs\\latest\\lib\\site-packages\\sklearn\\metrics\\classification.py:1113: UndefinedMetricWarning: Precision and F-score are ill-defined and being set to 0.0 in labels with no predicted samples.\n",
      "  'precision', 'predicted', average, warn_for)\n"
     ]
    }
   ],
   "source": [
    "from sklearn.metrics import classification_report\n",
    "\n",
    "scores = pd.Series(index=train_df_full.index, data='<=50K')\n",
    "print(classification_report(train_df_full.income_band, scores))"
   ]
  },
  {
   "cell_type": "markdown",
   "metadata": {},
   "source": [
    "## SVM with Only the Numerical Features\n",
    "\n",
    "Next, we iteratively build an SVM, first on the numerical features and then the categorical features."
   ]
  },
  {
   "cell_type": "code",
   "execution_count": 67,
   "metadata": {},
   "outputs": [],
   "source": [
    "from sklearn.model_selection import cross_val_score\n",
    "from sklearn.pipeline import make_pipeline\n",
    "from sklearn.preprocessing import StandardScaler\n",
    "from sklearn.svm import SVC\n",
    "from sklearn.ensemble import BaggingClassifier\n",
    "from sklearn.metrics import classification_report, accuracy_score, f1_score\n",
    "from IPython.display import display"
   ]
  },
  {
   "cell_type": "code",
   "execution_count": 68,
   "metadata": {},
   "outputs": [],
   "source": [
    "def cross_validation_score(features, labels, C=1000, scoring='f1_macro'):\n",
    "    \"\"\"\n",
    "    Build an SVM with the Radial Basis Kernel and return cross-validation scores.\n",
    "    \n",
    "    Use a `BaggingClassifier` to construct an ensemble of SVMs on a subset of samples for all features. This speeds up the \n",
    "    training phase considerably, and also acts as a regularizer.\n",
    "    \"\"\"\n",
    "    base = SVC(C=C, kernel='rbf')\n",
    "    model = BaggingClassifier(base_estimator=base, n_estimators=20, max_samples=0.05)\n",
    "    prep = StandardScaler()\n",
    "    estimator = make_pipeline(prep, model)\n",
    "    \n",
    "    scores = cross_val_score(estimator=estimator, \n",
    "                             X=features, \n",
    "                             y=labels, \n",
    "                             cv=10,\n",
    "                             verbose=10,\n",
    "                            scoring=scoring)\n",
    "\n",
    "    scores = pd.Series(scores)\n",
    "    return scores"
   ]
  },
  {
   "cell_type": "code",
   "execution_count": 25,
   "metadata": {},
   "outputs": [
    {
     "name": "stdout",
     "output_type": "stream",
     "text": [
      "[CV]  ................................................................\n",
      "[CV] ................................. , score=0.697848, total=  46.9s\n",
      "[CV]  ................................................................\n"
     ]
    },
    {
     "name": "stderr",
     "output_type": "stream",
     "text": [
      "[Parallel(n_jobs=1)]: Done   1 out of   1 | elapsed:   46.9s remaining:    0.0s\n"
     ]
    },
    {
     "name": "stdout",
     "output_type": "stream",
     "text": [
      "[CV] ................................. , score=0.700353, total=  55.2s\n",
      "[CV]  ................................................................\n"
     ]
    },
    {
     "name": "stderr",
     "output_type": "stream",
     "text": [
      "[Parallel(n_jobs=1)]: Done   2 out of   2 | elapsed:  1.7min remaining:    0.0s\n"
     ]
    },
    {
     "name": "stdout",
     "output_type": "stream",
     "text": [
      "[CV] ................................. , score=0.702018, total=  48.6s\n",
      "[CV]  ................................................................\n"
     ]
    },
    {
     "name": "stderr",
     "output_type": "stream",
     "text": [
      "[Parallel(n_jobs=1)]: Done   3 out of   3 | elapsed:  2.5min remaining:    0.0s\n"
     ]
    },
    {
     "name": "stdout",
     "output_type": "stream",
     "text": [
      "[CV] ................................. , score=0.709784, total=  47.5s\n",
      "[CV]  ................................................................\n"
     ]
    },
    {
     "name": "stderr",
     "output_type": "stream",
     "text": [
      "[Parallel(n_jobs=1)]: Done   4 out of   4 | elapsed:  3.3min remaining:    0.0s\n"
     ]
    },
    {
     "name": "stdout",
     "output_type": "stream",
     "text": [
      "[CV] ................................. , score=0.691489, total=  49.7s\n",
      "[CV]  ................................................................\n"
     ]
    },
    {
     "name": "stderr",
     "output_type": "stream",
     "text": [
      "[Parallel(n_jobs=1)]: Done   5 out of   5 | elapsed:  4.1min remaining:    0.0s\n"
     ]
    },
    {
     "name": "stdout",
     "output_type": "stream",
     "text": [
      "[CV] ................................. , score=0.707278, total=  45.5s\n",
      "[CV]  ................................................................\n"
     ]
    },
    {
     "name": "stderr",
     "output_type": "stream",
     "text": [
      "[Parallel(n_jobs=1)]: Done   6 out of   6 | elapsed:  4.9min remaining:    0.0s\n"
     ]
    },
    {
     "name": "stdout",
     "output_type": "stream",
     "text": [
      "[CV] ................................. , score=0.688040, total=  47.3s\n",
      "[CV]  ................................................................\n"
     ]
    },
    {
     "name": "stderr",
     "output_type": "stream",
     "text": [
      "[Parallel(n_jobs=1)]: Done   7 out of   7 | elapsed:  5.7min remaining:    0.0s\n"
     ]
    },
    {
     "name": "stdout",
     "output_type": "stream",
     "text": [
      "[CV] ................................. , score=0.722436, total=  51.4s\n",
      "[CV]  ................................................................\n"
     ]
    },
    {
     "name": "stderr",
     "output_type": "stream",
     "text": [
      "[Parallel(n_jobs=1)]: Done   8 out of   8 | elapsed:  6.5min remaining:    0.0s\n"
     ]
    },
    {
     "name": "stdout",
     "output_type": "stream",
     "text": [
      "[CV] ................................. , score=0.714710, total=  53.7s\n",
      "[CV]  ................................................................\n"
     ]
    },
    {
     "name": "stderr",
     "output_type": "stream",
     "text": [
      "[Parallel(n_jobs=1)]: Done   9 out of   9 | elapsed:  7.4min remaining:    0.0s\n"
     ]
    },
    {
     "name": "stdout",
     "output_type": "stream",
     "text": [
      "[CV] ................................. , score=0.717223, total=  50.1s\n"
     ]
    },
    {
     "name": "stderr",
     "output_type": "stream",
     "text": [
      "[Parallel(n_jobs=1)]: Done  10 out of  10 | elapsed:  8.3min finished\n"
     ]
    },
    {
     "data": {
      "text/plain": [
       "<matplotlib.axes._subplots.AxesSubplot at 0x223f386a908>"
      ]
     },
     "execution_count": 25,
     "metadata": {},
     "output_type": "execute_result"
    },
    {
     "data": {
      "image/png": "[encoded data removed]",
      "text/plain": [
       "<matplotlib.figure.Figure at 0x223f386ea58>"
      ]
     },
     "metadata": {},
     "output_type": "display_data"
    }
   ],
   "source": [
    "num_only_scores = cross_validation_score(\n",
    "    features=num_features, \n",
    "    labels=train_df_full.income_band)\n",
    "\n",
    "num_only_scores.plot(kind='bar', \n",
    "                     title='10-Fold CV scores for numeric only features.')"
   ]
  },
  {
   "cell_type": "code",
   "execution_count": 33,
   "metadata": {},
   "outputs": [
    {
     "data": {
      "text/plain": [
       "0.7051179246753663"
      ]
     },
     "execution_count": 33,
     "metadata": {},
     "output_type": "execute_result"
    }
   ],
   "source": [
    "num_only_scores.mean()"
   ]
  },
  {
   "cell_type": "markdown",
   "metadata": {},
   "source": [
    "# SVM with One-Hot Encoded Features"
   ]
  },
  {
   "cell_type": "code",
   "execution_count": 37,
   "metadata": {},
   "outputs": [],
   "source": [
    "from sklearn.preprocessing import MultiLabelBinarizer\n",
    "\n",
    "def encode_one_hot(source, target, feature_name):\n",
    "    \"\"\"\n",
    "    One-hot encode categorical feature `feature_name` in `source` DataFrame, and append it to `target`.\n",
    "    \"\"\"\n",
    "    labels = sorted(pd.unique(source.loc[:, feature_name]))\n",
    "    encoder = MultiLabelBinarizer(classes=labels)\n",
    "    \n",
    "    raw = np.atleast_2d(train_df_full.loc[:, feature_name].values).T\n",
    "    encoded_df = pd.DataFrame(index=source.index, data=encoder.fit_transform(raw))\n",
    "    encoded_df.columns = [feature_name + '_' + str(c) for c in encoded_df.columns]\n",
    "    \n",
    "    return pd.concat([target, encoded_df], axis=1)"
   ]
  },
  {
   "cell_type": "code",
   "execution_count": 39,
   "metadata": {},
   "outputs": [],
   "source": [
    "numeric_plus_occupation = encode_one_hot(train_df_full, num_features, 'occupation')"
   ]
  },
  {
   "cell_type": "code",
   "execution_count": 43,
   "metadata": {},
   "outputs": [
    {
     "name": "stdout",
     "output_type": "stream",
     "text": [
      "[CV]  ................................................................\n",
      "[CV] ................................. , score=0.701795, total=  20.3s\n",
      "[CV]  ................................................................\n"
     ]
    },
    {
     "name": "stderr",
     "output_type": "stream",
     "text": [
      "[Parallel(n_jobs=1)]: Done   1 out of   1 | elapsed:   20.3s remaining:    0.0s\n"
     ]
    },
    {
     "name": "stdout",
     "output_type": "stream",
     "text": [
      "[CV] ................................. , score=0.707776, total=  19.8s\n",
      "[CV]  ................................................................\n"
     ]
    },
    {
     "name": "stderr",
     "output_type": "stream",
     "text": [
      "[Parallel(n_jobs=1)]: Done   2 out of   2 | elapsed:   40.2s remaining:    0.0s\n"
     ]
    },
    {
     "name": "stdout",
     "output_type": "stream",
     "text": [
      "[CV] ................................. , score=0.708123, total=  20.7s\n",
      "[CV]  ................................................................\n"
     ]
    },
    {
     "name": "stderr",
     "output_type": "stream",
     "text": [
      "[Parallel(n_jobs=1)]: Done   3 out of   3 | elapsed:  1.0min remaining:    0.0s\n"
     ]
    },
    {
     "name": "stdout",
     "output_type": "stream",
     "text": [
      "[CV] ................................. , score=0.708687, total=  18.6s\n",
      "[CV]  ................................................................\n"
     ]
    },
    {
     "name": "stderr",
     "output_type": "stream",
     "text": [
      "[Parallel(n_jobs=1)]: Done   4 out of   4 | elapsed:  1.3min remaining:    0.0s\n"
     ]
    },
    {
     "name": "stdout",
     "output_type": "stream",
     "text": [
      "[CV] ................................. , score=0.718072, total=  18.5s\n",
      "[CV]  ................................................................\n"
     ]
    },
    {
     "name": "stderr",
     "output_type": "stream",
     "text": [
      "[Parallel(n_jobs=1)]: Done   5 out of   5 | elapsed:  1.6min remaining:    0.0s\n"
     ]
    },
    {
     "name": "stdout",
     "output_type": "stream",
     "text": [
      "[CV] ................................. , score=0.701730, total=  19.5s\n",
      "[CV]  ................................................................\n"
     ]
    },
    {
     "name": "stderr",
     "output_type": "stream",
     "text": [
      "[Parallel(n_jobs=1)]: Done   6 out of   6 | elapsed:  2.0min remaining:    0.0s\n"
     ]
    },
    {
     "name": "stdout",
     "output_type": "stream",
     "text": [
      "[CV] ................................. , score=0.699243, total=  19.5s\n",
      "[CV]  ................................................................\n"
     ]
    },
    {
     "name": "stderr",
     "output_type": "stream",
     "text": [
      "[Parallel(n_jobs=1)]: Done   7 out of   7 | elapsed:  2.3min remaining:    0.0s\n"
     ]
    },
    {
     "name": "stdout",
     "output_type": "stream",
     "text": [
      "[CV] ................................. , score=0.725242, total=  19.9s\n",
      "[CV]  ................................................................\n"
     ]
    },
    {
     "name": "stderr",
     "output_type": "stream",
     "text": [
      "[Parallel(n_jobs=1)]: Done   8 out of   8 | elapsed:  2.6min remaining:    0.0s\n"
     ]
    },
    {
     "name": "stdout",
     "output_type": "stream",
     "text": [
      "[CV] ................................. , score=0.719062, total=  18.8s\n",
      "[CV]  ................................................................\n"
     ]
    },
    {
     "name": "stderr",
     "output_type": "stream",
     "text": [
      "[Parallel(n_jobs=1)]: Done   9 out of   9 | elapsed:  2.9min remaining:    0.0s\n"
     ]
    },
    {
     "name": "stdout",
     "output_type": "stream",
     "text": [
      "[CV] ................................. , score=0.711408, total=  19.9s\n"
     ]
    },
    {
     "name": "stderr",
     "output_type": "stream",
     "text": [
      "[Parallel(n_jobs=1)]: Done  10 out of  10 | elapsed:  3.3min finished\n"
     ]
    },
    {
     "data": {
      "text/plain": [
       "<matplotlib.axes._subplots.AxesSubplot at 0x223f3c55128>"
      ]
     },
     "execution_count": 43,
     "metadata": {},
     "output_type": "execute_result"
    },
    {
     "data": {
      "image/png": "[encoded data removed]",
      "text/plain": [
       "<matplotlib.figure.Figure at 0x223f40b61d0>"
      ]
     },
     "metadata": {},
     "output_type": "display_data"
    }
   ],
   "source": [
    "numeric_plus_occupation_scores = cross_validation_score(\n",
    "    features=numeric_plus_occupation, \n",
    "    labels=train_df_full.income_band)\n",
    "\n",
    "numeric_plus_occupation_scores.plot(kind='bar', \n",
    "                     title='10-Fold CV scores for numeric only features + occupation')"
   ]
  },
  {
   "cell_type": "code",
   "execution_count": 44,
   "metadata": {},
   "outputs": [
    {
     "data": {
      "text/plain": [
       "0.7101138379212603"
      ]
     },
     "execution_count": 44,
     "metadata": {},
     "output_type": "execute_result"
    }
   ],
   "source": [
    "numeric_plus_occupation_scores.mean()"
   ]
  },
  {
   "cell_type": "markdown",
   "metadata": {},
   "source": [
    "## Binarize sex"
   ]
  },
  {
   "cell_type": "code",
   "execution_count": 46,
   "metadata": {},
   "outputs": [
    {
     "name": "stdout",
     "output_type": "stream",
     "text": [
      "[CV]  ................................................................\n",
      "[CV] ................................. , score=0.720386, total=  17.1s\n",
      "[CV]  ................................................................\n"
     ]
    },
    {
     "name": "stderr",
     "output_type": "stream",
     "text": [
      "[Parallel(n_jobs=1)]: Done   1 out of   1 | elapsed:   17.1s remaining:    0.0s\n"
     ]
    },
    {
     "name": "stdout",
     "output_type": "stream",
     "text": [
      "[CV] ................................. , score=0.729845, total=  17.3s\n",
      "[CV]  ................................................................\n"
     ]
    },
    {
     "name": "stderr",
     "output_type": "stream",
     "text": [
      "[Parallel(n_jobs=1)]: Done   2 out of   2 | elapsed:   34.5s remaining:    0.0s\n"
     ]
    },
    {
     "name": "stdout",
     "output_type": "stream",
     "text": [
      "[CV] ................................. , score=0.735157, total=  17.2s\n",
      "[CV]  ................................................................\n"
     ]
    },
    {
     "name": "stderr",
     "output_type": "stream",
     "text": [
      "[Parallel(n_jobs=1)]: Done   3 out of   3 | elapsed:   51.8s remaining:    0.0s\n"
     ]
    },
    {
     "name": "stdout",
     "output_type": "stream",
     "text": [
      "[CV] ................................. , score=0.721216, total=  17.7s\n",
      "[CV]  ................................................................\n"
     ]
    },
    {
     "name": "stderr",
     "output_type": "stream",
     "text": [
      "[Parallel(n_jobs=1)]: Done   4 out of   4 | elapsed:  1.2min remaining:    0.0s\n"
     ]
    },
    {
     "name": "stdout",
     "output_type": "stream",
     "text": [
      "[CV] ................................. , score=0.736852, total=  16.6s\n",
      "[CV]  ................................................................\n"
     ]
    },
    {
     "name": "stderr",
     "output_type": "stream",
     "text": [
      "[Parallel(n_jobs=1)]: Done   5 out of   5 | elapsed:  1.4min remaining:    0.0s\n"
     ]
    },
    {
     "name": "stdout",
     "output_type": "stream",
     "text": [
      "[CV] ................................. , score=0.722164, total=  16.6s\n",
      "[CV]  ................................................................\n"
     ]
    },
    {
     "name": "stderr",
     "output_type": "stream",
     "text": [
      "[Parallel(n_jobs=1)]: Done   6 out of   6 | elapsed:  1.7min remaining:    0.0s\n"
     ]
    },
    {
     "name": "stdout",
     "output_type": "stream",
     "text": [
      "[CV] ................................. , score=0.713274, total=  17.0s\n",
      "[CV]  ................................................................\n"
     ]
    },
    {
     "name": "stderr",
     "output_type": "stream",
     "text": [
      "[Parallel(n_jobs=1)]: Done   7 out of   7 | elapsed:  2.0min remaining:    0.0s\n"
     ]
    },
    {
     "name": "stdout",
     "output_type": "stream",
     "text": [
      "[CV] ................................. , score=0.757632, total=  17.9s\n",
      "[CV]  ................................................................\n"
     ]
    },
    {
     "name": "stderr",
     "output_type": "stream",
     "text": [
      "[Parallel(n_jobs=1)]: Done   8 out of   8 | elapsed:  2.3min remaining:    0.0s\n"
     ]
    },
    {
     "name": "stdout",
     "output_type": "stream",
     "text": [
      "[CV] ................................. , score=0.745734, total=  16.6s\n",
      "[CV]  ................................................................\n"
     ]
    },
    {
     "name": "stderr",
     "output_type": "stream",
     "text": [
      "[Parallel(n_jobs=1)]: Done   9 out of   9 | elapsed:  2.6min remaining:    0.0s\n"
     ]
    },
    {
     "name": "stdout",
     "output_type": "stream",
     "text": [
      "[CV] ................................. , score=0.740255, total=  17.2s\n"
     ]
    },
    {
     "name": "stderr",
     "output_type": "stream",
     "text": [
      "[Parallel(n_jobs=1)]: Done  10 out of  10 | elapsed:  2.9min finished\n"
     ]
    },
    {
     "data": {
      "text/plain": [
       "<matplotlib.axes._subplots.AxesSubplot at 0x223f41cbef0>"
      ]
     },
     "execution_count": 46,
     "metadata": {},
     "output_type": "execute_result"
    },
    {
     "data": {
      "image/png": "[encoded data removed]",
      "text/plain": [
       "<matplotlib.figure.Figure at 0x223f418ebe0>"
      ]
     },
     "metadata": {},
     "output_type": "display_data"
    }
   ],
   "source": [
    "numeric_plus_occupation_plus_sex = numeric_plus_occupation.assign(\n",
    "    sex=train_df_full.sex.map(lambda s: 0 if s=='Male' else 1))\n",
    "\n",
    "numeric_plus_occupation_plus_sex_scores = cross_validation_score(\n",
    "    features=numeric_plus_occupation_plus_sex, \n",
    "    labels=train_df_full.income_band)\n",
    "\n",
    "numeric_plus_occupation_plus_sex_scores.plot(kind='bar', \n",
    "                     title='10-Fold CV scores for numeric only features + occupation + sex')"
   ]
  },
  {
   "cell_type": "code",
   "execution_count": 48,
   "metadata": {},
   "outputs": [
    {
     "data": {
      "text/plain": [
       "0.7322516126437988"
      ]
     },
     "execution_count": 48,
     "metadata": {},
     "output_type": "execute_result"
    }
   ],
   "source": [
    "numeric_plus_occupation_plus_sex_scores.mean()"
   ]
  },
  {
   "cell_type": "markdown",
   "metadata": {},
   "source": [
    "## Binarize Race"
   ]
  },
  {
   "cell_type": "code",
   "execution_count": 50,
   "metadata": {},
   "outputs": [
    {
     "name": "stdout",
     "output_type": "stream",
     "text": [
      "[CV]  ................................................................\n",
      "[CV] ................................. , score=0.719781, total=  14.6s\n",
      "[CV]  ................................................................\n"
     ]
    },
    {
     "name": "stderr",
     "output_type": "stream",
     "text": [
      "[Parallel(n_jobs=1)]: Done   1 out of   1 | elapsed:   14.7s remaining:    0.0s\n"
     ]
    },
    {
     "name": "stdout",
     "output_type": "stream",
     "text": [
      "[CV] ................................. , score=0.731385, total=  14.9s\n",
      "[CV]  ................................................................\n"
     ]
    },
    {
     "name": "stderr",
     "output_type": "stream",
     "text": [
      "[Parallel(n_jobs=1)]: Done   2 out of   2 | elapsed:   29.7s remaining:    0.0s\n"
     ]
    },
    {
     "name": "stdout",
     "output_type": "stream",
     "text": [
      "[CV] ................................. , score=0.727219, total=  15.8s\n",
      "[CV]  ................................................................\n"
     ]
    },
    {
     "name": "stderr",
     "output_type": "stream",
     "text": [
      "[Parallel(n_jobs=1)]: Done   3 out of   3 | elapsed:   45.6s remaining:    0.0s\n"
     ]
    },
    {
     "name": "stdout",
     "output_type": "stream",
     "text": [
      "[CV] ................................. , score=0.726468, total=  15.2s\n",
      "[CV]  ................................................................\n"
     ]
    },
    {
     "name": "stderr",
     "output_type": "stream",
     "text": [
      "[Parallel(n_jobs=1)]: Done   4 out of   4 | elapsed:  1.0min remaining:    0.0s\n"
     ]
    },
    {
     "name": "stdout",
     "output_type": "stream",
     "text": [
      "[CV] ................................. , score=0.744129, total=  14.6s\n",
      "[CV]  ................................................................\n"
     ]
    },
    {
     "name": "stderr",
     "output_type": "stream",
     "text": [
      "[Parallel(n_jobs=1)]: Done   5 out of   5 | elapsed:  1.3min remaining:    0.0s\n"
     ]
    },
    {
     "name": "stdout",
     "output_type": "stream",
     "text": [
      "[CV] ................................. , score=0.730220, total=  15.4s\n",
      "[CV]  ................................................................\n"
     ]
    },
    {
     "name": "stderr",
     "output_type": "stream",
     "text": [
      "[Parallel(n_jobs=1)]: Done   6 out of   6 | elapsed:  1.5min remaining:    0.0s\n"
     ]
    },
    {
     "name": "stdout",
     "output_type": "stream",
     "text": [
      "[CV] ................................. , score=0.726585, total=  16.5s\n",
      "[CV]  ................................................................\n"
     ]
    },
    {
     "name": "stderr",
     "output_type": "stream",
     "text": [
      "[Parallel(n_jobs=1)]: Done   7 out of   7 | elapsed:  1.8min remaining:    0.0s\n"
     ]
    },
    {
     "name": "stdout",
     "output_type": "stream",
     "text": [
      "[CV] ................................. , score=0.737241, total=  14.9s\n",
      "[CV]  ................................................................\n"
     ]
    },
    {
     "name": "stderr",
     "output_type": "stream",
     "text": [
      "[Parallel(n_jobs=1)]: Done   8 out of   8 | elapsed:  2.0min remaining:    0.0s\n"
     ]
    },
    {
     "name": "stdout",
     "output_type": "stream",
     "text": [
      "[CV] ................................. , score=0.736708, total=  17.1s\n",
      "[CV]  ................................................................\n"
     ]
    },
    {
     "name": "stderr",
     "output_type": "stream",
     "text": [
      "[Parallel(n_jobs=1)]: Done   9 out of   9 | elapsed:  2.3min remaining:    0.0s\n"
     ]
    },
    {
     "name": "stdout",
     "output_type": "stream",
     "text": [
      "[CV] ................................. , score=0.730055, total=  15.3s\n"
     ]
    },
    {
     "name": "stderr",
     "output_type": "stream",
     "text": [
      "[Parallel(n_jobs=1)]: Done  10 out of  10 | elapsed:  2.6min finished\n"
     ]
    },
    {
     "data": {
      "text/plain": [
       "<matplotlib.axes._subplots.AxesSubplot at 0x223f58db5c0>"
      ]
     },
     "execution_count": 50,
     "metadata": {},
     "output_type": "execute_result"
    },
    {
     "data": {
      "image/png": "[encoded data removed]",
      "text/plain": [
       "<matplotlib.figure.Figure at 0x223f4593630>"
      ]
     },
     "metadata": {},
     "output_type": "display_data"
    }
   ],
   "source": [
    "numeric_plus_3 = numeric_plus_occupation_plus_sex.assign(\n",
    "    race=train_df_full.race.map(lambda s: 0 if s=='White' else 1))\n",
    "\n",
    "numeric_plus_3_scores = cross_validation_score(\n",
    "    features=numeric_plus_3, \n",
    "    labels=train_df_full.income_band)\n",
    "\n",
    "numeric_plus_3_scores.plot(kind='bar', \n",
    "                     title='10-Fold CV scores for numeric only features + occupation + sex + race')"
   ]
  },
  {
   "cell_type": "code",
   "execution_count": 51,
   "metadata": {},
   "outputs": [
    {
     "data": {
      "text/plain": [
       "0.7309789616836809"
      ]
     },
     "execution_count": 51,
     "metadata": {},
     "output_type": "execute_result"
    }
   ],
   "source": [
    "numeric_plus_3_scores.mean()"
   ]
  },
  {
   "cell_type": "markdown",
   "metadata": {},
   "source": [
    "## Include Relationship"
   ]
  },
  {
   "cell_type": "code",
   "execution_count": 52,
   "metadata": {},
   "outputs": [
    {
     "name": "stdout",
     "output_type": "stream",
     "text": [
      "[CV]  ................................................................\n",
      "[CV] ................................. , score=0.764204, total=  10.0s\n",
      "[CV]  ................................................................\n"
     ]
    },
    {
     "name": "stderr",
     "output_type": "stream",
     "text": [
      "[Parallel(n_jobs=1)]: Done   1 out of   1 | elapsed:   10.0s remaining:    0.0s\n"
     ]
    },
    {
     "name": "stdout",
     "output_type": "stream",
     "text": [
      "[CV] ................................. , score=0.765431, total=  10.6s\n",
      "[CV]  ................................................................\n"
     ]
    },
    {
     "name": "stderr",
     "output_type": "stream",
     "text": [
      "[Parallel(n_jobs=1)]: Done   2 out of   2 | elapsed:   20.7s remaining:    0.0s\n"
     ]
    },
    {
     "name": "stdout",
     "output_type": "stream",
     "text": [
      "[CV] ................................. , score=0.767137, total=   9.8s\n",
      "[CV]  ................................................................\n"
     ]
    },
    {
     "name": "stderr",
     "output_type": "stream",
     "text": [
      "[Parallel(n_jobs=1)]: Done   3 out of   3 | elapsed:   30.6s remaining:    0.0s\n"
     ]
    },
    {
     "name": "stdout",
     "output_type": "stream",
     "text": [
      "[CV] ................................. , score=0.775879, total=  10.9s\n",
      "[CV]  ................................................................\n"
     ]
    },
    {
     "name": "stderr",
     "output_type": "stream",
     "text": [
      "[Parallel(n_jobs=1)]: Done   4 out of   4 | elapsed:   41.6s remaining:    0.0s\n"
     ]
    },
    {
     "name": "stdout",
     "output_type": "stream",
     "text": [
      "[CV] ................................. , score=0.778906, total=  10.5s\n",
      "[CV]  ................................................................\n"
     ]
    },
    {
     "name": "stderr",
     "output_type": "stream",
     "text": [
      "[Parallel(n_jobs=1)]: Done   5 out of   5 | elapsed:   52.3s remaining:    0.0s\n"
     ]
    },
    {
     "name": "stdout",
     "output_type": "stream",
     "text": [
      "[CV] ................................. , score=0.765649, total=  10.0s\n",
      "[CV]  ................................................................\n"
     ]
    },
    {
     "name": "stderr",
     "output_type": "stream",
     "text": [
      "[Parallel(n_jobs=1)]: Done   6 out of   6 | elapsed:  1.0min remaining:    0.0s\n"
     ]
    },
    {
     "name": "stdout",
     "output_type": "stream",
     "text": [
      "[CV] ................................. , score=0.769295, total=   9.9s\n",
      "[CV]  ................................................................\n"
     ]
    },
    {
     "name": "stderr",
     "output_type": "stream",
     "text": [
      "[Parallel(n_jobs=1)]: Done   7 out of   7 | elapsed:  1.2min remaining:    0.0s\n"
     ]
    },
    {
     "name": "stdout",
     "output_type": "stream",
     "text": [
      "[CV] ................................. , score=0.782643, total=  10.4s\n",
      "[CV]  ................................................................\n"
     ]
    },
    {
     "name": "stderr",
     "output_type": "stream",
     "text": [
      "[Parallel(n_jobs=1)]: Done   8 out of   8 | elapsed:  1.4min remaining:    0.0s\n"
     ]
    },
    {
     "name": "stdout",
     "output_type": "stream",
     "text": [
      "[CV] ................................. , score=0.775356, total=  10.7s\n",
      "[CV]  ................................................................\n"
     ]
    },
    {
     "name": "stderr",
     "output_type": "stream",
     "text": [
      "[Parallel(n_jobs=1)]: Done   9 out of   9 | elapsed:  1.6min remaining:    0.0s\n"
     ]
    },
    {
     "name": "stdout",
     "output_type": "stream",
     "text": [
      "[CV] ................................. , score=0.767722, total=  10.5s\n"
     ]
    },
    {
     "name": "stderr",
     "output_type": "stream",
     "text": [
      "[Parallel(n_jobs=1)]: Done  10 out of  10 | elapsed:  1.7min finished\n"
     ]
    },
    {
     "data": {
      "text/plain": [
       "<matplotlib.axes._subplots.AxesSubplot at 0x223f598d048>"
      ]
     },
     "execution_count": 52,
     "metadata": {},
     "output_type": "execute_result"
    },
    {
     "data": {
      "image/png": "[encoded data removed]",
      "text/plain": [
       "<matplotlib.figure.Figure at 0x223f416e390>"
      ]
     },
     "metadata": {},
     "output_type": "display_data"
    }
   ],
   "source": [
    "numeric_plus_3 = encode_one_hot(train_df_full, numeric_plus_occupation_plus_sex, 'relationship')\n",
    "\n",
    "numeric_plus_3_scores = cross_validation_score(\n",
    "    features=numeric_plus_3, \n",
    "    labels=train_df_full.income_band)\n",
    "\n",
    "numeric_plus_3_scores.plot(kind='bar', \n",
    "                     title='10-Fold CV scores for numeric only features + occupation + sex + relationship')"
   ]
  },
  {
   "cell_type": "code",
   "execution_count": 53,
   "metadata": {},
   "outputs": [
    {
     "data": {
      "text/plain": [
       "0.7712220853703391"
      ]
     },
     "execution_count": 53,
     "metadata": {},
     "output_type": "execute_result"
    }
   ],
   "source": [
    "numeric_plus_3_scores.mean()"
   ]
  },
  {
   "cell_type": "markdown",
   "metadata": {},
   "source": [
    "## Include Workclass"
   ]
  },
  {
   "cell_type": "code",
   "execution_count": 56,
   "metadata": {},
   "outputs": [
    {
     "name": "stdout",
     "output_type": "stream",
     "text": [
      "[CV]  ................................................................\n",
      "[CV] ................................. , score=0.756078, total=   8.4s\n",
      "[CV]  ................................................................\n"
     ]
    },
    {
     "name": "stderr",
     "output_type": "stream",
     "text": [
      "[Parallel(n_jobs=1)]: Done   1 out of   1 | elapsed:    8.4s remaining:    0.0s\n"
     ]
    },
    {
     "name": "stdout",
     "output_type": "stream",
     "text": [
      "[CV] ................................. , score=0.768656, total=   8.4s\n",
      "[CV]  ................................................................\n"
     ]
    },
    {
     "name": "stderr",
     "output_type": "stream",
     "text": [
      "[Parallel(n_jobs=1)]: Done   2 out of   2 | elapsed:   16.9s remaining:    0.0s\n"
     ]
    },
    {
     "name": "stdout",
     "output_type": "stream",
     "text": [
      "[CV] ................................. , score=0.772703, total=   8.2s\n",
      "[CV]  ................................................................\n"
     ]
    },
    {
     "name": "stderr",
     "output_type": "stream",
     "text": [
      "[Parallel(n_jobs=1)]: Done   3 out of   3 | elapsed:   25.3s remaining:    0.0s\n"
     ]
    },
    {
     "name": "stdout",
     "output_type": "stream",
     "text": [
      "[CV] ................................. , score=0.765506, total=   8.8s\n",
      "[CV]  ................................................................\n"
     ]
    },
    {
     "name": "stderr",
     "output_type": "stream",
     "text": [
      "[Parallel(n_jobs=1)]: Done   4 out of   4 | elapsed:   34.2s remaining:    0.0s\n"
     ]
    },
    {
     "name": "stdout",
     "output_type": "stream",
     "text": [
      "[CV] ................................. , score=0.773347, total=   8.2s\n",
      "[CV]  ................................................................\n"
     ]
    },
    {
     "name": "stderr",
     "output_type": "stream",
     "text": [
      "[Parallel(n_jobs=1)]: Done   5 out of   5 | elapsed:   42.5s remaining:    0.0s\n"
     ]
    },
    {
     "name": "stdout",
     "output_type": "stream",
     "text": [
      "[CV] ................................. , score=0.771848, total=   8.7s\n",
      "[CV]  ................................................................\n"
     ]
    },
    {
     "name": "stderr",
     "output_type": "stream",
     "text": [
      "[Parallel(n_jobs=1)]: Done   6 out of   6 | elapsed:   51.3s remaining:    0.0s\n"
     ]
    },
    {
     "name": "stdout",
     "output_type": "stream",
     "text": [
      "[CV] ................................. , score=0.763609, total=   8.3s\n",
      "[CV]  ................................................................\n"
     ]
    },
    {
     "name": "stderr",
     "output_type": "stream",
     "text": [
      "[Parallel(n_jobs=1)]: Done   7 out of   7 | elapsed:   59.6s remaining:    0.0s\n"
     ]
    },
    {
     "name": "stdout",
     "output_type": "stream",
     "text": [
      "[CV] ................................. , score=0.780635, total=   8.3s\n",
      "[CV]  ................................................................\n"
     ]
    },
    {
     "name": "stderr",
     "output_type": "stream",
     "text": [
      "[Parallel(n_jobs=1)]: Done   8 out of   8 | elapsed:  1.1min remaining:    0.0s\n"
     ]
    },
    {
     "name": "stdout",
     "output_type": "stream",
     "text": [
      "[CV] ................................. , score=0.781518, total=   8.3s\n",
      "[CV]  ................................................................\n"
     ]
    },
    {
     "name": "stderr",
     "output_type": "stream",
     "text": [
      "[Parallel(n_jobs=1)]: Done   9 out of   9 | elapsed:  1.3min remaining:    0.0s\n"
     ]
    },
    {
     "name": "stdout",
     "output_type": "stream",
     "text": [
      "[CV] ................................. , score=0.768653, total=   8.3s\n"
     ]
    },
    {
     "name": "stderr",
     "output_type": "stream",
     "text": [
      "[Parallel(n_jobs=1)]: Done  10 out of  10 | elapsed:  1.4min finished\n"
     ]
    },
    {
     "data": {
      "text/plain": [
       "<matplotlib.axes._subplots.AxesSubplot at 0x223f5cea198>"
      ]
     },
     "execution_count": 56,
     "metadata": {},
     "output_type": "execute_result"
    },
    {
     "data": {
      "image/png": "[encoded data removed]",
      "text/plain": [
       "<matplotlib.figure.Figure at 0x223f5a82710>"
      ]
     },
     "metadata": {},
     "output_type": "display_data"
    }
   ],
   "source": [
    "numeric_plus_4 = encode_one_hot(train_df_full, numeric_plus_3, 'workclass')\n",
    "\n",
    "numeric_plus_4_scores = cross_validation_score(\n",
    "    features=numeric_plus_4, \n",
    "    labels=train_df_full.income_band)\n",
    "\n",
    "numeric_plus_4_scores.plot(\n",
    "    kind='bar', \n",
    "    title='10-Fold CV scores for numeric only features + occupation + sex + relationship + workclass')"
   ]
  },
  {
   "cell_type": "code",
   "execution_count": 57,
   "metadata": {},
   "outputs": [
    {
     "data": {
      "text/plain": [
       "0.7702552067785874"
      ]
     },
     "execution_count": 57,
     "metadata": {},
     "output_type": "execute_result"
    }
   ],
   "source": [
    "numeric_plus_4_scores.mean()"
   ]
  },
  {
   "cell_type": "markdown",
   "metadata": {},
   "source": [
    "## Include Marital Status"
   ]
  },
  {
   "cell_type": "code",
   "execution_count": 58,
   "metadata": {},
   "outputs": [
    {
     "name": "stdout",
     "output_type": "stream",
     "text": [
      "[CV]  ................................................................\n",
      "[CV] ................................. , score=0.758010, total=  10.4s\n",
      "[CV]  ................................................................\n"
     ]
    },
    {
     "name": "stderr",
     "output_type": "stream",
     "text": [
      "[Parallel(n_jobs=1)]: Done   1 out of   1 | elapsed:   10.4s remaining:    0.0s\n"
     ]
    },
    {
     "name": "stdout",
     "output_type": "stream",
     "text": [
      "[CV] ................................. , score=0.765991, total=  10.2s\n",
      "[CV]  ................................................................\n"
     ]
    },
    {
     "name": "stderr",
     "output_type": "stream",
     "text": [
      "[Parallel(n_jobs=1)]: Done   2 out of   2 | elapsed:   20.7s remaining:    0.0s\n"
     ]
    },
    {
     "name": "stdout",
     "output_type": "stream",
     "text": [
      "[CV] ................................. , score=0.766639, total=  10.9s\n",
      "[CV]  ................................................................\n"
     ]
    },
    {
     "name": "stderr",
     "output_type": "stream",
     "text": [
      "[Parallel(n_jobs=1)]: Done   3 out of   3 | elapsed:   31.7s remaining:    0.0s\n"
     ]
    },
    {
     "name": "stdout",
     "output_type": "stream",
     "text": [
      "[CV] ................................. , score=0.762089, total=   9.6s\n",
      "[CV]  ................................................................\n"
     ]
    },
    {
     "name": "stderr",
     "output_type": "stream",
     "text": [
      "[Parallel(n_jobs=1)]: Done   4 out of   4 | elapsed:   41.4s remaining:    0.0s\n"
     ]
    },
    {
     "name": "stdout",
     "output_type": "stream",
     "text": [
      "[CV] ................................. , score=0.772953, total=   9.8s\n",
      "[CV]  ................................................................\n"
     ]
    },
    {
     "name": "stderr",
     "output_type": "stream",
     "text": [
      "[Parallel(n_jobs=1)]: Done   5 out of   5 | elapsed:   51.4s remaining:    0.0s\n"
     ]
    },
    {
     "name": "stdout",
     "output_type": "stream",
     "text": [
      "[CV] ................................. , score=0.773825, total=  10.4s\n",
      "[CV]  ................................................................\n"
     ]
    },
    {
     "name": "stderr",
     "output_type": "stream",
     "text": [
      "[Parallel(n_jobs=1)]: Done   6 out of   6 | elapsed:  1.0min remaining:    0.0s\n"
     ]
    },
    {
     "name": "stdout",
     "output_type": "stream",
     "text": [
      "[CV] ................................. , score=0.767859, total=  10.0s\n",
      "[CV]  ................................................................\n"
     ]
    },
    {
     "name": "stderr",
     "output_type": "stream",
     "text": [
      "[Parallel(n_jobs=1)]: Done   7 out of   7 | elapsed:  1.2min remaining:    0.0s\n"
     ]
    },
    {
     "name": "stdout",
     "output_type": "stream",
     "text": [
      "[CV] ................................. , score=0.778850, total=   9.9s\n",
      "[CV]  ................................................................\n"
     ]
    },
    {
     "name": "stderr",
     "output_type": "stream",
     "text": [
      "[Parallel(n_jobs=1)]: Done   8 out of   8 | elapsed:  1.4min remaining:    0.0s\n"
     ]
    },
    {
     "name": "stdout",
     "output_type": "stream",
     "text": [
      "[CV] ................................. , score=0.776683, total=   9.9s\n",
      "[CV]  ................................................................\n"
     ]
    },
    {
     "name": "stderr",
     "output_type": "stream",
     "text": [
      "[Parallel(n_jobs=1)]: Done   9 out of   9 | elapsed:  1.5min remaining:    0.0s\n"
     ]
    },
    {
     "name": "stdout",
     "output_type": "stream",
     "text": [
      "[CV] ................................. , score=0.758135, total=  10.4s\n"
     ]
    },
    {
     "name": "stderr",
     "output_type": "stream",
     "text": [
      "[Parallel(n_jobs=1)]: Done  10 out of  10 | elapsed:  1.7min finished\n"
     ]
    },
    {
     "data": {
      "text/plain": [
       "<matplotlib.axes._subplots.AxesSubplot at 0x223f45a4cf8>"
      ]
     },
     "execution_count": 58,
     "metadata": {},
     "output_type": "execute_result"
    },
    {
     "data": {
      "image/png": "[encoded data removed]",
      "text/plain": [
       "<matplotlib.figure.Figure at 0x223f5d01e48>"
      ]
     },
     "metadata": {},
     "output_type": "display_data"
    }
   ],
   "source": [
    "numeric_plus_4 = encode_one_hot(train_df_full, numeric_plus_3, 'marital_status')\n",
    "\n",
    "numeric_plus_4_scores = cross_validation_score(\n",
    "    features=numeric_plus_4, \n",
    "    labels=train_df_full.income_band)\n",
    "\n",
    "numeric_plus_4_scores.plot(\n",
    "    kind='bar', \n",
    "    title='10-Fold CV scores for numeric only features + occupation + sex + relationship + marital_status')"
   ]
  },
  {
   "cell_type": "code",
   "execution_count": 59,
   "metadata": {},
   "outputs": [
    {
     "data": {
      "text/plain": [
       "0.7681035231229244"
      ]
     },
     "execution_count": 59,
     "metadata": {},
     "output_type": "execute_result"
    }
   ],
   "source": [
    "numeric_plus_4_scores.mean()"
   ]
  },
  {
   "cell_type": "markdown",
   "metadata": {},
   "source": [
    "## Include Native Country"
   ]
  },
  {
   "cell_type": "code",
   "execution_count": 61,
   "metadata": {},
   "outputs": [
    {
     "name": "stdout",
     "output_type": "stream",
     "text": [
      "[CV]  ................................................................\n",
      "[CV] ................................. , score=0.755815, total=   9.7s\n",
      "[CV]  ................................................................\n"
     ]
    },
    {
     "name": "stderr",
     "output_type": "stream",
     "text": [
      "[Parallel(n_jobs=1)]: Done   1 out of   1 | elapsed:    9.7s remaining:    0.0s\n"
     ]
    },
    {
     "name": "stdout",
     "output_type": "stream",
     "text": [
      "[CV] ................................. , score=0.760139, total=   9.9s\n",
      "[CV]  ................................................................\n"
     ]
    },
    {
     "name": "stderr",
     "output_type": "stream",
     "text": [
      "[Parallel(n_jobs=1)]: Done   2 out of   2 | elapsed:   19.7s remaining:    0.0s\n"
     ]
    },
    {
     "name": "stdout",
     "output_type": "stream",
     "text": [
      "[CV] ................................. , score=0.764717, total=   9.2s\n",
      "[CV]  ................................................................\n"
     ]
    },
    {
     "name": "stderr",
     "output_type": "stream",
     "text": [
      "[Parallel(n_jobs=1)]: Done   3 out of   3 | elapsed:   29.0s remaining:    0.0s\n"
     ]
    },
    {
     "name": "stdout",
     "output_type": "stream",
     "text": [
      "[CV] ................................. , score=0.770679, total=   9.1s\n",
      "[CV]  ................................................................\n"
     ]
    },
    {
     "name": "stderr",
     "output_type": "stream",
     "text": [
      "[Parallel(n_jobs=1)]: Done   4 out of   4 | elapsed:   38.2s remaining:    0.0s\n"
     ]
    },
    {
     "name": "stdout",
     "output_type": "stream",
     "text": [
      "[CV] ................................. , score=0.768785, total=   9.1s\n",
      "[CV]  ................................................................\n"
     ]
    },
    {
     "name": "stderr",
     "output_type": "stream",
     "text": [
      "[Parallel(n_jobs=1)]: Done   5 out of   5 | elapsed:   47.4s remaining:    0.0s\n"
     ]
    },
    {
     "name": "stdout",
     "output_type": "stream",
     "text": [
      "[CV] ................................. , score=0.763078, total=  10.0s\n",
      "[CV]  ................................................................\n"
     ]
    },
    {
     "name": "stderr",
     "output_type": "stream",
     "text": [
      "[Parallel(n_jobs=1)]: Done   6 out of   6 | elapsed:   57.5s remaining:    0.0s\n"
     ]
    },
    {
     "name": "stdout",
     "output_type": "stream",
     "text": [
      "[CV] ................................. , score=0.771400, total=   9.6s\n",
      "[CV]  ................................................................\n"
     ]
    },
    {
     "name": "stderr",
     "output_type": "stream",
     "text": [
      "[Parallel(n_jobs=1)]: Done   7 out of   7 | elapsed:  1.1min remaining:    0.0s\n"
     ]
    },
    {
     "name": "stdout",
     "output_type": "stream",
     "text": [
      "[CV] ................................. , score=0.787186, total=   9.4s\n",
      "[CV]  ................................................................\n"
     ]
    },
    {
     "name": "stderr",
     "output_type": "stream",
     "text": [
      "[Parallel(n_jobs=1)]: Done   8 out of   8 | elapsed:  1.3min remaining:    0.0s\n"
     ]
    },
    {
     "name": "stdout",
     "output_type": "stream",
     "text": [
      "[CV] ................................. , score=0.786016, total=   9.8s\n",
      "[CV]  ................................................................\n"
     ]
    },
    {
     "name": "stderr",
     "output_type": "stream",
     "text": [
      "[Parallel(n_jobs=1)]: Done   9 out of   9 | elapsed:  1.4min remaining:    0.0s\n"
     ]
    },
    {
     "name": "stdout",
     "output_type": "stream",
     "text": [
      "[CV] ................................. , score=0.771984, total=   9.5s\n"
     ]
    },
    {
     "name": "stderr",
     "output_type": "stream",
     "text": [
      "[Parallel(n_jobs=1)]: Done  10 out of  10 | elapsed:  1.6min finished\n"
     ]
    },
    {
     "data": {
      "text/plain": [
       "<matplotlib.axes._subplots.AxesSubplot at 0x223f5b6cd68>"
      ]
     },
     "execution_count": 61,
     "metadata": {},
     "output_type": "execute_result"
    },
    {
     "data": {
      "image/png": "[encoded data removed]",
      "text/plain": [
       "<matplotlib.figure.Figure at 0x223f5d058d0>"
      ]
     },
     "metadata": {},
     "output_type": "display_data"
    }
   ],
   "source": [
    "numeric_plus_4 = numeric_plus_3.assign(\n",
    "    native_country=train_df_full.native_country.map(lambda v: 0.0 if v=='United-States' else 1.0))\n",
    "\n",
    "numeric_plus_4_scores = cross_validation_score(\n",
    "    features=numeric_plus_4, \n",
    "    labels=train_df_full.income_band)\n",
    "\n",
    "numeric_plus_4_scores.plot(\n",
    "    kind='bar', \n",
    "    title='10-Fold CV scores for numeric only features + occupation + sex + relationship + native_country')"
   ]
  },
  {
   "cell_type": "code",
   "execution_count": 63,
   "metadata": {},
   "outputs": [
    {
     "data": {
      "text/plain": [
       "0.7699798121433643"
      ]
     },
     "execution_count": 63,
     "metadata": {},
     "output_type": "execute_result"
    }
   ],
   "source": [
    "numeric_plus_4_scores.mean()"
   ]
  },
  {
   "cell_type": "markdown",
   "metadata": {},
   "source": [
    "## Grid Search for the Best Parameters"
   ]
  },
  {
   "cell_type": "code",
   "execution_count": 77,
   "metadata": {},
   "outputs": [
    {
     "name": "stdout",
     "output_type": "stream",
     "text": [
      "Fitting 10 folds for each of 4 candidates, totalling 40 fits\n",
      "[CV] model__base_estimator__gamma=0.1, model__base_estimator__C=100 ..\n",
      "[CV]  model__base_estimator__gamma=0.1, model__base_estimator__C=100, score=0.828306, total=   5.4s\n",
      "[CV] model__base_estimator__gamma=0.1, model__base_estimator__C=100 ..\n"
     ]
    },
    {
     "name": "stderr",
     "output_type": "stream",
     "text": [
      "[Parallel(n_jobs=1)]: Done   1 out of   1 | elapsed:   21.1s remaining:    0.0s\n"
     ]
    },
    {
     "name": "stdout",
     "output_type": "stream",
     "text": [
      "[CV]  model__base_estimator__gamma=0.1, model__base_estimator__C=100, score=0.829301, total=   5.4s\n",
      "[CV] model__base_estimator__gamma=0.1, model__base_estimator__C=100 ..\n"
     ]
    },
    {
     "name": "stderr",
     "output_type": "stream",
     "text": [
      "[Parallel(n_jobs=1)]: Done   2 out of   2 | elapsed:   42.9s remaining:    0.0s\n"
     ]
    },
    {
     "name": "stdout",
     "output_type": "stream",
     "text": [
      "[CV]  model__base_estimator__gamma=0.1, model__base_estimator__C=100, score=0.835267, total=   5.9s\n",
      "[CV] model__base_estimator__gamma=0.1, model__base_estimator__C=100 ..\n"
     ]
    },
    {
     "name": "stderr",
     "output_type": "stream",
     "text": [
      "[Parallel(n_jobs=1)]: Done   3 out of   3 | elapsed:  1.1min remaining:    0.0s\n"
     ]
    },
    {
     "name": "stdout",
     "output_type": "stream",
     "text": [
      "[CV]  model__base_estimator__gamma=0.1, model__base_estimator__C=100, score=0.835598, total=   5.5s\n",
      "[CV] model__base_estimator__gamma=0.1, model__base_estimator__C=100 ..\n"
     ]
    },
    {
     "name": "stderr",
     "output_type": "stream",
     "text": [
      "[Parallel(n_jobs=1)]: Done   4 out of   4 | elapsed:  1.4min remaining:    0.0s\n"
     ]
    },
    {
     "name": "stdout",
     "output_type": "stream",
     "text": [
      "[CV]  model__base_estimator__gamma=0.1, model__base_estimator__C=100, score=0.840849, total=   5.4s\n",
      "[CV] model__base_estimator__gamma=0.1, model__base_estimator__C=100 ..\n"
     ]
    },
    {
     "name": "stderr",
     "output_type": "stream",
     "text": [
      "[Parallel(n_jobs=1)]: Done   5 out of   5 | elapsed:  1.8min remaining:    0.0s\n"
     ]
    },
    {
     "name": "stdout",
     "output_type": "stream",
     "text": [
      "[CV]  model__base_estimator__gamma=0.1, model__base_estimator__C=100, score=0.824602, total=   5.4s\n",
      "[CV] model__base_estimator__gamma=0.1, model__base_estimator__C=100 ..\n"
     ]
    },
    {
     "name": "stderr",
     "output_type": "stream",
     "text": [
      "[Parallel(n_jobs=1)]: Done   6 out of   6 | elapsed:  2.2min remaining:    0.0s\n"
     ]
    },
    {
     "name": "stdout",
     "output_type": "stream",
     "text": [
      "[CV]  model__base_estimator__gamma=0.1, model__base_estimator__C=100, score=0.832891, total=   5.3s\n",
      "[CV] model__base_estimator__gamma=0.1, model__base_estimator__C=100 ..\n"
     ]
    },
    {
     "name": "stderr",
     "output_type": "stream",
     "text": [
      "[Parallel(n_jobs=1)]: Done   7 out of   7 | elapsed:  2.5min remaining:    0.0s\n"
     ]
    },
    {
     "name": "stdout",
     "output_type": "stream",
     "text": [
      "[CV]  model__base_estimator__gamma=0.1, model__base_estimator__C=100, score=0.845491, total=   5.4s\n",
      "[CV] model__base_estimator__gamma=0.1, model__base_estimator__C=100 ..\n"
     ]
    },
    {
     "name": "stderr",
     "output_type": "stream",
     "text": [
      "[Parallel(n_jobs=1)]: Done   8 out of   8 | elapsed:  2.9min remaining:    0.0s\n"
     ]
    },
    {
     "name": "stdout",
     "output_type": "stream",
     "text": [
      "[CV]  model__base_estimator__gamma=0.1, model__base_estimator__C=100, score=0.836153, total=   5.5s\n",
      "[CV] model__base_estimator__gamma=0.1, model__base_estimator__C=100 ..\n"
     ]
    },
    {
     "name": "stderr",
     "output_type": "stream",
     "text": [
      "[Parallel(n_jobs=1)]: Done   9 out of   9 | elapsed:  3.2min remaining:    0.0s\n"
     ]
    },
    {
     "name": "stdout",
     "output_type": "stream",
     "text": [
      "[CV]  model__base_estimator__gamma=0.1, model__base_estimator__C=100, score=0.833499, total=   5.6s\n",
      "[CV] model__base_estimator__gamma=0.001, model__base_estimator__C=100 \n",
      "[CV]  model__base_estimator__gamma=0.001, model__base_estimator__C=100, score=0.840902, total=   3.5s\n",
      "[CV] model__base_estimator__gamma=0.001, model__base_estimator__C=100 \n",
      "[CV]  model__base_estimator__gamma=0.001, model__base_estimator__C=100, score=0.849188, total=   3.4s\n",
      "[CV] model__base_estimator__gamma=0.001, model__base_estimator__C=100 \n",
      "[CV]  model__base_estimator__gamma=0.001, model__base_estimator__C=100, score=0.844879, total=   3.6s\n",
      "[CV] model__base_estimator__gamma=0.001, model__base_estimator__C=100 \n",
      "[CV]  model__base_estimator__gamma=0.001, model__base_estimator__C=100, score=0.838913, total=   3.4s\n",
      "[CV] model__base_estimator__gamma=0.001, model__base_estimator__C=100 \n",
      "[CV]  model__base_estimator__gamma=0.001, model__base_estimator__C=100, score=0.853448, total=   3.3s\n",
      "[CV] model__base_estimator__gamma=0.001, model__base_estimator__C=100 \n",
      "[CV]  model__base_estimator__gamma=0.001, model__base_estimator__C=100, score=0.844496, total=   3.4s\n",
      "[CV] model__base_estimator__gamma=0.001, model__base_estimator__C=100 \n",
      "[CV]  model__base_estimator__gamma=0.001, model__base_estimator__C=100, score=0.848806, total=   3.3s\n",
      "[CV] model__base_estimator__gamma=0.001, model__base_estimator__C=100 \n",
      "[CV]  model__base_estimator__gamma=0.001, model__base_estimator__C=100, score=0.849138, total=   3.4s\n",
      "[CV] model__base_estimator__gamma=0.001, model__base_estimator__C=100 \n",
      "[CV]  model__base_estimator__gamma=0.001, model__base_estimator__C=100, score=0.854063, total=   3.3s\n",
      "[CV] model__base_estimator__gamma=0.001, model__base_estimator__C=100 \n",
      "[CV]  model__base_estimator__gamma=0.001, model__base_estimator__C=100, score=0.840464, total=   3.3s\n",
      "[CV] model__base_estimator__gamma=0.1, model__base_estimator__C=1000 .\n",
      "[CV]  model__base_estimator__gamma=0.1, model__base_estimator__C=1000, score=0.822009, total=   9.8s\n",
      "[CV] model__base_estimator__gamma=0.1, model__base_estimator__C=1000 .\n",
      "[CV]  model__base_estimator__gamma=0.1, model__base_estimator__C=1000, score=0.833278, total=   9.9s\n",
      "[CV] model__base_estimator__gamma=0.1, model__base_estimator__C=1000 .\n",
      "[CV]  model__base_estimator__gamma=0.1, model__base_estimator__C=1000, score=0.828306, total=   9.7s\n",
      "[CV] model__base_estimator__gamma=0.1, model__base_estimator__C=1000 .\n",
      "[CV]  model__base_estimator__gamma=0.1, model__base_estimator__C=1000, score=0.833941, total=  10.6s\n",
      "[CV] model__base_estimator__gamma=0.1, model__base_estimator__C=1000 .\n",
      "[CV]  model__base_estimator__gamma=0.1, model__base_estimator__C=1000, score=0.836870, total=   9.5s\n",
      "[CV] model__base_estimator__gamma=0.1, model__base_estimator__C=1000 .\n",
      "[CV]  model__base_estimator__gamma=0.1, model__base_estimator__C=1000, score=0.821286, total=  11.4s\n",
      "[CV] model__base_estimator__gamma=0.1, model__base_estimator__C=1000 .\n",
      "[CV]  model__base_estimator__gamma=0.1, model__base_estimator__C=1000, score=0.834549, total=  10.1s\n",
      "[CV] model__base_estimator__gamma=0.1, model__base_estimator__C=1000 .\n",
      "[CV]  model__base_estimator__gamma=0.1, model__base_estimator__C=1000, score=0.838196, total=  10.5s\n",
      "[CV] model__base_estimator__gamma=0.1, model__base_estimator__C=1000 .\n",
      "[CV]  model__base_estimator__gamma=0.1, model__base_estimator__C=1000, score=0.835489, total=  10.0s\n",
      "[CV] model__base_estimator__gamma=0.1, model__base_estimator__C=1000 .\n",
      "[CV]  model__base_estimator__gamma=0.1, model__base_estimator__C=1000, score=0.826534, total=   9.8s\n",
      "[CV] model__base_estimator__gamma=0.001, model__base_estimator__C=1000 \n",
      "[CV]  model__base_estimator__gamma=0.001, model__base_estimator__C=1000, score=0.842559, total=   4.5s\n",
      "[CV] model__base_estimator__gamma=0.001, model__base_estimator__C=1000 \n",
      "[CV]  model__base_estimator__gamma=0.001, model__base_estimator__C=1000, score=0.846868, total=   4.5s\n",
      "[CV] model__base_estimator__gamma=0.001, model__base_estimator__C=1000 \n",
      "[CV]  model__base_estimator__gamma=0.001, model__base_estimator__C=1000, score=0.847531, total=   4.7s\n",
      "[CV] model__base_estimator__gamma=0.001, model__base_estimator__C=1000 \n",
      "[CV]  model__base_estimator__gamma=0.001, model__base_estimator__C=1000, score=0.838913, total=   4.5s\n",
      "[CV] model__base_estimator__gamma=0.001, model__base_estimator__C=1000 \n",
      "[CV]  model__base_estimator__gamma=0.001, model__base_estimator__C=1000, score=0.850796, total=   4.7s\n",
      "[CV] model__base_estimator__gamma=0.001, model__base_estimator__C=1000 \n",
      "[CV]  model__base_estimator__gamma=0.001, model__base_estimator__C=1000, score=0.848475, total=   4.6s\n",
      "[CV] model__base_estimator__gamma=0.001, model__base_estimator__C=1000 \n",
      "[CV]  model__base_estimator__gamma=0.001, model__base_estimator__C=1000, score=0.846154, total=   4.6s\n",
      "[CV] model__base_estimator__gamma=0.001, model__base_estimator__C=1000 \n",
      "[CV]  model__base_estimator__gamma=0.001, model__base_estimator__C=1000, score=0.852122, total=   4.6s\n",
      "[CV] model__base_estimator__gamma=0.001, model__base_estimator__C=1000 \n",
      "[CV]  model__base_estimator__gamma=0.001, model__base_estimator__C=1000, score=0.852736, total=   4.8s\n",
      "[CV] model__base_estimator__gamma=0.001, model__base_estimator__C=1000 \n",
      "[CV]  model__base_estimator__gamma=0.001, model__base_estimator__C=1000, score=0.846766, total=   4.8s\n"
     ]
    },
    {
     "name": "stderr",
     "output_type": "stream",
     "text": [
      "[Parallel(n_jobs=1)]: Done  40 out of  40 | elapsed: 13.7min finished\n"
     ]
    }
   ],
   "source": [
    "from sklearn.model_selection import GridSearchCV\n",
    "from sklearn.pipeline import Pipeline\n",
    "\n",
    "base = SVC()\n",
    "model = BaggingClassifier(base_estimator=base, n_estimators=20, max_samples=0.05)\n",
    "prep = StandardScaler()\n",
    "\n",
    "estimator = Pipeline([\n",
    "    ('prep', prep),\n",
    "    ('model', model),\n",
    "])\n",
    "\n",
    "params =  [\n",
    "  {'model__base_estimator__C': [100, 1000],    \n",
    "   'model__base_estimator__gamma': [0.1, 0.001]\n",
    "  },\n",
    " ]\n",
    "\n",
    "grid_search = GridSearchCV(estimator=estimator, param_grid=params, scoring='accuracy', verbose=10, cv=10)\n",
    "grid_search = grid_search.fit(numeric_plus_3, train_df_full.income_band)"
   ]
  },
  {
   "cell_type": "code",
   "execution_count": 78,
   "metadata": {},
   "outputs": [
    {
     "data": {
      "text/plain": [
       "0.84729129368079037"
      ]
     },
     "execution_count": 78,
     "metadata": {},
     "output_type": "execute_result"
    }
   ],
   "source": [
    "grid_search.best_score_"
   ]
  },
  {
   "cell_type": "code",
   "execution_count": 79,
   "metadata": {},
   "outputs": [
    {
     "data": {
      "text/plain": [
       "{'model__base_estimator__C': 1000, 'model__base_estimator__gamma': 0.001}"
      ]
     },
     "execution_count": 79,
     "metadata": {},
     "output_type": "execute_result"
    }
   ],
   "source": [
    "grid_search.best_params_"
   ]
  },
  {
   "cell_type": "code",
   "execution_count": 80,
   "metadata": {},
   "outputs": [
    {
     "name": "stdout",
     "output_type": "stream",
     "text": [
      "Fitting 10 folds for each of 4 candidates, totalling 40 fits\n",
      "[CV] model__base_estimator__gamma=0.001, model__base_estimator__C=1000 \n",
      "[CV]  model__base_estimator__gamma=0.001, model__base_estimator__C=1000, score=0.842227, total=   4.4s\n",
      "[CV] model__base_estimator__gamma=0.001, model__base_estimator__C=1000 \n"
     ]
    },
    {
     "name": "stderr",
     "output_type": "stream",
     "text": [
      "[Parallel(n_jobs=1)]: Done   1 out of   1 | elapsed:   17.9s remaining:    0.0s\n"
     ]
    },
    {
     "name": "stdout",
     "output_type": "stream",
     "text": [
      "[CV]  model__base_estimator__gamma=0.001, model__base_estimator__C=1000, score=0.845210, total=   4.3s\n",
      "[CV] model__base_estimator__gamma=0.001, model__base_estimator__C=1000 \n"
     ]
    },
    {
     "name": "stderr",
     "output_type": "stream",
     "text": [
      "[Parallel(n_jobs=1)]: Done   2 out of   2 | elapsed:   35.9s remaining:    0.0s\n"
     ]
    },
    {
     "name": "stdout",
     "output_type": "stream",
     "text": [
      "[CV]  model__base_estimator__gamma=0.001, model__base_estimator__C=1000, score=0.844879, total=   4.4s\n",
      "[CV] model__base_estimator__gamma=0.001, model__base_estimator__C=1000 \n"
     ]
    },
    {
     "name": "stderr",
     "output_type": "stream",
     "text": [
      "[Parallel(n_jobs=1)]: Done   3 out of   3 | elapsed:   54.3s remaining:    0.0s\n"
     ]
    },
    {
     "name": "stdout",
     "output_type": "stream",
     "text": [
      "[CV]  model__base_estimator__gamma=0.001, model__base_estimator__C=1000, score=0.837918, total=   4.3s\n",
      "[CV] model__base_estimator__gamma=0.001, model__base_estimator__C=1000 \n"
     ]
    },
    {
     "name": "stderr",
     "output_type": "stream",
     "text": [
      "[Parallel(n_jobs=1)]: Done   4 out of   4 | elapsed:  1.2min remaining:    0.0s\n"
     ]
    },
    {
     "name": "stdout",
     "output_type": "stream",
     "text": [
      "[CV]  model__base_estimator__gamma=0.001, model__base_estimator__C=1000, score=0.851127, total=   4.3s\n",
      "[CV] model__base_estimator__gamma=0.001, model__base_estimator__C=1000 \n"
     ]
    },
    {
     "name": "stderr",
     "output_type": "stream",
     "text": [
      "[Parallel(n_jobs=1)]: Done   5 out of   5 | elapsed:  1.5min remaining:    0.0s\n"
     ]
    },
    {
     "name": "stdout",
     "output_type": "stream",
     "text": [
      "[CV]  model__base_estimator__gamma=0.001, model__base_estimator__C=1000, score=0.843501, total=   4.6s\n",
      "[CV] model__base_estimator__gamma=0.001, model__base_estimator__C=1000 \n"
     ]
    },
    {
     "name": "stderr",
     "output_type": "stream",
     "text": [
      "[Parallel(n_jobs=1)]: Done   6 out of   6 | elapsed:  1.8min remaining:    0.0s\n"
     ]
    },
    {
     "name": "stdout",
     "output_type": "stream",
     "text": [
      "[CV]  model__base_estimator__gamma=0.001, model__base_estimator__C=1000, score=0.850133, total=   4.4s\n",
      "[CV] model__base_estimator__gamma=0.001, model__base_estimator__C=1000 \n"
     ]
    },
    {
     "name": "stderr",
     "output_type": "stream",
     "text": [
      "[Parallel(n_jobs=1)]: Done   7 out of   7 | elapsed:  2.1min remaining:    0.0s\n"
     ]
    },
    {
     "name": "stdout",
     "output_type": "stream",
     "text": [
      "[CV]  model__base_estimator__gamma=0.001, model__base_estimator__C=1000, score=0.858753, total=   4.4s\n",
      "[CV] model__base_estimator__gamma=0.001, model__base_estimator__C=1000 \n"
     ]
    },
    {
     "name": "stderr",
     "output_type": "stream",
     "text": [
      "[Parallel(n_jobs=1)]: Done   8 out of   8 | elapsed:  2.4min remaining:    0.0s\n"
     ]
    },
    {
     "name": "stdout",
     "output_type": "stream",
     "text": [
      "[CV]  model__base_estimator__gamma=0.001, model__base_estimator__C=1000, score=0.851410, total=   4.6s\n",
      "[CV] model__base_estimator__gamma=0.001, model__base_estimator__C=1000 \n"
     ]
    },
    {
     "name": "stderr",
     "output_type": "stream",
     "text": [
      "[Parallel(n_jobs=1)]: Done   9 out of   9 | elapsed:  2.7min remaining:    0.0s\n"
     ]
    },
    {
     "name": "stdout",
     "output_type": "stream",
     "text": [
      "[CV]  model__base_estimator__gamma=0.001, model__base_estimator__C=1000, score=0.843781, total=   4.3s\n",
      "[CV] model__base_estimator__gamma=0.005, model__base_estimator__C=1000 \n",
      "[CV]  model__base_estimator__gamma=0.005, model__base_estimator__C=1000, score=0.841233, total=   7.1s\n",
      "[CV] model__base_estimator__gamma=0.005, model__base_estimator__C=1000 \n",
      "[CV]  model__base_estimator__gamma=0.005, model__base_estimator__C=1000, score=0.847199, total=   7.1s\n",
      "[CV] model__base_estimator__gamma=0.005, model__base_estimator__C=1000 \n",
      "[CV]  model__base_estimator__gamma=0.005, model__base_estimator__C=1000, score=0.846205, total=   7.2s\n",
      "[CV] model__base_estimator__gamma=0.005, model__base_estimator__C=1000 \n",
      "[CV]  model__base_estimator__gamma=0.005, model__base_estimator__C=1000, score=0.840902, total=   7.2s\n",
      "[CV] model__base_estimator__gamma=0.005, model__base_estimator__C=1000 \n",
      "[CV]  model__base_estimator__gamma=0.005, model__base_estimator__C=1000, score=0.851790, total=   7.1s\n",
      "[CV] model__base_estimator__gamma=0.005, model__base_estimator__C=1000 \n",
      "[CV]  model__base_estimator__gamma=0.005, model__base_estimator__C=1000, score=0.850464, total=   6.7s\n",
      "[CV] model__base_estimator__gamma=0.005, model__base_estimator__C=1000 \n",
      "[CV]  model__base_estimator__gamma=0.005, model__base_estimator__C=1000, score=0.851459, total=   6.9s\n",
      "[CV] model__base_estimator__gamma=0.005, model__base_estimator__C=1000 \n",
      "[CV]  model__base_estimator__gamma=0.005, model__base_estimator__C=1000, score=0.855438, total=   6.4s\n",
      "[CV] model__base_estimator__gamma=0.005, model__base_estimator__C=1000 \n",
      "[CV]  model__base_estimator__gamma=0.005, model__base_estimator__C=1000, score=0.855058, total=   6.8s\n",
      "[CV] model__base_estimator__gamma=0.005, model__base_estimator__C=1000 \n",
      "[CV]  model__base_estimator__gamma=0.005, model__base_estimator__C=1000, score=0.846103, total=   6.5s\n",
      "[CV] model__base_estimator__gamma=0.001, model__base_estimator__C=5000 \n",
      "[CV]  model__base_estimator__gamma=0.001, model__base_estimator__C=5000, score=0.844216, total=   8.6s\n",
      "[CV] model__base_estimator__gamma=0.001, model__base_estimator__C=5000 \n",
      "[CV]  model__base_estimator__gamma=0.001, model__base_estimator__C=5000, score=0.848856, total=   8.7s\n",
      "[CV] model__base_estimator__gamma=0.001, model__base_estimator__C=5000 \n",
      "[CV]  model__base_estimator__gamma=0.001, model__base_estimator__C=5000, score=0.847531, total=   8.4s\n",
      "[CV] model__base_estimator__gamma=0.001, model__base_estimator__C=5000 \n",
      "[CV]  model__base_estimator__gamma=0.001, model__base_estimator__C=5000, score=0.839576, total=   8.1s\n",
      "[CV] model__base_estimator__gamma=0.001, model__base_estimator__C=5000 \n",
      "[CV]  model__base_estimator__gamma=0.001, model__base_estimator__C=5000, score=0.854443, total=   8.1s\n",
      "[CV] model__base_estimator__gamma=0.001, model__base_estimator__C=5000 \n",
      "[CV]  model__base_estimator__gamma=0.001, model__base_estimator__C=5000, score=0.849138, total=   8.9s\n",
      "[CV] model__base_estimator__gamma=0.001, model__base_estimator__C=5000 \n",
      "[CV]  model__base_estimator__gamma=0.001, model__base_estimator__C=5000, score=0.847812, total=   8.8s\n",
      "[CV] model__base_estimator__gamma=0.001, model__base_estimator__C=5000 \n",
      "[CV]  model__base_estimator__gamma=0.001, model__base_estimator__C=5000, score=0.855438, total=   7.9s\n",
      "[CV] model__base_estimator__gamma=0.001, model__base_estimator__C=5000 \n",
      "[CV]  model__base_estimator__gamma=0.001, model__base_estimator__C=5000, score=0.855390, total=   8.6s\n",
      "[CV] model__base_estimator__gamma=0.001, model__base_estimator__C=5000 \n",
      "[CV]  model__base_estimator__gamma=0.001, model__base_estimator__C=5000, score=0.846434, total=   8.1s\n",
      "[CV] model__base_estimator__gamma=0.005, model__base_estimator__C=5000 \n",
      "[CV]  model__base_estimator__gamma=0.005, model__base_estimator__C=5000, score=0.842227, total=  19.6s\n",
      "[CV] model__base_estimator__gamma=0.005, model__base_estimator__C=5000 \n",
      "[CV]  model__base_estimator__gamma=0.005, model__base_estimator__C=5000, score=0.850182, total=  18.9s\n",
      "[CV] model__base_estimator__gamma=0.005, model__base_estimator__C=5000 \n",
      "[CV]  model__base_estimator__gamma=0.005, model__base_estimator__C=5000, score=0.847862, total=  17.7s\n",
      "[CV] model__base_estimator__gamma=0.005, model__base_estimator__C=5000 \n",
      "[CV]  model__base_estimator__gamma=0.005, model__base_estimator__C=5000, score=0.848525, total=  17.2s\n",
      "[CV] model__base_estimator__gamma=0.005, model__base_estimator__C=5000 \n",
      "[CV]  model__base_estimator__gamma=0.005, model__base_estimator__C=5000, score=0.848475, total=  17.6s\n",
      "[CV] model__base_estimator__gamma=0.005, model__base_estimator__C=5000 \n",
      "[CV]  model__base_estimator__gamma=0.005, model__base_estimator__C=5000, score=0.852785, total=  18.0s\n",
      "[CV] model__base_estimator__gamma=0.005, model__base_estimator__C=5000 \n",
      "[CV]  model__base_estimator__gamma=0.005, model__base_estimator__C=5000, score=0.847812, total=  18.1s\n",
      "[CV] model__base_estimator__gamma=0.005, model__base_estimator__C=5000 \n",
      "[CV]  model__base_estimator__gamma=0.005, model__base_estimator__C=5000, score=0.855106, total=  18.4s\n",
      "[CV] model__base_estimator__gamma=0.005, model__base_estimator__C=5000 \n",
      "[CV]  model__base_estimator__gamma=0.005, model__base_estimator__C=5000, score=0.855390, total=  18.8s\n",
      "[CV] model__base_estimator__gamma=0.005, model__base_estimator__C=5000 \n",
      "[CV]  model__base_estimator__gamma=0.005, model__base_estimator__C=5000, score=0.845439, total=  16.4s\n"
     ]
    },
    {
     "name": "stderr",
     "output_type": "stream",
     "text": [
      "[Parallel(n_jobs=1)]: Done  40 out of  40 | elapsed: 15.1min finished\n"
     ]
    }
   ],
   "source": [
    "params =  [\n",
    "  {'model__base_estimator__C': [1000, 5000],    \n",
    "   'model__base_estimator__gamma': [0.001, 0.005]\n",
    "  },\n",
    " ]\n",
    "\n",
    "grid_search = GridSearchCV(estimator=estimator, param_grid=params, scoring='accuracy', verbose=10, cv=10)\n",
    "grid_search = grid_search.fit(numeric_plus_3, train_df_full.income_band)"
   ]
  },
  {
   "cell_type": "code",
   "execution_count": 81,
   "metadata": {},
   "outputs": [
    {
     "data": {
      "text/plain": [
       "0.84938001458789203"
      ]
     },
     "execution_count": 81,
     "metadata": {},
     "output_type": "execute_result"
    }
   ],
   "source": [
    "grid_search.best_score_"
   ]
  },
  {
   "cell_type": "code",
   "execution_count": 82,
   "metadata": {},
   "outputs": [
    {
     "data": {
      "text/plain": [
       "{'model__base_estimator__C': 5000, 'model__base_estimator__gamma': 0.005}"
      ]
     },
     "execution_count": 82,
     "metadata": {},
     "output_type": "execute_result"
    }
   ],
   "source": [
    "grid_search.best_params_"
   ]
  },
  {
   "cell_type": "code",
   "execution_count": 83,
   "metadata": {},
   "outputs": [
    {
     "name": "stdout",
     "output_type": "stream",
     "text": [
      "Fitting 10 folds for each of 4 candidates, totalling 40 fits\n",
      "[CV] model__base_estimator__gamma=0.006, model__base_estimator__C=6000 \n",
      "[CV]  model__base_estimator__gamma=0.006, model__base_estimator__C=6000, score=0.843222, total=  21.9s\n",
      "[CV] model__base_estimator__gamma=0.006, model__base_estimator__C=6000 \n"
     ]
    },
    {
     "name": "stderr",
     "output_type": "stream",
     "text": [
      "[Parallel(n_jobs=1)]: Done   1 out of   1 | elapsed:   34.6s remaining:    0.0s\n"
     ]
    },
    {
     "name": "stdout",
     "output_type": "stream",
     "text": [
      "[CV]  model__base_estimator__gamma=0.006, model__base_estimator__C=6000, score=0.840902, total=  22.2s\n",
      "[CV] model__base_estimator__gamma=0.006, model__base_estimator__C=6000 \n"
     ]
    },
    {
     "name": "stderr",
     "output_type": "stream",
     "text": [
      "[Parallel(n_jobs=1)]: Done   2 out of   2 | elapsed:  1.2min remaining:    0.0s\n"
     ]
    },
    {
     "name": "stdout",
     "output_type": "stream",
     "text": [
      "[CV]  model__base_estimator__gamma=0.006, model__base_estimator__C=6000, score=0.847862, total=  21.4s\n",
      "[CV] model__base_estimator__gamma=0.006, model__base_estimator__C=6000 \n"
     ]
    },
    {
     "name": "stderr",
     "output_type": "stream",
     "text": [
      "[Parallel(n_jobs=1)]: Done   3 out of   3 | elapsed:  1.7min remaining:    0.0s\n"
     ]
    },
    {
     "name": "stdout",
     "output_type": "stream",
     "text": [
      "[CV]  model__base_estimator__gamma=0.006, model__base_estimator__C=6000, score=0.845210, total=  22.0s\n",
      "[CV] model__base_estimator__gamma=0.006, model__base_estimator__C=6000 \n"
     ]
    },
    {
     "name": "stderr",
     "output_type": "stream",
     "text": [
      "[Parallel(n_jobs=1)]: Done   4 out of   4 | elapsed:  2.3min remaining:    0.0s\n"
     ]
    },
    {
     "name": "stdout",
     "output_type": "stream",
     "text": [
      "[CV]  model__base_estimator__gamma=0.006, model__base_estimator__C=6000, score=0.849801, total=  21.5s\n",
      "[CV] model__base_estimator__gamma=0.006, model__base_estimator__C=6000 \n"
     ]
    },
    {
     "name": "stderr",
     "output_type": "stream",
     "text": [
      "[Parallel(n_jobs=1)]: Done   5 out of   5 | elapsed:  2.9min remaining:    0.0s\n"
     ]
    },
    {
     "name": "stdout",
     "output_type": "stream",
     "text": [
      "[CV]  model__base_estimator__gamma=0.006, model__base_estimator__C=6000, score=0.852454, total=  21.7s\n",
      "[CV] model__base_estimator__gamma=0.006, model__base_estimator__C=6000 \n"
     ]
    },
    {
     "name": "stderr",
     "output_type": "stream",
     "text": [
      "[Parallel(n_jobs=1)]: Done   6 out of   6 | elapsed:  3.5min remaining:    0.0s\n"
     ]
    },
    {
     "name": "stdout",
     "output_type": "stream",
     "text": [
      "[CV]  model__base_estimator__gamma=0.006, model__base_estimator__C=6000, score=0.845822, total=  22.2s\n",
      "[CV] model__base_estimator__gamma=0.006, model__base_estimator__C=6000 \n"
     ]
    },
    {
     "name": "stderr",
     "output_type": "stream",
     "text": [
      "[Parallel(n_jobs=1)]: Done   7 out of   7 | elapsed:  4.0min remaining:    0.0s\n"
     ]
    },
    {
     "name": "stdout",
     "output_type": "stream",
     "text": [
      "[CV]  model__base_estimator__gamma=0.006, model__base_estimator__C=6000, score=0.853448, total=  21.5s\n",
      "[CV] model__base_estimator__gamma=0.006, model__base_estimator__C=6000 \n"
     ]
    },
    {
     "name": "stderr",
     "output_type": "stream",
     "text": [
      "[Parallel(n_jobs=1)]: Done   8 out of   8 | elapsed:  4.6min remaining:    0.0s\n"
     ]
    },
    {
     "name": "stdout",
     "output_type": "stream",
     "text": [
      "[CV]  model__base_estimator__gamma=0.006, model__base_estimator__C=6000, score=0.854726, total=  22.1s\n",
      "[CV] model__base_estimator__gamma=0.006, model__base_estimator__C=6000 \n"
     ]
    },
    {
     "name": "stderr",
     "output_type": "stream",
     "text": [
      "[Parallel(n_jobs=1)]: Done   9 out of   9 | elapsed:  5.2min remaining:    0.0s\n"
     ]
    },
    {
     "name": "stdout",
     "output_type": "stream",
     "text": [
      "[CV]  model__base_estimator__gamma=0.006, model__base_estimator__C=6000, score=0.846434, total=  24.9s\n",
      "[CV] model__base_estimator__gamma=0.0001, model__base_estimator__C=6000 \n",
      "[CV]  model__base_estimator__gamma=0.0001, model__base_estimator__C=6000, score=0.837918, total=   3.8s\n",
      "[CV] model__base_estimator__gamma=0.0001, model__base_estimator__C=6000 \n",
      "[CV]  model__base_estimator__gamma=0.0001, model__base_estimator__C=6000, score=0.844879, total=   3.8s\n",
      "[CV] model__base_estimator__gamma=0.0001, model__base_estimator__C=6000 \n",
      "[CV]  model__base_estimator__gamma=0.0001, model__base_estimator__C=6000, score=0.849188, total=   3.8s\n",
      "[CV] model__base_estimator__gamma=0.0001, model__base_estimator__C=6000 \n",
      "[CV]  model__base_estimator__gamma=0.0001, model__base_estimator__C=6000, score=0.836261, total=   3.8s\n",
      "[CV] model__base_estimator__gamma=0.0001, model__base_estimator__C=6000 \n",
      "[CV]  model__base_estimator__gamma=0.0001, model__base_estimator__C=6000, score=0.849801, total=   3.8s\n",
      "[CV] model__base_estimator__gamma=0.0001, model__base_estimator__C=6000 \n",
      "[CV]  model__base_estimator__gamma=0.0001, model__base_estimator__C=6000, score=0.844496, total=   3.9s\n",
      "[CV] model__base_estimator__gamma=0.0001, model__base_estimator__C=6000 \n",
      "[CV]  model__base_estimator__gamma=0.0001, model__base_estimator__C=6000, score=0.849469, total=   3.9s\n",
      "[CV] model__base_estimator__gamma=0.0001, model__base_estimator__C=6000 \n",
      "[CV]  model__base_estimator__gamma=0.0001, model__base_estimator__C=6000, score=0.852785, total=   3.8s\n",
      "[CV] model__base_estimator__gamma=0.0001, model__base_estimator__C=6000 \n",
      "[CV]  model__base_estimator__gamma=0.0001, model__base_estimator__C=6000, score=0.857711, total=   4.0s\n",
      "[CV] model__base_estimator__gamma=0.0001, model__base_estimator__C=6000 \n",
      "[CV]  model__base_estimator__gamma=0.0001, model__base_estimator__C=6000, score=0.839469, total=   3.9s\n",
      "[CV] model__base_estimator__gamma=0.006, model__base_estimator__C=10000 \n",
      "[CV]  model__base_estimator__gamma=0.006, model__base_estimator__C=10000, score=0.839576, total=  31.3s\n",
      "[CV] model__base_estimator__gamma=0.006, model__base_estimator__C=10000 \n",
      "[CV]  model__base_estimator__gamma=0.006, model__base_estimator__C=10000, score=0.845210, total=  29.6s\n",
      "[CV] model__base_estimator__gamma=0.006, model__base_estimator__C=10000 \n",
      "[CV]  model__base_estimator__gamma=0.006, model__base_estimator__C=10000, score=0.842227, total=  30.4s\n",
      "[CV] model__base_estimator__gamma=0.006, model__base_estimator__C=10000 \n",
      "[CV]  model__base_estimator__gamma=0.006, model__base_estimator__C=10000, score=0.843222, total=  31.5s\n",
      "[CV] model__base_estimator__gamma=0.006, model__base_estimator__C=10000 \n",
      "[CV]  model__base_estimator__gamma=0.006, model__base_estimator__C=10000, score=0.850464, total=  31.4s\n",
      "[CV] model__base_estimator__gamma=0.006, model__base_estimator__C=10000 \n",
      "[CV]  model__base_estimator__gamma=0.006, model__base_estimator__C=10000, score=0.848143, total=  32.6s\n",
      "[CV] model__base_estimator__gamma=0.006, model__base_estimator__C=10000 \n",
      "[CV]  model__base_estimator__gamma=0.006, model__base_estimator__C=10000, score=0.844496, total=  30.7s\n",
      "[CV] model__base_estimator__gamma=0.006, model__base_estimator__C=10000 \n",
      "[CV]  model__base_estimator__gamma=0.006, model__base_estimator__C=10000, score=0.856101, total=  30.9s\n",
      "[CV] model__base_estimator__gamma=0.006, model__base_estimator__C=10000 \n",
      "[CV]  model__base_estimator__gamma=0.006, model__base_estimator__C=10000, score=0.854726, total=  32.8s\n",
      "[CV] model__base_estimator__gamma=0.006, model__base_estimator__C=10000 \n",
      "[CV]  model__base_estimator__gamma=0.006, model__base_estimator__C=10000, score=0.845108, total=  34.2s\n",
      "[CV] model__base_estimator__gamma=0.0001, model__base_estimator__C=10000 \n",
      "[CV]  model__base_estimator__gamma=0.0001, model__base_estimator__C=10000, score=0.841896, total=   4.3s\n",
      "[CV] model__base_estimator__gamma=0.0001, model__base_estimator__C=10000 \n",
      "[CV]  model__base_estimator__gamma=0.0001, model__base_estimator__C=10000, score=0.844548, total=   4.4s\n",
      "[CV] model__base_estimator__gamma=0.0001, model__base_estimator__C=10000 \n",
      "[CV]  model__base_estimator__gamma=0.0001, model__base_estimator__C=10000, score=0.845210, total=   4.3s\n",
      "[CV] model__base_estimator__gamma=0.0001, model__base_estimator__C=10000 \n",
      "[CV]  model__base_estimator__gamma=0.0001, model__base_estimator__C=10000, score=0.838913, total=   4.2s\n",
      "[CV] model__base_estimator__gamma=0.0001, model__base_estimator__C=10000 \n",
      "[CV]  model__base_estimator__gamma=0.0001, model__base_estimator__C=10000, score=0.847812, total=   4.2s\n",
      "[CV] model__base_estimator__gamma=0.0001, model__base_estimator__C=10000 \n",
      "[CV]  model__base_estimator__gamma=0.0001, model__base_estimator__C=10000, score=0.842507, total=   4.4s\n",
      "[CV] model__base_estimator__gamma=0.0001, model__base_estimator__C=10000 \n",
      "[CV]  model__base_estimator__gamma=0.0001, model__base_estimator__C=10000, score=0.849138, total=   4.4s\n",
      "[CV] model__base_estimator__gamma=0.0001, model__base_estimator__C=10000 \n",
      "[CV]  model__base_estimator__gamma=0.0001, model__base_estimator__C=10000, score=0.848143, total=   4.5s\n",
      "[CV] model__base_estimator__gamma=0.0001, model__base_estimator__C=10000 \n",
      "[CV]  model__base_estimator__gamma=0.0001, model__base_estimator__C=10000, score=0.850746, total=   4.3s\n",
      "[CV] model__base_estimator__gamma=0.0001, model__base_estimator__C=10000 \n",
      "[CV]  model__base_estimator__gamma=0.0001, model__base_estimator__C=10000, score=0.840796, total=   4.3s\n"
     ]
    },
    {
     "name": "stderr",
     "output_type": "stream",
     "text": [
      "[Parallel(n_jobs=1)]: Done  40 out of  40 | elapsed: 19.0min finished\n"
     ]
    }
   ],
   "source": [
    "params =  [\n",
    "  {'model__base_estimator__C': [6000, 10000],    \n",
    "   'model__base_estimator__gamma': [0.006, 0.0001]\n",
    "  },\n",
    " ]\n",
    "\n",
    "grid_search = GridSearchCV(estimator=estimator, param_grid=params, scoring='accuracy', verbose=10, cv=10)\n",
    "grid_search = grid_search.fit(numeric_plus_3, train_df_full.income_band)"
   ]
  },
  {
   "cell_type": "code",
   "execution_count": 84,
   "metadata": {},
   "outputs": [
    {
     "data": {
      "text/plain": [
       "0.84798753398315763"
      ]
     },
     "execution_count": 84,
     "metadata": {},
     "output_type": "execute_result"
    }
   ],
   "source": [
    "grid_search.best_score_"
   ]
  },
  {
   "cell_type": "code",
   "execution_count": 87,
   "metadata": {},
   "outputs": [
    {
     "data": {
      "text/plain": [
       "{'model__base_estimator__C': 6000, 'model__base_estimator__gamma': 0.006}"
      ]
     },
     "execution_count": 87,
     "metadata": {},
     "output_type": "execute_result"
    }
   ],
   "source": [
    "grid_search.best_params_"
   ]
  },
  {
   "cell_type": "code",
   "execution_count": null,
   "metadata": {
    "collapsed": true
   },
   "outputs": [],
   "source": []
  }
 ],
 "metadata": {
  "anaconda-cloud": {},
  "kernelspec": {
   "display_name": "Python 3",
   "language": "python",
   "name": "python3"
  },
  "language_info": {
   "codemirror_mode": {
    "name": "ipython",
    "version": 3
   },
   "file_extension": ".py",
   "mimetype": "text/x-python",
   "name": "python",
   "nbconvert_exporter": "python",
   "pygments_lexer": "ipython3",
   "version": "3.5.3"
  }
 },
 "nbformat": 4,
 "nbformat_minor": 1
}
