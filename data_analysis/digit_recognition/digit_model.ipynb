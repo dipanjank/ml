{
 "cells": [
  {
   "cell_type": "markdown",
   "metadata": {
    "deletable": true,
    "editable": true
   },
   "source": [
    "In this notebook, we build a Machine Learning model on the digit recognizer based on the eigenvalue features."
   ]
  },
  {
   "cell_type": "code",
   "execution_count": 1,
   "metadata": {
    "collapsed": false,
    "deletable": true,
    "editable": true
   },
   "outputs": [
    {
     "name": "stdout",
     "output_type": "stream",
     "text": [
      "Populating the interactive namespace from numpy and matplotlib\n"
     ]
    }
   ],
   "source": [
    "%pylab inline\n",
    "pylab.style.use('ggplot')\n",
    "\n",
    "import numpy as np\n",
    "import pandas as pd"
   ]
  },
  {
   "cell_type": "code",
   "execution_count": 2,
   "metadata": {
    "collapsed": false,
    "deletable": true,
    "editable": true
   },
   "outputs": [],
   "source": [
    "import os\n",
    "\n",
    "feature_file = os.path.join(os.getcwd(), 'char_features.csv')\n",
    "data_df = pd.read_csv(feature_file, index_col=0)"
   ]
  },
  {
   "cell_type": "code",
   "execution_count": 3,
   "metadata": {
    "collapsed": false,
    "deletable": true,
    "editable": true
   },
   "outputs": [
    {
     "data": {
      "text/html": [
       "<div>\n",
       "<table border=\"1\" class=\"dataframe\">\n",
       "  <thead>\n",
       "    <tr style=\"text-align: right;\">\n",
       "      <th></th>\n",
       "      <th>count</th>\n",
       "      <th>mean</th>\n",
       "      <th>std</th>\n",
       "      <th>min</th>\n",
       "      <th>25%</th>\n",
       "      <th>50%</th>\n",
       "      <th>75%</th>\n",
       "      <th>max</th>\n",
       "    </tr>\n",
       "  </thead>\n",
       "  <tbody>\n",
       "    <tr>\n",
       "      <th>nu03</th>\n",
       "      <td>1496.0</td>\n",
       "      <td>0.000046</td>\n",
       "      <td>0.000287</td>\n",
       "      <td>-0.001102</td>\n",
       "      <td>-0.000118</td>\n",
       "      <td>0.000024</td>\n",
       "      <td>0.000194</td>\n",
       "      <td>0.001627</td>\n",
       "    </tr>\n",
       "    <tr>\n",
       "      <th>nu11</th>\n",
       "      <td>1496.0</td>\n",
       "      <td>0.000031</td>\n",
       "      <td>0.000209</td>\n",
       "      <td>-0.001182</td>\n",
       "      <td>-0.000059</td>\n",
       "      <td>0.000018</td>\n",
       "      <td>0.000119</td>\n",
       "      <td>0.000932</td>\n",
       "    </tr>\n",
       "    <tr>\n",
       "      <th>nu12</th>\n",
       "      <td>1496.0</td>\n",
       "      <td>0.000249</td>\n",
       "      <td>0.000523</td>\n",
       "      <td>-0.001331</td>\n",
       "      <td>-0.000106</td>\n",
       "      <td>0.000192</td>\n",
       "      <td>0.000563</td>\n",
       "      <td>0.002311</td>\n",
       "    </tr>\n",
       "    <tr>\n",
       "      <th>on_pixel_frac</th>\n",
       "      <td>1496.0</td>\n",
       "      <td>0.040004</td>\n",
       "      <td>0.019563</td>\n",
       "      <td>0.001957</td>\n",
       "      <td>0.027081</td>\n",
       "      <td>0.038540</td>\n",
       "      <td>0.051335</td>\n",
       "      <td>0.104639</td>\n",
       "    </tr>\n",
       "    <tr>\n",
       "      <th>on_pixel_x_var</th>\n",
       "      <td>1496.0</td>\n",
       "      <td>8.071443</td>\n",
       "      <td>2.986408</td>\n",
       "      <td>0.187500</td>\n",
       "      <td>6.664485</td>\n",
       "      <td>8.583488</td>\n",
       "      <td>10.064963</td>\n",
       "      <td>15.352538</td>\n",
       "    </tr>\n",
       "    <tr>\n",
       "      <th>on_pixel_y_var</th>\n",
       "      <td>1496.0</td>\n",
       "      <td>6.324439</td>\n",
       "      <td>3.035991</td>\n",
       "      <td>0.000000</td>\n",
       "      <td>4.716589</td>\n",
       "      <td>6.572320</td>\n",
       "      <td>8.047325</td>\n",
       "      <td>26.270145</td>\n",
       "    </tr>\n",
       "    <tr>\n",
       "      <th>dct_0</th>\n",
       "      <td>1496.0</td>\n",
       "      <td>7857.911932</td>\n",
       "      <td>95.744775</td>\n",
       "      <td>7761.562500</td>\n",
       "      <td>7777.500000</td>\n",
       "      <td>7857.187500</td>\n",
       "      <td>7881.093750</td>\n",
       "      <td>8112.187500</td>\n",
       "    </tr>\n",
       "    <tr>\n",
       "      <th>dct_1</th>\n",
       "      <td>1496.0</td>\n",
       "      <td>-9.349362</td>\n",
       "      <td>31.128139</td>\n",
       "      <td>-96.483588</td>\n",
       "      <td>-8.651894</td>\n",
       "      <td>-5.434853</td>\n",
       "      <td>2.311168</td>\n",
       "      <td>29.736777</td>\n",
       "    </tr>\n",
       "    <tr>\n",
       "      <th>dct_2</th>\n",
       "      <td>1496.0</td>\n",
       "      <td>71.084518</td>\n",
       "      <td>166.104443</td>\n",
       "      <td>-206.684980</td>\n",
       "      <td>-52.205754</td>\n",
       "      <td>99.375435</td>\n",
       "      <td>220.018664</td>\n",
       "      <td>338.203586</td>\n",
       "    </tr>\n",
       "    <tr>\n",
       "      <th>dct_3</th>\n",
       "      <td>1496.0</td>\n",
       "      <td>344.807495</td>\n",
       "      <td>115.873211</td>\n",
       "      <td>40.305293</td>\n",
       "      <td>301.514885</td>\n",
       "      <td>377.801365</td>\n",
       "      <td>431.492843</td>\n",
       "      <td>470.849634</td>\n",
       "    </tr>\n",
       "    <tr>\n",
       "      <th>dct_4</th>\n",
       "      <td>1496.0</td>\n",
       "      <td>3.150628</td>\n",
       "      <td>12.267003</td>\n",
       "      <td>-12.147245</td>\n",
       "      <td>-3.031646</td>\n",
       "      <td>-1.904570</td>\n",
       "      <td>5.626301</td>\n",
       "      <td>32.509623</td>\n",
       "    </tr>\n",
       "    <tr>\n",
       "      <th>dct_5</th>\n",
       "      <td>1496.0</td>\n",
       "      <td>226.313370</td>\n",
       "      <td>159.142899</td>\n",
       "      <td>-13.127919</td>\n",
       "      <td>69.061977</td>\n",
       "      <td>282.111186</td>\n",
       "      <td>373.779526</td>\n",
       "      <td>447.123852</td>\n",
       "    </tr>\n",
       "  </tbody>\n",
       "</table>\n",
       "</div>"
      ],
      "text/plain": [
       "                 count         mean         std          min          25%  \\\n",
       "nu03            1496.0     0.000046    0.000287    -0.001102    -0.000118   \n",
       "nu11            1496.0     0.000031    0.000209    -0.001182    -0.000059   \n",
       "nu12            1496.0     0.000249    0.000523    -0.001331    -0.000106   \n",
       "on_pixel_frac   1496.0     0.040004    0.019563     0.001957     0.027081   \n",
       "on_pixel_x_var  1496.0     8.071443    2.986408     0.187500     6.664485   \n",
       "on_pixel_y_var  1496.0     6.324439    3.035991     0.000000     4.716589   \n",
       "dct_0           1496.0  7857.911932   95.744775  7761.562500  7777.500000   \n",
       "dct_1           1496.0    -9.349362   31.128139   -96.483588    -8.651894   \n",
       "dct_2           1496.0    71.084518  166.104443  -206.684980   -52.205754   \n",
       "dct_3           1496.0   344.807495  115.873211    40.305293   301.514885   \n",
       "dct_4           1496.0     3.150628   12.267003   -12.147245    -3.031646   \n",
       "dct_5           1496.0   226.313370  159.142899   -13.127919    69.061977   \n",
       "\n",
       "                        50%          75%          max  \n",
       "nu03               0.000024     0.000194     0.001627  \n",
       "nu11               0.000018     0.000119     0.000932  \n",
       "nu12               0.000192     0.000563     0.002311  \n",
       "on_pixel_frac      0.038540     0.051335     0.104639  \n",
       "on_pixel_x_var     8.583488    10.064963    15.352538  \n",
       "on_pixel_y_var     6.572320     8.047325    26.270145  \n",
       "dct_0           7857.187500  7881.093750  8112.187500  \n",
       "dct_1             -5.434853     2.311168    29.736777  \n",
       "dct_2             99.375435   220.018664   338.203586  \n",
       "dct_3            377.801365   431.492843   470.849634  \n",
       "dct_4             -1.904570     5.626301    32.509623  \n",
       "dct_5            282.111186   373.779526   447.123852  "
      ]
     },
     "execution_count": 3,
     "metadata": {},
     "output_type": "execute_result"
    }
   ],
   "source": [
    "data_df.describe().T"
   ]
  },
  {
   "cell_type": "code",
   "execution_count": 4,
   "metadata": {
    "collapsed": false,
    "deletable": true,
    "editable": true
   },
   "outputs": [
    {
     "data": {
      "text/plain": [
       "nu03              1496\n",
       "nu11              1496\n",
       "nu12              1496\n",
       "on_pixel_frac     1496\n",
       "on_pixel_x_var    1496\n",
       "on_pixel_y_var    1496\n",
       "dct_0             1496\n",
       "dct_1             1496\n",
       "dct_2             1496\n",
       "dct_3             1496\n",
       "dct_4             1496\n",
       "dct_5             1496\n",
       "dtype: int64"
      ]
     },
     "execution_count": 4,
     "metadata": {},
     "output_type": "execute_result"
    }
   ],
   "source": [
    "features = data_df.drop('font_name', axis=1)\n",
    "np.isfinite(features).sum(axis=0)"
   ]
  },
  {
   "cell_type": "markdown",
   "metadata": {
    "deletable": true,
    "editable": true
   },
   "source": [
    "# Instance Counts Per Class"
   ]
  },
  {
   "cell_type": "code",
   "execution_count": 5,
   "metadata": {
    "collapsed": false,
    "deletable": true,
    "editable": true
   },
   "outputs": [
    {
     "data": {
      "text/plain": [
       "<matplotlib.axes._subplots.AxesSubplot at 0x24da346d4e0>"
      ]
     },
     "execution_count": 5,
     "metadata": {},
     "output_type": "execute_result"
    },
    {
     "data": {
      "image/png": "[encoded data removed]",
      "text/plain": [
       "<matplotlib.figure.Figure at 0x24da342cf28>"
      ]
     },
     "metadata": {},
     "output_type": "display_data"
    }
   ],
   "source": [
    "data_df.index.value_counts().plot(kind='barh')"
   ]
  },
  {
   "cell_type": "code",
   "execution_count": 6,
   "metadata": {
    "collapsed": false,
    "deletable": true,
    "editable": true
   },
   "outputs": [
    {
     "data": {
      "text/plain": [
       "nu03              677\n",
       "nu11              647\n",
       "nu12              555\n",
       "on_pixel_frac       0\n",
       "on_pixel_x_var      0\n",
       "on_pixel_y_var      0\n",
       "dct_0               0\n",
       "dct_1             952\n",
       "dct_2             680\n",
       "dct_3               0\n",
       "dct_4             952\n",
       "dct_5             136\n",
       "dtype: int64"
      ]
     },
     "execution_count": 6,
     "metadata": {},
     "output_type": "execute_result"
    }
   ],
   "source": [
    "# Negative Values Check\n",
    "(features < 0).sum(axis=0)"
   ]
  },
  {
   "cell_type": "code",
   "execution_count": 7,
   "metadata": {
    "collapsed": false,
    "deletable": true,
    "editable": true
   },
   "outputs": [
    {
     "data": {
      "text/plain": [
       "(array([ 0,  1,  2,  3,  4,  5,  6,  7,  8,  9, 10, 11]),\n",
       " <a list of 12 Text xticklabel objects>)"
      ]
     },
     "execution_count": 7,
     "metadata": {},
     "output_type": "execute_result"
    },
    {
     "data": {
      "image/png": "[encoded data removed]",
      "text/plain": [
       "<matplotlib.figure.Figure at 0x24da506eba8>"
      ]
     },
     "metadata": {},
     "output_type": "display_data"
    }
   ],
   "source": [
    "from sklearn.feature_selection import mutual_info_classif\n",
    "\n",
    "f_importances = mutual_info_classif(features, features.index)\n",
    "f_importances = pd.Series(f_importances, index=features.columns)\n",
    "\n",
    "f_importances.plot(kind='bar')\n",
    "pylab.xticks(rotation=30)"
   ]
  },
  {
   "cell_type": "code",
   "execution_count": 8,
   "metadata": {
    "collapsed": false
   },
   "outputs": [],
   "source": [
    "dct_cols = features.columns.str.startswith('dct')\n",
    "features = features.loc[:, dct_cols]"
   ]
  },
  {
   "cell_type": "code",
   "execution_count": 9,
   "metadata": {
    "collapsed": false
   },
   "outputs": [
    {
     "data": {
      "text/plain": [
       "<matplotlib.axes._subplots.AxesSubplot at 0x24da51075f8>"
      ]
     },
     "execution_count": 9,
     "metadata": {},
     "output_type": "execute_result"
    },
    {
     "data": {
      "image/png": "[encoded data removed]",
      "text/plain": [
       "<matplotlib.figure.Figure at 0x24da5137748>"
      ]
     },
     "metadata": {},
     "output_type": "display_data"
    }
   ],
   "source": [
    "f_corrs = features.corr()\n",
    "\n",
    "_, ax = pylab.subplots(1, 1, figsize=(10, 10))\n",
    "import seaborn as sns\n",
    "sns.heatmap(f_corrs, annot=True, ax=ax)"
   ]
  },
  {
   "cell_type": "code",
   "execution_count": 10,
   "metadata": {
    "collapsed": true,
    "deletable": true,
    "editable": true
   },
   "outputs": [],
   "source": [
    "from sklearn.model_selection import cross_val_score, StratifiedKFold\n",
    "from sklearn.pipeline import Pipeline"
   ]
  },
  {
   "cell_type": "code",
   "execution_count": 11,
   "metadata": {
    "collapsed": false,
    "deletable": true,
    "editable": true
   },
   "outputs": [
    {
     "data": {
      "text/plain": [
       "<matplotlib.axes._subplots.AxesSubplot at 0x24da5598a58>"
      ]
     },
     "execution_count": 11,
     "metadata": {},
     "output_type": "execute_result"
    },
    {
     "data": {
      "image/png": "[encoded data removed]",
      "text/plain": [
       "<matplotlib.figure.Figure at 0x24da514b710>"
      ]
     },
     "metadata": {},
     "output_type": "display_data"
    }
   ],
   "source": [
    "from sklearn.svm import SVC\n",
    "from sklearn.preprocessing import StandardScaler\n",
    "\n",
    "normalizer = StandardScaler()\n",
    "estimator = SVC(C=5000)\n",
    "\n",
    "cv = StratifiedKFold(n_splits=10, shuffle=True, random_state=12345)\n",
    "\n",
    "pipeline = Pipeline([\n",
    "    ('normalizer', normalizer),\n",
    "    ('estimator', estimator),\n",
    "])\n",
    "\n",
    "scores = cross_val_score(pipeline, features, features.index, cv=cv, scoring='accuracy')\n",
    "\n",
    "scores = pd.Series(scores)\n",
    "scores.plot(kind='bar')"
   ]
  },
  {
   "cell_type": "code",
   "execution_count": 12,
   "metadata": {
    "collapsed": false,
    "deletable": true,
    "editable": true
   },
   "outputs": [
    {
     "data": {
      "text/plain": [
       "1.0"
      ]
     },
     "execution_count": 12,
     "metadata": {},
     "output_type": "execute_result"
    }
   ],
   "source": [
    "scores.mean()"
   ]
  },
  {
   "cell_type": "code",
   "execution_count": 13,
   "metadata": {
    "collapsed": false,
    "deletable": true,
    "editable": true
   },
   "outputs": [
    {
     "name": "stdout",
     "output_type": "stream",
     "text": [
      "             precision    recall  f1-score   support\n",
      "\n",
      "      comma       1.00      1.00      1.00       136\n",
      "      eight       1.00      1.00      1.00       136\n",
      "       five       1.00      1.00      1.00       136\n",
      "       four       1.00      1.00      1.00       136\n",
      "       nine       1.00      1.00      1.00       136\n",
      "        one       1.00      1.00      1.00       136\n",
      "      seven       1.00      1.00      1.00       136\n",
      "        six       1.00      1.00      1.00       136\n",
      "      three       1.00      1.00      1.00       136\n",
      "        two       1.00      1.00      1.00       136\n",
      "       zero       1.00      1.00      1.00       136\n",
      "\n",
      "avg / total       1.00      1.00      1.00      1496\n",
      "\n"
     ]
    }
   ],
   "source": [
    "from sklearn.metrics import classification_report\n",
    "from sklearn.model_selection import cross_val_predict\n",
    "\n",
    "normalizer = StandardScaler()\n",
    "estimator = SVC(C=5000)\n",
    "\n",
    "cv = StratifiedKFold(n_splits=10, shuffle=True, random_state=12345)\n",
    "\n",
    "pipeline = Pipeline([    \n",
    "    ('normalizer', normalizer),\n",
    "    ('estimator', estimator),\n",
    "])\n",
    "\n",
    "predictions = cross_val_predict(pipeline, features, features.index, cv=cv)\n",
    "\n",
    "report = classification_report(y_true=data_df.index.values, y_pred=predictions)\n",
    "print(report)"
   ]
  },
  {
   "cell_type": "code",
   "execution_count": 14,
   "metadata": {
    "collapsed": false,
    "deletable": true,
    "editable": true
   },
   "outputs": [
    {
     "data": {
      "text/plain": [
       "<matplotlib.axes._subplots.AxesSubplot at 0x24da56168d0>"
      ]
     },
     "execution_count": 14,
     "metadata": {},
     "output_type": "execute_result"
    },
    {
     "data": {
      "image/png": "[encoded data removed]",
      "text/plain": [
       "<matplotlib.figure.Figure at 0x24da35641d0>"
      ]
     },
     "metadata": {},
     "output_type": "display_data"
    }
   ],
   "source": [
    "from sklearn.metrics import confusion_matrix\n",
    "\n",
    "chars = pd.unique(data_df.index)\n",
    "\n",
    "# Passing labels=char ensures that confusion_matrix orders the results in the the same order as chars\n",
    "# This ensures our tick labels and the confusion matrix output are correctly aligned.\n",
    "cm = confusion_matrix(data_df.index, predictions, labels=chars)\n",
    "sns.heatmap(cm, annot=True, xticklabels=chars, yticklabels=chars)"
   ]
  }
 ],
 "metadata": {
  "kernelspec": {
   "display_name": "Python 3",
   "language": "python",
   "name": "python3"
  },
  "language_info": {
   "codemirror_mode": {
    "name": "ipython",
    "version": 3
   },
   "file_extension": ".py",
   "mimetype": "text/x-python",
   "name": "python",
   "nbconvert_exporter": "python",
   "pygments_lexer": "ipython3",
   "version": "3.5.3"
  }
 },
 "nbformat": 4,
 "nbformat_minor": 2
}
