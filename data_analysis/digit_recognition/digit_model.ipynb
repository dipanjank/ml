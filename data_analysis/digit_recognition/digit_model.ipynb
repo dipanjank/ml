{
 "cells": [
  {
   "cell_type": "markdown",
   "metadata": {
    "deletable": true,
    "editable": true
   },
   "source": [
    "In this notebook, we build a Machine Learning model on the digit recognizer based on the eigenvalue features."
   ]
  },
  {
   "cell_type": "code",
   "execution_count": 1,
   "metadata": {
    "collapsed": false,
    "deletable": true,
    "editable": true
   },
   "outputs": [
    {
     "name": "stdout",
     "output_type": "stream",
     "text": [
      "Populating the interactive namespace from numpy and matplotlib\n"
     ]
    }
   ],
   "source": [
    "%pylab inline\n",
    "pylab.style.use('ggplot')\n",
    "\n",
    "import numpy as np\n",
    "import pandas as pd"
   ]
  },
  {
   "cell_type": "code",
   "execution_count": 2,
   "metadata": {
    "collapsed": true,
    "deletable": true,
    "editable": true
   },
   "outputs": [],
   "source": [
    "import os\n",
    "\n",
    "feature_file = os.path.join(os.getcwd(), 'digit_eigenvalues.csv')\n",
    "data_df = pd.read_csv(feature_file)"
   ]
  },
  {
   "cell_type": "code",
   "execution_count": 3,
   "metadata": {
    "collapsed": false,
    "deletable": true,
    "editable": true
   },
   "outputs": [
    {
     "data": {
      "text/html": [
       "<div>\n",
       "<table border=\"1\" class=\"dataframe\">\n",
       "  <thead>\n",
       "    <tr style=\"text-align: right;\">\n",
       "      <th></th>\n",
       "      <th>label</th>\n",
       "      <th>eig_1</th>\n",
       "      <th>eig_2</th>\n",
       "      <th>eig_3</th>\n",
       "      <th>eig_4</th>\n",
       "      <th>eig_5</th>\n",
       "      <th>eig_6</th>\n",
       "      <th>eig_7</th>\n",
       "      <th>eig_8</th>\n",
       "      <th>eig_9</th>\n",
       "      <th>eig_10</th>\n",
       "      <th>eig_11</th>\n",
       "      <th>eig_12</th>\n",
       "      <th>eig_13</th>\n",
       "      <th>eig_14</th>\n",
       "      <th>eig_15</th>\n",
       "      <th>eig_16</th>\n",
       "    </tr>\n",
       "  </thead>\n",
       "  <tbody>\n",
       "    <tr>\n",
       "      <th>0</th>\n",
       "      <td>zero</td>\n",
       "      <td>15.420569</td>\n",
       "      <td>0.427869</td>\n",
       "      <td>0.151561</td>\n",
       "      <td>4.400485e-16</td>\n",
       "      <td>-7.267618e-17</td>\n",
       "      <td>-7.267618e-17</td>\n",
       "      <td>-1.208153e-16</td>\n",
       "      <td>-1.208153e-16</td>\n",
       "      <td>9.232392e-18</td>\n",
       "      <td>-6.679642e-17</td>\n",
       "      <td>6.408589e-11</td>\n",
       "      <td>-6.408578e-11</td>\n",
       "      <td>6.842278e-49</td>\n",
       "      <td>8.859278e-33</td>\n",
       "      <td>0.000000e+00</td>\n",
       "      <td>0.0</td>\n",
       "    </tr>\n",
       "    <tr>\n",
       "      <th>1</th>\n",
       "      <td>one</td>\n",
       "      <td>15.554091</td>\n",
       "      <td>0.222954</td>\n",
       "      <td>0.222954</td>\n",
       "      <td>-2.445276e-16</td>\n",
       "      <td>1.860237e-16</td>\n",
       "      <td>-3.848788e-17</td>\n",
       "      <td>-3.848788e-17</td>\n",
       "      <td>3.500996e-31</td>\n",
       "      <td>3.500996e-31</td>\n",
       "      <td>-2.923486e-46</td>\n",
       "      <td>-1.715385e-47</td>\n",
       "      <td>0.000000e+00</td>\n",
       "      <td>-1.531445e-61</td>\n",
       "      <td>-1.917615e-93</td>\n",
       "      <td>-2.590851e-77</td>\n",
       "      <td>0.0</td>\n",
       "    </tr>\n",
       "    <tr>\n",
       "      <th>2</th>\n",
       "      <td>two</td>\n",
       "      <td>15.491413</td>\n",
       "      <td>-0.914798</td>\n",
       "      <td>0.423385</td>\n",
       "      <td>2.201392e-16</td>\n",
       "      <td>2.201392e-16</td>\n",
       "      <td>-2.181684e-16</td>\n",
       "      <td>2.593635e-16</td>\n",
       "      <td>6.099706e-17</td>\n",
       "      <td>6.099706e-17</td>\n",
       "      <td>-1.662984e-18</td>\n",
       "      <td>-1.662984e-18</td>\n",
       "      <td>3.026561e-17</td>\n",
       "      <td>5.473822e-48</td>\n",
       "      <td>2.002967e-32</td>\n",
       "      <td>0.000000e+00</td>\n",
       "      <td>0.0</td>\n",
       "    </tr>\n",
       "    <tr>\n",
       "      <th>3</th>\n",
       "      <td>three</td>\n",
       "      <td>15.310330</td>\n",
       "      <td>-0.906107</td>\n",
       "      <td>0.122253</td>\n",
       "      <td>1.222528e-01</td>\n",
       "      <td>3.512711e-01</td>\n",
       "      <td>2.904795e-16</td>\n",
       "      <td>-1.714974e-17</td>\n",
       "      <td>-1.714974e-17</td>\n",
       "      <td>-2.929592e-16</td>\n",
       "      <td>2.095939e-17</td>\n",
       "      <td>2.095939e-17</td>\n",
       "      <td>-1.083940e-17</td>\n",
       "      <td>-3.851860e-34</td>\n",
       "      <td>-4.987330e-18</td>\n",
       "      <td>0.000000e+00</td>\n",
       "      <td>0.0</td>\n",
       "    </tr>\n",
       "    <tr>\n",
       "      <th>4</th>\n",
       "      <td>four</td>\n",
       "      <td>15.503790</td>\n",
       "      <td>-0.827032</td>\n",
       "      <td>0.161621</td>\n",
       "      <td>1.616207e-01</td>\n",
       "      <td>-7.396931e-17</td>\n",
       "      <td>-7.396931e-17</td>\n",
       "      <td>3.682589e-17</td>\n",
       "      <td>3.682589e-17</td>\n",
       "      <td>1.000000e+00</td>\n",
       "      <td>1.399832e-16</td>\n",
       "      <td>-1.453287e-17</td>\n",
       "      <td>6.649039e-32</td>\n",
       "      <td>-4.793997e-64</td>\n",
       "      <td>-3.373503e-80</td>\n",
       "      <td>0.000000e+00</td>\n",
       "      <td>0.0</td>\n",
       "    </tr>\n",
       "  </tbody>\n",
       "</table>\n",
       "</div>"
      ],
      "text/plain": [
       "   label      eig_1     eig_2     eig_3         eig_4         eig_5  \\\n",
       "0   zero  15.420569  0.427869  0.151561  4.400485e-16 -7.267618e-17   \n",
       "1    one  15.554091  0.222954  0.222954 -2.445276e-16  1.860237e-16   \n",
       "2    two  15.491413 -0.914798  0.423385  2.201392e-16  2.201392e-16   \n",
       "3  three  15.310330 -0.906107  0.122253  1.222528e-01  3.512711e-01   \n",
       "4   four  15.503790 -0.827032  0.161621  1.616207e-01 -7.396931e-17   \n",
       "\n",
       "          eig_6         eig_7         eig_8         eig_9        eig_10  \\\n",
       "0 -7.267618e-17 -1.208153e-16 -1.208153e-16  9.232392e-18 -6.679642e-17   \n",
       "1 -3.848788e-17 -3.848788e-17  3.500996e-31  3.500996e-31 -2.923486e-46   \n",
       "2 -2.181684e-16  2.593635e-16  6.099706e-17  6.099706e-17 -1.662984e-18   \n",
       "3  2.904795e-16 -1.714974e-17 -1.714974e-17 -2.929592e-16  2.095939e-17   \n",
       "4 -7.396931e-17  3.682589e-17  3.682589e-17  1.000000e+00  1.399832e-16   \n",
       "\n",
       "         eig_11        eig_12        eig_13        eig_14        eig_15  \\\n",
       "0  6.408589e-11 -6.408578e-11  6.842278e-49  8.859278e-33  0.000000e+00   \n",
       "1 -1.715385e-47  0.000000e+00 -1.531445e-61 -1.917615e-93 -2.590851e-77   \n",
       "2 -1.662984e-18  3.026561e-17  5.473822e-48  2.002967e-32  0.000000e+00   \n",
       "3  2.095939e-17 -1.083940e-17 -3.851860e-34 -4.987330e-18  0.000000e+00   \n",
       "4 -1.453287e-17  6.649039e-32 -4.793997e-64 -3.373503e-80  0.000000e+00   \n",
       "\n",
       "   eig_16  \n",
       "0     0.0  \n",
       "1     0.0  \n",
       "2     0.0  \n",
       "3     0.0  \n",
       "4     0.0  "
      ]
     },
     "execution_count": 3,
     "metadata": {},
     "output_type": "execute_result"
    }
   ],
   "source": [
    "# class imbalance\n",
    "data_df.head()"
   ]
  },
  {
   "cell_type": "code",
   "execution_count": 4,
   "metadata": {
    "collapsed": true,
    "deletable": true,
    "editable": true
   },
   "outputs": [],
   "source": [
    "data_df = data_df.set_index('label')"
   ]
  },
  {
   "cell_type": "code",
   "execution_count": 5,
   "metadata": {
    "collapsed": false,
    "deletable": true,
    "editable": true
   },
   "outputs": [
    {
     "data": {
      "text/plain": [
       "<matplotlib.axes._subplots.AxesSubplot at 0x1d0972cae10>"
      ]
     },
     "execution_count": 5,
     "metadata": {},
     "output_type": "execute_result"
    },
    {
     "data": {
      "image/png": "[encoded data removed]",
      "text/plain": [
       "<matplotlib.figure.Figure at 0x1d097292f60>"
      ]
     },
     "metadata": {},
     "output_type": "display_data"
    }
   ],
   "source": [
    "data_df.index.value_counts().plot(kind='barh')"
   ]
  },
  {
   "cell_type": "code",
   "execution_count": 6,
   "metadata": {
    "collapsed": false,
    "deletable": true,
    "editable": true
   },
   "outputs": [],
   "source": [
    "from sklearn.feature_selection import f_classif"
   ]
  },
  {
   "cell_type": "code",
   "execution_count": 7,
   "metadata": {
    "collapsed": false,
    "deletable": true,
    "editable": true
   },
   "outputs": [
    {
     "data": {
      "image/png": "[encoded data removed]",
      "text/plain": [
       "<matplotlib.figure.Figure at 0x1d098f00128>"
      ]
     },
     "metadata": {},
     "output_type": "display_data"
    }
   ],
   "source": [
    "fig, ax = pylab.subplots(2, 1, figsize=(8, 8))\n",
    "t_stats, p_vals = f_classif(data_df, data_df.index)\n",
    "feature_importances = pd.DataFrame({'F_test_statistic': t_stats, 'F_test_p_val': p_vals})\n",
    "feature_importances.index = data_df.columns\n",
    "\n",
    "feature_importances.plot(kind='bar', subplots=True, ax=ax)\n",
    "pylab.xticks(rotation=30)\n",
    "pylab.tight_layout()"
   ]
  },
  {
   "cell_type": "code",
   "execution_count": 8,
   "metadata": {
    "collapsed": false,
    "deletable": true,
    "editable": true
   },
   "outputs": [
    {
     "data": {
      "text/html": [
       "<div>\n",
       "<table border=\"1\" class=\"dataframe\">\n",
       "  <thead>\n",
       "    <tr style=\"text-align: right;\">\n",
       "      <th></th>\n",
       "      <th>F_test_p_val</th>\n",
       "      <th>F_test_statistic</th>\n",
       "    </tr>\n",
       "  </thead>\n",
       "  <tbody>\n",
       "    <tr>\n",
       "      <th>eig_1</th>\n",
       "      <td>2.972501e-09</td>\n",
       "      <td>6.153377</td>\n",
       "    </tr>\n",
       "    <tr>\n",
       "      <th>eig_2</th>\n",
       "      <td>6.091716e-52</td>\n",
       "      <td>29.377032</td>\n",
       "    </tr>\n",
       "    <tr>\n",
       "      <th>eig_3</th>\n",
       "      <td>5.547486e-40</td>\n",
       "      <td>22.700095</td>\n",
       "    </tr>\n",
       "    <tr>\n",
       "      <th>eig_4</th>\n",
       "      <td>2.877789e-04</td>\n",
       "      <td>3.313405</td>\n",
       "    </tr>\n",
       "    <tr>\n",
       "      <th>eig_5</th>\n",
       "      <td>2.659965e-11</td>\n",
       "      <td>7.268052</td>\n",
       "    </tr>\n",
       "    <tr>\n",
       "      <th>eig_8</th>\n",
       "      <td>1.559300e-14</td>\n",
       "      <td>9.004705</td>\n",
       "    </tr>\n",
       "    <tr>\n",
       "      <th>eig_9</th>\n",
       "      <td>1.575528e-26</td>\n",
       "      <td>15.404066</td>\n",
       "    </tr>\n",
       "  </tbody>\n",
       "</table>\n",
       "</div>"
      ],
      "text/plain": [
       "       F_test_p_val  F_test_statistic\n",
       "eig_1  2.972501e-09          6.153377\n",
       "eig_2  6.091716e-52         29.377032\n",
       "eig_3  5.547486e-40         22.700095\n",
       "eig_4  2.877789e-04          3.313405\n",
       "eig_5  2.659965e-11          7.268052\n",
       "eig_8  1.559300e-14          9.004705\n",
       "eig_9  1.575528e-26         15.404066"
      ]
     },
     "execution_count": 8,
     "metadata": {},
     "output_type": "execute_result"
    }
   ],
   "source": [
    "feature_importances[feature_importances['F_test_p_val'] < 0.05]                "
   ]
  },
  {
   "cell_type": "code",
   "execution_count": 9,
   "metadata": {
    "collapsed": false,
    "deletable": true,
    "editable": true
   },
   "outputs": [
    {
     "data": {
      "text/plain": [
       "<matplotlib.axes._subplots.AxesSubplot at 0x1d09946dac8>"
      ]
     },
     "execution_count": 9,
     "metadata": {},
     "output_type": "execute_result"
    },
    {
     "data": {
      "image/png": "[encoded data removed]",
      "text/plain": [
       "<matplotlib.figure.Figure at 0x1d098fd4780>"
      ]
     },
     "metadata": {},
     "output_type": "display_data"
    }
   ],
   "source": [
    "f_subset = feature_importances[feature_importances['F_test_p_val'] < 0.05]\n",
    "relevant_features = data_df.loc[:, [str(col) for col in f_subset.index]]\n",
    "\n",
    "rf_corrs = relevant_features.corr()\n",
    "\n",
    "import seaborn as sns\n",
    "sns.heatmap(rf_corrs, annot=True)"
   ]
  },
  {
   "cell_type": "code",
   "execution_count": 10,
   "metadata": {
    "collapsed": true,
    "deletable": true,
    "editable": true
   },
   "outputs": [],
   "source": [
    "from sklearn.feature_selection import SelectKBest\n",
    "from sklearn.model_selection import cross_val_score, StratifiedKFold\n",
    "from sklearn.pipeline import Pipeline"
   ]
  },
  {
   "cell_type": "code",
   "execution_count": 17,
   "metadata": {
    "collapsed": false,
    "deletable": true,
    "editable": true
   },
   "outputs": [
    {
     "data": {
      "text/plain": [
       "<matplotlib.axes._subplots.AxesSubplot at 0x1d09a9facf8>"
      ]
     },
     "execution_count": 17,
     "metadata": {},
     "output_type": "execute_result"
    },
    {
     "data": {
      "image/png": "[encoded data removed]",
      "text/plain": [
       "<matplotlib.figure.Figure at 0x1d099970898>"
      ]
     },
     "metadata": {},
     "output_type": "display_data"
    }
   ],
   "source": [
    "from sklearn.svm import SVC\n",
    "from sklearn.preprocessing import StandardScaler\n",
    "\n",
    "selector = SelectKBest(f_classif, k=7)\n",
    "normalizer = StandardScaler()\n",
    "estimator = SVC(C=5000)\n",
    "\n",
    "cv = StratifiedKFold(n_splits=5, shuffle=True, random_state=12345)\n",
    "\n",
    "pipeline = Pipeline([\n",
    "    ('selector', selector),\n",
    "    ('normalizer', normalizer),\n",
    "    ('estimator', estimator),\n",
    "])\n",
    "\n",
    "scores = cross_val_score(pipeline, data_df, data_df.index, cv=cv, scoring='accuracy')\n",
    "\n",
    "scores = pd.Series(scores)\n",
    "scores.plot(kind='bar')"
   ]
  },
  {
   "cell_type": "code",
   "execution_count": 18,
   "metadata": {
    "collapsed": false,
    "deletable": true,
    "editable": true
   },
   "outputs": [
    {
     "data": {
      "text/plain": [
       "0.49634439634439637"
      ]
     },
     "execution_count": 18,
     "metadata": {},
     "output_type": "execute_result"
    }
   ],
   "source": [
    "scores.mean()"
   ]
  },
  {
   "cell_type": "code",
   "execution_count": 20,
   "metadata": {
    "collapsed": false
   },
   "outputs": [],
   "source": [
    "from sklearn.metrics import classification_report\n",
    "from sklearn.model_selection import cross_val_predict\n",
    "\n",
    "selector = SelectKBest(f_classif, k=7)\n",
    "normalizer = StandardScaler()\n",
    "estimator = SVC(C=5000)\n",
    "\n",
    "cv = StratifiedKFold(n_splits=5, shuffle=True, random_state=12345)\n",
    "\n",
    "pipeline = Pipeline([\n",
    "    ('selector', selector),\n",
    "    ('normalizer', normalizer),\n",
    "    ('estimator', estimator),\n",
    "])\n",
    "\n",
    "predictions = cross_val_predict(pipeline, data_df, data_df.index, cv=cv)"
   ]
  },
  {
   "cell_type": "code",
   "execution_count": 24,
   "metadata": {
    "collapsed": false
   },
   "outputs": [
    {
     "name": "stdout",
     "output_type": "stream",
     "text": [
      "             precision    recall  f1-score   support\n",
      "\n",
      "      comma       0.75      0.95      0.84       136\n",
      "      eight       0.43      0.46      0.44       136\n",
      "       five       0.40      0.39      0.40       136\n",
      "       four       0.46      0.45      0.46       136\n",
      "       nine       0.44      0.35      0.39       136\n",
      "        one       0.39      0.54      0.45       136\n",
      "      seven       0.56      0.46      0.50       136\n",
      "        six       0.56      0.57      0.56       136\n",
      "      three       0.39      0.38      0.39       136\n",
      "        two       0.51      0.58      0.54       136\n",
      "       zero       0.55      0.35      0.42       136\n",
      "\n",
      "avg / total       0.50      0.50      0.49      1496\n",
      "\n"
     ]
    }
   ],
   "source": [
    "report = classification_report(y_true=data_df.index.values, y_pred=predictions)\n",
    "print(report)"
   ]
  }
 ],
 "metadata": {
  "kernelspec": {
   "display_name": "Python 3",
   "language": "python",
   "name": "python3"
  },
  "language_info": {
   "codemirror_mode": {
    "name": "ipython",
    "version": 3
   },
   "file_extension": ".py",
   "mimetype": "text/x-python",
   "name": "python",
   "nbconvert_exporter": "python",
   "pygments_lexer": "ipython3",
   "version": "3.5.3"
  }
 },
 "nbformat": 4,
 "nbformat_minor": 2
}
