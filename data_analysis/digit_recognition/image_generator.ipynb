{
 "cells": [
  {
   "cell_type": "code",
   "execution_count": 1,
   "metadata": {
    "collapsed": false
   },
   "outputs": [
    {
     "name": "stdout",
     "output_type": "stream",
     "text": [
      "Populating the interactive namespace from numpy and matplotlib\n"
     ]
    }
   ],
   "source": [
    "%pylab inline"
   ]
  },
  {
   "cell_type": "code",
   "execution_count": 6,
   "metadata": {
    "collapsed": false
   },
   "outputs": [],
   "source": [
    "from matplotlib import font_manager"
   ]
  },
  {
   "cell_type": "code",
   "execution_count": 12,
   "metadata": {
    "collapsed": false
   },
   "outputs": [
    {
     "data": {
      "text/plain": [
       "'D:\\\\Anaconda3\\\\lib\\\\site-packages\\\\matplotlib\\\\mpl-data\\\\fonts\\\\ttf\\\\STIXGeneral.ttf'"
      ]
     },
     "execution_count": 12,
     "metadata": {},
     "output_type": "execute_result"
    }
   ],
   "source": [
    "font_files = font_manager.fontManager.ttflist\n",
    "\n",
    "font_files[0].fname"
   ]
  },
  {
   "cell_type": "code",
   "execution_count": 21,
   "metadata": {
    "collapsed": false
   },
   "outputs": [
    {
     "data": {
      "text/plain": [
       "<matplotlib.text.Text at 0x1e5b8576898>"
      ]
     },
     "execution_count": 21,
     "metadata": {},
     "output_type": "execute_result"
    },
    {
     "data": {
      "image/png": "[encoded data removed]",
      "text/plain": [
       "<matplotlib.figure.Figure at 0x1e5b7519b38>"
      ]
     },
     "metadata": {},
     "output_type": "display_data"
    }
   ],
   "source": [
    "font_props = font_manager.FontProperties(style='normal', size=20, fname=font_files[0].fname)\n",
    "\n",
    "figure, ax = pylab.subplots(1, 1, figsize=(0.1, 1))\n",
    "pylab.axis('off')\n",
    "ax.text(0.5, 0.5, '0123456789', \n",
    "        verticalalignment='top', horizontalalignment='left',\n",
    "        fontproperties=font_props)"
   ]
  },
  {
   "cell_type": "code",
   "execution_count": 48,
   "metadata": {
    "collapsed": false
   },
   "outputs": [],
   "source": [
    "import os\n",
    "image_dir = os.path.join(os.getcwd(), 'font_images')\n",
    "os.makedirs(image_dir, exist_ok=True)\n",
    "\n",
    "def save_image(font):\n",
    "    font_props = font_manager.FontProperties(style='normal', size=20, fname=font.fname)\n",
    "    image_name = os.path.join(image_dir, os.path.basename(font.fname).replace('.ttf', '.png'))\n",
    "    \n",
    "    figure, ax = pylab.subplots(1, 1, figsize=(4, 0.5))\n",
    "    pylab.axis('off')\n",
    "    ax.text(0, 0.5, '0123456789', \n",
    "            verticalalignment='top', horizontalalignment='left',\n",
    "            fontproperties=font_props)\n",
    "    \n",
    "    pylab.savefig(image_name)    \n",
    "    pylab.close(figure) "
   ]
  },
  {
   "cell_type": "code",
   "execution_count": 49,
   "metadata": {
    "collapsed": true
   },
   "outputs": [],
   "source": [
    "from ipywidgets import FloatProgress\n",
    "from IPython.display import display"
   ]
  },
  {
   "cell_type": "code",
   "execution_count": 50,
   "metadata": {
    "collapsed": false
   },
   "outputs": [
    {
     "data": {
      "application/vnd.jupyter.widget-view+json": {
       "model_id": "3f6f542256954b85a647adb33c3449f3"
      }
     },
     "metadata": {},
     "output_type": "display_data"
    }
   ],
   "source": [
    "prog = FloatProgress(min=1, max=len(font_files), description='saving font images...')\n",
    "display(prog)\n",
    "\n",
    "for font in font_files:\n",
    "    if font.fname.endswith('.ttf'):\n",
    "        save_image(font)\n",
    "        \n",
    "    prog.value += 1\n",
    "    \n",
    "prog.bar_style = 'success'"
   ]
  },
  {
   "cell_type": "code",
   "execution_count": null,
   "metadata": {
    "collapsed": false
   },
   "outputs": [],
   "source": []
  }
 ],
 "metadata": {
  "kernelspec": {
   "display_name": "Python 3",
   "language": "python",
   "name": "python3"
  },
  "language_info": {
   "codemirror_mode": {
    "name": "ipython",
    "version": 3
   },
   "file_extension": ".py",
   "mimetype": "text/x-python",
   "name": "python",
   "nbconvert_exporter": "python",
   "pygments_lexer": "ipython3",
   "version": "3.5.3"
  }
 },
 "nbformat": 4,
 "nbformat_minor": 2
}
