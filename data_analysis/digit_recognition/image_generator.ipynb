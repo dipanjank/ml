{
 "cells": [
  {
   "cell_type": "markdown",
   "metadata": {},
   "source": [
    "In this notebook, we will generate one image per character for a set of TTF fonts. These are:\n",
    "\n",
    "\"['arial', 'arialbd', 'arialbi', 'ariali', 'ariblk', 'calibri', 'calibrib', 'calibrii', 'calibril', 'calibrili', 'calibriz', 'cambriab', 'cambriai', 'cambriaz', 'candara', 'Candarab', 'candarai', 'candaraz', 'cmb10', 'cmmi10', 'cmr10', 'cmss10', 'cmtt10', 'comic', 'comicbd', 'comici', 'comicz', 'consola', 'consolab', 'consolai', 'consolaz', 'constan', 'constanb', 'constani', 'constanz', 'corbel', 'corbelb', 'corbeli', 'corbelz', 'cour', 'courbd', 'courbi', 'couri', 'ebrima', 'ebrimabd', 'framd', 'framdit', 'Gabriola', 'gadugi', 'gadugib', 'georgia', 'georgiab', 'georgiai', 'georgiaz', 'guitar pro 5', 'himalaya', 'impact', 'javatext', 'LeelaUIb', 'LeelawUI', 'LeelUIsl', 'lucon', 'l_10646', 'malgun', 'malgunbd', 'malgunsl', 'micross', 'mmrtext', 'mmrtextb', 'monbaiti', 'msyi', 'mvboli', 'Nirmala', 'nirmalab', 'NirmalaS', 'ntailu', 'ntailub', 'pala', 'palab', 'palabi', 'palai', 'phagspa', 'phagspab', 'powertab', 'segoepr', 'segoeprb', 'segoesc', 'segoescb', 'segoeui', 'segoeuib', 'segoeuii', 'segoeuil', 'segoeuisl', 'segoeuiz', 'seguibl', 'seguibli', 'seguiemj', 'seguihis', 'seguili', 'seguisb', 'seguisbi', 'seguisli', 'seguisym', 'simsunb', 'STIXGeneral', 'STIXGeneralBol', 'STIXGeneralBolIta', 'STIXGeneralItalic', 'sylfaen', 'tahoma', 'tahomabd', 'taile', 'taileb', 'times', 'timesbd', 'timesbi', 'timesi', 'trebuc', 'trebucbd', 'trebucbi', 'trebucit', 'Vera', 'VeraBd', 'VeraBI', 'VeraIt', 'VeraMoBd', 'VeraMoBI', 'VeraMoIt', 'VeraMono', 'VeraSe', 'VeraSeBd', 'verdana', 'verdanab', 'verdanai', 'verdanaz', 'VodafoneExBd', 'vodafonelt', 'vodafonerg', 'VodafoneRgBd']\""
   ]
  },
  {
   "cell_type": "code",
   "execution_count": 2,
   "metadata": {
    "collapsed": false,
    "deletable": true,
    "editable": true
   },
   "outputs": [
    {
     "name": "stdout",
     "output_type": "stream",
     "text": [
      "Populating the interactive namespace from numpy and matplotlib\n"
     ]
    }
   ],
   "source": [
    "%pylab inline"
   ]
  },
  {
   "cell_type": "code",
   "execution_count": 3,
   "metadata": {
    "collapsed": false,
    "deletable": true,
    "editable": true
   },
   "outputs": [],
   "source": [
    "from matplotlib import font_manager"
   ]
  },
  {
   "cell_type": "code",
   "execution_count": 4,
   "metadata": {
    "collapsed": false,
    "deletable": true,
    "editable": true
   },
   "outputs": [
    {
     "data": {
      "text/plain": [
       "'D:\\\\Anaconda3\\\\lib\\\\site-packages\\\\matplotlib\\\\mpl-data\\\\fonts\\\\ttf\\\\STIXGeneral.ttf'"
      ]
     },
     "execution_count": 4,
     "metadata": {},
     "output_type": "execute_result"
    }
   ],
   "source": [
    "font_files = font_manager.fontManager.ttflist\n",
    "\n",
    "font_files[0].fname"
   ]
  },
  {
   "cell_type": "code",
   "execution_count": 5,
   "metadata": {
    "collapsed": false,
    "deletable": true,
    "editable": true
   },
   "outputs": [
    {
     "data": {
      "image/png": "[encoded data removed]",
      "text/plain": [
       "<matplotlib.figure.Figure at 0x258489cfa90>"
      ]
     },
     "metadata": {},
     "output_type": "display_data"
    }
   ],
   "source": [
    "font_props = font_manager.FontProperties(style='normal', size=40, fname=font_files[0].fname)\n",
    "text = '0123456789,'\n",
    "\n",
    "figure, axes = pylab.subplots(1, len(text), figsize=(10, 1))\n",
    "\n",
    "for char, ax in zip(text, axes):\n",
    "    ax.text(0.2, 0.7, char, verticalalignment='top', horizontalalignment='left', fontproperties=font_props)\n",
    "    ax.tick_params(\n",
    "        axis='both',          # changes apply to the x-axis and y-axis\n",
    "        which='both',      # both major and minor ticks are affected\n",
    "        bottom='off', top='off', left='off', right='off', # don't display ticks\n",
    "        labelbottom='off', labeltop='off', labelleft='off', labelright='off' # don't display ticklabels\n",
    ") \n",
    "    \n",
    "    "
   ]
  },
  {
   "cell_type": "code",
   "execution_count": 9,
   "metadata": {
    "collapsed": false,
    "deletable": true,
    "editable": true
   },
   "outputs": [],
   "source": [
    "import os\n",
    "image_dir = os.path.join(os.getcwd(), 'font_images')\n",
    "os.makedirs(image_dir, exist_ok=True)\n",
    "\n",
    "def save_image(font, font_size=40, figsize=(11, 1)):\n",
    "    \"\"\"\n",
    "    Save the horizonatally stacked list of digits image for a given font into an image (font_name.png).\n",
    "    \n",
    "    matplotlib does not deal with pixels. Instead we supply the 'dots per inch' arg. \n",
    "    Saved image size in pixels is figsize * dpi.\n",
    "    \"\"\"\n",
    "    font_props = font_manager.FontProperties(style='normal', size=font_size, fname=font.fname)\n",
    "    image_name = os.path.join(image_dir, \n",
    "                              os.path.basename(font.fname).replace('.ttf', '.png'))\n",
    "    \n",
    "    text = '0123456789,'\n",
    "\n",
    "    figure, axes = pylab.subplots(1, len(text), figsize=figsize)\n",
    "\n",
    "    for char, ax in zip(text, axes):\n",
    "        ax.text(0.2, 0.7, char, verticalalignment='top', horizontalalignment='left', fontproperties=font_props)\n",
    "        ax.axis('off')\n",
    "\n",
    "    # bbox_inches='tight' removes leading and trailing whitespace.\n",
    "    pylab.savefig(image_name, bbox_inches='tight', dpi=100)    \n",
    "    pylab.close(figure) "
   ]
  },
  {
   "cell_type": "code",
   "execution_count": 10,
   "metadata": {
    "collapsed": true,
    "deletable": true,
    "editable": true
   },
   "outputs": [],
   "source": [
    "from ipywidgets import FloatProgress\n",
    "from IPython.display import display"
   ]
  },
  {
   "cell_type": "code",
   "execution_count": 11,
   "metadata": {
    "collapsed": false,
    "deletable": true,
    "editable": true
   },
   "outputs": [
    {
     "data": {
      "application/vnd.jupyter.widget-view+json": {
       "model_id": "fe816fab23f54f8ea06902f79dbaa525"
      }
     },
     "metadata": {},
     "output_type": "display_data"
    }
   ],
   "source": [
    "prog = FloatProgress(min=1, max=len(font_files), description='saving font images...')\n",
    "display(prog)\n",
    "\n",
    "for font in font_files:\n",
    "    if font.fname.endswith('.ttf'):\n",
    "        save_image(font)\n",
    "        \n",
    "    prog.value += 1\n",
    "    \n",
    "prog.bar_style = 'success'"
   ]
  }
 ],
 "metadata": {
  "kernelspec": {
   "display_name": "Python 3",
   "language": "python",
   "name": "python3"
  },
  "language_info": {
   "codemirror_mode": {
    "name": "ipython",
    "version": 3
   },
   "file_extension": ".py",
   "mimetype": "text/x-python",
   "name": "python",
   "nbconvert_exporter": "python",
   "pygments_lexer": "ipython3",
   "version": "3.5.3"
  }
 },
 "nbformat": 4,
 "nbformat_minor": 2
}
