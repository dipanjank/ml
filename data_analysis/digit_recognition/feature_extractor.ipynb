{
 "cells": [
  {
   "cell_type": "markdown",
   "metadata": {},
   "source": [
    "In this notebook, we\n",
    "\n",
    "* load up the saved .png files.\n",
    "* read the image into a numpy array.\n",
    "* partition the image into individual arrays (recall that each image is '012345689') representing each number.\n",
    "* resize each digit image into 16*16\n",
    "\n",
    "The features are the eigenvectors for each image array. Thus, if we have n images in our training set, this process produces an n * 16 feature matrix."
   ]
  },
  {
   "cell_type": "code",
   "execution_count": 1,
   "metadata": {
    "collapsed": false
   },
   "outputs": [
    {
     "name": "stdout",
     "output_type": "stream",
     "text": [
      "Populating the interactive namespace from numpy and matplotlib\n"
     ]
    }
   ],
   "source": [
    "%pylab inline"
   ]
  },
  {
   "cell_type": "code",
   "execution_count": 2,
   "metadata": {
    "collapsed": true
   },
   "outputs": [],
   "source": [
    "import numpy as np\n",
    "import pandas as pd\n",
    "import cv2\n",
    "import os\n",
    "\n",
    "image_dir = os.path.join(os.getcwd(), 'font_images')\n",
    "\n",
    "if not os.path.isdir(image_dir) or len(os.listdir(image_dir)) == 0:\n",
    "    print('no images found in {}'.format(image_dir))"
   ]
  },
  {
   "cell_type": "markdown",
   "metadata": {},
   "source": [
    "Here, we outline the processing for a single image."
   ]
  },
  {
   "cell_type": "code",
   "execution_count": 14,
   "metadata": {
    "collapsed": true
   },
   "outputs": [],
   "source": [
    "img_mat = cv2.imread(os.path.join(image_dir, 'arial.png'))\n",
    "\n",
    "# Convert to grayscale\n",
    "gs = cv2.cvtColor(img_mat, cv2.COLOR_BGR2GRAY)\n",
    "\n",
    "# Binarize with threshold 127\n",
    "_, binarized = cv2.threshold(gs, 127, 255, cv2.THRESH_BINARY)"
   ]
  },
  {
   "cell_type": "code",
   "execution_count": 15,
   "metadata": {
    "collapsed": false
   },
   "outputs": [
    {
     "data": {
      "text/plain": [
       "(50, 400)"
      ]
     },
     "execution_count": 15,
     "metadata": {},
     "output_type": "execute_result"
    }
   ],
   "source": [
    "binarized.shape"
   ]
  },
  {
   "cell_type": "code",
   "execution_count": 17,
   "metadata": {
    "collapsed": false
   },
   "outputs": [
    {
     "data": {
      "text/plain": [
       "(-0.5, 399.5, 49.5, -0.5)"
      ]
     },
     "execution_count": 17,
     "metadata": {},
     "output_type": "execute_result"
    },
    {
     "data": {
      "image/png": "[encoded data removed]",
      "text/plain": [
       "<matplotlib.figure.Figure at 0x1b679bd27f0>"
      ]
     },
     "metadata": {},
     "output_type": "display_data"
    }
   ],
   "source": [
    "pylab.imshow(binarized, cmap='gray')\n",
    "pylab.axis('off')"
   ]
  },
  {
   "cell_type": "code",
   "execution_count": 55,
   "metadata": {
    "collapsed": false
   },
   "outputs": [],
   "source": [
    "# Remove completely empty rows and columns. \n",
    "# A completely empty row (or column) has no on pixels, i.e. every cell has the value 255.\n",
    "empty_columns = np.all(binarized == 255, axis=0)\n",
    "empty_rows = np.all(binarized == 255, axis=1)\n",
    "truncated = binarized[:, ~empty_columns]\n",
    "truncated = truncated[~empty_rows, :]"
   ]
  },
  {
   "cell_type": "code",
   "execution_count": 61,
   "metadata": {
    "collapsed": false
   },
   "outputs": [
    {
     "data": {
      "text/plain": [
       "(20, 125)"
      ]
     },
     "execution_count": 61,
     "metadata": {},
     "output_type": "execute_result"
    }
   ],
   "source": [
    "truncated.shape"
   ]
  },
  {
   "cell_type": "code",
   "execution_count": 106,
   "metadata": {
    "collapsed": false
   },
   "outputs": [
    {
     "data": {
      "text/plain": [
       "array([ 12,  25,  37,  50,  62,  75,  87, 100, 112])"
      ]
     },
     "execution_count": 106,
     "metadata": {},
     "output_type": "execute_result"
    }
   ],
   "source": [
    "# Partition the columns into 10 equal parts\n",
    "split_cols = np.linspace(0, truncated.shape[1], num=11).astype(np.int)\n",
    "split_cols = split_cols[1:-1]"
   ]
  },
  {
   "cell_type": "code",
   "execution_count": 107,
   "metadata": {
    "collapsed": true
   },
   "outputs": [],
   "source": [
    "parts = np.array_split(truncated, split_cols, axis=1)"
   ]
  },
  {
   "cell_type": "code",
   "execution_count": 111,
   "metadata": {
    "collapsed": false
   },
   "outputs": [
    {
     "data": {
      "image/png": "[encoded data removed]",
      "text/plain": [
       "<matplotlib.figure.Figure at 0x1b67b6187b8>"
      ]
     },
     "metadata": {},
     "output_type": "display_data"
    }
   ],
   "source": [
    "fig, axes = pylab.subplots(1, len(parts))\n",
    "\n",
    "for i, ax in enumerate(axes):\n",
    "    ax.imshow(parts[i], cmap='gray')\n",
    "    ax.axis('off')"
   ]
  },
  {
   "cell_type": "code",
   "execution_count": 121,
   "metadata": {
    "collapsed": false
   },
   "outputs": [],
   "source": [
    "# Resize to 16 * 16 and calculate the Eigenvalues\n",
    "resized = [cv2.resize(p, (16, 16)) for p in parts]\n",
    "eigs = [np.real(np.linalg.eig(p)[0]) for p in resized]\n",
    "eigs = np.array(eigs)"
   ]
  },
  {
   "cell_type": "code",
   "execution_count": 123,
   "metadata": {
    "collapsed": false
   },
   "outputs": [
    {
     "data": {
      "text/html": [
       "<div>\n",
       "<table border=\"1\" class=\"dataframe\">\n",
       "  <thead>\n",
       "    <tr style=\"text-align: right;\">\n",
       "      <th></th>\n",
       "      <th>0</th>\n",
       "      <th>1</th>\n",
       "      <th>2</th>\n",
       "      <th>3</th>\n",
       "      <th>4</th>\n",
       "      <th>5</th>\n",
       "      <th>6</th>\n",
       "      <th>7</th>\n",
       "      <th>8</th>\n",
       "      <th>9</th>\n",
       "      <th>10</th>\n",
       "      <th>11</th>\n",
       "      <th>12</th>\n",
       "      <th>13</th>\n",
       "      <th>14</th>\n",
       "      <th>15</th>\n",
       "    </tr>\n",
       "  </thead>\n",
       "  <tbody>\n",
       "    <tr>\n",
       "      <th>0</th>\n",
       "      <td>2521.424425</td>\n",
       "      <td>968.176593</td>\n",
       "      <td>-525.938705</td>\n",
       "      <td>240.339017</td>\n",
       "      <td>-21.593460</td>\n",
       "      <td>2.029740</td>\n",
       "      <td>-0.437610</td>\n",
       "      <td>1.727334e-13</td>\n",
       "      <td>1.727334e-13</td>\n",
       "      <td>-9.688138e-14</td>\n",
       "      <td>-1.081416e-14</td>\n",
       "      <td>-1.081416e-14</td>\n",
       "      <td>1.399063e-15</td>\n",
       "      <td>-1.487773e-16</td>\n",
       "      <td>1.324927e-16</td>\n",
       "      <td>-5.603415e-30</td>\n",
       "    </tr>\n",
       "    <tr>\n",
       "      <th>1</th>\n",
       "      <td>0.000000</td>\n",
       "      <td>2130.015600</td>\n",
       "      <td>-506.484262</td>\n",
       "      <td>8.788913</td>\n",
       "      <td>8.788913</td>\n",
       "      <td>217.364542</td>\n",
       "      <td>164.386513</td>\n",
       "      <td>-9.720150e+01</td>\n",
       "      <td>-6.713656e+01</td>\n",
       "      <td>3.375606e+01</td>\n",
       "      <td>3.375606e+01</td>\n",
       "      <td>7.959108e-02</td>\n",
       "      <td>-1.138689e-01</td>\n",
       "      <td>6.226471e-14</td>\n",
       "      <td>-2.906103e-14</td>\n",
       "      <td>1.527551e-14</td>\n",
       "    </tr>\n",
       "    <tr>\n",
       "      <th>2</th>\n",
       "      <td>2469.670695</td>\n",
       "      <td>736.455420</td>\n",
       "      <td>-371.059772</td>\n",
       "      <td>-306.046549</td>\n",
       "      <td>-306.046549</td>\n",
       "      <td>40.835903</td>\n",
       "      <td>40.835903</td>\n",
       "      <td>-1.102850e+02</td>\n",
       "      <td>9.534729e+01</td>\n",
       "      <td>-6.971081e+01</td>\n",
       "      <td>3.673374e+01</td>\n",
       "      <td>3.673374e+01</td>\n",
       "      <td>1.641390e+00</td>\n",
       "      <td>1.210501e-01</td>\n",
       "      <td>-1.132175e-01</td>\n",
       "      <td>-1.132175e-01</td>\n",
       "    </tr>\n",
       "    <tr>\n",
       "      <th>3</th>\n",
       "      <td>2660.270849</td>\n",
       "      <td>-776.506259</td>\n",
       "      <td>285.049336</td>\n",
       "      <td>-59.986559</td>\n",
       "      <td>-59.986559</td>\n",
       "      <td>-156.925381</td>\n",
       "      <td>117.552616</td>\n",
       "      <td>3.816190e+01</td>\n",
       "      <td>3.816190e+01</td>\n",
       "      <td>-4.354137e+01</td>\n",
       "      <td>-1.183510e+01</td>\n",
       "      <td>4.744182e+00</td>\n",
       "      <td>-1.595535e-01</td>\n",
       "      <td>-2.051687e-07</td>\n",
       "      <td>2.051678e-07</td>\n",
       "      <td>1.670260e-14</td>\n",
       "    </tr>\n",
       "    <tr>\n",
       "      <th>4</th>\n",
       "      <td>0.000000</td>\n",
       "      <td>0.000000</td>\n",
       "      <td>2484.680154</td>\n",
       "      <td>445.828386</td>\n",
       "      <td>-305.628029</td>\n",
       "      <td>102.115135</td>\n",
       "      <td>102.115135</td>\n",
       "      <td>-1.334278e+02</td>\n",
       "      <td>-4.155202e+01</td>\n",
       "      <td>1.478910e+01</td>\n",
       "      <td>-4.743473e-03</td>\n",
       "      <td>-4.743473e-03</td>\n",
       "      <td>8.946935e-02</td>\n",
       "      <td>-7.537749e-12</td>\n",
       "      <td>-7.537749e-12</td>\n",
       "      <td>1.611471e-13</td>\n",
       "    </tr>\n",
       "    <tr>\n",
       "      <th>5</th>\n",
       "      <td>2283.411633</td>\n",
       "      <td>479.054141</td>\n",
       "      <td>479.054141</td>\n",
       "      <td>-366.635697</td>\n",
       "      <td>-221.432277</td>\n",
       "      <td>-221.432277</td>\n",
       "      <td>-95.241932</td>\n",
       "      <td>1.270330e+02</td>\n",
       "      <td>6.624232e+01</td>\n",
       "      <td>-2.250883e+01</td>\n",
       "      <td>1.327650e+01</td>\n",
       "      <td>3.009426e-01</td>\n",
       "      <td>-6.083578e-02</td>\n",
       "      <td>-6.083578e-02</td>\n",
       "      <td>7.118025e-14</td>\n",
       "      <td>-2.301750e-12</td>\n",
       "    </tr>\n",
       "    <tr>\n",
       "      <th>6</th>\n",
       "      <td>2410.847276</td>\n",
       "      <td>-383.760035</td>\n",
       "      <td>188.032562</td>\n",
       "      <td>188.032562</td>\n",
       "      <td>234.367288</td>\n",
       "      <td>234.367288</td>\n",
       "      <td>-124.365833</td>\n",
       "      <td>7.766040e+01</td>\n",
       "      <td>-3.537362e+00</td>\n",
       "      <td>3.307446e+00</td>\n",
       "      <td>4.840526e-02</td>\n",
       "      <td>6.766718e-08</td>\n",
       "      <td>-6.652984e-14</td>\n",
       "      <td>-6.652984e-14</td>\n",
       "      <td>-6.766823e-08</td>\n",
       "      <td>-1.713985e-15</td>\n",
       "    </tr>\n",
       "    <tr>\n",
       "      <th>7</th>\n",
       "      <td>2823.605781</td>\n",
       "      <td>556.110768</td>\n",
       "      <td>-469.493229</td>\n",
       "      <td>220.045370</td>\n",
       "      <td>220.045370</td>\n",
       "      <td>-142.658903</td>\n",
       "      <td>59.615636</td>\n",
       "      <td>5.961564e+01</td>\n",
       "      <td>-5.812334e+01</td>\n",
       "      <td>-5.812334e+01</td>\n",
       "      <td>6.472815e-01</td>\n",
       "      <td>6.472815e-01</td>\n",
       "      <td>-9.706525e-02</td>\n",
       "      <td>4.195463e-13</td>\n",
       "      <td>8.137632e-02</td>\n",
       "      <td>8.137632e-02</td>\n",
       "    </tr>\n",
       "    <tr>\n",
       "      <th>8</th>\n",
       "      <td>2070.421030</td>\n",
       "      <td>372.483205</td>\n",
       "      <td>372.483205</td>\n",
       "      <td>-220.131469</td>\n",
       "      <td>155.786194</td>\n",
       "      <td>-120.258479</td>\n",
       "      <td>27.454818</td>\n",
       "      <td>2.745482e+01</td>\n",
       "      <td>-2.135312e+01</td>\n",
       "      <td>-1.884351e+01</td>\n",
       "      <td>8.722577e-01</td>\n",
       "      <td>-3.689504e-01</td>\n",
       "      <td>-6.054569e-07</td>\n",
       "      <td>-1.891461e-07</td>\n",
       "      <td>6.054552e-07</td>\n",
       "      <td>1.891465e-07</td>\n",
       "    </tr>\n",
       "    <tr>\n",
       "      <th>9</th>\n",
       "      <td>2327.794657</td>\n",
       "      <td>704.716251</td>\n",
       "      <td>-254.234662</td>\n",
       "      <td>230.890398</td>\n",
       "      <td>230.890398</td>\n",
       "      <td>-73.411304</td>\n",
       "      <td>-73.411304</td>\n",
       "      <td>8.013760e+00</td>\n",
       "      <td>8.013760e+00</td>\n",
       "      <td>-3.253448e+01</td>\n",
       "      <td>8.592538e-01</td>\n",
       "      <td>1.930510e-01</td>\n",
       "      <td>1.930510e-01</td>\n",
       "      <td>2.716919e-02</td>\n",
       "      <td>-5.927488e-12</td>\n",
       "      <td>-5.927488e-12</td>\n",
       "    </tr>\n",
       "  </tbody>\n",
       "</table>\n",
       "</div>"
      ],
      "text/plain": [
       "            0            1            2           3           4           5   \\\n",
       "0  2521.424425   968.176593  -525.938705  240.339017  -21.593460    2.029740   \n",
       "1     0.000000  2130.015600  -506.484262    8.788913    8.788913  217.364542   \n",
       "2  2469.670695   736.455420  -371.059772 -306.046549 -306.046549   40.835903   \n",
       "3  2660.270849  -776.506259   285.049336  -59.986559  -59.986559 -156.925381   \n",
       "4     0.000000     0.000000  2484.680154  445.828386 -305.628029  102.115135   \n",
       "5  2283.411633   479.054141   479.054141 -366.635697 -221.432277 -221.432277   \n",
       "6  2410.847276  -383.760035   188.032562  188.032562  234.367288  234.367288   \n",
       "7  2823.605781   556.110768  -469.493229  220.045370  220.045370 -142.658903   \n",
       "8  2070.421030   372.483205   372.483205 -220.131469  155.786194 -120.258479   \n",
       "9  2327.794657   704.716251  -254.234662  230.890398  230.890398  -73.411304   \n",
       "\n",
       "           6             7             8             9             10  \\\n",
       "0   -0.437610  1.727334e-13  1.727334e-13 -9.688138e-14 -1.081416e-14   \n",
       "1  164.386513 -9.720150e+01 -6.713656e+01  3.375606e+01  3.375606e+01   \n",
       "2   40.835903 -1.102850e+02  9.534729e+01 -6.971081e+01  3.673374e+01   \n",
       "3  117.552616  3.816190e+01  3.816190e+01 -4.354137e+01 -1.183510e+01   \n",
       "4  102.115135 -1.334278e+02 -4.155202e+01  1.478910e+01 -4.743473e-03   \n",
       "5  -95.241932  1.270330e+02  6.624232e+01 -2.250883e+01  1.327650e+01   \n",
       "6 -124.365833  7.766040e+01 -3.537362e+00  3.307446e+00  4.840526e-02   \n",
       "7   59.615636  5.961564e+01 -5.812334e+01 -5.812334e+01  6.472815e-01   \n",
       "8   27.454818  2.745482e+01 -2.135312e+01 -1.884351e+01  8.722577e-01   \n",
       "9  -73.411304  8.013760e+00  8.013760e+00 -3.253448e+01  8.592538e-01   \n",
       "\n",
       "             11            12            13            14            15  \n",
       "0 -1.081416e-14  1.399063e-15 -1.487773e-16  1.324927e-16 -5.603415e-30  \n",
       "1  7.959108e-02 -1.138689e-01  6.226471e-14 -2.906103e-14  1.527551e-14  \n",
       "2  3.673374e+01  1.641390e+00  1.210501e-01 -1.132175e-01 -1.132175e-01  \n",
       "3  4.744182e+00 -1.595535e-01 -2.051687e-07  2.051678e-07  1.670260e-14  \n",
       "4 -4.743473e-03  8.946935e-02 -7.537749e-12 -7.537749e-12  1.611471e-13  \n",
       "5  3.009426e-01 -6.083578e-02 -6.083578e-02  7.118025e-14 -2.301750e-12  \n",
       "6  6.766718e-08 -6.652984e-14 -6.652984e-14 -6.766823e-08 -1.713985e-15  \n",
       "7  6.472815e-01 -9.706525e-02  4.195463e-13  8.137632e-02  8.137632e-02  \n",
       "8 -3.689504e-01 -6.054569e-07 -1.891461e-07  6.054552e-07  1.891465e-07  \n",
       "9  1.930510e-01  1.930510e-01  2.716919e-02 -5.927488e-12 -5.927488e-12  "
      ]
     },
     "execution_count": 123,
     "metadata": {},
     "output_type": "execute_result"
    }
   ],
   "source": [
    "eigs_df = pd.DataFrame(eigs)\n",
    "eigs_df.mean(axis)"
   ]
  },
  {
   "cell_type": "markdown",
   "metadata": {},
   "source": [
    "Now, we package all of above into a single function. Then we iterate over all the saved files and produce the feature matrix."
   ]
  },
  {
   "cell_type": "code",
   "execution_count": 129,
   "metadata": {
    "collapsed": true
   },
   "outputs": [],
   "source": [
    "def eigenvalues(img_file, class_labels, threshold=127, n_dims=16):\n",
    "    \"\"\"\n",
    "    Read the image file\n",
    "    grayscale+binarize using threshold\n",
    "    split into per-digit subarrays, \n",
    "    resize each image and return the eigenvalues for each subarray.\n",
    "    \n",
    "    Return a len(class_labels) * n_dims DataFrame.\n",
    "    \"\"\"\n",
    "    assert os.path.isfile(img_file)\n",
    "    \n",
    "    img_mat = cv2.imread(os.path.join(image_dir, img_file))    \n",
    "    gs = cv2.cvtColor(img_mat, cv2.COLOR_BGR2GRAY)    \n",
    "    _, binarized = cv2.threshold(gs, threshold, 255, cv2.THRESH_BINARY)\n",
    "    \n",
    "    empty_columns = np.all(binarized == 255, axis=0)\n",
    "    empty_rows = np.all(binarized == 255, axis=1)\n",
    "    truncated = binarized[:, ~empty_columns]\n",
    "    truncated = truncated[~empty_rows, :]\n",
    "    \n",
    "    n_classes = len(class_labels)\n",
    "    \n",
    "    split_cols = np.linspace(0, truncated.shape[1], num=n_classes+1).astype(np.int)\n",
    "    split_cols = split_cols[1:-1]\n",
    "\n",
    "    parts = np.array_split(truncated, split_cols, axis=1)\n",
    "    assert len(parts) == n_classes\n",
    "    \n",
    "    eigs = np.zeros([n_classes, n_dims])\n",
    "    \n",
    "    for i, p in enumerate(parts):\n",
    "        resized_p = cv2.resize(p, (n_dims, n_dims))\n",
    "        eigs[i, :] = np.real(np.linalg.eig(resized_p)[0])\n",
    "        \n",
    "    eig_df = pd.DataFrame(eigs, index=class_labels)\n",
    "    \n",
    "    return eig_df\n",
    "    "
   ]
  },
  {
   "cell_type": "code",
   "execution_count": 130,
   "metadata": {
    "collapsed": false
   },
   "outputs": [],
   "source": [
    "image_files = [os.path.join(image_dir, f) for f in os.listdir(image_dir)]"
   ]
  },
  {
   "cell_type": "code",
   "execution_count": 134,
   "metadata": {
    "collapsed": false
   },
   "outputs": [
    {
     "data": {
      "application/vnd.jupyter.widget-view+json": {
       "model_id": "da01dd6083174c56a233faa05af8d1f0"
      }
     },
     "metadata": {},
     "output_type": "display_data"
    }
   ],
   "source": [
    "from IPython.display import display\n",
    "from ipywidgets import FloatProgress\n",
    "\n",
    "prog = FloatProgress(min=1, max=len(image_files), description='generating eigenvalues...')\n",
    "display(prog)\n",
    "\n",
    "\n",
    "features = []\n",
    "\n",
    "for file_path in image_files:\n",
    "    class_labels = list('0123456789')\n",
    "    features.append(eigenvalues(file_path, class_labels))\n",
    "    prog.value += 1\n",
    "    \n",
    "prog.bar_style = 'success'"
   ]
  },
  {
   "cell_type": "code",
   "execution_count": 135,
   "metadata": {
    "collapsed": false
   },
   "outputs": [
    {
     "data": {
      "text/plain": [
       "139"
      ]
     },
     "execution_count": 135,
     "metadata": {},
     "output_type": "execute_result"
    }
   ],
   "source": [
    "len(features)"
   ]
  },
  {
   "cell_type": "code",
   "execution_count": 136,
   "metadata": {
    "collapsed": true
   },
   "outputs": [],
   "source": [
    "features_df = pd.concat(features, axis=0)"
   ]
  },
  {
   "cell_type": "code",
   "execution_count": 137,
   "metadata": {
    "collapsed": false
   },
   "outputs": [
    {
     "data": {
      "text/html": [
       "<div>\n",
       "<table border=\"1\" class=\"dataframe\">\n",
       "  <thead>\n",
       "    <tr style=\"text-align: right;\">\n",
       "      <th></th>\n",
       "      <th>0</th>\n",
       "      <th>1</th>\n",
       "      <th>2</th>\n",
       "      <th>3</th>\n",
       "      <th>4</th>\n",
       "      <th>5</th>\n",
       "      <th>6</th>\n",
       "      <th>7</th>\n",
       "      <th>8</th>\n",
       "      <th>9</th>\n",
       "      <th>10</th>\n",
       "      <th>11</th>\n",
       "      <th>12</th>\n",
       "      <th>13</th>\n",
       "      <th>14</th>\n",
       "      <th>15</th>\n",
       "    </tr>\n",
       "  </thead>\n",
       "  <tbody>\n",
       "    <tr>\n",
       "      <th>count</th>\n",
       "      <td>1390.000000</td>\n",
       "      <td>1390.000000</td>\n",
       "      <td>1390.000000</td>\n",
       "      <td>1390.000000</td>\n",
       "      <td>1390.000000</td>\n",
       "      <td>1390.000000</td>\n",
       "      <td>1390.000000</td>\n",
       "      <td>1.390000e+03</td>\n",
       "      <td>1.390000e+03</td>\n",
       "      <td>1.390000e+03</td>\n",
       "      <td>1.390000e+03</td>\n",
       "      <td>1.390000e+03</td>\n",
       "      <td>1.390000e+03</td>\n",
       "      <td>1.390000e+03</td>\n",
       "      <td>1.390000e+03</td>\n",
       "      <td>1.390000e+03</td>\n",
       "    </tr>\n",
       "    <tr>\n",
       "      <th>mean</th>\n",
       "      <td>2206.873803</td>\n",
       "      <td>227.886641</td>\n",
       "      <td>53.004370</td>\n",
       "      <td>59.498355</td>\n",
       "      <td>-3.168029</td>\n",
       "      <td>17.661228</td>\n",
       "      <td>8.790371</td>\n",
       "      <td>4.498541e+00</td>\n",
       "      <td>1.187652e+00</td>\n",
       "      <td>-4.457652e-02</td>\n",
       "      <td>-1.663003e-01</td>\n",
       "      <td>-3.699749e-02</td>\n",
       "      <td>5.848195e-01</td>\n",
       "      <td>8.115096e-01</td>\n",
       "      <td>1.756888e+00</td>\n",
       "      <td>8.804267e-01</td>\n",
       "    </tr>\n",
       "    <tr>\n",
       "      <th>std</th>\n",
       "      <td>880.796825</td>\n",
       "      <td>691.090591</td>\n",
       "      <td>533.767696</td>\n",
       "      <td>392.967763</td>\n",
       "      <td>260.395246</td>\n",
       "      <td>224.488103</td>\n",
       "      <td>136.046143</td>\n",
       "      <td>1.128167e+02</td>\n",
       "      <td>6.512895e+01</td>\n",
       "      <td>4.542985e+01</td>\n",
       "      <td>3.198693e+01</td>\n",
       "      <td>2.215837e+01</td>\n",
       "      <td>1.651042e+01</td>\n",
       "      <td>1.260195e+01</td>\n",
       "      <td>2.124881e+01</td>\n",
       "      <td>1.253279e+01</td>\n",
       "    </tr>\n",
       "    <tr>\n",
       "      <th>min</th>\n",
       "      <td>0.000000</td>\n",
       "      <td>-1029.785588</td>\n",
       "      <td>-808.213030</td>\n",
       "      <td>-717.424040</td>\n",
       "      <td>-662.513372</td>\n",
       "      <td>-541.507332</td>\n",
       "      <td>-600.257021</td>\n",
       "      <td>-5.260702e+02</td>\n",
       "      <td>-2.983823e+02</td>\n",
       "      <td>-1.822911e+02</td>\n",
       "      <td>-1.822911e+02</td>\n",
       "      <td>-1.474296e+02</td>\n",
       "      <td>-8.829334e+01</td>\n",
       "      <td>-6.801990e+01</td>\n",
       "      <td>-3.953122e+01</td>\n",
       "      <td>-3.953122e+01</td>\n",
       "    </tr>\n",
       "    <tr>\n",
       "      <th>25%</th>\n",
       "      <td>1920.591445</td>\n",
       "      <td>-352.252588</td>\n",
       "      <td>-313.286113</td>\n",
       "      <td>-214.378426</td>\n",
       "      <td>-178.713081</td>\n",
       "      <td>-115.050396</td>\n",
       "      <td>-83.081610</td>\n",
       "      <td>-5.847509e+01</td>\n",
       "      <td>-3.779890e+01</td>\n",
       "      <td>-1.961545e+01</td>\n",
       "      <td>-5.663239e+00</td>\n",
       "      <td>-8.121068e-01</td>\n",
       "      <td>-2.106573e-01</td>\n",
       "      <td>-3.710314e-02</td>\n",
       "      <td>-1.624200e-12</td>\n",
       "      <td>-5.012279e-14</td>\n",
       "    </tr>\n",
       "    <tr>\n",
       "      <th>50%</th>\n",
       "      <td>2451.670615</td>\n",
       "      <td>257.365823</td>\n",
       "      <td>0.000000</td>\n",
       "      <td>16.891496</td>\n",
       "      <td>-12.803140</td>\n",
       "      <td>5.076677</td>\n",
       "      <td>1.749795</td>\n",
       "      <td>-2.204863e-14</td>\n",
       "      <td>-2.514656e-11</td>\n",
       "      <td>-3.840973e-13</td>\n",
       "      <td>-2.397404e-14</td>\n",
       "      <td>1.147997e-15</td>\n",
       "      <td>1.344859e-17</td>\n",
       "      <td>-1.723083e-30</td>\n",
       "      <td>0.000000e+00</td>\n",
       "      <td>0.000000e+00</td>\n",
       "    </tr>\n",
       "    <tr>\n",
       "      <th>75%</th>\n",
       "      <td>2792.750106</td>\n",
       "      <td>654.312502</td>\n",
       "      <td>322.186662</td>\n",
       "      <td>253.429116</td>\n",
       "      <td>155.634151</td>\n",
       "      <td>124.505883</td>\n",
       "      <td>92.991124</td>\n",
       "      <td>6.278128e+01</td>\n",
       "      <td>3.906787e+01</td>\n",
       "      <td>1.485591e+01</td>\n",
       "      <td>3.414847e+00</td>\n",
       "      <td>5.619544e-01</td>\n",
       "      <td>1.993677e-01</td>\n",
       "      <td>6.811036e-03</td>\n",
       "      <td>1.598241e-11</td>\n",
       "      <td>5.556489e-14</td>\n",
       "    </tr>\n",
       "    <tr>\n",
       "      <th>max</th>\n",
       "      <td>3445.546490</td>\n",
       "      <td>2981.651186</td>\n",
       "      <td>2998.011938</td>\n",
       "      <td>2512.441107</td>\n",
       "      <td>2147.068361</td>\n",
       "      <td>2245.585788</td>\n",
       "      <td>1490.000000</td>\n",
       "      <td>1.530000e+03</td>\n",
       "      <td>2.437046e+02</td>\n",
       "      <td>1.723790e+02</td>\n",
       "      <td>1.470000e+02</td>\n",
       "      <td>1.673147e+02</td>\n",
       "      <td>2.230000e+02</td>\n",
       "      <td>2.310000e+02</td>\n",
       "      <td>5.100000e+02</td>\n",
       "      <td>2.550000e+02</td>\n",
       "    </tr>\n",
       "  </tbody>\n",
       "</table>\n",
       "</div>"
      ],
      "text/plain": [
       "                0            1            2            3            4   \\\n",
       "count  1390.000000  1390.000000  1390.000000  1390.000000  1390.000000   \n",
       "mean   2206.873803   227.886641    53.004370    59.498355    -3.168029   \n",
       "std     880.796825   691.090591   533.767696   392.967763   260.395246   \n",
       "min       0.000000 -1029.785588  -808.213030  -717.424040  -662.513372   \n",
       "25%    1920.591445  -352.252588  -313.286113  -214.378426  -178.713081   \n",
       "50%    2451.670615   257.365823     0.000000    16.891496   -12.803140   \n",
       "75%    2792.750106   654.312502   322.186662   253.429116   155.634151   \n",
       "max    3445.546490  2981.651186  2998.011938  2512.441107  2147.068361   \n",
       "\n",
       "                5            6             7             8             9   \\\n",
       "count  1390.000000  1390.000000  1.390000e+03  1.390000e+03  1.390000e+03   \n",
       "mean     17.661228     8.790371  4.498541e+00  1.187652e+00 -4.457652e-02   \n",
       "std     224.488103   136.046143  1.128167e+02  6.512895e+01  4.542985e+01   \n",
       "min    -541.507332  -600.257021 -5.260702e+02 -2.983823e+02 -1.822911e+02   \n",
       "25%    -115.050396   -83.081610 -5.847509e+01 -3.779890e+01 -1.961545e+01   \n",
       "50%       5.076677     1.749795 -2.204863e-14 -2.514656e-11 -3.840973e-13   \n",
       "75%     124.505883    92.991124  6.278128e+01  3.906787e+01  1.485591e+01   \n",
       "max    2245.585788  1490.000000  1.530000e+03  2.437046e+02  1.723790e+02   \n",
       "\n",
       "                 10            11            12            13            14  \\\n",
       "count  1.390000e+03  1.390000e+03  1.390000e+03  1.390000e+03  1.390000e+03   \n",
       "mean  -1.663003e-01 -3.699749e-02  5.848195e-01  8.115096e-01  1.756888e+00   \n",
       "std    3.198693e+01  2.215837e+01  1.651042e+01  1.260195e+01  2.124881e+01   \n",
       "min   -1.822911e+02 -1.474296e+02 -8.829334e+01 -6.801990e+01 -3.953122e+01   \n",
       "25%   -5.663239e+00 -8.121068e-01 -2.106573e-01 -3.710314e-02 -1.624200e-12   \n",
       "50%   -2.397404e-14  1.147997e-15  1.344859e-17 -1.723083e-30  0.000000e+00   \n",
       "75%    3.414847e+00  5.619544e-01  1.993677e-01  6.811036e-03  1.598241e-11   \n",
       "max    1.470000e+02  1.673147e+02  2.230000e+02  2.310000e+02  5.100000e+02   \n",
       "\n",
       "                 15  \n",
       "count  1.390000e+03  \n",
       "mean   8.804267e-01  \n",
       "std    1.253279e+01  \n",
       "min   -3.953122e+01  \n",
       "25%   -5.012279e-14  \n",
       "50%    0.000000e+00  \n",
       "75%    5.556489e-14  \n",
       "max    2.550000e+02  "
      ]
     },
     "execution_count": 137,
     "metadata": {},
     "output_type": "execute_result"
    }
   ],
   "source": [
    "features_df.describe()"
   ]
  },
  {
   "cell_type": "code",
   "execution_count": 138,
   "metadata": {
    "collapsed": true
   },
   "outputs": [],
   "source": [
    "feature_file = os.path.join(os.getcwd(), 'digit_eigenvalues.csv')\n",
    "features_df.to_csv(feature_file, index_label='label')"
   ]
  }
 ],
 "metadata": {
  "kernelspec": {
   "display_name": "Python 3",
   "language": "python",
   "name": "python3"
  },
  "language_info": {
   "codemirror_mode": {
    "name": "ipython",
    "version": 3
   },
   "file_extension": ".py",
   "mimetype": "text/x-python",
   "name": "python",
   "nbconvert_exporter": "python",
   "pygments_lexer": "ipython3",
   "version": "3.5.3"
  }
 },
 "nbformat": 4,
 "nbformat_minor": 2
}
