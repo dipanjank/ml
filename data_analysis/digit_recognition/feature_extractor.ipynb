{
 "cells": [
  {
   "cell_type": "markdown",
   "metadata": {
    "deletable": true,
    "editable": true
   },
   "source": [
    "In this notebook, we\n",
    "\n",
    "* load up the saved .png files.\n",
    "* read the image into a numpy array.\n",
    "* partition the image into individual arrays (recall that each image is '012345689') representing each number.\n",
    "* resize each digit image into 16*16\n",
    "\n",
    "The features are the eigenvectors for each image array. Thus, if we have n images in our training set, this process produces an n * 16 feature matrix."
   ]
  },
  {
   "cell_type": "code",
   "execution_count": 1,
   "metadata": {
    "collapsed": false,
    "deletable": true,
    "editable": true
   },
   "outputs": [
    {
     "name": "stdout",
     "output_type": "stream",
     "text": [
      "Populating the interactive namespace from numpy and matplotlib\n"
     ]
    }
   ],
   "source": [
    "%pylab inline"
   ]
  },
  {
   "cell_type": "code",
   "execution_count": 2,
   "metadata": {
    "collapsed": true,
    "deletable": true,
    "editable": true
   },
   "outputs": [],
   "source": [
    "import numpy as np\n",
    "import pandas as pd\n",
    "import cv2\n",
    "import os\n",
    "\n",
    "image_dir = os.path.join(os.getcwd(), 'font_images')\n",
    "\n",
    "if not os.path.isdir(image_dir) or len(os.listdir(image_dir)) == 0:\n",
    "    print('no images found in {}'.format(image_dir))"
   ]
  },
  {
   "cell_type": "markdown",
   "metadata": {
    "deletable": true,
    "editable": true
   },
   "source": [
    "First, we outline the processing for a single image."
   ]
  },
  {
   "cell_type": "code",
   "execution_count": 3,
   "metadata": {
    "collapsed": true,
    "deletable": true,
    "editable": true
   },
   "outputs": [],
   "source": [
    "img_mat = cv2.imread(os.path.join(image_dir, 'arial.png'))\n",
    "\n",
    "# Convert to grayscale\n",
    "gs = cv2.cvtColor(img_mat, cv2.COLOR_BGR2GRAY)"
   ]
  },
  {
   "cell_type": "code",
   "execution_count": 4,
   "metadata": {
    "collapsed": false,
    "deletable": true,
    "editable": true
   },
   "outputs": [
    {
     "data": {
      "text/plain": [
       "(124, 911)"
      ]
     },
     "execution_count": 4,
     "metadata": {},
     "output_type": "execute_result"
    }
   ],
   "source": [
    "gs.shape"
   ]
  },
  {
   "cell_type": "code",
   "execution_count": 6,
   "metadata": {
    "collapsed": false,
    "deletable": true,
    "editable": true
   },
   "outputs": [
    {
     "data": {
      "image/png": "[encoded data removed]",
      "text/plain": [
       "<matplotlib.figure.Figure at 0x1ff9221b208>"
      ]
     },
     "metadata": {},
     "output_type": "display_data"
    }
   ],
   "source": [
    "pylab.imshow(gs, cmap='gray')\n",
    "pylab.tick_params(\n",
    "        axis='both',          # changes apply to the x-axis and y-axis\n",
    "        which='both',      # both major and minor ticks are affected\n",
    "        bottom='off', top='off', left='off', right='off', # don't display ticks\n",
    "        labelbottom='off', labeltop='off', labelleft='off', labelright='off' # don't display ticklabels\n",
    ") "
   ]
  },
  {
   "cell_type": "code",
   "execution_count": 13,
   "metadata": {
    "collapsed": false,
    "deletable": true,
    "editable": true
   },
   "outputs": [
    {
     "data": {
      "text/plain": [
       "array([ 92, 165, 248, 331, 414, 496, 579, 662, 745, 828])"
      ]
     },
     "execution_count": 13,
     "metadata": {},
     "output_type": "execute_result"
    }
   ],
   "source": [
    "# Partition the columns into 10 equal parts\n",
    "split_positions = np.linspace(0, gs.shape[1], num=12).astype(np.int)\n",
    "split_positions = split_positions[1:-1]\n",
    "\n",
    "# manual tweak by inspection\n",
    "split_positions[0] += 10 \n",
    "\n",
    "split_positions"
   ]
  },
  {
   "cell_type": "code",
   "execution_count": 16,
   "metadata": {
    "collapsed": false,
    "deletable": true,
    "editable": true
   },
   "outputs": [
    {
     "data": {
      "image/png": "[encoded data removed]",
      "text/plain": [
       "<matplotlib.figure.Figure at 0x1ff936a4cc0>"
      ]
     },
     "metadata": {},
     "output_type": "display_data"
    }
   ],
   "source": [
    "parts = np.array_split(gs, split_positions, axis=1)\n",
    "\n",
    "fig, axes = pylab.subplots(1, len(parts))\n",
    "\n",
    "for part, ax in zip(parts, axes):\n",
    "    ax.imshow(part, cmap='gray')\n",
    "    ax.tick_params(\n",
    "        axis='both',          # changes apply to the x-axis and y-axis\n",
    "        which='both',      # both major and minor ticks are affected\n",
    "        bottom='off', top='off', left='off', right='off', # don't display ticks\n",
    "        labelbottom='off', labeltop='off', labelleft='off', labelright='off' # don't display ticklabels\n",
    ")"
   ]
  },
  {
   "cell_type": "code",
   "execution_count": 48,
   "metadata": {
    "collapsed": false,
    "deletable": true,
    "editable": true
   },
   "outputs": [
    {
     "name": "stdout",
     "output_type": "stream",
     "text": [
      "[  1.54205693e+01   4.27869407e-01   1.51561313e-01   2.38736048e-16\n",
      "   2.38736048e-16  -2.55820649e-16  -3.97750884e-17  -3.97750884e-17\n",
      "  -1.19366625e-16  -1.19366625e-16   6.40858907e-11  -6.40857840e-11\n",
      "   6.84227766e-49   8.85927774e-33   0.00000000e+00   0.00000000e+00]\n",
      "[  1.55540911e+01   2.22954469e-01   2.22954469e-01  -2.44527632e-16\n",
      "   1.86023734e-16  -3.84878837e-17  -3.84878837e-17   3.50099623e-31\n",
      "   3.50099623e-31  -2.92348569e-46  -1.71538467e-47   0.00000000e+00\n",
      "  -1.53144517e-61  -1.91761463e-93  -2.59085057e-77   0.00000000e+00]\n",
      "[  1.54914134e+01  -9.14797984e-01   4.23384551e-01   2.17813817e-16\n",
      "   2.17813817e-16  -2.16079390e-16   2.31564749e-16   7.30519585e-17\n",
      "   7.30519585e-17   1.35883639e-16  -3.79291019e-18  -2.48516640e-17\n",
      "  -9.96951971e-34  -7.69756237e-49   0.00000000e+00   0.00000000e+00]\n",
      "[  1.53103302e+01  -9.06106850e-01   1.22252782e-01   1.22252782e-01\n",
      "   3.51271067e-01  -3.01063545e-16  -5.54647320e-17  -5.54647320e-17\n",
      "   1.90243240e-16  -7.40260527e-17  -7.40260527e-17   7.10070955e-17\n",
      "   0.00000000e+00  -6.07153217e-18   0.00000000e+00   0.00000000e+00]\n",
      "[  1.55037903e+01  -8.27031763e-01   1.61620729e-01   1.61620729e-01\n",
      "  -7.39693116e-17  -7.39693116e-17   3.68258949e-17   3.68258949e-17\n",
      "   1.00000000e+00   1.39983197e-16  -1.45328667e-17   6.64903944e-32\n",
      "  -4.79399694e-64  -3.37350334e-80   0.00000000e+00   0.00000000e+00]\n",
      "[  1.53005971e+01   6.41548462e-01  -6.05839772e-01  -3.36305807e-01\n",
      "   1.32919333e-16   1.32919333e-16   2.95800033e-16  -1.91593458e-16\n",
      "  -6.64611799e-17  -6.64611799e-17   6.37475287e-17  -1.39513114e-18\n",
      "   5.13581319e-34   0.00000000e+00   0.00000000e+00   0.00000000e+00]\n",
      "[  1.53012776e+01  -7.56255939e-01  -7.56255939e-01  -6.88995835e-01\n",
      "  -9.97698488e-02   2.60362066e-16   2.60362066e-16   1.96760599e-16\n",
      "   1.96760599e-16  -1.16973012e-16   5.09737021e-17  -2.77208020e-31\n",
      "   9.58799389e-64   0.00000000e+00   0.00000000e+00   0.00000000e+00]\n",
      "[  1.55233995e+01  -8.49388731e-01  -5.31250481e-01  -1.42760262e-01\n",
      "   2.53297820e-15   2.53297820e-15  -3.60197912e-16   2.18014763e-16\n",
      "   2.18014763e-16   1.26820685e-17   1.75162308e-46   2.92762170e-30\n",
      "  -3.02543742e-93   0.00000000e+00   0.00000000e+00   0.00000000e+00]\n",
      "[  1.52392307e+01  -1.58050740e+00  -4.88868231e-01  -1.69855104e-01\n",
      "  -2.82626415e-16  -2.82626415e-16   1.33893067e-16  -8.23071946e-17\n",
      "  -1.08121545e-17   2.85107696e-30   7.43514570e-31   4.15558276e-33\n",
      "   5.54129052e-64   3.37350334e-80   0.00000000e+00   0.00000000e+00]\n",
      "[  1.52213912e+01  -6.10695597e-01  -6.10695597e-01   6.16298259e-16\n",
      "   6.16298259e-16   2.21213086e-16   2.21213086e-16  -6.36173509e-16\n",
      "  -6.36173509e-16   2.67141044e-16  -1.27792014e-16  -2.26859671e-17\n",
      "   0.00000000e+00   0.00000000e+00   0.00000000e+00   0.00000000e+00]\n",
      "[  1.59372539e+01   6.27460668e-02   1.66148141e-16   1.66148141e-16\n",
      "   3.55353769e-18  -2.07525471e-28  -1.36845553e-48   5.34744451e-33\n",
      "   2.30966768e-65  -1.09803580e-61  -3.67797793e-82   3.94360704e-81\n",
      "   0.00000000e+00   0.00000000e+00   0.00000000e+00   0.00000000e+00]\n"
     ]
    }
   ],
   "source": [
    "# Resize to 128 * 128, binarize and calculate the eigenvalues.\n",
    "\n",
    "for p in parts:\n",
    "    resized = cv2.resize(p, (16, 16))\n",
    "    _, binarized = cv2.threshold(resized, 127, 255, cv2.THRESH_BINARY)\n",
    "    binarized[binarized==255] = 1\n",
    "    \n",
    "    eigvals = np.linalg.eig(binarized)[0]\n",
    "    print(np.real(eigvals))"
   ]
  },
  {
   "cell_type": "markdown",
   "metadata": {
    "deletable": true,
    "editable": true
   },
   "source": [
    "Now, we package all of above into a single function. Then we iterate over all the saved files and produce the feature matrix."
   ]
  },
  {
   "cell_type": "code",
   "execution_count": 50,
   "metadata": {
    "collapsed": true,
    "deletable": true,
    "editable": true
   },
   "outputs": [],
   "source": [
    "def split_into_parts(img_file, n_parts):\n",
    "    \"\"\"\n",
    "    - Read an image file.\n",
    "    - Convert to grayscale.\n",
    "    - Split into subarray for each char.\n",
    "    - Return list of parts.    \n",
    "    \"\"\"\n",
    "    assert os.path.isfile(img_file)   \n",
    "    \n",
    "    img_mat = cv2.imread(img_file)    \n",
    "    gs = cv2.cvtColor(img_mat, cv2.COLOR_BGR2GRAY)\n",
    "    \n",
    "    split_positions = np.linspace(0, gs.shape[1], num=n_parts+1).astype(np.int)\n",
    "    split_positions = split_positions[1:-1]\n",
    "\n",
    "    # manual tweak by inspection\n",
    "    split_positions[0] += 10\n",
    "    \n",
    "    parts = np.array_split(gs, split_positions, axis=1)\n",
    "    return parts"
   ]
  },
  {
   "cell_type": "code",
   "execution_count": 60,
   "metadata": {
    "collapsed": true
   },
   "outputs": [],
   "source": [
    "def eigenvalues(img_file, class_labels, threshold=127, n_dims=16):\n",
    "    \"\"\"\n",
    "    Return eigenvalues for the resized subarrays from a collection of char images.\n",
    "    \n",
    "    Output is a len(class_labels) * n_dims DataFrame.\n",
    "    \"\"\"\n",
    "    \n",
    "    n_classes = len(class_labels)    \n",
    "    parts = split_into_parts(img_file, n_classes)\n",
    "    \n",
    "    assert len(parts) == n_classes\n",
    "    \n",
    "    eigs = np.zeros([n_classes, n_dims])    \n",
    "    columns = ['eig_{}'.format(k+1) for k in range(n_dims)]\n",
    "    \n",
    "    for i, p in enumerate(parts):        \n",
    "        resized = cv2.resize(p, (n_dims, n_dims))\n",
    "        _, binarized = cv2.threshold(resized, 127, 255, cv2.THRESH_BINARY)\n",
    "        binarized[binarized==255] = 1  \n",
    "        eigvals = np.linalg.eig(binarized)[0]\n",
    "        eigs[i, :] = eigvals\n",
    "        \n",
    "    eig_df = pd.DataFrame(eigs, index=class_labels, columns=columns)    \n",
    "    return eig_df\n",
    "    "
   ]
  },
  {
   "cell_type": "code",
   "execution_count": 62,
   "metadata": {
    "collapsed": false,
    "deletable": true,
    "editable": true
   },
   "outputs": [
    {
     "data": {
      "application/vnd.jupyter.widget-view+json": {
       "model_id": "bb84a51ee4e643b6b9067d5ab440230d"
      }
     },
     "metadata": {},
     "output_type": "display_data"
    },
    {
     "name": "stderr",
     "output_type": "stream",
     "text": [
      "d:\\Anaconda3\\envs\\latest\\lib\\site-packages\\ipykernel\\__main__.py:21: ComplexWarning: Casting complex values to real discards the imaginary part\n"
     ]
    }
   ],
   "source": [
    "from IPython.display import display\n",
    "from ipywidgets import FloatProgress\n",
    "\n",
    "image_files = [os.path.join(image_dir, f) for f in os.listdir(image_dir)]\n",
    "\n",
    "prog = FloatProgress(min=1, max=len(image_files), description='generating eigenvalues...')\n",
    "display(prog)\n",
    "\n",
    "features = []\n",
    "\n",
    "for file_path in image_files:\n",
    "    class_labels = ['zero', 'one', 'two', 'three', \n",
    "                    'four', 'five', 'six', 'seven', \n",
    "                    'eight', 'nine', 'comma']\n",
    "    features.append(eigenvalues(file_path, class_labels))\n",
    "    prog.value += 1\n",
    "    \n",
    "prog.bar_style = 'success'"
   ]
  },
  {
   "cell_type": "code",
   "execution_count": 63,
   "metadata": {
    "collapsed": false,
    "deletable": true,
    "editable": true
   },
   "outputs": [
    {
     "data": {
      "text/plain": [
       "136"
      ]
     },
     "execution_count": 63,
     "metadata": {},
     "output_type": "execute_result"
    }
   ],
   "source": [
    "len(features)"
   ]
  },
  {
   "cell_type": "code",
   "execution_count": 64,
   "metadata": {
    "collapsed": true,
    "deletable": true,
    "editable": true
   },
   "outputs": [],
   "source": [
    "features_df = pd.concat(features, axis=0)"
   ]
  },
  {
   "cell_type": "code",
   "execution_count": 65,
   "metadata": {
    "collapsed": false,
    "deletable": true,
    "editable": true
   },
   "outputs": [
    {
     "data": {
      "text/html": [
       "<div>\n",
       "<table border=\"1\" class=\"dataframe\">\n",
       "  <thead>\n",
       "    <tr style=\"text-align: right;\">\n",
       "      <th></th>\n",
       "      <th>eig_1</th>\n",
       "      <th>eig_2</th>\n",
       "      <th>eig_3</th>\n",
       "      <th>eig_4</th>\n",
       "      <th>eig_5</th>\n",
       "      <th>eig_6</th>\n",
       "      <th>eig_7</th>\n",
       "      <th>eig_8</th>\n",
       "      <th>eig_9</th>\n",
       "      <th>eig_10</th>\n",
       "      <th>eig_11</th>\n",
       "      <th>eig_12</th>\n",
       "      <th>eig_13</th>\n",
       "      <th>eig_14</th>\n",
       "      <th>eig_15</th>\n",
       "      <th>eig_16</th>\n",
       "    </tr>\n",
       "  </thead>\n",
       "  <tbody>\n",
       "    <tr>\n",
       "      <th>count</th>\n",
       "      <td>1496.000000</td>\n",
       "      <td>1496.000000</td>\n",
       "      <td>1496.000000</td>\n",
       "      <td>1.496000e+03</td>\n",
       "      <td>1.496000e+03</td>\n",
       "      <td>1.496000e+03</td>\n",
       "      <td>1.496000e+03</td>\n",
       "      <td>1.496000e+03</td>\n",
       "      <td>1.496000e+03</td>\n",
       "      <td>1.496000e+03</td>\n",
       "      <td>1.496000e+03</td>\n",
       "      <td>1.496000e+03</td>\n",
       "      <td>1.496000e+03</td>\n",
       "      <td>1.496000e+03</td>\n",
       "      <td>1.496000e+03</td>\n",
       "      <td>1.496000e+03</td>\n",
       "    </tr>\n",
       "    <tr>\n",
       "      <th>mean</th>\n",
       "      <td>15.190569</td>\n",
       "      <td>-0.346379</td>\n",
       "      <td>-0.040642</td>\n",
       "      <td>5.293787e-02</td>\n",
       "      <td>1.531367e-02</td>\n",
       "      <td>1.051875e-03</td>\n",
       "      <td>8.117539e-04</td>\n",
       "      <td>8.021390e-03</td>\n",
       "      <td>1.737968e-02</td>\n",
       "      <td>6.684492e-04</td>\n",
       "      <td>3.342246e-03</td>\n",
       "      <td>-4.495511e-12</td>\n",
       "      <td>-5.053628e-13</td>\n",
       "      <td>2.313848e-19</td>\n",
       "      <td>6.403026e-20</td>\n",
       "      <td>7.421277e-20</td>\n",
       "    </tr>\n",
       "    <tr>\n",
       "      <th>std</th>\n",
       "      <td>1.748524</td>\n",
       "      <td>2.022997</td>\n",
       "      <td>0.582395</td>\n",
       "      <td>4.041074e-01</td>\n",
       "      <td>2.883422e-01</td>\n",
       "      <td>1.897178e-01</td>\n",
       "      <td>1.398886e-01</td>\n",
       "      <td>1.031405e-01</td>\n",
       "      <td>1.307251e-01</td>\n",
       "      <td>4.479109e-02</td>\n",
       "      <td>5.773477e-02</td>\n",
       "      <td>2.392494e-10</td>\n",
       "      <td>1.954647e-11</td>\n",
       "      <td>6.120414e-18</td>\n",
       "      <td>2.611545e-18</td>\n",
       "      <td>2.870413e-18</td>\n",
       "    </tr>\n",
       "    <tr>\n",
       "      <th>min</th>\n",
       "      <td>0.000000</td>\n",
       "      <td>-2.717798</td>\n",
       "      <td>-1.980612</td>\n",
       "      <td>-1.530185e+00</td>\n",
       "      <td>-1.234650e+00</td>\n",
       "      <td>-1.000000e+00</td>\n",
       "      <td>-1.000000e+00</td>\n",
       "      <td>-1.000000e+00</td>\n",
       "      <td>-5.530200e-09</td>\n",
       "      <td>-1.000000e+00</td>\n",
       "      <td>-1.076865e-08</td>\n",
       "      <td>-4.569597e-09</td>\n",
       "      <td>-7.560214e-10</td>\n",
       "      <td>-8.326673e-17</td>\n",
       "      <td>-2.775558e-17</td>\n",
       "      <td>-1.540744e-33</td>\n",
       "    </tr>\n",
       "    <tr>\n",
       "      <th>25%</th>\n",
       "      <td>15.184799</td>\n",
       "      <td>-1.090358</td>\n",
       "      <td>-0.522424</td>\n",
       "      <td>-3.882645e-16</td>\n",
       "      <td>-1.984775e-16</td>\n",
       "      <td>-1.920855e-16</td>\n",
       "      <td>-1.260043e-16</td>\n",
       "      <td>-8.463037e-17</td>\n",
       "      <td>-3.549181e-17</td>\n",
       "      <td>-2.077317e-17</td>\n",
       "      <td>-7.716947e-18</td>\n",
       "      <td>-5.926942e-32</td>\n",
       "      <td>-1.519291e-64</td>\n",
       "      <td>-1.663266e-111</td>\n",
       "      <td>0.000000e+00</td>\n",
       "      <td>0.000000e+00</td>\n",
       "    </tr>\n",
       "    <tr>\n",
       "      <th>50%</th>\n",
       "      <td>15.405304</td>\n",
       "      <td>-0.668683</td>\n",
       "      <td>0.031271</td>\n",
       "      <td>2.139802e-16</td>\n",
       "      <td>7.735943e-17</td>\n",
       "      <td>2.627435e-46</td>\n",
       "      <td>5.961922e-34</td>\n",
       "      <td>-2.127007e-62</td>\n",
       "      <td>-1.059500e-65</td>\n",
       "      <td>0.000000e+00</td>\n",
       "      <td>0.000000e+00</td>\n",
       "      <td>0.000000e+00</td>\n",
       "      <td>0.000000e+00</td>\n",
       "      <td>0.000000e+00</td>\n",
       "      <td>0.000000e+00</td>\n",
       "      <td>0.000000e+00</td>\n",
       "    </tr>\n",
       "    <tr>\n",
       "      <th>75%</th>\n",
       "      <td>15.592047</td>\n",
       "      <td>0.062746</td>\n",
       "      <td>0.318854</td>\n",
       "      <td>1.874991e-01</td>\n",
       "      <td>5.629490e-16</td>\n",
       "      <td>2.490191e-16</td>\n",
       "      <td>1.587509e-16</td>\n",
       "      <td>9.399585e-17</td>\n",
       "      <td>7.005132e-17</td>\n",
       "      <td>2.531489e-17</td>\n",
       "      <td>1.107976e-17</td>\n",
       "      <td>2.247102e-20</td>\n",
       "      <td>2.967365e-67</td>\n",
       "      <td>1.170419e-97</td>\n",
       "      <td>0.000000e+00</td>\n",
       "      <td>0.000000e+00</td>\n",
       "    </tr>\n",
       "    <tr>\n",
       "      <th>max</th>\n",
       "      <td>15.937254</td>\n",
       "      <td>16.000000</td>\n",
       "      <td>1.878494</td>\n",
       "      <td>1.703434e+00</td>\n",
       "      <td>1.248518e+00</td>\n",
       "      <td>1.000000e+00</td>\n",
       "      <td>1.000000e+00</td>\n",
       "      <td>1.000000e+00</td>\n",
       "      <td>1.000000e+00</td>\n",
       "      <td>1.000000e+00</td>\n",
       "      <td>1.000000e+00</td>\n",
       "      <td>1.977782e-09</td>\n",
       "      <td>1.149923e-16</td>\n",
       "      <td>1.249001e-16</td>\n",
       "      <td>8.326673e-17</td>\n",
       "      <td>1.110223e-16</td>\n",
       "    </tr>\n",
       "  </tbody>\n",
       "</table>\n",
       "</div>"
      ],
      "text/plain": [
       "             eig_1        eig_2        eig_3         eig_4         eig_5  \\\n",
       "count  1496.000000  1496.000000  1496.000000  1.496000e+03  1.496000e+03   \n",
       "mean     15.190569    -0.346379    -0.040642  5.293787e-02  1.531367e-02   \n",
       "std       1.748524     2.022997     0.582395  4.041074e-01  2.883422e-01   \n",
       "min       0.000000    -2.717798    -1.980612 -1.530185e+00 -1.234650e+00   \n",
       "25%      15.184799    -1.090358    -0.522424 -3.882645e-16 -1.984775e-16   \n",
       "50%      15.405304    -0.668683     0.031271  2.139802e-16  7.735943e-17   \n",
       "75%      15.592047     0.062746     0.318854  1.874991e-01  5.629490e-16   \n",
       "max      15.937254    16.000000     1.878494  1.703434e+00  1.248518e+00   \n",
       "\n",
       "              eig_6         eig_7         eig_8         eig_9        eig_10  \\\n",
       "count  1.496000e+03  1.496000e+03  1.496000e+03  1.496000e+03  1.496000e+03   \n",
       "mean   1.051875e-03  8.117539e-04  8.021390e-03  1.737968e-02  6.684492e-04   \n",
       "std    1.897178e-01  1.398886e-01  1.031405e-01  1.307251e-01  4.479109e-02   \n",
       "min   -1.000000e+00 -1.000000e+00 -1.000000e+00 -5.530200e-09 -1.000000e+00   \n",
       "25%   -1.920855e-16 -1.260043e-16 -8.463037e-17 -3.549181e-17 -2.077317e-17   \n",
       "50%    2.627435e-46  5.961922e-34 -2.127007e-62 -1.059500e-65  0.000000e+00   \n",
       "75%    2.490191e-16  1.587509e-16  9.399585e-17  7.005132e-17  2.531489e-17   \n",
       "max    1.000000e+00  1.000000e+00  1.000000e+00  1.000000e+00  1.000000e+00   \n",
       "\n",
       "             eig_11        eig_12        eig_13         eig_14        eig_15  \\\n",
       "count  1.496000e+03  1.496000e+03  1.496000e+03   1.496000e+03  1.496000e+03   \n",
       "mean   3.342246e-03 -4.495511e-12 -5.053628e-13   2.313848e-19  6.403026e-20   \n",
       "std    5.773477e-02  2.392494e-10  1.954647e-11   6.120414e-18  2.611545e-18   \n",
       "min   -1.076865e-08 -4.569597e-09 -7.560214e-10  -8.326673e-17 -2.775558e-17   \n",
       "25%   -7.716947e-18 -5.926942e-32 -1.519291e-64 -1.663266e-111  0.000000e+00   \n",
       "50%    0.000000e+00  0.000000e+00  0.000000e+00   0.000000e+00  0.000000e+00   \n",
       "75%    1.107976e-17  2.247102e-20  2.967365e-67   1.170419e-97  0.000000e+00   \n",
       "max    1.000000e+00  1.977782e-09  1.149923e-16   1.249001e-16  8.326673e-17   \n",
       "\n",
       "             eig_16  \n",
       "count  1.496000e+03  \n",
       "mean   7.421277e-20  \n",
       "std    2.870413e-18  \n",
       "min   -1.540744e-33  \n",
       "25%    0.000000e+00  \n",
       "50%    0.000000e+00  \n",
       "75%    0.000000e+00  \n",
       "max    1.110223e-16  "
      ]
     },
     "execution_count": 65,
     "metadata": {},
     "output_type": "execute_result"
    }
   ],
   "source": [
    "features_df.describe()"
   ]
  },
  {
   "cell_type": "code",
   "execution_count": 66,
   "metadata": {
    "collapsed": true,
    "deletable": true,
    "editable": true
   },
   "outputs": [],
   "source": [
    "feature_file = os.path.join(os.getcwd(), 'digit_eigenvalues.csv')\n",
    "features_df.to_csv(feature_file, index_label='label')"
   ]
  },
  {
   "cell_type": "code",
   "execution_count": null,
   "metadata": {
    "collapsed": true
   },
   "outputs": [],
   "source": []
  }
 ],
 "metadata": {
  "kernelspec": {
   "display_name": "Python 3",
   "language": "python",
   "name": "python3"
  },
  "language_info": {
   "codemirror_mode": {
    "name": "ipython",
    "version": 3
   },
   "file_extension": ".py",
   "mimetype": "text/x-python",
   "name": "python",
   "nbconvert_exporter": "python",
   "pygments_lexer": "ipython3",
   "version": "3.5.3"
  }
 },
 "nbformat": 4,
 "nbformat_minor": 2
}
