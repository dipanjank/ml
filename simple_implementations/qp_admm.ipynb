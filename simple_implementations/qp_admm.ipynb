{
 "cells": [
  {
   "cell_type": "markdown",
   "metadata": {},
   "source": [
    "<h1 align=\"center\">ADMM for Quadratic Programming</h1>\n",
    "\n",
    "In this notebook, we implement the Alternating Direction Method of Multipliers algorithm for solving a standard-form Quadratic Program.  The ADMM approach solves convex optimization problems by breaking them into smaller pieces, each of which are then easier to handle.\n",
    "\n",
    "The standard form QP is:\n",
    "\n",
    "**Minimize $\\dfrac {1} {2} x^T P x + q^T x + r$ subject to $lb \\le x \\le ub$.**"
   ]
  },
  {
   "cell_type": "code",
   "execution_count": 1,
   "metadata": {},
   "outputs": [],
   "source": [
    "import numpy as np\n",
    "import pandas as pd\n",
    "%matplotlib inline\n",
    "import matplotlib.pyplot as plt\n",
    "plt.style.use('ggplot')"
   ]
  },
  {
   "cell_type": "markdown",
   "metadata": {},
   "source": [
    "# Pure-Python ADMM Implementation\n",
    "\n",
    "The code below is a direct Python port of the reference MATLAB implementation in Reference[1]. "
   ]
  },
  {
   "cell_type": "code",
   "execution_count": 2,
   "metadata": {},
   "outputs": [],
   "source": [
    "from numpy.linalg import cholesky, norm\n",
    "\n",
    "def objective(P, q, r, x):\n",
    "    \"\"\"Return the value of the Standard form QP using the current value of x.\"\"\"\n",
    "    return 0.5 * np.dot(x, np.dot(P, x)) + np.dot(q, x) + r\n",
    "\n",
    "\n",
    "def qp_admm(P, q, r, lb, ub,\n",
    "            max_iter=1000,\n",
    "            rho=1.0, \n",
    "            alpha=1.2,              \n",
    "            atol=1e-4, \n",
    "            rtol=1e-2):\n",
    "\n",
    "    n = P.shape[0]\n",
    "    \n",
    "    x = np.zeros(n)\n",
    "    z = np.zeros(n)\n",
    "    u = np.zeros(n)\n",
    "    \n",
    "    history = []\n",
    "\n",
    "    for k in range(1, max_iter+1):\n",
    "\n",
    "        if k > 1:\n",
    "            x = ((rho * (z - u) - q) / R.T) / R\n",
    "        else:\n",
    "            R = cholesky(P + rho * np.eye(n))\n",
    "            x = ((rho * (z - u) - q) / R.T) / R\n",
    "        \n",
    "        x = np.diag(x)\n",
    "        \n",
    "        # z-update with relaxation\n",
    "        z_old = z\n",
    "        x_hat = alpha * x +(1 - alpha) * z_old\n",
    "        z = np.minimum(ub, np.maximum(lb, x_hat + u))\n",
    "\n",
    "        # u-update\n",
    "        u = u + (x_hat - z)\n",
    "\n",
    "        # diagnostics, and termination checks\n",
    "        objval = objective(P, q, r, x)\n",
    "\n",
    "        r_norm = norm(x - z)\n",
    "        s_norm = norm(-rho * (z - z_old))\n",
    "        eps_pri = np.sqrt(n) * atol + rtol * np.maximum(norm(x), norm(-z))\n",
    "        eps_dual = np.sqrt(n)* atol + rtol * norm(rho*u)\n",
    "        \n",
    "        history.append({\n",
    "            'objval'  : objval, \n",
    "            'r_norm'  : r_norm, \n",
    "            's_norm'  : s_norm,\n",
    "            'eps_pri' : eps_pri,\n",
    "            'eps_dual': eps_dual,\n",
    "        })\n",
    "        \n",
    "        if r_norm < eps_pri and s_norm < eps_dual:\n",
    "            print('Optimization terminated after {} iterations'.format(k))\n",
    "            break;\n",
    "        \n",
    "    history = pd.DataFrame(history)\n",
    "    return x, history\n"
   ]
  },
  {
   "cell_type": "markdown",
   "metadata": {},
   "source": [
    "# QP Solver using CVXPY \n",
    "For comparison, we also implement QP solver using cvxpy."
   ]
  },
  {
   "cell_type": "code",
   "execution_count": 3,
   "metadata": {},
   "outputs": [],
   "source": [
    "import cvxpy as cvx\n",
    "\n",
    "def qp_cvxpy(P, q, r, lb, ub,\n",
    "            max_iter=1000,\n",
    "            atol=1e-4, \n",
    "            rtol=1e-2):\n",
    "    n = P.shape[0]\n",
    "    \n",
    "    # The variable we want to solve for\n",
    "    x = cvx.Variable(n)\n",
    "    constraints = [x >= cvx.Constant(lb), x <= cvx.Constant(ub)]\n",
    "    \n",
    "    # Construct the QP expression using CVX Primitives\n",
    "    # Note that in the CVX-meta language '*' of vectors of matrices indicates dot product, \n",
    "    # not elementwise multiplication \n",
    "    expr = cvx.Constant(0.5) * cvx.quad_form(x, cvx.Constant(P)) + cvx.Constant(q) * x + cvx.Constant(r)\n",
    "    qp = cvx.Problem(cvx.Minimize(expr), constraints=constraints)\n",
    "    qp.solve(max_iters=max_iter, abstol=atol, reltol=rtol, verbose=True)    \n",
    "    \n",
    "    # The result is a Matrix object. Make it an NDArray and drop of 2nd dimension i.e. make it a vector.\n",
    "    x_opt = np.array(x.value).squeeze()\n",
    "    return x_opt"
   ]
  },
  {
   "cell_type": "markdown",
   "metadata": {},
   "source": [
    "# Generate Optimal Portfolio Holdings\n",
    "\n",
    "In this section, we define a helper function to load the one of the five asset returns datasets from OR library (Reference [2]). The data are available by requesting filenames `port[1-5]`. Each file contains a progressively larger set of asset returns, standard deviations of returns and correlations of returns."
   ]
  },
  {
   "cell_type": "code",
   "execution_count": 4,
   "metadata": {},
   "outputs": [],
   "source": [
    "import requests\n",
    "from statsmodels.stats.moment_helpers import corr2cov\n",
    "from functools import lru_cache\n",
    "\n",
    "@lru_cache(maxsize=5)\n",
    "def get_cov(filename):\n",
    "    url = r'http://people.brunel.ac.uk/~mastjjb/jeb/orlib/files/{}.txt'.format(filename)\n",
    "    data = requests.get(url).text\n",
    "    lines = [line.strip() for line in data.split('\\n')]\n",
    "\n",
    "    # First line is the number of assets\n",
    "    n_assets = int(lines[0])\n",
    "    \n",
    "    # Next n_assets lines contain the space separated mean and stddev. of returns for each asset\n",
    "    means_and_sds = pd.DataFrame(\n",
    "        data=np.nan, \n",
    "        index=range(0, n_assets), \n",
    "        columns=['ret_mean', 'ret_std'])\n",
    "\n",
    "    # Next n_assetsC2 lines contain the 1-based row and column index and the corresponding correlation\n",
    "    for i in range(0, n_assets):\n",
    "        mean, sd = map(float, lines[1+i].split())\n",
    "        means_and_sds.loc[i, ['ret_mean', 'ret_std']] = [mean, sd]\n",
    "\n",
    "    n_corrs = (n_assets * (n_assets + 1)) // 2\n",
    "    corrs = pd.DataFrame(index=range(n_assets), columns=range(n_assets), data=np.nan)\n",
    "\n",
    "    for i in range(0, n_corrs):\n",
    "        row, col, corr = lines[n_assets + 1 + i].split()\n",
    "        row, col = int(row)-1, int(col)-1\n",
    "        corr = float(corr)\n",
    "        corrs.loc[row, col] = corr\n",
    "        corrs.loc[col, row] = corr\n",
    "    \n",
    "    cov = corr2cov(corrs, means_and_sds.ret_std)\n",
    "    return cov"
   ]
  },
  {
   "cell_type": "markdown",
   "metadata": {},
   "source": [
    "# Set up the Portfolio Optimization problem as a QP"
   ]
  },
  {
   "cell_type": "code",
   "execution_count": 5,
   "metadata": {},
   "outputs": [],
   "source": [
    "from numpy.random import RandomState\n",
    "rng = RandomState(0)\n",
    "P = get_cov('port1')\n",
    "n = P.shape[0]\n",
    "alphas = rng.uniform(-0.4, 0.4, size=n) \n",
    "q = -alphas\n",
    "ub = np.ones_like(q)\n",
    "lb = np.zeros_like(q)\n",
    "r = 0"
   ]
  },
  {
   "cell_type": "markdown",
   "metadata": {},
   "source": [
    "# Using ADMM"
   ]
  },
  {
   "cell_type": "code",
   "execution_count": 6,
   "metadata": {},
   "outputs": [
    {
     "name": "stdout",
     "output_type": "stream",
     "text": [
      "Optimization terminated after 50 iterations\n",
      "Wall time: 24 ms\n"
     ]
    },
    {
     "name": "stderr",
     "output_type": "stream",
     "text": [
      "d:\\Anaconda3\\envs\\crf\\lib\\site-packages\\ipykernel_launcher.py:28: RuntimeWarning: divide by zero encountered in true_divide\n",
      "d:\\Anaconda3\\envs\\crf\\lib\\site-packages\\ipykernel_launcher.py:25: RuntimeWarning: divide by zero encountered in true_divide\n",
      "d:\\Anaconda3\\envs\\crf\\lib\\site-packages\\ipykernel_launcher.py:25: RuntimeWarning: invalid value encountered in true_divide\n"
     ]
    }
   ],
   "source": [
    "%%time\n",
    "x_opt_admm, history = qp_admm(P, q, r, lb, ub)"
   ]
  },
  {
   "cell_type": "code",
   "execution_count": 19,
   "metadata": {},
   "outputs": [
    {
     "data": {
      "image/png": "[encoded data removed]",
      "text/plain": [
       "<Figure size 720x576 with 5 Axes>"
      ]
     },
     "metadata": {},
     "output_type": "display_data"
    }
   ],
   "source": [
    "fig, ax = plt.subplots(history.shape[1], 1, figsize=(10, 8))\n",
    "ax = history.plot(subplots=True, ax=ax, rot=0)"
   ]
  },
  {
   "cell_type": "markdown",
   "metadata": {},
   "source": [
    "# Using CVXPY"
   ]
  },
  {
   "cell_type": "code",
   "execution_count": 7,
   "metadata": {},
   "outputs": [
    {
     "name": "stdout",
     "output_type": "stream",
     "text": [
      "\n",
      "ECOS 2.0.4 - (C) embotech GmbH, Zurich Switzerland, 2012-15. Web: www.embotech.com/ECOS\n",
      "\n",
      "It     pcost       dcost      gap   pres   dres    k/t    mu     step   sigma     IR    |   BT\n",
      " 0  -8.349e-01  -3.800e+01  +2e+02  5e-01  5e-02  1e+00  3e+00    ---    ---    1  1  - |  -  - \n",
      " 1  -3.017e+00  -7.175e+00  +6e+01  7e-02  1e-02  3e+00  1e+00  0.8488  4e-01   1  1  1 |  0  0\n",
      " 2  -3.483e+00  -4.019e+00  +8e+00  6e-03  2e-03  2e-01  2e-01  0.9890  1e-01   1  1  1 |  0  0\n",
      " 3  -3.622e+00  -3.763e+00  +2e+00  1e-03  3e-04  3e-02  4e-02  0.8776  1e-01   1  1  1 |  0  0\n",
      " 4  -3.665e+00  -3.676e+00  +2e-01  1e-04  3e-05  2e-03  3e-03  0.9313  1e-02   1  1  1 |  0  0\n",
      " 5  -3.669e+00  -3.670e+00  +3e-02  2e-05  4e-06  2e-04  5e-04  0.8740  4e-02   2  1  1 |  0  0\n",
      " 6  -3.669e+00  -3.670e+00  +1e-02  6e-06  2e-06  6e-05  2e-04  0.7603  2e-01   2  1  1 |  0  0\n",
      " 7  -3.669e+00  -3.669e+00  +1e-03  8e-07  2e-07  7e-06  2e-05  0.8847  1e-02   2  1  1 |  0  0\n",
      " 8  -3.669e+00  -3.669e+00  +6e-05  3e-08  9e-09  2e-07  9e-07  0.9739  2e-02   2  1  1 |  0  0\n",
      " 9  -3.669e+00  -3.669e+00  +2e-06  1e-09  3e-10  7e-09  3e-08  0.9680  3e-04   2  2  2 |  0  0\n",
      "\n",
      "OPTIMAL (within feastol=1.1e-09, reltol=5.0e-07, abstol=1.8e-06).\n",
      "Runtime: 0.004591 seconds.\n",
      "\n",
      "Wall time: 39 ms\n"
     ]
    }
   ],
   "source": [
    "%%time\n",
    "x_opt_cvxpy = qp_cvxpy(P, q, r, lb, ub)"
   ]
  },
  {
   "cell_type": "markdown",
   "metadata": {},
   "source": [
    "# Optimal Holdings Comparison"
   ]
  },
  {
   "cell_type": "code",
   "execution_count": 8,
   "metadata": {},
   "outputs": [
    {
     "data": {
      "image/png": "[encoded data removed]",
      "text/plain": [
       "<Figure size 864x288 with 1 Axes>"
      ]
     },
     "metadata": {},
     "output_type": "display_data"
    }
   ],
   "source": [
    "holdings = pd.DataFrame(np.column_stack([x_opt_admm, x_opt_cvxpy]), columns=['opt_admm', 'opt_cvxpy'])\n",
    "fig, ax = plt.subplots(1, 1, figsize=(12, 4))\n",
    "ax = holdings.plot(kind='bar', ax=ax, rot=0)\n",
    "labels = ax.set(xlabel='Assets', ylabel='Holdings')"
   ]
  },
  {
   "cell_type": "markdown",
   "metadata": {},
   "source": [
    "# References\n",
    "\n",
    "1. https://web.stanford.edu/~boyd/papers/admm/quadprog/quadprog.html\n",
    "2. http://people.brunel.ac.uk/~mastjjb/jeb/orlib/portinfo.html"
   ]
  }
 ],
 "metadata": {
  "kernelspec": {
   "display_name": "Python 3",
   "language": "python",
   "name": "python3"
  },
  "language_info": {
   "codemirror_mode": {
    "name": "ipython",
    "version": 3
   },
   "file_extension": ".py",
   "mimetype": "text/x-python",
   "name": "python",
   "nbconvert_exporter": "python",
   "pygments_lexer": "ipython3",
   "version": "3.5.5"
  }
 },
 "nbformat": 4,
 "nbformat_minor": 2
}
