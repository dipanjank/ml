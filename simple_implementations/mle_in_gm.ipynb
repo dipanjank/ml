{
 "cells": [
  {
   "cell_type": "markdown",
   "metadata": {
    "deletable": true,
    "editable": true
   },
   "source": [
    "# Maximum Likelihood Estimation for Gaussian Mixture Models"
   ]
  },
  {
   "cell_type": "markdown",
   "metadata": {
    "deletable": true,
    "editable": true
   },
   "source": [
    "The PDF of a GMM is defined by:\n",
    "\n",
    "$p(x) = \\sum_{j=1}^M p(x \\mid \\mu_j, \\sigma_j) \\pi_j$"
   ]
  },
  {
   "cell_type": "markdown",
   "metadata": {
    "deletable": true,
    "editable": true
   },
   "source": [
    "where $\\pi_j$ are the mixture coefficients, $M$ is the number of Gaussians and $p(x \\mid \\mu_j, \\sigma_j)$ is the PDF of the $j-th$ Gaussian.\n",
    "\n",
    "Since the $\\pi_j$s are probabilities, $\\sum_j \\pi_j = 1$."
   ]
  },
  {
   "cell_type": "markdown",
   "metadata": {
    "deletable": true,
    "editable": true
   },
   "source": [
    "# Univariate Gaussians with Known Mixture Coefficients\n",
    "\n",
    "To begin with, let us assume that the mixture coefficents are known, so the problem is to find the values of the $(\\mu_j, \\sigma_j)$  that maximizes the likelihood of the entire dataset."
   ]
  },
  {
   "cell_type": "markdown",
   "metadata": {
    "deletable": true,
    "editable": true
   },
   "source": [
    "The log-likelihood of a single instance $x_i$ is\n",
    "    \n",
    "$LL(x_i) = \\ln p(x_i) = \\sum_j \\ln \\big[\\pi_j p(x_i \\mid \\mu_j, \\sigma_j) \\big] = \\sum_j \\big [\\ln (\\pi_j) + \\ln p(x_i \\mid \\mu_j, \\sigma_j) \\big ]$"
   ]
  },
  {
   "cell_type": "markdown",
   "metadata": {
    "deletable": true,
    "editable": true
   },
   "source": [
    "Now, we know: $p(x_i \\mid \\mu_j, \\sigma_j) = \\frac {1} {\\sqrt(2 \\pi) \\sigma_j} \\exp \\big[ -\\frac {(x_i - \\mu_j)^2} {2 \\sigma_j^2} \\big ]$\n"
   ]
  },
  {
   "cell_type": "markdown",
   "metadata": {
    "deletable": true,
    "editable": true
   },
   "source": [
    "Hence, $\\ln p(x_i \\mid \\mu_j, \\sigma_j) = - \\big [\\frac {(x_i - \\mu_j)^2} {2 \\sigma_j^2}  + \\frac {1} {2} \\ln (2 \\pi) + \\ln (\\sigma_j) \\big ]$"
   ]
  },
  {
   "cell_type": "markdown",
   "metadata": {
    "deletable": true,
    "editable": true
   },
   "source": [
    "Hence, $LL(x_i) = \\sum_j \\big [ ln (\\pi_j) - \\frac {(x_i - \\mu_j)^2} {2 \\sigma_j^2}  - \\frac {1}{2} \\ln (2 \\pi) - \\ln (\\sigma_j) \\big ] = \\sum_j \\big [ ln (\\pi_j) - \\frac {1}{2} \\ln (2 \\pi)) \\big ] - \\sum_j \\big [\\frac {(x_i - \\mu_j)^2} {2 \\sigma_j^2} +  \\ln (\\sigma_j)  \\big ]$"
   ]
  },
  {
   "cell_type": "markdown",
   "metadata": {
    "deletable": true,
    "editable": true
   },
   "source": [
    "The log-likelihood of the entire dataset $D$ is:\n",
    "\n",
    "$LL(D) = \\sum_i LL(x_i)$"
   ]
  },
  {
   "cell_type": "markdown",
   "metadata": {
    "deletable": true,
    "editable": true
   },
   "source": [
    "To find the values of $(\\mu_j, \\sigma_j)$ that maximize the likelihood of the entire dataset, we take the derivative of $LL(D)$ w.r.t. some $\\mu_k$ and $\\sigma_k$ and set them to zero."
   ]
  },
  {
   "cell_type": "markdown",
   "metadata": {
    "deletable": true,
    "editable": true
   },
   "source": [
    "# Maximizing Log-likelihood\n",
    "\n",
    "## Finding $\\mu_k$\n",
    "\n",
    "$\\frac {\\partial} {\\partial \\mu_k} [ LL(x_i) ] = - \\frac {2(x_i - \\mu_k)(-1)} {2 \\sigma_k^2} = \\frac {(x_i - \\mu_k)} {\\sigma_k^2}$. The sum contributes only one term to the derivative where $\\mu_j = \\mu_k$, the derivative of all the other terms are zero."
   ]
  },
  {
   "cell_type": "markdown",
   "metadata": {
    "deletable": true,
    "editable": true
   },
   "source": [
    "Hence, $\\frac {\\partial} {\\partial \\mu_k} [LL(D)] = \\frac {1}{\\sigma_k^2} \\sum_i (x_i - \\mu_k)$\n",
    "\n",
    "Setting this to zero, we get:\n",
    "\n",
    "$\\sum_i (x_i - \\mu_k) = 0 => n \\mu_k = \\sum_i x_i => \\mu_k = \\frac {1}{n} x_i$ "
   ]
  },
  {
   "cell_type": "markdown",
   "metadata": {
    "deletable": true,
    "editable": true
   },
   "source": [
    "## Finding $\\sigma_k$\n",
    "\n",
    "$\\frac {\\partial} {\\partial \\sigma_k} [LL(x_i)] = - \\big [ \\frac {(-2) (x_i - \\mu_k)^2} {2 \\sigma_k^3} + \\frac {1} {\\sigma_k} \\big ] = \\big [ \\frac {(x_i - \\mu_k)^2} {\\sigma_k^3} - \\frac {1}{\\sigma_k} \\big ]$ "
   ]
  },
  {
   "cell_type": "markdown",
   "metadata": {
    "deletable": true,
    "editable": true
   },
   "source": [
    "As before, $\\frac {\\partial} {\\partial \\sigma_k} [LL(D)] = \\sum_i \\big [ \\frac {(x_i - \\mu_k)^2} {\\sigma_k^3} - \\frac {1}{\\sigma_k} \\big ]$"
   ]
  },
  {
   "cell_type": "markdown",
   "metadata": {
    "deletable": true,
    "editable": true
   },
   "source": [
    "Setting this to zero, we get:\n",
    "    \n",
    "$\\frac {\\sum_i (x_i - \\mu_k)^2} {\\sigma_k^3} = \\frac {n} {\\sigma_k} => \\sigma_k^2 = \\frac {1}{n} (x_i - \\mu_k)^2$"
   ]
  },
  {
   "cell_type": "markdown",
   "metadata": {
    "deletable": true,
    "editable": true
   },
   "source": [
    "Replacing $\\mu_k = \\bar{x}$, we get:\n",
    " \n",
    "$\\sigma_k^2 = \\frac {1}{n} (x_i - \\bar{x}) = \\sigma_x^2$"
   ]
  },
  {
   "cell_type": "markdown",
   "metadata": {
    "deletable": true,
    "editable": true
   },
   "source": [
    "Thus when the mixture coefficents are known, the MLE estimates of the Gaussian params are the mean and stddev of the input samples."
   ]
  },
  {
   "cell_type": "markdown",
   "metadata": {
    "deletable": true,
    "editable": true
   },
   "source": [
    "# Univariate Gaussians with Unknown Mixture\n",
    "\n",
    "In practice, we don't know what the mixture coefficients are. This leads to a more complex optimization problem since the $\\pi_j$ term in the expression for $LL(x_i)$ cannot be treated as constants. In addition, we now have a constrained optimization problem with $\\sum_j \\pi_j = 1$. There is no closed form solution for this problem."
   ]
  },
  {
   "cell_type": "markdown",
   "metadata": {
    "deletable": true,
    "editable": true
   },
   "source": [
    "# Using Expectation Maximization\n",
    "\n",
    "Instead of solving the complex optimization problem, we can use the EM algorithm, which allows us to pretend as if we know the mixture coefficients and thus apply the simpler MLE solution iteratively."
   ]
  },
  {
   "cell_type": "markdown",
   "metadata": {
    "deletable": true,
    "editable": true
   },
   "source": [
    "In the EM approach, we initialize the Gaussian parameters and the mixture coefficients randomly. Then,\n",
    "\n",
    "## Expection Step\n",
    "\n",
    "We can think of the $\\pi_j$s as prior probabilities for each mixture. Using Bayes' theroem, we can calculate the posteriors as\n",
    "\n",
    "$\\gamma_{ij} = p(\\mu_j, \\sigma_j | x_i) = \\frac {p(x_i \\mid \\mu_j, \\sigma_j) \\pi_j} {p(x_i)}$\n",
    "\n",
    "Where $p(x_i)$ = $\\sum_t p(x_i \\mid \\mu_t, \\sigma_t) \\pi_t$ is the GMM PDF."
   ]
  },
  {
   "cell_type": "markdown",
   "metadata": {
    "deletable": true,
    "editable": true
   },
   "source": [
    "For each mixture $j$, calcute the responsilbilities:\n",
    "\n",
    "$\\gamma_j = \\sum_i \\gamma_{ij} = \\frac {\\pi_j} {p(x_i)} \\sum_i p(x_i | \\mu_i, \\sigma_j)$"
   ]
  },
  {
   "cell_type": "markdown",
   "metadata": {
    "deletable": true,
    "editable": true
   },
   "source": [
    "## Maximization Step\n",
    "\n",
    "Update the $\\pi_j$s as:\n",
    "$\\pi_j = \\frac {1}{n} \\sum_i \\gamma_{ij}$\n",
    "\n",
    "Update the $j-th$ Gaussian parameters as:\n",
    "\n",
    "$\\mu_j = \\frac {\\sum_i \\gamma_{ij}x_i} {\\sum_i \\gamma_{ij}}$\n",
    "\n",
    "And \n",
    "\n",
    "$\\sigma_j^2 =  \\frac {\\sum_i \\gamma_{ij}(x_i - \\mu_j)^2} {\\sum_i \\gamma_{ij}}$"
   ]
  },
  {
   "cell_type": "markdown",
   "metadata": {
    "deletable": true,
    "editable": true
   },
   "source": [
    "# Example"
   ]
  },
  {
   "cell_type": "code",
   "execution_count": 1,
   "metadata": {
    "collapsed": false,
    "deletable": true,
    "editable": true
   },
   "outputs": [
    {
     "name": "stdout",
     "output_type": "stream",
     "text": [
      "Populating the interactive namespace from numpy and matplotlib\n"
     ]
    }
   ],
   "source": [
    "import numpy as np\n",
    "import pandas as pd\n",
    "%pylab inline\n",
    "pylab.style.use('ggplot')"
   ]
  },
  {
   "cell_type": "code",
   "execution_count": 2,
   "metadata": {
    "collapsed": false,
    "deletable": true,
    "editable": true
   },
   "outputs": [],
   "source": [
    "from scipy.stats import norm\n",
    "\n",
    "x1 = norm.rvs(size=50, loc=1, scale=0.5)\n",
    "x2 = norm.rvs(size=50, loc=5, scale=0.8)\n",
    "\n",
    "x = np.hstack([x1, x2])\n",
    "data = pd.Series(x)"
   ]
  },
  {
   "cell_type": "code",
   "execution_count": 3,
   "metadata": {
    "collapsed": false,
    "deletable": true,
    "editable": true
   },
   "outputs": [
    {
     "data": {
      "text/plain": [
       "<matplotlib.axes._subplots.AxesSubplot at 0x24f598d7dd8>"
      ]
     },
     "execution_count": 3,
     "metadata": {},
     "output_type": "execute_result"
    },
    {
     "data": {
      "image/png": "[encoded data removed]",
      "text/plain": [
       "<matplotlib.figure.Figure at 0x24f5670aeb8>"
      ]
     },
     "metadata": {},
     "output_type": "display_data"
    }
   ],
   "source": [
    "data.plot()"
   ]
  },
  {
   "cell_type": "code",
   "execution_count": 4,
   "metadata": {
    "collapsed": false,
    "deletable": true,
    "editable": true
   },
   "outputs": [
    {
     "data": {
      "application/vnd.jupyter.widget-view+json": {
       "model_id": "190c131593184765ac2888fd05c824d5"
      }
     },
     "metadata": {},
     "output_type": "display_data"
    }
   ],
   "source": [
    "import numpy as np\n",
    "import pandas as pd\n",
    "from scipy.stats import norm\n",
    "\n",
    "from ipywidgets import FloatProgress\n",
    "from IPython.display import display\n",
    "\n",
    "\n",
    "def update_params(resp, g_params, x):\n",
    "    \"\"\"Return the updated Gaussian params using the responsibilities.\"\"\"\n",
    "\n",
    "    # series with 1 row per Gaussian\n",
    "    resp_sum = resp.sum(axis=0)\n",
    "    means = resp.mul(x, axis=0).sum(axis=0) / resp_sum\n",
    "\n",
    "    old_means = g_params['mu']\n",
    "\n",
    "    t = pd.DataFrame(np.nan, index=x.index, columns=g_params.index)\n",
    "\n",
    "    for i, x_i in x.iteritems():\n",
    "        v = (old_means - x_i).pow(2)\n",
    "        t.loc[i, :] = resp.loc[i].mul(v)\n",
    "\n",
    "    new_vars = t.sum(axis=0) / resp_sum\n",
    "    results = pd.concat([means, new_vars], keys=g_params.columns, axis=1)\n",
    "    results.loc[:, 'sigma'] = np.sqrt(results['sigma'])\n",
    "\n",
    "    return results\n",
    "\n",
    "\n",
    "def update_responsibilities(g_params, priors, x, normalized=True):\n",
    "    \"\"\"Returns a dataframe with shape (n_samples * n_mixtures). \n",
    "    Cell_{ij} contains p(x_i | \\mu_j, \\sigma_j) * pi_j / p(x_i).\n",
    "    \"\"\"\n",
    "    t = x.apply(lambda x_i: gmm_pdf(g_params, x_i))\n",
    "    u = t.mul(priors, axis=1)\n",
    "    \n",
    "    if normalized:\n",
    "        resp = u.div(u.sum(axis=1), axis=0)\n",
    "    else:\n",
    "        resp = u\n",
    "        \n",
    "    return resp\n",
    "\n",
    "\n",
    "def gmm_pdf(g_params, x_i):\n",
    "    \"\"\"Returns the gaussian PDFs for i-th input. Note that this is not multiplied by the prior.\"\"\"\n",
    "    result = g_params.apply(lambda row: norm.pdf(x_i, loc=row['mu'], scale=row['sigma']), axis=1)\n",
    "    return result\n",
    "\n",
    "\n",
    "def update_priors(resp):\n",
    "    \"\"\"Calculates the new priors from the responsibilities.\"\"\"\n",
    "    new_priors = resp.mean(axis=0)\n",
    "\n",
    "    # Make a probability distribution\n",
    "    new_priors /= new_priors.sum()\n",
    "    return new_priors\n",
    "\n",
    "\n",
    "def fit_gaussian_mixtures(n_mixtures, x, n_iters=10):\n",
    "    assert n_mixtures > 1\n",
    "    assert n_iters >= 1\n",
    "\n",
    "    progress = FloatProgress(min=0, max=n_iters)\n",
    "    display(progress)\n",
    "    \n",
    "    # initialization - priors\n",
    "    priors = pd.Series(np.random.rand(n_mixtures))\n",
    "    \n",
    "    # initialization - params for the univariate gaussians\n",
    "    g_params = pd.DataFrame(np.random.rand(n_mixtures, 2), columns=['mu', 'sigma'])\n",
    "\n",
    "    for i in range(1, n_iters + 1):\n",
    "        resp = update_responsibilities(g_params, priors, x)\n",
    "        new_priors = update_priors(resp)\n",
    "\n",
    "        # check that the new priors still make a probability distribution\n",
    "        assert np.abs(new_priors.sum() - 1.0) < 1E-5\n",
    "\n",
    "        new_g_params = update_params(resp, g_params, x)\n",
    "\n",
    "        priors = new_priors\n",
    "        g_params = new_g_params\n",
    "        \n",
    "        progress.value += 1\n",
    "\n",
    "    progress.bar_style = 'success'\n",
    "    return priors, g_params\n",
    "\n",
    "priors, gaussians = fit_gaussian_mixtures(2, data, 200)"
   ]
  },
  {
   "cell_type": "code",
   "execution_count": 5,
   "metadata": {
    "collapsed": false,
    "deletable": true,
    "editable": true
   },
   "outputs": [
    {
     "data": {
      "text/plain": [
       "0    0.500074\n",
       "1    0.499926\n",
       "dtype: float64"
      ]
     },
     "execution_count": 5,
     "metadata": {},
     "output_type": "execute_result"
    }
   ],
   "source": [
    "priors"
   ]
  },
  {
   "cell_type": "code",
   "execution_count": 6,
   "metadata": {
    "collapsed": false,
    "deletable": true,
    "editable": true
   },
   "outputs": [
    {
     "data": {
      "text/html": [
       "<div>\n",
       "<table border=\"1\" class=\"dataframe\">\n",
       "  <thead>\n",
       "    <tr style=\"text-align: right;\">\n",
       "      <th></th>\n",
       "      <th>mu</th>\n",
       "      <th>sigma</th>\n",
       "    </tr>\n",
       "  </thead>\n",
       "  <tbody>\n",
       "    <tr>\n",
       "      <th>0</th>\n",
       "      <td>5.092671</td>\n",
       "      <td>0.730034</td>\n",
       "    </tr>\n",
       "    <tr>\n",
       "      <th>1</th>\n",
       "      <td>1.022259</td>\n",
       "      <td>0.470732</td>\n",
       "    </tr>\n",
       "  </tbody>\n",
       "</table>\n",
       "</div>"
      ],
      "text/plain": [
       "         mu     sigma\n",
       "0  5.092671  0.730034\n",
       "1  1.022259  0.470732"
      ]
     },
     "execution_count": 6,
     "metadata": {},
     "output_type": "execute_result"
    }
   ],
   "source": [
    "gaussians"
   ]
  },
  {
   "cell_type": "code",
   "execution_count": null,
   "metadata": {
    "collapsed": true,
    "deletable": true,
    "editable": true
   },
   "outputs": [],
   "source": []
  }
 ],
 "metadata": {
  "anaconda-cloud": {},
  "kernelspec": {
   "display_name": "Python 3",
   "language": "python",
   "name": "python3"
  },
  "language_info": {
   "codemirror_mode": {
    "name": "ipython",
    "version": 3
   },
   "file_extension": ".py",
   "mimetype": "text/x-python",
   "name": "python",
   "nbconvert_exporter": "python",
   "pygments_lexer": "ipython3",
   "version": "3.5.3"
  },
  "widgets": {
   "state": {
    "2de504d3d99b46db8795232327d2893e": {
     "views": [
      {
       "cell_index": 26
      }
     ]
    }
   },
   "version": "1.2.0"
  }
 },
 "nbformat": 4,
 "nbformat_minor": 1
}
