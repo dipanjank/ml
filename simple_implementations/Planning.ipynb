{
 "cells": [
  {
   "cell_type": "markdown",
   "metadata": {},
   "source": [
    "# Planning\n",
    "\n",
    "\n",
    "## Probability and Statistics\n",
    "\n",
    "\n",
    "### Probablility and Bayes' Theorem\n",
    "\n",
    "### Mean, Variance and Correlations\n",
    "\n",
    "### Probablity Distributions\n",
    "\n",
    "### Statistical Hypthesis Testing\n",
    "\n",
    "\n",
    "## Linear Algebra\n",
    "\n",
    "\n",
    "### Gaussian Elimination, Inverses and Gauss Jordan Method\n",
    "\n",
    "### Vector Spaces\n",
    "\n",
    "### Matrix Factorization\n",
    "\n",
    "### Eigenvalues and Eigenvectors\n",
    "\n",
    "\n",
    "## Calculus\n",
    "\n",
    "\n",
    "### Maxima, Minima and Saddle Points\n",
    "\n",
    "### Vector and Matrix Differential Calculus\n",
    "\n",
    "### Gradient Based Optimization\n",
    "\n",
    "\n",
    "## Machine Learning\n",
    "\n",
    "\n",
    "### Ordinary Least Square (OLS) Regression\n",
    "\n",
    "### Regularized Regression\n",
    "\n",
    "### Naive Bayes Classifier\n",
    "\n",
    "### Feature Selection Methods for Classification and Regression\n",
    "\n",
    "### Decision Trees\n",
    "\n",
    "### Support Vector Machines\n"
   ]
  },
  {
   "cell_type": "code",
   "execution_count": null,
   "metadata": {
    "collapsed": true
   },
   "outputs": [],
   "source": []
  }
 ],
 "metadata": {
  "kernelspec": {
   "display_name": "Python 3",
   "language": "python",
   "name": "python3"
  },
  "language_info": {
   "codemirror_mode": {
    "name": "ipython",
    "version": 3
   },
   "file_extension": ".py",
   "mimetype": "text/x-python",
   "name": "python",
   "nbconvert_exporter": "python",
   "pygments_lexer": "ipython3",
   "version": "3.5.3"
  }
 },
 "nbformat": 4,
 "nbformat_minor": 2
}
