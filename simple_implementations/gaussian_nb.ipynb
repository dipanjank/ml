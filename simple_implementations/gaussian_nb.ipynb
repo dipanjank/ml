{
 "cells": [
  {
   "cell_type": "markdown",
   "metadata": {},
   "source": [
    "<h1 align=\"center\">Naive Bayes Classifier</h1>\n",
    "\n",
    "Illustration of a Gaussian Naive Bayes classifier using the PIMA Indians Diabetes dataset.\n",
    "\n",
    "This problem is comprised of 768 observations of medical details for Pima Indian patents. The records describe instantaneous measurements taken from the patient such as their age, the number of times pregnant and blood workup. All patients are women aged 21 or older. All attributes are numeric, and their units vary from attribute to attribute.\n",
    "\n",
    "Each record has a class value that indicates whether the patient suffered an onset of diabetes within 5 years of when the measurements were taken (1) or not (0).\n",
    "\n",
    "This is a standard dataset that has been studied a lot in machine learning literature. A good prediction accuracy is 70%-76%.\n",
    "\n",
    "Attribute values are:\n",
    "\n",
    "    1. Number of times pregnant\n",
    "    2. Plasma glucose concentration a 2 hours in an oral glucose tolerance test\n",
    "    3. Diastolic blood pressure (mm Hg)\n",
    "    4. Triceps skin fold thickness (mm)\n",
    "    5. 2-Hour serum insulin (mu U/ml)\n",
    "    6. Body mass index (weight in kg/(height in m)^2)\n",
    "    7. Diabetes pedigree function\n",
    "    8. Age (years)\n",
    "    9. Class variable (0 or 1)"
   ]
  },
  {
   "cell_type": "code",
   "execution_count": 138,
   "metadata": {
    "collapsed": false
   },
   "outputs": [
    {
     "name": "stdout",
     "output_type": "stream",
     "text": [
      "Populating the interactive namespace from numpy and matplotlib\n"
     ]
    },
    {
     "name": "stderr",
     "output_type": "stream",
     "text": [
      "d:\\Anaconda3\\envs\\latest\\lib\\site-packages\\IPython\\core\\magics\\pylab.py:161: UserWarning: pylab import has clobbered these variables: ['cm', 'norm']\n",
      "`%matplotlib` prevents importing * from pylab and numpy\n",
      "  \"\\n`%matplotlib` prevents importing * from pylab and numpy\"\n"
     ]
    }
   ],
   "source": [
    "import pandas as pd\n",
    "import numpy as np\n",
    "%pylab inline\n",
    "pylab.style.use('ggplot')"
   ]
  },
  {
   "cell_type": "code",
   "execution_count": 139,
   "metadata": {
    "collapsed": false
   },
   "outputs": [],
   "source": [
    "data_url = 'https://archive.ics.uci.edu/ml/machine-learning-databases/pima-indians-diabetes/pima-indians-diabetes.data'\n",
    "data_df = pd.read_csv(data_url, header=None)"
   ]
  },
  {
   "cell_type": "code",
   "execution_count": 140,
   "metadata": {
    "collapsed": false
   },
   "outputs": [
    {
     "data": {
      "text/html": [
       "<div>\n",
       "<table border=\"1\" class=\"dataframe\">\n",
       "  <thead>\n",
       "    <tr style=\"text-align: right;\">\n",
       "      <th></th>\n",
       "      <th>0</th>\n",
       "      <th>1</th>\n",
       "      <th>2</th>\n",
       "      <th>3</th>\n",
       "      <th>4</th>\n",
       "      <th>5</th>\n",
       "      <th>6</th>\n",
       "      <th>7</th>\n",
       "      <th>8</th>\n",
       "    </tr>\n",
       "  </thead>\n",
       "  <tbody>\n",
       "    <tr>\n",
       "      <th>0</th>\n",
       "      <td>6</td>\n",
       "      <td>148</td>\n",
       "      <td>72</td>\n",
       "      <td>35</td>\n",
       "      <td>0</td>\n",
       "      <td>33.6</td>\n",
       "      <td>0.627</td>\n",
       "      <td>50</td>\n",
       "      <td>1</td>\n",
       "    </tr>\n",
       "    <tr>\n",
       "      <th>1</th>\n",
       "      <td>1</td>\n",
       "      <td>85</td>\n",
       "      <td>66</td>\n",
       "      <td>29</td>\n",
       "      <td>0</td>\n",
       "      <td>26.6</td>\n",
       "      <td>0.351</td>\n",
       "      <td>31</td>\n",
       "      <td>0</td>\n",
       "    </tr>\n",
       "    <tr>\n",
       "      <th>2</th>\n",
       "      <td>8</td>\n",
       "      <td>183</td>\n",
       "      <td>64</td>\n",
       "      <td>0</td>\n",
       "      <td>0</td>\n",
       "      <td>23.3</td>\n",
       "      <td>0.672</td>\n",
       "      <td>32</td>\n",
       "      <td>1</td>\n",
       "    </tr>\n",
       "    <tr>\n",
       "      <th>3</th>\n",
       "      <td>1</td>\n",
       "      <td>89</td>\n",
       "      <td>66</td>\n",
       "      <td>23</td>\n",
       "      <td>94</td>\n",
       "      <td>28.1</td>\n",
       "      <td>0.167</td>\n",
       "      <td>21</td>\n",
       "      <td>0</td>\n",
       "    </tr>\n",
       "    <tr>\n",
       "      <th>4</th>\n",
       "      <td>0</td>\n",
       "      <td>137</td>\n",
       "      <td>40</td>\n",
       "      <td>35</td>\n",
       "      <td>168</td>\n",
       "      <td>43.1</td>\n",
       "      <td>2.288</td>\n",
       "      <td>33</td>\n",
       "      <td>1</td>\n",
       "    </tr>\n",
       "  </tbody>\n",
       "</table>\n",
       "</div>"
      ],
      "text/plain": [
       "   0    1   2   3    4     5      6   7  8\n",
       "0  6  148  72  35    0  33.6  0.627  50  1\n",
       "1  1   85  66  29    0  26.6  0.351  31  0\n",
       "2  8  183  64   0    0  23.3  0.672  32  1\n",
       "3  1   89  66  23   94  28.1  0.167  21  0\n",
       "4  0  137  40  35  168  43.1  2.288  33  1"
      ]
     },
     "execution_count": 140,
     "metadata": {},
     "output_type": "execute_result"
    }
   ],
   "source": [
    "data_df.head()"
   ]
  },
  {
   "cell_type": "code",
   "execution_count": 141,
   "metadata": {
    "collapsed": true
   },
   "outputs": [],
   "source": [
    "# Assign names to columns\n",
    "data_df.columns = ['n_pregnant', 'glucose_conc', 'diastolic_bp', 'skin_fold_thickness',\n",
    "                  'insulin', 'bmi', 'diabetes_pedigree', 'age', 'has_diabetes']"
   ]
  },
  {
   "cell_type": "code",
   "execution_count": 142,
   "metadata": {
    "collapsed": false
   },
   "outputs": [
    {
     "data": {
      "text/html": [
       "<div>\n",
       "<table border=\"1\" class=\"dataframe\">\n",
       "  <thead>\n",
       "    <tr style=\"text-align: right;\">\n",
       "      <th></th>\n",
       "      <th>n_pregnant</th>\n",
       "      <th>glucose_conc</th>\n",
       "      <th>diastolic_bp</th>\n",
       "      <th>skin_fold_thickness</th>\n",
       "      <th>insulin</th>\n",
       "      <th>bmi</th>\n",
       "      <th>diabetes_pedigree</th>\n",
       "      <th>age</th>\n",
       "      <th>has_diabetes</th>\n",
       "    </tr>\n",
       "  </thead>\n",
       "  <tbody>\n",
       "    <tr>\n",
       "      <th>0</th>\n",
       "      <td>6</td>\n",
       "      <td>148</td>\n",
       "      <td>72</td>\n",
       "      <td>35</td>\n",
       "      <td>0</td>\n",
       "      <td>33.6</td>\n",
       "      <td>0.627</td>\n",
       "      <td>50</td>\n",
       "      <td>yes</td>\n",
       "    </tr>\n",
       "    <tr>\n",
       "      <th>1</th>\n",
       "      <td>1</td>\n",
       "      <td>85</td>\n",
       "      <td>66</td>\n",
       "      <td>29</td>\n",
       "      <td>0</td>\n",
       "      <td>26.6</td>\n",
       "      <td>0.351</td>\n",
       "      <td>31</td>\n",
       "      <td>no</td>\n",
       "    </tr>\n",
       "    <tr>\n",
       "      <th>2</th>\n",
       "      <td>8</td>\n",
       "      <td>183</td>\n",
       "      <td>64</td>\n",
       "      <td>0</td>\n",
       "      <td>0</td>\n",
       "      <td>23.3</td>\n",
       "      <td>0.672</td>\n",
       "      <td>32</td>\n",
       "      <td>yes</td>\n",
       "    </tr>\n",
       "    <tr>\n",
       "      <th>3</th>\n",
       "      <td>1</td>\n",
       "      <td>89</td>\n",
       "      <td>66</td>\n",
       "      <td>23</td>\n",
       "      <td>94</td>\n",
       "      <td>28.1</td>\n",
       "      <td>0.167</td>\n",
       "      <td>21</td>\n",
       "      <td>no</td>\n",
       "    </tr>\n",
       "    <tr>\n",
       "      <th>4</th>\n",
       "      <td>0</td>\n",
       "      <td>137</td>\n",
       "      <td>40</td>\n",
       "      <td>35</td>\n",
       "      <td>168</td>\n",
       "      <td>43.1</td>\n",
       "      <td>2.288</td>\n",
       "      <td>33</td>\n",
       "      <td>yes</td>\n",
       "    </tr>\n",
       "  </tbody>\n",
       "</table>\n",
       "</div>"
      ],
      "text/plain": [
       "   n_pregnant  glucose_conc  diastolic_bp  skin_fold_thickness  insulin   bmi  \\\n",
       "0           6           148            72                   35        0  33.6   \n",
       "1           1            85            66                   29        0  26.6   \n",
       "2           8           183            64                    0        0  23.3   \n",
       "3           1            89            66                   23       94  28.1   \n",
       "4           0           137            40                   35      168  43.1   \n",
       "\n",
       "   diabetes_pedigree  age has_diabetes  \n",
       "0              0.627   50          yes  \n",
       "1              0.351   31           no  \n",
       "2              0.672   32          yes  \n",
       "3              0.167   21           no  \n",
       "4              2.288   33          yes  "
      ]
     },
     "execution_count": 142,
     "metadata": {},
     "output_type": "execute_result"
    }
   ],
   "source": [
    "# Make the target column string\n",
    "data_df = data_df.assign(has_diabetes=data_df.has_diabetes.map(lambda v: 'yes' if v == 1 else 'no'))\n",
    "data_df.head()"
   ]
  },
  {
   "cell_type": "code",
   "execution_count": 143,
   "metadata": {
    "collapsed": false
   },
   "outputs": [
    {
     "data": {
      "text/plain": [
       "<matplotlib.axes._subplots.AxesSubplot at 0x289ce4abeb8>"
      ]
     },
     "execution_count": 143,
     "metadata": {},
     "output_type": "execute_result"
    },
    {
     "data": {
      "image/png": "[encoded data removed]",
      "text/plain": [
       "<matplotlib.figure.Figure at 0x289ce24e0b8>"
      ]
     },
     "metadata": {},
     "output_type": "display_data"
    }
   ],
   "source": [
    "# Check for class imbalance\n",
    "data_df.has_diabetes.value_counts().plot(kind='bar')"
   ]
  },
  {
   "cell_type": "code",
   "execution_count": 144,
   "metadata": {
    "collapsed": false
   },
   "outputs": [],
   "source": [
    "# Calculate class priors\n",
    "priors = data_df.has_diabetes.value_counts(normalize=True)"
   ]
  },
  {
   "cell_type": "code",
   "execution_count": 145,
   "metadata": {
    "collapsed": false
   },
   "outputs": [
    {
     "data": {
      "text/plain": [
       "no     0.651042\n",
       "yes    0.348958\n",
       "Name: has_diabetes, dtype: float64"
      ]
     },
     "execution_count": 145,
     "metadata": {},
     "output_type": "execute_result"
    }
   ],
   "source": [
    "priors"
   ]
  },
  {
   "cell_type": "code",
   "execution_count": 146,
   "metadata": {
    "collapsed": false
   },
   "outputs": [],
   "source": [
    "# Calculate mean and variance of each feature for each class\n",
    "features = data_df.drop('has_diabetes', axis=1)\n",
    "targets = data_df.has_diabetes\n",
    "\n",
    "class_summaries = {} \n",
    "fg = features.groupby(targets)\n",
    "\n",
    "for fname in features.columns:\n",
    "    class_summaries[fname] = fg[fname].agg({'mean': np.mean, 'stddev': np.std})"
   ]
  },
  {
   "cell_type": "code",
   "execution_count": 147,
   "metadata": {
    "collapsed": false
   },
   "outputs": [],
   "source": [
    "class_summaries = pd.concat(class_summaries, axis=1)"
   ]
  },
  {
   "cell_type": "code",
   "execution_count": 148,
   "metadata": {
    "collapsed": false
   },
   "outputs": [
    {
     "data": {
      "text/html": [
       "<div>\n",
       "<table border=\"1\" class=\"dataframe\">\n",
       "  <thead>\n",
       "    <tr>\n",
       "      <th></th>\n",
       "      <th colspan=\"2\" halign=\"left\">age</th>\n",
       "      <th colspan=\"2\" halign=\"left\">bmi</th>\n",
       "      <th colspan=\"2\" halign=\"left\">diabetes_pedigree</th>\n",
       "      <th colspan=\"2\" halign=\"left\">diastolic_bp</th>\n",
       "      <th colspan=\"2\" halign=\"left\">glucose_conc</th>\n",
       "      <th colspan=\"2\" halign=\"left\">insulin</th>\n",
       "      <th colspan=\"2\" halign=\"left\">n_pregnant</th>\n",
       "      <th colspan=\"2\" halign=\"left\">skin_fold_thickness</th>\n",
       "    </tr>\n",
       "    <tr>\n",
       "      <th></th>\n",
       "      <th>stddev</th>\n",
       "      <th>mean</th>\n",
       "      <th>stddev</th>\n",
       "      <th>mean</th>\n",
       "      <th>stddev</th>\n",
       "      <th>mean</th>\n",
       "      <th>stddev</th>\n",
       "      <th>mean</th>\n",
       "      <th>stddev</th>\n",
       "      <th>mean</th>\n",
       "      <th>stddev</th>\n",
       "      <th>mean</th>\n",
       "      <th>stddev</th>\n",
       "      <th>mean</th>\n",
       "      <th>stddev</th>\n",
       "      <th>mean</th>\n",
       "    </tr>\n",
       "    <tr>\n",
       "      <th>has_diabetes</th>\n",
       "      <th></th>\n",
       "      <th></th>\n",
       "      <th></th>\n",
       "      <th></th>\n",
       "      <th></th>\n",
       "      <th></th>\n",
       "      <th></th>\n",
       "      <th></th>\n",
       "      <th></th>\n",
       "      <th></th>\n",
       "      <th></th>\n",
       "      <th></th>\n",
       "      <th></th>\n",
       "      <th></th>\n",
       "      <th></th>\n",
       "      <th></th>\n",
       "    </tr>\n",
       "  </thead>\n",
       "  <tbody>\n",
       "    <tr>\n",
       "      <th>no</th>\n",
       "      <td>11.667655</td>\n",
       "      <td>31.190000</td>\n",
       "      <td>7.689855</td>\n",
       "      <td>30.304200</td>\n",
       "      <td>0.299085</td>\n",
       "      <td>0.429734</td>\n",
       "      <td>18.063075</td>\n",
       "      <td>68.184000</td>\n",
       "      <td>26.141200</td>\n",
       "      <td>109.980000</td>\n",
       "      <td>98.865289</td>\n",
       "      <td>68.792000</td>\n",
       "      <td>3.017185</td>\n",
       "      <td>3.298000</td>\n",
       "      <td>14.889947</td>\n",
       "      <td>19.664000</td>\n",
       "    </tr>\n",
       "    <tr>\n",
       "      <th>yes</th>\n",
       "      <td>10.968254</td>\n",
       "      <td>37.067164</td>\n",
       "      <td>7.262967</td>\n",
       "      <td>35.142537</td>\n",
       "      <td>0.372354</td>\n",
       "      <td>0.550500</td>\n",
       "      <td>21.491812</td>\n",
       "      <td>70.824627</td>\n",
       "      <td>31.939622</td>\n",
       "      <td>141.257463</td>\n",
       "      <td>138.689125</td>\n",
       "      <td>100.335821</td>\n",
       "      <td>3.741239</td>\n",
       "      <td>4.865672</td>\n",
       "      <td>17.679711</td>\n",
       "      <td>22.164179</td>\n",
       "    </tr>\n",
       "  </tbody>\n",
       "</table>\n",
       "</div>"
      ],
      "text/plain": [
       "                    age                  bmi            diabetes_pedigree  \\\n",
       "                 stddev       mean    stddev       mean            stddev   \n",
       "has_diabetes                                                                \n",
       "no            11.667655  31.190000  7.689855  30.304200          0.299085   \n",
       "yes           10.968254  37.067164  7.262967  35.142537          0.372354   \n",
       "\n",
       "                       diastolic_bp            glucose_conc              \\\n",
       "                  mean       stddev       mean       stddev        mean   \n",
       "has_diabetes                                                              \n",
       "no            0.429734    18.063075  68.184000    26.141200  109.980000   \n",
       "yes           0.550500    21.491812  70.824627    31.939622  141.257463   \n",
       "\n",
       "                 insulin             n_pregnant           skin_fold_thickness  \\\n",
       "                  stddev        mean     stddev      mean              stddev   \n",
       "has_diabetes                                                                    \n",
       "no             98.865289   68.792000   3.017185  3.298000           14.889947   \n",
       "yes           138.689125  100.335821   3.741239  4.865672           17.679711   \n",
       "\n",
       "                         \n",
       "                   mean  \n",
       "has_diabetes             \n",
       "no            19.664000  \n",
       "yes           22.164179  "
      ]
     },
     "execution_count": 148,
     "metadata": {},
     "output_type": "execute_result"
    }
   ],
   "source": [
    "class_summaries"
   ]
  },
  {
   "cell_type": "code",
   "execution_count": 149,
   "metadata": {
    "collapsed": false
   },
   "outputs": [],
   "source": [
    "# Convert the mean/stddev combination into a Gaussian Distribution\n",
    "from scipy.stats import norm\n",
    "\n",
    "f_gaussians = {}\n",
    "\n",
    "for fname in class_summaries.columns.get_level_values(0):\n",
    "     f_gaussians[fname] = class_summaries.loc[:, fname].apply(lambda r: norm(loc=r['mean'], scale=r['stddev']), axis=1)\n"
   ]
  },
  {
   "cell_type": "code",
   "execution_count": 150,
   "metadata": {
    "collapsed": false
   },
   "outputs": [],
   "source": [
    "f_gaussians = pd.concat(f_gaussians, axis=1).T"
   ]
  },
  {
   "cell_type": "code",
   "execution_count": 151,
   "metadata": {
    "collapsed": false
   },
   "outputs": [
    {
     "data": {
      "text/html": [
       "<div>\n",
       "<table border=\"1\" class=\"dataframe\">\n",
       "  <thead>\n",
       "    <tr style=\"text-align: right;\">\n",
       "      <th>has_diabetes</th>\n",
       "      <th>no</th>\n",
       "      <th>yes</th>\n",
       "    </tr>\n",
       "  </thead>\n",
       "  <tbody>\n",
       "    <tr>\n",
       "      <th>age</th>\n",
       "      <td>&lt;scipy.stats._distn_infrastructure.rv_frozen o...</td>\n",
       "      <td>&lt;scipy.stats._distn_infrastructure.rv_frozen o...</td>\n",
       "    </tr>\n",
       "    <tr>\n",
       "      <th>bmi</th>\n",
       "      <td>&lt;scipy.stats._distn_infrastructure.rv_frozen o...</td>\n",
       "      <td>&lt;scipy.stats._distn_infrastructure.rv_frozen o...</td>\n",
       "    </tr>\n",
       "    <tr>\n",
       "      <th>diabetes_pedigree</th>\n",
       "      <td>&lt;scipy.stats._distn_infrastructure.rv_frozen o...</td>\n",
       "      <td>&lt;scipy.stats._distn_infrastructure.rv_frozen o...</td>\n",
       "    </tr>\n",
       "    <tr>\n",
       "      <th>diastolic_bp</th>\n",
       "      <td>&lt;scipy.stats._distn_infrastructure.rv_frozen o...</td>\n",
       "      <td>&lt;scipy.stats._distn_infrastructure.rv_frozen o...</td>\n",
       "    </tr>\n",
       "    <tr>\n",
       "      <th>glucose_conc</th>\n",
       "      <td>&lt;scipy.stats._distn_infrastructure.rv_frozen o...</td>\n",
       "      <td>&lt;scipy.stats._distn_infrastructure.rv_frozen o...</td>\n",
       "    </tr>\n",
       "    <tr>\n",
       "      <th>insulin</th>\n",
       "      <td>&lt;scipy.stats._distn_infrastructure.rv_frozen o...</td>\n",
       "      <td>&lt;scipy.stats._distn_infrastructure.rv_frozen o...</td>\n",
       "    </tr>\n",
       "    <tr>\n",
       "      <th>n_pregnant</th>\n",
       "      <td>&lt;scipy.stats._distn_infrastructure.rv_frozen o...</td>\n",
       "      <td>&lt;scipy.stats._distn_infrastructure.rv_frozen o...</td>\n",
       "    </tr>\n",
       "    <tr>\n",
       "      <th>skin_fold_thickness</th>\n",
       "      <td>&lt;scipy.stats._distn_infrastructure.rv_frozen o...</td>\n",
       "      <td>&lt;scipy.stats._distn_infrastructure.rv_frozen o...</td>\n",
       "    </tr>\n",
       "  </tbody>\n",
       "</table>\n",
       "</div>"
      ],
      "text/plain": [
       "has_diabetes                                                        no  \\\n",
       "age                  <scipy.stats._distn_infrastructure.rv_frozen o...   \n",
       "bmi                  <scipy.stats._distn_infrastructure.rv_frozen o...   \n",
       "diabetes_pedigree    <scipy.stats._distn_infrastructure.rv_frozen o...   \n",
       "diastolic_bp         <scipy.stats._distn_infrastructure.rv_frozen o...   \n",
       "glucose_conc         <scipy.stats._distn_infrastructure.rv_frozen o...   \n",
       "insulin              <scipy.stats._distn_infrastructure.rv_frozen o...   \n",
       "n_pregnant           <scipy.stats._distn_infrastructure.rv_frozen o...   \n",
       "skin_fold_thickness  <scipy.stats._distn_infrastructure.rv_frozen o...   \n",
       "\n",
       "has_diabetes                                                       yes  \n",
       "age                  <scipy.stats._distn_infrastructure.rv_frozen o...  \n",
       "bmi                  <scipy.stats._distn_infrastructure.rv_frozen o...  \n",
       "diabetes_pedigree    <scipy.stats._distn_infrastructure.rv_frozen o...  \n",
       "diastolic_bp         <scipy.stats._distn_infrastructure.rv_frozen o...  \n",
       "glucose_conc         <scipy.stats._distn_infrastructure.rv_frozen o...  \n",
       "insulin              <scipy.stats._distn_infrastructure.rv_frozen o...  \n",
       "n_pregnant           <scipy.stats._distn_infrastructure.rv_frozen o...  \n",
       "skin_fold_thickness  <scipy.stats._distn_infrastructure.rv_frozen o...  "
      ]
     },
     "execution_count": 151,
     "metadata": {},
     "output_type": "execute_result"
    }
   ],
   "source": [
    "f_gaussians"
   ]
  },
  {
   "cell_type": "code",
   "execution_count": 152,
   "metadata": {
    "collapsed": true
   },
   "outputs": [],
   "source": [
    "# We can combine all the above into a class\n",
    "\n",
    "class GaussianNB:\n",
    "    \n",
    "    def __init__(self):\n",
    "        self._priors = None\n",
    "        self._f_gaussians = None\n",
    "        \n",
    "    def fit(self, features, targets):\n",
    "        \"\"\"Calculate class priors and construct per feature per label Gaussian distributions.\"\"\"\n",
    "        self._priors = targets.value_counts(normalize=True)\n",
    "        \n",
    "        class_summaries = {} \n",
    "        fg = features.groupby(targets)\n",
    "\n",
    "        for fname in features.columns:\n",
    "            class_summaries[fname] = fg[fname].agg({'mean': np.mean, 'stddev': np.std}) \n",
    "        \n",
    "        class_summaries = pd.concat(class_summaries, axis=1)\n",
    "        \n",
    "        f_gaussians = {}\n",
    "\n",
    "        for fname in class_summaries.columns.get_level_values(0):\n",
    "             f_gaussians[fname] = class_summaries.loc[:, fname].apply(\n",
    "                     lambda r: norm(loc=r['mean'], scale=r['stddev']), axis=1)\n",
    "                \n",
    "        self._f_gaussians = pd.concat(f_gaussians, axis=1).T\n",
    "        \n",
    "    def _prob_for_one_label(self, f_row, label):\n",
    "        \"\"\"Calculate P(class|feature_values) for one feature row and one label\"\"\"\n",
    "        label_prob = self._priors[label]       \n",
    "        \n",
    "        for f_name, norm_dist in self._f_gaussians[label].iteritems():\n",
    "            label_prob *= norm_dist.pdf(f_row[f_name])\n",
    "            \n",
    "        return label_prob\n",
    "    \n",
    "    def _predict_one(self, f_row):\n",
    "        \"\"\"Calculate the predicted label for one feature.\"\"\"\n",
    "        all_label_probs = self._priors.index.map(lambda label: self._prob_for_one_label(f_row, label))\n",
    "        return self._priors.index[np.argmax(all_label_probs)]\n",
    "    \n",
    "    def predict(self, features):\n",
    "        \"\"\"Calculate the predicted labels for a number of features.\"\"\"\n",
    "        predicted_labels = features.apply(self._predict_one, axis=1)\n",
    "        return predicted_labels\n",
    "    "
   ]
  },
  {
   "cell_type": "code",
   "execution_count": 153,
   "metadata": {
    "collapsed": false
   },
   "outputs": [],
   "source": [
    "from sklearn.model_selection import StratifiedKFold\n",
    "\n",
    "fold = StratifiedKFold(n_splits=5, shuffle=True)\n",
    "\n",
    "results = []\n",
    "\n",
    "for train_idx, test_idx in fold.split(features, targets):\n",
    "    \n",
    "    train_df, train_labels = features.iloc[train_idx], targets.iloc[train_idx]\n",
    "    gaussian_nb = GaussianNB()\n",
    "    gaussian_nb.fit(train_df, train_labels)\n",
    "    test_df, test_labels =  features.iloc[test_idx], targets.iloc[test_idx]\n",
    "    predictions = gaussian_nb.predict(test_df)    \n",
    "    \n",
    "    fold_result = pd.DataFrame({'actual': test_labels, 'predicted': predictions})\n",
    "    results.append(fold_result)\n",
    "    "
   ]
  },
  {
   "cell_type": "code",
   "execution_count": 154,
   "metadata": {
    "collapsed": false
   },
   "outputs": [
    {
     "data": {
      "text/plain": [
       "<matplotlib.axes._subplots.AxesSubplot at 0x289ce587978>"
      ]
     },
     "execution_count": 154,
     "metadata": {},
     "output_type": "execute_result"
    },
    {
     "data": {
      "image/png": "[encoded data removed]",
      "text/plain": [
       "<matplotlib.figure.Figure at 0x289ce5865f8>"
      ]
     },
     "metadata": {},
     "output_type": "display_data"
    }
   ],
   "source": [
    "all_results = pd.concat(results, axis=0)\n",
    "\n",
    "from sklearn.metrics import confusion_matrix\n",
    "import seaborn as sns\n",
    "cm = confusion_matrix(all_results['actual'], all_results['predicted'], labels=['yes', 'no'])\n",
    "cm_df = pd.DataFrame(cm, columns=['yes', 'no'], index=['yes', 'no'])\n",
    "\n",
    "sns.heatmap(cm_df, annot=True)"
   ]
  },
  {
   "cell_type": "code",
   "execution_count": 155,
   "metadata": {
    "collapsed": true
   },
   "outputs": [],
   "source": [
    "accuracy = (all_results['actual'] == all_results['predicted']).sum() / len(all_results)"
   ]
  },
  {
   "cell_type": "code",
   "execution_count": 156,
   "metadata": {
    "collapsed": false
   },
   "outputs": [
    {
     "data": {
      "text/plain": [
       "0.75520833333333337"
      ]
     },
     "execution_count": 156,
     "metadata": {},
     "output_type": "execute_result"
    }
   ],
   "source": [
    "accuracy"
   ]
  }
 ],
 "metadata": {
  "kernelspec": {
   "display_name": "Python 3",
   "language": "python",
   "name": "python3"
  },
  "language_info": {
   "codemirror_mode": {
    "name": "ipython",
    "version": 3
   },
   "file_extension": ".py",
   "mimetype": "text/x-python",
   "name": "python",
   "nbconvert_exporter": "python",
   "pygments_lexer": "ipython3",
   "version": "3.5.3"
  }
 },
 "nbformat": 4,
 "nbformat_minor": 2
}
