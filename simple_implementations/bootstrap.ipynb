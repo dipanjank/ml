{
 "cells": [
  {
   "cell_type": "markdown",
   "metadata": {},
   "source": [
    "<h1 align=\"center\">The Bootstrap Method</h1>"
   ]
  },
  {
   "cell_type": "markdown",
   "metadata": {},
   "source": [
    "We can use the bootstrap method to construct a confidence interval around any statistical measure."
   ]
  },
  {
   "cell_type": "code",
   "execution_count": 1,
   "metadata": {
    "collapsed": true
   },
   "outputs": [],
   "source": [
    "import numpy as np\n",
    "import pandas as pd\n",
    "%matplotlib inline\n",
    "import matplotlib.pyplot as plt\n",
    "plt.style.use('ggplot')"
   ]
  },
  {
   "cell_type": "markdown",
   "metadata": {},
   "source": [
    "For examples, let's say we have an array of values and their mean."
   ]
  },
  {
   "cell_type": "code",
   "execution_count": 2,
   "metadata": {},
   "outputs": [
    {
     "name": "stdout",
     "output_type": "stream",
     "text": [
      "0.507\n"
     ]
    }
   ],
   "source": [
    "data = pd.Series(np.random.rand(100))\n",
    "actual_mean = data.mean()\n",
    "print('{:.3f}'.format(actual_mean))"
   ]
  },
  {
   "cell_type": "markdown",
   "metadata": {},
   "source": [
    "How stable is this measure? To answer this, we'll sample with replacements from ``data`` a large number of times and calculate the mean of each of them. Note that each bootstrap sample should have the same number of values as the original sample (but it may not include all of the original data because of repititions). The reason the sizes must be same is that the variances will be different otherwise."
   ]
  },
  {
   "cell_type": "code",
   "execution_count": 5,
   "metadata": {},
   "outputs": [
    {
     "data": {
      "text/plain": [
       "<matplotlib.lines.Line2D at 0xa63f160>"
      ]
     },
     "execution_count": 5,
     "metadata": {},
     "output_type": "execute_result"
    },
    {
     "data": {
      "image/png": "[encoded data removed]",
      "text/plain": [
       "<matplotlib.figure.Figure at 0xa63f358>"
      ]
     },
     "metadata": {},
     "output_type": "display_data"
    }
   ],
   "source": [
    "def calc_sample_means(data, n):\n",
    "    \"\"\"Make n bootstrap samples from data and calculate their means.\"\"\"\n",
    "    sample_means = []\n",
    "    for _ in range(n):\n",
    "        sample_data = data.sample(n=data.shape[0], replace=True)\n",
    "        sample_means.append(sample_data.mean())\n",
    "        \n",
    "    return pd.Series(sample_means)\n",
    "\n",
    "means = calc_sample_means(data, 10000)\n",
    "errors = means - actual_mean\n",
    "alpha = 0.95\n",
    "delta = (1 - alpha) / 2.0\n",
    "error_low, error_high = errors.quantile([alpha - delta, alpha + delta]).values.tolist()\n",
    "\n",
    "ax = errors.plot(kind='hist')\n",
    "plt.axvline(x=error_low, color='black', linewidth=2.0)\n",
    "plt.axvline(x=error_high, color='black', linewidth=2.0)"
   ]
  },
  {
   "cell_type": "markdown",
   "metadata": {},
   "source": [
    "So the error of bootstrap sample means) are normally distributed around the sample means. This is due to the Law of Large Numbers."
   ]
  },
  {
   "cell_type": "markdown",
   "metadata": {},
   "source": [
    "We can find the confidence intervals by sorting the error in bootstrap means and then selecting the $[alpha-(1-alpha) /2, alpha + (1-alpha/2)]$ percentile values."
   ]
  },
  {
   "cell_type": "code",
   "execution_count": 6,
   "metadata": {},
   "outputs": [
    {
     "name": "stdout",
     "output_type": "stream",
     "text": [
      "95% confidence interval: [0.466, 0.563]\n"
     ]
    }
   ],
   "source": [
    "mean_low, mean_high = actual_mean - error_low, actual_mean + error_high\n",
    "print('95% confidence interval: [{:.3f}, {:.3f}]'.format(mean_low, mean_high))"
   ]
  },
  {
   "cell_type": "code",
   "execution_count": 7,
   "metadata": {},
   "outputs": [
    {
     "data": {
      "text/plain": [
       "<matplotlib.lines.Line2D at 0xabcf208>"
      ]
     },
     "execution_count": 7,
     "metadata": {},
     "output_type": "execute_result"
    },
    {
     "data": {
      "image/png": "[encoded data removed]",
      "text/plain": [
       "<matplotlib.figure.Figure at 0xaafada0>"
      ]
     },
     "metadata": {},
     "output_type": "display_data"
    }
   ],
   "source": [
    "ax = means.plot(kind='hist')\n",
    "plt.axvline(x=actual_mean, color='green', linewidth=2.0)\n",
    "plt.axvline(x=mean_low, color='black', linewidth=2.0)\n",
    "plt.axvline(x=mean_high, color='black', linewidth=2.0)"
   ]
  },
  {
   "cell_type": "markdown",
   "metadata": {},
   "source": [
    "**Note that it is incorrect to calculate percentiles on the sample means directly.This is because it depends on a particular bootstrap distribution being a good approximation to the true distribution of x.**"
   ]
  },
  {
   "cell_type": "markdown",
   "metadata": {},
   "source": [
    "# Bootstrap applied to Machine Learning\n",
    "\n",
    "In this section, we take the IRIS dataset and build a simple Gaussian Naive Bayes Model."
   ]
  },
  {
   "cell_type": "code",
   "execution_count": 8,
   "metadata": {
    "collapsed": true
   },
   "outputs": [],
   "source": [
    "import seaborn as sns\n",
    "import os\n",
    "data_df = sns.load_dataset('iris')"
   ]
  },
  {
   "cell_type": "code",
   "execution_count": 9,
   "metadata": {},
   "outputs": [
    {
     "data": {
      "text/html": [
       "<div>\n",
       "<style>\n",
       "    .dataframe thead tr:only-child th {\n",
       "        text-align: right;\n",
       "    }\n",
       "\n",
       "    .dataframe thead th {\n",
       "        text-align: left;\n",
       "    }\n",
       "\n",
       "    .dataframe tbody tr th {\n",
       "        vertical-align: top;\n",
       "    }\n",
       "</style>\n",
       "<table border=\"1\" class=\"dataframe\">\n",
       "  <thead>\n",
       "    <tr style=\"text-align: right;\">\n",
       "      <th></th>\n",
       "      <th>sepal_length</th>\n",
       "      <th>sepal_width</th>\n",
       "      <th>petal_length</th>\n",
       "      <th>petal_width</th>\n",
       "      <th>species</th>\n",
       "    </tr>\n",
       "  </thead>\n",
       "  <tbody>\n",
       "    <tr>\n",
       "      <th>0</th>\n",
       "      <td>5.1</td>\n",
       "      <td>3.5</td>\n",
       "      <td>1.4</td>\n",
       "      <td>0.2</td>\n",
       "      <td>setosa</td>\n",
       "    </tr>\n",
       "    <tr>\n",
       "      <th>1</th>\n",
       "      <td>4.9</td>\n",
       "      <td>3.0</td>\n",
       "      <td>1.4</td>\n",
       "      <td>0.2</td>\n",
       "      <td>setosa</td>\n",
       "    </tr>\n",
       "    <tr>\n",
       "      <th>2</th>\n",
       "      <td>4.7</td>\n",
       "      <td>3.2</td>\n",
       "      <td>1.3</td>\n",
       "      <td>0.2</td>\n",
       "      <td>setosa</td>\n",
       "    </tr>\n",
       "    <tr>\n",
       "      <th>3</th>\n",
       "      <td>4.6</td>\n",
       "      <td>3.1</td>\n",
       "      <td>1.5</td>\n",
       "      <td>0.2</td>\n",
       "      <td>setosa</td>\n",
       "    </tr>\n",
       "    <tr>\n",
       "      <th>4</th>\n",
       "      <td>5.0</td>\n",
       "      <td>3.6</td>\n",
       "      <td>1.4</td>\n",
       "      <td>0.2</td>\n",
       "      <td>setosa</td>\n",
       "    </tr>\n",
       "  </tbody>\n",
       "</table>\n",
       "</div>"
      ],
      "text/plain": [
       "   sepal_length  sepal_width  petal_length  petal_width species\n",
       "0           5.1          3.5           1.4          0.2  setosa\n",
       "1           4.9          3.0           1.4          0.2  setosa\n",
       "2           4.7          3.2           1.3          0.2  setosa\n",
       "3           4.6          3.1           1.5          0.2  setosa\n",
       "4           5.0          3.6           1.4          0.2  setosa"
      ]
     },
     "execution_count": 9,
     "metadata": {},
     "output_type": "execute_result"
    }
   ],
   "source": [
    "data_df.head()"
   ]
  },
  {
   "cell_type": "code",
   "execution_count": 23,
   "metadata": {},
   "outputs": [
    {
     "data": {
      "image/png": "[encoded data removed]",
      "text/plain": [
       "<matplotlib.figure.Figure at 0xd4c6208>"
      ]
     },
     "metadata": {},
     "output_type": "display_data"
    }
   ],
   "source": [
    "from sklearn.naive_bayes import GaussianNB\n",
    "from sklearn.metrics import f1_score\n",
    "from sklearn.model_selection import StratifiedKFold, cross_val_score\n",
    "\n",
    "estimator = GaussianNB()\n",
    "cv = StratifiedKFold(n_splits=10, shuffle=True, random_state=0)\n",
    "scores = cross_val_score(\n",
    "    estimator, \n",
    "    data_df.drop('species', axis=1).values,\n",
    "    data_df.species.values,\n",
    "    cv = cv,\n",
    "    scoring='f1_macro'\n",
    ")\n",
    "\n",
    "scores = pd.Series(data=scores, name='cv_f1_scores')\n",
    "ax = scores.plot(kind='bar', rot=0, title='F1 scores from 10_fold cross_validation.')"
   ]
  },
  {
   "cell_type": "code",
   "execution_count": 25,
   "metadata": {},
   "outputs": [
    {
     "name": "stdout",
     "output_type": "stream",
     "text": [
      "0.953\n"
     ]
    }
   ],
   "source": [
    "mean_score = scores.mean()\n",
    "print('{:.3f}'.format(mean_score))"
   ]
  },
  {
   "cell_type": "markdown",
   "metadata": {},
   "source": [
    "Now we'll use the bootstrap method to construct a confidence interval around this score."
   ]
  },
  {
   "cell_type": "markdown",
   "metadata": {},
   "source": [
    "# Percentiles\n",
    "\n",
    "The simplest approach follows the percentile based calcutaion for the mean estimates."
   ]
  },
  {
   "cell_type": "code",
   "execution_count": 28,
   "metadata": {},
   "outputs": [
    {
     "name": "stderr",
     "output_type": "stream",
     "text": [
      "C:\\Users\\dkailthy\\AppData\\Local\\Miniconda\\envs\\mbfi\\lib\\site-packages\\sklearn\\metrics\\classification.py:1115: UndefinedMetricWarning: F-score is ill-defined and being set to 0.0 in labels with no true samples.\n",
      "  'recall', 'true', average, warn_for)\n",
      "C:\\Users\\dkailthy\\AppData\\Local\\Miniconda\\envs\\mbfi\\lib\\site-packages\\sklearn\\metrics\\classification.py:1113: UndefinedMetricWarning: F-score is ill-defined and being set to 0.0 in labels with no predicted samples.\n",
      "  'precision', 'predicted', average, warn_for)\n"
     ]
    }
   ],
   "source": [
    "from sklearn.metrics import f1_score\n",
    "\n",
    "def gen_bootstrap_samples(data_df, n):\n",
    "    \"\"\"\n",
    "    Make n bootstrap samples from data_df assuming 10 fold CV. \n",
    "    Return a generator for train and test DataFrames.\n",
    "    \"\"\"\n",
    "    \n",
    "    assert n > 1\n",
    "    \n",
    "    for _ in range(n):\n",
    "        # Since we used 10-fold cross-validation\n",
    "        train_df = data_df.sample(frac=0.9, replace=True)\n",
    "\n",
    "        test_df_candidates = data_df.drop(train_df.index, axis=0)\n",
    "        test_df = test_df_candidates.sample(frac=0.1, replace=True)\n",
    "        \n",
    "        yield train_df, test_df\n",
    "        \n",
    "\n",
    "        \n",
    "def get_score(train_df, test_df):\n",
    "    \"\"\"\n",
    "    Calculate f1 macro score by training a model using train_df \n",
    "    and evaluating predictions against test_df.\n",
    "    \"\"\"\n",
    "    \n",
    "    estimator = GaussianNB().fit(train_df.drop('species', axis=1).values, train_df.species.values)\n",
    "    predictions = estimator.predict(test_df.drop('species', axis=1).values)\n",
    "    \n",
    "    return f1_score(test_df.species.values, predictions, average='macro')\n",
    "\n",
    "\n",
    "def bootstrap_f1_scores(data_df, n):\n",
    "    \"\"\"Calculate and return f1 scores for n bootstrap samples using data_df, assuming 10 fold cross validation.\"\"\"\n",
    "    \n",
    "    scores = []\n",
    "    \n",
    "    for train_df, test_df in gen_bootstrap_samples(data_df, n):\n",
    "        score = get_score(train_df, test_df)\n",
    "        scores.append(score)\n",
    "        \n",
    "    return pd.Series(scores)\n",
    "\n",
    "\n",
    "bootstrap_scores = bootstrap_f1_scores(data_df, n=1000)"
   ]
  },
  {
   "cell_type": "code",
   "execution_count": 29,
   "metadata": {},
   "outputs": [
    {
     "data": {
      "text/plain": [
       "<matplotlib.axes._subplots.AxesSubplot at 0xd636cc0>"
      ]
     },
     "execution_count": 29,
     "metadata": {},
     "output_type": "execute_result"
    },
    {
     "data": {
      "image/png": "[encoded data removed]",
      "text/plain": [
       "<matplotlib.figure.Figure at 0xd636518>"
      ]
     },
     "metadata": {},
     "output_type": "display_data"
    }
   ],
   "source": [
    "bootstrap_scores.plot(kind='hist')"
   ]
  },
  {
   "cell_type": "code",
   "execution_count": 30,
   "metadata": {},
   "outputs": [
    {
     "name": "stdout",
     "output_type": "stream",
     "text": [
      "95% Confidence interval for mean score 0.953 is [0.906, 1.000]\n"
     ]
    }
   ],
   "source": [
    "score_errors = bootstrap_scores - mean_score\n",
    "alpha = 0.95\n",
    "delta = (1 - alpha) / 2.0\n",
    "error_low, error_high = score_errors.quantile([alpha - delta, alpha + delta]).values.tolist()\n",
    "score_low, score_high = mean_score - error_low, mean_score + error_high\n",
    "\n",
    "print('95% Confidence interval for mean score {:.3f} is [{:.3f}, {:.3f}]'.format(mean_score, score_low, score_high))"
   ]
  }
 ],
 "metadata": {
  "anaconda-cloud": {},
  "kernelspec": {
   "display_name": "Python 3",
   "language": "python",
   "name": "python3"
  },
  "language_info": {
   "codemirror_mode": {
    "name": "ipython",
    "version": 3
   },
   "file_extension": ".py",
   "mimetype": "text/x-python",
   "name": "python",
   "nbconvert_exporter": "python",
   "pygments_lexer": "ipython3",
   "version": "3.5.3"
  }
 },
 "nbformat": 4,
 "nbformat_minor": 2
}
