{
 "cells": [
  {
   "cell_type": "markdown",
   "metadata": {},
   "source": [
    "<h1 align=\"center\"> t-Stochastic Nearest Neighbour Embeddings</h1>\n",
    "\n",
    "t-SNE is an embedding technique that is commonly used to map high-dimensional data to 2 or 3 dimensions so that it can be viewed in scatterplots. The main idea behind t-SNE is to preserve points with small pairwise distances in the original data to the dimension reduced data.\n",
    " \n",
    "t-SNE minimizes the divergence between two probability distributions:  \n",
    "\n",
    "* a distribution that measures pairwise similarities of the input objects.\n",
    "* a distribution that measures pairwise similarities of the corresponding low-dimensional points in the embedding. \n",
    "\n",
    "Assume we are given a data set of (high-dimensional) input objects $D = \\{x_1, x_2, ... x_n\\}$ and a distance function $d(x_i, x_j)$ computes a distance between a pair of objects. The t-SNE algorithm learn learns an s (typically 2 or 3) dimensional embedding in which each object is represented by a point $y_i \\in \\mathbb{R}^s$.\n",
    "\n"
   ]
  },
  {
   "cell_type": "markdown",
   "metadata": {},
   "source": [
    "To this end, t-SNE defines joint probabilities $p_{ij}$ that measure the pairwise similarity between objects $x_i$ and $x_j$\n",
    "by symmetrizing two conditional probabilities:\n",
    "    \n",
    "$$\\begin{align}\n",
    "p_{j \\mid i} \\\\\n",
    " &= 0,\\space if \\space i = j \\\\\n",
    " &= \\dfrac {exp(-d(x_i, x_j)^2 / 2 \\sigma_i^2)} {\\sum_{k \\ne i} exp(-d(x_i, x_k)^2 / 2 \\sigma_i^2)} otherwise\n",
    "\\end{align}$$\n",
    "\n",
    "and \n",
    "\n",
    "$$\\begin{align}\n",
    "p_{ij} = \\dfrac {p_{i \\mid j} + p_{j \\mid i)}} {2n}\n",
    "\\end{align}$$"
   ]
  },
  {
   "cell_type": "markdown",
   "metadata": {},
   "source": [
    "In  the  above  equation,  the  bandwidth  of  the  Gaussian  kernels, $\\sigma_i$ is  set  in  such  a  way that the  perplexity of the conditional distribution $P_{ij}$ equals a predefined perplexity $u$. As a result,  the  optimal  value  of\n",
    "$\\sigma_i$ varies  per  object:  in  regions  of  the  data  space  with  a higher  data  density, $\\sigma_i$ tends  to  be  smaller  than  in  regions  of  the  data  space  with  lower density."
   ]
  },
  {
   "cell_type": "markdown",
   "metadata": {},
   "source": [
    "In the s-dimensional embedding, the similarities between two points $y_i$ and $y_j$, the low-dimensional models of  $x_i$ and $x_j$ are measured using a normalized heavy-tailed kernel. Specifically, the embedding similarity $q_{ij}$ between the two points between $y_i$ and $y_j$ is computed as a normalized Student-t kernel with a single degree of freedom.\n",
    "\n",
    "$$\\begin{align}\n",
    "q_{ij} \\\\\n",
    " &= 0,\\space if \\space i = j \\\\\n",
    " &= \\dfrac {{(1 + \\lVert y_i - y_j \\rVert ^2})^{-1}} {{\\sum_{k \\ne l} (1 + \\lVert y_k - y_l \\rVert ^2})^{-1}} otherwise\n",
    "\\end{align}$$"
   ]
  },
  {
   "cell_type": "markdown",
   "metadata": {},
   "source": [
    "The locations of the embedding points $y_i$ are determined by minimizing the Kullback-Leibler divergence between the joint distributions P and Q:\n",
    "\n",
    "$$C(P, Q) = KLD(P \\mid\\mid Q) = \\sum_{i \\ne j} {p_{ij}} log (\\dfrac{p_{ij}} {q_{ij}})$$ "
   ]
  },
  {
   "cell_type": "markdown",
   "metadata": {},
   "source": [
    "# Resources\n",
    "\n",
    "<a href=\"https://lvdmaaten.github.io/publications/papers/JMLR_2014.pdf\">https://lvdmaaten.github.io/publications/papers/JMLR_2014.pdf</a>"
   ]
  },
  {
   "cell_type": "markdown",
   "metadata": {},
   "source": [
    "In the code example below, we load classic MNIST dataset and reduce the dimensions to 2.\n",
    "\n",
    "# Getting the Data"
   ]
  },
  {
   "cell_type": "code",
   "execution_count": 1,
   "metadata": {},
   "outputs": [],
   "source": [
    "import numpy as np\n",
    "import pandas as pd\n",
    "\n",
    "%matplotlib inline\n",
    "import matplotlib.pyplot as plt\n",
    "plt.style.use('ggplot')\n",
    "\n",
    "import seaborn as sns"
   ]
  },
  {
   "cell_type": "markdown",
   "metadata": {},
   "source": [
    "We use the ``sklearn.datasets.load_digits`` method to load the MNIST data."
   ]
  },
  {
   "cell_type": "code",
   "execution_count": 2,
   "metadata": {},
   "outputs": [],
   "source": [
    "from sklearn.datasets import load_digits\n",
    "digits_data = load_digits()"
   ]
  },
  {
   "cell_type": "code",
   "execution_count": 3,
   "metadata": {},
   "outputs": [
    {
     "data": {
      "text/plain": [
       "['DESCR', 'data', 'images', 'target', 'target_names']"
      ]
     },
     "metadata": {},
     "output_type": "display_data"
    },
    {
     "data": {
      "text/plain": [
       "(1797, 64)"
      ]
     },
     "metadata": {},
     "output_type": "display_data"
    },
    {
     "data": {
      "text/plain": [
       "(1797,)"
      ]
     },
     "metadata": {},
     "output_type": "display_data"
    }
   ],
   "source": [
    "from IPython.display import display\n",
    "\n",
    "display(dir(digits_data))\n",
    "display(digits_data.data.shape)\n",
    "display(digits_data.target.shape)"
   ]
  },
  {
   "cell_type": "markdown",
   "metadata": {},
   "source": [
    "This dataset contains data for 1797 images. Each image is an 8*8 matrix stored as a flat-packed array."
   ]
  },
  {
   "cell_type": "markdown",
   "metadata": {},
   "source": [
    "Next we combine the data and target into a single dataframe."
   ]
  },
  {
   "cell_type": "code",
   "execution_count": 4,
   "metadata": {},
   "outputs": [],
   "source": [
    "mnist_df = pd.DataFrame(index=digits_data.target, data=digits_data.data)"
   ]
  },
  {
   "cell_type": "code",
   "execution_count": 5,
   "metadata": {},
   "outputs": [
    {
     "data": {
      "text/html": [
       "<div>\n",
       "<style scoped>\n",
       "    .dataframe tbody tr th:only-of-type {\n",
       "        vertical-align: middle;\n",
       "    }\n",
       "\n",
       "    .dataframe tbody tr th {\n",
       "        vertical-align: top;\n",
       "    }\n",
       "\n",
       "    .dataframe thead th {\n",
       "        text-align: right;\n",
       "    }\n",
       "</style>\n",
       "<table border=\"1\" class=\"dataframe\">\n",
       "  <thead>\n",
       "    <tr style=\"text-align: right;\">\n",
       "      <th></th>\n",
       "      <th>0</th>\n",
       "      <th>1</th>\n",
       "      <th>2</th>\n",
       "      <th>3</th>\n",
       "      <th>4</th>\n",
       "      <th>5</th>\n",
       "      <th>6</th>\n",
       "      <th>7</th>\n",
       "      <th>8</th>\n",
       "      <th>9</th>\n",
       "      <th>...</th>\n",
       "      <th>54</th>\n",
       "      <th>55</th>\n",
       "      <th>56</th>\n",
       "      <th>57</th>\n",
       "      <th>58</th>\n",
       "      <th>59</th>\n",
       "      <th>60</th>\n",
       "      <th>61</th>\n",
       "      <th>62</th>\n",
       "      <th>63</th>\n",
       "    </tr>\n",
       "  </thead>\n",
       "  <tbody>\n",
       "    <tr>\n",
       "      <th>0</th>\n",
       "      <td>0.0</td>\n",
       "      <td>0.0</td>\n",
       "      <td>5.0</td>\n",
       "      <td>13.0</td>\n",
       "      <td>9.0</td>\n",
       "      <td>1.0</td>\n",
       "      <td>0.0</td>\n",
       "      <td>0.0</td>\n",
       "      <td>0.0</td>\n",
       "      <td>0.0</td>\n",
       "      <td>...</td>\n",
       "      <td>0.0</td>\n",
       "      <td>0.0</td>\n",
       "      <td>0.0</td>\n",
       "      <td>0.0</td>\n",
       "      <td>6.0</td>\n",
       "      <td>13.0</td>\n",
       "      <td>10.0</td>\n",
       "      <td>0.0</td>\n",
       "      <td>0.0</td>\n",
       "      <td>0.0</td>\n",
       "    </tr>\n",
       "    <tr>\n",
       "      <th>1</th>\n",
       "      <td>0.0</td>\n",
       "      <td>0.0</td>\n",
       "      <td>0.0</td>\n",
       "      <td>12.0</td>\n",
       "      <td>13.0</td>\n",
       "      <td>5.0</td>\n",
       "      <td>0.0</td>\n",
       "      <td>0.0</td>\n",
       "      <td>0.0</td>\n",
       "      <td>0.0</td>\n",
       "      <td>...</td>\n",
       "      <td>0.0</td>\n",
       "      <td>0.0</td>\n",
       "      <td>0.0</td>\n",
       "      <td>0.0</td>\n",
       "      <td>0.0</td>\n",
       "      <td>11.0</td>\n",
       "      <td>16.0</td>\n",
       "      <td>10.0</td>\n",
       "      <td>0.0</td>\n",
       "      <td>0.0</td>\n",
       "    </tr>\n",
       "    <tr>\n",
       "      <th>2</th>\n",
       "      <td>0.0</td>\n",
       "      <td>0.0</td>\n",
       "      <td>0.0</td>\n",
       "      <td>4.0</td>\n",
       "      <td>15.0</td>\n",
       "      <td>12.0</td>\n",
       "      <td>0.0</td>\n",
       "      <td>0.0</td>\n",
       "      <td>0.0</td>\n",
       "      <td>0.0</td>\n",
       "      <td>...</td>\n",
       "      <td>5.0</td>\n",
       "      <td>0.0</td>\n",
       "      <td>0.0</td>\n",
       "      <td>0.0</td>\n",
       "      <td>0.0</td>\n",
       "      <td>3.0</td>\n",
       "      <td>11.0</td>\n",
       "      <td>16.0</td>\n",
       "      <td>9.0</td>\n",
       "      <td>0.0</td>\n",
       "    </tr>\n",
       "    <tr>\n",
       "      <th>3</th>\n",
       "      <td>0.0</td>\n",
       "      <td>0.0</td>\n",
       "      <td>7.0</td>\n",
       "      <td>15.0</td>\n",
       "      <td>13.0</td>\n",
       "      <td>1.0</td>\n",
       "      <td>0.0</td>\n",
       "      <td>0.0</td>\n",
       "      <td>0.0</td>\n",
       "      <td>8.0</td>\n",
       "      <td>...</td>\n",
       "      <td>9.0</td>\n",
       "      <td>0.0</td>\n",
       "      <td>0.0</td>\n",
       "      <td>0.0</td>\n",
       "      <td>7.0</td>\n",
       "      <td>13.0</td>\n",
       "      <td>13.0</td>\n",
       "      <td>9.0</td>\n",
       "      <td>0.0</td>\n",
       "      <td>0.0</td>\n",
       "    </tr>\n",
       "    <tr>\n",
       "      <th>4</th>\n",
       "      <td>0.0</td>\n",
       "      <td>0.0</td>\n",
       "      <td>0.0</td>\n",
       "      <td>1.0</td>\n",
       "      <td>11.0</td>\n",
       "      <td>0.0</td>\n",
       "      <td>0.0</td>\n",
       "      <td>0.0</td>\n",
       "      <td>0.0</td>\n",
       "      <td>0.0</td>\n",
       "      <td>...</td>\n",
       "      <td>0.0</td>\n",
       "      <td>0.0</td>\n",
       "      <td>0.0</td>\n",
       "      <td>0.0</td>\n",
       "      <td>0.0</td>\n",
       "      <td>2.0</td>\n",
       "      <td>16.0</td>\n",
       "      <td>4.0</td>\n",
       "      <td>0.0</td>\n",
       "      <td>0.0</td>\n",
       "    </tr>\n",
       "  </tbody>\n",
       "</table>\n",
       "<p>5 rows × 64 columns</p>\n",
       "</div>"
      ],
      "text/plain": [
       "    0    1    2     3     4     5    6    7    8    9  ...    54   55   56  \\\n",
       "0  0.0  0.0  5.0  13.0   9.0   1.0  0.0  0.0  0.0  0.0 ...   0.0  0.0  0.0   \n",
       "1  0.0  0.0  0.0  12.0  13.0   5.0  0.0  0.0  0.0  0.0 ...   0.0  0.0  0.0   \n",
       "2  0.0  0.0  0.0   4.0  15.0  12.0  0.0  0.0  0.0  0.0 ...   5.0  0.0  0.0   \n",
       "3  0.0  0.0  7.0  15.0  13.0   1.0  0.0  0.0  0.0  8.0 ...   9.0  0.0  0.0   \n",
       "4  0.0  0.0  0.0   1.0  11.0   0.0  0.0  0.0  0.0  0.0 ...   0.0  0.0  0.0   \n",
       "\n",
       "    57   58    59    60    61   62   63  \n",
       "0  0.0  6.0  13.0  10.0   0.0  0.0  0.0  \n",
       "1  0.0  0.0  11.0  16.0  10.0  0.0  0.0  \n",
       "2  0.0  0.0   3.0  11.0  16.0  9.0  0.0  \n",
       "3  0.0  7.0  13.0  13.0   9.0  0.0  0.0  \n",
       "4  0.0  0.0   2.0  16.0   4.0  0.0  0.0  \n",
       "\n",
       "[5 rows x 64 columns]"
      ]
     },
     "execution_count": 5,
     "metadata": {},
     "output_type": "execute_result"
    }
   ],
   "source": [
    "mnist_df.head()"
   ]
  },
  {
   "cell_type": "markdown",
   "metadata": {},
   "source": [
    "Next we find out How many images we have per label."
   ]
  },
  {
   "cell_type": "code",
   "execution_count": 6,
   "metadata": {},
   "outputs": [
    {
     "data": {
      "image/png": "[encoded data removed]",
      "text/plain": [
       "<matplotlib.figure.Figure at 0x2454496eb38>"
      ]
     },
     "metadata": {},
     "output_type": "display_data"
    }
   ],
   "source": [
    "image_counts = mnist_df.groupby(mnist_df.index)[0].count()\n",
    "ax = image_counts.plot(kind='bar', title='Image count per label in data')"
   ]
  },
  {
   "cell_type": "markdown",
   "metadata": {},
   "source": [
    "Next we scale mnist_df so that every feature has zero mean and unit variance."
   ]
  },
  {
   "cell_type": "markdown",
   "metadata": {},
   "source": [
    "## Pairwise Distances, P and $\\sigma_i$s"
   ]
  },
  {
   "cell_type": "code",
   "execution_count": 7,
   "metadata": {},
   "outputs": [
    {
     "data": {
      "text/html": [
       "<div>\n",
       "<style scoped>\n",
       "    .dataframe tbody tr th:only-of-type {\n",
       "        vertical-align: middle;\n",
       "    }\n",
       "\n",
       "    .dataframe tbody tr th {\n",
       "        vertical-align: top;\n",
       "    }\n",
       "\n",
       "    .dataframe thead th {\n",
       "        text-align: right;\n",
       "    }\n",
       "</style>\n",
       "<table border=\"1\" class=\"dataframe\">\n",
       "  <thead>\n",
       "    <tr style=\"text-align: right;\">\n",
       "      <th></th>\n",
       "      <th>0</th>\n",
       "      <th>1</th>\n",
       "      <th>2</th>\n",
       "      <th>3</th>\n",
       "      <th>4</th>\n",
       "      <th>5</th>\n",
       "      <th>6</th>\n",
       "      <th>7</th>\n",
       "      <th>8</th>\n",
       "      <th>9</th>\n",
       "      <th>...</th>\n",
       "      <th>54</th>\n",
       "      <th>55</th>\n",
       "      <th>56</th>\n",
       "      <th>57</th>\n",
       "      <th>58</th>\n",
       "      <th>59</th>\n",
       "      <th>60</th>\n",
       "      <th>61</th>\n",
       "      <th>62</th>\n",
       "      <th>63</th>\n",
       "    </tr>\n",
       "  </thead>\n",
       "  <tbody>\n",
       "    <tr>\n",
       "      <th>0</th>\n",
       "      <td>0.0</td>\n",
       "      <td>-0.335016</td>\n",
       "      <td>-0.043081</td>\n",
       "      <td>0.274072</td>\n",
       "      <td>-0.664478</td>\n",
       "      <td>-0.844129</td>\n",
       "      <td>-0.409724</td>\n",
       "      <td>-0.125023</td>\n",
       "      <td>-0.059078</td>\n",
       "      <td>-0.624009</td>\n",
       "      <td>...</td>\n",
       "      <td>-0.757436</td>\n",
       "      <td>-0.209785</td>\n",
       "      <td>-0.023596</td>\n",
       "      <td>-0.299081</td>\n",
       "      <td>0.086719</td>\n",
       "      <td>0.208293</td>\n",
       "      <td>-0.366771</td>\n",
       "      <td>-1.146647</td>\n",
       "      <td>-0.505670</td>\n",
       "      <td>-0.196008</td>\n",
       "    </tr>\n",
       "    <tr>\n",
       "      <th>1</th>\n",
       "      <td>0.0</td>\n",
       "      <td>-0.335016</td>\n",
       "      <td>-1.094937</td>\n",
       "      <td>0.038648</td>\n",
       "      <td>0.268751</td>\n",
       "      <td>-0.138020</td>\n",
       "      <td>-0.409724</td>\n",
       "      <td>-0.125023</td>\n",
       "      <td>-0.059078</td>\n",
       "      <td>-0.624009</td>\n",
       "      <td>...</td>\n",
       "      <td>-0.757436</td>\n",
       "      <td>-0.209785</td>\n",
       "      <td>-0.023596</td>\n",
       "      <td>-0.299081</td>\n",
       "      <td>-1.089383</td>\n",
       "      <td>-0.249010</td>\n",
       "      <td>0.849632</td>\n",
       "      <td>0.548561</td>\n",
       "      <td>-0.505670</td>\n",
       "      <td>-0.196008</td>\n",
       "    </tr>\n",
       "    <tr>\n",
       "      <th>2</th>\n",
       "      <td>0.0</td>\n",
       "      <td>-0.335016</td>\n",
       "      <td>-1.094937</td>\n",
       "      <td>-1.844742</td>\n",
       "      <td>0.735366</td>\n",
       "      <td>1.097673</td>\n",
       "      <td>-0.409724</td>\n",
       "      <td>-0.125023</td>\n",
       "      <td>-0.059078</td>\n",
       "      <td>-0.624009</td>\n",
       "      <td>...</td>\n",
       "      <td>0.259230</td>\n",
       "      <td>-0.209785</td>\n",
       "      <td>-0.023596</td>\n",
       "      <td>-0.299081</td>\n",
       "      <td>-1.089383</td>\n",
       "      <td>-2.078218</td>\n",
       "      <td>-0.164037</td>\n",
       "      <td>1.565686</td>\n",
       "      <td>1.695137</td>\n",
       "      <td>-0.196008</td>\n",
       "    </tr>\n",
       "    <tr>\n",
       "      <th>3</th>\n",
       "      <td>0.0</td>\n",
       "      <td>-0.335016</td>\n",
       "      <td>0.377661</td>\n",
       "      <td>0.744919</td>\n",
       "      <td>0.268751</td>\n",
       "      <td>-0.844129</td>\n",
       "      <td>-0.409724</td>\n",
       "      <td>-0.125023</td>\n",
       "      <td>-0.059078</td>\n",
       "      <td>1.879691</td>\n",
       "      <td>...</td>\n",
       "      <td>1.072563</td>\n",
       "      <td>-0.209785</td>\n",
       "      <td>-0.023596</td>\n",
       "      <td>-0.299081</td>\n",
       "      <td>0.282736</td>\n",
       "      <td>0.208293</td>\n",
       "      <td>0.241430</td>\n",
       "      <td>0.379040</td>\n",
       "      <td>-0.505670</td>\n",
       "      <td>-0.196008</td>\n",
       "    </tr>\n",
       "    <tr>\n",
       "      <th>4</th>\n",
       "      <td>0.0</td>\n",
       "      <td>-0.335016</td>\n",
       "      <td>-1.094937</td>\n",
       "      <td>-2.551014</td>\n",
       "      <td>-0.197863</td>\n",
       "      <td>-1.020657</td>\n",
       "      <td>-0.409724</td>\n",
       "      <td>-0.125023</td>\n",
       "      <td>-0.059078</td>\n",
       "      <td>-0.624009</td>\n",
       "      <td>...</td>\n",
       "      <td>-0.757436</td>\n",
       "      <td>-0.209785</td>\n",
       "      <td>-0.023596</td>\n",
       "      <td>-0.299081</td>\n",
       "      <td>-1.089383</td>\n",
       "      <td>-2.306869</td>\n",
       "      <td>0.849632</td>\n",
       "      <td>-0.468564</td>\n",
       "      <td>-0.505670</td>\n",
       "      <td>-0.196008</td>\n",
       "    </tr>\n",
       "  </tbody>\n",
       "</table>\n",
       "<p>5 rows × 64 columns</p>\n",
       "</div>"
      ],
      "text/plain": [
       "    0         1         2         3         4         5         6         7   \\\n",
       "0  0.0 -0.335016 -0.043081  0.274072 -0.664478 -0.844129 -0.409724 -0.125023   \n",
       "1  0.0 -0.335016 -1.094937  0.038648  0.268751 -0.138020 -0.409724 -0.125023   \n",
       "2  0.0 -0.335016 -1.094937 -1.844742  0.735366  1.097673 -0.409724 -0.125023   \n",
       "3  0.0 -0.335016  0.377661  0.744919  0.268751 -0.844129 -0.409724 -0.125023   \n",
       "4  0.0 -0.335016 -1.094937 -2.551014 -0.197863 -1.020657 -0.409724 -0.125023   \n",
       "\n",
       "         8         9     ...           54        55        56        57  \\\n",
       "0 -0.059078 -0.624009    ...    -0.757436 -0.209785 -0.023596 -0.299081   \n",
       "1 -0.059078 -0.624009    ...    -0.757436 -0.209785 -0.023596 -0.299081   \n",
       "2 -0.059078 -0.624009    ...     0.259230 -0.209785 -0.023596 -0.299081   \n",
       "3 -0.059078  1.879691    ...     1.072563 -0.209785 -0.023596 -0.299081   \n",
       "4 -0.059078 -0.624009    ...    -0.757436 -0.209785 -0.023596 -0.299081   \n",
       "\n",
       "         58        59        60        61        62        63  \n",
       "0  0.086719  0.208293 -0.366771 -1.146647 -0.505670 -0.196008  \n",
       "1 -1.089383 -0.249010  0.849632  0.548561 -0.505670 -0.196008  \n",
       "2 -1.089383 -2.078218 -0.164037  1.565686  1.695137 -0.196008  \n",
       "3  0.282736  0.208293  0.241430  0.379040 -0.505670 -0.196008  \n",
       "4 -1.089383 -2.306869  0.849632 -0.468564 -0.505670 -0.196008  \n",
       "\n",
       "[5 rows x 64 columns]"
      ]
     },
     "execution_count": 7,
     "metadata": {},
     "output_type": "execute_result"
    }
   ],
   "source": [
    "from sklearn.preprocessing import scale\n",
    "mnist_df_scaled = pd.DataFrame(index=mnist_df.index, \n",
    "                               columns=mnist_df.columns, \n",
    "                               data=scale(mnist_df))\n",
    "\n",
    "mnist_df_scaled.head()"
   ]
  },
  {
   "cell_type": "markdown",
   "metadata": {},
   "source": [
    "From the scaled data, we must calculate the $P_{ij}$s. To do this we first calculate the pairwise distances between each pair of rows in the input data. For efficiency's sake, we use the ``sklearn.metrics.pairwise_distances`` library function.\n",
    "\n",
    "Next, we start with a given purplexity target and then calculate the individual sigmas based on that."
   ]
  },
  {
   "cell_type": "code",
   "execution_count": 8,
   "metadata": {},
   "outputs": [],
   "source": [
    "MACHINE_PRECISION = np.finfo(float).eps\n",
    "from sklearn.metrics import pairwise_distances\n",
    "\n",
    "def optimal_sigma(dist_i, i, target_entropy, n_iter=100, entropy_diff=1E-7):\n",
    "    \"\"\"\n",
    "    For the pairwise distances between the i-th feature vector and every other feature vector in the original dataset, \n",
    "    execute a binary search for ``sigma`` such the entropy of the conditional probability distribution\n",
    "    ${P_i}$ equals ``target_entropy`` at ``entropy_diff`` precision. Return the optimal sigma.\n",
    "    \n",
    "    Assume that the distances are not squared.\n",
    "    \n",
    "    Execute at most ``n_iter`` searches. Raise ``ValueError`` if we haven't found a decent enough\n",
    "    value of ``sigma``.\n",
    "    \n",
    "    Note that dist_i.loc[i] is the distance of the i-th feature vector to itself, i.e. 0. \n",
    "    \"\"\"\n",
    "    assert dist_i.loc[i] == 0\n",
    "    \n",
    "    # initial value of sigma\n",
    "    sigma = 1.0\n",
    "    \n",
    "    # initial left and right boundaries for the binary search\n",
    "    sigma_min, sigma_max = -np.inf, np.inf\n",
    "    \n",
    "    for _ in range(1, n_iter+1):\n",
    "        \n",
    "        # Evaluate the Gaussian kernel with current sigma\n",
    "        r = dist_i.pow(2).div(2 * (sigma ** 2))\n",
    "        s = np.exp(-r)\n",
    "        \n",
    "        # Recall that p(j|i) = 0 if i = j\n",
    "        s.loc[i] = 0\n",
    "        p = s / s.sum()\n",
    "        \n",
    "        # the np.maximum trick below avoids taking log of very small (< MACHINE_PRECISION) numbers \n",
    "        # and ending up with -inf\n",
    "        entropy = - p.dropna().dot(np.log(np.maximum(p.dropna(), MACHINE_PRECISION)))\n",
    "        \n",
    "        if np.fabs(target_entropy - entropy) <= entropy_diff:\n",
    "            break            \n",
    "                \n",
    "        if entropy > target_entropy:\n",
    "            # new boundary is [sigma_min, sigma]\n",
    "            sigma_max = sigma\n",
    "            # if sigma_min is still open\n",
    "            if not np.isfinite(sigma_min):\n",
    "                sigma *= 0.5        \n",
    "        else:\n",
    "            # new boundary is [sigma, sigma_max]\n",
    "            sigma_min = sigma\n",
    "           \n",
    "            # if sigma_max is still open\n",
    "            if not np.isfinite(sigma_max):                \n",
    "                sigma *= 2.0\n",
    "       \n",
    "        # If both the left and right boundaries are closed, new sigma \n",
    "        # is the midpoint of sigma_min and sigma_max\n",
    "        if np.all(np.isfinite([sigma_min, sigma_max])):\n",
    "            sigma = (sigma_min + sigma_max) / 2\n",
    "        \n",
    "    else:\n",
    "        raise ValueError(\"Unable to find a sigma after [{}] iterations that matches target entropy: [{}]\".format(\n",
    "            n_iter, target_entropy))        \n",
    "        \n",
    "    return sigma\n",
    "\n",
    "\n",
    "def calc_optimal_sigmas(df, target_purplexity):\n",
    "    \"\"\"\n",
    "    From the DataFrame of feature vectors, ``df``, calculate pairwise distances and then find the optimal values\n",
    "    for the Gaussian kernels for each conditional probability distribution {P_i}\n",
    "    \"\"\"\n",
    "    target_entropy = np.log(target_purplexity)\n",
    "    paired_dists = pd.DataFrame(data=pairwise_distances(df.values, metric='l2'))\n",
    "    \n",
    "    optimal_sigmas = paired_dists.apply(lambda row: optimal_sigma(row, row.name, target_entropy), axis=1)\n",
    "    \n",
    "    # p_joint = (p_cond + p_cond.T) / (2 * df.shape[0])\n",
    "    # return p_joint\n",
    "    return paired_dists, optimal_sigmas\n",
    "\n",
    "\n",
    "def calc_p(df, target_purplexity=30):\n",
    "    \"\"\"\n",
    "    Calculate the joint distribution of P_{ij} for the original input vectors x. \n",
    "    Assume ``pairwise_dist`` are squared. \n",
    "    \"\"\"\n",
    "    paired_dists, optimal_sigmas = calc_optimal_sigmas(df, target_purplexity)\n",
    "        \n",
    "    exps = np.exp(-paired_dists)\n",
    "    p_cond = exps.div(2 * optimal_sigmas.pow(2), axis=1)\n",
    "    p_cond.values[np.diag_indices_from(p_cond)] = 0\n",
    "    \n",
    "    p_cond = p_cond.div(p_cond.sum(axis=1), axis=0)\n",
    "    n_points = p_cond.shape[0]\n",
    "    p_joint = (p_cond + p_cond.T) / (2 * n_points)\n",
    "    \n",
    "    return p_joint"
   ]
  },
  {
   "cell_type": "code",
   "execution_count": 9,
   "metadata": {},
   "outputs": [],
   "source": [
    "p_joint = calc_p(mnist_df_scaled)"
   ]
  },
  {
   "cell_type": "markdown",
   "metadata": {},
   "source": [
    "Now we're going to set up TensorFlow for the KLD minimization problem."
   ]
  },
  {
   "cell_type": "code",
   "execution_count": 10,
   "metadata": {},
   "outputs": [
    {
     "name": "stderr",
     "output_type": "stream",
     "text": [
      "d:\\Anaconda3\\lib\\site-packages\\h5py\\__init__.py:36: FutureWarning: Conversion of the second argument of issubdtype from `float` to `np.floating` is deprecated. In future, it will be treated as `np.float64 == np.dtype(float).type`.\n",
      "  from ._conv import register_converters as _register_converters\n"
     ]
    },
    {
     "data": {
      "text/plain": [
       "'1.6.0'"
      ]
     },
     "metadata": {},
     "output_type": "display_data"
    }
   ],
   "source": [
    "import tensorflow as tf\n",
    "display(tf.__version__)"
   ]
  },
  {
   "cell_type": "code",
   "execution_count": 11,
   "metadata": {},
   "outputs": [],
   "source": [
    "def pairwise_dist(tf_y):\n",
    "    \"\"\"Calculate pairwise distances between each pair of vectors in tf_y.\"\"\"\n",
    "    tf_norms = tf.square(tf.norm(tf_y, axis=1))\n",
    "     \n",
    "    tf_r1 = tf.expand_dims(tf_norms, axis=1)\n",
    "    tf_r2 = tf.expand_dims(tf_norms, axis=0)\n",
    "    \n",
    "    tf_y_dot_yT = tf.matmul(tf_y, tf_y, transpose_b=True)\n",
    "    \n",
    "    tf_dot = tf.cast(tf_y_dot_yT, dtype=tf.float32)\n",
    "    tf_r = tf_r1 + tf_r2\n",
    "    tf_d1 = tf_r - 2 * tf_dot\n",
    "    \n",
    "    return tf_d1\n",
    "\n",
    "\n",
    "def calc_q(tf_y):\n",
    "    \"\"\"\n",
    "    Calculate the joint distribution of two embeddings y_i and y_j in tensorflow.   \n",
    "    Call from inside an active tensorflow session only.    \n",
    "    \"\"\"\n",
    "    tf_pdist = pairwise_dist(tf_y)\n",
    "    \n",
    "    tf_d = 1 / (1 + tf_pdist)\n",
    "    tf_d = tf.matrix_set_diag(tf_d, tf.zeros(tf.shape(tf_d)[0])) \n",
    "    \n",
    "    tf_q = tf.div(tf_d, tf.reduce_sum(tf_d))\n",
    "    \n",
    "    return tf_q"
   ]
  },
  {
   "cell_type": "code",
   "execution_count": 25,
   "metadata": {},
   "outputs": [
    {
     "name": "stdout",
     "output_type": "stream",
     "text": [
      "After iteration: 100, loss: 0.755330502986908\n",
      "After iteration: 200, loss: 0.6883016228675842\n",
      "After iteration: 300, loss: 0.6527172327041626\n",
      "After iteration: 400, loss: 0.6321041584014893\n",
      "After iteration: 500, loss: 0.6192408800125122\n",
      "After iteration: 600, loss: 0.6082162857055664\n",
      "After iteration: 700, loss: 0.5910018682479858\n",
      "After iteration: 800, loss: 0.5868865251541138\n",
      "After iteration: 900, loss: 0.5829448699951172\n",
      "After iteration: 1000, loss: 0.5824620723724365\n"
     ]
    }
   ],
   "source": [
    "embedding_size = 2\n",
    "n_points = p_joint.shape[0]\n",
    "\n",
    "losses = []\n",
    "n_iter = 1000\n",
    "loss_epsilon = 1E-8\n",
    "learning_rate = 0.2\n",
    "\n",
    "current_graph = tf.Graph()\n",
    "with current_graph.as_default():\n",
    "    \n",
    "    # Placeholder for the joint distribution P of feature vectors in original space\n",
    "    # This is a constant w.r.t the KLD minimization\n",
    "    tf_p_joint = tf.placeholder(dtype=tf.float32, name='p_joint', shape=[n_points, n_points])\n",
    "    \n",
    "    # Feature vectors in the embedding space - initialized by sampling from random distribution\n",
    "    tf_y = tf.Variable(name='y', validate_shape=False,\n",
    "                        dtype=tf.float32,                        \n",
    "                        initial_value=tf.random_normal([n_points, embedding_size]))\n",
    "    \n",
    "    # One step for iterative KLD minimization\n",
    "    \n",
    "    # calculate joint distribution Q of embeddings\n",
    "    tf_q_joint = calc_q(tf_y)\n",
    "    \n",
    "    # Both P and Q have zeros in the diagonals. Since we want to calculate log{P/Q},\n",
    "    # We temporarily replace the 1s with 0s, so the log of the diagonals are zeros\n",
    "    # and they don't contribute to the KLD value.\n",
    "    p_diag_1 = tf.matrix_set_diag(tf_p_joint, tf.ones(n_points))\n",
    "    q_diag_1 = tf.matrix_set_diag(tf_q_joint, tf.ones(n_points))    \n",
    "    tf_log_p_by_q = tf.log(tf.div(p_diag_1, q_diag_1))\n",
    "    \n",
    "    kld = tf.reduce_sum(tf.multiply(tf_p_joint, tf_log_p_by_q))\n",
    "    \n",
    "    optimizer = tf.train.AdamOptimizer(learning_rate=learning_rate, name='Adam')\n",
    "    train_op = optimizer.minimize(kld, name='KLD_minimization')\n",
    "        \n",
    "    with tf.Session() as sess:\n",
    "        # initialize tensorflow variables\n",
    "        init = tf.global_variables_initializer()\n",
    "        sess.run(init)\n",
    "        \n",
    "        feed_dict = {tf_p_joint: p_joint.astype(np.float32).values}\n",
    "        \n",
    "        # run the optimization step n_iter times, breaking out if two successive steps\n",
    "        # produce an absolute change in the value of the loss function <= loss_epsilon\n",
    "        for i in range(1, n_iter+1):            \n",
    "            _, loss_val = sess.run([train_op, kld], feed_dict=feed_dict)            \n",
    "            losses.append(loss_val)\n",
    "            \n",
    "            if i % 100 == 0:\n",
    "                print(\"After iteration: {}, loss: {}\".format(i, loss_val))\n",
    "            \n",
    "            if len(losses) >= 2:\n",
    "                last_loss = losses[-2]\n",
    "                loss_delta = np.abs(last_loss-loss_val)\n",
    "                if loss_delta < loss_epsilon:\n",
    "                    print(\"Exiting after %s iterations, loss_delta [{}] <= loss_epsilon [{}\".format(\n",
    "                        n_iter, loss_delta, loss_epsilon))\n",
    "                    break\n",
    "        \n",
    "        y_embeddings = sess.run(tf_y, feed_dict=feed_dict)"
   ]
  },
  {
   "cell_type": "code",
   "execution_count": 22,
   "metadata": {},
   "outputs": [
    {
     "data": {
      "text/plain": [
       "<matplotlib.axes._subplots.AxesSubplot at 0x2454c11abe0>"
      ]
     },
     "execution_count": 22,
     "metadata": {},
     "output_type": "execute_result"
    },
    {
     "data": {
      "image/png": "[encoded data removed]",
      "text/plain": [
       "<matplotlib.figure.Figure at 0x2454d049a90>"
      ]
     },
     "metadata": {},
     "output_type": "display_data"
    }
   ],
   "source": [
    "pd.Series(losses).rolling(10).mean().plot()"
   ]
  },
  {
   "cell_type": "code",
   "execution_count": 23,
   "metadata": {},
   "outputs": [],
   "source": [
    "embeddings_df = pd.DataFrame(index=mnist_df_scaled.index, data=y_embeddings)"
   ]
  },
  {
   "cell_type": "code",
   "execution_count": 26,
   "metadata": {},
   "outputs": [
    {
     "data": {
      "text/plain": [
       "<seaborn.axisgrid.FacetGrid at 0x2454e2ceb38>"
      ]
     },
     "execution_count": 26,
     "metadata": {},
     "output_type": "execute_result"
    },
    {
     "data": {
      "image/png": "[encoded data removed]",
      "text/plain": [
       "<matplotlib.figure.Figure at 0x2454e520f60>"
      ]
     },
     "metadata": {},
     "output_type": "display_data"
    }
   ],
   "source": [
    "plot_source = embeddings_df.reset_index().rename(columns={\n",
    "    'index': 'label', 0: 'x', 1:'y'})\n",
    "fg = sns.FacetGrid(data=plot_source, hue='label', size=10)\n",
    "fg.map(plt.scatter, 'x', 'y').add_legend()"
   ]
  },
  {
   "cell_type": "markdown",
   "metadata": {},
   "source": [
    "Let's compare that against what the sklearn implementation gives us:"
   ]
  },
  {
   "cell_type": "code",
   "execution_count": 16,
   "metadata": {},
   "outputs": [
    {
     "data": {
      "text/plain": [
       "<seaborn.axisgrid.FacetGrid at 0x2454c262208>"
      ]
     },
     "execution_count": 16,
     "metadata": {},
     "output_type": "execute_result"
    },
    {
     "data": {
      "image/png": "[encoded data removed]",
      "text/plain": [
       "<matplotlib.figure.Figure at 0x24542731ef0>"
      ]
     },
     "metadata": {},
     "output_type": "display_data"
    }
   ],
   "source": [
    "from sklearn.manifold import TSNE\n",
    "\n",
    "# Extract the embeddings and convert into a DataFrame\n",
    "sk_embedded = TSNE(n_components=2).fit_transform(mnist_df_scaled.values)\n",
    "sk_embedded = pd.DataFrame(index=mnist_df_scaled.index, data=sk_embedded)\n",
    "\n",
    "# Display\n",
    "sk_embedded = sk_embedded.reset_index().rename(columns={'index': 'label', 0: 'x', 1:'y'})\n",
    "fg = sns.FacetGrid(data=sk_embedded, hue='label', size=10)\n",
    "fg.map(plt.scatter, 'x', 'y').add_legend()"
   ]
  },
  {
   "cell_type": "markdown",
   "metadata": {},
   "source": [
    "# Appendix: Vectorized Calculation of $Q_{ij}$ in TensorFlow$ "
   ]
  },
  {
   "cell_type": "code",
   "execution_count": 27,
   "metadata": {},
   "outputs": [],
   "source": [
    "y = pd.DataFrame(index=range(3), columns=range(5), data=np.random.uniform(1, 5, size=[3, 5]))"
   ]
  },
  {
   "cell_type": "code",
   "execution_count": 28,
   "metadata": {},
   "outputs": [
    {
     "data": {
      "text/html": [
       "<div>\n",
       "<style scoped>\n",
       "    .dataframe tbody tr th:only-of-type {\n",
       "        vertical-align: middle;\n",
       "    }\n",
       "\n",
       "    .dataframe tbody tr th {\n",
       "        vertical-align: top;\n",
       "    }\n",
       "\n",
       "    .dataframe thead th {\n",
       "        text-align: right;\n",
       "    }\n",
       "</style>\n",
       "<table border=\"1\" class=\"dataframe\">\n",
       "  <thead>\n",
       "    <tr style=\"text-align: right;\">\n",
       "      <th></th>\n",
       "      <th>0</th>\n",
       "      <th>1</th>\n",
       "      <th>2</th>\n",
       "      <th>3</th>\n",
       "      <th>4</th>\n",
       "    </tr>\n",
       "  </thead>\n",
       "  <tbody>\n",
       "    <tr>\n",
       "      <th>0</th>\n",
       "      <td>3.841796</td>\n",
       "      <td>2.343839</td>\n",
       "      <td>4.242634</td>\n",
       "      <td>4.119774</td>\n",
       "      <td>3.775773</td>\n",
       "    </tr>\n",
       "    <tr>\n",
       "      <th>1</th>\n",
       "      <td>2.196821</td>\n",
       "      <td>3.169581</td>\n",
       "      <td>3.726738</td>\n",
       "      <td>2.675542</td>\n",
       "      <td>4.937759</td>\n",
       "    </tr>\n",
       "    <tr>\n",
       "      <th>2</th>\n",
       "      <td>1.316947</td>\n",
       "      <td>4.095652</td>\n",
       "      <td>4.813276</td>\n",
       "      <td>2.686604</td>\n",
       "      <td>3.601084</td>\n",
       "    </tr>\n",
       "  </tbody>\n",
       "</table>\n",
       "</div>"
      ],
      "text/plain": [
       "          0         1         2         3         4\n",
       "0  3.841796  2.343839  4.242634  4.119774  3.775773\n",
       "1  2.196821  3.169581  3.726738  2.675542  4.937759\n",
       "2  1.316947  4.095652  4.813276  2.686604  3.601084"
      ]
     },
     "execution_count": 28,
     "metadata": {},
     "output_type": "execute_result"
    }
   ],
   "source": [
    "y"
   ]
  },
  {
   "cell_type": "markdown",
   "metadata": {},
   "source": [
    "First we calculate Q using the direct iterative algorithm which requires iterating over rows and columns of y this gives us a reference to test our vectorized implementation for correctness."
   ]
  },
  {
   "cell_type": "code",
   "execution_count": 29,
   "metadata": {},
   "outputs": [
    {
     "data": {
      "text/html": [
       "<div>\n",
       "<style scoped>\n",
       "    .dataframe tbody tr th:only-of-type {\n",
       "        vertical-align: middle;\n",
       "    }\n",
       "\n",
       "    .dataframe tbody tr th {\n",
       "        vertical-align: top;\n",
       "    }\n",
       "\n",
       "    .dataframe thead th {\n",
       "        text-align: right;\n",
       "    }\n",
       "</style>\n",
       "<table border=\"1\" class=\"dataframe\">\n",
       "  <thead>\n",
       "    <tr style=\"text-align: right;\">\n",
       "      <th></th>\n",
       "      <th>0</th>\n",
       "      <th>1</th>\n",
       "      <th>2</th>\n",
       "    </tr>\n",
       "  </thead>\n",
       "  <tbody>\n",
       "    <tr>\n",
       "      <th>0</th>\n",
       "      <td>0.000000</td>\n",
       "      <td>0.123610</td>\n",
       "      <td>0.077798</td>\n",
       "    </tr>\n",
       "    <tr>\n",
       "      <th>1</th>\n",
       "      <td>0.123610</td>\n",
       "      <td>0.000000</td>\n",
       "      <td>0.178598</td>\n",
       "    </tr>\n",
       "    <tr>\n",
       "      <th>2</th>\n",
       "      <td>0.077798</td>\n",
       "      <td>0.178598</td>\n",
       "      <td>0.000000</td>\n",
       "    </tr>\n",
       "  </tbody>\n",
       "</table>\n",
       "</div>"
      ],
      "text/plain": [
       "          0         1         2\n",
       "0  0.000000  0.123610  0.077798\n",
       "1  0.123610  0.000000  0.178598\n",
       "2  0.077798  0.178598  0.000000"
      ]
     },
     "execution_count": 29,
     "metadata": {},
     "output_type": "execute_result"
    }
   ],
   "source": [
    "Q_simple = pd.DataFrame(index=y.index, columns=y.index, data=0.0)\n",
    "\n",
    "for i in range(0, y.shape[0]):\n",
    "    for j in range(0, i):\n",
    "        assert i != j, (i, j)            \n",
    "        md = y.loc[i, :].sub(y.loc[j, :])\n",
    "        d = 1 + np.linalg.norm(md)**2\n",
    "        Q_simple.loc[i, j] = 1 / d\n",
    "        Q_simple.loc[j, i] = 1 / d        \n",
    "\n",
    "Q_simple"
   ]
  },
  {
   "cell_type": "markdown",
   "metadata": {},
   "source": [
    "To calculate Q in a vectorized way, we note that\n",
    "\n",
    "$D[i, j] = (y[i] - y[j]) (y[i] - y[j])^T = norm(y[i])^2 + norm(y[j])^2 - 2 \\times dot(a[i], a[j])$\n",
    "\n",
    "For the entire 2D array y, we can generalize this to:\n",
    "\n",
    "``D = np.atleast_2d(r) + np.atleast_2d(r).T - 2 * np.dot(y, y.T)``\n",
    "\n",
    "where r is (vector) of norms of each vector in y."
   ]
  },
  {
   "cell_type": "code",
   "execution_count": 30,
   "metadata": {},
   "outputs": [
    {
     "data": {
      "text/html": [
       "<div>\n",
       "<style scoped>\n",
       "    .dataframe tbody tr th:only-of-type {\n",
       "        vertical-align: middle;\n",
       "    }\n",
       "\n",
       "    .dataframe tbody tr th {\n",
       "        vertical-align: top;\n",
       "    }\n",
       "\n",
       "    .dataframe thead th {\n",
       "        text-align: right;\n",
       "    }\n",
       "</style>\n",
       "<table border=\"1\" class=\"dataframe\">\n",
       "  <thead>\n",
       "    <tr style=\"text-align: right;\">\n",
       "      <th></th>\n",
       "      <th>0</th>\n",
       "      <th>1</th>\n",
       "      <th>2</th>\n",
       "    </tr>\n",
       "  </thead>\n",
       "  <tbody>\n",
       "    <tr>\n",
       "      <th>0</th>\n",
       "      <td>0.000000</td>\n",
       "      <td>0.123610</td>\n",
       "      <td>0.077798</td>\n",
       "    </tr>\n",
       "    <tr>\n",
       "      <th>1</th>\n",
       "      <td>0.123610</td>\n",
       "      <td>0.000000</td>\n",
       "      <td>0.178598</td>\n",
       "    </tr>\n",
       "    <tr>\n",
       "      <th>2</th>\n",
       "      <td>0.077798</td>\n",
       "      <td>0.178598</td>\n",
       "      <td>0.000000</td>\n",
       "    </tr>\n",
       "  </tbody>\n",
       "</table>\n",
       "</div>"
      ],
      "text/plain": [
       "          0         1         2\n",
       "0  0.000000  0.123610  0.077798\n",
       "1  0.123610  0.000000  0.178598\n",
       "2  0.077798  0.178598  0.000000"
      ]
     },
     "execution_count": 30,
     "metadata": {},
     "output_type": "execute_result"
    }
   ],
   "source": [
    "norms = y.apply(np.linalg.norm, axis=1).values\n",
    "\n",
    "r1 = np.atleast_2d(norms**2)\n",
    "r2 = r1.T\n",
    "d1 = r1 + r2\n",
    "\n",
    "d2 = d1 - 2 * np.dot(y, y.T)\n",
    "d2 += 1\n",
    "d3 = 1 / d2\n",
    "\n",
    "d3[np.diag_indices_from(d3)] = 0\n",
    "Q_vectorized = pd.DataFrame(d3)\n",
    "\n",
    "Q_vectorized"
   ]
  },
  {
   "cell_type": "code",
   "execution_count": 31,
   "metadata": {},
   "outputs": [],
   "source": [
    "from pandas.util.testing import assert_frame_equal\n",
    "assert_frame_equal(Q_simple, Q_vectorized, check_less_precise=True)"
   ]
  },
  {
   "cell_type": "markdown",
   "metadata": {},
   "source": [
    "We can do the same in tensorflow by substituting the ``np.atleast_2d()`` function with ``tf.expand_dims()``, since tensorflow also supports broadcast."
   ]
  },
  {
   "cell_type": "code",
   "execution_count": null,
   "metadata": {},
   "outputs": [],
   "source": []
  }
 ],
 "metadata": {
  "kernelspec": {
   "display_name": "Python 3",
   "language": "python",
   "name": "python3"
  },
  "language_info": {
   "codemirror_mode": {
    "name": "ipython",
    "version": 3
   },
   "file_extension": ".py",
   "mimetype": "text/x-python",
   "name": "python",
   "nbconvert_exporter": "python",
   "pygments_lexer": "ipython3",
   "version": "3.5.4"
  }
 },
 "nbformat": 4,
 "nbformat_minor": 2
}
