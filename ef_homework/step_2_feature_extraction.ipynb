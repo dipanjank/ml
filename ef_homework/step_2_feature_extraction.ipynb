{
 "cells": [
  {
   "cell_type": "code",
   "execution_count": 1,
   "metadata": {},
   "outputs": [],
   "source": [
    "%matplotlib inline\n",
    "import matplotlib.pyplot as plt\n",
    "plt.style.use('ggplot')\n",
    "\n",
    "import pandas as pd \n",
    "import numpy as np\n",
    "import seaborn as sns"
   ]
  },
  {
   "cell_type": "markdown",
   "metadata": {},
   "source": [
    "Here, we load the serialized DataFrame saved in step 1."
   ]
  },
  {
   "cell_type": "code",
   "execution_count": 2,
   "metadata": {},
   "outputs": [],
   "source": [
    "raw_input = pd.read_pickle('input.pkl')"
   ]
  },
  {
   "cell_type": "code",
   "execution_count": 3,
   "metadata": {},
   "outputs": [
    {
     "data": {
      "text/html": [
       "<div>\n",
       "<style scoped>\n",
       "    .dataframe tbody tr th:only-of-type {\n",
       "        vertical-align: middle;\n",
       "    }\n",
       "\n",
       "    .dataframe tbody tr th {\n",
       "        vertical-align: top;\n",
       "    }\n",
       "\n",
       "    .dataframe thead th {\n",
       "        text-align: right;\n",
       "    }\n",
       "</style>\n",
       "<table border=\"1\" class=\"dataframe\">\n",
       "  <thead>\n",
       "    <tr style=\"text-align: right;\">\n",
       "      <th></th>\n",
       "      <th>article_id</th>\n",
       "      <th>grade</th>\n",
       "      <th>level</th>\n",
       "      <th>text</th>\n",
       "      <th>topic_id</th>\n",
       "      <th>topic_text</th>\n",
       "      <th>unit</th>\n",
       "    </tr>\n",
       "  </thead>\n",
       "  <tbody>\n",
       "    <tr>\n",
       "      <th>0</th>\n",
       "      <td>1</td>\n",
       "      <td>90</td>\n",
       "      <td>6</td>\n",
       "      <td>After some time, the affection between them is...</td>\n",
       "      <td>41</td>\n",
       "      <td>Writing a movie plot</td>\n",
       "      <td>1</td>\n",
       "    </tr>\n",
       "    <tr>\n",
       "      <th>1</th>\n",
       "      <td>2</td>\n",
       "      <td>90</td>\n",
       "      <td>6</td>\n",
       "      <td>An e-ticket is a provement that you bought the...</td>\n",
       "      <td>42</td>\n",
       "      <td>Filling in an arrival card</td>\n",
       "      <td>2</td>\n",
       "    </tr>\n",
       "    <tr>\n",
       "      <th>2</th>\n",
       "      <td>3</td>\n",
       "      <td>86</td>\n",
       "      <td>6</td>\n",
       "      <td>From:xxx@1234.com To:Herman xxx@1234.com Date:...</td>\n",
       "      <td>43</td>\n",
       "      <td>Creating an office dress code</td>\n",
       "      <td>3</td>\n",
       "    </tr>\n",
       "    <tr>\n",
       "      <th>3</th>\n",
       "      <td>4</td>\n",
       "      <td>87</td>\n",
       "      <td>1</td>\n",
       "      <td>Hi Anna ,How are you . My name's Jayla . My te...</td>\n",
       "      <td>1</td>\n",
       "      <td>Introducing yourself by email</td>\n",
       "      <td>1</td>\n",
       "    </tr>\n",
       "    <tr>\n",
       "      <th>4</th>\n",
       "      <td>5</td>\n",
       "      <td>95</td>\n",
       "      <td>1</td>\n",
       "      <td>Dear Ms Thomas, There are thirty pens and fift...</td>\n",
       "      <td>2</td>\n",
       "      <td>Taking inventory in the office</td>\n",
       "      <td>2</td>\n",
       "    </tr>\n",
       "  </tbody>\n",
       "</table>\n",
       "</div>"
      ],
      "text/plain": [
       "   article_id  grade  level  \\\n",
       "0           1     90      6   \n",
       "1           2     90      6   \n",
       "2           3     86      6   \n",
       "3           4     87      1   \n",
       "4           5     95      1   \n",
       "\n",
       "                                                text  topic_id  \\\n",
       "0  After some time, the affection between them is...        41   \n",
       "1  An e-ticket is a provement that you bought the...        42   \n",
       "2  From:xxx@1234.com To:Herman xxx@1234.com Date:...        43   \n",
       "3  Hi Anna ,How are you . My name's Jayla . My te...         1   \n",
       "4  Dear Ms Thomas, There are thirty pens and fift...         2   \n",
       "\n",
       "                       topic_text  unit  \n",
       "0            Writing a movie plot     1  \n",
       "1      Filling in an arrival card     2  \n",
       "2   Creating an office dress code     3  \n",
       "3   Introducing yourself by email     1  \n",
       "4  Taking inventory in the office     2  "
      ]
     },
     "execution_count": 3,
     "metadata": {},
     "output_type": "execute_result"
    }
   ],
   "source": [
    "raw_input.head()"
   ]
  },
  {
   "cell_type": "code",
   "execution_count": 4,
   "metadata": {},
   "outputs": [
    {
     "name": "stdout",
     "output_type": "stream",
     "text": [
      "<class 'pandas.core.frame.DataFrame'>\n",
      "RangeIndex: 1180309 entries, 0 to 1180308\n",
      "Data columns (total 7 columns):\n",
      "article_id    1180309 non-null int64\n",
      "grade         1180309 non-null int64\n",
      "level         1180309 non-null int64\n",
      "text          1180309 non-null object\n",
      "topic_id      1180309 non-null int64\n",
      "topic_text    1180309 non-null object\n",
      "unit          1180309 non-null int64\n",
      "dtypes: int64(5), object(2)\n",
      "memory usage: 63.0+ MB\n"
     ]
    }
   ],
   "source": [
    "raw_input.info()"
   ]
  },
  {
   "cell_type": "markdown",
   "metadata": {},
   "source": [
    "# Check for Class Imbalance"
   ]
  },
  {
   "cell_type": "code",
   "execution_count": 6,
   "metadata": {},
   "outputs": [
    {
     "data": {
      "image/png": "[encoded data removed]",
      "text/plain": [
       "<Figure size 432x288 with 1 Axes>"
      ]
     },
     "metadata": {},
     "output_type": "display_data"
    }
   ],
   "source": [
    "level_counts = raw_input.level.value_counts()\n",
    "ax = level_counts.plot(kind='bar', title='Counts per Level')"
   ]
  },
  {
   "cell_type": "markdown",
   "metadata": {},
   "source": [
    "# Relationship between topic_id and level"
   ]
  },
  {
   "cell_type": "code",
   "execution_count": 11,
   "metadata": {},
   "outputs": [
    {
     "data": {
      "image/png": "[encoded data removed]",
      "text/plain": [
       "<Figure size 720x720 with 1 Axes>"
      ]
     },
     "metadata": {},
     "output_type": "display_data"
    }
   ],
   "source": [
    "ax = plt.subplots(1, 1, figsize=(10, 10))\n",
    "ax = sns.boxplot(x='level', y='topic_id', data=raw_input)"
   ]
  },
  {
   "cell_type": "code",
   "execution_count": null,
   "metadata": {},
   "outputs": [],
   "source": [
    "%%time\n",
    "\n",
    "from sklearn.linear_model import LogisticRegression\n",
    "from sklearn.model_selection import cross_val_predict, KFold\n",
    "\n",
    "model = LogisticRegression(penalty='l2', dual=False, tol=0.0001, C=1000)\n",
    "cv = KFold(n_splits=10, shuffle=True, random_state=1234)\n",
    "\n",
    "X = raw_input.loc[:, ['topic_id']].values\n",
    "y = raw_input.loc[:, 'level'].values\n",
    "predictions = cross_val_predict(model, X=X, y=y, cv=cv, verbose=1)"
   ]
  },
  {
   "cell_type": "markdown",
   "metadata": {},
   "source": [
    "# Display Classification Results"
   ]
  },
  {
   "cell_type": "code",
   "execution_count": null,
   "metadata": {},
   "outputs": [],
   "source": [
    "from sklearn.metrics import classification_report\n",
    "\n",
    "report = classification_report(predictions, y)\n",
    "print(report)"
   ]
  },
  {
   "cell_type": "markdown",
   "metadata": {},
   "source": [
    "# Confusion Matrix"
   ]
  },
  {
   "cell_type": "code",
   "execution_count": null,
   "metadata": {},
   "outputs": [],
   "source": [
    "from sklearn.metrics import confusion_matrix\n",
    "\n",
    "level_values = raw_input.loc[:, 'level'].unique()\n",
    "level_values = level_values.sort()\n",
    "cm = confusion_matrix(y_true=y, y_pred=predictions, labels=level_values)\n",
    "\n",
    "fig, ax = plt.subplots(1, 1, figsize=(10, 8))\n",
    "ax = sns.heatmap(cm, annot=True, ax=ax)"
   ]
  },
  {
   "cell_type": "code",
   "execution_count": 22,
   "metadata": {},
   "outputs": [],
   "source": []
  }
 ],
 "metadata": {
  "kernelspec": {
   "display_name": "Python 3",
   "language": "python",
   "name": "python3"
  },
  "language_info": {
   "codemirror_mode": {
    "name": "ipython",
    "version": 3
   },
   "file_extension": ".py",
   "mimetype": "text/x-python",
   "name": "python",
   "nbconvert_exporter": "python",
   "pygments_lexer": "ipython3",
   "version": "3.6.5"
  }
 },
 "nbformat": 4,
 "nbformat_minor": 2
}
