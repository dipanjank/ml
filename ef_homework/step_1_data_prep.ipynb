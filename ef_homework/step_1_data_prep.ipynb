{
 "cells": [
  {
   "cell_type": "markdown",
   "metadata": {},
   "source": [
    "# Pre-processing\n",
    "\n",
    "The XML file has nested `<code>` and `<br>` tags within the `<text>` tag, so ElementTree would not parse the file. The pre-processing below cleans removes the nested tags within the texts."
   ]
  },
  {
   "cell_type": "code",
   "execution_count": 5,
   "metadata": {},
   "outputs": [
    {
     "name": "stdout",
     "output_type": "stream",
     "text": [
      "Wall time: 46.7 s\n"
     ]
    }
   ],
   "source": [
    "%%time\n",
    "\n",
    "# flag to indicate whether we're inside a <text> tag as we iterate over the file line by line\n",
    "in_text = False\n",
    "\n",
    "# Set of tags to remove\n",
    "text_to_remove = set(['<code>', '</code>', '<code/>', '<br>', '<br/>', '</br>'])\n",
    "\n",
    "with open('EFWritingData.xml') as f_in, open('EFWritingData_new.xml', 'w') as f_out:\n",
    "    for line in f_in:\n",
    "        if '<text>' in line:\n",
    "            # We can't handle another <text> tag while we're already inside, so raise an error.\n",
    "            assert not in_text, 'Found nested text tag!'\n",
    "            in_text = True\n",
    "        \n",
    "        if in_text:\n",
    "            for invalid_tag in text_to_remove:\n",
    "                if invalid_tag in line:\n",
    "                    line = line.replace(invalid_tag, '')        \n",
    "        \n",
    "        if '</text>' in line:\n",
    "            in_text = False\n",
    "            \n",
    "        f_out.write(line)    \n"
   ]
  },
  {
   "cell_type": "markdown",
   "metadata": {},
   "source": [
    "# Extract Records from XML"
   ]
  },
  {
   "cell_type": "code",
   "execution_count": 6,
   "metadata": {},
   "outputs": [
    {
     "name": "stdout",
     "output_type": "stream",
     "text": [
      "Wall time: 28.4 s\n"
     ]
    }
   ],
   "source": [
    "%%time\n",
    "\n",
    "import xml.etree.ElementTree as ET\n",
    "root = ET.parse('EFWritingData_new.xml')"
   ]
  },
  {
   "cell_type": "code",
   "execution_count": 15,
   "metadata": {
    "code_folding": []
   },
   "outputs": [],
   "source": [
    "def xml_to_record(node):\n",
    "    \"\"\"Given one <writing> node, return a flat record with all the relevant sub-element and attributes.\"\"\"\n",
    "    \n",
    "    article_id, level, unit = [int(node.attrib[x]) for x in ('id', 'level', 'unit')]\n",
    "    topic = node.find('topic')\n",
    "    topic_id, topic_text = int(topic.attrib['id']), topic.text\n",
    "    grade = int(node.find('grade').text)\n",
    "    text = node.find('text').text.strip()\n",
    "    \n",
    "    return {\n",
    "        'article_id': article_id, \n",
    "        'level'     : level,\n",
    "        'unit'      : unit,\n",
    "        'topic_id'  : topic_id,\n",
    "        'topic_text': topic_text,\n",
    "        'grade'     : grade,\n",
    "        'text'      : text\n",
    "        \n",
    "    }\n",
    "    \n",
    "content_nodes = root.findall('.//writing')\n",
    "input_recs = list(map(xml_to_record, content_nodes))"
   ]
  },
  {
   "cell_type": "markdown",
   "metadata": {},
   "source": [
    "# Save the Records as a Pandas DataFrame"
   ]
  },
  {
   "cell_type": "code",
   "execution_count": 19,
   "metadata": {},
   "outputs": [
    {
     "data": {
      "text/html": [
       "<div>\n",
       "<style scoped>\n",
       "    .dataframe tbody tr th:only-of-type {\n",
       "        vertical-align: middle;\n",
       "    }\n",
       "\n",
       "    .dataframe tbody tr th {\n",
       "        vertical-align: top;\n",
       "    }\n",
       "\n",
       "    .dataframe thead th {\n",
       "        text-align: right;\n",
       "    }\n",
       "</style>\n",
       "<table border=\"1\" class=\"dataframe\">\n",
       "  <thead>\n",
       "    <tr style=\"text-align: right;\">\n",
       "      <th></th>\n",
       "      <th>article_id</th>\n",
       "      <th>grade</th>\n",
       "      <th>level</th>\n",
       "      <th>text</th>\n",
       "      <th>topic_id</th>\n",
       "      <th>topic_text</th>\n",
       "      <th>unit</th>\n",
       "    </tr>\n",
       "  </thead>\n",
       "  <tbody>\n",
       "    <tr>\n",
       "      <th>0</th>\n",
       "      <td>1</td>\n",
       "      <td>90</td>\n",
       "      <td>6</td>\n",
       "      <td>After some time, the affection between them is...</td>\n",
       "      <td>41</td>\n",
       "      <td>Writing a movie plot</td>\n",
       "      <td>1</td>\n",
       "    </tr>\n",
       "    <tr>\n",
       "      <th>1</th>\n",
       "      <td>2</td>\n",
       "      <td>90</td>\n",
       "      <td>6</td>\n",
       "      <td>An e-ticket is a provement that you bought the...</td>\n",
       "      <td>42</td>\n",
       "      <td>Filling in an arrival card</td>\n",
       "      <td>2</td>\n",
       "    </tr>\n",
       "    <tr>\n",
       "      <th>2</th>\n",
       "      <td>3</td>\n",
       "      <td>86</td>\n",
       "      <td>6</td>\n",
       "      <td>From:xxx@1234.com To:Herman xxx@1234.com Date:...</td>\n",
       "      <td>43</td>\n",
       "      <td>Creating an office dress code</td>\n",
       "      <td>3</td>\n",
       "    </tr>\n",
       "    <tr>\n",
       "      <th>3</th>\n",
       "      <td>4</td>\n",
       "      <td>87</td>\n",
       "      <td>1</td>\n",
       "      <td>Hi Anna ,How are you . My name's Jayla . My te...</td>\n",
       "      <td>1</td>\n",
       "      <td>Introducing yourself by email</td>\n",
       "      <td>1</td>\n",
       "    </tr>\n",
       "    <tr>\n",
       "      <th>4</th>\n",
       "      <td>5</td>\n",
       "      <td>95</td>\n",
       "      <td>1</td>\n",
       "      <td>Dear Ms Thomas, There are thirty pens and fift...</td>\n",
       "      <td>2</td>\n",
       "      <td>Taking inventory in the office</td>\n",
       "      <td>2</td>\n",
       "    </tr>\n",
       "  </tbody>\n",
       "</table>\n",
       "</div>"
      ],
      "text/plain": [
       "   article_id  grade  level  \\\n",
       "0           1     90      6   \n",
       "1           2     90      6   \n",
       "2           3     86      6   \n",
       "3           4     87      1   \n",
       "4           5     95      1   \n",
       "\n",
       "                                                text  topic_id  \\\n",
       "0  After some time, the affection between them is...        41   \n",
       "1  An e-ticket is a provement that you bought the...        42   \n",
       "2  From:xxx@1234.com To:Herman xxx@1234.com Date:...        43   \n",
       "3  Hi Anna ,How are you . My name's Jayla . My te...         1   \n",
       "4  Dear Ms Thomas, There are thirty pens and fift...         2   \n",
       "\n",
       "                       topic_text  unit  \n",
       "0            Writing a movie plot     1  \n",
       "1      Filling in an arrival card     2  \n",
       "2   Creating an office dress code     3  \n",
       "3   Introducing yourself by email     1  \n",
       "4  Taking inventory in the office     2  "
      ]
     },
     "execution_count": 19,
     "metadata": {},
     "output_type": "execute_result"
    }
   ],
   "source": [
    "import pandas as pd\n",
    "\n",
    "input_df = pd.DataFrame.from_records(input_recs)\n",
    "input_df.head()"
   ]
  },
  {
   "cell_type": "code",
   "execution_count": 23,
   "metadata": {},
   "outputs": [
    {
     "name": "stdout",
     "output_type": "stream",
     "text": [
      "Wall time: 8.88 s\n"
     ]
    }
   ],
   "source": [
    "%%time\n",
    "\n",
    "input_df.to_pickle('input.pkl')"
   ]
  },
  {
   "cell_type": "code",
   "execution_count": null,
   "metadata": {},
   "outputs": [],
   "source": []
  }
 ],
 "metadata": {
  "kernelspec": {
   "display_name": "Python 3",
   "language": "python",
   "name": "python3"
  },
  "language_info": {
   "codemirror_mode": {
    "name": "ipython",
    "version": 3
   },
   "file_extension": ".py",
   "mimetype": "text/x-python",
   "name": "python",
   "nbconvert_exporter": "python",
   "pygments_lexer": "ipython3",
   "version": "3.6.5"
  }
 },
 "nbformat": 4,
 "nbformat_minor": 2
}
