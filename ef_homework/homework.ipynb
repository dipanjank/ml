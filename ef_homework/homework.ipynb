{
 "cells": [
  {
   "cell_type": "markdown",
   "metadata": {},
   "source": [
    "<h1 align=\"center\">EF Machine Learning Homework</h1>\n",
    "\n",
    "\n",
    "# The Machine Learning Tasks\n",
    "\n",
    "The task(s) is(are) to build a system to classify the Level of writing samples by english language learners, using a data set gathered from users. Each Level is comprised of multiple units. Learners progress in linear order from one Level to the next, although within a Level, they may jump around from one unit to another at will.  Typically one of the last units in a Level is the “written task”, in which the learners write freely on a given topic.\n",
    "\n",
    "# Convert XML to Pandas DataFrame ( <a href=\"https://github.com/dipanjank/ml/blob/master/ef_homework/step_1_data_prep.ipynb\">step_1_data_prep.ipynb</a>)\n",
    "\n",
    "In this step, I converted the raw XML(https://www.dropbox.com/s/rizbq4co1hlfpft/EFWritingData.xml?dl=0) into a pandas DataFrame. Each row in DataFrame is a flat representation of one `<writing>` element, sub-elements and attributes. I excluded the article date in the conversion since I wasn't sure about using it in the classification step.\n",
    "   "
   ]
  },
  {
   "cell_type": "code",
   "execution_count": 3,
   "metadata": {},
   "outputs": [],
   "source": [
    "%matplotlib inline\n",
    "import matplotlib.pyplot as plt\n",
    "plt.style.use('ggplot')\n",
    "\n",
    "import pandas as pd \n",
    "import numpy as np\n",
    "import seaborn as sns"
   ]
  },
  {
   "cell_type": "code",
   "execution_count": 4,
   "metadata": {},
   "outputs": [
    {
     "data": {
      "text/html": [
       "<div>\n",
       "<style scoped>\n",
       "    .dataframe tbody tr th:only-of-type {\n",
       "        vertical-align: middle;\n",
       "    }\n",
       "\n",
       "    .dataframe tbody tr th {\n",
       "        vertical-align: top;\n",
       "    }\n",
       "\n",
       "    .dataframe thead th {\n",
       "        text-align: right;\n",
       "    }\n",
       "</style>\n",
       "<table border=\"1\" class=\"dataframe\">\n",
       "  <thead>\n",
       "    <tr style=\"text-align: right;\">\n",
       "      <th></th>\n",
       "      <th>article_id</th>\n",
       "      <th>grade</th>\n",
       "      <th>level</th>\n",
       "      <th>text</th>\n",
       "      <th>topic_id</th>\n",
       "      <th>topic_text</th>\n",
       "      <th>unit</th>\n",
       "    </tr>\n",
       "  </thead>\n",
       "  <tbody>\n",
       "    <tr>\n",
       "      <th>0</th>\n",
       "      <td>1</td>\n",
       "      <td>90</td>\n",
       "      <td>6</td>\n",
       "      <td>After some time, the affection between them is...</td>\n",
       "      <td>41</td>\n",
       "      <td>Writing a movie plot</td>\n",
       "      <td>1</td>\n",
       "    </tr>\n",
       "    <tr>\n",
       "      <th>1</th>\n",
       "      <td>2</td>\n",
       "      <td>90</td>\n",
       "      <td>6</td>\n",
       "      <td>An e-ticket is a provement that you bought the...</td>\n",
       "      <td>42</td>\n",
       "      <td>Filling in an arrival card</td>\n",
       "      <td>2</td>\n",
       "    </tr>\n",
       "    <tr>\n",
       "      <th>2</th>\n",
       "      <td>3</td>\n",
       "      <td>86</td>\n",
       "      <td>6</td>\n",
       "      <td>From:xxx@1234.com To:Herman xxx@1234.com Date:...</td>\n",
       "      <td>43</td>\n",
       "      <td>Creating an office dress code</td>\n",
       "      <td>3</td>\n",
       "    </tr>\n",
       "    <tr>\n",
       "      <th>3</th>\n",
       "      <td>4</td>\n",
       "      <td>87</td>\n",
       "      <td>1</td>\n",
       "      <td>Hi Anna ,How are you . My name's Jayla . My te...</td>\n",
       "      <td>1</td>\n",
       "      <td>Introducing yourself by email</td>\n",
       "      <td>1</td>\n",
       "    </tr>\n",
       "    <tr>\n",
       "      <th>4</th>\n",
       "      <td>5</td>\n",
       "      <td>95</td>\n",
       "      <td>1</td>\n",
       "      <td>Dear Ms Thomas, There are thirty pens and fift...</td>\n",
       "      <td>2</td>\n",
       "      <td>Taking inventory in the office</td>\n",
       "      <td>2</td>\n",
       "    </tr>\n",
       "  </tbody>\n",
       "</table>\n",
       "</div>"
      ],
      "text/plain": [
       "   article_id  grade  level  \\\n",
       "0           1     90      6   \n",
       "1           2     90      6   \n",
       "2           3     86      6   \n",
       "3           4     87      1   \n",
       "4           5     95      1   \n",
       "\n",
       "                                                text  topic_id  \\\n",
       "0  After some time, the affection between them is...        41   \n",
       "1  An e-ticket is a provement that you bought the...        42   \n",
       "2  From:xxx@1234.com To:Herman xxx@1234.com Date:...        43   \n",
       "3  Hi Anna ,How are you . My name's Jayla . My te...         1   \n",
       "4  Dear Ms Thomas, There are thirty pens and fift...         2   \n",
       "\n",
       "                       topic_text  unit  \n",
       "0            Writing a movie plot     1  \n",
       "1      Filling in an arrival card     2  \n",
       "2   Creating an office dress code     3  \n",
       "3   Introducing yourself by email     1  \n",
       "4  Taking inventory in the office     2  "
      ]
     },
     "execution_count": 4,
     "metadata": {},
     "output_type": "execute_result"
    }
   ],
   "source": [
    "raw_input = pd.read_pickle('input.pkl')\n",
    "raw_input.head()"
   ]
  },
  {
   "cell_type": "markdown",
   "metadata": {},
   "source": [
    "# Analysis of MetaData"
   ]
  },
  {
   "cell_type": "markdown",
   "metadata": {},
   "source": [
    "I first investigated the relationships between the metadata fields and the `level` attribute. The metadata features are:\n",
    "\n",
    "* article_id  \n",
    "* grade         \n",
    "* level         \n",
    "* topic_id      \n",
    "* topic_text    \n",
    "* unit\n",
    "\n",
    "Figure below shows the boxplot of `topic_id` for each distinct value of `level`."
   ]
  },
  {
   "cell_type": "code",
   "execution_count": 5,
   "metadata": {},
   "outputs": [
    {
     "data": {
      "image/png": "[encoded data removed]",
      "text/plain": [
       "<Figure size 864x576 with 1 Axes>"
      ]
     },
     "metadata": {},
     "output_type": "display_data"
    }
   ],
   "source": [
    "ax = plt.subplots(1, 1, figsize=(12, 8))\n",
    "ax = sns.boxplot(x='level', y='topic_id', data=raw_input)"
   ]
  },
  {
   "cell_type": "markdown",
   "metadata": {},
   "source": [
    "Each level belongs to a mutually exclusive set of topic IDs. **We can deterministically figure out the level from the topic_id without using any Machine Learning.** However since this homework is for text classification, I chose to go ahead and build a text classifier without using the `topic_id` or the `topic_text` in the model."
   ]
  },
  {
   "cell_type": "markdown",
   "metadata": {},
   "source": [
    "Figure below shows the boxplots per level for the other two metadata features, `unit` and `grade`. \n",
    "Visually they didn't seem to be good predictors for `level`."
   ]
  },
  {
   "cell_type": "code",
   "execution_count": 9,
   "metadata": {},
   "outputs": [
    {
     "data": {
      "image/png": "[encoded data removed]",
      "text/plain": [
       "<Figure size 1152x288 with 2 Axes>"
      ]
     },
     "metadata": {},
     "output_type": "display_data"
    }
   ],
   "source": [
    "_, ax = plt.subplots(1, 2, figsize=(16, 4))\n",
    "_ = sns.boxplot(x='level', y='grade', data=raw_input, ax=ax[0])\n",
    "_ = sns.boxplot(x='level', y='unit', data=raw_input, ax=ax[1])"
   ]
  },
  {
   "cell_type": "markdown",
   "metadata": {},
   "source": [
    "# Text Classification\n",
    "\n",
    "I used the experience from the metadata analysis to build my working hypothesis for text based classifier: \n",
    "\n",
    "* Each writing sample at a given `level` is about a topic.\n",
    "* The topic uniquely determines the `level`.\n",
    "* Different topics produce different distribution of words."
   ]
  },
  {
   "cell_type": "markdown",
   "metadata": {},
   "source": [
    "## Small Sample Analysis (<a href=\"https://github.com/dipanjank/ml/blob/master/ef_homework/step_2_classification_of_sample_dataset.ipynb\">step_2_classification_of_sample_dataset.ipynb</a>)\n",
    "\n",
    "To test this hypothesis, I took a random sample of 1000 records for each `level` and combined them into a small dataset that I could run experiments on quickly (the full dataset has ~1.2 million records). I converted the text into term frequecy (tf) and inverse document frequency (idf) based features and then used a maximum entropy classifier to maximize the log-likelihood of these features given class label from the training data.\n",
    "  \n",
    "Then I extracted the out-of-sample predictions using 10-fold cross-validation and then generated the precision, recall, f1-score and confusion matrix for the true and predicted labels.\n",
    "\n",
    "The main decision points with tf-idf features are:\n",
    "\n",
    "* Stopword Removal:  I used NLTK's default english language stopwords.\n",
    "* Stemming / lemmatization: I didn't consider stemming.\n",
    "* Removing frequent and infrequent words: These are hyperparameters for the classification problem.\n",
    "\n",
    "I ran the classification pipeline on the sample dataset a few times with and without stopwords, different values for the frequent and infrequent word thresholds and maximum number of features to keep. The main driver of f1-score seemed to be the maximum number of features which also required more time to run. For example, the parameters below:\n",
    "\n",
    "    counter = TfidfVectorizer(\n",
    "            ngram_range=(1, 2), \n",
    "            stop_words=en_stopwords, \n",
    "            max_df=0.4, \n",
    "            min_df=25, \n",
    "            max_features=3000, \n",
    "            sublinear_tf=True\n",
    "    )\n",
    "\n",
    "    scaler = StandardScaler(with_mean=False)\n",
    "    model = LogisticRegression(penalty='l2', max_iter=200, random_state=4321)\n",
    "    pipeline = make_pipeline(counter, scaler, model)\n",
    "    \n",
    "produces the classification result:\n",
    "\n",
    "                   precision    recall  f1-score   support\n",
    "\n",
    "              1       0.90      0.89      0.89      1011\n",
    "              2       0.89      0.88      0.88      1017\n",
    "              3       0.84      0.86      0.85       974\n",
    "              4       0.86      0.88      0.87       980\n",
    "              5       0.86      0.87      0.87       992\n",
    "              6       0.83      0.86      0.85       969\n",
    "              7       0.82      0.82      0.82      1005\n",
    "              8       0.76      0.77      0.77       990\n",
    "              9       0.82      0.81      0.81      1014\n",
    "             10       0.85      0.88      0.86       966\n",
    "             11       0.79      0.78      0.78      1011\n",
    "             12       0.86      0.85      0.86      1021\n",
    "             13       0.86      0.87      0.87       994\n",
    "             14       0.88      0.85      0.86      1031\n",
    "             15       0.81      0.79      0.80      1030\n",
    "             16       0.86      0.87      0.86       995\n",
    "\n",
    "    avg / total       0.84      0.84      0.84     16000\n",
    "\n"
   ]
  },
  {
   "cell_type": "markdown",
   "metadata": {},
   "source": [
    "In order to improve the model, I looked at the misclassified records in my sample dataset. The biggest misclassification occurred between level 7 and 8. The distribution of topics for the 7 <---\\> 8 misclassification is:\n",
    "\n",
    "\n",
    "    topic_id  topic_text                            level  level_predicted    number of misclassifications\n",
    "    50        Planning for the future               7      8                  28\n",
    "    59        Making a 'to do' list of your dreams  8      7                  21\n",
    "    62        Responding to written invitations     8      7                   6\n",
    "    60        Describing a business trip            8      7                   5\n",
    "    63        Congratulating a friend on an award   8      7                   4\n",
    "    52        Writing about a memorable experience  7      8                   4"
   ]
  },
  {
   "cell_type": "markdown",
   "metadata": {},
   "source": [
    "Next I extracted the word count matrices for a subset of these articles, compared them and concluded that binary features indicating presence / absence of rare words could be a better indicator of `level`. This approach improved the composite f1-score to **0.87** to **0.84**."
   ]
  },
  {
   "cell_type": "markdown",
   "metadata": {},
   "source": [
    "## Full Dataset Analysis (<a href=\"https://github.com/dipanjank/ml/blob/master/ef_homework/step_3_classification_of_full_dataset.ipynb\">step_3_classification_of_full_dataset.ipynb</a>\n",
    "\n",
    "### Level Classification\n",
    "\n",
    "Next I tried out the binary feature + maximum entropy classifier model on the entire dataset. This produced a composite f1-score of **0.95**, but the precision on levels 15 and 16 (the levels with the lowest number of samples) were only 65%. This is most likely due to label imbalance. Changing the maximum entropy classifier to account for label imbalance improved the precision on levels 15 and 16 to **75%** and **81%**, respectively.\n",
    "\n",
    "Classification Result:\n",
    "\n",
    "\n",
    "                precision    recall  f1-score   support\n",
    "\n",
    "          1       0.97      0.98      0.98    349517\n",
    "          2       0.96      0.96      0.96    164862\n",
    "          3       0.94      0.93      0.94    111109\n",
    "          4       0.95      0.97      0.96    166967\n",
    "          5       0.94      0.94      0.94     85861\n",
    "          6       0.95      0.94      0.94     53570\n",
    "          7       0.94      0.95      0.95     96648\n",
    "          8       0.90      0.87      0.89     43118\n",
    "          9       0.92      0.90      0.91     29280\n",
    "         10       0.94      0.94      0.94     36505\n",
    "         11       0.88      0.84      0.86     16198\n",
    "         12       0.90      0.87      0.88      9584\n",
    "         13       0.91      0.90      0.90      8988\n",
    "         14       0.84      0.81      0.83      3793\n",
    "         15       0.75      0.73      0.74      2314\n",
    "         16       0.81      0.79      0.80      1995\n",
    "\n",
    "    avg / total       0.95      0.95      0.95   1180309\n",
    "    \n",
    "    \n",
    "### Group Classification\n",
    "    \n",
    "    This is essentially the same classification problem as the level classification but with collapsed categories, so my intuition is that the same feature-classifier combination will work well and should produce slightly better performance. This seems to hold true.\n",
    "    \n",
    "Classification Result:    \n",
    "    \n",
    "                 precision    recall  f1-score   support\n",
    "\n",
    "         A1       0.98      0.99      0.98    623310\n",
    "         A2       0.95      0.96      0.95    306656\n",
    "         B1       0.94      0.94      0.94    169243\n",
    "         B2       0.93      0.90      0.91     63220\n",
    "         C1       0.88      0.82      0.84     15773\n",
    "         C2       0.81      0.75      0.78      2107\n",
    "\n",
    "    avg / total       0.96      0.96      0.96   1180309\n"
   ]
  },
  {
   "cell_type": "markdown",
   "metadata": {},
   "source": []
  }
 ],
 "metadata": {
  "kernelspec": {
   "display_name": "Python 3",
   "language": "python",
   "name": "python3"
  },
  "language_info": {
   "codemirror_mode": {
    "name": "ipython",
    "version": 3
   },
   "file_extension": ".py",
   "mimetype": "text/x-python",
   "name": "python",
   "nbconvert_exporter": "python",
   "pygments_lexer": "ipython3",
   "version": "3.5.5"
  }
 },
 "nbformat": 4,
 "nbformat_minor": 2
}
