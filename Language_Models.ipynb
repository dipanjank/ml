{
 "cells": [
  {
   "cell_type": "markdown",
   "metadata": {
    "deletable": true,
    "editable": true
   },
   "source": [
    "<h1 align=\"center\">Language Models</h1>"
   ]
  },
  {
   "cell_type": "markdown",
   "metadata": {
    "deletable": true,
    "editable": true
   },
   "source": [
    "Before we can do things with words, we need some words. Here we'll use the NLTK library to fetch a commonly used list of text files."
   ]
  },
  {
   "cell_type": "code",
   "execution_count": 1,
   "metadata": {
    "collapsed": false,
    "deletable": true,
    "editable": true
   },
   "outputs": [
    {
     "name": "stdout",
     "output_type": "stream",
     "text": [
      "[nltk_data] Downloading package gutenberg to\n",
      "[nltk_data]     C:\\Users\\Admin\\AppData\\Roaming\\nltk_data...\n",
      "[nltk_data]   Package gutenberg is already up-to-date!\n"
     ]
    },
    {
     "data": {
      "text/plain": [
       "['austen-emma.txt',\n",
       " 'austen-persuasion.txt',\n",
       " 'austen-sense.txt',\n",
       " 'bible-kjv.txt',\n",
       " 'blake-poems.txt',\n",
       " 'bryant-stories.txt',\n",
       " 'burgess-busterbrown.txt',\n",
       " 'carroll-alice.txt',\n",
       " 'chesterton-ball.txt',\n",
       " 'chesterton-brown.txt',\n",
       " 'chesterton-thursday.txt',\n",
       " 'edgeworth-parents.txt',\n",
       " 'melville-moby_dick.txt',\n",
       " 'milton-paradise.txt',\n",
       " 'shakespeare-caesar.txt',\n",
       " 'shakespeare-hamlet.txt',\n",
       " 'shakespeare-macbeth.txt',\n",
       " 'whitman-leaves.txt']"
      ]
     },
     "execution_count": 1,
     "metadata": {},
     "output_type": "execute_result"
    }
   ],
   "source": [
    "import nltk\n",
    "nltk.download('gutenberg')\n",
    "\n",
    "from nltk.corpus import gutenberg\n",
    "gutenberg.fileids()"
   ]
  },
  {
   "cell_type": "code",
   "execution_count": 2,
   "metadata": {
    "collapsed": false,
    "deletable": true,
    "editable": true
   },
   "outputs": [
    {
     "data": {
      "text/plain": [
       "['emma',\n",
       " 'by',\n",
       " 'jane',\n",
       " 'austen',\n",
       " 'volume',\n",
       " 'i',\n",
       " 'chapter',\n",
       " 'i',\n",
       " 'emma',\n",
       " 'woodhouse']"
      ]
     },
     "execution_count": 2,
     "metadata": {},
     "output_type": "execute_result"
    }
   ],
   "source": [
    "import re\n",
    "words = gutenberg.words('austen-emma.txt')\n",
    "\n",
    "# filter out numbers, etc.\n",
    "words = [w.lower() for w in words if re.match('^[a-zA-Z]+$', w)]\n",
    "words[:10]"
   ]
  },
  {
   "cell_type": "markdown",
   "metadata": {
    "deletable": true,
    "editable": true
   },
   "source": [
    "words can also serve as a generative model of text. We know that language is very complicated, but we can create a simplified model of language that captures part of the complexity. In the bag of words model, we ignore the order of words, but maintain their frequency. Think of it this way: take all the words from the text, and throw them into a bag. Shake the bag, and then generating a sentence consists of pulling words out of the bag one at a time. Chances are it won't be grammatical or sensible, but it will have words in roughly the right proportions. \n",
    "\n",
    "Here's a function to sample an n word sentence from a bag of words:"
   ]
  },
  {
   "cell_type": "code",
   "execution_count": 3,
   "metadata": {
    "collapsed": false,
    "deletable": true,
    "editable": true
   },
   "outputs": [
    {
     "data": {
      "text/plain": [
       "['voice',\n",
       " 'interest',\n",
       " 'all',\n",
       " 'goddard',\n",
       " 'so',\n",
       " 'be',\n",
       " 'vain',\n",
       " 'fairfax',\n",
       " 'it',\n",
       " 'plaister']"
      ]
     },
     "execution_count": 3,
     "metadata": {},
     "output_type": "execute_result"
    }
   ],
   "source": [
    "import random\n",
    "\n",
    "def sample(w, n=10):\n",
    "    \"\"\"Sample n words from a list of words, w.\"\"\"\n",
    "    return [random.choice(w) for _ in range(n)]\n",
    "\n",
    "sample(words)"
   ]
  },
  {
   "cell_type": "markdown",
   "metadata": {
    "deletable": true,
    "editable": true
   },
   "source": [
    "## From Bag of Words to Probabilities\n",
    "\n",
    "From the bag of words, we can construct a frequency table:"
   ]
  },
  {
   "cell_type": "code",
   "execution_count": 4,
   "metadata": {
    "collapsed": false,
    "deletable": true,
    "editable": true
   },
   "outputs": [
    {
     "data": {
      "text/plain": [
       "[('to', 5239),\n",
       " ('the', 5201),\n",
       " ('and', 4896),\n",
       " ('of', 4291),\n",
       " ('i', 3178),\n",
       " ('a', 3129),\n",
       " ('it', 2528),\n",
       " ('her', 2469),\n",
       " ('was', 2398),\n",
       " ('she', 2340)]"
      ]
     },
     "execution_count": 4,
     "metadata": {},
     "output_type": "execute_result"
    }
   ],
   "source": [
    "from collections import Counter\n",
    "\n",
    "word_counts = Counter(words)\n",
    "word_counts.most_common(10)"
   ]
  },
  {
   "cell_type": "code",
   "execution_count": 5,
   "metadata": {
    "collapsed": false,
    "deletable": true,
    "editable": true
   },
   "outputs": [
    {
     "data": {
      "text/plain": [
       "7079"
      ]
     },
     "execution_count": 5,
     "metadata": {},
     "output_type": "execute_result"
    }
   ],
   "source": [
    "len(word_counts)"
   ]
  },
  {
   "cell_type": "markdown",
   "metadata": {
    "deletable": true,
    "editable": true
   },
   "source": [
    "And from the frequency table, a probability distribution:"
   ]
  },
  {
   "cell_type": "code",
   "execution_count": 6,
   "metadata": {
    "collapsed": false,
    "deletable": true,
    "editable": true
   },
   "outputs": [
    {
     "data": {
      "text/html": [
       "<div>\n",
       "<table border=\"1\" class=\"dataframe\">\n",
       "  <thead>\n",
       "    <tr style=\"text-align: right;\">\n",
       "      <th></th>\n",
       "      <th>words</th>\n",
       "      <th>probs</th>\n",
       "    </tr>\n",
       "  </thead>\n",
       "  <tbody>\n",
       "    <tr>\n",
       "      <th>858</th>\n",
       "      <td>to</td>\n",
       "      <td>0.032420</td>\n",
       "    </tr>\n",
       "    <tr>\n",
       "      <th>2460</th>\n",
       "      <td>the</td>\n",
       "      <td>0.032184</td>\n",
       "    </tr>\n",
       "    <tr>\n",
       "      <th>4906</th>\n",
       "      <td>and</td>\n",
       "      <td>0.030297</td>\n",
       "    </tr>\n",
       "    <tr>\n",
       "      <th>6104</th>\n",
       "      <td>of</td>\n",
       "      <td>0.026553</td>\n",
       "    </tr>\n",
       "    <tr>\n",
       "      <th>1481</th>\n",
       "      <td>i</td>\n",
       "      <td>0.019666</td>\n",
       "    </tr>\n",
       "  </tbody>\n",
       "</table>\n",
       "</div>"
      ],
      "text/plain": [
       "     words     probs\n",
       "858     to  0.032420\n",
       "2460   the  0.032184\n",
       "4906   and  0.030297\n",
       "6104    of  0.026553\n",
       "1481     i  0.019666"
      ]
     },
     "execution_count": 6,
     "metadata": {},
     "output_type": "execute_result"
    }
   ],
   "source": [
    "import pandas as pd\n",
    "\n",
    "def pdist(counter):\n",
    "    \"\"\"Make a probability distribution from a Counter.\"\"\"\n",
    "    n_words = sum(counter.values())\n",
    "    dist = [(word, count/n_words) for word, count in counter.items()]\n",
    "    return pd.DataFrame(data=dist, columns=['words', 'probs'])\n",
    "\n",
    "word_probs = pdist(word_counts)\n",
    "word_probs.sort_values('probs', ascending=False).head(5)"
   ]
  },
  {
   "cell_type": "code",
   "execution_count": 26,
   "metadata": {
    "collapsed": false,
    "deletable": true,
    "editable": true
   },
   "outputs": [
    {
     "data": {
      "text/plain": [
       "1.0000000000000027"
      ]
     },
     "execution_count": 26,
     "metadata": {},
     "output_type": "execute_result"
    }
   ],
   "source": [
    "word_probs['probs'].sum()"
   ]
  },
  {
   "cell_type": "markdown",
   "metadata": {
    "deletable": true,
    "editable": true
   },
   "source": [
    "Let's consolidate what we've learned so far into a function."
   ]
  },
  {
   "cell_type": "code",
   "execution_count": 8,
   "metadata": {
    "collapsed": false,
    "deletable": true,
    "editable": true
   },
   "outputs": [
    {
     "data": {
      "text/html": [
       "<div>\n",
       "<table border=\"1\" class=\"dataframe\">\n",
       "  <thead>\n",
       "    <tr style=\"text-align: right;\">\n",
       "      <th></th>\n",
       "      <th>words</th>\n",
       "      <th>counts</th>\n",
       "      <th>probs</th>\n",
       "    </tr>\n",
       "  </thead>\n",
       "  <tbody>\n",
       "    <tr>\n",
       "      <th>858</th>\n",
       "      <td>to</td>\n",
       "      <td>5239</td>\n",
       "      <td>0.032420</td>\n",
       "    </tr>\n",
       "    <tr>\n",
       "      <th>2460</th>\n",
       "      <td>the</td>\n",
       "      <td>5201</td>\n",
       "      <td>0.032184</td>\n",
       "    </tr>\n",
       "    <tr>\n",
       "      <th>4906</th>\n",
       "      <td>and</td>\n",
       "      <td>4896</td>\n",
       "      <td>0.030297</td>\n",
       "    </tr>\n",
       "    <tr>\n",
       "      <th>6104</th>\n",
       "      <td>of</td>\n",
       "      <td>4291</td>\n",
       "      <td>0.026553</td>\n",
       "    </tr>\n",
       "    <tr>\n",
       "      <th>1481</th>\n",
       "      <td>i</td>\n",
       "      <td>3178</td>\n",
       "      <td>0.019666</td>\n",
       "    </tr>\n",
       "  </tbody>\n",
       "</table>\n",
       "</div>"
      ],
      "text/plain": [
       "     words  counts     probs\n",
       "858     to    5239  0.032420\n",
       "2460   the    5201  0.032184\n",
       "4906   and    4896  0.030297\n",
       "6104    of    4291  0.026553\n",
       "1481     i    3178  0.019666"
      ]
     },
     "execution_count": 8,
     "metadata": {},
     "output_type": "execute_result"
    }
   ],
   "source": [
    "def words_to_pdist(words):\n",
    "    \"\"\"Make a probability distribution from a list of words.\"\"\"\n",
    "    \n",
    "    wc = Counter(words)\n",
    "    n_words = sum(wc.values())\n",
    "    dist = [(word, count, count/n_words) for word, count in wc.items()]\n",
    "    \n",
    "    return pd.DataFrame(data=dist, columns=['words', 'counts', 'probs'])\n",
    "\n",
    "unigram_probs = words_to_pdist(words)\n",
    "unigram_probs.sort_values('probs', ascending=False).head(5)"
   ]
  },
  {
   "cell_type": "markdown",
   "metadata": {
    "deletable": true,
    "editable": true
   },
   "source": [
    "Using the probability / frequency table above, can we assign a probability to a sentence?\n",
    "\n",
    "## The Bag of Words Model\n",
    "\n",
    "The bag of words model assumes all the words are independent. The the joint probability of a sentence is just the product of the individual probabilities.\n",
    "\n",
    "$P(w_1 \\ldots w_n) = P(w_1) \\times P(w_2) \\times P(w_3) \\ldots  \\times \\ldots P(w_n)$"
   ]
  },
  {
   "cell_type": "code",
   "execution_count": 9,
   "metadata": {
    "collapsed": false,
    "deletable": true,
    "editable": true
   },
   "outputs": [
    {
     "name": "stdout",
     "output_type": "stream",
     "text": [
      "Probability of ['to', 'the', 'end'] is [0.00000031]\n"
     ]
    }
   ],
   "source": [
    "def unigram_model(unigram_probs, sent):\n",
    "    \"\"\"Calculate unigram probability of a string of words, sent.\"\"\"    \n",
    "    idx_uni = unigram_probs.set_index('words')\n",
    "    return idx_uni.loc[sent, 'probs'].prod()\n",
    "\n",
    "sent = ['to', 'the', 'end']\n",
    "p_sent = unigram_model(unigram_probs, sent)\n",
    "\n",
    "print('Probability of %s is [%.8f]' % (sent, p_sent))"
   ]
  },
  {
   "cell_type": "markdown",
   "metadata": {
    "deletable": true,
    "editable": true
   },
   "source": [
    "## The Bigram Model\n",
    "\n",
    "Use the Chain Rule of Probability to break down the full joint distribution\n",
    "\n",
    "$P(w_1 \\ldots w_n) = P(w_1) \\times P(w_2 \\mid w_1) \\times P(w_3 \\mid w_1 w_2) \\ldots  \\times \\ldots P(w_n \\mid w_1 \\ldots w_{n-1})$\n",
    "\n",
    "To make this more useful, we make the Markov assumption that only successive words depend on each other.\n",
    "\n",
    "$P(w_1 \\ldots w_n) = P(w_1) \\times P(w_2 \\mid w_1) \\times P(w_3 \\mid w_2) \\ldots  \\times \\ldots P(w_n \\mid w_{n-1})$"
   ]
  },
  {
   "cell_type": "code",
   "execution_count": 10,
   "metadata": {
    "collapsed": false,
    "deletable": true,
    "editable": true
   },
   "outputs": [
    {
     "data": {
      "text/html": [
       "<div>\n",
       "<table border=\"1\" class=\"dataframe\">\n",
       "  <thead>\n",
       "    <tr style=\"text-align: right;\">\n",
       "      <th></th>\n",
       "      <th>words</th>\n",
       "      <th>counts</th>\n",
       "      <th>probs</th>\n",
       "    </tr>\n",
       "  </thead>\n",
       "  <tbody>\n",
       "    <tr>\n",
       "      <th>10918</th>\n",
       "      <td>(to, be)</td>\n",
       "      <td>607</td>\n",
       "      <td>0.003756</td>\n",
       "    </tr>\n",
       "    <tr>\n",
       "      <th>24842</th>\n",
       "      <td>(of, the)</td>\n",
       "      <td>566</td>\n",
       "      <td>0.003502</td>\n",
       "    </tr>\n",
       "    <tr>\n",
       "      <th>14958</th>\n",
       "      <td>(it, was)</td>\n",
       "      <td>448</td>\n",
       "      <td>0.002772</td>\n",
       "    </tr>\n",
       "    <tr>\n",
       "      <th>19146</th>\n",
       "      <td>(in, the)</td>\n",
       "      <td>446</td>\n",
       "      <td>0.002760</td>\n",
       "    </tr>\n",
       "    <tr>\n",
       "      <th>8780</th>\n",
       "      <td>(i, am)</td>\n",
       "      <td>395</td>\n",
       "      <td>0.002444</td>\n",
       "    </tr>\n",
       "  </tbody>\n",
       "</table>\n",
       "</div>"
      ],
      "text/plain": [
       "           words  counts     probs\n",
       "10918   (to, be)     607  0.003756\n",
       "24842  (of, the)     566  0.003502\n",
       "14958  (it, was)     448  0.002772\n",
       "19146  (in, the)     446  0.002760\n",
       "8780     (i, am)     395  0.002444"
      ]
     },
     "execution_count": 10,
     "metadata": {},
     "output_type": "execute_result"
    }
   ],
   "source": [
    "def bigram_gen(words):\n",
    "    \"\"\"Given a word list, generate successive pairs of words.\"\"\"\n",
    "    for i in range(len(words)-1):\n",
    "        yield tuple(words[i:i+2])\n",
    "\n",
    "bigram_probs = words_to_pdist(bigram_gen(words))\n",
    "bigram_probs.sort_values('probs', ascending=False).head(5)"
   ]
  },
  {
   "cell_type": "markdown",
   "metadata": {
    "deletable": true,
    "editable": true
   },
   "source": [
    "How to calculate $P(w_i \\mid P(w_{i-1})$? This is simply count of the bigram $(w_i-1, w_{i-1})$ divided by the number of bigrams starts with $w_i$, which equals the unigram count of $w_i$."
   ]
  },
  {
   "cell_type": "code",
   "execution_count": 11,
   "metadata": {
    "collapsed": false,
    "deletable": true,
    "editable": true
   },
   "outputs": [
    {
     "name": "stdout",
     "output_type": "stream",
     "text": [
      "P(be | to) is [0.00375621]\n",
      "P(or | be) is [0.00000619]\n",
      "P(not | or) is [0.00006807]\n",
      "P(to | not) is [0.00045792]\n",
      "P(be | to) is [0.00375621]\n"
     ]
    },
    {
     "data": {
      "text/plain": [
       "8.8229838490342123e-20"
      ]
     },
     "execution_count": 11,
     "metadata": {},
     "output_type": "execute_result"
    }
   ],
   "source": [
    "def bigram_model(unigram_probs, bigram_probs, sent):\n",
    "    \"\"\"Calcuate bigram probability of a list of words, sent.\"\"\"\n",
    "    idx_uni = unigram_probs.set_index('words')\n",
    "    idx_bi = bigram_probs.set_index('words')\n",
    "    \n",
    "    p_sent = idx_uni.loc[sent[0], 'probs'] #P(sent[0])\n",
    "    \n",
    "    for w1, w2 in bigram_gen(sent):\n",
    "        p_w1_w2 = idx_bi.loc[[(w1, w2),], 'probs'].values[0]\n",
    "        print('P(%s | %s) is [%.8f]' % (w2, w1, p_w1_w2))\n",
    "        p_sent*= p_w1_w2\n",
    "                         \n",
    "    return p_sent\n",
    "\n",
    "bigram_model(unigram_probs, bigram_probs, ['to', 'be', 'or', 'not', 'to', 'be'])"
   ]
  },
  {
   "cell_type": "markdown",
   "metadata": {
    "deletable": true,
    "editable": true
   },
   "source": [
    "## Missing Words and Smoothing\n",
    "\n",
    "What if our test sentence contains words that we haven't encountered yet? In this case, our model will fail. \n",
    "\n",
    "No matter how big the size of our word database, we can't reliably expect to see all known words beforehand. Our language model needs to able to handle open classes of words: nouns, verbs and adjectives. \n",
    "\n",
    "## Add-one (or Laplace) Smoothing\n",
    "\n",
    "In Add-one smoothing, we assign a small, fixed probability to each unknown word. "
   ]
  },
  {
   "cell_type": "code",
   "execution_count": 12,
   "metadata": {
    "code_folding": [],
    "collapsed": false,
    "deletable": true,
    "editable": true
   },
   "outputs": [],
   "source": [
    "import numpy as np\n",
    "\n",
    "def unigram_model_with_laplace_smoothing(unigram_probs, sent, k=1):\n",
    "    \"\"\"Calculate unigram probability of a string of words, using Laplace Smoothing for unknown words. \n",
    "    Returns log probability.\"\"\"    \n",
    "    idx_uni = unigram_probs.set_index('words')\n",
    "    V = idx_uni.shape[0]\n",
    "    \n",
    "    N = idx_uni.loc[:, 'counts'].sum()\n",
    "        \n",
    "    p_sent = 0.0\n",
    "    \n",
    "    for word in sent:\n",
    "        c_word = idx_uni.loc[word, 'counts'] if word in idx_uni.index else 0                       \n",
    "        p_word = (c_word + k) / (N + k*V)        \n",
    "        print('Word [%s], prob [%.8f]' % (word, p_word))\n",
    "        p_sent += np.log(p_word)\n",
    "            \n",
    "    return p_sent"
   ]
  },
  {
   "cell_type": "code",
   "execution_count": 13,
   "metadata": {
    "collapsed": false,
    "deletable": true,
    "editable": true
   },
   "outputs": [
    {
     "name": "stdout",
     "output_type": "stream",
     "text": [
      "Word [dipanjan], prob [0.00000593]\n",
      "Word [is], prob [0.00735717]\n",
      "Word [boring], prob [0.00000593]\n",
      "Word [us], prob [0.00086555]\n",
      "Word [to], prob [0.03106492]\n",
      "Word [death], prob [0.00006521]\n",
      "Log probability of ['dipanjan', 'is', 'boring', 'us', 'to', 'death'] is [-49.145]\n"
     ]
    }
   ],
   "source": [
    "sent = ['dipanjan', 'is', 'boring', 'us', 'to', 'death']\n",
    "p_sent = unigram_model_with_laplace_smoothing(unigram_probs, sent)\n",
    "print('Log probability of %s is [%.3f]' % (sent, p_sent))ff"
   ]
  },
  {
   "cell_type": "markdown",
   "metadata": {
    "deletable": true,
    "editable": true
   },
   "source": [
    "## Good-Turing Smoothing\n",
    "\n",
    "<table>\n",
    "    <tr>\n",
    "        <td><img src=\"http://history.computer.org/pioneers/images/good.jpg\" /></td>\n",
    "        <td><img src=\"https://encrypted-tbn0.gstatic.com/images?q=tbn:ANd9GcSTeWjVHv453Q-mZEQfOX9D-cOuVL-3M06AZajrM_OSamXvD85W\" /></td>\n",
    "    </tr>\n",
    "</table>\n",
    "      \n",
    "The main drawback of add-one smoothing is that all unknown words are treated equally. Good-Turing smoothing is a way of differentiating between unknowns.\n",
    "\n",
    "To calculate the Good-Turing probability of an n-gram $P(w_i)$, we use the notion of frequency of frequencies ${N_c}$ i.e. ${N_c}$ is the number of n-grams appearing c times in our vocabulary. For example:"
   ]
  },
  {
   "cell_type": "code",
   "execution_count": 14,
   "metadata": {
    "collapsed": false,
    "deletable": true,
    "editable": true
   },
   "outputs": [
    {
     "name": "stdout",
     "output_type": "stream",
     "text": [
      "Sam 3\n",
      "eat 1\n",
      "dont 1\n",
      "am 2\n",
      "I 2\n",
      "fish 1\n"
     ]
    }
   ],
   "source": [
    "counts = Counter('Sam I am I am Sam Sam dont eat fish'.split(' '))\n",
    "for w, c in counts.items():\n",
    "    print(w, c)"
   ]
  },
  {
   "cell_type": "markdown",
   "metadata": {
    "deletable": true,
    "editable": true
   },
   "source": [
    "Based on that vocabulary, $N_1$ = 3, $N_2$ = 2, $N_3$ = 1.\n",
    "\n",
    "The MLE of $P(w_i)$ was $N_{w_i}/N$. To calculate the GT smoothed probability $P(w_i)_{GT}$ of an n-gram:\n",
    "\n",
    "* First calculate $c* = (c+1)\\frac {N_{c+1}} {N_c}$.\n",
    "* Then, $P(w_i)_{GT} = \\frac {c*} {N}$.\n",
    "\n",
    "As an example, let's calculate $P(elephant)_{GT}$. elephant isn't in the vocabulary, so \n",
    "\n",
    "$c*_{elephant} = (0+1) \\frac {N_1} {N_0} = (1*3)/1 = 3$. Thus, $P(elephant)_{GT} = 3/10$.\n",
    "\n",
    "What about $P(am)_{GT}$? \n",
    "\n",
    "$c*_{am} = (2+1) \\frac {N_3} {N_2} = (3*1)/2 = 3/2$. Thus, $P(am)_{GT} = 3/20$. Note that $P(am)_{MLE} = 2/10$ > $P(am)_{GT}$."
   ]
  },
  {
   "cell_type": "code",
   "execution_count": 15,
   "metadata": {
    "collapsed": true,
    "deletable": true,
    "editable": true
   },
   "outputs": [],
   "source": [
    "def unigram_model_with_good_turing_smoothing(unigram_probs, sent, k=1):\n",
    "    \"\"\"Calculate unigram probability of a string of words, using Laplace Smoothing for unknown words. \n",
    "    Returns log probability.\"\"\" \n",
    "    \n",
    "    Ncs = unigram_probs['counts'].value_counts() # frequency of frequencies    \n",
    "    idx_uni = unigram_probs.set_index('words')    \n",
    "     \n",
    "    N = idx_uni.loc[:, 'counts'].sum()\n",
    "        \n",
    "    p_sent = 0.0\n",
    "    \n",
    "    for word in sent:\n",
    "        if word in idx_uni.index:\n",
    "            # c* = (c+1) N_{c+1}/N_c, P(w) = c*/N\n",
    "            c = idx_uni.loc[word, 'counts']\n",
    "            c_star = (c+1) * Ncs[c+1] / Ncs[c]\n",
    "            p_word = c_star / N\n",
    "        else: \n",
    "            # P(w) = N_1/N\n",
    "            p_word = Ncs[1] / N\n",
    "        print('Word [%s], prob [%.8f]' % (word, p_word))\n",
    "        p_sent += np.log(p_word)\n",
    "            \n",
    "    return p_sent"
   ]
  },
  {
   "cell_type": "code",
   "execution_count": 16,
   "metadata": {
    "collapsed": false
   },
   "outputs": [
    {
     "name": "stdout",
     "output_type": "stream",
     "text": [
      "Word [probably], prob [0.00011448]\n",
      "Word [coming], prob [0.00074257]\n",
      "Word [home], prob [0.00081064]\n",
      "\n",
      "Log probability of ['probably', 'coming', 'home'] using GT [-23.398]\n",
      "\n",
      "Word [probably], prob [0.00021935]\n",
      "Word [coming], prob [0.00053356]\n",
      "Word [home], prob [0.00077662]\n",
      "\n",
      "Log probability of ['probably', 'coming', 'home'] using Laplace(1) smoothing [-23.121]\n",
      "\n"
     ]
    }
   ],
   "source": [
    "sent = ['probably', 'coming', 'home']\n",
    "p_sent_gt = unigram_model_with_good_turing_smoothing(unigram_probs, sent)\n",
    "print('\\nLog probability of %s using GT [%.3f]\\n' % (sent, p_sent_gt))\n",
    "\n",
    "p_sent_laplace = unigram_model_with_laplace_smoothing(unigram_probs, sent)\n",
    "print('\\nLog probability of %s using Laplace(1) smoothing [%.3f]\\n' % (sent, p_sent_laplace))"
   ]
  },
  {
   "cell_type": "markdown",
   "metadata": {},
   "source": [
    "## Limitations of Good-Turing Smoothing\n",
    "\n",
    "1. Lower frequencies are noisy."
   ]
  },
  {
   "cell_type": "code",
   "execution_count": 24,
   "metadata": {
    "collapsed": false
   },
   "outputs": [
    {
     "name": "stdout",
     "output_type": "stream",
     "text": [
      "Populating the interactive namespace from numpy and matplotlib\n"
     ]
    },
    {
     "data": {
      "text/plain": [
       "[<matplotlib.text.Text at 0x1dc145a32e8>,\n",
       " <matplotlib.text.Text at 0x1dc1459d2b0>]"
      ]
     },
     "execution_count": 24,
     "metadata": {},
     "output_type": "execute_result"
    },
    {
     "data": {
      "image/png": "[encoded data removed]",
      "text/plain": [
       "<matplotlib.figure.Figure at 0x1dc1454bf98>"
      ]
     },
     "metadata": {},
     "output_type": "display_data"
    }
   ],
   "source": [
    "%pylab inline\n",
    "pylab.style.use('ggplot')\n",
    "\n",
    "unigram_counts = unigram_probs['counts'].value_counts().sort_index()\n",
    "ax = unigram_counts.head(10).plot(kind='bar')\n",
    "ax.set(xlabel='word frequencies', ylabel='number of words with specific frequency')"
   ]
  },
  {
   "cell_type": "markdown",
   "metadata": {},
   "source": [
    "2. Upper frequencies are sparse (i.e.have gaps in them)."
   ]
  },
  {
   "cell_type": "code",
   "execution_count": 28,
   "metadata": {
    "collapsed": false
   },
   "outputs": [
    {
     "data": {
      "text/plain": [
       "[<matplotlib.text.Text at 0x1dc147a7a20>,\n",
       " <matplotlib.text.Text at 0x1dc147863c8>]"
      ]
     },
     "execution_count": 28,
     "metadata": {},
     "output_type": "execute_result"
    },
    {
     "data": {
      "image/png": "[encoded data removed]",
      "text/plain": [
       "<matplotlib.figure.Figure at 0x1dc147514e0>"
      ]
     },
     "metadata": {},
     "output_type": "display_data"
    }
   ],
   "source": [
    "ax = unigram_counts.sort_index().tail(10).plot(kind='barh')\n",
    "ax.set(xlabel='word frequencies', ylabel='number of words with specific frequency')"
   ]
  },
  {
   "cell_type": "markdown",
   "metadata": {},
   "source": [
    "## Further Reading\n",
    "\n",
    "1. Much of this work is based on Peter Norvig's notebook <a href=\"http://nbviewer.ipython.org/url/norvig.com/ipython/How%20to%20Do%20Things%20with%20Words.ipynb\">How to Do Things with Words, or Statistical Natural Language Processing in Python.</a>\n",
    "2. <a href=\"http://www.grsampson.net/AGtf1.html\">Good-Turing frequency estimation without tears by: W. Gale, G. Sampson, Journal of Quantitative Linguistics, Vol. 2 (1995), pp. 217-237</a>"
   ]
  },
  {
   "cell_type": "code",
   "execution_count": null,
   "metadata": {
    "collapsed": true
   },
   "outputs": [],
   "source": [
    "gg"
   ]
  }
 ],
 "metadata": {
  "kernelspec": {
   "display_name": "Python 3",
   "language": "python",
   "name": "python3"
  },
  "language_info": {
   "codemirror_mode": {
    "name": "ipython",
    "version": 3
   },
   "file_extension": ".py",
   "mimetype": "text/x-python",
   "name": "python",
   "nbconvert_exporter": "python",
   "pygments_lexer": "ipython3",
   "version": "3.5.2"
  }
 },
 "nbformat": 4,
 "nbformat_minor": 2
}
